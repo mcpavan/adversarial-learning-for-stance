{
 "cells": [
  {
   "cell_type": "markdown",
   "metadata": {},
   "source": [
    "# Trying to import external embeddings"
   ]
  },
  {
   "cell_type": "code",
   "execution_count": 1,
   "metadata": {
    "ExecuteTime": {
     "end_time": "2022-04-24T21:51:40.195492Z",
     "start_time": "2022-04-24T21:51:39.449119Z"
    }
   },
   "outputs": [],
   "source": [
    "import numpy as np\n",
    "import os\n",
    "import pickle\n",
    "import shutil\n",
    "\n",
    "from tqdm import tqdm_notebook\n",
    "from glob import glob\n",
    "from zipfile import ZipFile\n",
    "from collections import Counter\n",
    "from gensim.models import KeyedVectors\n"
   ]
  },
  {
   "cell_type": "code",
   "execution_count": 2,
   "metadata": {
    "ExecuteTime": {
     "end_time": "2022-04-24T21:51:40.211449Z",
     "start_time": "2022-04-24T21:51:40.196490Z"
    }
   },
   "outputs": [],
   "source": [
    "base_path = \"D:/USP/Mestrado/Stance/checkpoints/embeddings/\"\n",
    "base_prefix = \"NILC\""
   ]
  },
  {
   "cell_type": "code",
   "execution_count": 3,
   "metadata": {
    "ExecuteTime": {
     "end_time": "2022-04-24T21:51:40.227439Z",
     "start_time": "2022-04-24T21:51:40.212484Z"
    }
   },
   "outputs": [
    {
     "data": {
      "text/plain": [
       "['D:/USP/Mestrado/data/embeddings/pre_trained\\\\fast_skip_s300.zip',\n",
       " 'D:/USP/Mestrado/data/embeddings/pre_trained\\\\glove_s100.zip',\n",
       " 'D:/USP/Mestrado/data/embeddings/pre_trained\\\\glove_s1000.zip',\n",
       " 'D:/USP/Mestrado/data/embeddings/pre_trained\\\\glove_s300.zip',\n",
       " 'D:/USP/Mestrado/data/embeddings/pre_trained\\\\glove_s600.zip',\n",
       " 'D:/USP/Mestrado/data/embeddings/pre_trained\\\\w2v_cbow_s100.zip',\n",
       " 'D:/USP/Mestrado/data/embeddings/pre_trained\\\\w2v_cbow_s1000.zip',\n",
       " 'D:/USP/Mestrado/data/embeddings/pre_trained\\\\w2v_cbow_s300.zip',\n",
       " 'D:/USP/Mestrado/data/embeddings/pre_trained\\\\w2v_cbow_s50.zip',\n",
       " 'D:/USP/Mestrado/data/embeddings/pre_trained\\\\w2v_skip_s100.zip',\n",
       " 'D:/USP/Mestrado/data/embeddings/pre_trained\\\\w2v_skip_s1000.zip',\n",
       " 'D:/USP/Mestrado/data/embeddings/pre_trained\\\\w2v_skip_s300.zip',\n",
       " 'D:/USP/Mestrado/data/embeddings/pre_trained\\\\w2v_skip_s50.zip',\n",
       " 'D:/USP/Mestrado/data/embeddings/pre_trained\\\\w2v_skip_s600.zip']"
      ]
     },
     "execution_count": 3,
     "metadata": {},
     "output_type": "execute_result"
    }
   ],
   "source": [
    "paths_list = glob(\"D:/USP/Mestrado/data/embeddings/pre_trained/*\")\n",
    "paths_list"
   ]
  },
  {
   "cell_type": "code",
   "execution_count": 10,
   "metadata": {
    "ExecuteTime": {
     "end_time": "2022-04-24T22:06:09.504955Z",
     "start_time": "2022-04-24T22:06:09.498947Z"
    }
   },
   "outputs": [],
   "source": [
    "paths_list = [\n",
    "    'D:/USP/Mestrado/data/embeddings/pre_trained\\\\fast_skip_s300.zip',\n",
    "    'D:/USP/Mestrado/data/embeddings/pre_trained\\\\glove_s100.zip',\n",
    "    'D:/USP/Mestrado/data/embeddings/pre_trained\\\\glove_s1000.zip',\n",
    "    'D:/USP/Mestrado/data/embeddings/pre_trained\\\\glove_s300.zip',\n",
    "    'D:/USP/Mestrado/data/embeddings/pre_trained\\\\glove_s600.zip',\n",
    "    'D:/USP/Mestrado/data/embeddings/pre_trained\\\\w2v_cbow_s100.zip',\n",
    "    'D:/USP/Mestrado/data/embeddings/pre_trained\\\\w2v_cbow_s1000.zip',\n",
    "    'D:/USP/Mestrado/data/embeddings/pre_trained\\\\w2v_cbow_s300.zip',\n",
    "    'D:/USP/Mestrado/data/embeddings/pre_trained\\\\w2v_cbow_s50.zip',\n",
    "    'D:/USP/Mestrado/data/embeddings/pre_trained\\\\w2v_skip_s100.zip',\n",
    "    'D:/USP/Mestrado/data/embeddings/pre_trained\\\\w2v_skip_s1000.zip',\n",
    "    'D:/USP/Mestrado/data/embeddings/pre_trained\\\\w2v_skip_s300.zip',\n",
    "    'D:/USP/Mestrado/data/embeddings/pre_trained\\\\w2v_skip_s50.zip',\n",
    "    'D:/USP/Mestrado/data/embeddings/pre_trained\\\\w2v_skip_s600.zip'\n",
    "    'D:/USP/Mestrado/data/embeddings/pre_trained\\\\glove_s100.zip',\n",
    "    'D:/USP/Mestrado/data/embeddings/pre_trained\\\\glove_s300.zip',\n",
    "]"
   ]
  },
  {
   "cell_type": "code",
   "execution_count": 11,
   "metadata": {
    "ExecuteTime": {
     "end_time": "2022-04-24T22:06:10.002307Z",
     "start_time": "2022-04-24T22:06:09.979513Z"
    }
   },
   "outputs": [],
   "source": [
    "def extract_zip(file_path):\n",
    "    shutil.rmtree(\"./temp\", ignore_errors=True)\n",
    "    \n",
    "    with ZipFile(file_path, \"r\") as f_:\n",
    "        f_.extractall('./temp')\n",
    "    \n",
    "    return glob(\"./temp/*\")\n",
    "\n",
    "def get_weights_vocab(model):\n",
    "    int_to_vocab = {id_:word for id_,word in enumerate(tqdm_notebook(model.index2word, desc=\"Vocab_to_int\", leave=True))}\n",
    "    cntr = Counter(model.index2word)\n",
    "    weights = np.stack([model.word_vec(word) for word in tqdm_notebook(model.index2word, desc=\"Weights\", leave=True)])\n",
    "    \n",
    "    return weights, int_to_vocab, cntr\n",
    "\n",
    "def save_pickle(weights, int_to_vocab, cntr, base_path, prefix, name=\"\"):\n",
    "    os.makedirs(f\"{base_path}/{prefix}\", exist_ok=True)\n",
    "    \n",
    "    with open(f\"{base_path}/{prefix}/emb_weights.pkl\", \"wb\") as f_:\n",
    "        pickle.dump(weights, f_)\n",
    "    \n",
    "    np.save(f\"{base_path}/{prefix}/{name}.vectorsF\", weights)\n",
    "    \n",
    "    with open(f\"{base_path}/{prefix}/vocab_counter.pkl\", \"wb\") as f_:\n",
    "        pickle.dump({\"int_to_vocab\":int_to_vocab, \"wrd_cnt\":cntr}, f_)\n",
    "    \n",
    "    wrd2idx = {wrd: idx for idx, wrd in int_to_vocab.items()}\n",
    "    with open(f\"{base_path}/{prefix}/{name}.vocabF.pkl\", \"wb\") as f_:\n",
    "        pickle.dump(wrd2idx, f_)\n",
    "\n",
    "def format_ext_emb_data(base_path, base_prefix, paths_list):\n",
    "    for model_path in tqdm_notebook(paths_list):\n",
    "        temp_file_name = extract_zip(model_path)[0]\n",
    "        model = KeyedVectors.load_word2vec_format(temp_file_name)\n",
    "\n",
    "        weights, int_to_vocab, cntr = get_weights_vocab(model)\n",
    "\n",
    "        curr_prefix_ = base_prefix + temp_file_name.split(\"/\")[-1]\n",
    "        name = model_path.split(\"\\\\\")[-1].replace(\".zip\", \"\")\n",
    "        save_pickle(weights, int_to_vocab, cntr, base_path, curr_prefix_, name)\n",
    "    \n",
    "    shutil.rmtree(\"./temp\", ignore_errors=True)"
   ]
  },
  {
   "cell_type": "code",
   "execution_count": 12,
   "metadata": {
    "ExecuteTime": {
     "end_time": "2022-04-24T22:58:52.790239Z",
     "start_time": "2022-04-24T22:06:10.944013Z"
    }
   },
   "outputs": [
    {
     "name": "stderr",
     "output_type": "stream",
     "text": [
      "D:\\Anaconda3\\envs\\stance_tf2\\lib\\site-packages\\ipykernel_launcher.py:32: TqdmDeprecationWarning: This function will be removed in tqdm==5.0.0\n",
      "Please use `tqdm.notebook.tqdm` instead of `tqdm.tqdm_notebook`\n"
     ]
    },
    {
     "data": {
      "application/vnd.jupyter.widget-view+json": {
       "model_id": "e5dc6916103a4af2b6270c8279b20f82",
       "version_major": 2,
       "version_minor": 0
      },
      "text/plain": [
       "  0%|          | 0/1 [00:00<?, ?it/s]"
      ]
     },
     "metadata": {},
     "output_type": "display_data"
    },
    {
     "name": "stderr",
     "output_type": "stream",
     "text": [
      "D:\\Anaconda3\\envs\\stance_tf2\\lib\\site-packages\\ipykernel_launcher.py:10: TqdmDeprecationWarning: This function will be removed in tqdm==5.0.0\n",
      "Please use `tqdm.notebook.tqdm` instead of `tqdm.tqdm_notebook`\n",
      "  # Remove the CWD from sys.path while we load stuff.\n"
     ]
    },
    {
     "data": {
      "application/vnd.jupyter.widget-view+json": {
       "model_id": "de1fee6c3e034b0eb163b682c567461b",
       "version_major": 2,
       "version_minor": 0
      },
      "text/plain": [
       "Vocab_to_int:   0%|          | 0/929605 [00:00<?, ?it/s]"
      ]
     },
     "metadata": {},
     "output_type": "display_data"
    },
    {
     "name": "stderr",
     "output_type": "stream",
     "text": [
      "D:\\Anaconda3\\envs\\stance_tf2\\lib\\site-packages\\ipykernel_launcher.py:12: TqdmDeprecationWarning: This function will be removed in tqdm==5.0.0\n",
      "Please use `tqdm.notebook.tqdm` instead of `tqdm.tqdm_notebook`\n",
      "  if sys.path[0] == '':\n"
     ]
    },
    {
     "data": {
      "application/vnd.jupyter.widget-view+json": {
       "model_id": "d30b7ebd05de4b3e84e20736dcc9c124",
       "version_major": 2,
       "version_minor": 0
      },
      "text/plain": [
       "Weights:   0%|          | 0/929605 [00:00<?, ?it/s]"
      ]
     },
     "metadata": {},
     "output_type": "display_data"
    }
   ],
   "source": [
    "format_ext_emb_data(base_path, base_prefix, paths_list)"
   ]
  },
  {
   "cell_type": "code",
   "execution_count": 9,
   "metadata": {
    "ExecuteTime": {
     "end_time": "2022-04-24T21:55:21.895407Z",
     "start_time": "2022-04-24T21:55:21.882111Z"
    }
   },
   "outputs": [
    {
     "data": {
      "text/plain": [
       "('D:/USP/Mestrado/Stance/checkpoints/embeddings/',\n",
       " 'NILC',\n",
       " ['D:/USP/Mestrado/data/embeddings/pre_trained\\\\glove_s100.zip'])"
      ]
     },
     "execution_count": 9,
     "metadata": {},
     "output_type": "execute_result"
    }
   ],
   "source": [
    "base_path, base_prefix, paths_list"
   ]
  },
  {
   "cell_type": "markdown",
   "metadata": {},
   "source": [
    "---"
   ]
  },
  {
   "cell_type": "code",
   "execution_count": null,
   "metadata": {},
   "outputs": [],
   "source": []
  }
 ],
 "metadata": {
  "kernelspec": {
   "display_name": "Python [conda env:stance_tf2]",
   "language": "python",
   "name": "conda-env-stance_tf2-py"
  },
  "language_info": {
   "codemirror_mode": {
    "name": "ipython",
    "version": 3
   },
   "file_extension": ".py",
   "mimetype": "text/x-python",
   "name": "python",
   "nbconvert_exporter": "python",
   "pygments_lexer": "ipython3",
   "version": "3.7.10"
  },
  "toc": {
   "base_numbering": 1,
   "nav_menu": {},
   "number_sections": true,
   "sideBar": true,
   "skip_h1_title": false,
   "title_cell": "Table of Contents",
   "title_sidebar": "Contents",
   "toc_cell": false,
   "toc_position": {},
   "toc_section_display": true,
   "toc_window_display": true
  },
  "varInspector": {
   "cols": {
    "lenName": 16,
    "lenType": 16,
    "lenVar": 40
   },
   "kernels_config": {
    "python": {
     "delete_cmd_postfix": "",
     "delete_cmd_prefix": "del ",
     "library": "var_list.py",
     "varRefreshCmd": "print(var_dic_list())"
    },
    "r": {
     "delete_cmd_postfix": ") ",
     "delete_cmd_prefix": "rm(",
     "library": "var_list.r",
     "varRefreshCmd": "cat(var_dic_list()) "
    }
   },
   "types_to_exclude": [
    "module",
    "function",
    "builtin_function_or_method",
    "instance",
    "_Feature"
   ],
   "window_display": false
  }
 },
 "nbformat": 4,
 "nbformat_minor": 2
}
