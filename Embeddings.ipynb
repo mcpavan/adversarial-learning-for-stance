{
 "cells": [
  {
   "cell_type": "markdown",
   "metadata": {},
   "source": [
    "# Exploring gensim"
   ]
  },
  {
   "cell_type": "code",
   "execution_count": 1,
   "metadata": {
    "ExecuteTime": {
     "end_time": "2022-04-16T04:21:27.983334Z",
     "start_time": "2022-04-16T04:21:27.261264Z"
    }
   },
   "outputs": [],
   "source": [
    "import shutil\n",
    "\n",
    "from gensim.models import KeyedVectors\n",
    "from glob import glob\n",
    "from zipfile import ZipFile"
   ]
  },
  {
   "cell_type": "code",
   "execution_count": 2,
   "metadata": {
    "ExecuteTime": {
     "end_time": "2022-04-16T04:21:28.138778Z",
     "start_time": "2022-04-16T04:21:28.123867Z"
    }
   },
   "outputs": [],
   "source": [
    "base_path = \"D:/USP/Mestrado/Stance/checkpoints/embeddings/\"\n",
    "base_prefix = \"NILC\""
   ]
  },
  {
   "cell_type": "code",
   "execution_count": 3,
   "metadata": {
    "ExecuteTime": {
     "end_time": "2022-04-16T04:21:30.522551Z",
     "start_time": "2022-04-16T04:21:30.509242Z"
    }
   },
   "outputs": [
    {
     "data": {
      "text/plain": [
       "['D:/USP/Mestrado/data/embeddings/pre_trained\\\\fast_skip_s300.zip',\n",
       " 'D:/USP/Mestrado/data/embeddings/pre_trained\\\\glove_s100.zip',\n",
       " 'D:/USP/Mestrado/data/embeddings/pre_trained\\\\glove_s1000.zip',\n",
       " 'D:/USP/Mestrado/data/embeddings/pre_trained\\\\glove_s300.zip',\n",
       " 'D:/USP/Mestrado/data/embeddings/pre_trained\\\\glove_s600.zip',\n",
       " 'D:/USP/Mestrado/data/embeddings/pre_trained\\\\w2v_cbow_s100.zip',\n",
       " 'D:/USP/Mestrado/data/embeddings/pre_trained\\\\w2v_cbow_s1000.zip',\n",
       " 'D:/USP/Mestrado/data/embeddings/pre_trained\\\\w2v_cbow_s300.zip',\n",
       " 'D:/USP/Mestrado/data/embeddings/pre_trained\\\\w2v_cbow_s50.zip',\n",
       " 'D:/USP/Mestrado/data/embeddings/pre_trained\\\\w2v_skip_s100.zip',\n",
       " 'D:/USP/Mestrado/data/embeddings/pre_trained\\\\w2v_skip_s1000.zip',\n",
       " 'D:/USP/Mestrado/data/embeddings/pre_trained\\\\w2v_skip_s300.zip',\n",
       " 'D:/USP/Mestrado/data/embeddings/pre_trained\\\\w2v_skip_s50.zip',\n",
       " 'D:/USP/Mestrado/data/embeddings/pre_trained\\\\w2v_skip_s600.zip']"
      ]
     },
     "execution_count": 3,
     "metadata": {},
     "output_type": "execute_result"
    }
   ],
   "source": [
    "paths_list = glob(\"D:/USP/Mestrado/data/embeddings/pre_trained/*\")\n",
    "paths_list"
   ]
  },
  {
   "cell_type": "code",
   "execution_count": 4,
   "metadata": {
    "ExecuteTime": {
     "end_time": "2022-04-16T04:21:31.546194Z",
     "start_time": "2022-04-16T04:21:31.528263Z"
    }
   },
   "outputs": [],
   "source": [
    "def extract_zip(file_path):\n",
    "    shutil.rmtree(\"./temp\", ignore_errors=True)\n",
    "    \n",
    "    with ZipFile(file_path, \"r\") as f_:\n",
    "        f_.extractall('./temp')\n",
    "    \n",
    "    return glob(\"./temp/*\")"
   ]
  },
  {
   "cell_type": "code",
   "execution_count": 5,
   "metadata": {
    "ExecuteTime": {
     "end_time": "2022-04-16T04:21:41.440901Z",
     "start_time": "2022-04-16T04:21:33.258263Z"
    }
   },
   "outputs": [
    {
     "data": {
      "text/plain": [
       "['./temp\\\\glove_s100.txt']"
      ]
     },
     "execution_count": 5,
     "metadata": {},
     "output_type": "execute_result"
    }
   ],
   "source": [
    "# extract_zip(paths_list[0])\n",
    "\n",
    "extract_zip('D:/USP/Mestrado/data/embeddings/pre_trained\\\\glove_s100.zip')"
   ]
  },
  {
   "cell_type": "code",
   "execution_count": 6,
   "metadata": {
    "ExecuteTime": {
     "end_time": "2022-04-16T04:22:58.045211Z",
     "start_time": "2022-04-16T04:21:41.442896Z"
    }
   },
   "outputs": [],
   "source": [
    "model = KeyedVectors.load_word2vec_format('./temp\\\\glove_s100.txt')"
   ]
  },
  {
   "cell_type": "code",
   "execution_count": 12,
   "metadata": {
    "ExecuteTime": {
     "end_time": "2021-06-14T01:14:09.093565Z",
     "start_time": "2021-06-14T01:14:09.084612Z"
    }
   },
   "outputs": [
    {
     "data": {
      "text/plain": [
       "<gensim.models.keyedvectors.Word2VecKeyedVectors at 0x220fd1db088>"
      ]
     },
     "execution_count": 12,
     "metadata": {},
     "output_type": "execute_result"
    }
   ],
   "source": [
    "# model.get_keras_embedding()"
   ]
  },
  {
   "cell_type": "code",
   "execution_count": 19,
   "metadata": {
    "ExecuteTime": {
     "end_time": "2021-06-14T01:19:46.299074Z",
     "start_time": "2021-06-14T01:19:46.280125Z"
    }
   },
   "outputs": [
    {
     "ename": "TypeError",
     "evalue": "get_vector() missing 1 required positional argument: 'word'",
     "output_type": "error",
     "traceback": [
      "\u001b[1;31m---------------------------------------------------------------------------\u001b[0m",
      "\u001b[1;31mTypeError\u001b[0m                                 Traceback (most recent call last)",
      "\u001b[1;32m<ipython-input-19-d918a906008b>\u001b[0m in \u001b[0;36m<module>\u001b[1;34m\u001b[0m\n\u001b[1;32m----> 1\u001b[1;33m \u001b[0mmodel\u001b[0m\u001b[1;33m.\u001b[0m\u001b[0mget_vector\u001b[0m\u001b[1;33m(\u001b[0m\u001b[1;33m)\u001b[0m\u001b[1;33m\u001b[0m\u001b[1;33m\u001b[0m\u001b[0m\n\u001b[0m",
      "\u001b[1;31mTypeError\u001b[0m: get_vector() missing 1 required positional argument: 'word'"
     ]
    }
   ],
   "source": [
    "model.get_vector()"
   ]
  },
  {
   "cell_type": "code",
   "execution_count": 7,
   "metadata": {
    "ExecuteTime": {
     "end_time": "2022-04-16T04:26:35.451260Z",
     "start_time": "2022-04-16T04:26:35.438287Z"
    }
   },
   "outputs": [
    {
     "data": {
      "text/plain": [
       "['../zero_shot_VAST/adversarial-learning-for-stance/src/data/UStanceBR\\\\r2_bo_train_statements.csv',\n",
       " '../zero_shot_VAST/adversarial-learning-for-stance/src/data/UStanceBR\\\\r2_cl_train_statements.csv',\n",
       " '../zero_shot_VAST/adversarial-learning-for-stance/src/data/UStanceBR\\\\r2_co_train_statements.csv',\n",
       " '../zero_shot_VAST/adversarial-learning-for-stance/src/data/UStanceBR\\\\r2_gl_train_statements.csv',\n",
       " '../zero_shot_VAST/adversarial-learning-for-stance/src/data/UStanceBR\\\\r2_ig_train_statements.csv',\n",
       " '../zero_shot_VAST/adversarial-learning-for-stance/src/data/UStanceBR\\\\r2_lu_train_statements.csv']"
      ]
     },
     "execution_count": 7,
     "metadata": {},
     "output_type": "execute_result"
    }
   ],
   "source": [
    "glob(\"../zero_shot_VAST/adversarial-learning-for-stance/src/data/UStanceBR/*train_statements.csv\")"
   ]
  },
  {
   "cell_type": "code",
   "execution_count": null,
   "metadata": {
    "ExecuteTime": {
     "start_time": "2022-04-16T04:39:11.724Z"
    }
   },
   "outputs": [],
   "source": [
    "import numpy as np\n",
    "\n",
    "word2index = {\n",
    "    wrd: model.vocab[wrd].index for wrd in model.vocab\n",
    "}\n",
    "\n",
    "word2vec_list = np.empty([0])\n",
    "for wrd in model.vocab:\n",
    "    word2vec_list = np.append(word2vec_list, model.get_vector(wrd))"
   ]
  },
  {
   "cell_type": "code",
   "execution_count": null,
   "metadata": {
    "ExecuteTime": {
     "start_time": "2022-04-16T04:39:24.215Z"
    }
   },
   "outputs": [],
   "source": [
    "word2vec_list"
   ]
  },
  {
   "cell_type": "markdown",
   "metadata": {},
   "source": [
    "# Trying to import external embeddings"
   ]
  },
  {
   "cell_type": "code",
   "execution_count": 1,
   "metadata": {
    "ExecuteTime": {
     "end_time": "2022-04-16T04:49:57.578339Z",
     "start_time": "2022-04-16T04:49:56.853965Z"
    }
   },
   "outputs": [],
   "source": [
    "import numpy as np\n",
    "import os\n",
    "import pickle\n",
    "import shutil\n",
    "\n",
    "from tqdm import tqdm_notebook\n",
    "from glob import glob\n",
    "from zipfile import ZipFile\n",
    "from collections import Counter\n",
    "from gensim.models import KeyedVectors\n"
   ]
  },
  {
   "cell_type": "code",
   "execution_count": 2,
   "metadata": {
    "ExecuteTime": {
     "end_time": "2022-04-16T04:49:58.169544Z",
     "start_time": "2022-04-16T04:49:58.162563Z"
    }
   },
   "outputs": [],
   "source": [
    "base_path = \"D:/USP/Mestrado/Stance/checkpoints/embeddings/\"\n",
    "base_prefix = \"NILC\""
   ]
  },
  {
   "cell_type": "code",
   "execution_count": 3,
   "metadata": {
    "ExecuteTime": {
     "end_time": "2022-04-16T04:49:58.836860Z",
     "start_time": "2022-04-16T04:49:58.828851Z"
    }
   },
   "outputs": [
    {
     "data": {
      "text/plain": [
       "['D:/USP/Mestrado/data/embeddings/pre_trained\\\\fast_skip_s300.zip',\n",
       " 'D:/USP/Mestrado/data/embeddings/pre_trained\\\\glove_s100.zip',\n",
       " 'D:/USP/Mestrado/data/embeddings/pre_trained\\\\glove_s1000.zip',\n",
       " 'D:/USP/Mestrado/data/embeddings/pre_trained\\\\glove_s300.zip',\n",
       " 'D:/USP/Mestrado/data/embeddings/pre_trained\\\\glove_s600.zip',\n",
       " 'D:/USP/Mestrado/data/embeddings/pre_trained\\\\w2v_cbow_s100.zip',\n",
       " 'D:/USP/Mestrado/data/embeddings/pre_trained\\\\w2v_cbow_s1000.zip',\n",
       " 'D:/USP/Mestrado/data/embeddings/pre_trained\\\\w2v_cbow_s300.zip',\n",
       " 'D:/USP/Mestrado/data/embeddings/pre_trained\\\\w2v_cbow_s50.zip',\n",
       " 'D:/USP/Mestrado/data/embeddings/pre_trained\\\\w2v_skip_s100.zip',\n",
       " 'D:/USP/Mestrado/data/embeddings/pre_trained\\\\w2v_skip_s1000.zip',\n",
       " 'D:/USP/Mestrado/data/embeddings/pre_trained\\\\w2v_skip_s300.zip',\n",
       " 'D:/USP/Mestrado/data/embeddings/pre_trained\\\\w2v_skip_s50.zip',\n",
       " 'D:/USP/Mestrado/data/embeddings/pre_trained\\\\w2v_skip_s600.zip']"
      ]
     },
     "execution_count": 3,
     "metadata": {},
     "output_type": "execute_result"
    }
   ],
   "source": [
    "paths_list = glob(\"D:/USP/Mestrado/data/embeddings/pre_trained/*\")\n",
    "paths_list"
   ]
  },
  {
   "cell_type": "code",
   "execution_count": 4,
   "metadata": {
    "ExecuteTime": {
     "end_time": "2022-04-16T04:50:13.966511Z",
     "start_time": "2022-04-16T04:50:13.950951Z"
    }
   },
   "outputs": [],
   "source": [
    "paths_list = ['D:/USP/Mestrado/data/embeddings/pre_trained\\\\glove_s100.zip']"
   ]
  },
  {
   "cell_type": "code",
   "execution_count": 15,
   "metadata": {
    "ExecuteTime": {
     "end_time": "2022-04-16T05:02:41.741648Z",
     "start_time": "2022-04-16T05:02:41.725691Z"
    }
   },
   "outputs": [],
   "source": [
    "def extract_zip(file_path):\n",
    "    shutil.rmtree(\"./temp\", ignore_errors=True)\n",
    "    \n",
    "    with ZipFile(file_path, \"r\") as f_:\n",
    "        f_.extractall('./temp')\n",
    "    \n",
    "    return glob(\"./temp/*\")\n",
    "\n",
    "def get_weights_vocab(model):\n",
    "    int_to_vocab = {id_:word for id_,word in enumerate(tqdm_notebook(model.index2word, desc=\"Vocab_to_int\", leave=True))}\n",
    "    cntr = Counter(model.index2word)\n",
    "    weights = np.stack([model.word_vec(word) for word in tqdm_notebook(model.index2word, desc=\"Weights\", leave=True)])\n",
    "    \n",
    "    return weights, int_to_vocab, cntr\n",
    "\n",
    "def save_pickle(weights, int_to_vocab, cntr, base_path, prefix):\n",
    "    os.makedirs(f\"{base_path}/{prefix}\", exist_ok=True)\n",
    "    \n",
    "    pickle.dump(weights, open(f\"{base_path}/{prefix}/emb_weights.pkl\", \"wb\"))\n",
    "    np.save(f\"{base_path}/{prefix}/emb_weights.pkl\", weights)\n",
    "    pickle.dump({\"int_to_vocab\":int_to_vocab, \"wrd_cnt\":cntr}, open(f\"{base_path}/{prefix}/vocab_counter.pkl\", \"wb\"))\n",
    "\n",
    "def format_ext_emb_data(base_path, base_prefix, paths_list):\n",
    "    for model_path in tqdm_notebook(paths_list):\n",
    "        temp_file_name = extract_zip(model_path)[0]\n",
    "        model = KeyedVectors.load_word2vec_format(temp_file_name)\n",
    "\n",
    "        weights, int_to_vocab, cntr = get_weights_vocab(model)\n",
    "\n",
    "        curr_prefix_ = base_prefix + temp_file_name.split(\"/\")[-1]\n",
    "        save_pickle(weights, int_to_vocab, cntr, base_path, curr_prefix_)\n",
    "    \n",
    "    shutil.rmtree(\"./temp\", ignore_errors=True)"
   ]
  },
  {
   "cell_type": "code",
   "execution_count": 16,
   "metadata": {
    "ExecuteTime": {
     "end_time": "2022-04-16T05:04:14.274519Z",
     "start_time": "2022-04-16T05:02:43.200063Z"
    }
   },
   "outputs": [
    {
     "name": "stderr",
     "output_type": "stream",
     "text": [
      "D:\\Anaconda3\\envs\\stance_tf2\\lib\\site-packages\\ipykernel_launcher.py:24: TqdmDeprecationWarning: This function will be removed in tqdm==5.0.0\n",
      "Please use `tqdm.notebook.tqdm` instead of `tqdm.tqdm_notebook`\n"
     ]
    },
    {
     "data": {
      "application/vnd.jupyter.widget-view+json": {
       "model_id": "db77d21dabbc4390b855f0defe846058",
       "version_major": 2,
       "version_minor": 0
      },
      "text/plain": [
       "  0%|          | 0/1 [00:00<?, ?it/s]"
      ]
     },
     "metadata": {},
     "output_type": "display_data"
    },
    {
     "name": "stderr",
     "output_type": "stream",
     "text": [
      "D:\\Anaconda3\\envs\\stance_tf2\\lib\\site-packages\\ipykernel_launcher.py:10: TqdmDeprecationWarning: This function will be removed in tqdm==5.0.0\n",
      "Please use `tqdm.notebook.tqdm` instead of `tqdm.tqdm_notebook`\n",
      "  # Remove the CWD from sys.path while we load stuff.\n"
     ]
    },
    {
     "data": {
      "application/vnd.jupyter.widget-view+json": {
       "model_id": "ec2825618cf24e7e83eefa263c2d3174",
       "version_major": 2,
       "version_minor": 0
      },
      "text/plain": [
       "Vocab_to_int:   0%|          | 0/929605 [00:00<?, ?it/s]"
      ]
     },
     "metadata": {},
     "output_type": "display_data"
    },
    {
     "name": "stderr",
     "output_type": "stream",
     "text": [
      "D:\\Anaconda3\\envs\\stance_tf2\\lib\\site-packages\\ipykernel_launcher.py:12: TqdmDeprecationWarning: This function will be removed in tqdm==5.0.0\n",
      "Please use `tqdm.notebook.tqdm` instead of `tqdm.tqdm_notebook`\n",
      "  if sys.path[0] == '':\n"
     ]
    },
    {
     "data": {
      "application/vnd.jupyter.widget-view+json": {
       "model_id": "6e9d80b693f84e32a8173fb257003ab6",
       "version_major": 2,
       "version_minor": 0
      },
      "text/plain": [
       "Weights:   0%|          | 0/929605 [00:00<?, ?it/s]"
      ]
     },
     "metadata": {},
     "output_type": "display_data"
    }
   ],
   "source": [
    "format_ext_emb_data(base_path, base_prefix, paths_list)"
   ]
  },
  {
   "cell_type": "code",
   "execution_count": 7,
   "metadata": {
    "ExecuteTime": {
     "end_time": "2022-04-16T04:53:04.884567Z",
     "start_time": "2022-04-16T04:53:04.879582Z"
    }
   },
   "outputs": [
    {
     "data": {
      "text/plain": [
       "('D:/USP/Mestrado/Stance/checkpoints/embeddings/',\n",
       " 'NILC',\n",
       " ['D:/USP/Mestrado/data/embeddings/pre_trained\\\\glove_s100.zip'])"
      ]
     },
     "execution_count": 7,
     "metadata": {},
     "output_type": "execute_result"
    }
   ],
   "source": [
    "base_path, base_prefix, paths_list"
   ]
  },
  {
   "cell_type": "code",
   "execution_count": null,
   "metadata": {},
   "outputs": [],
   "source": []
  },
  {
   "cell_type": "code",
   "execution_count": null,
   "metadata": {},
   "outputs": [],
   "source": []
  },
  {
   "cell_type": "code",
   "execution_count": null,
   "metadata": {},
   "outputs": [],
   "source": []
  },
  {
   "cell_type": "markdown",
   "metadata": {},
   "source": [
    "---"
   ]
  },
  {
   "cell_type": "markdown",
   "metadata": {},
   "source": [
    "---"
   ]
  },
  {
   "cell_type": "markdown",
   "metadata": {},
   "source": [
    "# Creating my own embeddings"
   ]
  },
  {
   "cell_type": "code",
   "execution_count": 1,
   "metadata": {
    "ExecuteTime": {
     "end_time": "2020-05-11T03:57:21.169862Z",
     "start_time": "2020-05-11T03:57:19.970015Z"
    }
   },
   "outputs": [],
   "source": [
    "%load_ext autoreload\n",
    "%autoreload 2\n",
    "import pandas as pd\n",
    "from tqdm import tqdm_notebook\n",
    "from py_util.embeddings_preprocessing import preprocess_text_w2v\n",
    "\n",
    "import os\n",
    "import pickle"
   ]
  },
  {
   "cell_type": "markdown",
   "metadata": {},
   "source": [
    "### Creating dataset"
   ]
  },
  {
   "cell_type": "code",
   "execution_count": null,
   "metadata": {
    "ExecuteTime": {
     "start_time": "2020-05-07T04:57:59.310Z"
    }
   },
   "outputs": [],
   "source": [
    "df_news = pd.read_csv(\"../../data/news/Folha/news-of-the-site-folhauol/articles.csv\")"
   ]
  },
  {
   "cell_type": "code",
   "execution_count": 3,
   "metadata": {
    "ExecuteTime": {
     "end_time": "2020-05-07T03:52:52.420571Z",
     "start_time": "2020-05-07T03:52:51.922461Z"
    },
    "scrolled": true
   },
   "outputs": [
    {
     "data": {
      "application/vnd.jupyter.widget-view+json": {
       "model_id": "80a2b8537ddc4230a859d0c60e47a988",
       "version_major": 2,
       "version_minor": 0
      },
      "text/plain": [
       "HBox(children=(IntProgress(value=0, max=167053), HTML(value='')))"
      ]
     },
     "metadata": {},
     "output_type": "display_data"
    },
    {
     "name": "stdout",
     "output_type": "stream",
     "text": [
      "\n"
     ]
    },
    {
     "data": {
      "application/vnd.jupyter.widget-view+json": {
       "model_id": "3b98e1f3b61242ae9b0bc70df45a3c7c",
       "version_major": 2,
       "version_minor": 0
      },
      "text/plain": [
       "HBox(children=(IntProgress(value=0, max=167053), HTML(value='')))"
      ]
     },
     "metadata": {},
     "output_type": "display_data"
    },
    {
     "name": "stdout",
     "output_type": "stream",
     "text": [
      "\n",
      "341173\n"
     ]
    }
   ],
   "source": [
    "list_news = []\n",
    "for title in tqdm_notebook(df_news[\"title\"].values):\n",
    "    if title == title:\n",
    "        list_news += title.split(\"\\n\")\n",
    "    \n",
    "for news in tqdm_notebook(df_news[\"text\"].values):\n",
    "    if news == news:\n",
    "        list_news += news.split(\"\\n\")\n",
    "        \n",
    "print(len(list_news))"
   ]
  },
  {
   "cell_type": "code",
   "execution_count": 7,
   "metadata": {
    "ExecuteTime": {
     "end_time": "2020-05-07T04:01:07.076022Z",
     "start_time": "2020-05-07T03:53:36.895981Z"
    }
   },
   "outputs": [
    {
     "data": {
      "application/vnd.jupyter.widget-view+json": {
       "model_id": "",
       "version_major": 2,
       "version_minor": 0
      },
      "text/plain": [
       "HBox(children=(IntProgress(value=0, description='Cleaning text', max=341173, style=ProgressStyle(description_w…"
      ]
     },
     "metadata": {},
     "output_type": "display_data"
    },
    {
     "name": "stdout",
     "output_type": "stream",
     "text": [
      "\r"
     ]
    },
    {
     "data": {
      "application/vnd.jupyter.widget-view+json": {
       "model_id": "",
       "version_major": 2,
       "version_minor": 0
      },
      "text/plain": [
       "HBox(children=(IntProgress(value=0, description='Tokeninzing sentences', max=341173, style=ProgressStyle(descr…"
      ]
     },
     "metadata": {},
     "output_type": "display_data"
    },
    {
     "name": "stdout",
     "output_type": "stream",
     "text": [
      "\r"
     ]
    },
    {
     "data": {
      "application/vnd.jupyter.widget-view+json": {
       "model_id": "",
       "version_major": 2,
       "version_minor": 0
      },
      "text/plain": [
       "HBox(children=(IntProgress(value=0, description='Tokenizing words', max=3866445, style=ProgressStyle(descripti…"
      ]
     },
     "metadata": {},
     "output_type": "display_data"
    },
    {
     "name": "stdout",
     "output_type": "stream",
     "text": [
      "\r"
     ]
    },
    {
     "data": {
      "application/vnd.jupyter.widget-view+json": {
       "model_id": "",
       "version_major": 2,
       "version_minor": 0
      },
      "text/plain": [
       "HBox(children=(IntProgress(value=0, description='Gerating token list', max=3866445, style=ProgressStyle(descri…"
      ]
     },
     "metadata": {},
     "output_type": "display_data"
    },
    {
     "name": "stdout",
     "output_type": "stream",
     "text": [
      "\r"
     ]
    },
    {
     "data": {
      "application/vnd.jupyter.widget-view+json": {
       "model_id": "",
       "version_major": 2,
       "version_minor": 0
      },
      "text/plain": [
       "HBox(children=(IntProgress(value=0, description='Subsampling and converting', max=3866445, style=ProgressStyle…"
      ]
     },
     "metadata": {},
     "output_type": "display_data"
    },
    {
     "name": "stdout",
     "output_type": "stream",
     "text": [
      "\r"
     ]
    },
    {
     "data": {
      "application/vnd.jupyter.widget-view+json": {
       "model_id": "19f61ecffc34444788e55d074033738f",
       "version_major": 2,
       "version_minor": 0
      },
      "text/plain": [
       "HBox(children=(IntProgress(value=0, description='Generating pairs', max=3866445, style=ProgressStyle(descripti…"
      ]
     },
     "metadata": {},
     "output_type": "display_data"
    },
    {
     "name": "stdout",
     "output_type": "stream",
     "text": [
      "\n",
      "91095647\n"
     ]
    }
   ],
   "source": [
    "return_dict = preprocess_text_w2v(list_news)\n",
    "\n",
    "vocab_to_int = return_dict.get(\"vocab_to_int\")\n",
    "int_to_vocab = return_dict.get(\"int_to_vocab\")\n",
    "wrd_cnt = return_dict.get(\"wrd_cnt\")\n",
    "x = return_dict.get(\"x\")\n",
    "y = return_dict.get(\"y\")\n",
    "\n",
    "print(len(x))"
   ]
  },
  {
   "cell_type": "markdown",
   "metadata": {},
   "source": [
    "##### Saving the final pairs of data for skip-gram training (word, target) "
   ]
  },
  {
   "cell_type": "code",
   "execution_count": 35,
   "metadata": {
    "ExecuteTime": {
     "end_time": "2020-05-07T04:19:04.322553Z",
     "start_time": "2020-05-07T04:17:21.721218Z"
    }
   },
   "outputs": [],
   "source": [
    "os.makedirs(\"../../data/embeddings/\", exist_ok=True)\n",
    "\n",
    "with open(\"../../data/embeddings/skip_gram_input.csv\", mode=\"w\") as f_:\n",
    "    f_.write(\"word,target\\n\")\n",
    "    for word, target in zip(x, y):\n",
    "        f_.write(f\"{word}, {target}\\n\")\n",
    "    f_.flush()"
   ]
  },
  {
   "cell_type": "code",
   "execution_count": 15,
   "metadata": {
    "ExecuteTime": {
     "end_time": "2020-05-07T04:04:20.360959Z",
     "start_time": "2020-05-07T04:04:19.945069Z"
    }
   },
   "outputs": [],
   "source": [
    "pickle_dict = {\"int_to_vocab\": int_to_vocab, \"wrd_cnt\": wrd_cnt}\n",
    "\n",
    "os.makedirs(\"../checkpoints/embeddings/w2v_skipgram/\", exist_ok=True)\n",
    "pickle.dump(pickle_dict, open(\"../checkpoints/embeddings/w2v_skipgram/vocab_counter_skip_gram.pkl\", \"wb\"))"
   ]
  },
  {
   "cell_type": "markdown",
   "metadata": {},
   "source": [
    "---"
   ]
  },
  {
   "cell_type": "markdown",
   "metadata": {},
   "source": [
    "### Creating the network to train the skip-gram model"
   ]
  },
  {
   "cell_type": "code",
   "execution_count": 2,
   "metadata": {
    "ExecuteTime": {
     "end_time": "2020-05-07T04:58:38.107923Z",
     "start_time": "2020-05-07T04:58:18.760178Z"
    }
   },
   "outputs": [],
   "source": [
    "df_train = pd.read_csv(\"../../data/embeddings/skip_gram_input.csv\").sample(frac=1)\n",
    "pickle_dict = pickle.load(open(\"../checkpoints/embeddings/w2v_skipgram/vocab_counter.pkl\", \"rb\"))\n",
    "int_to_vocab = pickle_dict.get(\"int_to_vocab\")"
   ]
  },
  {
   "cell_type": "code",
   "execution_count": 3,
   "metadata": {
    "ExecuteTime": {
     "end_time": "2020-05-07T04:58:40.071744Z",
     "start_time": "2020-05-07T04:58:38.108901Z"
    }
   },
   "outputs": [],
   "source": [
    "from py_util.word2vec_nn import Word2vec_NN"
   ]
  },
  {
   "cell_type": "code",
   "execution_count": 13,
   "metadata": {
    "ExecuteTime": {
     "end_time": "2020-05-07T05:03:53.145155Z",
     "start_time": "2020-05-07T05:03:52.902712Z"
    }
   },
   "outputs": [],
   "source": [
    "#Network Params\n",
    "embedding_dim = 128\n",
    "vocab_size = len(int_to_vocab.keys())\n",
    "save_dir = \"../checkpoints/embeddings/w2v_skipgram\"\n",
    "int_to_vocab = int_to_vocab\n",
    "n_neg_samp = 100\n",
    "seed = 42\n",
    "\n",
    "#training params\n",
    "batch_size = 500000\n",
    "learning_rate = 0.001\n",
    "num_epochs = 1000\n",
    "valid_size = 16"
   ]
  },
  {
   "cell_type": "code",
   "execution_count": 14,
   "metadata": {
    "ExecuteTime": {
     "end_time": "2020-05-07T05:03:54.258155Z",
     "start_time": "2020-05-07T05:03:53.721521Z"
    }
   },
   "outputs": [],
   "source": [
    "w2v_sg_nn = Word2vec_NN(embedding_dimension = embedding_dim,\n",
    "                        vocab_size          = vocab_size,\n",
    "                        save_dir            = save_dir,\n",
    "                        int_to_vocab        = int_to_vocab,\n",
    "                        n_neg_samp          = n_neg_samp,\n",
    "                        seed                = seed)"
   ]
  },
  {
   "cell_type": "code",
   "execution_count": 15,
   "metadata": {
    "ExecuteTime": {
     "end_time": "2020-05-07T21:10:42.496317Z",
     "start_time": "2020-05-07T05:03:54.962705Z"
    },
    "scrolled": true
   },
   "outputs": [
    {
     "data": {
      "application/vnd.jupyter.widget-view+json": {
       "model_id": "",
       "version_major": 2,
       "version_minor": 0
      },
      "text/plain": [
       "HBox(children=(IntProgress(value=0, description='Epoch', max=1000, style=ProgressStyle(description_width='init…"
      ]
     },
     "metadata": {},
     "output_type": "display_data"
    },
    {
     "data": {
      "application/vnd.jupyter.widget-view+json": {
       "model_id": "",
       "version_major": 2,
       "version_minor": 0
      },
      "text/plain": [
       "HBox(children=(IntProgress(value=0, description='Batch', max=183, style=ProgressStyle(description_width='initi…"
      ]
     },
     "metadata": {},
     "output_type": "display_data"
    },
    {
     "name": "stdout",
     "output_type": "stream",
     "text": [
      "Epoch 0/1000 Iteration: 100 Avg. Training loss: 6.9302 0.2600 sec/batch\n"
     ]
    },
    {
     "data": {
      "application/vnd.jupyter.widget-view+json": {
       "model_id": "",
       "version_major": 2,
       "version_minor": 0
      },
      "text/plain": [
       "HBox(children=(IntProgress(value=0, description='Batch', max=183, style=ProgressStyle(description_width='initi…"
      ]
     },
     "metadata": {},
     "output_type": "display_data"
    },
    {
     "name": "stdout",
     "output_type": "stream",
     "text": [
      "Epoch 1/1000 Iteration: 200 Avg. Training loss: 6.7684 0.0440 sec/batch\n",
      "Epoch 1/1000 Iteration: 300 Avg. Training loss: 6.0667 0.2588 sec/batch\n"
     ]
    },
    {
     "data": {
      "application/vnd.jupyter.widget-view+json": {
       "model_id": "",
       "version_major": 2,
       "version_minor": 0
      },
      "text/plain": [
       "HBox(children=(IntProgress(value=0, description='Batch', max=183, style=ProgressStyle(description_width='initi…"
      ]
     },
     "metadata": {},
     "output_type": "display_data"
    },
    {
     "name": "stdout",
     "output_type": "stream",
     "text": [
      "Epoch 2/1000 Iteration: 400 Avg. Training loss: 5.0147 0.0884 sec/batch\n",
      "Epoch 2/1000 Iteration: 500 Avg. Training loss: 4.9060 0.2597 sec/batch\n"
     ]
    },
    {
     "data": {
      "application/vnd.jupyter.widget-view+json": {
       "model_id": "",
       "version_major": 2,
       "version_minor": 0
      },
      "text/plain": [
       "HBox(children=(IntProgress(value=0, description='Batch', max=183, style=ProgressStyle(description_width='initi…"
      ]
     },
     "metadata": {},
     "output_type": "display_data"
    },
    {
     "name": "stdout",
     "output_type": "stream",
     "text": [
      "Epoch 3/1000 Iteration: 600 Avg. Training loss: 4.9450 0.1337 sec/batch\n",
      "Epoch 3/1000 Iteration: 700 Avg. Training loss: 4.9817 0.2633 sec/batch\n"
     ]
    },
    {
     "data": {
      "application/vnd.jupyter.widget-view+json": {
       "model_id": "",
       "version_major": 2,
       "version_minor": 0
      },
      "text/plain": [
       "HBox(children=(IntProgress(value=0, description='Batch', max=183, style=ProgressStyle(description_width='initi…"
      ]
     },
     "metadata": {},
     "output_type": "display_data"
    },
    {
     "name": "stdout",
     "output_type": "stream",
     "text": [
      "Epoch 4/1000 Iteration: 800 Avg. Training loss: 4.9928 0.1785 sec/batch\n",
      "Epoch 4/1000 Iteration: 900 Avg. Training loss: 4.9913 0.2592 sec/batch\n"
     ]
    },
    {
     "data": {
      "application/vnd.jupyter.widget-view+json": {
       "model_id": "",
       "version_major": 2,
       "version_minor": 0
      },
      "text/plain": [
       "HBox(children=(IntProgress(value=0, description='Batch', max=183, style=ProgressStyle(description_width='initi…"
      ]
     },
     "metadata": {},
     "output_type": "display_data"
    },
    {
     "name": "stdout",
     "output_type": "stream",
     "text": [
      "Epoch 5/1000 Iteration: 1000 Avg. Training loss: 4.9842 0.2215 sec/batch\n"
     ]
    },
    {
     "name": "stderr",
     "output_type": "stream",
     "text": [
      "W0507 02:09:09.471113  9676 deprecation.py:506] From D:\\USP\\Mestrado\\Stance\\python\\py_util\\word2vec_nn.py:109: calling reduce_sum_v1 (from tensorflow.python.ops.math_ops) with keep_dims is deprecated and will be removed in a future version.\n",
      "Instructions for updating:\n",
      "keep_dims is deprecated, use keepdims instead\n"
     ]
    },
    {
     "name": "stdout",
     "output_type": "stream",
     "text": [
      "Nearest to 000: smorigo, dandy, século, vastaps, desmantelá-lo, megawatt, ancestry.com, girlaine,\n",
      "Nearest to pessoas: descontrolada, agonístico, vickrey, dondon, honestidades, jacquaro, prosperavam, seguir,\n",
      "Nearest to também: gesticulam, platinni, seriíssima, jundipeba, atropelaria, n.00, suitcase, organizadores-,\n",
      "Nearest to das: halema'uma'u, gratuito-, inmet)-, reversões, margear, concorrencial, sundhage, gravávamos,\n",
      "Nearest to de: jornalísticos, pró-logística, guayquil, críveis, crmv-pr, poussier, aliado-agora-desafeto, longínqua,\n",
      "Nearest to governo: heterofobia-, cargo, parlamentares, grosso—, insultuosos, carreados, kleist-, governara,\n",
      "Nearest to por: sentimendo, marreco, questionasse, securitários, retífica, suspostas, speedy, queensé,\n",
      "Nearest to nesta: retuerta, variegadas, catalogarse, delatos, despendida, helm, reda, multilaminado,\n",
      "Nearest to festival: ihh, árabes/muçulmanos, nowill, perfumes, crossi, nuy, potencializá-la, —ajustando,\n",
      "Nearest to vice-presidente: implantou, engskov, nationes, heib, rosses, lunardelli, kasich-, xicrinha,\n",
      "Nearest to importantes: esmaga, indaga-se, surfactantes, plainando, vice-primeiro-ministro, montija, bordadeiras, policy-,\n",
      "Nearest to globo: nagacionistas, geoestrategicamente, paparazzo, dissimulando, exteriorizador, bê-á-bá, ex-spice, pós-),\n",
      "Nearest to mortes: bechtol, colagem, deliciam, viajarão, orbis, spdy, alimentam, sesc/arrj,\n",
      "Nearest to unidades: repeito, al-qayrawani, portabilidade, aoafagar, rastreáveis, corrigidos, carnell, existiam,\n",
      "Nearest to amigo: sélavy, tucumã, existia, esfrangalhado, psol-ap, ', desconstitucionalização, teratologicamente,\n",
      "Nearest to filha: acolheríamos, exita, knupp, unipessoal, mielniczenko, guiará, macunaímico, mge,\n"
     ]
    },
    {
     "data": {
      "application/vnd.jupyter.widget-view+json": {
       "model_id": "",
       "version_major": 2,
       "version_minor": 0
      },
      "text/plain": [
       "HBox(children=(IntProgress(value=0, description='Batch', max=183, style=ProgressStyle(description_width='initi…"
      ]
     },
     "metadata": {},
     "output_type": "display_data"
    },
    {
     "name": "stdout",
     "output_type": "stream",
     "text": [
      "Epoch 6/1000 Iteration: 1100 Avg. Training loss: 5.0005 0.0055 sec/batch\n",
      "Epoch 6/1000 Iteration: 1200 Avg. Training loss: 4.9495 0.2591 sec/batch\n"
     ]
    },
    {
     "data": {
      "application/vnd.jupyter.widget-view+json": {
       "model_id": "",
       "version_major": 2,
       "version_minor": 0
      },
      "text/plain": [
       "HBox(children=(IntProgress(value=0, description='Batch', max=183, style=ProgressStyle(description_width='initi…"
      ]
     },
     "metadata": {},
     "output_type": "display_data"
    },
    {
     "name": "stdout",
     "output_type": "stream",
     "text": [
      "Epoch 7/1000 Iteration: 1300 Avg. Training loss: 5.0301 0.0492 sec/batch\n",
      "Epoch 7/1000 Iteration: 1400 Avg. Training loss: 5.0182 0.2576 sec/batch\n"
     ]
    },
    {
     "data": {
      "application/vnd.jupyter.widget-view+json": {
       "model_id": "",
       "version_major": 2,
       "version_minor": 0
      },
      "text/plain": [
       "HBox(children=(IntProgress(value=0, description='Batch', max=183, style=ProgressStyle(description_width='initi…"
      ]
     },
     "metadata": {},
     "output_type": "display_data"
    },
    {
     "name": "stdout",
     "output_type": "stream",
     "text": [
      "Epoch 8/1000 Iteration: 1500 Avg. Training loss: 5.0601 0.0924 sec/batch\n",
      "Epoch 8/1000 Iteration: 1600 Avg. Training loss: 5.0784 0.2549 sec/batch\n"
     ]
    },
    {
     "data": {
      "application/vnd.jupyter.widget-view+json": {
       "model_id": "",
       "version_major": 2,
       "version_minor": 0
      },
      "text/plain": [
       "HBox(children=(IntProgress(value=0, description='Batch', max=183, style=ProgressStyle(description_width='initi…"
      ]
     },
     "metadata": {},
     "output_type": "display_data"
    },
    {
     "name": "stdout",
     "output_type": "stream",
     "text": [
      "Epoch 9/1000 Iteration: 1700 Avg. Training loss: 5.0732 0.1352 sec/batch\n",
      "Epoch 9/1000 Iteration: 1800 Avg. Training loss: 5.0755 0.2562 sec/batch\n"
     ]
    },
    {
     "data": {
      "application/vnd.jupyter.widget-view+json": {
       "model_id": "",
       "version_major": 2,
       "version_minor": 0
      },
      "text/plain": [
       "HBox(children=(IntProgress(value=0, description='Batch', max=183, style=ProgressStyle(description_width='initi…"
      ]
     },
     "metadata": {},
     "output_type": "display_data"
    },
    {
     "name": "stdout",
     "output_type": "stream",
     "text": [
      "Epoch 10/1000 Iteration: 1900 Avg. Training loss: 5.0878 0.1791 sec/batch\n",
      "Epoch 10/1000 Iteration: 2000 Avg. Training loss: 5.1212 0.2544 sec/batch\n",
      "Nearest to disse: chato-boy, ensine, dubhlinn, matela, altération, loiríssimo, transformam-no, afligiu,\n",
      "Nearest to ela: ziziotti, dentsu, millership, mentiram, impeachement, doeu, regimes-reduzindo, inação,\n",
      "Nearest to desde: concordavam, impossibilitará, santiafo, vigorava, yago, pocinho, rybczynski, apoiadas,\n",
      "Nearest to são: greimas, comparti, handa, garnero, fiorini, tunísia/bélgica/frança, marszalkowska, atacarem,\n",
      "Nearest to pela: destinaram, boas-vindas, al-mayadeen, recadastramentos, assumissem, admirando-a, burro-sem-rabo, escavada,\n",
      "Nearest to 00: repeliam, mantlo, primeras, acorda, destinando, informal—, bbc, vealerdi,\n",
      "Nearest to as: município-,, zhirkov, quora, cervejariavirtual.com.br, tropel, europa/austrália, sucessivas, terruá,\n",
      "Nearest to afirmou: trocado-, wolof, obrigas, pandeló, combate, pulmonary, caiu, dualistas,\n",
      "Nearest to pf: diligentemente, gol-,, mmc, fraudulento, maréchal-le, investigados, incitação, murcia-esp,\n",
      "Nearest to santa: sedassare, reemprestava, vazante, itapevi, dete-lo, —periférica, detratando-os, trinity,\n",
      "Nearest to demanda: câmeras-,, recuperar—,, exato, caem, gimmick, abrangido, lmms, concerne,\n",
      "Nearest to ambos: eminentes, uipa, lavatec, richthofen, programa.a, kappa, dirben-0000, vasculhada,\n",
      "Nearest to previsão: 0,0º, bandlab, esquecido—, sasquia, —retirar, d-edge, afeiçoo, ex-top,\n",
      "Nearest to palácio: trelleborg, michel, umbará, campis, soutelino, sabe-,, crassos, france,\n",
      "Nearest to usuários: servindo-se, passaredo, afinais, opinionados, regulamentado, corrompa, brodki, consultavam,\n",
      "Nearest to festival: calais-,, nowill, ihh, árabes/muçulmanos, puzo, —ajustando, fernandona, organoide,\n"
     ]
    },
    {
     "data": {
      "application/vnd.jupyter.widget-view+json": {
       "model_id": "",
       "version_major": 2,
       "version_minor": 0
      },
      "text/plain": [
       "HBox(children=(IntProgress(value=0, description='Batch', max=183, style=ProgressStyle(description_width='initi…"
      ]
     },
     "metadata": {},
     "output_type": "display_data"
    },
    {
     "name": "stdout",
     "output_type": "stream",
     "text": [
      "Epoch 11/1000 Iteration: 2100 Avg. Training loss: 5.1429 0.2226 sec/batch\n"
     ]
    },
    {
     "data": {
      "application/vnd.jupyter.widget-view+json": {
       "model_id": "",
       "version_major": 2,
       "version_minor": 0
      },
      "text/plain": [
       "HBox(children=(IntProgress(value=0, description='Batch', max=183, style=ProgressStyle(description_width='initi…"
      ]
     },
     "metadata": {},
     "output_type": "display_data"
    },
    {
     "name": "stdout",
     "output_type": "stream",
     "text": [
      "Epoch 12/1000 Iteration: 2200 Avg. Training loss: 5.2057 0.0108 sec/batch\n",
      "Epoch 12/1000 Iteration: 2300 Avg. Training loss: 5.1600 0.2550 sec/batch\n"
     ]
    },
    {
     "data": {
      "application/vnd.jupyter.widget-view+json": {
       "model_id": "",
       "version_major": 2,
       "version_minor": 0
      },
      "text/plain": [
       "HBox(children=(IntProgress(value=0, description='Batch', max=183, style=ProgressStyle(description_width='initi…"
      ]
     },
     "metadata": {},
     "output_type": "display_data"
    },
    {
     "name": "stdout",
     "output_type": "stream",
     "text": [
      "Epoch 13/1000 Iteration: 2400 Avg. Training loss: 5.1782 0.0544 sec/batch\n",
      "Epoch 13/1000 Iteration: 2500 Avg. Training loss: 5.2069 0.2553 sec/batch\n"
     ]
    },
    {
     "data": {
      "application/vnd.jupyter.widget-view+json": {
       "model_id": "",
       "version_major": 2,
       "version_minor": 0
      },
      "text/plain": [
       "HBox(children=(IntProgress(value=0, description='Batch', max=183, style=ProgressStyle(description_width='initi…"
      ]
     },
     "metadata": {},
     "output_type": "display_data"
    },
    {
     "name": "stdout",
     "output_type": "stream",
     "text": [
      "Epoch 14/1000 Iteration: 2600 Avg. Training loss: 5.1235 0.0969 sec/batch\n",
      "Epoch 14/1000 Iteration: 2700 Avg. Training loss: 5.2261 0.2545 sec/batch\n"
     ]
    },
    {
     "data": {
      "application/vnd.jupyter.widget-view+json": {
       "model_id": "",
       "version_major": 2,
       "version_minor": 0
      },
      "text/plain": [
       "HBox(children=(IntProgress(value=0, description='Batch', max=183, style=ProgressStyle(description_width='initi…"
      ]
     },
     "metadata": {},
     "output_type": "display_data"
    },
    {
     "name": "stdout",
     "output_type": "stream",
     "text": [
      "Epoch 15/1000 Iteration: 2800 Avg. Training loss: 5.2095 0.1410 sec/batch\n",
      "Epoch 15/1000 Iteration: 2900 Avg. Training loss: 5.1746 0.2540 sec/batch\n"
     ]
    },
    {
     "data": {
      "application/vnd.jupyter.widget-view+json": {
       "model_id": "",
       "version_major": 2,
       "version_minor": 0
      },
      "text/plain": [
       "HBox(children=(IntProgress(value=0, description='Batch', max=183, style=ProgressStyle(description_width='initi…"
      ]
     },
     "metadata": {},
     "output_type": "display_data"
    },
    {
     "name": "stdout",
     "output_type": "stream",
     "text": [
      "Epoch 16/1000 Iteration: 3000 Avg. Training loss: 5.2053 0.1847 sec/batch\n",
      "Nearest to por: marreco, sentimendo, pessoa-alberto, questionasse, speedy, securitários, cobrá-las, convalidadas,\n",
      "Nearest to ou: câmbio, prb-go, zezere, persisitir, oldfellas, oficialismo, gaban, pebble,\n",
      "Nearest to em: yori, www.seremcena.org.br, hemmer, bombásticas, argumentaria, raealizada, textiles, introduziram,\n",
      "Nearest to ter: induvidoso, lupicinio, absoluto, frankenheimer, folhapesquisa, katyuscia, clayburgh, goumertização,\n",
      "Nearest to se: fring, liangui, encabeçado, letárgico, qingxue, diferença—,, controlou, torpedeada,\n",
      "Nearest to brasil: adormeço, morselife, mesabrasil.sescsp.org.br, pr-df, repercutiu, zancanner, aumentemos, dette,\n",
      "Nearest to aos: shahtoosh, aceleradamente, acertá-lo-,, kwang-jin, kovalam, km/h.há, percentualmente, juventus,\n",
      "Nearest to pode: pr-, guilfoyle, sindicalizada, mandar, recibieron, maj, regionalismo, ostrensky,\n",
      "Nearest to internacionais: instalando-a, terça-feria, sollazzo, destacam, aparistas, leonam, abrirão, negativo,\n",
      "Nearest to deverá: reinvestiram, bestia, fraternité-,, deficitários-, matriculas, estenderíamos, satsang, gaguejasse,\n",
      "Nearest to mínimo: aqcua, pitango, segurado, querubinx, storj, empregado, companheiro(a, 0.000,00,\n",
      "Nearest to explica: sheridan, raphael, narcoestado, shoebuy, indígenas.fornecida, heathcote, vines, gravidade-,,\n",
      "Nearest to continuar: americano-americano, enfurnam, malquerê-lo, expulsasse, tivesse, peguete, apalavradas, portenoy,\n",
      "Nearest to popular: hecatombe, lindeiros, ipdm, originalmy.com, aic, persigo, flocado, quênia,\n",
      "Nearest to conhecido: anequim, cérebros—, apossá-la, medicamentos-, referee, fálica, espolia, incena,\n",
      "Nearest to parlamentares: deliberava, deyson, avalizaram, doadores—, incompetentes, clamor, deverender, impeachemnt,\n",
      "Epoch 16/1000 Iteration: 3100 Avg. Training loss: 5.1606 0.2615 sec/batch\n"
     ]
    },
    {
     "data": {
      "application/vnd.jupyter.widget-view+json": {
       "model_id": "",
       "version_major": 2,
       "version_minor": 0
      },
      "text/plain": [
       "HBox(children=(IntProgress(value=0, description='Batch', max=183, style=ProgressStyle(description_width='initi…"
      ]
     },
     "metadata": {},
     "output_type": "display_data"
    },
    {
     "name": "stdout",
     "output_type": "stream",
     "text": [
      "Epoch 17/1000 Iteration: 3200 Avg. Training loss: 5.2596 0.2275 sec/batch\n"
     ]
    },
    {
     "data": {
      "application/vnd.jupyter.widget-view+json": {
       "model_id": "",
       "version_major": 2,
       "version_minor": 0
      },
      "text/plain": [
       "HBox(children=(IntProgress(value=0, description='Batch', max=183, style=ProgressStyle(description_width='initi…"
      ]
     },
     "metadata": {},
     "output_type": "display_data"
    },
    {
     "name": "stdout",
     "output_type": "stream",
     "text": [
      "Epoch 18/1000 Iteration: 3300 Avg. Training loss: 5.2128 0.0154 sec/batch\n",
      "Epoch 18/1000 Iteration: 3400 Avg. Training loss: 5.1608 0.2561 sec/batch\n"
     ]
    },
    {
     "data": {
      "application/vnd.jupyter.widget-view+json": {
       "model_id": "",
       "version_major": 2,
       "version_minor": 0
      },
      "text/plain": [
       "HBox(children=(IntProgress(value=0, description='Batch', max=183, style=ProgressStyle(description_width='initi…"
      ]
     },
     "metadata": {},
     "output_type": "display_data"
    },
    {
     "name": "stdout",
     "output_type": "stream",
     "text": [
      "Epoch 19/1000 Iteration: 3500 Avg. Training loss: 5.2547 0.0588 sec/batch\n",
      "Epoch 19/1000 Iteration: 3600 Avg. Training loss: 5.1551 0.2546 sec/batch\n"
     ]
    },
    {
     "data": {
      "application/vnd.jupyter.widget-view+json": {
       "model_id": "",
       "version_major": 2,
       "version_minor": 0
      },
      "text/plain": [
       "HBox(children=(IntProgress(value=0, description='Batch', max=183, style=ProgressStyle(description_width='initi…"
      ]
     },
     "metadata": {},
     "output_type": "display_data"
    },
    {
     "name": "stdout",
     "output_type": "stream",
     "text": [
      "Epoch 20/1000 Iteration: 3700 Avg. Training loss: 5.1824 0.1024 sec/batch\n",
      "Epoch 20/1000 Iteration: 3800 Avg. Training loss: 5.2478 0.2564 sec/batch\n"
     ]
    },
    {
     "data": {
      "application/vnd.jupyter.widget-view+json": {
       "model_id": "",
       "version_major": 2,
       "version_minor": 0
      },
      "text/plain": [
       "HBox(children=(IntProgress(value=0, description='Batch', max=183, style=ProgressStyle(description_width='initi…"
      ]
     },
     "metadata": {},
     "output_type": "display_data"
    },
    {
     "name": "stdout",
     "output_type": "stream",
     "text": [
      "Epoch 21/1000 Iteration: 3900 Avg. Training loss: 5.2037 0.1458 sec/batch\n",
      "Epoch 21/1000 Iteration: 4000 Avg. Training loss: 5.2308 0.2555 sec/batch\n",
      "Nearest to sua: verve, persegui-los, plenipotenciário, rediagramação, prejudicá-las, fachin, fronteira—, rearmar-se,\n",
      "Nearest to diz: canavez, mouco, corretora, por, gallner, maurício, cadô, civil—,\n",
      "Nearest to sem: rever, iglecias, recandidatar, quadro, mbf, descobria, 0⁰, runshaw,\n",
      "Nearest to à: adiamentos, —temi, estratégia, gerada, lyoto, antecediam, instalou, iníquo,\n",
      "Nearest to ): ticianelli, —brian, carril, capal, units—conjunto, interinolaringologista, aaic, desmantele,\n",
      "Nearest to ano: ante, retração, indefinido, primário, mês, dejem, terceiro, eswar,\n",
      "Nearest to dois: valdir, comando, rowles, cremadas, heigl, musumeci, enfraquece, safados,\n",
      "Nearest to para: baseera, priorize, marona, clientes, ¿fue, beré, tricíclicos, pronto,\n",
      "Nearest to militares: chk, milícias, reimaginou, rondas, armados, fatih, economizavam, pelotões,\n",
      "Nearest to comunicação: jaques, limongi-frança, alessander, dizer.se, reler, cuiabá-,, garanito, ismayilova,\n",
      "Nearest to unidades: m'boim, implementadas, bibliotecas, supermarked, rastreáveis, espremerão, concentradas, pré-matrícula,\n",
      "Nearest to tomar: recorrer, antidote, melaço, responder, majuba, transforma-las, mira, laphroaig,\n",
      "Nearest to unido: britânicos, stijl, skardu, cameron, escoceses, camarote/meia-entrada, absconsa, unidos-brasil,\n",
      "Nearest to bairro: despachante-, intransitáveis, hair, sky/000, jardim, rci, lameu, 0000-0000-,,\n",
      "Nearest to deverá: reinvestiram, fraternité-,, estenderíamos, gaguejasse, matriculas, deveria, aramis, irá,\n",
      "Nearest to querem: afasta, poderá, aderiram, mangueirenses, ], apoiando, deixar, expô-lo,\n"
     ]
    },
    {
     "data": {
      "application/vnd.jupyter.widget-view+json": {
       "model_id": "",
       "version_major": 2,
       "version_minor": 0
      },
      "text/plain": [
       "HBox(children=(IntProgress(value=0, description='Batch', max=183, style=ProgressStyle(description_width='initi…"
      ]
     },
     "metadata": {},
     "output_type": "display_data"
    },
    {
     "name": "stdout",
     "output_type": "stream",
     "text": [
      "Epoch 22/1000 Iteration: 4100 Avg. Training loss: 5.2434 0.1902 sec/batch\n",
      "Epoch 22/1000 Iteration: 4200 Avg. Training loss: 5.1740 0.2565 sec/batch\n"
     ]
    },
    {
     "data": {
      "application/vnd.jupyter.widget-view+json": {
       "model_id": "",
       "version_major": 2,
       "version_minor": 0
      },
      "text/plain": [
       "HBox(children=(IntProgress(value=0, description='Batch', max=183, style=ProgressStyle(description_width='initi…"
      ]
     },
     "metadata": {},
     "output_type": "display_data"
    },
    {
     "name": "stdout",
     "output_type": "stream",
     "text": [
      "Epoch 23/1000 Iteration: 4300 Avg. Training loss: 5.1802 0.2357 sec/batch\n"
     ]
    },
    {
     "data": {
      "application/vnd.jupyter.widget-view+json": {
       "model_id": "",
       "version_major": 2,
       "version_minor": 0
      },
      "text/plain": [
       "HBox(children=(IntProgress(value=0, description='Batch', max=183, style=ProgressStyle(description_width='initi…"
      ]
     },
     "metadata": {},
     "output_type": "display_data"
    },
    {
     "name": "stdout",
     "output_type": "stream",
     "text": [
      "Epoch 24/1000 Iteration: 4400 Avg. Training loss: 5.1624 0.0211 sec/batch\n",
      "Epoch 24/1000 Iteration: 4500 Avg. Training loss: 5.1213 0.2555 sec/batch\n"
     ]
    },
    {
     "data": {
      "application/vnd.jupyter.widget-view+json": {
       "model_id": "",
       "version_major": 2,
       "version_minor": 0
      },
      "text/plain": [
       "HBox(children=(IntProgress(value=0, description='Batch', max=183, style=ProgressStyle(description_width='initi…"
      ]
     },
     "metadata": {},
     "output_type": "display_data"
    },
    {
     "name": "stdout",
     "output_type": "stream",
     "text": [
      "Epoch 25/1000 Iteration: 4600 Avg. Training loss: 5.1313 0.0643 sec/batch\n",
      "Epoch 25/1000 Iteration: 4700 Avg. Training loss: 5.1627 0.2547 sec/batch\n"
     ]
    },
    {
     "data": {
      "application/vnd.jupyter.widget-view+json": {
       "model_id": "",
       "version_major": 2,
       "version_minor": 0
      },
      "text/plain": [
       "HBox(children=(IntProgress(value=0, description='Batch', max=183, style=ProgressStyle(description_width='initi…"
      ]
     },
     "metadata": {},
     "output_type": "display_data"
    },
    {
     "name": "stdout",
     "output_type": "stream",
     "text": [
      "Epoch 26/1000 Iteration: 4800 Avg. Training loss: 5.0694 0.1075 sec/batch\n",
      "Epoch 26/1000 Iteration: 4900 Avg. Training loss: 5.2404 0.2560 sec/batch\n"
     ]
    },
    {
     "data": {
      "application/vnd.jupyter.widget-view+json": {
       "model_id": "",
       "version_major": 2,
       "version_minor": 0
      },
      "text/plain": [
       "HBox(children=(IntProgress(value=0, description='Batch', max=183, style=ProgressStyle(description_width='initi…"
      ]
     },
     "metadata": {},
     "output_type": "display_data"
    },
    {
     "name": "stdout",
     "output_type": "stream",
     "text": [
      "Epoch 27/1000 Iteration: 5000 Avg. Training loss: 5.2304 0.1505 sec/batch\n",
      "Nearest to as: município-,, fizemos, interferências, garantem, escolhas, interessam, pretenderia, macosko,\n",
      "Nearest to disse: limitou-se, jurídico, auxiliando, afirmou, acabar, dizendo, obrez, caguán,\n",
      "Nearest to como: recentíssimo, irregular, peña-mora, excelsior, esqueço-me, rsool, bacanas, diferentemente,\n",
      "Nearest to o: tinobal, outro, thankful, saiu, ainda, intrarregionais, próprio-impróprio, carinás,\n",
      "Nearest to brasil: notícias, vemos, colocada, somos, britanicamente, aumentemos, morselife, pior,\n",
      "Nearest to aos: pesos, oab, demonstrativas, shahtoosh, normalmente, aceleradamente, relaxamento, animalia,\n",
      "Nearest to maior: ytc, negativo, declínio, alastrando, peso, bolsa, controvérsia, parcela,\n",
      "Nearest to ): ticianelli, (, pardo-cachoeira, carril, desmantele, kantipur, buwalda, 0º/0,\n",
      "Nearest to nossos: olham, dormiram, fomentar, encontre, prol, conformamos, vivandeira, comprometeram,\n",
      "Nearest to instituição: representando, gvcenn, pré, conformidade, capacitação, mensalidade, assinou, currículos,\n",
      "Nearest to profissionais: cada, pudessem, faculdades, cursinhos, dirigirem, conecta, desancorar, idosos,\n",
      "Nearest to militares: milícias, armados, reimaginou, rondas, pms, bope, frentes, fatih,\n",
      "Nearest to palácio: planalto, michel, alvorada, vice-presidência, ministerial, jaburu, eliseu, wagner,\n",
      "Nearest to conhecido: anequim, descendentes-, referee, ambientar, fálica, combateu-o, cérebros—, apossá-la,\n",
      "Nearest to filmes: cinéfilos, telonas, emmy, lacrar, lançará, geoff, things, estúdios,\n",
      "Nearest to diferença: crescerá, quase, concorda, vem, acompanham, parecida, vantagem, participantes,\n",
      "Epoch 27/1000 Iteration: 5100 Avg. Training loss: 5.0740 0.2607 sec/batch\n"
     ]
    },
    {
     "data": {
      "application/vnd.jupyter.widget-view+json": {
       "model_id": "",
       "version_major": 2,
       "version_minor": 0
      },
      "text/plain": [
       "HBox(children=(IntProgress(value=0, description='Batch', max=183, style=ProgressStyle(description_width='initi…"
      ]
     },
     "metadata": {},
     "output_type": "display_data"
    },
    {
     "name": "stdout",
     "output_type": "stream",
     "text": [
      "Epoch 28/1000 Iteration: 5200 Avg. Training loss: 5.0986 0.1949 sec/batch\n",
      "Epoch 28/1000 Iteration: 5300 Avg. Training loss: 5.2479 0.2542 sec/batch\n"
     ]
    },
    {
     "data": {
      "application/vnd.jupyter.widget-view+json": {
       "model_id": "",
       "version_major": 2,
       "version_minor": 0
      },
      "text/plain": [
       "HBox(children=(IntProgress(value=0, description='Batch', max=183, style=ProgressStyle(description_width='initi…"
      ]
     },
     "metadata": {},
     "output_type": "display_data"
    },
    {
     "name": "stdout",
     "output_type": "stream",
     "text": [
      "Epoch 29/1000 Iteration: 5400 Avg. Training loss: 5.2415 0.2378 sec/batch\n"
     ]
    },
    {
     "data": {
      "application/vnd.jupyter.widget-view+json": {
       "model_id": "",
       "version_major": 2,
       "version_minor": 0
      },
      "text/plain": [
       "HBox(children=(IntProgress(value=0, description='Batch', max=183, style=ProgressStyle(description_width='initi…"
      ]
     },
     "metadata": {},
     "output_type": "display_data"
    },
    {
     "name": "stdout",
     "output_type": "stream",
     "text": [
      "Epoch 30/1000 Iteration: 5500 Avg. Training loss: 5.2131 0.0261 sec/batch\n",
      "Epoch 30/1000 Iteration: 5600 Avg. Training loss: 5.1985 0.2556 sec/batch\n"
     ]
    },
    {
     "data": {
      "application/vnd.jupyter.widget-view+json": {
       "model_id": "",
       "version_major": 2,
       "version_minor": 0
      },
      "text/plain": [
       "HBox(children=(IntProgress(value=0, description='Batch', max=183, style=ProgressStyle(description_width='initi…"
      ]
     },
     "metadata": {},
     "output_type": "display_data"
    },
    {
     "name": "stdout",
     "output_type": "stream",
     "text": [
      "Epoch 31/1000 Iteration: 5700 Avg. Training loss: 5.1576 0.0693 sec/batch\n",
      "Epoch 31/1000 Iteration: 5800 Avg. Training loss: 5.2744 0.2566 sec/batch\n"
     ]
    },
    {
     "data": {
      "application/vnd.jupyter.widget-view+json": {
       "model_id": "",
       "version_major": 2,
       "version_minor": 0
      },
      "text/plain": [
       "HBox(children=(IntProgress(value=0, description='Batch', max=183, style=ProgressStyle(description_width='initi…"
      ]
     },
     "metadata": {},
     "output_type": "display_data"
    },
    {
     "name": "stdout",
     "output_type": "stream",
     "text": [
      "Epoch 32/1000 Iteration: 5900 Avg. Training loss: 5.1997 0.1128 sec/batch\n",
      "Epoch 32/1000 Iteration: 6000 Avg. Training loss: 5.2708 0.2548 sec/batch\n",
      "Nearest to após: durante, será, sete, retorna, seguidas, voltou, foi, último,\n",
      "Nearest to até: hoje, estende, neste, soma, ficará, previsto, anunciado, próximo,\n",
      "Nearest to sem: rever, descumprir, quadro, alcançada, acima, recandidatar, importância, incensários,\n",
      "Nearest to contra: quarta, levante, classifica, cansaço, votou, repudiou, -,, arquivamento,\n",
      "Nearest to foram: registradas, acabaram, deixaram, recuperados, mayorista, corporação, período, falam,\n",
      "Nearest to vai: planeja, pretende, venha, obrigação, voltar, teme, saber, pode,\n",
      "Nearest to às: 00/0, 00h, qua, feriados, sábados, 0h, 00h00, pontualmente,\n",
      "Nearest to depois: atrás, já, última, durou, clássico, passado, período, seguida,\n",
      "Nearest to atividade: relativamente, interesse, mesmo, quantidade, indica, volatilidade, bruto, contração,\n",
      "Nearest to mar: mediterrâneo, antártida, egeu, sedimentos, derretimento, naufrágio, praia, ecossistema,\n",
      "Nearest to |: 0/00, qui, sarau, olido, nublada, 00/0, belenzinho, r,\n",
      "Nearest to globo: record, band, sbt, canal, exibida, novela, news, cqc,\n",
      "Nearest to militares: armados, milícias, pms, militar, efetivo, rondas, bope, tropas,\n",
      "Nearest to vê: tanto, fruto, especialmente, coube, viver, veem, cima, acompanhado,\n",
      "Nearest to investidores: empréstimos, iene, lucrar, ativos, derivativos, juros, estímulos, emergentes,\n",
      "Nearest to referência: comercial, vista, b/pr/pdt, perdia, exterior, 0,0000, fruto, edípico,\n"
     ]
    },
    {
     "data": {
      "application/vnd.jupyter.widget-view+json": {
       "model_id": "",
       "version_major": 2,
       "version_minor": 0
      },
      "text/plain": [
       "HBox(children=(IntProgress(value=0, description='Batch', max=183, style=ProgressStyle(description_width='initi…"
      ]
     },
     "metadata": {},
     "output_type": "display_data"
    },
    {
     "name": "stdout",
     "output_type": "stream",
     "text": [
      "Epoch 33/1000 Iteration: 6100 Avg. Training loss: 5.1986 0.1557 sec/batch\n",
      "Epoch 33/1000 Iteration: 6200 Avg. Training loss: 5.1687 0.2551 sec/batch\n"
     ]
    },
    {
     "data": {
      "application/vnd.jupyter.widget-view+json": {
       "model_id": "",
       "version_major": 2,
       "version_minor": 0
      },
      "text/plain": [
       "HBox(children=(IntProgress(value=0, description='Batch', max=183, style=ProgressStyle(description_width='initi…"
      ]
     },
     "metadata": {},
     "output_type": "display_data"
    },
    {
     "name": "stdout",
     "output_type": "stream",
     "text": [
      "Epoch 34/1000 Iteration: 6300 Avg. Training loss: 5.1612 0.1993 sec/batch\n",
      "Epoch 34/1000 Iteration: 6400 Avg. Training loss: 5.0873 0.2538 sec/batch\n"
     ]
    },
    {
     "data": {
      "application/vnd.jupyter.widget-view+json": {
       "model_id": "",
       "version_major": 2,
       "version_minor": 0
      },
      "text/plain": [
       "HBox(children=(IntProgress(value=0, description='Batch', max=183, style=ProgressStyle(description_width='initi…"
      ]
     },
     "metadata": {},
     "output_type": "display_data"
    },
    {
     "name": "stdout",
     "output_type": "stream",
     "text": [
      "Epoch 35/1000 Iteration: 6500 Avg. Training loss: 5.1128 0.2413 sec/batch\n"
     ]
    },
    {
     "data": {
      "application/vnd.jupyter.widget-view+json": {
       "model_id": "",
       "version_major": 2,
       "version_minor": 0
      },
      "text/plain": [
       "HBox(children=(IntProgress(value=0, description='Batch', max=183, style=ProgressStyle(description_width='initi…"
      ]
     },
     "metadata": {},
     "output_type": "display_data"
    },
    {
     "name": "stdout",
     "output_type": "stream",
     "text": [
      "Epoch 36/1000 Iteration: 6600 Avg. Training loss: 5.1332 0.0311 sec/batch\n",
      "Epoch 36/1000 Iteration: 6700 Avg. Training loss: 5.1230 0.2558 sec/batch\n"
     ]
    },
    {
     "data": {
      "application/vnd.jupyter.widget-view+json": {
       "model_id": "",
       "version_major": 2,
       "version_minor": 0
      },
      "text/plain": [
       "HBox(children=(IntProgress(value=0, description='Batch', max=183, style=ProgressStyle(description_width='initi…"
      ]
     },
     "metadata": {},
     "output_type": "display_data"
    },
    {
     "name": "stdout",
     "output_type": "stream",
     "text": [
      "Epoch 37/1000 Iteration: 6800 Avg. Training loss: 5.1894 0.0739 sec/batch\n",
      "Epoch 37/1000 Iteration: 6900 Avg. Training loss: 5.2405 0.2549 sec/batch\n"
     ]
    },
    {
     "data": {
      "application/vnd.jupyter.widget-view+json": {
       "model_id": "",
       "version_major": 2,
       "version_minor": 0
      },
      "text/plain": [
       "HBox(children=(IntProgress(value=0, description='Batch', max=183, style=ProgressStyle(description_width='initi…"
      ]
     },
     "metadata": {},
     "output_type": "display_data"
    },
    {
     "name": "stdout",
     "output_type": "stream",
     "text": [
      "Epoch 38/1000 Iteration: 7000 Avg. Training loss: 5.0042 0.1183 sec/batch\n",
      "Nearest to após: durante, voltou, sete, foi, último, setembro, será, seguidas,\n",
      "Nearest to disse: dizendo, afirmou, também, jurídico, ele, ainda, afirmando, concordaram,\n",
      "Nearest to ter: teria, tivesse, nenhum, mantido, impedido, ., dessa, tenha,\n",
      "Nearest to dos: do, início, 00, 0, poderá, os, respondem, integram,\n",
      "Nearest to ano: mês, último, deste, comparação, 0000, ante, abril, março,\n",
      "Nearest to pelo: passará, previa, e, ser, entre, alteração, demora, pela,\n",
      "Nearest to milhões: milhão, arrecadou, bilhão, mil, mi, 000,0, aproximadamente, euros,\n",
      "Nearest to que: levar, ,, mesma, de, ele, uma, ., outra,\n",
      "Nearest to previsão: prevista, fevereiro, chuva, cge, ocorrer, antecipar, esperada, expectativa,\n",
      "Nearest to continuar: continuará, começar, acelerar, demorar, precisar, honrar, faz, torço,\n",
      "Nearest to festival: festivais, participar, jockey, programação, palestras, evento, começa, paralela,\n",
      "Nearest to explica: psicóloga, raphael, piorar, tivemos, carvalho, porém, endeavor, farmacêutico,\n",
      "Nearest to EMAIL: enviar, acessar, publicados, basta, e-mail, envie, traduzem, enno,\n",
      "Nearest to vice-presidente: assumir, implantou, presidente, legislativo, interino, elaine, encarregado, chefiar,\n",
      "Nearest to escreveu: afirmando, globonews, davico, reiteradamente, coprotagonista, rouven, apanhado, comentários,\n",
      "Nearest to bairro: morador, oeste, jardim, bairros, lapa, retiro, residencial, jardins,\n",
      "Epoch 38/1000 Iteration: 7100 Avg. Training loss: 5.1841 0.2619 sec/batch\n"
     ]
    },
    {
     "data": {
      "application/vnd.jupyter.widget-view+json": {
       "model_id": "",
       "version_major": 2,
       "version_minor": 0
      },
      "text/plain": [
       "HBox(children=(IntProgress(value=0, description='Batch', max=183, style=ProgressStyle(description_width='initi…"
      ]
     },
     "metadata": {},
     "output_type": "display_data"
    },
    {
     "name": "stdout",
     "output_type": "stream",
     "text": [
      "Epoch 39/1000 Iteration: 7200 Avg. Training loss: 5.0878 0.1605 sec/batch\n",
      "Epoch 39/1000 Iteration: 7300 Avg. Training loss: 5.2793 0.2548 sec/batch\n"
     ]
    },
    {
     "data": {
      "application/vnd.jupyter.widget-view+json": {
       "model_id": "",
       "version_major": 2,
       "version_minor": 0
      },
      "text/plain": [
       "HBox(children=(IntProgress(value=0, description='Batch', max=183, style=ProgressStyle(description_width='initi…"
      ]
     },
     "metadata": {},
     "output_type": "display_data"
    },
    {
     "name": "stdout",
     "output_type": "stream",
     "text": [
      "Epoch 40/1000 Iteration: 7400 Avg. Training loss: 5.0706 0.2045 sec/batch\n",
      "Epoch 40/1000 Iteration: 7500 Avg. Training loss: 5.2296 0.2563 sec/batch\n"
     ]
    },
    {
     "data": {
      "application/vnd.jupyter.widget-view+json": {
       "model_id": "",
       "version_major": 2,
       "version_minor": 0
      },
      "text/plain": [
       "HBox(children=(IntProgress(value=0, description='Batch', max=183, style=ProgressStyle(description_width='initi…"
      ]
     },
     "metadata": {},
     "output_type": "display_data"
    },
    {
     "name": "stdout",
     "output_type": "stream",
     "text": [
      "Epoch 41/1000 Iteration: 7600 Avg. Training loss: 5.0774 0.2481 sec/batch\n"
     ]
    },
    {
     "data": {
      "application/vnd.jupyter.widget-view+json": {
       "model_id": "",
       "version_major": 2,
       "version_minor": 0
      },
      "text/plain": [
       "HBox(children=(IntProgress(value=0, description='Batch', max=183, style=ProgressStyle(description_width='initi…"
      ]
     },
     "metadata": {},
     "output_type": "display_data"
    },
    {
     "name": "stdout",
     "output_type": "stream",
     "text": [
      "Epoch 42/1000 Iteration: 7700 Avg. Training loss: 5.0923 0.0358 sec/batch\n",
      "Epoch 42/1000 Iteration: 7800 Avg. Training loss: 5.1837 0.2562 sec/batch\n"
     ]
    },
    {
     "data": {
      "application/vnd.jupyter.widget-view+json": {
       "model_id": "",
       "version_major": 2,
       "version_minor": 0
      },
      "text/plain": [
       "HBox(children=(IntProgress(value=0, description='Batch', max=183, style=ProgressStyle(description_width='initi…"
      ]
     },
     "metadata": {},
     "output_type": "display_data"
    },
    {
     "name": "stdout",
     "output_type": "stream",
     "text": [
      "Epoch 43/1000 Iteration: 7900 Avg. Training loss: 5.0691 0.0799 sec/batch\n",
      "Epoch 43/1000 Iteration: 8000 Avg. Training loss: 5.0259 0.2552 sec/batch\n",
      "Nearest to em: 00, ,, setembro, apenas, com, de, início, a,\n",
      "Nearest to ser: será, pelo, superar, agora, ter, foi, definitivamente, evidentemente,\n",
      "Nearest to 000: cerca, 00, aproximadamente, equivalente, 0.000, dobro, mil, custou,\n",
      "Nearest to 0: quarta-feira, 0º, neste, abril, agosto, sexta-feira, julho, sábado,\n",
      "Nearest to seus: comerciantes, comunicar, passem, determinados, pessoais, dois, exigem, convidar,\n",
      "Nearest to dos: início, do, de, —os, os, 00, a, poderá,\n",
      "Nearest to -: até, de, hoje, geralmente, próximo, soma, agora, ficou,\n",
      "Nearest to um: cujo, o, deles, desse, outro, seu, como, trabalhado,\n",
      "Nearest to lima: magrão, retornar, argumentou, investigado, refinaria, márcio, carvalho, envolveu,\n",
      "Nearest to |: 0/00, sarau, qui, prepare-se, r, nublada, 00/0, domingos,\n",
      "Nearest to militares: militar, agentes, efetivo, armados, forças, tropas, confronto, milícias,\n",
      "Nearest to instituição: mensalidade, capacitação, especialização, estudantil, alunos, obrigatoriamente, representando, fundamental,\n",
      "Nearest to artista: estética, pintura, dedicada, curador, exposição, ohtake, plástica, colagens,\n",
      "Nearest to referência: vista, comercial, utilizado, exterior, fruto, cotado, recuou, encerrou,\n",
      "Nearest to festival: festivais, programação, participar, evento, jockey, começa, palestras, exibido,\n",
      "Nearest to EMAIL: enviar, acessar, basta, publicados, e-mail, envie, assinatura, traduzem,\n"
     ]
    },
    {
     "data": {
      "application/vnd.jupyter.widget-view+json": {
       "model_id": "",
       "version_major": 2,
       "version_minor": 0
      },
      "text/plain": [
       "HBox(children=(IntProgress(value=0, description='Batch', max=183, style=ProgressStyle(description_width='initi…"
      ]
     },
     "metadata": {},
     "output_type": "display_data"
    },
    {
     "name": "stdout",
     "output_type": "stream",
     "text": [
      "Epoch 44/1000 Iteration: 8100 Avg. Training loss: 5.2543 0.1235 sec/batch\n",
      "Epoch 44/1000 Iteration: 8200 Avg. Training loss: 5.1231 0.2542 sec/batch\n"
     ]
    },
    {
     "data": {
      "application/vnd.jupyter.widget-view+json": {
       "model_id": "",
       "version_major": 2,
       "version_minor": 0
      },
      "text/plain": [
       "HBox(children=(IntProgress(value=0, description='Batch', max=183, style=ProgressStyle(description_width='initi…"
      ]
     },
     "metadata": {},
     "output_type": "display_data"
    },
    {
     "name": "stdout",
     "output_type": "stream",
     "text": [
      "Epoch 45/1000 Iteration: 8300 Avg. Training loss: 5.1497 0.1662 sec/batch\n",
      "Epoch 45/1000 Iteration: 8400 Avg. Training loss: 5.1839 0.2550 sec/batch\n"
     ]
    },
    {
     "data": {
      "application/vnd.jupyter.widget-view+json": {
       "model_id": "",
       "version_major": 2,
       "version_minor": 0
      },
      "text/plain": [
       "HBox(children=(IntProgress(value=0, description='Batch', max=183, style=ProgressStyle(description_width='initi…"
      ]
     },
     "metadata": {},
     "output_type": "display_data"
    },
    {
     "name": "stdout",
     "output_type": "stream",
     "text": [
      "Epoch 46/1000 Iteration: 8500 Avg. Training loss: 5.1289 0.2090 sec/batch\n",
      "Epoch 46/1000 Iteration: 8600 Avg. Training loss: 5.0859 0.2549 sec/batch\n"
     ]
    },
    {
     "data": {
      "application/vnd.jupyter.widget-view+json": {
       "model_id": "",
       "version_major": 2,
       "version_minor": 0
      },
      "text/plain": [
       "HBox(children=(IntProgress(value=0, description='Batch', max=183, style=ProgressStyle(description_width='initi…"
      ]
     },
     "metadata": {},
     "output_type": "display_data"
    },
    {
     "name": "stdout",
     "output_type": "stream",
     "text": [
      "Epoch 47/1000 Iteration: 8700 Avg. Training loss: 5.0797 0.2530 sec/batch\n"
     ]
    },
    {
     "data": {
      "application/vnd.jupyter.widget-view+json": {
       "model_id": "",
       "version_major": 2,
       "version_minor": 0
      },
      "text/plain": [
       "HBox(children=(IntProgress(value=0, description='Batch', max=183, style=ProgressStyle(description_width='initi…"
      ]
     },
     "metadata": {},
     "output_type": "display_data"
    },
    {
     "name": "stdout",
     "output_type": "stream",
     "text": [
      "Epoch 48/1000 Iteration: 8800 Avg. Training loss: 5.0914 0.0443 sec/batch\n",
      "Epoch 48/1000 Iteration: 8900 Avg. Training loss: 5.1578 0.2580 sec/batch\n"
     ]
    },
    {
     "data": {
      "application/vnd.jupyter.widget-view+json": {
       "model_id": "",
       "version_major": 2,
       "version_minor": 0
      },
      "text/plain": [
       "HBox(children=(IntProgress(value=0, description='Batch', max=183, style=ProgressStyle(description_width='initi…"
      ]
     },
     "metadata": {},
     "output_type": "display_data"
    },
    {
     "name": "stdout",
     "output_type": "stream",
     "text": [
      "Epoch 49/1000 Iteration: 9000 Avg. Training loss: 5.1370 0.0842 sec/batch\n",
      "Nearest to ,: ., o, porém, de, também, da, que, em,\n",
      "Nearest to r$: valor, bilhões, us$, somando, custou, excluindo, paga, 000,\n",
      "Nearest to isso: notícia, mensagem, aceito, para, faltar, aquilo, dizer, não,\n",
      "Nearest to disse: afirmou, dizendo, falou, também, diz, questionado, ligou, ter,\n",
      "Nearest to com: e, apenas, em, ,, o, à, já, no,\n",
      "Nearest to milhões: milhão, bilhão, arrecadou, mil, mi, aproximadamente, montante, 000,0,\n",
      "Nearest to :: como, pode, particular, ,, apenas, ausência, confira, até,\n",
      "Nearest to tem: é, ., do, de, seria, conta, mesmo, e,\n",
      "Nearest to bairro: bairros, morador, oeste, cidade, jardins, residencial, jardim, moradores,\n",
      "Nearest to internacionais: nacionais, estrangeiras, eua, participando, anfitrião, xantophoylos, governos, intercâmbio,\n",
      "Nearest to mar: mediterrâneo, antártida, barco, praia, naufrágio, egeu, travessia, marítima,\n",
      "Nearest to explica: afirma, diz, gerente, porém, piorar, pondera, sugere, importantes,\n",
      "Nearest to estudos: estudo, aspectos, pesquisadores, tópicos, psicologia, científicos, mudança, experimentos,\n",
      "Nearest to números: resultados, indicadores, divulgados, preliminares, dados, estatísticas, mostram, primeiros,\n",
      "Nearest to filha: mãe, irmã, mulher, esposa, viúva, diarista, menina, vivia,\n",
      "Nearest to continuar: continuará, começar, acelerar, demorar, ficar, fazê-lo, precisar, honrar,\n",
      "Epoch 49/1000 Iteration: 9100 Avg. Training loss: 5.1755 0.2619 sec/batch\n"
     ]
    },
    {
     "data": {
      "application/vnd.jupyter.widget-view+json": {
       "model_id": "",
       "version_major": 2,
       "version_minor": 0
      },
      "text/plain": [
       "HBox(children=(IntProgress(value=0, description='Batch', max=183, style=ProgressStyle(description_width='initi…"
      ]
     },
     "metadata": {},
     "output_type": "display_data"
    },
    {
     "name": "stdout",
     "output_type": "stream",
     "text": [
      "Epoch 50/1000 Iteration: 9200 Avg. Training loss: 5.1439 0.1280 sec/batch\n",
      "Epoch 50/1000 Iteration: 9300 Avg. Training loss: 5.0098 0.2542 sec/batch\n"
     ]
    },
    {
     "data": {
      "application/vnd.jupyter.widget-view+json": {
       "model_id": "",
       "version_major": 2,
       "version_minor": 0
      },
      "text/plain": [
       "HBox(children=(IntProgress(value=0, description='Batch', max=183, style=ProgressStyle(description_width='initi…"
      ]
     },
     "metadata": {},
     "output_type": "display_data"
    },
    {
     "name": "stdout",
     "output_type": "stream",
     "text": [
      "Epoch 51/1000 Iteration: 9400 Avg. Training loss: 5.2670 0.1729 sec/batch\n",
      "Epoch 51/1000 Iteration: 9500 Avg. Training loss: 5.1597 0.2546 sec/batch\n"
     ]
    },
    {
     "data": {
      "application/vnd.jupyter.widget-view+json": {
       "model_id": "",
       "version_major": 2,
       "version_minor": 0
      },
      "text/plain": [
       "HBox(children=(IntProgress(value=0, description='Batch', max=183, style=ProgressStyle(description_width='initi…"
      ]
     },
     "metadata": {},
     "output_type": "display_data"
    },
    {
     "name": "stdout",
     "output_type": "stream",
     "text": [
      "Epoch 52/1000 Iteration: 9600 Avg. Training loss: 4.9962 0.2148 sec/batch\n"
     ]
    },
    {
     "data": {
      "application/vnd.jupyter.widget-view+json": {
       "model_id": "",
       "version_major": 2,
       "version_minor": 0
      },
      "text/plain": [
       "HBox(children=(IntProgress(value=0, description='Batch', max=183, style=ProgressStyle(description_width='initi…"
      ]
     },
     "metadata": {},
     "output_type": "display_data"
    },
    {
     "name": "stdout",
     "output_type": "stream",
     "text": [
      "Epoch 53/1000 Iteration: 9700 Avg. Training loss: 5.0869 0.0027 sec/batch\n",
      "Epoch 53/1000 Iteration: 9800 Avg. Training loss: 5.1535 0.2571 sec/batch\n"
     ]
    },
    {
     "data": {
      "application/vnd.jupyter.widget-view+json": {
       "model_id": "",
       "version_major": 2,
       "version_minor": 0
      },
      "text/plain": [
       "HBox(children=(IntProgress(value=0, description='Batch', max=183, style=ProgressStyle(description_width='initi…"
      ]
     },
     "metadata": {},
     "output_type": "display_data"
    },
    {
     "name": "stdout",
     "output_type": "stream",
     "text": [
      "Epoch 54/1000 Iteration: 9900 Avg. Training loss: 5.1712 0.0464 sec/batch\n",
      "Epoch 54/1000 Iteration: 10000 Avg. Training loss: 5.1747 0.2558 sec/batch\n",
      "Nearest to eu: comigo, cheguei, saí, deixei, mim, me, meu, quero,\n",
      "Nearest to fazer: saber, há, trabalhar, parar, querer, mudar, tem, ajudar,\n",
      "Nearest to ano: mês, deste, último, passado, outubro, dezembro, 0000, julho,\n",
      "Nearest to só: poderá, não, tempo, quando, agora, todo, porque, este,\n",
      "Nearest to nas: das, pelas, algumas, de, duas, dessas, realizadas, ,,\n",
      "Nearest to estão: continuam, os, estariam, fazem, eles, vão, estarão, continuarão,\n",
      "Nearest to ?: você, acha, quer, gente, perguntar, sabe, dizer, consigo,\n",
      "Nearest to sua: notícia, a, para, própria, outra, ou, debate, brasileiros,\n",
      "Nearest to médico: hospital, clínico, paciente, iml, clínicas, clínica, cardiologia, médicos,\n",
      "Nearest to diferença: soma, quase, alcança, calculado, somado, supera, vantagem, dobro,\n",
      "Nearest to minas: gerais, bahia, paraíba, rondônia, espírito, goiás, ceará, mato,\n",
      "Nearest to mínimo: benefício, salário, segurado, mínimos, aposentados, gratificação, idade, 0.000,00,\n",
      "Nearest to referência: vista, encerrou, utilizado, comercial, do, valorização, subiu, cotado,\n",
      "Nearest to internacionais: nacionais, eua, estrangeiras, intercâmbio, participando, regulares, governos, americanas,\n",
      "Nearest to recente: ocorreu, último, à, uma, em, apontou, foi, parte,\n",
      "Nearest to comunicação: civil, secom, jaques, secretaria, mercadante, meios, transcrição, juca,\n"
     ]
    },
    {
     "data": {
      "application/vnd.jupyter.widget-view+json": {
       "model_id": "",
       "version_major": 2,
       "version_minor": 0
      },
      "text/plain": [
       "HBox(children=(IntProgress(value=0, description='Batch', max=183, style=ProgressStyle(description_width='initi…"
      ]
     },
     "metadata": {},
     "output_type": "display_data"
    },
    {
     "name": "stdout",
     "output_type": "stream",
     "text": [
      "Epoch 55/1000 Iteration: 10100 Avg. Training loss: 5.2730 0.0898 sec/batch\n",
      "Epoch 55/1000 Iteration: 10200 Avg. Training loss: 5.1396 0.2583 sec/batch\n"
     ]
    },
    {
     "data": {
      "application/vnd.jupyter.widget-view+json": {
       "model_id": "",
       "version_major": 2,
       "version_minor": 0
      },
      "text/plain": [
       "HBox(children=(IntProgress(value=0, description='Batch', max=183, style=ProgressStyle(description_width='initi…"
      ]
     },
     "metadata": {},
     "output_type": "display_data"
    },
    {
     "name": "stdout",
     "output_type": "stream",
     "text": [
      "Epoch 56/1000 Iteration: 10300 Avg. Training loss: 5.0297 0.1332 sec/batch\n",
      "Epoch 56/1000 Iteration: 10400 Avg. Training loss: 5.0529 0.2567 sec/batch\n"
     ]
    },
    {
     "data": {
      "application/vnd.jupyter.widget-view+json": {
       "model_id": "",
       "version_major": 2,
       "version_minor": 0
      },
      "text/plain": [
       "HBox(children=(IntProgress(value=0, description='Batch', max=183, style=ProgressStyle(description_width='initi…"
      ]
     },
     "metadata": {},
     "output_type": "display_data"
    },
    {
     "name": "stdout",
     "output_type": "stream",
     "text": [
      "Epoch 57/1000 Iteration: 10500 Avg. Training loss: 5.4332 0.1762 sec/batch\n",
      "Epoch 57/1000 Iteration: 10600 Avg. Training loss: 5.0972 0.2550 sec/batch\n"
     ]
    },
    {
     "data": {
      "application/vnd.jupyter.widget-view+json": {
       "model_id": "",
       "version_major": 2,
       "version_minor": 0
      },
      "text/plain": [
       "HBox(children=(IntProgress(value=0, description='Batch', max=183, style=ProgressStyle(description_width='initi…"
      ]
     },
     "metadata": {},
     "output_type": "display_data"
    },
    {
     "name": "stdout",
     "output_type": "stream",
     "text": [
      "Epoch 58/1000 Iteration: 10700 Avg. Training loss: 4.9443 0.2201 sec/batch\n"
     ]
    },
    {
     "data": {
      "application/vnd.jupyter.widget-view+json": {
       "model_id": "",
       "version_major": 2,
       "version_minor": 0
      },
      "text/plain": [
       "HBox(children=(IntProgress(value=0, description='Batch', max=183, style=ProgressStyle(description_width='initi…"
      ]
     },
     "metadata": {},
     "output_type": "display_data"
    },
    {
     "name": "stdout",
     "output_type": "stream",
     "text": [
      "Epoch 59/1000 Iteration: 10800 Avg. Training loss: 5.1972 0.0078 sec/batch\n",
      "Epoch 59/1000 Iteration: 10900 Avg. Training loss: 5.1315 0.2556 sec/batch\n"
     ]
    },
    {
     "data": {
      "application/vnd.jupyter.widget-view+json": {
       "model_id": "",
       "version_major": 2,
       "version_minor": 0
      },
      "text/plain": [
       "HBox(children=(IntProgress(value=0, description='Batch', max=183, style=ProgressStyle(description_width='initi…"
      ]
     },
     "metadata": {},
     "output_type": "display_data"
    },
    {
     "name": "stdout",
     "output_type": "stream",
     "text": [
      "Epoch 60/1000 Iteration: 11000 Avg. Training loss: 5.0763 0.0512 sec/batch\n",
      "Nearest to eu: comigo, cheguei, deixei, saí, meu, mim, vou, me,\n",
      "Nearest to ao: do, e, a, o, de, há, que, em,\n",
      "Nearest to afirmou: disse, pediu, ,, responsável, reafirmou, confirmou, ainda, afirma,\n",
      "Nearest to de: a, ,, e, em, ., por, da, do,\n",
      "Nearest to se: que, porém, só, deixar, pois, vez, preferiu, poderá,\n",
      "Nearest to no: ., último, neste, em, quase, fora, setembro, e,\n",
      "Nearest to após: voltou, sofrer, foi, último, durante, a, terça-feira, setembro,\n",
      "Nearest to até: agora, poderá, próximo, deve, ficará, terá, apenas, pode,\n",
      "Nearest to seguinte: amanda, publicadas, dicas, reportagem, coordenação, ampudia, amanhã, dia,\n",
      "Nearest to nossos: comprometidos, seus, somos, todos, mesmos, proteger, buscar, conseguimos,\n",
      "Nearest to santa: catarina, marcelina, aparecida, luzia, cruz, coração, ifigênia, senhora,\n",
      "Nearest to estratégia: promover, fortalecer, tentar, desafio, uma, ideia, a, à,\n",
      "Nearest to |: sarau, 0/00, grátis, qui, olido, prepare-se, 00h, r,\n",
      "Nearest to vice-presidente: presidente, assumir, temer, interino, vice, presidência, assume, substituí-lo,\n",
      "Nearest to bairro: bairros, oeste, morador, cidade, moradores, residencial, jardim, jardins,\n",
      "Nearest to data: antecedência, calendário, datas, cancelada, ocorrerá, ocorrer, termina, previamente,\n",
      "Epoch 60/1000 Iteration: 11100 Avg. Training loss: 5.0874 0.2613 sec/batch\n"
     ]
    },
    {
     "data": {
      "application/vnd.jupyter.widget-view+json": {
       "model_id": "",
       "version_major": 2,
       "version_minor": 0
      },
      "text/plain": [
       "HBox(children=(IntProgress(value=0, description='Batch', max=183, style=ProgressStyle(description_width='initi…"
      ]
     },
     "metadata": {},
     "output_type": "display_data"
    },
    {
     "name": "stdout",
     "output_type": "stream",
     "text": [
      "Epoch 61/1000 Iteration: 11200 Avg. Training loss: 5.2031 0.0944 sec/batch\n",
      "Epoch 61/1000 Iteration: 11300 Avg. Training loss: 5.1289 0.2549 sec/batch\n"
     ]
    },
    {
     "data": {
      "application/vnd.jupyter.widget-view+json": {
       "model_id": "",
       "version_major": 2,
       "version_minor": 0
      },
      "text/plain": [
       "HBox(children=(IntProgress(value=0, description='Batch', max=183, style=ProgressStyle(description_width='initi…"
      ]
     },
     "metadata": {},
     "output_type": "display_data"
    },
    {
     "name": "stdout",
     "output_type": "stream",
     "text": [
      "Epoch 62/1000 Iteration: 11400 Avg. Training loss: 5.0650 0.1379 sec/batch\n",
      "Epoch 62/1000 Iteration: 11500 Avg. Training loss: 5.0585 0.2555 sec/batch\n"
     ]
    },
    {
     "data": {
      "application/vnd.jupyter.widget-view+json": {
       "model_id": "",
       "version_major": 2,
       "version_minor": 0
      },
      "text/plain": [
       "HBox(children=(IntProgress(value=0, description='Batch', max=183, style=ProgressStyle(description_width='initi…"
      ]
     },
     "metadata": {},
     "output_type": "display_data"
    },
    {
     "name": "stdout",
     "output_type": "stream",
     "text": [
      "Epoch 63/1000 Iteration: 11600 Avg. Training loss: 5.0412 0.1832 sec/batch\n",
      "Epoch 63/1000 Iteration: 11700 Avg. Training loss: 4.8989 0.2559 sec/batch\n"
     ]
    },
    {
     "data": {
      "application/vnd.jupyter.widget-view+json": {
       "model_id": "",
       "version_major": 2,
       "version_minor": 0
      },
      "text/plain": [
       "HBox(children=(IntProgress(value=0, description='Batch', max=183, style=ProgressStyle(description_width='initi…"
      ]
     },
     "metadata": {},
     "output_type": "display_data"
    },
    {
     "name": "stdout",
     "output_type": "stream",
     "text": [
      "Epoch 64/1000 Iteration: 11800 Avg. Training loss: 4.9846 0.2245 sec/batch\n"
     ]
    },
    {
     "data": {
      "application/vnd.jupyter.widget-view+json": {
       "model_id": "",
       "version_major": 2,
       "version_minor": 0
      },
      "text/plain": [
       "HBox(children=(IntProgress(value=0, description='Batch', max=183, style=ProgressStyle(description_width='initi…"
      ]
     },
     "metadata": {},
     "output_type": "display_data"
    },
    {
     "name": "stdout",
     "output_type": "stream",
     "text": [
      "Epoch 65/1000 Iteration: 11900 Avg. Training loss: 5.0837 0.0132 sec/batch\n",
      "Epoch 65/1000 Iteration: 12000 Avg. Training loss: 5.1037 0.2543 sec/batch\n",
      "Nearest to já: ., também, ,, porém, o, mesmo, depois, apenas,\n",
      "Nearest to ,: ., também, o, já, que, de, em, da,\n",
      "Nearest to em: ,, de, com, e, também, ., da, o,\n",
      "Nearest to tem: é, do, ., terá, possui, considera, de, e,\n",
      "Nearest to às: 00h, 00/0, 0h, sábados, 00h00, pontualmente, meia-noite, amanhã,\n",
      "Nearest to r$: valor, us$, 000, bilhões, cerca, custa, bilhão, pagou,\n",
      "Nearest to ano: mês, passado, deste, abril, semestre, maio, dezembro, julho,\n",
      "Nearest to as: todas, essas, várias, algumas, das, outras, dessas, ambas,\n",
      "Nearest to entrou: viu, levou, parte, o, também, entra, colocou, fez,\n",
      "Nearest to filha: mãe, mulher, irmã, grávida, sozinha, menina, marido, namorada,\n",
      "Nearest to números: divulgados, dados, resultados, indicadores, preliminares, estatísticas, mostram, indicam,\n",
      "Nearest to palácio: planalto, alvorada, ministerial, peemedebista, jaburu, encontro, reuniu, temer,\n",
      "Nearest to referência: vista, utilizado, encerrou, comercial, cotado, valorização, do, principal,\n",
      "Nearest to mínimo: benefício, salário, segurado, aposentados, fixado, benefícios, regra, reajuste,\n",
      "Nearest to francisco: papa, pontífice, pontificado, vaticano, visitará, encíclica, caieiras, bispos,\n",
      "Nearest to henrique: defendeu, fellipe, sugeriu, fabiano, saída, fernandes, meirelles, substituído,\n"
     ]
    },
    {
     "data": {
      "application/vnd.jupyter.widget-view+json": {
       "model_id": "",
       "version_major": 2,
       "version_minor": 0
      },
      "text/plain": [
       "HBox(children=(IntProgress(value=0, description='Batch', max=183, style=ProgressStyle(description_width='initi…"
      ]
     },
     "metadata": {},
     "output_type": "display_data"
    },
    {
     "name": "stdout",
     "output_type": "stream",
     "text": [
      "Epoch 66/1000 Iteration: 12100 Avg. Training loss: 5.0942 0.0560 sec/batch\n",
      "Epoch 66/1000 Iteration: 12200 Avg. Training loss: 4.9726 0.2579 sec/batch\n"
     ]
    },
    {
     "data": {
      "application/vnd.jupyter.widget-view+json": {
       "model_id": "",
       "version_major": 2,
       "version_minor": 0
      },
      "text/plain": [
       "HBox(children=(IntProgress(value=0, description='Batch', max=183, style=ProgressStyle(description_width='initi…"
      ]
     },
     "metadata": {},
     "output_type": "display_data"
    },
    {
     "name": "stdout",
     "output_type": "stream",
     "text": [
      "Epoch 67/1000 Iteration: 12300 Avg. Training loss: 5.0807 0.1006 sec/batch\n",
      "Epoch 67/1000 Iteration: 12400 Avg. Training loss: 5.1609 0.2542 sec/batch\n"
     ]
    },
    {
     "data": {
      "application/vnd.jupyter.widget-view+json": {
       "model_id": "",
       "version_major": 2,
       "version_minor": 0
      },
      "text/plain": [
       "HBox(children=(IntProgress(value=0, description='Batch', max=183, style=ProgressStyle(description_width='initi…"
      ]
     },
     "metadata": {},
     "output_type": "display_data"
    },
    {
     "name": "stdout",
     "output_type": "stream",
     "text": [
      "Epoch 68/1000 Iteration: 12500 Avg. Training loss: 5.0790 0.1434 sec/batch\n",
      "Epoch 68/1000 Iteration: 12600 Avg. Training loss: 5.1353 0.2554 sec/batch\n"
     ]
    },
    {
     "data": {
      "application/vnd.jupyter.widget-view+json": {
       "model_id": "",
       "version_major": 2,
       "version_minor": 0
      },
      "text/plain": [
       "HBox(children=(IntProgress(value=0, description='Batch', max=183, style=ProgressStyle(description_width='initi…"
      ]
     },
     "metadata": {},
     "output_type": "display_data"
    },
    {
     "name": "stdout",
     "output_type": "stream",
     "text": [
      "Epoch 69/1000 Iteration: 12700 Avg. Training loss: 5.0652 0.1870 sec/batch\n",
      "Epoch 69/1000 Iteration: 12800 Avg. Training loss: 5.0923 0.2548 sec/batch\n"
     ]
    },
    {
     "data": {
      "application/vnd.jupyter.widget-view+json": {
       "model_id": "",
       "version_major": 2,
       "version_minor": 0
      },
      "text/plain": [
       "HBox(children=(IntProgress(value=0, description='Batch', max=183, style=ProgressStyle(description_width='initi…"
      ]
     },
     "metadata": {},
     "output_type": "display_data"
    },
    {
     "name": "stdout",
     "output_type": "stream",
     "text": [
      "Epoch 70/1000 Iteration: 12900 Avg. Training loss: 5.2618 0.2306 sec/batch\n"
     ]
    },
    {
     "data": {
      "application/vnd.jupyter.widget-view+json": {
       "model_id": "",
       "version_major": 2,
       "version_minor": 0
      },
      "text/plain": [
       "HBox(children=(IntProgress(value=0, description='Batch', max=183, style=ProgressStyle(description_width='initi…"
      ]
     },
     "metadata": {},
     "output_type": "display_data"
    },
    {
     "name": "stdout",
     "output_type": "stream",
     "text": [
      "Epoch 71/1000 Iteration: 13000 Avg. Training loss: 5.2008 0.0180 sec/batch\n",
      "Nearest to na: também, a, quarta-feira, da, última, do, pela, quarta,\n",
      "Nearest to ao: do, o, e, a, de, em, há, vez,\n",
      "Nearest to ?: você, sabe, quer, acha, perguntar, gente, sei, gastar,\n",
      "Nearest to 0000: abril, junho, ano, setembro, março, 0000-, dezembro, maio,\n",
      "Nearest to disse: afirmou, dizendo, falou, comentou, confirmou, declarou, reiterou, afirmando,\n",
      "Nearest to .: já, ,, ainda, do, apenas, o, somente, que,\n",
      "Nearest to 0: neste, sábado, domingo, quarta-feira, 00, sexta-feira, sexta, final,\n",
      "Nearest to brasil: mundo, no, participação, notícias, ou, a, folha, *,\n",
      "Nearest to modo: nesse, tipo, que, maneira, consciência, esse, trata-se, qualquer,\n",
      "Nearest to europeia: ue, unido, bloco, reino, europeus, países-membros, união, britânicos,\n",
      "Nearest to vê: tanto, especialmente, faz, indica, tem, ,, afasta, atrapalha,\n",
      "Nearest to casas: moradias, residências, famílias, moradores, inteiras, delas, construídas, prédios,\n",
      "Nearest to minas: gerais, bahia, rondônia, pimentel, ceará, espírito, goiás, paraíba,\n",
      "Nearest to colocar: fazer, passar, quer, colocou, outra, deixar, querer, botar,\n",
      "Nearest to nossos: todos, comprometidos, mesmos, somos, proteger, seus, preocupados, conseguimos,\n",
      "Nearest to mortes: óbitos, anúncios, missas, homicídios, chacinas, queimadas, veja, assassinatos,\n",
      "Epoch 71/1000 Iteration: 13100 Avg. Training loss: 5.3291 0.2619 sec/batch\n"
     ]
    },
    {
     "data": {
      "application/vnd.jupyter.widget-view+json": {
       "model_id": "",
       "version_major": 2,
       "version_minor": 0
      },
      "text/plain": [
       "HBox(children=(IntProgress(value=0, description='Batch', max=183, style=ProgressStyle(description_width='initi…"
      ]
     },
     "metadata": {},
     "output_type": "display_data"
    },
    {
     "name": "stdout",
     "output_type": "stream",
     "text": [
      "Epoch 72/1000 Iteration: 13200 Avg. Training loss: 5.1644 0.0610 sec/batch\n",
      "Epoch 72/1000 Iteration: 13300 Avg. Training loss: 5.3007 0.2549 sec/batch\n"
     ]
    },
    {
     "data": {
      "application/vnd.jupyter.widget-view+json": {
       "model_id": "",
       "version_major": 2,
       "version_minor": 0
      },
      "text/plain": [
       "HBox(children=(IntProgress(value=0, description='Batch', max=183, style=ProgressStyle(description_width='initi…"
      ]
     },
     "metadata": {},
     "output_type": "display_data"
    },
    {
     "name": "stdout",
     "output_type": "stream",
     "text": [
      "Epoch 73/1000 Iteration: 13400 Avg. Training loss: 5.2257 0.1044 sec/batch\n",
      "Epoch 73/1000 Iteration: 13500 Avg. Training loss: 5.1763 0.2549 sec/batch\n"
     ]
    },
    {
     "data": {
      "application/vnd.jupyter.widget-view+json": {
       "model_id": "",
       "version_major": 2,
       "version_minor": 0
      },
      "text/plain": [
       "HBox(children=(IntProgress(value=0, description='Batch', max=183, style=ProgressStyle(description_width='initi…"
      ]
     },
     "metadata": {},
     "output_type": "display_data"
    },
    {
     "name": "stdout",
     "output_type": "stream",
     "text": [
      "Epoch 74/1000 Iteration: 13600 Avg. Training loss: 5.2684 0.1482 sec/batch\n",
      "Epoch 74/1000 Iteration: 13700 Avg. Training loss: 5.1289 0.2547 sec/batch\n"
     ]
    },
    {
     "data": {
      "application/vnd.jupyter.widget-view+json": {
       "model_id": "",
       "version_major": 2,
       "version_minor": 0
      },
      "text/plain": [
       "HBox(children=(IntProgress(value=0, description='Batch', max=183, style=ProgressStyle(description_width='initi…"
      ]
     },
     "metadata": {},
     "output_type": "display_data"
    },
    {
     "name": "stdout",
     "output_type": "stream",
     "text": [
      "Epoch 75/1000 Iteration: 13800 Avg. Training loss: 5.1736 0.1911 sec/batch\n",
      "Epoch 75/1000 Iteration: 13900 Avg. Training loss: 5.0815 0.2554 sec/batch\n"
     ]
    },
    {
     "data": {
      "application/vnd.jupyter.widget-view+json": {
       "model_id": "",
       "version_major": 2,
       "version_minor": 0
      },
      "text/plain": [
       "HBox(children=(IntProgress(value=0, description='Batch', max=183, style=ProgressStyle(description_width='initi…"
      ]
     },
     "metadata": {},
     "output_type": "display_data"
    },
    {
     "name": "stdout",
     "output_type": "stream",
     "text": [
      "Epoch 76/1000 Iteration: 14000 Avg. Training loss: 5.1304 0.2345 sec/batch\n",
      "Nearest to muito: bastante, algo, tão, mas, pouco, resto, importante, porque,\n",
      "Nearest to mais: mas, ,, chegar, ., que, tornar, apenas, menos,\n",
      "Nearest to desde: meados, julho, setembro, início, junho, passado, outubro, março,\n",
      "Nearest to as: essas, todas, algumas, das, outras, várias, dessas, mesmas,\n",
      "Nearest to a: uma, à, de, própria, também, pela, outra, que,\n",
      "Nearest to milhões: milhão, arrecadou, mil, bilhão, 000,0, montante, 0,0, 00,0,\n",
      "Nearest to ser: será, foi, agora, mas, ter, pois, poderá, porém,\n",
      "Nearest to pelo: pela, por, foi, o, do, também, confirmado, em,\n",
      "Nearest to comercial: utilizado, vista, transações, comércio, cedia, referência, exterior, avançava,\n",
      "Nearest to tomar: toma, tomando, tomou, tome, tomam, tomará, tomarem, tomem,\n",
      "Nearest to militares: militar, forças, armadas, policiais, armados, exército, agentes, tropas,\n",
      "Nearest to desempenho: resultado, fraco, terceiro, negativo, terminou, primeiro, apesar, melhora,\n",
      "Nearest to pretende: planeja, vai, irá, decidiu, objetivo, prometeu, definir, precisa,\n",
      "Nearest to importantes: especialmente, quais, específicas, principais, grandes, as, definição, melhores,\n",
      "Nearest to ouro: medalha, prata, londres-0000, ouros, medalhas, conquistou, bronze, londres-00,\n",
      "Nearest to negócio: empresa, conglomerado, negócios, comprou, comprar, dono, vender, ideia,\n"
     ]
    },
    {
     "data": {
      "application/vnd.jupyter.widget-view+json": {
       "model_id": "",
       "version_major": 2,
       "version_minor": 0
      },
      "text/plain": [
       "HBox(children=(IntProgress(value=0, description='Batch', max=183, style=ProgressStyle(description_width='initi…"
      ]
     },
     "metadata": {},
     "output_type": "display_data"
    },
    {
     "name": "stdout",
     "output_type": "stream",
     "text": [
      "Epoch 77/1000 Iteration: 14100 Avg. Training loss: 5.1666 0.0234 sec/batch\n",
      "Epoch 77/1000 Iteration: 14200 Avg. Training loss: 5.2038 0.2537 sec/batch\n"
     ]
    },
    {
     "data": {
      "application/vnd.jupyter.widget-view+json": {
       "model_id": "",
       "version_major": 2,
       "version_minor": 0
      },
      "text/plain": [
       "HBox(children=(IntProgress(value=0, description='Batch', max=183, style=ProgressStyle(description_width='initi…"
      ]
     },
     "metadata": {},
     "output_type": "display_data"
    },
    {
     "name": "stdout",
     "output_type": "stream",
     "text": [
      "Epoch 78/1000 Iteration: 14300 Avg. Training loss: 5.0452 0.0671 sec/batch\n",
      "Epoch 78/1000 Iteration: 14400 Avg. Training loss: 5.0559 0.2558 sec/batch\n"
     ]
    },
    {
     "data": {
      "application/vnd.jupyter.widget-view+json": {
       "model_id": "",
       "version_major": 2,
       "version_minor": 0
      },
      "text/plain": [
       "HBox(children=(IntProgress(value=0, description='Batch', max=183, style=ProgressStyle(description_width='initi…"
      ]
     },
     "metadata": {},
     "output_type": "display_data"
    },
    {
     "name": "stdout",
     "output_type": "stream",
     "text": [
      "Epoch 79/1000 Iteration: 14500 Avg. Training loss: 5.1691 0.1099 sec/batch\n",
      "Epoch 79/1000 Iteration: 14600 Avg. Training loss: 5.1368 0.2570 sec/batch\n"
     ]
    },
    {
     "data": {
      "application/vnd.jupyter.widget-view+json": {
       "model_id": "",
       "version_major": 2,
       "version_minor": 0
      },
      "text/plain": [
       "HBox(children=(IntProgress(value=0, description='Batch', max=183, style=ProgressStyle(description_width='initi…"
      ]
     },
     "metadata": {},
     "output_type": "display_data"
    },
    {
     "name": "stdout",
     "output_type": "stream",
     "text": [
      "Epoch 80/1000 Iteration: 14700 Avg. Training loss: 4.9381 0.1542 sec/batch\n",
      "Epoch 80/1000 Iteration: 14800 Avg. Training loss: 5.0361 0.2553 sec/batch\n"
     ]
    },
    {
     "data": {
      "application/vnd.jupyter.widget-view+json": {
       "model_id": "",
       "version_major": 2,
       "version_minor": 0
      },
      "text/plain": [
       "HBox(children=(IntProgress(value=0, description='Batch', max=183, style=ProgressStyle(description_width='initi…"
      ]
     },
     "metadata": {},
     "output_type": "display_data"
    },
    {
     "name": "stdout",
     "output_type": "stream",
     "text": [
      "Epoch 81/1000 Iteration: 14900 Avg. Training loss: 5.0469 0.1958 sec/batch\n",
      "Epoch 81/1000 Iteration: 15000 Avg. Training loss: 5.0220 0.2558 sec/batch\n",
      "Nearest to às: 00h, 00/0, 0h, sexta, amanhã, sábado, 00h00, meia-noite,\n",
      "Nearest to uma: a, numa, outra, própria, dessa, à, de, toda,\n",
      "Nearest to a: à, uma, própria, de, pela, também, toda, que,\n",
      "Nearest to um: o, cujo, deles, esse, outro, desse, num, que,\n",
      "Nearest to as: essas, todas, das, algumas, ambas, várias, outras, mesmas,\n",
      "Nearest to .: já, apenas, ,, no, do, de, ainda, somente,\n",
      "Nearest to é: tem, pois, esse, do, seria, mesmo, que, qual,\n",
      "Nearest to do: o, ., ao, também, de, dos, tem, ,,\n",
      "Nearest to artista: exposição, retrospectiva, curadoria, pinturas, tomie, ohtake, pintura, plástica,\n",
      "Nearest to continuar: continuará, começar, voltar, agora, vem, terminar, manter, está,\n",
      "Nearest to instituição: obrigatoriamente, mensalidade, instituições, alunos, financeira, curso, graduação, escola,\n",
      "Nearest to avenida: avenidas, marginal, pedestres, rua, ciclovia, consolação, canteiro, viaduto,\n",
      "Nearest to discussão: proposta, tema, discutir, pauta, aprovação, questão, congresso, senado,\n",
      "Nearest to estudos: científicos, pesquisadores, aspectos, experimentos, estudo, pesquisas, avançados, doutorado,\n",
      "Nearest to aliados: aliado, peemedebista, peemedebistas, parlamentares, interlocutores, articulação, articular, governo,\n",
      "Nearest to diferença: soma, porcentagem, apenas, quase, menos, mesmo, alcança, dobro,\n"
     ]
    },
    {
     "data": {
      "application/vnd.jupyter.widget-view+json": {
       "model_id": "",
       "version_major": 2,
       "version_minor": 0
      },
      "text/plain": [
       "HBox(children=(IntProgress(value=0, description='Batch', max=183, style=ProgressStyle(description_width='initi…"
      ]
     },
     "metadata": {},
     "output_type": "display_data"
    },
    {
     "name": "stdout",
     "output_type": "stream",
     "text": [
      "Epoch 82/1000 Iteration: 15100 Avg. Training loss: 5.1728 0.2421 sec/batch\n"
     ]
    },
    {
     "data": {
      "application/vnd.jupyter.widget-view+json": {
       "model_id": "",
       "version_major": 2,
       "version_minor": 0
      },
      "text/plain": [
       "HBox(children=(IntProgress(value=0, description='Batch', max=183, style=ProgressStyle(description_width='initi…"
      ]
     },
     "metadata": {},
     "output_type": "display_data"
    },
    {
     "name": "stdout",
     "output_type": "stream",
     "text": [
      "Epoch 83/1000 Iteration: 15200 Avg. Training loss: 5.1594 0.0285 sec/batch\n",
      "Epoch 83/1000 Iteration: 15300 Avg. Training loss: 5.0672 0.2577 sec/batch\n"
     ]
    },
    {
     "data": {
      "application/vnd.jupyter.widget-view+json": {
       "model_id": "",
       "version_major": 2,
       "version_minor": 0
      },
      "text/plain": [
       "HBox(children=(IntProgress(value=0, description='Batch', max=183, style=ProgressStyle(description_width='initi…"
      ]
     },
     "metadata": {},
     "output_type": "display_data"
    },
    {
     "name": "stdout",
     "output_type": "stream",
     "text": [
      "Epoch 84/1000 Iteration: 15400 Avg. Training loss: 5.0825 0.0755 sec/batch\n",
      "Epoch 84/1000 Iteration: 15500 Avg. Training loss: 5.0783 0.2572 sec/batch\n"
     ]
    },
    {
     "data": {
      "application/vnd.jupyter.widget-view+json": {
       "model_id": "",
       "version_major": 2,
       "version_minor": 0
      },
      "text/plain": [
       "HBox(children=(IntProgress(value=0, description='Batch', max=183, style=ProgressStyle(description_width='initi…"
      ]
     },
     "metadata": {},
     "output_type": "display_data"
    },
    {
     "name": "stdout",
     "output_type": "stream",
     "text": [
      "Epoch 85/1000 Iteration: 15600 Avg. Training loss: 5.1893 0.1155 sec/batch\n",
      "Epoch 85/1000 Iteration: 15700 Avg. Training loss: 5.1822 0.2549 sec/batch\n"
     ]
    },
    {
     "data": {
      "application/vnd.jupyter.widget-view+json": {
       "model_id": "",
       "version_major": 2,
       "version_minor": 0
      },
      "text/plain": [
       "HBox(children=(IntProgress(value=0, description='Batch', max=183, style=ProgressStyle(description_width='initi…"
      ]
     },
     "metadata": {},
     "output_type": "display_data"
    },
    {
     "name": "stdout",
     "output_type": "stream",
     "text": [
      "Epoch 86/1000 Iteration: 15800 Avg. Training loss: 5.1680 0.1573 sec/batch\n",
      "Epoch 86/1000 Iteration: 15900 Avg. Training loss: 5.0105 0.2557 sec/batch\n"
     ]
    },
    {
     "data": {
      "application/vnd.jupyter.widget-view+json": {
       "model_id": "",
       "version_major": 2,
       "version_minor": 0
      },
      "text/plain": [
       "HBox(children=(IntProgress(value=0, description='Batch', max=183, style=ProgressStyle(description_width='initi…"
      ]
     },
     "metadata": {},
     "output_type": "display_data"
    },
    {
     "name": "stdout",
     "output_type": "stream",
     "text": [
      "Epoch 87/1000 Iteration: 16000 Avg. Training loss: 5.0386 0.2022 sec/batch\n",
      "Nearest to só: não, pois, porque, agora, mesmo, daquele, mas, poderá,\n",
      "Nearest to :: ,, ;, -, como, hoje, seguinte, só, revela,\n",
      "Nearest to diz: afirma, disse, admite, avalia, conhece, ,, mas, ressalta,\n",
      "Nearest to sobre: citando, reconheceu, negar, qual, a, assunto, especificamente, também,\n",
      "Nearest to já: também, ., ,, porém, por, mesmo, depois, apenas,\n",
      "Nearest to está: continua, esteja, estava, estar, estaria, pois, continuará, estará,\n",
      "Nearest to milhões: milhão, mil, bilhão, arrecadou, cerca, 0,0, 000,0, 00,0,\n",
      "Nearest to quando: até, começo, antes, já, depois, que, mas, começou,\n",
      "Nearest to veio: teve, aconteceu, vieram, saiu, fez, trouxe, vindo, ,,\n",
      "Nearest to abrir: abriu, abrindo, abrirá, fechar, colocar, aproveitou, abre, abriram,\n",
      "Nearest to conseguir: tentar, ajudar, precisar, precisava, precisa, ganhar, poderá, passar,\n",
      "Nearest to palácio: planalto, alvorada, jaburu, peemedebista, temer, interino, encontro, ministerial,\n",
      "Nearest to operações: movimentações, transações, financeiras, batalhão, bope, fisco, tributárias, polícia,\n",
      "Nearest to quarto: terceiro, quinto, consecutivo, oitavo, colocado, primeiro, sexto, encerrado,\n",
      "Nearest to querem: desejam, aceitam, querer, dispostos, vão, quer, deixar, pretendem,\n",
      "Nearest to queria: precisava, quisesse, poderia, conseguiria, pudesse, decidi, porque, ia,\n",
      "Epoch 87/1000 Iteration: 16100 Avg. Training loss: 5.0531 0.2621 sec/batch\n"
     ]
    },
    {
     "data": {
      "application/vnd.jupyter.widget-view+json": {
       "model_id": "",
       "version_major": 2,
       "version_minor": 0
      },
      "text/plain": [
       "HBox(children=(IntProgress(value=0, description='Batch', max=183, style=ProgressStyle(description_width='initi…"
      ]
     },
     "metadata": {},
     "output_type": "display_data"
    },
    {
     "name": "stdout",
     "output_type": "stream",
     "text": [
      "Epoch 88/1000 Iteration: 16200 Avg. Training loss: 5.1595 0.2440 sec/batch\n"
     ]
    },
    {
     "data": {
      "application/vnd.jupyter.widget-view+json": {
       "model_id": "",
       "version_major": 2,
       "version_minor": 0
      },
      "text/plain": [
       "HBox(children=(IntProgress(value=0, description='Batch', max=183, style=ProgressStyle(description_width='initi…"
      ]
     },
     "metadata": {},
     "output_type": "display_data"
    },
    {
     "name": "stdout",
     "output_type": "stream",
     "text": [
      "Epoch 89/1000 Iteration: 16300 Avg. Training loss: 5.2474 0.0335 sec/batch\n",
      "Epoch 89/1000 Iteration: 16400 Avg. Training loss: 4.9865 0.2554 sec/batch\n"
     ]
    },
    {
     "data": {
      "application/vnd.jupyter.widget-view+json": {
       "model_id": "",
       "version_major": 2,
       "version_minor": 0
      },
      "text/plain": [
       "HBox(children=(IntProgress(value=0, description='Batch', max=183, style=ProgressStyle(description_width='initi…"
      ]
     },
     "metadata": {},
     "output_type": "display_data"
    },
    {
     "name": "stdout",
     "output_type": "stream",
     "text": [
      "Epoch 90/1000 Iteration: 16500 Avg. Training loss: 5.0671 0.0770 sec/batch\n",
      "Epoch 90/1000 Iteration: 16600 Avg. Training loss: 4.9685 0.2564 sec/batch\n"
     ]
    },
    {
     "data": {
      "application/vnd.jupyter.widget-view+json": {
       "model_id": "",
       "version_major": 2,
       "version_minor": 0
      },
      "text/plain": [
       "HBox(children=(IntProgress(value=0, description='Batch', max=183, style=ProgressStyle(description_width='initi…"
      ]
     },
     "metadata": {},
     "output_type": "display_data"
    },
    {
     "name": "stdout",
     "output_type": "stream",
     "text": [
      "Epoch 91/1000 Iteration: 16700 Avg. Training loss: 5.0935 0.1206 sec/batch\n",
      "Epoch 91/1000 Iteration: 16800 Avg. Training loss: 5.1640 0.2545 sec/batch\n"
     ]
    },
    {
     "data": {
      "application/vnd.jupyter.widget-view+json": {
       "model_id": "",
       "version_major": 2,
       "version_minor": 0
      },
      "text/plain": [
       "HBox(children=(IntProgress(value=0, description='Batch', max=183, style=ProgressStyle(description_width='initi…"
      ]
     },
     "metadata": {},
     "output_type": "display_data"
    },
    {
     "name": "stdout",
     "output_type": "stream",
     "text": [
      "Epoch 92/1000 Iteration: 16900 Avg. Training loss: 5.0691 0.1637 sec/batch\n",
      "Epoch 92/1000 Iteration: 17000 Avg. Training loss: 5.2987 0.2550 sec/batch\n",
      "Nearest to no: ., último, o, em, neste, setembro, do, deste,\n",
      "Nearest to país: especialmente, maior, sobretudo, principalmente, a, situação, países, que,\n",
      "Nearest to maior: menor, aumentou, atinge, em, país, ., supera, a,\n",
      "Nearest to sem: para, exemplo, entretanto, terá, somente, dá, apenas, o,\n",
      "Nearest to desde: início, meados, setembro, julho, ., junho, passado, outubro,\n",
      "Nearest to anos: meses, década, 0000, seguintes, anos-, vinte, oito, cinco,\n",
      "Nearest to -: hoje, 00, ,, de, 0, em, na, até,\n",
      "Nearest to foram: serem, serão, forem, seriam, fossem, estavam, acabaram, eram,\n",
      "Nearest to atividade: evolução, desde, econômica, demanda, ainda, desaceleração, expectativa, ano,\n",
      "Nearest to palácio: planalto, alvorada, peemedebista, jaburu, encontro, temer, interino, ministerial,\n",
      "Nearest to la: obstante, línea, emisora, salud, primera, responsable, serán, señala,\n",
      "Nearest to festival: festivais, cannes, lollapalooza, cinema, veneza, evento, fartura, programação,\n",
      "Nearest to conhecido: apontado, o, único, acusado, do, descrito, outro, tornou-se,\n",
      "Nearest to unido: reino, ue, brexit, britânicos, europeia, permanência, cameron, escócia,\n",
      "Nearest to investidores: volatilidade, mercados, banco, juros, ativos, mercado, emergentes, bancos,\n",
      "Nearest to somente: ., mesmo, apenas, deve, ainda, será, menos, já,\n"
     ]
    },
    {
     "data": {
      "application/vnd.jupyter.widget-view+json": {
       "model_id": "",
       "version_major": 2,
       "version_minor": 0
      },
      "text/plain": [
       "HBox(children=(IntProgress(value=0, description='Batch', max=183, style=ProgressStyle(description_width='initi…"
      ]
     },
     "metadata": {},
     "output_type": "display_data"
    },
    {
     "name": "stdout",
     "output_type": "stream",
     "text": [
      "Epoch 93/1000 Iteration: 17100 Avg. Training loss: 5.0670 0.2073 sec/batch\n",
      "Epoch 93/1000 Iteration: 17200 Avg. Training loss: 5.2144 0.2550 sec/batch\n"
     ]
    },
    {
     "data": {
      "application/vnd.jupyter.widget-view+json": {
       "model_id": "",
       "version_major": 2,
       "version_minor": 0
      },
      "text/plain": [
       "HBox(children=(IntProgress(value=0, description='Batch', max=183, style=ProgressStyle(description_width='initi…"
      ]
     },
     "metadata": {},
     "output_type": "display_data"
    },
    {
     "name": "stdout",
     "output_type": "stream",
     "text": [
      "Epoch 94/1000 Iteration: 17300 Avg. Training loss: 5.2268 0.2523 sec/batch\n"
     ]
    },
    {
     "data": {
      "application/vnd.jupyter.widget-view+json": {
       "model_id": "",
       "version_major": 2,
       "version_minor": 0
      },
      "text/plain": [
       "HBox(children=(IntProgress(value=0, description='Batch', max=183, style=ProgressStyle(description_width='initi…"
      ]
     },
     "metadata": {},
     "output_type": "display_data"
    },
    {
     "name": "stdout",
     "output_type": "stream",
     "text": [
      "Epoch 95/1000 Iteration: 17400 Avg. Training loss: 5.0656 0.0383 sec/batch\n",
      "Epoch 95/1000 Iteration: 17500 Avg. Training loss: 5.0092 0.2547 sec/batch\n"
     ]
    },
    {
     "data": {
      "application/vnd.jupyter.widget-view+json": {
       "model_id": "",
       "version_major": 2,
       "version_minor": 0
      },
      "text/plain": [
       "HBox(children=(IntProgress(value=0, description='Batch', max=183, style=ProgressStyle(description_width='initi…"
      ]
     },
     "metadata": {},
     "output_type": "display_data"
    },
    {
     "name": "stdout",
     "output_type": "stream",
     "text": [
      "Epoch 96/1000 Iteration: 17600 Avg. Training loss: 5.1722 0.0825 sec/batch\n",
      "Epoch 96/1000 Iteration: 17700 Avg. Training loss: 5.0563 0.2571 sec/batch\n"
     ]
    },
    {
     "data": {
      "application/vnd.jupyter.widget-view+json": {
       "model_id": "",
       "version_major": 2,
       "version_minor": 0
      },
      "text/plain": [
       "HBox(children=(IntProgress(value=0, description='Batch', max=183, style=ProgressStyle(description_width='initi…"
      ]
     },
     "metadata": {},
     "output_type": "display_data"
    },
    {
     "name": "stdout",
     "output_type": "stream",
     "text": [
      "Epoch 97/1000 Iteration: 17800 Avg. Training loss: 5.2309 0.1261 sec/batch\n",
      "Epoch 97/1000 Iteration: 17900 Avg. Training loss: 5.3196 0.2567 sec/batch\n"
     ]
    },
    {
     "data": {
      "application/vnd.jupyter.widget-view+json": {
       "model_id": "",
       "version_major": 2,
       "version_minor": 0
      },
      "text/plain": [
       "HBox(children=(IntProgress(value=0, description='Batch', max=183, style=ProgressStyle(description_width='initi…"
      ]
     },
     "metadata": {},
     "output_type": "display_data"
    },
    {
     "name": "stdout",
     "output_type": "stream",
     "text": [
      "Epoch 98/1000 Iteration: 18000 Avg. Training loss: 5.1809 0.1682 sec/batch\n",
      "Nearest to era: tendo, fosse, naquele, sabia, fazia, época, foi, existia,\n",
      "Nearest to milhões: milhão, mil, bilhão, 0,0, 00,0, arrecadou, 000,0, cerca,\n",
      "Nearest to como: também, ., tem, que, ,, o, tendo, e,\n",
      "Nearest to o: do, outro, também, um, ., ,, ainda, já,\n",
      "Nearest to que: ainda, ele, não, já, pois, ,, agora, mesmo,\n",
      "Nearest to pelo: pela, o, do, por, também, qual, foi, ao,\n",
      "Nearest to nesta: terça-feira, quinta-feira, segunda-feira, quarta-feira, sexta-feira, terça, desta, quinta,\n",
      "Nearest to depois: logo, antes, após, já, início, quando, última, então,\n",
      "Nearest to continuar: continuará, vem, continua, agora, está, ainda, manter, começar,\n",
      "Nearest to democracia: democrático, respeito, independência, socialismo, povo, legitimidade, assegurar, soberania,\n",
      "Nearest to diferença: soma, apenas, vantagem, porcentagem, menor, mesmo, supera, alcança,\n",
      "Nearest to comunicação: secom, secretaria, civil, imprensa, institucionais, jaques, integrada, mídia,\n",
      "Nearest to modo: que, nesse, esse, algo, exatamente, específico, pessoal, indivíduo,\n",
      "Nearest to discussão: proposta, pauta, tema, questão, discutir, aprovação, debater, câmara,\n",
      "Nearest to data: datas, calendário, ocorrerá, antecedência, ocorrer, acontecer, haverá, voltará,\n",
      "Nearest to unido: reino, ue, brexit, britânicos, europeia, permanência, cameron, escócia,\n",
      "Epoch 98/1000 Iteration: 18100 Avg. Training loss: 5.0280 0.2611 sec/batch\n"
     ]
    },
    {
     "data": {
      "application/vnd.jupyter.widget-view+json": {
       "model_id": "",
       "version_major": 2,
       "version_minor": 0
      },
      "text/plain": [
       "HBox(children=(IntProgress(value=0, description='Batch', max=183, style=ProgressStyle(description_width='initi…"
      ]
     },
     "metadata": {},
     "output_type": "display_data"
    },
    {
     "name": "stdout",
     "output_type": "stream",
     "text": [
      "Epoch 99/1000 Iteration: 18200 Avg. Training loss: 5.1513 0.2110 sec/batch\n",
      "Epoch 99/1000 Iteration: 18300 Avg. Training loss: 5.2139 0.2534 sec/batch\n"
     ]
    },
    {
     "data": {
      "application/vnd.jupyter.widget-view+json": {
       "model_id": "",
       "version_major": 2,
       "version_minor": 0
      },
      "text/plain": [
       "HBox(children=(IntProgress(value=0, description='Batch', max=183, style=ProgressStyle(description_width='initi…"
      ]
     },
     "metadata": {},
     "output_type": "display_data"
    },
    {
     "name": "stdout",
     "output_type": "stream",
     "text": [
      "Epoch 100/1000 Iteration: 18400 Avg. Training loss: 5.3175 0.2550 sec/batch\n"
     ]
    },
    {
     "data": {
      "application/vnd.jupyter.widget-view+json": {
       "model_id": "",
       "version_major": 2,
       "version_minor": 0
      },
      "text/plain": [
       "HBox(children=(IntProgress(value=0, description='Batch', max=183, style=ProgressStyle(description_width='initi…"
      ]
     },
     "metadata": {},
     "output_type": "display_data"
    },
    {
     "name": "stdout",
     "output_type": "stream",
     "text": [
      "Epoch 101/1000 Iteration: 18500 Avg. Training loss: 4.9778 0.0438 sec/batch\n",
      "Epoch 101/1000 Iteration: 18600 Avg. Training loss: 5.1611 0.2557 sec/batch\n"
     ]
    },
    {
     "data": {
      "application/vnd.jupyter.widget-view+json": {
       "model_id": "",
       "version_major": 2,
       "version_minor": 0
      },
      "text/plain": [
       "HBox(children=(IntProgress(value=0, description='Batch', max=183, style=ProgressStyle(description_width='initi…"
      ]
     },
     "metadata": {},
     "output_type": "display_data"
    },
    {
     "name": "stdout",
     "output_type": "stream",
     "text": [
      "Epoch 102/1000 Iteration: 18700 Avg. Training loss: 5.0976 0.0870 sec/batch\n",
      "Epoch 102/1000 Iteration: 18800 Avg. Training loss: 5.0656 0.2579 sec/batch\n"
     ]
    },
    {
     "data": {
      "application/vnd.jupyter.widget-view+json": {
       "model_id": "",
       "version_major": 2,
       "version_minor": 0
      },
      "text/plain": [
       "HBox(children=(IntProgress(value=0, description='Batch', max=183, style=ProgressStyle(description_width='initi…"
      ]
     },
     "metadata": {},
     "output_type": "display_data"
    },
    {
     "name": "stdout",
     "output_type": "stream",
     "text": [
      "Epoch 103/1000 Iteration: 18900 Avg. Training loss: 5.0746 0.1312 sec/batch\n",
      "Epoch 103/1000 Iteration: 19000 Avg. Training loss: 5.1028 0.2570 sec/batch\n",
      "Nearest to ao: o, do, e, de, um, em, também, à,\n",
      "Nearest to o: do, também, outro, um, ,, ., ao, no,\n",
      "Nearest to paulo: são, sp, paulista, campinas, de, joão, prefeitura, e,\n",
      "Nearest to tem: ., é, possui, do, ,, de, e, qual,\n",
      "Nearest to r$: us$, valor, bilhões, bilhão, custa, custava, 000, cerca,\n",
      "Nearest to para: objetivo, poderá, o, pretende, a, vai, também, tentar,\n",
      "Nearest to às: 00h, 00/0, 0h, sexta, 00h00, sábados, amanhã, dia,\n",
      "Nearest to ano: mês, passado, abril, deste, semestre, julho, junho, maio,\n",
      "Nearest to veio: saiu, entrou, trouxe, deu, fez, teve, em, aconteceu,\n",
      "Nearest to recuperação: melhora, retomada, crescimento, perspectivas, recuperar, desaceleração, endividamento, deterioração,\n",
      "Nearest to usuários: usuário, ferramenta, aplicativo, whatsapp, app, smartphone, viciados, aplicativos,\n",
      "Nearest to leva: levam, levar, dá, qual, passa, faz, terá, tem,\n",
      "Nearest to tal: dessa, que, seria, pois, fato, poderia, essa, é,\n",
      "Nearest to abrir: abriu, abrindo, fechar, abrirá, aproveitou, colocar, ampliar, abriram,\n",
      "Nearest to amigo: irmão, então, conhecia, outro, meu, próprio, lula, família,\n",
      "Nearest to parlamentares: deputados, governistas, congressistas, senadores, votação, emendas, aliados, bancada,\n"
     ]
    },
    {
     "data": {
      "application/vnd.jupyter.widget-view+json": {
       "model_id": "",
       "version_major": 2,
       "version_minor": 0
      },
      "text/plain": [
       "HBox(children=(IntProgress(value=0, description='Batch', max=183, style=ProgressStyle(description_width='initi…"
      ]
     },
     "metadata": {},
     "output_type": "display_data"
    },
    {
     "name": "stdout",
     "output_type": "stream",
     "text": [
      "Epoch 104/1000 Iteration: 19100 Avg. Training loss: 5.0865 0.1733 sec/batch\n",
      "Epoch 104/1000 Iteration: 19200 Avg. Training loss: 5.2185 0.2582 sec/batch\n"
     ]
    },
    {
     "data": {
      "application/vnd.jupyter.widget-view+json": {
       "model_id": "",
       "version_major": 2,
       "version_minor": 0
      },
      "text/plain": [
       "HBox(children=(IntProgress(value=0, description='Batch', max=183, style=ProgressStyle(description_width='initi…"
      ]
     },
     "metadata": {},
     "output_type": "display_data"
    },
    {
     "name": "stdout",
     "output_type": "stream",
     "text": [
      "Epoch 105/1000 Iteration: 19300 Avg. Training loss: 5.0739 0.2178 sec/batch\n"
     ]
    },
    {
     "data": {
      "application/vnd.jupyter.widget-view+json": {
       "model_id": "",
       "version_major": 2,
       "version_minor": 0
      },
      "text/plain": [
       "HBox(children=(IntProgress(value=0, description='Batch', max=183, style=ProgressStyle(description_width='initi…"
      ]
     },
     "metadata": {},
     "output_type": "display_data"
    },
    {
     "name": "stdout",
     "output_type": "stream",
     "text": [
      "Epoch 106/1000 Iteration: 19400 Avg. Training loss: 5.0042 0.0054 sec/batch\n",
      "Epoch 106/1000 Iteration: 19500 Avg. Training loss: 5.2285 0.2542 sec/batch\n"
     ]
    },
    {
     "data": {
      "application/vnd.jupyter.widget-view+json": {
       "model_id": "",
       "version_major": 2,
       "version_minor": 0
      },
      "text/plain": [
       "HBox(children=(IntProgress(value=0, description='Batch', max=183, style=ProgressStyle(description_width='initi…"
      ]
     },
     "metadata": {},
     "output_type": "display_data"
    },
    {
     "name": "stdout",
     "output_type": "stream",
     "text": [
      "Epoch 107/1000 Iteration: 19600 Avg. Training loss: 5.3039 0.0496 sec/batch\n",
      "Epoch 107/1000 Iteration: 19700 Avg. Training loss: 5.1397 0.2566 sec/batch\n"
     ]
    },
    {
     "data": {
      "application/vnd.jupyter.widget-view+json": {
       "model_id": "",
       "version_major": 2,
       "version_minor": 0
      },
      "text/plain": [
       "HBox(children=(IntProgress(value=0, description='Batch', max=183, style=ProgressStyle(description_width='initi…"
      ]
     },
     "metadata": {},
     "output_type": "display_data"
    },
    {
     "name": "stdout",
     "output_type": "stream",
     "text": [
      "Epoch 108/1000 Iteration: 19800 Avg. Training loss: 5.1632 0.0922 sec/batch\n",
      "Epoch 108/1000 Iteration: 19900 Avg. Training loss: 5.2023 0.2532 sec/batch\n"
     ]
    },
    {
     "data": {
      "application/vnd.jupyter.widget-view+json": {
       "model_id": "",
       "version_major": 2,
       "version_minor": 0
      },
      "text/plain": [
       "HBox(children=(IntProgress(value=0, description='Batch', max=183, style=ProgressStyle(description_width='initi…"
      ]
     },
     "metadata": {},
     "output_type": "display_data"
    },
    {
     "name": "stdout",
     "output_type": "stream",
     "text": [
      "Epoch 109/1000 Iteration: 20000 Avg. Training loss: 5.1829 0.1367 sec/batch\n",
      "Nearest to já: ., porém, também, apenas, mesmo, o, tendo, ,,\n",
      "Nearest to ser: será, ter, evidentemente, mas, pelo, pois, porém, foi,\n",
      "Nearest to há: ., ,, de, tem, ainda, por, pois, parte,\n",
      "Nearest to milhões: milhão, mil, bilhão, 0,0, 00,0, cerca, arrecadou, aproximadamente,\n",
      "Nearest to r$: us$, valor, bilhões, bilhão, 000, custa, cerca, aproximadamente,\n",
      "Nearest to anos: meses, década, últimos, seguintes, oito, 0000, vinte, dias,\n",
      "Nearest to ela: ele, dela, que, mas, só, não, outra, uma,\n",
      "Nearest to é: tem, pois, seria, considera, qual, faz, esse, portanto,\n",
      "Nearest to tratamento: terapia, tratamentos, pacientes, tratar, quimioterapia, hospitalar, clínica, cirúrgico,\n",
      "Nearest to militares: militar, policiais, armadas, soldados, tropas, exército, forças, agentes,\n",
      "Nearest to minas: gerais, bahia, pimentel, espírito, ceará, rondônia, tocantins, goiás,\n",
      "Nearest to veio: trouxe, deu, saiu, fez, entrou, aconteceu, teve, vieram,\n",
      "Nearest to encontrar: procurar, buscar, entender, manter, fazer, descobrir, achar, juntar,\n",
      "Nearest to artista: exposição, artistas, curador, pinturas, curadoria, esculturas, plástica, mostras,\n",
      "Nearest to data: datas, calendário, antecedência, ocorrerá, voltará, ocorrer, haverá, julho,\n",
      "Nearest to previsão: prevista, esperada, expectativa, previsto, deve, ocorrer, tarde, próximos,\n",
      "Epoch 109/1000 Iteration: 20100 Avg. Training loss: 5.1001 0.2612 sec/batch\n"
     ]
    },
    {
     "data": {
      "application/vnd.jupyter.widget-view+json": {
       "model_id": "",
       "version_major": 2,
       "version_minor": 0
      },
      "text/plain": [
       "HBox(children=(IntProgress(value=0, description='Batch', max=183, style=ProgressStyle(description_width='initi…"
      ]
     },
     "metadata": {},
     "output_type": "display_data"
    },
    {
     "name": "stdout",
     "output_type": "stream",
     "text": [
      "Epoch 110/1000 Iteration: 20200 Avg. Training loss: 5.2433 0.1788 sec/batch\n",
      "Epoch 110/1000 Iteration: 20300 Avg. Training loss: 5.1658 0.2538 sec/batch\n"
     ]
    },
    {
     "data": {
      "application/vnd.jupyter.widget-view+json": {
       "model_id": "",
       "version_major": 2,
       "version_minor": 0
      },
      "text/plain": [
       "HBox(children=(IntProgress(value=0, description='Batch', max=183, style=ProgressStyle(description_width='initi…"
      ]
     },
     "metadata": {},
     "output_type": "display_data"
    },
    {
     "name": "stdout",
     "output_type": "stream",
     "text": [
      "Epoch 111/1000 Iteration: 20400 Avg. Training loss: 5.1026 0.2227 sec/batch\n"
     ]
    },
    {
     "data": {
      "application/vnd.jupyter.widget-view+json": {
       "model_id": "",
       "version_major": 2,
       "version_minor": 0
      },
      "text/plain": [
       "HBox(children=(IntProgress(value=0, description='Batch', max=183, style=ProgressStyle(description_width='initi…"
      ]
     },
     "metadata": {},
     "output_type": "display_data"
    },
    {
     "name": "stdout",
     "output_type": "stream",
     "text": [
      "Epoch 112/1000 Iteration: 20500 Avg. Training loss: 5.1758 0.0102 sec/batch\n",
      "Epoch 112/1000 Iteration: 20600 Avg. Training loss: 5.1138 0.2552 sec/batch\n"
     ]
    },
    {
     "data": {
      "application/vnd.jupyter.widget-view+json": {
       "model_id": "",
       "version_major": 2,
       "version_minor": 0
      },
      "text/plain": [
       "HBox(children=(IntProgress(value=0, description='Batch', max=183, style=ProgressStyle(description_width='initi…"
      ]
     },
     "metadata": {},
     "output_type": "display_data"
    },
    {
     "name": "stdout",
     "output_type": "stream",
     "text": [
      "Epoch 113/1000 Iteration: 20700 Avg. Training loss: 5.2602 0.0540 sec/batch\n",
      "Epoch 113/1000 Iteration: 20800 Avg. Training loss: 5.1503 0.2599 sec/batch\n"
     ]
    },
    {
     "data": {
      "application/vnd.jupyter.widget-view+json": {
       "model_id": "",
       "version_major": 2,
       "version_minor": 0
      },
      "text/plain": [
       "HBox(children=(IntProgress(value=0, description='Batch', max=183, style=ProgressStyle(description_width='initi…"
      ]
     },
     "metadata": {},
     "output_type": "display_data"
    },
    {
     "name": "stdout",
     "output_type": "stream",
     "text": [
      "Epoch 114/1000 Iteration: 20900 Avg. Training loss: 5.0148 0.0981 sec/batch\n",
      "Epoch 114/1000 Iteration: 21000 Avg. Training loss: 5.1077 0.2579 sec/batch\n",
      "Nearest to r$: us$, valor, bilhões, custa, 000, cerca, bilhão, pagou,\n",
      "Nearest to 000: cerca, mil, 0.000, aproximadamente, 00, total, dobro, terço,\n",
      "Nearest to ): (, nesta, quinta-feira, 00, terça-feira, quarta-feira, segunda-feira, de,\n",
      "Nearest to ela: ele, dela, que, mas, só, uma, sozinha, não,\n",
      "Nearest to se: que, pois, porém, só, portanto, fato, não, quem,\n",
      "Nearest to ter: teria, tenha, havia, terem, tivesse, tendo, teriam, tido,\n",
      "Nearest to as: essas, das, todas, algumas, mesmas, outras, dessas, várias,\n",
      "Nearest to até: agora, quando, mesmo, apenas, próximo, antes, mas, início,\n",
      "Nearest to escreveu: publicou, criticando, postou, dizia, ,, fez, dizendo, intitulado,\n",
      "Nearest to la: obstante, vaya, decretó, entregó, primera, licitación, atiende, deportivo,\n",
      "Nearest to atividade: ainda, evolução, indica, desde, mesmo, a, expectativa, importância,\n",
      "Nearest to queria: precisava, quisesse, poderia, decidi, parecia, porque, conseguiria, conseguia,\n",
      "Nearest to pretende: vai, planeja, irá, decidiu, para, pretendia, precisa, quer,\n",
      "Nearest to pf: polícia, depoimento, operação, deflagrada, curitiba, investigadores, investigação, investigados,\n",
      "Nearest to instituição: financeira, banco, instituições, escola, curso, obrigatoriamente, do, alunos,\n",
      "Nearest to santa: catarina, fe, marcelina, luzia, cecília, cruz, ifigênia, bobalhões,\n"
     ]
    },
    {
     "data": {
      "application/vnd.jupyter.widget-view+json": {
       "model_id": "",
       "version_major": 2,
       "version_minor": 0
      },
      "text/plain": [
       "HBox(children=(IntProgress(value=0, description='Batch', max=183, style=ProgressStyle(description_width='initi…"
      ]
     },
     "metadata": {},
     "output_type": "display_data"
    },
    {
     "name": "stdout",
     "output_type": "stream",
     "text": [
      "Epoch 115/1000 Iteration: 21100 Avg. Training loss: 5.1728 0.1421 sec/batch\n",
      "Epoch 115/1000 Iteration: 21200 Avg. Training loss: 5.0656 0.2556 sec/batch\n"
     ]
    },
    {
     "data": {
      "application/vnd.jupyter.widget-view+json": {
       "model_id": "",
       "version_major": 2,
       "version_minor": 0
      },
      "text/plain": [
       "HBox(children=(IntProgress(value=0, description='Batch', max=183, style=ProgressStyle(description_width='initi…"
      ]
     },
     "metadata": {},
     "output_type": "display_data"
    },
    {
     "name": "stdout",
     "output_type": "stream",
     "text": [
      "Epoch 116/1000 Iteration: 21300 Avg. Training loss: 5.2114 0.1851 sec/batch\n",
      "Epoch 116/1000 Iteration: 21400 Avg. Training loss: 5.0842 0.2552 sec/batch\n"
     ]
    },
    {
     "data": {
      "application/vnd.jupyter.widget-view+json": {
       "model_id": "",
       "version_major": 2,
       "version_minor": 0
      },
      "text/plain": [
       "HBox(children=(IntProgress(value=0, description='Batch', max=183, style=ProgressStyle(description_width='initi…"
      ]
     },
     "metadata": {},
     "output_type": "display_data"
    },
    {
     "name": "stdout",
     "output_type": "stream",
     "text": [
      "Epoch 117/1000 Iteration: 21500 Avg. Training loss: 5.0952 0.2280 sec/batch\n"
     ]
    },
    {
     "data": {
      "application/vnd.jupyter.widget-view+json": {
       "model_id": "",
       "version_major": 2,
       "version_minor": 0
      },
      "text/plain": [
       "HBox(children=(IntProgress(value=0, description='Batch', max=183, style=ProgressStyle(description_width='initi…"
      ]
     },
     "metadata": {},
     "output_type": "display_data"
    },
    {
     "name": "stdout",
     "output_type": "stream",
     "text": [
      "Epoch 118/1000 Iteration: 21600 Avg. Training loss: 5.0582 0.0155 sec/batch\n",
      "Epoch 118/1000 Iteration: 21700 Avg. Training loss: 5.0799 0.2560 sec/batch\n"
     ]
    },
    {
     "data": {
      "application/vnd.jupyter.widget-view+json": {
       "model_id": "",
       "version_major": 2,
       "version_minor": 0
      },
      "text/plain": [
       "HBox(children=(IntProgress(value=0, description='Batch', max=183, style=ProgressStyle(description_width='initi…"
      ]
     },
     "metadata": {},
     "output_type": "display_data"
    },
    {
     "name": "stdout",
     "output_type": "stream",
     "text": [
      "Epoch 119/1000 Iteration: 21800 Avg. Training loss: 5.2589 0.0592 sec/batch\n",
      "Epoch 119/1000 Iteration: 21900 Avg. Training loss: 5.0777 0.2549 sec/batch\n"
     ]
    },
    {
     "data": {
      "application/vnd.jupyter.widget-view+json": {
       "model_id": "",
       "version_major": 2,
       "version_minor": 0
      },
      "text/plain": [
       "HBox(children=(IntProgress(value=0, description='Batch', max=183, style=ProgressStyle(description_width='initi…"
      ]
     },
     "metadata": {},
     "output_type": "display_data"
    },
    {
     "name": "stdout",
     "output_type": "stream",
     "text": [
      "Epoch 120/1000 Iteration: 22000 Avg. Training loss: 4.9381 0.1020 sec/batch\n",
      "Nearest to ): (, quinta-feira, nesta, terça-feira, 00, quarta-feira, sexta-feira, quarta,\n",
      "Nearest to entre: também, de, do, na, em, com, e, maior,\n",
      "Nearest to brasil: mundo, no, ., país, brasileiro, e, a, pior,\n",
      "Nearest to sobre: a, também, discutir, questionado, citando, afirmando, ressaltou, qual,\n",
      "Nearest to 0: 00, neste, sexta, domingo, sábado, quarta, final, na,\n",
      "Nearest to sem: dá, dificuldade, para, apenas, também, exemplo, tem, o,\n",
      "Nearest to segundo: aponta, primeiro, mostrou, ainda, apontou, chegou, houve, feita,\n",
      "Nearest to pessoas: menos, elas, desse, milhares, que, delas, deixaram, população,\n",
      "Nearest to vice-presidente: presidente, vice, interino, temer, assumir, michel, presidência, assume,\n",
      "Nearest to democracia: democrático, respeito, plena, independência, povo, democráticos, democráticas, assegurar,\n",
      "Nearest to amigo: outro, deles, pecuarista, então, meu, irmão, lula, filho,\n",
      "Nearest to mínimo: salário, benefício, mínimos, valor, gasto, varia, reajuste, benefícios,\n",
      "Nearest to lima: faria, carvalho, abreu, vieira, araújo, silva, henrique, argumentou,\n",
      "Nearest to comunicação: secom, secretaria, imprensa, jaques, civil, ebc, mídia, segurança,\n",
      "Nearest to internacionais: nacionais, eua, além, estrangeiras, regulares, intercâmbio, viagens, brasil,\n",
      "Nearest to quarto: terceiro, quinto, consecutivo, primeiro, sexto, colocado, oitavo, último,\n",
      "Epoch 120/1000 Iteration: 22100 Avg. Training loss: 4.9999 0.2612 sec/batch\n"
     ]
    },
    {
     "data": {
      "application/vnd.jupyter.widget-view+json": {
       "model_id": "",
       "version_major": 2,
       "version_minor": 0
      },
      "text/plain": [
       "HBox(children=(IntProgress(value=0, description='Batch', max=183, style=ProgressStyle(description_width='initi…"
      ]
     },
     "metadata": {},
     "output_type": "display_data"
    },
    {
     "name": "stdout",
     "output_type": "stream",
     "text": [
      "Epoch 121/1000 Iteration: 22200 Avg. Training loss: 5.1612 0.1459 sec/batch\n",
      "Epoch 121/1000 Iteration: 22300 Avg. Training loss: 4.9314 0.2545 sec/batch\n"
     ]
    },
    {
     "data": {
      "application/vnd.jupyter.widget-view+json": {
       "model_id": "",
       "version_major": 2,
       "version_minor": 0
      },
      "text/plain": [
       "HBox(children=(IntProgress(value=0, description='Batch', max=183, style=ProgressStyle(description_width='initi…"
      ]
     },
     "metadata": {},
     "output_type": "display_data"
    },
    {
     "name": "stdout",
     "output_type": "stream",
     "text": [
      "Epoch 122/1000 Iteration: 22400 Avg. Training loss: 5.1448 0.1884 sec/batch\n",
      "Epoch 122/1000 Iteration: 22500 Avg. Training loss: 5.0197 0.2549 sec/batch\n"
     ]
    },
    {
     "data": {
      "application/vnd.jupyter.widget-view+json": {
       "model_id": "",
       "version_major": 2,
       "version_minor": 0
      },
      "text/plain": [
       "HBox(children=(IntProgress(value=0, description='Batch', max=183, style=ProgressStyle(description_width='initi…"
      ]
     },
     "metadata": {},
     "output_type": "display_data"
    },
    {
     "name": "stdout",
     "output_type": "stream",
     "text": [
      "Epoch 123/1000 Iteration: 22600 Avg. Training loss: 5.0157 0.2316 sec/batch\n"
     ]
    },
    {
     "data": {
      "application/vnd.jupyter.widget-view+json": {
       "model_id": "",
       "version_major": 2,
       "version_minor": 0
      },
      "text/plain": [
       "HBox(children=(IntProgress(value=0, description='Batch', max=183, style=ProgressStyle(description_width='initi…"
      ]
     },
     "metadata": {},
     "output_type": "display_data"
    },
    {
     "name": "stdout",
     "output_type": "stream",
     "text": [
      "Epoch 124/1000 Iteration: 22700 Avg. Training loss: 5.2074 0.0204 sec/batch\n",
      "Epoch 124/1000 Iteration: 22800 Avg. Training loss: 5.0744 0.2553 sec/batch\n"
     ]
    },
    {
     "data": {
      "application/vnd.jupyter.widget-view+json": {
       "model_id": "",
       "version_major": 2,
       "version_minor": 0
      },
      "text/plain": [
       "HBox(children=(IntProgress(value=0, description='Batch', max=183, style=ProgressStyle(description_width='initi…"
      ]
     },
     "metadata": {},
     "output_type": "display_data"
    },
    {
     "name": "stdout",
     "output_type": "stream",
     "text": [
      "Epoch 125/1000 Iteration: 22900 Avg. Training loss: 5.1278 0.0639 sec/batch\n",
      "Epoch 125/1000 Iteration: 23000 Avg. Training loss: 4.9617 0.2597 sec/batch\n",
      "Nearest to aos: os, pelos, graças, também, e, por, entre, de,\n",
      "Nearest to até: agora, neste, quando, deve, próximo, mesmo, poderá, já,\n",
      "Nearest to governo: aliados, econômica, aprovar, congresso, retomar, pretende, ainda, oposição,\n",
      "Nearest to ?: sabe, acha, perguntar, quer, sim, você, não, sei,\n",
      "Nearest to para: a, objetivo, vão, poderá, ainda, vai, também, terá,\n",
      "Nearest to não: pois, porque, só, que, ainda, mas, nem, ele,\n",
      "Nearest to segundo: aponta, primeiro, ainda, mostrou, apontou, considera, chegou, recente,\n",
      "Nearest to ao: do, o, e, a, também, que, um, em,\n",
      "Nearest to vice-presidente: vice, presidente, temer, interino, assumir, michel, presidência, assuma,\n",
      "Nearest to ambos: dois, os, também, entre, outros, opostos, desconhecidos, nomes,\n",
      "Nearest to mar: mediterrâneo, naufrágio, travessia, oceano, barco, praia, egeu, correnteza,\n",
      "Nearest to parlamentares: deputados, congressistas, governistas, senadores, aliados, votação, emendas, bancada,\n",
      "Nearest to garantir: assegurar, manter, garante, depende, necessária, garantindo, garantido, permita,\n",
      "Nearest to colocar: manter, deixar, levar, para, colocou, acabar, fazer, trabalhar,\n",
      "Nearest to lima: abreu, vieira, carvalho, henrique, faria, gerson, araújo, márcio,\n",
      "Nearest to esporte: esportes, atleta, esportiva, atletas, natação, golfe, modalidade, judô,\n"
     ]
    },
    {
     "data": {
      "application/vnd.jupyter.widget-view+json": {
       "model_id": "",
       "version_major": 2,
       "version_minor": 0
      },
      "text/plain": [
       "HBox(children=(IntProgress(value=0, description='Batch', max=183, style=ProgressStyle(description_width='initi…"
      ]
     },
     "metadata": {},
     "output_type": "display_data"
    },
    {
     "name": "stdout",
     "output_type": "stream",
     "text": [
      "Epoch 126/1000 Iteration: 23100 Avg. Training loss: 5.1427 0.1086 sec/batch\n",
      "Epoch 126/1000 Iteration: 23200 Avg. Training loss: 4.9922 0.2557 sec/batch\n"
     ]
    },
    {
     "data": {
      "application/vnd.jupyter.widget-view+json": {
       "model_id": "",
       "version_major": 2,
       "version_minor": 0
      },
      "text/plain": [
       "HBox(children=(IntProgress(value=0, description='Batch', max=183, style=ProgressStyle(description_width='initi…"
      ]
     },
     "metadata": {},
     "output_type": "display_data"
    },
    {
     "name": "stdout",
     "output_type": "stream",
     "text": [
      "Epoch 127/1000 Iteration: 23300 Avg. Training loss: 5.0810 0.1541 sec/batch\n",
      "Epoch 127/1000 Iteration: 23400 Avg. Training loss: 5.0805 0.2555 sec/batch\n"
     ]
    },
    {
     "data": {
      "application/vnd.jupyter.widget-view+json": {
       "model_id": "",
       "version_major": 2,
       "version_minor": 0
      },
      "text/plain": [
       "HBox(children=(IntProgress(value=0, description='Batch', max=183, style=ProgressStyle(description_width='initi…"
      ]
     },
     "metadata": {},
     "output_type": "display_data"
    },
    {
     "name": "stdout",
     "output_type": "stream",
     "text": [
      "Epoch 128/1000 Iteration: 23500 Avg. Training loss: 5.0596 0.1957 sec/batch\n",
      "Epoch 128/1000 Iteration: 23600 Avg. Training loss: 4.9235 0.2552 sec/batch\n"
     ]
    },
    {
     "data": {
      "application/vnd.jupyter.widget-view+json": {
       "model_id": "",
       "version_major": 2,
       "version_minor": 0
      },
      "text/plain": [
       "HBox(children=(IntProgress(value=0, description='Batch', max=183, style=ProgressStyle(description_width='initi…"
      ]
     },
     "metadata": {},
     "output_type": "display_data"
    },
    {
     "name": "stdout",
     "output_type": "stream",
     "text": [
      "Epoch 129/1000 Iteration: 23700 Avg. Training loss: 5.3037 0.2376 sec/batch\n"
     ]
    },
    {
     "data": {
      "application/vnd.jupyter.widget-view+json": {
       "model_id": "",
       "version_major": 2,
       "version_minor": 0
      },
      "text/plain": [
       "HBox(children=(IntProgress(value=0, description='Batch', max=183, style=ProgressStyle(description_width='initi…"
      ]
     },
     "metadata": {},
     "output_type": "display_data"
    },
    {
     "name": "stdout",
     "output_type": "stream",
     "text": [
      "Epoch 130/1000 Iteration: 23800 Avg. Training loss: 5.0618 0.0259 sec/batch\n",
      "Epoch 130/1000 Iteration: 23900 Avg. Training loss: 5.1135 0.2551 sec/batch\n"
     ]
    },
    {
     "data": {
      "application/vnd.jupyter.widget-view+json": {
       "model_id": "",
       "version_major": 2,
       "version_minor": 0
      },
      "text/plain": [
       "HBox(children=(IntProgress(value=0, description='Batch', max=183, style=ProgressStyle(description_width='initi…"
      ]
     },
     "metadata": {},
     "output_type": "display_data"
    },
    {
     "name": "stdout",
     "output_type": "stream",
     "text": [
      "Epoch 131/1000 Iteration: 24000 Avg. Training loss: 5.2670 0.0685 sec/batch\n",
      "Nearest to pela: a, pelo, na, foi, da, qual, parte, ainda,\n",
      "Nearest to ): (, quinta-feira, nesta, terça-feira, quarta-feira, sexta-feira, quarta, quinta,\n",
      "Nearest to só: não, agora, porque, mesmo, pois, mas, apenas, ainda,\n",
      "Nearest to %: 0,00, subiu, 00,0, recuo, ante, ),, alta, ).,\n",
      "Nearest to muito: bastante, mas, algo, pouco, tão, porque, pois, importante,\n",
      "Nearest to fazer: saber, entender, mudar, pensar, buscar, só, dar, acabar,\n",
      "Nearest to com: e, ., em, ,, o, ainda, também, para,\n",
      "Nearest to aos: graças, os, por, também, pelos, de, e, entre,\n",
      "Nearest to desempenho: resultado, fraco, negativo, positivo, terceiro, esperado, apesar, melhora,\n",
      "Nearest to década: meados, desde, 0000, anos, últimos, passou, décadas, começo,\n",
      "Nearest to conseguir: tentar, conseguiu, ganhar, ajudar, para, consiga, precisava, precisa,\n",
      "Nearest to unidades: creches, período, centros, semestre, unidade, mil, básicas, atendimentos,\n",
      "Nearest to democracia: democrático, golpe, legitimidade, povo, respeito, lamentavelmente, plena, independência,\n",
      "Nearest to filmes: filme, cinema, cinemas, exibidos, documentários, longa-metragem, cineastas, dirigidos,\n",
      "Nearest to demanda: oferta, mercado, principalmente, melhora, atividade, entanto, ritmo, reflexo,\n",
      "Nearest to pf: polícia, depoimento, investigação, operação, deflagrada, investigadores, investigados, investigado,\n",
      "Epoch 131/1000 Iteration: 24100 Avg. Training loss: 5.0308 0.2626 sec/batch\n"
     ]
    },
    {
     "data": {
      "application/vnd.jupyter.widget-view+json": {
       "model_id": "",
       "version_major": 2,
       "version_minor": 0
      },
      "text/plain": [
       "HBox(children=(IntProgress(value=0, description='Batch', max=183, style=ProgressStyle(description_width='initi…"
      ]
     },
     "metadata": {},
     "output_type": "display_data"
    },
    {
     "name": "stdout",
     "output_type": "stream",
     "text": [
      "Epoch 132/1000 Iteration: 24200 Avg. Training loss: 5.1142 0.1128 sec/batch\n",
      "Epoch 132/1000 Iteration: 24300 Avg. Training loss: 5.1089 0.2543 sec/batch\n"
     ]
    },
    {
     "data": {
      "application/vnd.jupyter.widget-view+json": {
       "model_id": "",
       "version_major": 2,
       "version_minor": 0
      },
      "text/plain": [
       "HBox(children=(IntProgress(value=0, description='Batch', max=183, style=ProgressStyle(description_width='initi…"
      ]
     },
     "metadata": {},
     "output_type": "display_data"
    },
    {
     "name": "stdout",
     "output_type": "stream",
     "text": [
      "Epoch 133/1000 Iteration: 24400 Avg. Training loss: 5.0061 0.1554 sec/batch\n",
      "Epoch 133/1000 Iteration: 24500 Avg. Training loss: 5.0894 0.2541 sec/batch\n"
     ]
    },
    {
     "data": {
      "application/vnd.jupyter.widget-view+json": {
       "model_id": "",
       "version_major": 2,
       "version_minor": 0
      },
      "text/plain": [
       "HBox(children=(IntProgress(value=0, description='Batch', max=183, style=ProgressStyle(description_width='initi…"
      ]
     },
     "metadata": {},
     "output_type": "display_data"
    },
    {
     "name": "stdout",
     "output_type": "stream",
     "text": [
      "Epoch 134/1000 Iteration: 24600 Avg. Training loss: 5.1041 0.1992 sec/batch\n",
      "Epoch 134/1000 Iteration: 24700 Avg. Training loss: 5.0845 0.2554 sec/batch\n"
     ]
    },
    {
     "data": {
      "application/vnd.jupyter.widget-view+json": {
       "model_id": "",
       "version_major": 2,
       "version_minor": 0
      },
      "text/plain": [
       "HBox(children=(IntProgress(value=0, description='Batch', max=183, style=ProgressStyle(description_width='initi…"
      ]
     },
     "metadata": {},
     "output_type": "display_data"
    },
    {
     "name": "stdout",
     "output_type": "stream",
     "text": [
      "Epoch 135/1000 Iteration: 24800 Avg. Training loss: 5.1884 0.2421 sec/batch\n"
     ]
    },
    {
     "data": {
      "application/vnd.jupyter.widget-view+json": {
       "model_id": "",
       "version_major": 2,
       "version_minor": 0
      },
      "text/plain": [
       "HBox(children=(IntProgress(value=0, description='Batch', max=183, style=ProgressStyle(description_width='initi…"
      ]
     },
     "metadata": {},
     "output_type": "display_data"
    },
    {
     "name": "stdout",
     "output_type": "stream",
     "text": [
      "Epoch 136/1000 Iteration: 24900 Avg. Training loss: 5.1234 0.0309 sec/batch\n",
      "Epoch 136/1000 Iteration: 25000 Avg. Training loss: 5.2037 0.2547 sec/batch\n",
      "Nearest to é: tem, pois, qual, esse, faz, do, considera, que,\n",
      "Nearest to ter: teria, tenha, havia, terem, tivesse, tendo, fato, tido,\n",
      "Nearest to :: só, como, ;, ?, ,, exemplo, pode, hoje,\n",
      "Nearest to muito: bastante, mas, algo, tão, pouco, mais, porque, já,\n",
      "Nearest to também: já, o, do, de, ., ,, a, à,\n",
      "Nearest to ao: do, o, a, e, de, também, mesmo, para,\n",
      "Nearest to depois: após, logo, antes, já, início, quando, começo, fim,\n",
      "Nearest to como: também, já, o, ,, do, ., que, por,\n",
      "Nearest to tal: fato, essa, dessa, seria, pois, que, poderia, ideia,\n",
      "Nearest to casas: residências, apartamentos, moradias, prédios, construídas, imóveis, famílias, menos,\n",
      "Nearest to pretende: vai, decidiu, irá, para, quer, planeja, tentar, pretendia,\n",
      "Nearest to modo: nesse, esse, que, algo, é, tipo, assim, mesmo,\n",
      "Nearest to francisco: papa, pontífice, pontificado, vaticano, encíclica, padre, igreja, exortação,\n",
      "Nearest to esporte: esportes, atleta, esportiva, modalidade, atletas, esportistas, natação, modalidades,\n",
      "Nearest to discussão: tema, proposta, questão, pauta, discutir, discussões, uma, debater,\n",
      "Nearest to profissionais: médicos, qualificados, professores, educadores, qualificação, capacitados, desafio, docentes,\n"
     ]
    },
    {
     "data": {
      "application/vnd.jupyter.widget-view+json": {
       "model_id": "",
       "version_major": 2,
       "version_minor": 0
      },
      "text/plain": [
       "HBox(children=(IntProgress(value=0, description='Batch', max=183, style=ProgressStyle(description_width='initi…"
      ]
     },
     "metadata": {},
     "output_type": "display_data"
    },
    {
     "name": "stdout",
     "output_type": "stream",
     "text": [
      "Epoch 137/1000 Iteration: 25100 Avg. Training loss: 5.1896 0.0742 sec/batch\n",
      "Epoch 137/1000 Iteration: 25200 Avg. Training loss: 5.2631 0.2554 sec/batch\n"
     ]
    },
    {
     "data": {
      "application/vnd.jupyter.widget-view+json": {
       "model_id": "",
       "version_major": 2,
       "version_minor": 0
      },
      "text/plain": [
       "HBox(children=(IntProgress(value=0, description='Batch', max=183, style=ProgressStyle(description_width='initi…"
      ]
     },
     "metadata": {},
     "output_type": "display_data"
    },
    {
     "name": "stdout",
     "output_type": "stream",
     "text": [
      "Epoch 138/1000 Iteration: 25300 Avg. Training loss: 5.1617 0.1178 sec/batch\n",
      "Epoch 138/1000 Iteration: 25400 Avg. Training loss: 5.1284 0.2545 sec/batch\n"
     ]
    },
    {
     "data": {
      "application/vnd.jupyter.widget-view+json": {
       "model_id": "",
       "version_major": 2,
       "version_minor": 0
      },
      "text/plain": [
       "HBox(children=(IntProgress(value=0, description='Batch', max=183, style=ProgressStyle(description_width='initi…"
      ]
     },
     "metadata": {},
     "output_type": "display_data"
    },
    {
     "name": "stdout",
     "output_type": "stream",
     "text": [
      "Epoch 139/1000 Iteration: 25500 Avg. Training loss: 5.0892 0.1646 sec/batch\n",
      "Epoch 139/1000 Iteration: 25600 Avg. Training loss: 5.2181 0.2584 sec/batch\n"
     ]
    },
    {
     "data": {
      "application/vnd.jupyter.widget-view+json": {
       "model_id": "",
       "version_major": 2,
       "version_minor": 0
      },
      "text/plain": [
       "HBox(children=(IntProgress(value=0, description='Batch', max=183, style=ProgressStyle(description_width='initi…"
      ]
     },
     "metadata": {},
     "output_type": "display_data"
    },
    {
     "name": "stdout",
     "output_type": "stream",
     "text": [
      "Epoch 140/1000 Iteration: 25700 Avg. Training loss: 5.0942 0.2045 sec/batch\n",
      "Epoch 140/1000 Iteration: 25800 Avg. Training loss: 5.1952 0.2545 sec/batch\n"
     ]
    },
    {
     "data": {
      "application/vnd.jupyter.widget-view+json": {
       "model_id": "",
       "version_major": 2,
       "version_minor": 0
      },
      "text/plain": [
       "HBox(children=(IntProgress(value=0, description='Batch', max=183, style=ProgressStyle(description_width='initi…"
      ]
     },
     "metadata": {},
     "output_type": "display_data"
    },
    {
     "name": "stdout",
     "output_type": "stream",
     "text": [
      "Epoch 141/1000 Iteration: 25900 Avg. Training loss: 5.1640 0.2468 sec/batch\n"
     ]
    },
    {
     "data": {
      "application/vnd.jupyter.widget-view+json": {
       "model_id": "",
       "version_major": 2,
       "version_minor": 0
      },
      "text/plain": [
       "HBox(children=(IntProgress(value=0, description='Batch', max=183, style=ProgressStyle(description_width='initi…"
      ]
     },
     "metadata": {},
     "output_type": "display_data"
    },
    {
     "name": "stdout",
     "output_type": "stream",
     "text": [
      "Epoch 142/1000 Iteration: 26000 Avg. Training loss: 5.1143 0.0361 sec/batch\n",
      "Nearest to ano: passado, mês, deste, abril, junho, outubro, julho, dezembro,\n",
      "Nearest to estão: continuam, estariam, estavam, continuarão, estejam, estarem, estarão, ficam,\n",
      "Nearest to vai: precisa, poderá, começar, pretende, pode, deve, irá, terá,\n",
      "Nearest to 00: 0, em, até, de, seis, sexta-feira, quarta, 000,\n",
      "Nearest to seu: próprio, o, um, cujo, ao, dele, último, do,\n",
      "Nearest to diz: afirma, mas, disse, que, admite, ., também, ressaltou,\n",
      "Nearest to ter: teria, tenha, havia, terem, tivesse, tendo, teriam, fato,\n",
      "Nearest to dos: os, outros, de, alguns, também, além, do, desses,\n",
      "Nearest to estudos: científicos, pesquisas, experimentos, avançados, pesquisadores, progresso, pesquisador, dados,\n",
      "Nearest to veio: saiu, logo, entrou, trouxe, aconteceu, levou, fez, graças,\n",
      "Nearest to modo: esse, nesse, que, algo, tipo, fazê-lo, desse, qualquer,\n",
      "Nearest to abrir: abriu, abrirá, ampliar, fechar, abrindo, colocar, ampliou, aproveitou,\n",
      "Nearest to ouro: medalha, prata, londres-0000, medalhista, bronze, conquistou, medalhas, pequim-0000,\n",
      "Nearest to santa: catarina, cruz, fe, marcelina, luzia, cecília, teresinha, bobalhões,\n",
      "Nearest to demanda: oferta, expansão, melhora, atividade, principalmente, externo, mercado, produção,\n",
      "Nearest to garantir: assegurar, manter, depende, necessária, reforçar, garante, preservar, melhorar,\n",
      "Epoch 142/1000 Iteration: 26100 Avg. Training loss: 5.0205 0.2612 sec/batch\n"
     ]
    },
    {
     "data": {
      "application/vnd.jupyter.widget-view+json": {
       "model_id": "",
       "version_major": 2,
       "version_minor": 0
      },
      "text/plain": [
       "HBox(children=(IntProgress(value=0, description='Batch', max=183, style=ProgressStyle(description_width='initi…"
      ]
     },
     "metadata": {},
     "output_type": "display_data"
    },
    {
     "name": "stdout",
     "output_type": "stream",
     "text": [
      "Epoch 143/1000 Iteration: 26200 Avg. Training loss: 5.0704 0.0799 sec/batch\n",
      "Epoch 143/1000 Iteration: 26300 Avg. Training loss: 5.3073 0.2554 sec/batch\n"
     ]
    },
    {
     "data": {
      "application/vnd.jupyter.widget-view+json": {
       "model_id": "",
       "version_major": 2,
       "version_minor": 0
      },
      "text/plain": [
       "HBox(children=(IntProgress(value=0, description='Batch', max=183, style=ProgressStyle(description_width='initi…"
      ]
     },
     "metadata": {},
     "output_type": "display_data"
    },
    {
     "name": "stdout",
     "output_type": "stream",
     "text": [
      "Epoch 144/1000 Iteration: 26400 Avg. Training loss: 5.0304 0.1228 sec/batch\n",
      "Epoch 144/1000 Iteration: 26500 Avg. Training loss: 4.9504 0.2579 sec/batch\n"
     ]
    },
    {
     "data": {
      "application/vnd.jupyter.widget-view+json": {
       "model_id": "",
       "version_major": 2,
       "version_minor": 0
      },
      "text/plain": [
       "HBox(children=(IntProgress(value=0, description='Batch', max=183, style=ProgressStyle(description_width='initi…"
      ]
     },
     "metadata": {},
     "output_type": "display_data"
    },
    {
     "name": "stdout",
     "output_type": "stream",
     "text": [
      "Epoch 145/1000 Iteration: 26600 Avg. Training loss: 5.1400 0.1661 sec/batch\n",
      "Epoch 145/1000 Iteration: 26700 Avg. Training loss: 5.1264 0.2547 sec/batch\n"
     ]
    },
    {
     "data": {
      "application/vnd.jupyter.widget-view+json": {
       "model_id": "",
       "version_major": 2,
       "version_minor": 0
      },
      "text/plain": [
       "HBox(children=(IntProgress(value=0, description='Batch', max=183, style=ProgressStyle(description_width='initi…"
      ]
     },
     "metadata": {},
     "output_type": "display_data"
    },
    {
     "name": "stdout",
     "output_type": "stream",
     "text": [
      "Epoch 146/1000 Iteration: 26800 Avg. Training loss: 5.2712 0.2124 sec/batch\n",
      "Epoch 146/1000 Iteration: 26900 Avg. Training loss: 5.1834 0.2579 sec/batch\n"
     ]
    },
    {
     "data": {
      "application/vnd.jupyter.widget-view+json": {
       "model_id": "",
       "version_major": 2,
       "version_minor": 0
      },
      "text/plain": [
       "HBox(children=(IntProgress(value=0, description='Batch', max=183, style=ProgressStyle(description_width='initi…"
      ]
     },
     "metadata": {},
     "output_type": "display_data"
    },
    {
     "name": "stdout",
     "output_type": "stream",
     "text": [
      "Epoch 147/1000 Iteration: 27000 Avg. Training loss: 5.0481 0.2543 sec/batch\n",
      "Nearest to pelo: o, pela, foi, por, também, do, qual, ao,\n",
      "Nearest to (: ), nesta, quinta-feira, 00, quarta-feira, terça-feira, sexta-feira, segunda-feira,\n",
      "Nearest to maior: menor, aumentou, país, grande, principalmente, supera, expressiva, especialmente,\n",
      "Nearest to tem: é, ., de, tendo, têm, e, mesmo, com,\n",
      "Nearest to anos: meses, década, últimos, oito, primeiros, trinta, 0000, seguintes,\n",
      "Nearest to isso: mensagem, notícia, para, não, ou, aquilo, porque, basta,\n",
      "Nearest to está: continua, esteja, estar, estaria, estava, continuará, continuar, estou,\n",
      "Nearest to entre: também, com, de, ., e, ,, já, do,\n",
      "Nearest to participar: realizar, organizar, acompanhar, preparação, fará, participando, durante, envolver,\n",
      "Nearest to pf: polícia, depoimento, investigação, operação, investigadores, federal, investigações, curitiba,\n",
      "Nearest to avenida: avenidas, rua, pedestres, ciclovia, marginal, canteiro, consolação, viaduto,\n",
      "Nearest to esporte: esportes, esportiva, golfe, modalidade, modalidades, atleta, atletas, judô,\n",
      "Nearest to usuários: usuário, ferramenta, whatsapp, bloquear, aplicativo, app, facebook, internautas,\n",
      "Nearest to diferença: apenas, mesmo, soma, entanto, vantagem, entre, independentemente, acima,\n",
      "Nearest to chefe: gabinete, ex-chefe, afirmou, indicou, assessor, disse, departamento, chefia,\n",
      "Nearest to internacionais: nacionais, estrangeiras, eua, globais, sobretudo, intercâmbio, internacional, estrangeiros,\n"
     ]
    },
    {
     "data": {
      "application/vnd.jupyter.widget-view+json": {
       "model_id": "",
       "version_major": 2,
       "version_minor": 0
      },
      "text/plain": [
       "HBox(children=(IntProgress(value=0, description='Batch', max=183, style=ProgressStyle(description_width='initi…"
      ]
     },
     "metadata": {},
     "output_type": "display_data"
    },
    {
     "name": "stdout",
     "output_type": "stream",
     "text": [
      "Epoch 148/1000 Iteration: 27100 Avg. Training loss: 4.9385 0.0411 sec/batch\n",
      "Epoch 148/1000 Iteration: 27200 Avg. Training loss: 5.0778 0.2540 sec/batch\n"
     ]
    },
    {
     "data": {
      "application/vnd.jupyter.widget-view+json": {
       "model_id": "",
       "version_major": 2,
       "version_minor": 0
      },
      "text/plain": [
       "HBox(children=(IntProgress(value=0, description='Batch', max=183, style=ProgressStyle(description_width='initi…"
      ]
     },
     "metadata": {},
     "output_type": "display_data"
    },
    {
     "name": "stdout",
     "output_type": "stream",
     "text": [
      "Epoch 149/1000 Iteration: 27300 Avg. Training loss: 5.0902 0.0846 sec/batch\n",
      "Epoch 149/1000 Iteration: 27400 Avg. Training loss: 5.0290 0.2547 sec/batch\n"
     ]
    },
    {
     "data": {
      "application/vnd.jupyter.widget-view+json": {
       "model_id": "",
       "version_major": 2,
       "version_minor": 0
      },
      "text/plain": [
       "HBox(children=(IntProgress(value=0, description='Batch', max=183, style=ProgressStyle(description_width='initi…"
      ]
     },
     "metadata": {},
     "output_type": "display_data"
    },
    {
     "name": "stdout",
     "output_type": "stream",
     "text": [
      "Epoch 150/1000 Iteration: 27500 Avg. Training loss: 5.0882 0.1278 sec/batch\n",
      "Epoch 150/1000 Iteration: 27600 Avg. Training loss: 4.9264 0.2576 sec/batch\n"
     ]
    },
    {
     "data": {
      "application/vnd.jupyter.widget-view+json": {
       "model_id": "",
       "version_major": 2,
       "version_minor": 0
      },
      "text/plain": [
       "HBox(children=(IntProgress(value=0, description='Batch', max=183, style=ProgressStyle(description_width='initi…"
      ]
     },
     "metadata": {},
     "output_type": "display_data"
    },
    {
     "name": "stdout",
     "output_type": "stream",
     "text": [
      "Epoch 151/1000 Iteration: 27700 Avg. Training loss: 5.0129 0.1710 sec/batch\n",
      "Epoch 151/1000 Iteration: 27800 Avg. Training loss: 4.9673 0.2558 sec/batch\n"
     ]
    },
    {
     "data": {
      "application/vnd.jupyter.widget-view+json": {
       "model_id": "",
       "version_major": 2,
       "version_minor": 0
      },
      "text/plain": [
       "HBox(children=(IntProgress(value=0, description='Batch', max=183, style=ProgressStyle(description_width='initi…"
      ]
     },
     "metadata": {},
     "output_type": "display_data"
    },
    {
     "name": "stdout",
     "output_type": "stream",
     "text": [
      "Epoch 152/1000 Iteration: 27900 Avg. Training loss: 5.1652 0.2152 sec/batch\n"
     ]
    },
    {
     "data": {
      "application/vnd.jupyter.widget-view+json": {
       "model_id": "",
       "version_major": 2,
       "version_minor": 0
      },
      "text/plain": [
       "HBox(children=(IntProgress(value=0, description='Batch', max=183, style=ProgressStyle(description_width='initi…"
      ]
     },
     "metadata": {},
     "output_type": "display_data"
    },
    {
     "name": "stdout",
     "output_type": "stream",
     "text": [
      "Epoch 153/1000 Iteration: 28000 Avg. Training loss: 5.0136 0.0028 sec/batch\n",
      "Nearest to :: como, só, não, ,, pode, sempre, ;, exemplo,\n",
      "Nearest to %: 0,00, recuo, 00,0, subiu, alta, ante, ),, ).,\n",
      "Nearest to ao: o, do, que, também, e, a, em, um,\n",
      "Nearest to se: que, porém, pois, só, entanto, quem, é, ainda,\n",
      "Nearest to seus: os, outros, próprios, dos, mesmos, alguns, pessoais, têm,\n",
      "Nearest to uma: a, outra, numa, dessa, que, ., de, à,\n",
      "Nearest to .: ,, no, a, ainda, de, em, apenas, já,\n",
      "Nearest to pela: a, pelo, na, parte, da, última, qual, foi,\n",
      "Nearest to usuários: usuário, ferramenta, whatsapp, app, aplicativo, bloquear, facebook, internet,\n",
      "Nearest to europeia: ue, unido, reino, bloco, brexit, europeu, europeus, união,\n",
      "Nearest to amigo: outro, amizade, família, deles, irmão, conhecia, pai, então,\n",
      "Nearest to garantir: assegurar, depende, manter, necessária, garantindo, garante, preservar, dar,\n",
      "Nearest to democracia: democrático, golpe, plena, independência, lamentavelmente, respeito, democrática, soberania,\n",
      "Nearest to nossos: mesmos, todos, seus, os, comprometidos, devemos, nosso, temos,\n",
      "Nearest to veio: trouxe, aconteceu, logo, vieram, saiu, entrou, fez, começo,\n",
      "Nearest to pretende: irá, vai, decidiu, planeja, pretendia, quer, irão, para,\n",
      "Epoch 153/1000 Iteration: 28100 Avg. Training loss: 5.0005 0.2625 sec/batch\n"
     ]
    },
    {
     "data": {
      "application/vnd.jupyter.widget-view+json": {
       "model_id": "",
       "version_major": 2,
       "version_minor": 0
      },
      "text/plain": [
       "HBox(children=(IntProgress(value=0, description='Batch', max=183, style=ProgressStyle(description_width='initi…"
      ]
     },
     "metadata": {},
     "output_type": "display_data"
    },
    {
     "name": "stdout",
     "output_type": "stream",
     "text": [
      "Epoch 154/1000 Iteration: 28200 Avg. Training loss: 4.9360 0.0461 sec/batch\n",
      "Epoch 154/1000 Iteration: 28300 Avg. Training loss: 5.0394 0.2551 sec/batch\n"
     ]
    },
    {
     "data": {
      "application/vnd.jupyter.widget-view+json": {
       "model_id": "",
       "version_major": 2,
       "version_minor": 0
      },
      "text/plain": [
       "HBox(children=(IntProgress(value=0, description='Batch', max=183, style=ProgressStyle(description_width='initi…"
      ]
     },
     "metadata": {},
     "output_type": "display_data"
    },
    {
     "name": "stdout",
     "output_type": "stream",
     "text": [
      "Epoch 155/1000 Iteration: 28400 Avg. Training loss: 4.9661 0.0888 sec/batch\n",
      "Epoch 155/1000 Iteration: 28500 Avg. Training loss: 4.9925 0.2556 sec/batch\n"
     ]
    },
    {
     "data": {
      "application/vnd.jupyter.widget-view+json": {
       "model_id": "",
       "version_major": 2,
       "version_minor": 0
      },
      "text/plain": [
       "HBox(children=(IntProgress(value=0, description='Batch', max=183, style=ProgressStyle(description_width='initi…"
      ]
     },
     "metadata": {},
     "output_type": "display_data"
    },
    {
     "name": "stdout",
     "output_type": "stream",
     "text": [
      "Epoch 156/1000 Iteration: 28600 Avg. Training loss: 5.0120 0.1331 sec/batch\n",
      "Epoch 156/1000 Iteration: 28700 Avg. Training loss: 5.2719 0.2545 sec/batch\n"
     ]
    },
    {
     "data": {
      "application/vnd.jupyter.widget-view+json": {
       "model_id": "",
       "version_major": 2,
       "version_minor": 0
      },
      "text/plain": [
       "HBox(children=(IntProgress(value=0, description='Batch', max=183, style=ProgressStyle(description_width='initi…"
      ]
     },
     "metadata": {},
     "output_type": "display_data"
    },
    {
     "name": "stdout",
     "output_type": "stream",
     "text": [
      "Epoch 157/1000 Iteration: 28800 Avg. Training loss: 5.0309 0.1766 sec/batch\n",
      "Epoch 157/1000 Iteration: 28900 Avg. Training loss: 5.1104 0.2551 sec/batch\n"
     ]
    },
    {
     "data": {
      "application/vnd.jupyter.widget-view+json": {
       "model_id": "",
       "version_major": 2,
       "version_minor": 0
      },
      "text/plain": [
       "HBox(children=(IntProgress(value=0, description='Batch', max=183, style=ProgressStyle(description_width='initi…"
      ]
     },
     "metadata": {},
     "output_type": "display_data"
    },
    {
     "name": "stdout",
     "output_type": "stream",
     "text": [
      "Epoch 158/1000 Iteration: 29000 Avg. Training loss: 4.9483 0.2200 sec/batch\n",
      "Nearest to era: fosse, tinha, fazia, naquele, poderia, foi, sabia, época,\n",
      "Nearest to ele: que, mas, ainda, não, qual, entanto, ela, apenas,\n",
      "Nearest to depois: após, antes, logo, já, início, começo, fim, último,\n",
      "Nearest to 0: 00, domingo, neste, sábado, na, quarta, sexta, final,\n",
      "Nearest to da: a, de, na, à, ,, ., também, do,\n",
      "Nearest to 000: cerca, mil, 0.000, 00, aproximadamente, total, dobro, equivalente,\n",
      "Nearest to ser: será, ter, mas, pois, pelo, sido, foi, só,\n",
      "Nearest to que: ainda, ,, ., não, pois, a, já, ele,\n",
      "Nearest to discussão: proposta, tema, questão, pauta, discutir, discussões, debater, aprovação,\n",
      "Nearest to previsão: expectativa, esperada, prevista, previsto, deve, este, ainda, entanto,\n",
      "Nearest to pf: polícia, depoimento, investigação, operação, federal, investigadores, investigados, deflagrada,\n",
      "Nearest to global: aquecimento, países, recente, brasil, maior, boom, globais, climática,\n",
      "Nearest to escreveu: publicou, ,, criticando, fez, afirmou, ], dizendo, então,\n",
      "Nearest to deverá: poderá, deve, deverão, terá, será, irá, voltará, vai,\n",
      "Nearest to ambos: dois, os, também, entre, outros, deles, ,, novos,\n",
      "Nearest to médico: clínico, paciente, hospital, clínicas, atendimento, iml, médicos, encaminhado,\n"
     ]
    },
    {
     "data": {
      "application/vnd.jupyter.widget-view+json": {
       "model_id": "",
       "version_major": 2,
       "version_minor": 0
      },
      "text/plain": [
       "HBox(children=(IntProgress(value=0, description='Batch', max=183, style=ProgressStyle(description_width='initi…"
      ]
     },
     "metadata": {},
     "output_type": "display_data"
    },
    {
     "name": "stdout",
     "output_type": "stream",
     "text": [
      "Epoch 159/1000 Iteration: 29100 Avg. Training loss: 5.0030 0.0077 sec/batch\n",
      "Epoch 159/1000 Iteration: 29200 Avg. Training loss: 5.0348 0.2567 sec/batch\n"
     ]
    },
    {
     "data": {
      "application/vnd.jupyter.widget-view+json": {
       "model_id": "",
       "version_major": 2,
       "version_minor": 0
      },
      "text/plain": [
       "HBox(children=(IntProgress(value=0, description='Batch', max=183, style=ProgressStyle(description_width='initi…"
      ]
     },
     "metadata": {},
     "output_type": "display_data"
    },
    {
     "name": "stdout",
     "output_type": "stream",
     "text": [
      "Epoch 160/1000 Iteration: 29300 Avg. Training loss: 5.1576 0.0512 sec/batch\n",
      "Epoch 160/1000 Iteration: 29400 Avg. Training loss: 5.1183 0.2573 sec/batch\n"
     ]
    },
    {
     "data": {
      "application/vnd.jupyter.widget-view+json": {
       "model_id": "",
       "version_major": 2,
       "version_minor": 0
      },
      "text/plain": [
       "HBox(children=(IntProgress(value=0, description='Batch', max=183, style=ProgressStyle(description_width='initi…"
      ]
     },
     "metadata": {},
     "output_type": "display_data"
    },
    {
     "name": "stdout",
     "output_type": "stream",
     "text": [
      "Epoch 161/1000 Iteration: 29500 Avg. Training loss: 5.0264 0.0944 sec/batch\n",
      "Epoch 161/1000 Iteration: 29600 Avg. Training loss: 5.1063 0.2589 sec/batch\n"
     ]
    },
    {
     "data": {
      "application/vnd.jupyter.widget-view+json": {
       "model_id": "",
       "version_major": 2,
       "version_minor": 0
      },
      "text/plain": [
       "HBox(children=(IntProgress(value=0, description='Batch', max=183, style=ProgressStyle(description_width='initi…"
      ]
     },
     "metadata": {},
     "output_type": "display_data"
    },
    {
     "name": "stdout",
     "output_type": "stream",
     "text": [
      "Epoch 162/1000 Iteration: 29700 Avg. Training loss: 4.8985 0.1402 sec/batch\n",
      "Epoch 162/1000 Iteration: 29800 Avg. Training loss: 5.0284 0.2564 sec/batch\n"
     ]
    },
    {
     "data": {
      "application/vnd.jupyter.widget-view+json": {
       "model_id": "",
       "version_major": 2,
       "version_minor": 0
      },
      "text/plain": [
       "HBox(children=(IntProgress(value=0, description='Batch', max=183, style=ProgressStyle(description_width='initi…"
      ]
     },
     "metadata": {},
     "output_type": "display_data"
    },
    {
     "name": "stdout",
     "output_type": "stream",
     "text": [
      "Epoch 163/1000 Iteration: 29900 Avg. Training loss: 4.9256 0.1818 sec/batch\n",
      "Epoch 163/1000 Iteration: 30000 Avg. Training loss: 4.8991 0.2587 sec/batch\n",
      "Nearest to ): (, quinta-feira, nesta, terça-feira, quarta-feira, 00, sexta-feira, segunda-feira,\n",
      "Nearest to dia: outubro, março, início, novembro, antes, último, mês, semana,\n",
      "Nearest to brasil: mundo, país, no, ., países, a, e, brasileiro,\n",
      "Nearest to paulo: são, sp, paulista, de, e, sábado, ,, campinas,\n",
      "Nearest to (: ), quinta-feira, nesta, 00, sexta-feira, quarta-feira, terça-feira, segunda-feira,\n",
      "Nearest to tem: ., é, têm, de, e, também, possui, do,\n",
      "Nearest to diz: afirma, que, considera, ., disse, mas, reconhece, referindo-se,\n",
      "Nearest to seus: os, próprios, outros, dos, dois, esses, alguns, muitos,\n",
      "Nearest to referência: vista, utilizado, usado, financeiro, do, comercial, parte, encerrou,\n",
      "Nearest to livros: romances, contos, best-sellers, didáticos, textos, literatura, editoras, volumes,\n",
      "Nearest to minas: gerais, espírito, pimentel, bahia, ceará, tocantins, rondônia, goiás,\n",
      "Nearest to escreveu: publicou, criticando, ,, dizendo, fez, ., dizia, afirmou,\n",
      "Nearest to aliados: aliado, peemedebista, parlamentares, peemedebistas, interlocutores, governo, planalto, aliada,\n",
      "Nearest to ouro: medalha, prata, bronze, londres-0000, medalhista, medalhas, conquistou, pequim-0000,\n",
      "Nearest to encontrar: buscar, entender, achar, procurar, manter, sair, fazer, mostrar,\n",
      "Nearest to internacionais: nacionais, eua, estrangeiras, incluindo, país, além, intercâmbio, sobretudo,\n"
     ]
    },
    {
     "data": {
      "application/vnd.jupyter.widget-view+json": {
       "model_id": "",
       "version_major": 2,
       "version_minor": 0
      },
      "text/plain": [
       "HBox(children=(IntProgress(value=0, description='Batch', max=183, style=ProgressStyle(description_width='initi…"
      ]
     },
     "metadata": {},
     "output_type": "display_data"
    },
    {
     "name": "stdout",
     "output_type": "stream",
     "text": [
      "Epoch 164/1000 Iteration: 30100 Avg. Training loss: 5.0424 0.2263 sec/batch\n"
     ]
    },
    {
     "data": {
      "application/vnd.jupyter.widget-view+json": {
       "model_id": "",
       "version_major": 2,
       "version_minor": 0
      },
      "text/plain": [
       "HBox(children=(IntProgress(value=0, description='Batch', max=183, style=ProgressStyle(description_width='initi…"
      ]
     },
     "metadata": {},
     "output_type": "display_data"
    },
    {
     "name": "stdout",
     "output_type": "stream",
     "text": [
      "Epoch 165/1000 Iteration: 30200 Avg. Training loss: 5.1251 0.0129 sec/batch\n",
      "Epoch 165/1000 Iteration: 30300 Avg. Training loss: 5.0443 0.2557 sec/batch\n"
     ]
    },
    {
     "data": {
      "application/vnd.jupyter.widget-view+json": {
       "model_id": "",
       "version_major": 2,
       "version_minor": 0
      },
      "text/plain": [
       "HBox(children=(IntProgress(value=0, description='Batch', max=183, style=ProgressStyle(description_width='initi…"
      ]
     },
     "metadata": {},
     "output_type": "display_data"
    },
    {
     "name": "stdout",
     "output_type": "stream",
     "text": [
      "Epoch 166/1000 Iteration: 30400 Avg. Training loss: 5.0273 0.0565 sec/batch\n",
      "Epoch 166/1000 Iteration: 30500 Avg. Training loss: 5.1623 0.2551 sec/batch\n"
     ]
    },
    {
     "data": {
      "application/vnd.jupyter.widget-view+json": {
       "model_id": "",
       "version_major": 2,
       "version_minor": 0
      },
      "text/plain": [
       "HBox(children=(IntProgress(value=0, description='Batch', max=183, style=ProgressStyle(description_width='initi…"
      ]
     },
     "metadata": {},
     "output_type": "display_data"
    },
    {
     "name": "stdout",
     "output_type": "stream",
     "text": [
      "Epoch 167/1000 Iteration: 30600 Avg. Training loss: 5.2126 0.0994 sec/batch\n",
      "Epoch 167/1000 Iteration: 30700 Avg. Training loss: 4.9289 0.2558 sec/batch\n"
     ]
    },
    {
     "data": {
      "application/vnd.jupyter.widget-view+json": {
       "model_id": "",
       "version_major": 2,
       "version_minor": 0
      },
      "text/plain": [
       "HBox(children=(IntProgress(value=0, description='Batch', max=183, style=ProgressStyle(description_width='initi…"
      ]
     },
     "metadata": {},
     "output_type": "display_data"
    },
    {
     "name": "stdout",
     "output_type": "stream",
     "text": [
      "Epoch 168/1000 Iteration: 30800 Avg. Training loss: 5.0214 0.1431 sec/batch\n",
      "Epoch 168/1000 Iteration: 30900 Avg. Training loss: 5.2881 0.2554 sec/batch\n"
     ]
    },
    {
     "data": {
      "application/vnd.jupyter.widget-view+json": {
       "model_id": "",
       "version_major": 2,
       "version_minor": 0
      },
      "text/plain": [
       "HBox(children=(IntProgress(value=0, description='Batch', max=183, style=ProgressStyle(description_width='initi…"
      ]
     },
     "metadata": {},
     "output_type": "display_data"
    },
    {
     "name": "stdout",
     "output_type": "stream",
     "text": [
      "Epoch 169/1000 Iteration: 31000 Avg. Training loss: 4.9938 0.1863 sec/batch\n",
      "Nearest to ter: teria, tenha, havia, terem, teriam, tendo, fato, sido,\n",
      "Nearest to mas: ainda, já, pois, que, porém, ., não, apenas,\n",
      "Nearest to até: agora, só, quando, ainda, antes, início, mesmo, fim,\n",
      "Nearest to pode: poderá, deve, poderia, vai, possível, possa, precisa, houver,\n",
      "Nearest to r$: us$, valor, 000, bilhões, 00,00, 0,00, cerca, bilhão,\n",
      "Nearest to em: de, ., ,, no, já, também, com, a,\n",
      "Nearest to para: a, objetivo, com, ainda, ., agora, e, também,\n",
      "Nearest to está: continua, esteja, estava, estaria, estar, continuará, ainda, pois,\n",
      "Nearest to quero: posso, vocês, devo, vai, sou, espero, puder, vou,\n",
      "Nearest to data: datas, ocorrerá, calendário, antes, oficialmente, deve, ocorrer, término,\n",
      "Nearest to deverá: poderá, deve, será, deverão, terá, irá, pode, voltará,\n",
      "Nearest to palácio: planalto, alvorada, jaburu, peemedebista, temer, esplanada, ministerial, interino,\n",
      "Nearest to esporte: esportes, esportiva, atleta, modalidade, natação, competições, atletas, golfe,\n",
      "Nearest to financiamento: financiar, caixa, privado, financiados, financiamentos, viabilizar, financiado, financia,\n",
      "Nearest to mortes: óbitos, anúncios, ocorridas, missas, homicídios, causadas, assassinatos, chacinas,\n",
      "Nearest to globo: tv, record, emissora, band, canal, sbt, novelas, televisão,\n",
      "Epoch 169/1000 Iteration: 31100 Avg. Training loss: 4.9683 0.2628 sec/batch\n"
     ]
    },
    {
     "data": {
      "application/vnd.jupyter.widget-view+json": {
       "model_id": "",
       "version_major": 2,
       "version_minor": 0
      },
      "text/plain": [
       "HBox(children=(IntProgress(value=0, description='Batch', max=183, style=ProgressStyle(description_width='initi…"
      ]
     },
     "metadata": {},
     "output_type": "display_data"
    },
    {
     "name": "stdout",
     "output_type": "stream",
     "text": [
      "Epoch 170/1000 Iteration: 31200 Avg. Training loss: 4.9672 0.2291 sec/batch\n"
     ]
    },
    {
     "data": {
      "application/vnd.jupyter.widget-view+json": {
       "model_id": "",
       "version_major": 2,
       "version_minor": 0
      },
      "text/plain": [
       "HBox(children=(IntProgress(value=0, description='Batch', max=183, style=ProgressStyle(description_width='initi…"
      ]
     },
     "metadata": {},
     "output_type": "display_data"
    },
    {
     "name": "stdout",
     "output_type": "stream",
     "text": [
      "Epoch 171/1000 Iteration: 31300 Avg. Training loss: 5.0624 0.0180 sec/batch\n",
      "Epoch 171/1000 Iteration: 31400 Avg. Training loss: 4.9832 0.2557 sec/batch\n"
     ]
    },
    {
     "data": {
      "application/vnd.jupyter.widget-view+json": {
       "model_id": "",
       "version_major": 2,
       "version_minor": 0
      },
      "text/plain": [
       "HBox(children=(IntProgress(value=0, description='Batch', max=183, style=ProgressStyle(description_width='initi…"
      ]
     },
     "metadata": {},
     "output_type": "display_data"
    },
    {
     "name": "stdout",
     "output_type": "stream",
     "text": [
      "Epoch 172/1000 Iteration: 31500 Avg. Training loss: 5.1973 0.0609 sec/batch\n",
      "Epoch 172/1000 Iteration: 31600 Avg. Training loss: 5.1688 0.2549 sec/batch\n"
     ]
    },
    {
     "data": {
      "application/vnd.jupyter.widget-view+json": {
       "model_id": "",
       "version_major": 2,
       "version_minor": 0
      },
      "text/plain": [
       "HBox(children=(IntProgress(value=0, description='Batch', max=183, style=ProgressStyle(description_width='initi…"
      ]
     },
     "metadata": {},
     "output_type": "display_data"
    },
    {
     "name": "stdout",
     "output_type": "stream",
     "text": [
      "Epoch 173/1000 Iteration: 31700 Avg. Training loss: 4.9787 0.1046 sec/batch\n",
      "Epoch 173/1000 Iteration: 31800 Avg. Training loss: 4.9661 0.2560 sec/batch\n"
     ]
    },
    {
     "data": {
      "application/vnd.jupyter.widget-view+json": {
       "model_id": "",
       "version_major": 2,
       "version_minor": 0
      },
      "text/plain": [
       "HBox(children=(IntProgress(value=0, description='Batch', max=183, style=ProgressStyle(description_width='initi…"
      ]
     },
     "metadata": {},
     "output_type": "display_data"
    },
    {
     "name": "stdout",
     "output_type": "stream",
     "text": [
      "Epoch 174/1000 Iteration: 31900 Avg. Training loss: 5.1541 0.1478 sec/batch\n",
      "Epoch 174/1000 Iteration: 32000 Avg. Training loss: 5.0520 0.2543 sec/batch\n",
      "Nearest to sem: dá, apenas, inclusive, ., nenhum, com, tem, de,\n",
      "Nearest to foram: serem, serão, fossem, seriam, eram, forem, estavam, tiveram,\n",
      "Nearest to dos: os, outros, de, têm, além, também, alguns, principais,\n",
      "Nearest to está: esteja, continua, estava, estar, estaria, continuará, ainda, vem,\n",
      "Nearest to também: de, ., e, como, já, ,, o, que,\n",
      "Nearest to os: dos, outros, esses, alguns, seus, dois, estes, desses,\n",
      "Nearest to ): (, quinta-feira, nesta, terça-feira, quarta-feira, segunda-feira, sexta-feira, terça,\n",
      "Nearest to fazer: mudar, saber, dar, só, pensar, ir, precisar, mas,\n",
      "Nearest to escreveu: publicou, criticando, dizendo, argumentou, afirmando, intitulado, dizia, defendendo,\n",
      "Nearest to palácio: planalto, alvorada, jaburu, peemedebista, temer, interino, esplanada, auxiliares,\n",
      "Nearest to estratégia: tentar, a, objetivo, estratégias, agressiva, pretende, tenta, intuito,\n",
      "Nearest to EMAIL: enviar, basta, e-mail, envie, acessar, traduzem, publicados, colaborar,\n",
      "Nearest to modo: que, pois, algo, nesse, esse, desse, assim, qualquer,\n",
      "Nearest to investidores: mercados, mercado, volatilidade, ativos, bancos, fundos, otimismo, emergentes,\n",
      "Nearest to bairro: bairros, residencial, cidade, morador, oeste, moram, jardim, zona,\n",
      "Nearest to comercial: transações, utilizado, exterior, comércio, usado, dólar, referência, balança,\n"
     ]
    },
    {
     "data": {
      "application/vnd.jupyter.widget-view+json": {
       "model_id": "",
       "version_major": 2,
       "version_minor": 0
      },
      "text/plain": [
       "HBox(children=(IntProgress(value=0, description='Batch', max=183, style=ProgressStyle(description_width='initi…"
      ]
     },
     "metadata": {},
     "output_type": "display_data"
    },
    {
     "name": "stdout",
     "output_type": "stream",
     "text": [
      "Epoch 175/1000 Iteration: 32100 Avg. Training loss: 5.0182 0.1923 sec/batch\n",
      "Epoch 175/1000 Iteration: 32200 Avg. Training loss: 5.1922 0.2569 sec/batch\n"
     ]
    },
    {
     "data": {
      "application/vnd.jupyter.widget-view+json": {
       "model_id": "",
       "version_major": 2,
       "version_minor": 0
      },
      "text/plain": [
       "HBox(children=(IntProgress(value=0, description='Batch', max=183, style=ProgressStyle(description_width='initi…"
      ]
     },
     "metadata": {},
     "output_type": "display_data"
    },
    {
     "name": "stdout",
     "output_type": "stream",
     "text": [
      "Epoch 176/1000 Iteration: 32300 Avg. Training loss: 5.1638 0.2356 sec/batch\n"
     ]
    },
    {
     "data": {
      "application/vnd.jupyter.widget-view+json": {
       "model_id": "",
       "version_major": 2,
       "version_minor": 0
      },
      "text/plain": [
       "HBox(children=(IntProgress(value=0, description='Batch', max=183, style=ProgressStyle(description_width='initi…"
      ]
     },
     "metadata": {},
     "output_type": "display_data"
    },
    {
     "name": "stdout",
     "output_type": "stream",
     "text": [
      "Epoch 177/1000 Iteration: 32400 Avg. Training loss: 5.0039 0.0233 sec/batch\n",
      "Epoch 177/1000 Iteration: 32500 Avg. Training loss: 5.3746 0.2558 sec/batch\n"
     ]
    },
    {
     "data": {
      "application/vnd.jupyter.widget-view+json": {
       "model_id": "",
       "version_major": 2,
       "version_minor": 0
      },
      "text/plain": [
       "HBox(children=(IntProgress(value=0, description='Batch', max=183, style=ProgressStyle(description_width='initi…"
      ]
     },
     "metadata": {},
     "output_type": "display_data"
    },
    {
     "name": "stdout",
     "output_type": "stream",
     "text": [
      "Epoch 178/1000 Iteration: 32600 Avg. Training loss: 5.0771 0.0667 sec/batch\n",
      "Epoch 178/1000 Iteration: 32700 Avg. Training loss: 5.1225 0.2580 sec/batch\n"
     ]
    },
    {
     "data": {
      "application/vnd.jupyter.widget-view+json": {
       "model_id": "",
       "version_major": 2,
       "version_minor": 0
      },
      "text/plain": [
       "HBox(children=(IntProgress(value=0, description='Batch', max=183, style=ProgressStyle(description_width='initi…"
      ]
     },
     "metadata": {},
     "output_type": "display_data"
    },
    {
     "name": "stdout",
     "output_type": "stream",
     "text": [
      "Epoch 179/1000 Iteration: 32800 Avg. Training loss: 5.0000 0.1108 sec/batch\n",
      "Epoch 179/1000 Iteration: 32900 Avg. Training loss: 5.2451 0.2556 sec/batch\n"
     ]
    },
    {
     "data": {
      "application/vnd.jupyter.widget-view+json": {
       "model_id": "",
       "version_major": 2,
       "version_minor": 0
      },
      "text/plain": [
       "HBox(children=(IntProgress(value=0, description='Batch', max=183, style=ProgressStyle(description_width='initi…"
      ]
     },
     "metadata": {},
     "output_type": "display_data"
    },
    {
     "name": "stdout",
     "output_type": "stream",
     "text": [
      "Epoch 180/1000 Iteration: 33000 Avg. Training loss: 5.1159 0.1543 sec/batch\n",
      "Nearest to são: paulo, de, ., e, sp, paulista, foram, também,\n",
      "Nearest to 000: cerca, mil, 0.000, 00, dobro, aproximadamente, total, r$,\n",
      "Nearest to sem: apenas, ., dá, inclusive, para, com, de, também,\n",
      "Nearest to a: à, ., também, uma, da, de, que, parte,\n",
      "Nearest to ainda: mas, já, que, agora, entanto, porém, ., apenas,\n",
      "Nearest to país: principalmente, maior, especialmente, sobretudo, países, há, mas, que,\n",
      "Nearest to isso: notícia, porque, mensagem, não, aquilo, para, ou, sua,\n",
      "Nearest to ,: ., de, e, também, já, que, em, há,\n",
      "Nearest to provas: prova, obtidas, alegações, evidências, suficientes, depoimentos, indícios, acusações,\n",
      "Nearest to aliados: aliado, peemedebista, parlamentares, peemedebistas, aliada, planalto, governo, interlocutores,\n",
      "Nearest to palácio: planalto, alvorada, jaburu, peemedebista, temer, encontro, esplanada, interino,\n",
      "Nearest to unido: reino, ue, brexit, britânicos, europeia, britânica, permanência, grã-bretanha,\n",
      "Nearest to querem: desejam, quer, pretendem, vão, conseguem, querer, quiserem, decidiram,\n",
      "Nearest to vê: ,, acha, tanto, preocupa, tem, atrapalha, ., de,\n",
      "Nearest to abrir: abriu, abrirá, fechar, abrindo, ampliar, colocar, ampliou, aproveitou,\n",
      "Nearest to chefe: ex-chefe, gabinete, afirmou, departamento, segurança, chefia, nomeado, indicou,\n",
      "Epoch 180/1000 Iteration: 33100 Avg. Training loss: 5.0011 0.2638 sec/batch\n"
     ]
    },
    {
     "data": {
      "application/vnd.jupyter.widget-view+json": {
       "model_id": "",
       "version_major": 2,
       "version_minor": 0
      },
      "text/plain": [
       "HBox(children=(IntProgress(value=0, description='Batch', max=183, style=ProgressStyle(description_width='initi…"
      ]
     },
     "metadata": {},
     "output_type": "display_data"
    },
    {
     "name": "stdout",
     "output_type": "stream",
     "text": [
      "Epoch 181/1000 Iteration: 33200 Avg. Training loss: 5.0588 0.1967 sec/batch\n",
      "Epoch 181/1000 Iteration: 33300 Avg. Training loss: 5.2400 0.2550 sec/batch\n"
     ]
    },
    {
     "data": {
      "application/vnd.jupyter.widget-view+json": {
       "model_id": "",
       "version_major": 2,
       "version_minor": 0
      },
      "text/plain": [
       "HBox(children=(IntProgress(value=0, description='Batch', max=183, style=ProgressStyle(description_width='initi…"
      ]
     },
     "metadata": {},
     "output_type": "display_data"
    },
    {
     "name": "stdout",
     "output_type": "stream",
     "text": [
      "Epoch 182/1000 Iteration: 33400 Avg. Training loss: 5.1875 0.2399 sec/batch\n"
     ]
    },
    {
     "data": {
      "application/vnd.jupyter.widget-view+json": {
       "model_id": "",
       "version_major": 2,
       "version_minor": 0
      },
      "text/plain": [
       "HBox(children=(IntProgress(value=0, description='Batch', max=183, style=ProgressStyle(description_width='initi…"
      ]
     },
     "metadata": {},
     "output_type": "display_data"
    },
    {
     "name": "stdout",
     "output_type": "stream",
     "text": [
      "Epoch 183/1000 Iteration: 33500 Avg. Training loss: 5.1525 0.0284 sec/batch\n",
      "Epoch 183/1000 Iteration: 33600 Avg. Training loss: 5.0455 0.2555 sec/batch\n"
     ]
    },
    {
     "data": {
      "application/vnd.jupyter.widget-view+json": {
       "model_id": "",
       "version_major": 2,
       "version_minor": 0
      },
      "text/plain": [
       "HBox(children=(IntProgress(value=0, description='Batch', max=183, style=ProgressStyle(description_width='initi…"
      ]
     },
     "metadata": {},
     "output_type": "display_data"
    },
    {
     "name": "stdout",
     "output_type": "stream",
     "text": [
      "Epoch 184/1000 Iteration: 33700 Avg. Training loss: 4.9575 0.0710 sec/batch\n",
      "Epoch 184/1000 Iteration: 33800 Avg. Training loss: 5.1181 0.2558 sec/batch\n"
     ]
    },
    {
     "data": {
      "application/vnd.jupyter.widget-view+json": {
       "model_id": "",
       "version_major": 2,
       "version_minor": 0
      },
      "text/plain": [
       "HBox(children=(IntProgress(value=0, description='Batch', max=183, style=ProgressStyle(description_width='initi…"
      ]
     },
     "metadata": {},
     "output_type": "display_data"
    },
    {
     "name": "stdout",
     "output_type": "stream",
     "text": [
      "Epoch 185/1000 Iteration: 33900 Avg. Training loss: 5.0965 0.1165 sec/batch\n",
      "Epoch 185/1000 Iteration: 34000 Avg. Training loss: 5.0333 0.2570 sec/batch\n",
      "Nearest to ele: que, mas, ainda, ela, qual, então, não, o,\n",
      "Nearest to paulo: são, sp, paulista, campinas, de, alckmin, sorocaba, prefeitura,\n",
      "Nearest to eu: cheguei, meu, sei, comigo, deixei, acredito, vou, mim,\n",
      "Nearest to no: ., último, em, o, do, ainda, neste, deste,\n",
      "Nearest to só: mesmo, mas, não, agora, porque, ainda, apenas, somente,\n",
      "Nearest to ano: passado, mês, deste, abril, outubro, semestre, junho, julho,\n",
      "Nearest to nas: das, pelas, dessas, as, de, primeiras, nessas, algumas,\n",
      "Nearest to brasil: mundo, no, país, ., a, pior, países, brasileiro,\n",
      "Nearest to quarto: terceiro, consecutivo, quinto, primeiro, sexto, oitavo, último, colocado,\n",
      "Nearest to mortes: óbitos, homicídios, missas, anúncios, acidentes, letalidade, ocorridas, veja,\n",
      "Nearest to demanda: melhora, oferta, expansão, entanto, atividade, principalmente, consequência, consumo,\n",
      "Nearest to financiamento: privado, financiar, caixa, financiamentos, fies, viabilizar, campanhas, bancar,\n",
      "Nearest to querem: desejam, pretendem, quer, vão, quiserem, querer, conseguem, precisam,\n",
      "Nearest to mínimo: salário, valor, benefício, gasto, máximo, mínimos, ganham, equivalente,\n",
      "Nearest to conversa: conversas, gravação, áudio, gravada, gravações, diálogo, conversar, interlocutores,\n",
      "Nearest to queria: poderia, iria, precisava, podia, querer, preferia, pudesse, quisesse,\n"
     ]
    },
    {
     "data": {
      "application/vnd.jupyter.widget-view+json": {
       "model_id": "",
       "version_major": 2,
       "version_minor": 0
      },
      "text/plain": [
       "HBox(children=(IntProgress(value=0, description='Batch', max=183, style=ProgressStyle(description_width='initi…"
      ]
     },
     "metadata": {},
     "output_type": "display_data"
    },
    {
     "name": "stdout",
     "output_type": "stream",
     "text": [
      "Epoch 186/1000 Iteration: 34100 Avg. Training loss: 5.1466 0.1581 sec/batch\n",
      "Epoch 186/1000 Iteration: 34200 Avg. Training loss: 5.1187 0.2552 sec/batch\n"
     ]
    },
    {
     "data": {
      "application/vnd.jupyter.widget-view+json": {
       "model_id": "",
       "version_major": 2,
       "version_minor": 0
      },
      "text/plain": [
       "HBox(children=(IntProgress(value=0, description='Batch', max=183, style=ProgressStyle(description_width='initi…"
      ]
     },
     "metadata": {},
     "output_type": "display_data"
    },
    {
     "name": "stdout",
     "output_type": "stream",
     "text": [
      "Epoch 187/1000 Iteration: 34300 Avg. Training loss: 5.1620 0.2030 sec/batch\n",
      "Epoch 187/1000 Iteration: 34400 Avg. Training loss: 5.1836 0.2556 sec/batch\n"
     ]
    },
    {
     "data": {
      "application/vnd.jupyter.widget-view+json": {
       "model_id": "",
       "version_major": 2,
       "version_minor": 0
      },
      "text/plain": [
       "HBox(children=(IntProgress(value=0, description='Batch', max=183, style=ProgressStyle(description_width='initi…"
      ]
     },
     "metadata": {},
     "output_type": "display_data"
    },
    {
     "name": "stdout",
     "output_type": "stream",
     "text": [
      "Epoch 188/1000 Iteration: 34500 Avg. Training loss: 5.0891 0.2478 sec/batch\n"
     ]
    },
    {
     "data": {
      "application/vnd.jupyter.widget-view+json": {
       "model_id": "",
       "version_major": 2,
       "version_minor": 0
      },
      "text/plain": [
       "HBox(children=(IntProgress(value=0, description='Batch', max=183, style=ProgressStyle(description_width='initi…"
      ]
     },
     "metadata": {},
     "output_type": "display_data"
    },
    {
     "name": "stdout",
     "output_type": "stream",
     "text": [
      "Epoch 189/1000 Iteration: 34600 Avg. Training loss: 5.1216 0.0335 sec/batch\n",
      "Epoch 189/1000 Iteration: 34700 Avg. Training loss: 5.3074 0.2570 sec/batch\n"
     ]
    },
    {
     "data": {
      "application/vnd.jupyter.widget-view+json": {
       "model_id": "",
       "version_major": 2,
       "version_minor": 0
      },
      "text/plain": [
       "HBox(children=(IntProgress(value=0, description='Batch', max=183, style=ProgressStyle(description_width='initi…"
      ]
     },
     "metadata": {},
     "output_type": "display_data"
    },
    {
     "name": "stdout",
     "output_type": "stream",
     "text": [
      "Epoch 190/1000 Iteration: 34800 Avg. Training loss: 5.1106 0.0769 sec/batch\n",
      "Epoch 190/1000 Iteration: 34900 Avg. Training loss: 5.1098 0.2556 sec/batch\n"
     ]
    },
    {
     "data": {
      "application/vnd.jupyter.widget-view+json": {
       "model_id": "",
       "version_major": 2,
       "version_minor": 0
      },
      "text/plain": [
       "HBox(children=(IntProgress(value=0, description='Batch', max=183, style=ProgressStyle(description_width='initi…"
      ]
     },
     "metadata": {},
     "output_type": "display_data"
    },
    {
     "name": "stdout",
     "output_type": "stream",
     "text": [
      "Epoch 191/1000 Iteration: 35000 Avg. Training loss: 5.2864 0.1202 sec/batch\n",
      "Nearest to dos: os, além, de, outros, principais, têm, alguns, da,\n",
      "Nearest to as: essas, das, outras, algumas, todas, mesmas, dessas, suas,\n",
      "Nearest to dia: início, outubro, último, antes, março, até, mês, agosto,\n",
      "Nearest to 00: 0, em, até, seis, (, ), de, menos,\n",
      "Nearest to pessoas: famílias, elas, menos, milhares, delas, detidas, desse, feridas,\n",
      "Nearest to afirmou: disse, ressaltou, reiterou, reafirmou, falou, defendeu, reconheceu, declarou,\n",
      "Nearest to quando: antes, ele, até, começo, que, depois, só, mas,\n",
      "Nearest to mas: ainda, que, porém, não, já, só, agora, pois,\n",
      "Nearest to estádio: torcedores, arena, maracanã, itaquerão, pacaembu, engenhão, beira-rio, mineirão,\n",
      "Nearest to bairro: bairros, oeste, cidade, morador, lapa, residencial, entorno, prédio,\n",
      "Nearest to globo: tv, record, emissora, canal, sbt, televisão, audiência, band,\n",
      "Nearest to livros: romances, editoras, literatura, didáticos, contos, best-sellers, textos, escritores,\n",
      "Nearest to queria: precisava, poderia, iria, podia, decidi, porque, pudesse, querer,\n",
      "Nearest to mínimo: salário, benefício, mínimos, valor, gasto, aposentados, máximo, aposentadorias,\n",
      "Nearest to financiamento: financiar, privado, caixa, financiamentos, viabilizar, fies, campanhas, bancar,\n",
      "Nearest to luz: solar, cptm, energia, linhas, metrô, tarifária, raio, eletropaulo,\n",
      "Epoch 191/1000 Iteration: 35100 Avg. Training loss: 5.2840 0.2625 sec/batch\n"
     ]
    },
    {
     "data": {
      "application/vnd.jupyter.widget-view+json": {
       "model_id": "",
       "version_major": 2,
       "version_minor": 0
      },
      "text/plain": [
       "HBox(children=(IntProgress(value=0, description='Batch', max=183, style=ProgressStyle(description_width='initi…"
      ]
     },
     "metadata": {},
     "output_type": "display_data"
    },
    {
     "name": "stdout",
     "output_type": "stream",
     "text": [
      "Epoch 192/1000 Iteration: 35200 Avg. Training loss: 5.0267 0.1639 sec/batch\n",
      "Epoch 192/1000 Iteration: 35300 Avg. Training loss: 5.0596 0.2559 sec/batch\n"
     ]
    },
    {
     "data": {
      "application/vnd.jupyter.widget-view+json": {
       "model_id": "",
       "version_major": 2,
       "version_minor": 0
      },
      "text/plain": [
       "HBox(children=(IntProgress(value=0, description='Batch', max=183, style=ProgressStyle(description_width='initi…"
      ]
     },
     "metadata": {},
     "output_type": "display_data"
    },
    {
     "name": "stdout",
     "output_type": "stream",
     "text": [
      "Epoch 193/1000 Iteration: 35400 Avg. Training loss: 5.1248 0.2111 sec/batch\n",
      "Epoch 193/1000 Iteration: 35500 Avg. Training loss: 4.9588 0.2570 sec/batch\n"
     ]
    },
    {
     "data": {
      "application/vnd.jupyter.widget-view+json": {
       "model_id": "",
       "version_major": 2,
       "version_minor": 0
      },
      "text/plain": [
       "HBox(children=(IntProgress(value=0, description='Batch', max=183, style=ProgressStyle(description_width='initi…"
      ]
     },
     "metadata": {},
     "output_type": "display_data"
    },
    {
     "name": "stdout",
     "output_type": "stream",
     "text": [
      "Epoch 194/1000 Iteration: 35600 Avg. Training loss: 5.0149 0.2508 sec/batch\n"
     ]
    },
    {
     "data": {
      "application/vnd.jupyter.widget-view+json": {
       "model_id": "",
       "version_major": 2,
       "version_minor": 0
      },
      "text/plain": [
       "HBox(children=(IntProgress(value=0, description='Batch', max=183, style=ProgressStyle(description_width='initi…"
      ]
     },
     "metadata": {},
     "output_type": "display_data"
    },
    {
     "name": "stdout",
     "output_type": "stream",
     "text": [
      "Epoch 195/1000 Iteration: 35700 Avg. Training loss: 4.9740 0.0385 sec/batch\n",
      "Epoch 195/1000 Iteration: 35800 Avg. Training loss: 5.1261 0.2555 sec/batch\n"
     ]
    },
    {
     "data": {
      "application/vnd.jupyter.widget-view+json": {
       "model_id": "",
       "version_major": 2,
       "version_minor": 0
      },
      "text/plain": [
       "HBox(children=(IntProgress(value=0, description='Batch', max=183, style=ProgressStyle(description_width='initi…"
      ]
     },
     "metadata": {},
     "output_type": "display_data"
    },
    {
     "name": "stdout",
     "output_type": "stream",
     "text": [
      "Epoch 196/1000 Iteration: 35900 Avg. Training loss: 4.9830 0.0824 sec/batch\n",
      "Epoch 196/1000 Iteration: 36000 Avg. Training loss: 5.2238 0.2555 sec/batch\n",
      "Nearest to muito: bastante, mas, tão, porque, algo, importante, longe, realmente,\n",
      "Nearest to estão: continuam, estariam, estejam, continuarão, estavam, ficam, estarem, seguem,\n",
      "Nearest to na: última, em, também, quarta, quarta-feira, segunda, a, do,\n",
      "Nearest to também: ., ,, já, o, de, e, do, como,\n",
      "Nearest to parte: a, à, pela, uma, também, da, tem, e,\n",
      "Nearest to quando: até, antes, que, vez, ., depois, começo, só,\n",
      "Nearest to mais: mas, que, menos, ., ,, ainda, já, chegar,\n",
      "Nearest to (: ), quinta-feira, 00, nesta, terça-feira, quarta-feira, sexta-feira, segunda-feira,\n",
      "Nearest to festival: festivais, cannes, evento, exibido, lollapalooza, veneza, programação, cinema,\n",
      "Nearest to abrir: abriu, abrindo, fechar, abrirá, ampliar, colocar, virar, fazer,\n",
      "Nearest to conversa: gravação, conversas, áudio, gravações, gravada, diálogo, encontro, transcrição,\n",
      "Nearest to chefe: gabinete, ex-chefe, afirmou, segurança, chefia, departamento, disse, nomeado,\n",
      "Nearest to data: datas, ocorrerá, calendário, deve, antes, oficialmente, haverá, marcada,\n",
      "Nearest to la: obstante, decretó, vaya, graduación, los, también, personas, señala,\n",
      "Nearest to sede: em, na, quarta-feira, sexta-feira, segunda-feira, próxima, principal, realizada,\n",
      "Nearest to francisco: papa, vaticano, assis, pontificado, pontífice, pardo, misericórdia, padre,\n"
     ]
    },
    {
     "data": {
      "application/vnd.jupyter.widget-view+json": {
       "model_id": "",
       "version_major": 2,
       "version_minor": 0
      },
      "text/plain": [
       "HBox(children=(IntProgress(value=0, description='Batch', max=183, style=ProgressStyle(description_width='initi…"
      ]
     },
     "metadata": {},
     "output_type": "display_data"
    },
    {
     "name": "stdout",
     "output_type": "stream",
     "text": [
      "Epoch 197/1000 Iteration: 36100 Avg. Training loss: 5.1812 0.1260 sec/batch\n",
      "Epoch 197/1000 Iteration: 36200 Avg. Training loss: 5.1628 0.2576 sec/batch\n"
     ]
    },
    {
     "data": {
      "application/vnd.jupyter.widget-view+json": {
       "model_id": "",
       "version_major": 2,
       "version_minor": 0
      },
      "text/plain": [
       "HBox(children=(IntProgress(value=0, description='Batch', max=183, style=ProgressStyle(description_width='initi…"
      ]
     },
     "metadata": {},
     "output_type": "display_data"
    },
    {
     "name": "stdout",
     "output_type": "stream",
     "text": [
      "Epoch 198/1000 Iteration: 36300 Avg. Training loss: 4.9312 0.1684 sec/batch\n",
      "Epoch 198/1000 Iteration: 36400 Avg. Training loss: 5.0401 0.2564 sec/batch\n"
     ]
    },
    {
     "data": {
      "application/vnd.jupyter.widget-view+json": {
       "model_id": "",
       "version_major": 2,
       "version_minor": 0
      },
      "text/plain": [
       "HBox(children=(IntProgress(value=0, description='Batch', max=183, style=ProgressStyle(description_width='initi…"
      ]
     },
     "metadata": {},
     "output_type": "display_data"
    },
    {
     "name": "stdout",
     "output_type": "stream",
     "text": [
      "Epoch 199/1000 Iteration: 36500 Avg. Training loss: 5.0938 0.2126 sec/batch\n",
      "Epoch 199/1000 Iteration: 36600 Avg. Training loss: 4.8836 0.2536 sec/batch\n"
     ]
    },
    {
     "data": {
      "application/vnd.jupyter.widget-view+json": {
       "model_id": "",
       "version_major": 2,
       "version_minor": 0
      },
      "text/plain": [
       "HBox(children=(IntProgress(value=0, description='Batch', max=183, style=ProgressStyle(description_width='initi…"
      ]
     },
     "metadata": {},
     "output_type": "display_data"
    },
    {
     "name": "stdout",
     "output_type": "stream",
     "text": [
      "Epoch 200/1000 Iteration: 36700 Avg. Training loss: 5.1203 0.2553 sec/batch\n"
     ]
    },
    {
     "data": {
      "application/vnd.jupyter.widget-view+json": {
       "model_id": "",
       "version_major": 2,
       "version_minor": 0
      },
      "text/plain": [
       "HBox(children=(IntProgress(value=0, description='Batch', max=183, style=ProgressStyle(description_width='initi…"
      ]
     },
     "metadata": {},
     "output_type": "display_data"
    },
    {
     "name": "stdout",
     "output_type": "stream",
     "text": [
      "Epoch 201/1000 Iteration: 36800 Avg. Training loss: 5.0361 0.0439 sec/batch\n",
      "Epoch 201/1000 Iteration: 36900 Avg. Training loss: 5.0591 0.2553 sec/batch\n"
     ]
    },
    {
     "data": {
      "application/vnd.jupyter.widget-view+json": {
       "model_id": "",
       "version_major": 2,
       "version_minor": 0
      },
      "text/plain": [
       "HBox(children=(IntProgress(value=0, description='Batch', max=183, style=ProgressStyle(description_width='initi…"
      ]
     },
     "metadata": {},
     "output_type": "display_data"
    },
    {
     "name": "stdout",
     "output_type": "stream",
     "text": [
      "Epoch 202/1000 Iteration: 37000 Avg. Training loss: 4.9875 0.0871 sec/batch\n",
      "Nearest to pode: poderá, deve, poderia, vai, possível, precisa, é, possa,\n",
      "Nearest to milhões: milhão, mil, bilhão, 0,0, cerca, 00,0, 000,0, aproximadamente,\n",
      "Nearest to sua: notícia, a, para, própria, mensagem, uma, com, ou,\n",
      "Nearest to governo: que, congresso, ainda, dilma, econômica, aprovação, apoio, entanto,\n",
      "Nearest to ou: podem, participação, sejam, para, isso, com, preferir, sua,\n",
      "Nearest to ela: ele, dela, que, mas, não, sozinha, ainda, uma,\n",
      "Nearest to das: as, nas, dessas, pelas, outras, de, duas, suas,\n",
      "Nearest to ao: o, do, um, e, ., de, também, em,\n",
      "Nearest to modo: que, nesse, esse, algo, pois, assim, é, desse,\n",
      "Nearest to la: obstante, los, también, fue, personas, río, vaya, más,\n",
      "Nearest to conversa: gravação, conversas, áudio, diálogo, gravações, transcrição, gravada, gravado,\n",
      "Nearest to filmes: cinema, filme, produções, cinemas, documentários, estúdios, dirigidos, exibidos,\n",
      "Nearest to usuários: usuário, ferramenta, whatsapp, internet, facebook, app, smartphone, viciados,\n",
      "Nearest to |: grátis, sexta, 00h, quarta, terça, segunda, sábado, sarau,\n",
      "Nearest to médico: paciente, iml, clínicas, hospital, clínico, atendimento, médicos, exames,\n",
      "Nearest to emprego: trabalho, desemprego, empregos, desempregados, crescimento, carteira, empregados, formal,\n",
      "Epoch 202/1000 Iteration: 37100 Avg. Training loss: 5.1819 0.2629 sec/batch\n"
     ]
    },
    {
     "data": {
      "application/vnd.jupyter.widget-view+json": {
       "model_id": "",
       "version_major": 2,
       "version_minor": 0
      },
      "text/plain": [
       "HBox(children=(IntProgress(value=0, description='Batch', max=183, style=ProgressStyle(description_width='initi…"
      ]
     },
     "metadata": {},
     "output_type": "display_data"
    },
    {
     "name": "stdout",
     "output_type": "stream",
     "text": [
      "Epoch 203/1000 Iteration: 37200 Avg. Training loss: 5.2418 0.1310 sec/batch\n",
      "Epoch 203/1000 Iteration: 37300 Avg. Training loss: 5.1050 0.2552 sec/batch\n"
     ]
    },
    {
     "data": {
      "application/vnd.jupyter.widget-view+json": {
       "model_id": "",
       "version_major": 2,
       "version_minor": 0
      },
      "text/plain": [
       "HBox(children=(IntProgress(value=0, description='Batch', max=183, style=ProgressStyle(description_width='initi…"
      ]
     },
     "metadata": {},
     "output_type": "display_data"
    },
    {
     "name": "stdout",
     "output_type": "stream",
     "text": [
      "Epoch 204/1000 Iteration: 37400 Avg. Training loss: 4.9919 0.1738 sec/batch\n",
      "Epoch 204/1000 Iteration: 37500 Avg. Training loss: 5.2155 0.2551 sec/batch\n"
     ]
    },
    {
     "data": {
      "application/vnd.jupyter.widget-view+json": {
       "model_id": "",
       "version_major": 2,
       "version_minor": 0
      },
      "text/plain": [
       "HBox(children=(IntProgress(value=0, description='Batch', max=183, style=ProgressStyle(description_width='initi…"
      ]
     },
     "metadata": {},
     "output_type": "display_data"
    },
    {
     "name": "stdout",
     "output_type": "stream",
     "text": [
      "Epoch 205/1000 Iteration: 37600 Avg. Training loss: 5.1112 0.2177 sec/batch\n"
     ]
    },
    {
     "data": {
      "application/vnd.jupyter.widget-view+json": {
       "model_id": "",
       "version_major": 2,
       "version_minor": 0
      },
      "text/plain": [
       "HBox(children=(IntProgress(value=0, description='Batch', max=183, style=ProgressStyle(description_width='initi…"
      ]
     },
     "metadata": {},
     "output_type": "display_data"
    },
    {
     "name": "stdout",
     "output_type": "stream",
     "text": [
      "Epoch 206/1000 Iteration: 37700 Avg. Training loss: 4.9740 0.0055 sec/batch\n",
      "Epoch 206/1000 Iteration: 37800 Avg. Training loss: 5.1546 0.2565 sec/batch\n"
     ]
    },
    {
     "data": {
      "application/vnd.jupyter.widget-view+json": {
       "model_id": "",
       "version_major": 2,
       "version_minor": 0
      },
      "text/plain": [
       "HBox(children=(IntProgress(value=0, description='Batch', max=183, style=ProgressStyle(description_width='initi…"
      ]
     },
     "metadata": {},
     "output_type": "display_data"
    },
    {
     "name": "stdout",
     "output_type": "stream",
     "text": [
      "Epoch 207/1000 Iteration: 37900 Avg. Training loss: 5.0460 0.0483 sec/batch\n",
      "Epoch 207/1000 Iteration: 38000 Avg. Training loss: 5.0506 0.2556 sec/batch\n",
      "Nearest to em: de, ., ,, já, no, com, na, desde,\n",
      "Nearest to ano: passado, mês, deste, outubro, abril, junho, semestre, julho,\n",
      "Nearest to (: ), 00, quinta-feira, nesta, terça-feira, quarta-feira, sexta-feira, segunda-feira,\n",
      "Nearest to ela: ele, que, dela, mas, não, só, ainda, já,\n",
      "Nearest to dia: início, outubro, mês, último, domingo, até, março, semana,\n",
      "Nearest to ,: ., de, e, que, também, já, com, como,\n",
      "Nearest to 000: cerca, mil, 0.000, 00, dobro, aproximadamente, total, metade,\n",
      "Nearest to às: 00h, das, hoje, amanhã, 00/0, 0h, volta, sexta,\n",
      "Nearest to estudos: científicos, pesquisas, dados, estudo, relatórios, avançados, estágios, viabilidade,\n",
      "Nearest to conhecido: o, do, considerado, tornou-se, também, apontado, um, principalmente,\n",
      "Nearest to pf: polícia, depoimento, operação, federal, investigação, investigado, documentos, deflagrada,\n",
      "Nearest to emprego: trabalho, empregos, desemprego, desempregados, crescimento, carteira, formal, empregados,\n",
      "Nearest to abrir: abriu, fechar, abrindo, abrirá, colocar, ampliar, virar, ampliou,\n",
      "Nearest to quero: posso, vou, vai, puder, vamos, devo, espero, pretendo,\n",
      "Nearest to festival: festivais, cannes, evento, lollapalooza, cinema, sxsw, exibido, programação,\n",
      "Nearest to desempenho: resultado, fraco, negativo, terceiro, maior, esperado, apenas, melhora,\n"
     ]
    },
    {
     "data": {
      "application/vnd.jupyter.widget-view+json": {
       "model_id": "",
       "version_major": 2,
       "version_minor": 0
      },
      "text/plain": [
       "HBox(children=(IntProgress(value=0, description='Batch', max=183, style=ProgressStyle(description_width='initi…"
      ]
     },
     "metadata": {},
     "output_type": "display_data"
    },
    {
     "name": "stdout",
     "output_type": "stream",
     "text": [
      "Epoch 208/1000 Iteration: 38100 Avg. Training loss: 4.9909 0.0924 sec/batch\n",
      "Epoch 208/1000 Iteration: 38200 Avg. Training loss: 4.9820 0.2549 sec/batch\n"
     ]
    },
    {
     "data": {
      "application/vnd.jupyter.widget-view+json": {
       "model_id": "",
       "version_major": 2,
       "version_minor": 0
      },
      "text/plain": [
       "HBox(children=(IntProgress(value=0, description='Batch', max=183, style=ProgressStyle(description_width='initi…"
      ]
     },
     "metadata": {},
     "output_type": "display_data"
    },
    {
     "name": "stdout",
     "output_type": "stream",
     "text": [
      "Epoch 209/1000 Iteration: 38300 Avg. Training loss: 5.0052 0.1351 sec/batch\n",
      "Epoch 209/1000 Iteration: 38400 Avg. Training loss: 4.8156 0.2561 sec/batch\n"
     ]
    },
    {
     "data": {
      "application/vnd.jupyter.widget-view+json": {
       "model_id": "",
       "version_major": 2,
       "version_minor": 0
      },
      "text/plain": [
       "HBox(children=(IntProgress(value=0, description='Batch', max=183, style=ProgressStyle(description_width='initi…"
      ]
     },
     "metadata": {},
     "output_type": "display_data"
    },
    {
     "name": "stdout",
     "output_type": "stream",
     "text": [
      "Epoch 210/1000 Iteration: 38500 Avg. Training loss: 4.9190 0.1792 sec/batch\n",
      "Epoch 210/1000 Iteration: 38600 Avg. Training loss: 4.9982 0.2558 sec/batch\n"
     ]
    },
    {
     "data": {
      "application/vnd.jupyter.widget-view+json": {
       "model_id": "",
       "version_major": 2,
       "version_minor": 0
      },
      "text/plain": [
       "HBox(children=(IntProgress(value=0, description='Batch', max=183, style=ProgressStyle(description_width='initi…"
      ]
     },
     "metadata": {},
     "output_type": "display_data"
    },
    {
     "name": "stdout",
     "output_type": "stream",
     "text": [
      "Epoch 211/1000 Iteration: 38700 Avg. Training loss: 5.0348 0.2226 sec/batch\n"
     ]
    },
    {
     "data": {
      "application/vnd.jupyter.widget-view+json": {
       "model_id": "",
       "version_major": 2,
       "version_minor": 0
      },
      "text/plain": [
       "HBox(children=(IntProgress(value=0, description='Batch', max=183, style=ProgressStyle(description_width='initi…"
      ]
     },
     "metadata": {},
     "output_type": "display_data"
    },
    {
     "name": "stdout",
     "output_type": "stream",
     "text": [
      "Epoch 212/1000 Iteration: 38800 Avg. Training loss: 5.0951 0.0109 sec/batch\n",
      "Epoch 212/1000 Iteration: 38900 Avg. Training loss: 5.1289 0.2549 sec/batch\n"
     ]
    },
    {
     "data": {
      "application/vnd.jupyter.widget-view+json": {
       "model_id": "",
       "version_major": 2,
       "version_minor": 0
      },
      "text/plain": [
       "HBox(children=(IntProgress(value=0, description='Batch', max=183, style=ProgressStyle(description_width='initi…"
      ]
     },
     "metadata": {},
     "output_type": "display_data"
    },
    {
     "name": "stdout",
     "output_type": "stream",
     "text": [
      "Epoch 213/1000 Iteration: 39000 Avg. Training loss: 5.0781 0.0540 sec/batch\n",
      "Nearest to está: continua, estava, estaria, continuará, esteja, vem, estar, continuar,\n",
      "Nearest to com: e, ., também, ,, de, em, ainda, o,\n",
      "Nearest to as: das, essas, outras, todas, algumas, dessas, mesmas, pelas,\n",
      "Nearest to ,: ., e, de, com, também, já, que, em,\n",
      "Nearest to vai: precisa, irá, pretende, poderá, pode, começar, quer, deve,\n",
      "Nearest to após: depois, foi, último, em, antes, no, a, novamente,\n",
      "Nearest to milhões: milhão, mil, bilhão, cerca, aproximadamente, 000,0, 0,0, 00,0,\n",
      "Nearest to desde: início, em, setembro, março, 0000, junho, julho, já,\n",
      "Nearest to EMAIL: enviar, basta, envie, e-mail, acessar, traduzem, publicados, colaborar,\n",
      "Nearest to estudos: pesquisas, científicos, pesquisadores, viabilidade, dados, estudo, estágios, relatórios,\n",
      "Nearest to somente: ., apenas, mesmo, ainda, só, já, a, porém,\n",
      "Nearest to aliados: aliado, peemedebista, peemedebistas, parlamentares, interlocutores, aliada, governistas, planalto,\n",
      "Nearest to ambos: dois, também, entre, os, outros, deles, opostos, ,,\n",
      "Nearest to seguinte: dia, publicadas, coordenação, sempre, dicas, amanda, reportagem, aqui,\n",
      "Nearest to estratégia: tentar, a, objetivo, tentativa, buscou, tentou, tenta, tática,\n",
      "Nearest to conversa: conversas, gravação, gravada, áudio, transcrição, gravações, diálogo, gravado,\n",
      "Epoch 213/1000 Iteration: 39100 Avg. Training loss: 4.9864 0.2623 sec/batch\n"
     ]
    },
    {
     "data": {
      "application/vnd.jupyter.widget-view+json": {
       "model_id": "",
       "version_major": 2,
       "version_minor": 0
      },
      "text/plain": [
       "HBox(children=(IntProgress(value=0, description='Batch', max=183, style=ProgressStyle(description_width='initi…"
      ]
     },
     "metadata": {},
     "output_type": "display_data"
    },
    {
     "name": "stdout",
     "output_type": "stream",
     "text": [
      "Epoch 214/1000 Iteration: 39200 Avg. Training loss: 5.1612 0.0979 sec/batch\n",
      "Epoch 214/1000 Iteration: 39300 Avg. Training loss: 5.1152 0.2546 sec/batch\n"
     ]
    },
    {
     "data": {
      "application/vnd.jupyter.widget-view+json": {
       "model_id": "",
       "version_major": 2,
       "version_minor": 0
      },
      "text/plain": [
       "HBox(children=(IntProgress(value=0, description='Batch', max=183, style=ProgressStyle(description_width='initi…"
      ]
     },
     "metadata": {},
     "output_type": "display_data"
    },
    {
     "name": "stdout",
     "output_type": "stream",
     "text": [
      "Epoch 215/1000 Iteration: 39400 Avg. Training loss: 5.0659 0.1407 sec/batch\n",
      "Epoch 215/1000 Iteration: 39500 Avg. Training loss: 4.9189 0.2565 sec/batch\n"
     ]
    },
    {
     "data": {
      "application/vnd.jupyter.widget-view+json": {
       "model_id": "",
       "version_major": 2,
       "version_minor": 0
      },
      "text/plain": [
       "HBox(children=(IntProgress(value=0, description='Batch', max=183, style=ProgressStyle(description_width='initi…"
      ]
     },
     "metadata": {},
     "output_type": "display_data"
    },
    {
     "name": "stdout",
     "output_type": "stream",
     "text": [
      "Epoch 216/1000 Iteration: 39600 Avg. Training loss: 5.1149 0.1853 sec/batch\n",
      "Epoch 216/1000 Iteration: 39700 Avg. Training loss: 5.0333 0.2563 sec/batch\n"
     ]
    },
    {
     "data": {
      "application/vnd.jupyter.widget-view+json": {
       "model_id": "",
       "version_major": 2,
       "version_minor": 0
      },
      "text/plain": [
       "HBox(children=(IntProgress(value=0, description='Batch', max=183, style=ProgressStyle(description_width='initi…"
      ]
     },
     "metadata": {},
     "output_type": "display_data"
    },
    {
     "name": "stdout",
     "output_type": "stream",
     "text": [
      "Epoch 217/1000 Iteration: 39800 Avg. Training loss: 5.1836 0.2264 sec/batch\n"
     ]
    },
    {
     "data": {
      "application/vnd.jupyter.widget-view+json": {
       "model_id": "",
       "version_major": 2,
       "version_minor": 0
      },
      "text/plain": [
       "HBox(children=(IntProgress(value=0, description='Batch', max=183, style=ProgressStyle(description_width='initi…"
      ]
     },
     "metadata": {},
     "output_type": "display_data"
    },
    {
     "name": "stdout",
     "output_type": "stream",
     "text": [
      "Epoch 218/1000 Iteration: 39900 Avg. Training loss: 4.9927 0.0157 sec/batch\n",
      "Epoch 218/1000 Iteration: 40000 Avg. Training loss: 5.0969 0.2576 sec/batch\n",
      "Nearest to não: que, mas, pois, só, porque, ainda, fato, nem,\n",
      "Nearest to afirmou: disse, reiterou, ressaltou, reafirmou, ainda, acrescentou, ,, que,\n",
      "Nearest to ano: passado, mês, outubro, deste, abril, junho, julho, semestre,\n",
      "Nearest to (: ), nesta, terça-feira, quinta-feira, quarta-feira, 00, sexta-feira, segunda-feira,\n",
      "Nearest to segundo: ainda, primeiro, aponta, entanto, apenas, porém, o, a,\n",
      "Nearest to nos: últimos, nestes, primeiros, nesses, de, os, outros, em,\n",
      "Nearest to depois: após, logo, já, começo, antes, quando, início, então,\n",
      "Nearest to 000: cerca, mil, 0.000, 00, dobro, aproximadamente, total, milhões,\n",
      "Nearest to conseguir: ajudar, obter, precisa, consiga, conseguiu, fazer, ganhar, para,\n",
      "Nearest to parlamentares: deputados, congressistas, governistas, emendas, aliados, senadores, partidos, votação,\n",
      "Nearest to profissionais: qualificados, qualificação, trabalham, desafio, capacitados, profissional, professores, médicos,\n",
      "Nearest to médico: clínico, paciente, iml, hospital, clínicas, médicos, exames, encaminhado,\n",
      "Nearest to usuários: usuário, ferramenta, viciados, internet, internautas, facebook, app, whatsapp,\n",
      "Nearest to ambos: dois, também, outros, os, entre, deles, ,, eles,\n",
      "Nearest to palácio: planalto, alvorada, jaburu, peemedebista, temer, assessores, interino, ministerial,\n",
      "Nearest to amigo: ele, família, meu, dele, deles, sítio, próprio, seu,\n"
     ]
    },
    {
     "data": {
      "application/vnd.jupyter.widget-view+json": {
       "model_id": "",
       "version_major": 2,
       "version_minor": 0
      },
      "text/plain": [
       "HBox(children=(IntProgress(value=0, description='Batch', max=183, style=ProgressStyle(description_width='initi…"
      ]
     },
     "metadata": {},
     "output_type": "display_data"
    },
    {
     "name": "stdout",
     "output_type": "stream",
     "text": [
      "Epoch 219/1000 Iteration: 40100 Avg. Training loss: 5.2725 0.0588 sec/batch\n",
      "Epoch 219/1000 Iteration: 40200 Avg. Training loss: 5.2213 0.2560 sec/batch\n"
     ]
    },
    {
     "data": {
      "application/vnd.jupyter.widget-view+json": {
       "model_id": "",
       "version_major": 2,
       "version_minor": 0
      },
      "text/plain": [
       "HBox(children=(IntProgress(value=0, description='Batch', max=183, style=ProgressStyle(description_width='initi…"
      ]
     },
     "metadata": {},
     "output_type": "display_data"
    },
    {
     "name": "stdout",
     "output_type": "stream",
     "text": [
      "Epoch 220/1000 Iteration: 40300 Avg. Training loss: 5.0514 0.1025 sec/batch\n",
      "Epoch 220/1000 Iteration: 40400 Avg. Training loss: 4.9794 0.2555 sec/batch\n"
     ]
    },
    {
     "data": {
      "application/vnd.jupyter.widget-view+json": {
       "model_id": "",
       "version_major": 2,
       "version_minor": 0
      },
      "text/plain": [
       "HBox(children=(IntProgress(value=0, description='Batch', max=183, style=ProgressStyle(description_width='initi…"
      ]
     },
     "metadata": {},
     "output_type": "display_data"
    },
    {
     "name": "stdout",
     "output_type": "stream",
     "text": [
      "Epoch 221/1000 Iteration: 40500 Avg. Training loss: 5.1139 0.1458 sec/batch\n",
      "Epoch 221/1000 Iteration: 40600 Avg. Training loss: 5.0430 0.2553 sec/batch\n"
     ]
    },
    {
     "data": {
      "application/vnd.jupyter.widget-view+json": {
       "model_id": "",
       "version_major": 2,
       "version_minor": 0
      },
      "text/plain": [
       "HBox(children=(IntProgress(value=0, description='Batch', max=183, style=ProgressStyle(description_width='initi…"
      ]
     },
     "metadata": {},
     "output_type": "display_data"
    },
    {
     "name": "stdout",
     "output_type": "stream",
     "text": [
      "Epoch 222/1000 Iteration: 40700 Avg. Training loss: 5.0475 0.1893 sec/batch\n",
      "Epoch 222/1000 Iteration: 40800 Avg. Training loss: 4.8552 0.2548 sec/batch\n"
     ]
    },
    {
     "data": {
      "application/vnd.jupyter.widget-view+json": {
       "model_id": "",
       "version_major": 2,
       "version_minor": 0
      },
      "text/plain": [
       "HBox(children=(IntProgress(value=0, description='Batch', max=183, style=ProgressStyle(description_width='initi…"
      ]
     },
     "metadata": {},
     "output_type": "display_data"
    },
    {
     "name": "stdout",
     "output_type": "stream",
     "text": [
      "Epoch 223/1000 Iteration: 40900 Avg. Training loss: 5.0128 0.2325 sec/batch\n"
     ]
    },
    {
     "data": {
      "application/vnd.jupyter.widget-view+json": {
       "model_id": "",
       "version_major": 2,
       "version_minor": 0
      },
      "text/plain": [
       "HBox(children=(IntProgress(value=0, description='Batch', max=183, style=ProgressStyle(description_width='initi…"
      ]
     },
     "metadata": {},
     "output_type": "display_data"
    },
    {
     "name": "stdout",
     "output_type": "stream",
     "text": [
      "Epoch 224/1000 Iteration: 41000 Avg. Training loss: 4.9599 0.0207 sec/batch\n",
      "Nearest to estão: continuam, estariam, estavam, estejam, continuarão, seguem, estarem, vêm,\n",
      "Nearest to há: ainda, ,, mesmo, de, ., mas, inclusive, entretanto,\n",
      "Nearest to nos: últimos, nesses, nestes, de, em, primeiros, os, .,\n",
      "Nearest to as: das, essas, outras, todas, algumas, dessas, mesmas, suas,\n",
      "Nearest to ser: será, ter, pelo, foi, pois, mas, ainda, que,\n",
      "Nearest to parte: a, da, ., também, de, ,, tem, à,\n",
      "Nearest to foram: serem, serão, seriam, forem, eram, fossem, estavam, dentre,\n",
      "Nearest to nas: das, pelas, as, dessas, de, suas, primeiras, inclusive,\n",
      "Nearest to estádio: torcedores, arena, itaquerão, maracanã, arquibancadas, engenhão, mineirão, pacaembu,\n",
      "Nearest to conversa: gravação, conversas, áudio, gravada, gravações, transcrição, diálogo, gravado,\n",
      "Nearest to garantir: assegurar, manter, necessária, garantindo, reforçar, garante, preservar, depende,\n",
      "Nearest to bairro: bairros, cidade, morador, oeste, prédio, entorno, residencial, lapa,\n",
      "Nearest to mar: mediterrâneo, oceano, travessia, naufrágio, praia, barco, migrantes, barcos,\n",
      "Nearest to atividade: desde, mesmo, transformação, ainda, econômica, evolução, economia, do,\n",
      "Nearest to demanda: entanto, oferta, principalmente, expansão, atividade, melhora, ainda, reflexo,\n",
      "Nearest to abrir: abriu, abrindo, fechar, abrirá, colocar, ampliar, virar, abriram,\n",
      "Epoch 224/1000 Iteration: 41100 Avg. Training loss: 5.1147 0.2641 sec/batch\n"
     ]
    },
    {
     "data": {
      "application/vnd.jupyter.widget-view+json": {
       "model_id": "",
       "version_major": 2,
       "version_minor": 0
      },
      "text/plain": [
       "HBox(children=(IntProgress(value=0, description='Batch', max=183, style=ProgressStyle(description_width='initi…"
      ]
     },
     "metadata": {},
     "output_type": "display_data"
    },
    {
     "name": "stdout",
     "output_type": "stream",
     "text": [
      "Epoch 225/1000 Iteration: 41200 Avg. Training loss: 4.9815 0.0641 sec/batch\n",
      "Epoch 225/1000 Iteration: 41300 Avg. Training loss: 5.2646 0.2546 sec/batch\n"
     ]
    },
    {
     "data": {
      "application/vnd.jupyter.widget-view+json": {
       "model_id": "",
       "version_major": 2,
       "version_minor": 0
      },
      "text/plain": [
       "HBox(children=(IntProgress(value=0, description='Batch', max=183, style=ProgressStyle(description_width='initi…"
      ]
     },
     "metadata": {},
     "output_type": "display_data"
    },
    {
     "name": "stdout",
     "output_type": "stream",
     "text": [
      "Epoch 226/1000 Iteration: 41400 Avg. Training loss: 4.8889 0.1073 sec/batch\n",
      "Epoch 226/1000 Iteration: 41500 Avg. Training loss: 4.9541 0.2553 sec/batch\n"
     ]
    },
    {
     "data": {
      "application/vnd.jupyter.widget-view+json": {
       "model_id": "",
       "version_major": 2,
       "version_minor": 0
      },
      "text/plain": [
       "HBox(children=(IntProgress(value=0, description='Batch', max=183, style=ProgressStyle(description_width='initi…"
      ]
     },
     "metadata": {},
     "output_type": "display_data"
    },
    {
     "name": "stdout",
     "output_type": "stream",
     "text": [
      "Epoch 227/1000 Iteration: 41600 Avg. Training loss: 5.1691 0.1507 sec/batch\n",
      "Epoch 227/1000 Iteration: 41700 Avg. Training loss: 5.0609 0.2553 sec/batch\n"
     ]
    },
    {
     "data": {
      "application/vnd.jupyter.widget-view+json": {
       "model_id": "",
       "version_major": 2,
       "version_minor": 0
      },
      "text/plain": [
       "HBox(children=(IntProgress(value=0, description='Batch', max=183, style=ProgressStyle(description_width='initi…"
      ]
     },
     "metadata": {},
     "output_type": "display_data"
    },
    {
     "name": "stdout",
     "output_type": "stream",
     "text": [
      "Epoch 228/1000 Iteration: 41800 Avg. Training loss: 5.0452 0.1947 sec/batch\n",
      "Epoch 228/1000 Iteration: 41900 Avg. Training loss: 5.1381 0.2548 sec/batch\n"
     ]
    },
    {
     "data": {
      "application/vnd.jupyter.widget-view+json": {
       "model_id": "",
       "version_major": 2,
       "version_minor": 0
      },
      "text/plain": [
       "HBox(children=(IntProgress(value=0, description='Batch', max=183, style=ProgressStyle(description_width='initi…"
      ]
     },
     "metadata": {},
     "output_type": "display_data"
    },
    {
     "name": "stdout",
     "output_type": "stream",
     "text": [
      "Epoch 229/1000 Iteration: 42000 Avg. Training loss: 5.0046 0.2371 sec/batch\n",
      "Nearest to disse: afirmou, reiterou, dizendo, falou, declarou, acrescentando, acrescentou, afirmando,\n",
      "Nearest to e: com, também, de, ., ,, por, em, tem,\n",
      "Nearest to ao: do, o, um, de, ., e, em, também,\n",
      "Nearest to seu: próprio, um, o, cujo, do, ao, dele, pelo,\n",
      "Nearest to no: ., em, o, do, último, e, ainda, fora,\n",
      "Nearest to às: 00h, 0h, 00/0, das, hoje, sexta, 00h00, dia,\n",
      "Nearest to depois: após, logo, já, antes, em, início, ., começo,\n",
      "Nearest to com: e, ., em, ,, também, de, na, a,\n",
      "Nearest to operações: batalhão, rotas, transações, ativos, financeiras, bope, reforçado, comando,\n",
      "Nearest to estudos: pesquisas, científicos, avançados, viabilidade, levantamentos, estudo, estratégicos, estágios,\n",
      "Nearest to deverá: poderá, deve, deverão, irá, será, terá, voltará, vai,\n",
      "Nearest to tal: mas, é, que, isto, seria, fato, dessa, pois,\n",
      "Nearest to discussão: tema, pauta, questão, proposta, discutir, debater, discussões, uma,\n",
      "Nearest to bairro: bairros, cidade, oeste, morador, zona, residencial, prédio, entorno,\n",
      "Nearest to democracia: democrático, respeito, legitimidade, (), independência, nosso, plena, lamentavelmente,\n",
      "Nearest to usuários: usuário, ferramenta, viciados, internet, app, internautas, aplicativo, whatsapp,\n"
     ]
    },
    {
     "data": {
      "application/vnd.jupyter.widget-view+json": {
       "model_id": "",
       "version_major": 2,
       "version_minor": 0
      },
      "text/plain": [
       "HBox(children=(IntProgress(value=0, description='Batch', max=183, style=ProgressStyle(description_width='initi…"
      ]
     },
     "metadata": {},
     "output_type": "display_data"
    },
    {
     "name": "stdout",
     "output_type": "stream",
     "text": [
      "Epoch 230/1000 Iteration: 42100 Avg. Training loss: 4.9285 0.0259 sec/batch\n",
      "Epoch 230/1000 Iteration: 42200 Avg. Training loss: 5.2028 0.2562 sec/batch\n"
     ]
    },
    {
     "data": {
      "application/vnd.jupyter.widget-view+json": {
       "model_id": "",
       "version_major": 2,
       "version_minor": 0
      },
      "text/plain": [
       "HBox(children=(IntProgress(value=0, description='Batch', max=183, style=ProgressStyle(description_width='initi…"
      ]
     },
     "metadata": {},
     "output_type": "display_data"
    },
    {
     "name": "stdout",
     "output_type": "stream",
     "text": [
      "Epoch 231/1000 Iteration: 42300 Avg. Training loss: 5.0116 0.0685 sec/batch\n",
      "Epoch 231/1000 Iteration: 42400 Avg. Training loss: 4.8900 0.2547 sec/batch\n"
     ]
    },
    {
     "data": {
      "application/vnd.jupyter.widget-view+json": {
       "model_id": "",
       "version_major": 2,
       "version_minor": 0
      },
      "text/plain": [
       "HBox(children=(IntProgress(value=0, description='Batch', max=183, style=ProgressStyle(description_width='initi…"
      ]
     },
     "metadata": {},
     "output_type": "display_data"
    },
    {
     "name": "stdout",
     "output_type": "stream",
     "text": [
      "Epoch 232/1000 Iteration: 42500 Avg. Training loss: 5.0201 0.1125 sec/batch\n",
      "Epoch 232/1000 Iteration: 42600 Avg. Training loss: 5.1467 0.2542 sec/batch\n"
     ]
    },
    {
     "data": {
      "application/vnd.jupyter.widget-view+json": {
       "model_id": "",
       "version_major": 2,
       "version_minor": 0
      },
      "text/plain": [
       "HBox(children=(IntProgress(value=0, description='Batch', max=183, style=ProgressStyle(description_width='initi…"
      ]
     },
     "metadata": {},
     "output_type": "display_data"
    },
    {
     "name": "stdout",
     "output_type": "stream",
     "text": [
      "Epoch 233/1000 Iteration: 42700 Avg. Training loss: 5.0007 0.1562 sec/batch\n",
      "Epoch 233/1000 Iteration: 42800 Avg. Training loss: 5.0874 0.2561 sec/batch\n"
     ]
    },
    {
     "data": {
      "application/vnd.jupyter.widget-view+json": {
       "model_id": "",
       "version_major": 2,
       "version_minor": 0
      },
      "text/plain": [
       "HBox(children=(IntProgress(value=0, description='Batch', max=183, style=ProgressStyle(description_width='initi…"
      ]
     },
     "metadata": {},
     "output_type": "display_data"
    },
    {
     "name": "stdout",
     "output_type": "stream",
     "text": [
      "Epoch 234/1000 Iteration: 42900 Avg. Training loss: 5.0785 0.1997 sec/batch\n",
      "Epoch 234/1000 Iteration: 43000 Avg. Training loss: 5.1579 0.2546 sec/batch\n",
      "Nearest to é: tem, importante, faz, mas, que, pode, pois, considera,\n",
      "Nearest to dia: início, domingo, antes, mês, outubro, novembro, semana, último,\n",
      "Nearest to mas: que, ainda, porém, já, só, não, pois, porque,\n",
      "Nearest to afirmou: disse, ressaltou, reiterou, reafirmou, ainda, afirmando, confirmou, defendeu,\n",
      "Nearest to país: principalmente, especialmente, que, maior, do, ., como, de,\n",
      "Nearest to em: de, ., ,, já, com, no, também, apenas,\n",
      "Nearest to ?: sabe, acha, você, quer, não, porque, mas, sei,\n",
      "Nearest to um: o, outro, novo, num, deles, cujo, ., desse,\n",
      "Nearest to minas: gerais, pimentel, ceará, espírito, mineiro, bahia, goiás, rondônia,\n",
      "Nearest to médico: clínico, hospital, paciente, clínicas, iml, médicos, exames, cirurgias,\n",
      "Nearest to unido: reino, ue, brexit, europeia, britânicos, permanência, britânica, primeira-ministra,\n",
      "Nearest to estudos: pesquisas, científicos, avançados, estudo, estratégicos, estágios, viabilidade, resultados,\n",
      "Nearest to recuperação: melhora, retomada, judicial, desaceleração, recuperar, fraqueza, crescimento, impulsionar,\n",
      "Nearest to data: ocorrerá, datas, calendário, deve, fim, voltará, antes, marcada,\n",
      "Nearest to |: grátis, sexta, 00h, terça, sábado, quarta, 00, quinta,\n",
      "Nearest to mortes: óbitos, acidentes, letalidade, homicídios, anúncios, ocorridas, fatais, assassinatos,\n"
     ]
    },
    {
     "data": {
      "application/vnd.jupyter.widget-view+json": {
       "model_id": "",
       "version_major": 2,
       "version_minor": 0
      },
      "text/plain": [
       "HBox(children=(IntProgress(value=0, description='Batch', max=183, style=ProgressStyle(description_width='initi…"
      ]
     },
     "metadata": {},
     "output_type": "display_data"
    },
    {
     "name": "stdout",
     "output_type": "stream",
     "text": [
      "Epoch 235/1000 Iteration: 43100 Avg. Training loss: 5.0585 0.2423 sec/batch\n"
     ]
    },
    {
     "data": {
      "application/vnd.jupyter.widget-view+json": {
       "model_id": "",
       "version_major": 2,
       "version_minor": 0
      },
      "text/plain": [
       "HBox(children=(IntProgress(value=0, description='Batch', max=183, style=ProgressStyle(description_width='initi…"
      ]
     },
     "metadata": {},
     "output_type": "display_data"
    },
    {
     "name": "stdout",
     "output_type": "stream",
     "text": [
      "Epoch 236/1000 Iteration: 43200 Avg. Training loss: 5.1863 0.0309 sec/batch\n",
      "Epoch 236/1000 Iteration: 43300 Avg. Training loss: 5.1271 0.2538 sec/batch\n"
     ]
    },
    {
     "data": {
      "application/vnd.jupyter.widget-view+json": {
       "model_id": "",
       "version_major": 2,
       "version_minor": 0
      },
      "text/plain": [
       "HBox(children=(IntProgress(value=0, description='Batch', max=183, style=ProgressStyle(description_width='initi…"
      ]
     },
     "metadata": {},
     "output_type": "display_data"
    },
    {
     "name": "stdout",
     "output_type": "stream",
     "text": [
      "Epoch 237/1000 Iteration: 43400 Avg. Training loss: 5.2636 0.0744 sec/batch\n",
      "Epoch 237/1000 Iteration: 43500 Avg. Training loss: 5.0954 0.2557 sec/batch\n"
     ]
    },
    {
     "data": {
      "application/vnd.jupyter.widget-view+json": {
       "model_id": "",
       "version_major": 2,
       "version_minor": 0
      },
      "text/plain": [
       "HBox(children=(IntProgress(value=0, description='Batch', max=183, style=ProgressStyle(description_width='initi…"
      ]
     },
     "metadata": {},
     "output_type": "display_data"
    },
    {
     "name": "stdout",
     "output_type": "stream",
     "text": [
      "Epoch 238/1000 Iteration: 43600 Avg. Training loss: 5.1585 0.1180 sec/batch\n",
      "Epoch 238/1000 Iteration: 43700 Avg. Training loss: 4.9870 0.2558 sec/batch\n"
     ]
    },
    {
     "data": {
      "application/vnd.jupyter.widget-view+json": {
       "model_id": "",
       "version_major": 2,
       "version_minor": 0
      },
      "text/plain": [
       "HBox(children=(IntProgress(value=0, description='Batch', max=183, style=ProgressStyle(description_width='initi…"
      ]
     },
     "metadata": {},
     "output_type": "display_data"
    },
    {
     "name": "stdout",
     "output_type": "stream",
     "text": [
      "Epoch 239/1000 Iteration: 43800 Avg. Training loss: 5.1236 0.1610 sec/batch\n",
      "Epoch 239/1000 Iteration: 43900 Avg. Training loss: 4.8956 0.2554 sec/batch\n"
     ]
    },
    {
     "data": {
      "application/vnd.jupyter.widget-view+json": {
       "model_id": "",
       "version_major": 2,
       "version_minor": 0
      },
      "text/plain": [
       "HBox(children=(IntProgress(value=0, description='Batch', max=183, style=ProgressStyle(description_width='initi…"
      ]
     },
     "metadata": {},
     "output_type": "display_data"
    },
    {
     "name": "stdout",
     "output_type": "stream",
     "text": [
      "Epoch 240/1000 Iteration: 44000 Avg. Training loss: 4.7853 0.2051 sec/batch\n",
      "Nearest to parte: tem, a, também, da, à, de, ., e,\n",
      "Nearest to mas: ainda, que, porém, já, não, pois, mais, porque,\n",
      "Nearest to vai: pretende, poderá, irá, precisa, pode, começar, terá, vão,\n",
      "Nearest to da: a, na, de, à, ,, do, ., em,\n",
      "Nearest to dois: nove, três, oito, cinco, outros, primeiros, os, seis,\n",
      "Nearest to a: à, de, ., uma, da, também, para, na,\n",
      "Nearest to é: tem, faz, que, considera, importante, pois, pode, parte,\n",
      "Nearest to 0: 00, domingo, neste, sábado, sexta-feira, quarta, sexta, quinta-feira,\n",
      "Nearest to vê: preocupa, viu, faz, também, da, que, especialmente, coloca,\n",
      "Nearest to livros: romances, didáticos, literatura, contos, textos, livro, editoras, leitura,\n",
      "Nearest to vídeos: conteúdo, fotos, comentários, acontecimentos, relevantes, leitores, enviando, sejam,\n",
      "Nearest to simples: é, porém, somente, por, qualquer, já, pois, seria,\n",
      "Nearest to financiamento: financiar, privado, caixa, financiamentos, empréstimos, fies, viabilizar, estudantil,\n",
      "Nearest to quero: posso, vou, vai, espero, obrigado, vocês, vamos, prefiro,\n",
      "Nearest to discussão: proposta, tema, questão, pauta, discutir, discussões, uma, senado,\n",
      "Nearest to profissionais: qualificação, qualificados, professores, médicos, profissional, capacitados, docentes, deficiência,\n",
      "Epoch 240/1000 Iteration: 44100 Avg. Training loss: 4.9952 0.2648 sec/batch\n"
     ]
    },
    {
     "data": {
      "application/vnd.jupyter.widget-view+json": {
       "model_id": "",
       "version_major": 2,
       "version_minor": 0
      },
      "text/plain": [
       "HBox(children=(IntProgress(value=0, description='Batch', max=183, style=ProgressStyle(description_width='initi…"
      ]
     },
     "metadata": {},
     "output_type": "display_data"
    },
    {
     "name": "stdout",
     "output_type": "stream",
     "text": [
      "Epoch 241/1000 Iteration: 44200 Avg. Training loss: 5.2986 0.2488 sec/batch\n"
     ]
    },
    {
     "data": {
      "application/vnd.jupyter.widget-view+json": {
       "model_id": "",
       "version_major": 2,
       "version_minor": 0
      },
      "text/plain": [
       "HBox(children=(IntProgress(value=0, description='Batch', max=183, style=ProgressStyle(description_width='initi…"
      ]
     },
     "metadata": {},
     "output_type": "display_data"
    },
    {
     "name": "stdout",
     "output_type": "stream",
     "text": [
      "Epoch 242/1000 Iteration: 44300 Avg. Training loss: 5.1540 0.0360 sec/batch\n",
      "Epoch 242/1000 Iteration: 44400 Avg. Training loss: 5.0307 0.2557 sec/batch\n"
     ]
    },
    {
     "data": {
      "application/vnd.jupyter.widget-view+json": {
       "model_id": "",
       "version_major": 2,
       "version_minor": 0
      },
      "text/plain": [
       "HBox(children=(IntProgress(value=0, description='Batch', max=183, style=ProgressStyle(description_width='initi…"
      ]
     },
     "metadata": {},
     "output_type": "display_data"
    },
    {
     "name": "stdout",
     "output_type": "stream",
     "text": [
      "Epoch 243/1000 Iteration: 44500 Avg. Training loss: 5.0267 0.0792 sec/batch\n",
      "Epoch 243/1000 Iteration: 44600 Avg. Training loss: 5.1327 0.2567 sec/batch\n"
     ]
    },
    {
     "data": {
      "application/vnd.jupyter.widget-view+json": {
       "model_id": "",
       "version_major": 2,
       "version_minor": 0
      },
      "text/plain": [
       "HBox(children=(IntProgress(value=0, description='Batch', max=183, style=ProgressStyle(description_width='initi…"
      ]
     },
     "metadata": {},
     "output_type": "display_data"
    },
    {
     "name": "stdout",
     "output_type": "stream",
     "text": [
      "Epoch 244/1000 Iteration: 44700 Avg. Training loss: 5.0757 0.1229 sec/batch\n",
      "Epoch 244/1000 Iteration: 44800 Avg. Training loss: 4.8561 0.2557 sec/batch\n"
     ]
    },
    {
     "data": {
      "application/vnd.jupyter.widget-view+json": {
       "model_id": "",
       "version_major": 2,
       "version_minor": 0
      },
      "text/plain": [
       "HBox(children=(IntProgress(value=0, description='Batch', max=183, style=ProgressStyle(description_width='initi…"
      ]
     },
     "metadata": {},
     "output_type": "display_data"
    },
    {
     "name": "stdout",
     "output_type": "stream",
     "text": [
      "Epoch 245/1000 Iteration: 44900 Avg. Training loss: 5.2207 0.1664 sec/batch\n",
      "Epoch 245/1000 Iteration: 45000 Avg. Training loss: 5.0189 0.2567 sec/batch\n",
      "Nearest to aos: os, e, por, também, graças, dos, seus, além,\n",
      "Nearest to 00: 0, em, (, ), até, seis, quinta-feira, menos,\n",
      "Nearest to à: a, também, da, ., que, de, uma, parte,\n",
      "Nearest to muito: bastante, mas, porque, tão, bem, diferente, mais, que,\n",
      "Nearest to fazer: dar, mudar, só, saber, acabar, pensar, para, mas,\n",
      "Nearest to como: também, inclusive, que, ,, ., e, de, especialmente,\n",
      "Nearest to ele: que, mas, não, ela, porque, ainda, o, qual,\n",
      "Nearest to ter: teria, tenha, havia, sido, terem, tenham, tendo, teriam,\n",
      "Nearest to mortes: óbitos, acidentes, anúncios, letalidade, homicídios, veja, assassinatos, atropelamentos,\n",
      "Nearest to popular: populares, diretas, como, tornou-se, revolta, retrocesso, ,, que,\n",
      "Nearest to conversa: conversas, gravação, áudio, gravada, transcrição, gravações, encontro, gravado,\n",
      "Nearest to explica: afirma, observa, diz, possível, há, pondera, explicam, porém,\n",
      "Nearest to famílias: pessoas, pobres, moradias, vivem, moram, comunidades, crianças, pobreza,\n",
      "Nearest to estudos: pesquisas, científicos, dados, pesquisadores, estudo, levantamentos, avançados, relatórios,\n",
      "Nearest to conhecido: principalmente, apontado, do, famoso, tornou-se, virou, envolveu, criado,\n",
      "Nearest to garantir: assegurar, manter, garantindo, necessária, preservar, garante, reforçar, depende,\n"
     ]
    },
    {
     "data": {
      "application/vnd.jupyter.widget-view+json": {
       "model_id": "",
       "version_major": 2,
       "version_minor": 0
      },
      "text/plain": [
       "HBox(children=(IntProgress(value=0, description='Batch', max=183, style=ProgressStyle(description_width='initi…"
      ]
     },
     "metadata": {},
     "output_type": "display_data"
    },
    {
     "name": "stdout",
     "output_type": "stream",
     "text": [
      "Epoch 246/1000 Iteration: 45100 Avg. Training loss: 5.0239 0.2091 sec/batch\n",
      "Epoch 246/1000 Iteration: 45200 Avg. Training loss: 5.0887 0.2552 sec/batch\n"
     ]
    },
    {
     "data": {
      "application/vnd.jupyter.widget-view+json": {
       "model_id": "",
       "version_major": 2,
       "version_minor": 0
      },
      "text/plain": [
       "HBox(children=(IntProgress(value=0, description='Batch', max=183, style=ProgressStyle(description_width='initi…"
      ]
     },
     "metadata": {},
     "output_type": "display_data"
    },
    {
     "name": "stdout",
     "output_type": "stream",
     "text": [
      "Epoch 247/1000 Iteration: 45300 Avg. Training loss: 4.9905 0.2526 sec/batch\n"
     ]
    },
    {
     "data": {
      "application/vnd.jupyter.widget-view+json": {
       "model_id": "",
       "version_major": 2,
       "version_minor": 0
      },
      "text/plain": [
       "HBox(children=(IntProgress(value=0, description='Batch', max=183, style=ProgressStyle(description_width='initi…"
      ]
     },
     "metadata": {},
     "output_type": "display_data"
    },
    {
     "name": "stdout",
     "output_type": "stream",
     "text": [
      "Epoch 248/1000 Iteration: 45400 Avg. Training loss: 5.1491 0.0408 sec/batch\n",
      "Epoch 248/1000 Iteration: 45500 Avg. Training loss: 5.0046 0.2555 sec/batch\n"
     ]
    },
    {
     "data": {
      "application/vnd.jupyter.widget-view+json": {
       "model_id": "",
       "version_major": 2,
       "version_minor": 0
      },
      "text/plain": [
       "HBox(children=(IntProgress(value=0, description='Batch', max=183, style=ProgressStyle(description_width='initi…"
      ]
     },
     "metadata": {},
     "output_type": "display_data"
    },
    {
     "name": "stdout",
     "output_type": "stream",
     "text": [
      "Epoch 249/1000 Iteration: 45600 Avg. Training loss: 5.0913 0.0845 sec/batch\n",
      "Epoch 249/1000 Iteration: 45700 Avg. Training loss: 5.0539 0.2553 sec/batch\n"
     ]
    },
    {
     "data": {
      "application/vnd.jupyter.widget-view+json": {
       "model_id": "",
       "version_major": 2,
       "version_minor": 0
      },
      "text/plain": [
       "HBox(children=(IntProgress(value=0, description='Batch', max=183, style=ProgressStyle(description_width='initi…"
      ]
     },
     "metadata": {},
     "output_type": "display_data"
    },
    {
     "name": "stdout",
     "output_type": "stream",
     "text": [
      "Epoch 250/1000 Iteration: 45800 Avg. Training loss: 4.9232 0.1281 sec/batch\n",
      "Epoch 250/1000 Iteration: 45900 Avg. Training loss: 4.9959 0.2556 sec/batch\n"
     ]
    },
    {
     "data": {
      "application/vnd.jupyter.widget-view+json": {
       "model_id": "",
       "version_major": 2,
       "version_minor": 0
      },
      "text/plain": [
       "HBox(children=(IntProgress(value=0, description='Batch', max=183, style=ProgressStyle(description_width='initi…"
      ]
     },
     "metadata": {},
     "output_type": "display_data"
    },
    {
     "name": "stdout",
     "output_type": "stream",
     "text": [
      "Epoch 251/1000 Iteration: 46000 Avg. Training loss: 4.8450 0.1715 sec/batch\n",
      "Nearest to foram: serem, serão, seriam, fossem, forem, estavam, eram, deixaram,\n",
      "Nearest to uma: a, outra, essa, numa, à, parte, na, .,\n",
      "Nearest to sem: ., dificuldade, dá, apenas, para, têm, de, tem,\n",
      "Nearest to de: em, e, a, ., também, ,, do, com,\n",
      "Nearest to :: como, ,, só, ., agora, no, ;, exemplo,\n",
      "Nearest to sua: notícia, própria, para, mensagem, a, isso, ou, com,\n",
      "Nearest to da: a, na, de, à, do, em, ,, parte,\n",
      "Nearest to em: de, ,, ., também, no, a, com, na,\n",
      "Nearest to modo: que, nesse, esse, algo, pois, mesmo, assim, é,\n",
      "Nearest to garantir: assegurar, manter, necessária, garantindo, preservar, garante, reforçar, garantido,\n",
      "Nearest to participar: realizar, envolver, acompanhar, integrar, reunir, fazer, organizar, disputar,\n",
      "Nearest to conseguir: obter, ganhar, para, precisa, tentar, conseguiu, ajudar, precisava,\n",
      "Nearest to minas: gerais, pimentel, espírito, bahia, ceará, rondônia, mineiro, ufmg,\n",
      "Nearest to pf: polícia, operação, depoimento, investigação, federal, investigações, investigado, deflagrada,\n",
      "Nearest to encontrar: buscar, entender, achar, procurar, manter, trazer, sair, colocar,\n",
      "Nearest to esporte: esportes, esportiva, atleta, modalidade, modalidades, judô, natação, esportistas,\n",
      "Epoch 251/1000 Iteration: 46100 Avg. Training loss: 5.3508 0.2636 sec/batch\n"
     ]
    },
    {
     "data": {
      "application/vnd.jupyter.widget-view+json": {
       "model_id": "",
       "version_major": 2,
       "version_minor": 0
      },
      "text/plain": [
       "HBox(children=(IntProgress(value=0, description='Batch', max=183, style=ProgressStyle(description_width='initi…"
      ]
     },
     "metadata": {},
     "output_type": "display_data"
    },
    {
     "name": "stdout",
     "output_type": "stream",
     "text": [
      "Epoch 252/1000 Iteration: 46200 Avg. Training loss: 5.0471 0.2150 sec/batch\n"
     ]
    },
    {
     "data": {
      "application/vnd.jupyter.widget-view+json": {
       "model_id": "",
       "version_major": 2,
       "version_minor": 0
      },
      "text/plain": [
       "HBox(children=(IntProgress(value=0, description='Batch', max=183, style=ProgressStyle(description_width='initi…"
      ]
     },
     "metadata": {},
     "output_type": "display_data"
    },
    {
     "name": "stdout",
     "output_type": "stream",
     "text": [
      "Epoch 253/1000 Iteration: 46300 Avg. Training loss: 5.1798 0.0027 sec/batch\n",
      "Epoch 253/1000 Iteration: 46400 Avg. Training loss: 5.2478 0.2568 sec/batch\n"
     ]
    },
    {
     "data": {
      "application/vnd.jupyter.widget-view+json": {
       "model_id": "",
       "version_major": 2,
       "version_minor": 0
      },
      "text/plain": [
       "HBox(children=(IntProgress(value=0, description='Batch', max=183, style=ProgressStyle(description_width='initi…"
      ]
     },
     "metadata": {},
     "output_type": "display_data"
    },
    {
     "name": "stdout",
     "output_type": "stream",
     "text": [
      "Epoch 254/1000 Iteration: 46500 Avg. Training loss: 5.0823 0.0463 sec/batch\n",
      "Epoch 254/1000 Iteration: 46600 Avg. Training loss: 5.1900 0.2589 sec/batch\n"
     ]
    },
    {
     "data": {
      "application/vnd.jupyter.widget-view+json": {
       "model_id": "",
       "version_major": 2,
       "version_minor": 0
      },
      "text/plain": [
       "HBox(children=(IntProgress(value=0, description='Batch', max=183, style=ProgressStyle(description_width='initi…"
      ]
     },
     "metadata": {},
     "output_type": "display_data"
    },
    {
     "name": "stdout",
     "output_type": "stream",
     "text": [
      "Epoch 255/1000 Iteration: 46700 Avg. Training loss: 4.7533 0.0902 sec/batch\n",
      "Epoch 255/1000 Iteration: 46800 Avg. Training loss: 5.0832 0.2553 sec/batch\n"
     ]
    },
    {
     "data": {
      "application/vnd.jupyter.widget-view+json": {
       "model_id": "",
       "version_major": 2,
       "version_minor": 0
      },
      "text/plain": [
       "HBox(children=(IntProgress(value=0, description='Batch', max=183, style=ProgressStyle(description_width='initi…"
      ]
     },
     "metadata": {},
     "output_type": "display_data"
    },
    {
     "name": "stdout",
     "output_type": "stream",
     "text": [
      "Epoch 256/1000 Iteration: 46900 Avg. Training loss: 5.0964 0.1334 sec/batch\n",
      "Epoch 256/1000 Iteration: 47000 Avg. Training loss: 5.2026 0.2562 sec/batch\n",
      "Nearest to ?: sabe, acha, não, você, afinal, quer, sim, só,\n",
      "Nearest to fazer: só, saber, dar, mas, mudar, pensar, entender, acabar,\n",
      "Nearest to ele: que, mas, ela, ainda, não, quando, porque, já,\n",
      "Nearest to que: ainda, não, mas, já, ele, também, ., ,,\n",
      "Nearest to afirmou: disse, ressaltou, reiterou, reafirmou, defendeu, reconheceu, acrescentou, ainda,\n",
      "Nearest to de: em, ., ,, e, também, a, da, do,\n",
      "Nearest to tem: é, ., tendo, têm, do, mesmo, possui, também,\n",
      "Nearest to as: essas, das, outras, todas, mesmas, algumas, suas, dessas,\n",
      "Nearest to vídeos: conteúdo, fotos, comentários, acontecimentos, relevantes, leitores, enviando, notícias,\n",
      "Nearest to quero: posso, vou, vai, falo, devo, sou, sei, consigo,\n",
      "Nearest to garantir: assegurar, manter, necessária, garantindo, depende, garante, reforçar, garantido,\n",
      "Nearest to médico: hospital, iml, paciente, clínico, clínicas, médicos, atendimento, encaminhado,\n",
      "Nearest to tratamento: tratamentos, pacientes, terapia, adequado, tratar, diagnóstico, intensivo, hospitalar,\n",
      "Nearest to popular: populares, diretas, apenas, de, ,, há, tornou-se, povo,\n",
      "Nearest to comercial: transações, utilizado, comércio, exterior, balança, fechou, vista, dólar,\n",
      "Nearest to somente: mesmo, apenas, só, ainda, ., já, até, será,\n"
     ]
    },
    {
     "data": {
      "application/vnd.jupyter.widget-view+json": {
       "model_id": "",
       "version_major": 2,
       "version_minor": 0
      },
      "text/plain": [
       "HBox(children=(IntProgress(value=0, description='Batch', max=183, style=ProgressStyle(description_width='initi…"
      ]
     },
     "metadata": {},
     "output_type": "display_data"
    },
    {
     "name": "stdout",
     "output_type": "stream",
     "text": [
      "Epoch 257/1000 Iteration: 47100 Avg. Training loss: 4.8543 0.1758 sec/batch\n",
      "Epoch 257/1000 Iteration: 47200 Avg. Training loss: 4.9897 0.2545 sec/batch\n"
     ]
    },
    {
     "data": {
      "application/vnd.jupyter.widget-view+json": {
       "model_id": "",
       "version_major": 2,
       "version_minor": 0
      },
      "text/plain": [
       "HBox(children=(IntProgress(value=0, description='Batch', max=183, style=ProgressStyle(description_width='initi…"
      ]
     },
     "metadata": {},
     "output_type": "display_data"
    },
    {
     "name": "stdout",
     "output_type": "stream",
     "text": [
      "Epoch 258/1000 Iteration: 47300 Avg. Training loss: 5.1202 0.2196 sec/batch\n"
     ]
    },
    {
     "data": {
      "application/vnd.jupyter.widget-view+json": {
       "model_id": "",
       "version_major": 2,
       "version_minor": 0
      },
      "text/plain": [
       "HBox(children=(IntProgress(value=0, description='Batch', max=183, style=ProgressStyle(description_width='initi…"
      ]
     },
     "metadata": {},
     "output_type": "display_data"
    },
    {
     "name": "stdout",
     "output_type": "stream",
     "text": [
      "Epoch 259/1000 Iteration: 47400 Avg. Training loss: 5.0130 0.0080 sec/batch\n",
      "Epoch 259/1000 Iteration: 47500 Avg. Training loss: 5.0630 0.2559 sec/batch\n"
     ]
    },
    {
     "data": {
      "application/vnd.jupyter.widget-view+json": {
       "model_id": "",
       "version_major": 2,
       "version_minor": 0
      },
      "text/plain": [
       "HBox(children=(IntProgress(value=0, description='Batch', max=183, style=ProgressStyle(description_width='initi…"
      ]
     },
     "metadata": {},
     "output_type": "display_data"
    },
    {
     "name": "stdout",
     "output_type": "stream",
     "text": [
      "Epoch 260/1000 Iteration: 47600 Avg. Training loss: 5.0155 0.0515 sec/batch\n",
      "Epoch 260/1000 Iteration: 47700 Avg. Training loss: 5.2760 0.2554 sec/batch\n"
     ]
    },
    {
     "data": {
      "application/vnd.jupyter.widget-view+json": {
       "model_id": "",
       "version_major": 2,
       "version_minor": 0
      },
      "text/plain": [
       "HBox(children=(IntProgress(value=0, description='Batch', max=183, style=ProgressStyle(description_width='initi…"
      ]
     },
     "metadata": {},
     "output_type": "display_data"
    },
    {
     "name": "stdout",
     "output_type": "stream",
     "text": [
      "Epoch 261/1000 Iteration: 47800 Avg. Training loss: 5.2192 0.0940 sec/batch\n",
      "Epoch 261/1000 Iteration: 47900 Avg. Training loss: 5.1617 0.2546 sec/batch\n"
     ]
    },
    {
     "data": {
      "application/vnd.jupyter.widget-view+json": {
       "model_id": "",
       "version_major": 2,
       "version_minor": 0
      },
      "text/plain": [
       "HBox(children=(IntProgress(value=0, description='Batch', max=183, style=ProgressStyle(description_width='initi…"
      ]
     },
     "metadata": {},
     "output_type": "display_data"
    },
    {
     "name": "stdout",
     "output_type": "stream",
     "text": [
      "Epoch 262/1000 Iteration: 48000 Avg. Training loss: 5.2185 0.1382 sec/batch\n",
      "Nearest to dia: mês, último, início, até, semana, outubro, deste, março,\n",
      "Nearest to sobre: também, a, assunto, de, questionado, que, do, ainda,\n",
      "Nearest to parte: a, uma, principalmente, da, tem, também, pela, .,\n",
      "Nearest to às: 00h, das, hoje, sexta, volta, amanhã, terça, as,\n",
      "Nearest to pessoas: menos, elas, grande, desse, que, delas, milhares, jovens,\n",
      "Nearest to era: sabia, fazia, tinha, fosse, ele, foi, naquele, poderia,\n",
      "Nearest to por: já, e, que, de, ., também, apenas, inclusive,\n",
      "Nearest to fazer: dar, pensar, mas, só, saber, mudar, entender, mostrar,\n",
      "Nearest to recente: à, mostrou, em, segundo, a, sobre, também, último,\n",
      "Nearest to henrique: cardoso, meirelles, michel, itamar, governo, temer, fernando, fhc,\n",
      "Nearest to diferença: apenas, menos, soma, porcentagem, mesmo, cada, vantagem, metade,\n",
      "Nearest to previsão: expectativa, esperada, prevista, deve, previsto, ainda, prevê, fim,\n",
      "Nearest to militares: militar, soldados, civis, armadas, tropas, exército, policiais, polícias,\n",
      "Nearest to chefe: gabinete, ex-chefe, afirmou, segurança, disse, chefiou, chefia, indicou,\n",
      "Nearest to mar: mediterrâneo, oceano, praia, naufrágio, travessia, barco, egeu, costeira,\n",
      "Nearest to depoimento: prestou, prestado, pf, prestar, depor, depoimentos, testemunha, esclarecer,\n",
      "Epoch 262/1000 Iteration: 48100 Avg. Training loss: 4.8199 0.2619 sec/batch\n"
     ]
    },
    {
     "data": {
      "application/vnd.jupyter.widget-view+json": {
       "model_id": "",
       "version_major": 2,
       "version_minor": 0
      },
      "text/plain": [
       "HBox(children=(IntProgress(value=0, description='Batch', max=183, style=ProgressStyle(description_width='initi…"
      ]
     },
     "metadata": {},
     "output_type": "display_data"
    },
    {
     "name": "stdout",
     "output_type": "stream",
     "text": [
      "Epoch 263/1000 Iteration: 48200 Avg. Training loss: 5.0375 0.1818 sec/batch\n",
      "Epoch 263/1000 Iteration: 48300 Avg. Training loss: 5.3039 0.2548 sec/batch\n"
     ]
    },
    {
     "data": {
      "application/vnd.jupyter.widget-view+json": {
       "model_id": "",
       "version_major": 2,
       "version_minor": 0
      },
      "text/plain": [
       "HBox(children=(IntProgress(value=0, description='Batch', max=183, style=ProgressStyle(description_width='initi…"
      ]
     },
     "metadata": {},
     "output_type": "display_data"
    },
    {
     "name": "stdout",
     "output_type": "stream",
     "text": [
      "Epoch 264/1000 Iteration: 48400 Avg. Training loss: 4.8873 0.2251 sec/batch\n"
     ]
    },
    {
     "data": {
      "application/vnd.jupyter.widget-view+json": {
       "model_id": "",
       "version_major": 2,
       "version_minor": 0
      },
      "text/plain": [
       "HBox(children=(IntProgress(value=0, description='Batch', max=183, style=ProgressStyle(description_width='initi…"
      ]
     },
     "metadata": {},
     "output_type": "display_data"
    },
    {
     "name": "stdout",
     "output_type": "stream",
     "text": [
      "Epoch 265/1000 Iteration: 48500 Avg. Training loss: 5.1065 0.0128 sec/batch\n",
      "Epoch 265/1000 Iteration: 48600 Avg. Training loss: 5.0380 0.2550 sec/batch\n"
     ]
    },
    {
     "data": {
      "application/vnd.jupyter.widget-view+json": {
       "model_id": "",
       "version_major": 2,
       "version_minor": 0
      },
      "text/plain": [
       "HBox(children=(IntProgress(value=0, description='Batch', max=183, style=ProgressStyle(description_width='initi…"
      ]
     },
     "metadata": {},
     "output_type": "display_data"
    },
    {
     "name": "stdout",
     "output_type": "stream",
     "text": [
      "Epoch 266/1000 Iteration: 48700 Avg. Training loss: 5.0876 0.0560 sec/batch\n",
      "Epoch 266/1000 Iteration: 48800 Avg. Training loss: 5.2077 0.2546 sec/batch\n"
     ]
    },
    {
     "data": {
      "application/vnd.jupyter.widget-view+json": {
       "model_id": "",
       "version_major": 2,
       "version_minor": 0
      },
      "text/plain": [
       "HBox(children=(IntProgress(value=0, description='Batch', max=183, style=ProgressStyle(description_width='initi…"
      ]
     },
     "metadata": {},
     "output_type": "display_data"
    },
    {
     "name": "stdout",
     "output_type": "stream",
     "text": [
      "Epoch 267/1000 Iteration: 48900 Avg. Training loss: 5.0019 0.1000 sec/batch\n",
      "Epoch 267/1000 Iteration: 49000 Avg. Training loss: 4.9049 0.2561 sec/batch\n",
      "Nearest to com: e, ,, ., de, também, em, tem, ainda,\n",
      "Nearest to nos: últimos, nesses, de, primeiros, nestes, os, em, outros,\n",
      "Nearest to dois: nove, oito, três, cinco, outros, menos, primeiros, os,\n",
      "Nearest to 0000: junho, abril, passado, março, 0000-, ano, desde, outubro,\n",
      "Nearest to pelo: pela, o, foi, do, pelos, também, por, um,\n",
      "Nearest to presidente: presidentes, rousseff, presidência, vice-presidente, ex-presidente, dilma, então, interino,\n",
      "Nearest to as: essas, das, outras, mesmas, todas, algumas, dessas, pelas,\n",
      "Nearest to como: também, que, inclusive, e, ,, ., por, exemplo,\n",
      "Nearest to palácio: planalto, alvorada, jaburu, temer, peemedebista, interino, articulação, assessores,\n",
      "Nearest to conversa: conversas, gravação, áudio, gravada, transcrição, conversar, falou, telefonema,\n",
      "Nearest to vice-presidente: presidente, vice, presidência, assumir, interino, articulação, michel, temer,\n",
      "Nearest to querem: pretendem, querer, desejam, vão, conseguem, quer, decidiram, acham,\n",
      "Nearest to vídeos: conteúdo, fotos, comentários, acontecimentos, leitores, relevantes, enviando, notícias,\n",
      "Nearest to garantir: assegurar, manter, garantindo, preservar, reforçar, necessária, garante, depende,\n",
      "Nearest to emprego: trabalho, empregos, desempregados, desemprego, crescimento, empregados, demissões, trabalhador,\n",
      "Nearest to internacionais: nacionais, estrangeiras, eua, exterior, país, incluindo, comerciais, viagens,\n"
     ]
    },
    {
     "data": {
      "application/vnd.jupyter.widget-view+json": {
       "model_id": "",
       "version_major": 2,
       "version_minor": 0
      },
      "text/plain": [
       "HBox(children=(IntProgress(value=0, description='Batch', max=183, style=ProgressStyle(description_width='initi…"
      ]
     },
     "metadata": {},
     "output_type": "display_data"
    },
    {
     "name": "stdout",
     "output_type": "stream",
     "text": [
      "Epoch 268/1000 Iteration: 49100 Avg. Training loss: 5.3833 0.1427 sec/batch\n",
      "Epoch 268/1000 Iteration: 49200 Avg. Training loss: 5.0151 0.2557 sec/batch\n"
     ]
    },
    {
     "data": {
      "application/vnd.jupyter.widget-view+json": {
       "model_id": "",
       "version_major": 2,
       "version_minor": 0
      },
      "text/plain": [
       "HBox(children=(IntProgress(value=0, description='Batch', max=183, style=ProgressStyle(description_width='initi…"
      ]
     },
     "metadata": {},
     "output_type": "display_data"
    },
    {
     "name": "stdout",
     "output_type": "stream",
     "text": [
      "Epoch 269/1000 Iteration: 49300 Avg. Training loss: 5.0716 0.1864 sec/batch\n",
      "Epoch 269/1000 Iteration: 49400 Avg. Training loss: 5.1172 0.2548 sec/batch\n"
     ]
    },
    {
     "data": {
      "application/vnd.jupyter.widget-view+json": {
       "model_id": "",
       "version_major": 2,
       "version_minor": 0
      },
      "text/plain": [
       "HBox(children=(IntProgress(value=0, description='Batch', max=183, style=ProgressStyle(description_width='initi…"
      ]
     },
     "metadata": {},
     "output_type": "display_data"
    },
    {
     "name": "stdout",
     "output_type": "stream",
     "text": [
      "Epoch 270/1000 Iteration: 49500 Avg. Training loss: 5.1896 0.2295 sec/batch\n"
     ]
    },
    {
     "data": {
      "application/vnd.jupyter.widget-view+json": {
       "model_id": "",
       "version_major": 2,
       "version_minor": 0
      },
      "text/plain": [
       "HBox(children=(IntProgress(value=0, description='Batch', max=183, style=ProgressStyle(description_width='initi…"
      ]
     },
     "metadata": {},
     "output_type": "display_data"
    },
    {
     "name": "stdout",
     "output_type": "stream",
     "text": [
      "Epoch 271/1000 Iteration: 49600 Avg. Training loss: 5.1491 0.0183 sec/batch\n",
      "Epoch 271/1000 Iteration: 49700 Avg. Training loss: 5.1104 0.2544 sec/batch\n"
     ]
    },
    {
     "data": {
      "application/vnd.jupyter.widget-view+json": {
       "model_id": "",
       "version_major": 2,
       "version_minor": 0
      },
      "text/plain": [
       "HBox(children=(IntProgress(value=0, description='Batch', max=183, style=ProgressStyle(description_width='initi…"
      ]
     },
     "metadata": {},
     "output_type": "display_data"
    },
    {
     "name": "stdout",
     "output_type": "stream",
     "text": [
      "Epoch 272/1000 Iteration: 49800 Avg. Training loss: 5.2608 0.0611 sec/batch\n",
      "Epoch 272/1000 Iteration: 49900 Avg. Training loss: 5.1767 0.2559 sec/batch\n"
     ]
    },
    {
     "data": {
      "application/vnd.jupyter.widget-view+json": {
       "model_id": "",
       "version_major": 2,
       "version_minor": 0
      },
      "text/plain": [
       "HBox(children=(IntProgress(value=0, description='Batch', max=183, style=ProgressStyle(description_width='initi…"
      ]
     },
     "metadata": {},
     "output_type": "display_data"
    },
    {
     "name": "stdout",
     "output_type": "stream",
     "text": [
      "Epoch 273/1000 Iteration: 50000 Avg. Training loss: 5.1611 0.1053 sec/batch\n",
      "Nearest to foi: havia, após, pela, ter, ., pelo, parte, tendo,\n",
      "Nearest to isso: não, mensagem, notícia, porque, aquilo, sua, ou, dizer,\n",
      "Nearest to tem: é, têm, ., de, faz, e, tendo, apenas,\n",
      "Nearest to -: hoje, 0º, 00h00, 00h, 0, 00, ,, 00/0,\n",
      "Nearest to nas: das, pelas, as, primeiras, de, dessas, importantes, suas,\n",
      "Nearest to entre: também, de, principalmente, em, ,, e, parte, com,\n",
      "Nearest to quando: que, antes, ., ele, depois, só, já, até,\n",
      "Nearest to disse: afirmou, dizendo, reiterou, falou, afirmando, declarou, acrescentou, acrescentando,\n",
      "Nearest to conversa: gravação, conversas, áudio, gravada, transcrição, gravações, conversar, ouvir,\n",
      "Nearest to nossos: seus, mesmos, todos, os, temos, esses, outros, nosso,\n",
      "Nearest to modo: que, pois, nesse, esse, algo, qualquer, evidente, tipo,\n",
      "Nearest to livros: romances, didáticos, best-sellers, editoras, literatura, contos, leitura, livro,\n",
      "Nearest to ouro: medalha, prata, bronze, medalhista, londres-0000, conquistou, medalhas, conquista,\n",
      "Nearest to mínimo: salário, benefício, mínimos, máximo, valor, benefícios, gasto, cálculo,\n",
      "Nearest to desempenho: resultado, fraco, maior, terceiro, negativo, apesar, resultados, esperado,\n",
      "Nearest to deverá: poderá, deve, irá, deverão, será, vai, terá, voltará,\n",
      "Epoch 273/1000 Iteration: 50100 Avg. Training loss: 5.1453 0.2630 sec/batch\n"
     ]
    },
    {
     "data": {
      "application/vnd.jupyter.widget-view+json": {
       "model_id": "",
       "version_major": 2,
       "version_minor": 0
      },
      "text/plain": [
       "HBox(children=(IntProgress(value=0, description='Batch', max=183, style=ProgressStyle(description_width='initi…"
      ]
     },
     "metadata": {},
     "output_type": "display_data"
    },
    {
     "name": "stdout",
     "output_type": "stream",
     "text": [
      "Epoch 274/1000 Iteration: 50200 Avg. Training loss: 5.3600 0.1474 sec/batch\n",
      "Epoch 274/1000 Iteration: 50300 Avg. Training loss: 5.0717 0.2558 sec/batch\n"
     ]
    },
    {
     "data": {
      "application/vnd.jupyter.widget-view+json": {
       "model_id": "",
       "version_major": 2,
       "version_minor": 0
      },
      "text/plain": [
       "HBox(children=(IntProgress(value=0, description='Batch', max=183, style=ProgressStyle(description_width='initi…"
      ]
     },
     "metadata": {},
     "output_type": "display_data"
    },
    {
     "name": "stdout",
     "output_type": "stream",
     "text": [
      "Epoch 275/1000 Iteration: 50400 Avg. Training loss: 5.0270 0.1910 sec/batch\n",
      "Epoch 275/1000 Iteration: 50500 Avg. Training loss: 5.2797 0.2539 sec/batch\n"
     ]
    },
    {
     "data": {
      "application/vnd.jupyter.widget-view+json": {
       "model_id": "",
       "version_major": 2,
       "version_minor": 0
      },
      "text/plain": [
       "HBox(children=(IntProgress(value=0, description='Batch', max=183, style=ProgressStyle(description_width='initi…"
      ]
     },
     "metadata": {},
     "output_type": "display_data"
    },
    {
     "name": "stdout",
     "output_type": "stream",
     "text": [
      "Epoch 276/1000 Iteration: 50600 Avg. Training loss: 5.0020 0.2347 sec/batch\n"
     ]
    },
    {
     "data": {
      "application/vnd.jupyter.widget-view+json": {
       "model_id": "",
       "version_major": 2,
       "version_minor": 0
      },
      "text/plain": [
       "HBox(children=(IntProgress(value=0, description='Batch', max=183, style=ProgressStyle(description_width='initi…"
      ]
     },
     "metadata": {},
     "output_type": "display_data"
    },
    {
     "name": "stdout",
     "output_type": "stream",
     "text": [
      "Epoch 277/1000 Iteration: 50700 Avg. Training loss: 5.0822 0.0231 sec/batch\n",
      "Epoch 277/1000 Iteration: 50800 Avg. Training loss: 5.2317 0.2548 sec/batch\n"
     ]
    },
    {
     "data": {
      "application/vnd.jupyter.widget-view+json": {
       "model_id": "",
       "version_major": 2,
       "version_minor": 0
      },
      "text/plain": [
       "HBox(children=(IntProgress(value=0, description='Batch', max=183, style=ProgressStyle(description_width='initi…"
      ]
     },
     "metadata": {},
     "output_type": "display_data"
    },
    {
     "name": "stdout",
     "output_type": "stream",
     "text": [
      "Epoch 278/1000 Iteration: 50900 Avg. Training loss: 5.0906 0.0666 sec/batch\n",
      "Epoch 278/1000 Iteration: 51000 Avg. Training loss: 4.8334 0.2549 sec/batch\n",
      "Nearest to já: ainda, que, ., ,, porém, também, apenas, mas,\n",
      "Nearest to maior: a, menor, tem, também, apenas, principalmente, de, parte,\n",
      "Nearest to não: que, mas, porque, só, pois, ainda, fato, sim,\n",
      "Nearest to nos: últimos, nesses, de, em, os, nestes, dos, outros,\n",
      "Nearest to ser: ter, sido, foi, será, mas, por, só, pelo,\n",
      "Nearest to pode: poderá, deve, poderia, possa, vai, possível, costuma, precisa,\n",
      "Nearest to quando: que, ele, ., depois, antes, mas, até, só,\n",
      "Nearest to se: pois, que, ainda, fato, quem, porém, não, quando,\n",
      "Nearest to sede: em, segunda-feira, realizada, maio, sexta-feira, da, quarta-feira, terça-feira,\n",
      "Nearest to pf: polícia, depoimento, operação, investigadores, investigação, federal, investigados, deflagrada,\n",
      "Nearest to bairro: bairros, cidade, morador, residencial, oeste, prédio, moradores, jardim,\n",
      "Nearest to europeia: ue, unido, reino, brexit, bloco, britânicos, juncker, europeu,\n",
      "Nearest to casas: residências, moradias, apartamentos, inteiras, construções, famílias, rapidamente, imóveis,\n",
      "Nearest to popular: populares, diretas, há, tal, povo, revolta, imediata, como,\n",
      "Nearest to militares: militar, soldados, armadas, civis, tropas, forças, exército, policiais,\n",
      "Nearest to mar: mediterrâneo, oceano, travessia, naufrágio, barco, barcos, embarcações, praia,\n"
     ]
    },
    {
     "data": {
      "application/vnd.jupyter.widget-view+json": {
       "model_id": "",
       "version_major": 2,
       "version_minor": 0
      },
      "text/plain": [
       "HBox(children=(IntProgress(value=0, description='Batch', max=183, style=ProgressStyle(description_width='initi…"
      ]
     },
     "metadata": {},
     "output_type": "display_data"
    },
    {
     "name": "stdout",
     "output_type": "stream",
     "text": [
      "Epoch 279/1000 Iteration: 51100 Avg. Training loss: 5.0816 0.1094 sec/batch\n",
      "Epoch 279/1000 Iteration: 51200 Avg. Training loss: 5.2339 0.2562 sec/batch\n"
     ]
    },
    {
     "data": {
      "application/vnd.jupyter.widget-view+json": {
       "model_id": "",
       "version_major": 2,
       "version_minor": 0
      },
      "text/plain": [
       "HBox(children=(IntProgress(value=0, description='Batch', max=183, style=ProgressStyle(description_width='initi…"
      ]
     },
     "metadata": {},
     "output_type": "display_data"
    },
    {
     "name": "stdout",
     "output_type": "stream",
     "text": [
      "Epoch 280/1000 Iteration: 51300 Avg. Training loss: 5.0695 0.1530 sec/batch\n",
      "Epoch 280/1000 Iteration: 51400 Avg. Training loss: 5.2373 0.2552 sec/batch\n"
     ]
    },
    {
     "data": {
      "application/vnd.jupyter.widget-view+json": {
       "model_id": "",
       "version_major": 2,
       "version_minor": 0
      },
      "text/plain": [
       "HBox(children=(IntProgress(value=0, description='Batch', max=183, style=ProgressStyle(description_width='initi…"
      ]
     },
     "metadata": {},
     "output_type": "display_data"
    },
    {
     "name": "stdout",
     "output_type": "stream",
     "text": [
      "Epoch 281/1000 Iteration: 51500 Avg. Training loss: 5.1300 0.1966 sec/batch\n",
      "Epoch 281/1000 Iteration: 51600 Avg. Training loss: 5.1072 0.2550 sec/batch\n"
     ]
    },
    {
     "data": {
      "application/vnd.jupyter.widget-view+json": {
       "model_id": "",
       "version_major": 2,
       "version_minor": 0
      },
      "text/plain": [
       "HBox(children=(IntProgress(value=0, description='Batch', max=183, style=ProgressStyle(description_width='initi…"
      ]
     },
     "metadata": {},
     "output_type": "display_data"
    },
    {
     "name": "stdout",
     "output_type": "stream",
     "text": [
      "Epoch 282/1000 Iteration: 51700 Avg. Training loss: 5.2010 0.2402 sec/batch\n"
     ]
    },
    {
     "data": {
      "application/vnd.jupyter.widget-view+json": {
       "model_id": "",
       "version_major": 2,
       "version_minor": 0
      },
      "text/plain": [
       "HBox(children=(IntProgress(value=0, description='Batch', max=183, style=ProgressStyle(description_width='initi…"
      ]
     },
     "metadata": {},
     "output_type": "display_data"
    },
    {
     "name": "stdout",
     "output_type": "stream",
     "text": [
      "Epoch 283/1000 Iteration: 51800 Avg. Training loss: 5.1750 0.0283 sec/batch\n",
      "Epoch 283/1000 Iteration: 51900 Avg. Training loss: 5.1410 0.2587 sec/batch\n"
     ]
    },
    {
     "data": {
      "application/vnd.jupyter.widget-view+json": {
       "model_id": "",
       "version_major": 2,
       "version_minor": 0
      },
      "text/plain": [
       "HBox(children=(IntProgress(value=0, description='Batch', max=183, style=ProgressStyle(description_width='initi…"
      ]
     },
     "metadata": {},
     "output_type": "display_data"
    },
    {
     "name": "stdout",
     "output_type": "stream",
     "text": [
      "Epoch 284/1000 Iteration: 52000 Avg. Training loss: 5.0622 0.0718 sec/batch\n",
      "Nearest to que: ainda, já, também, não, mas, ., ele, a,\n",
      "Nearest to dois: nove, oito, cinco, três, outros, seis, os, menos,\n",
      "Nearest to brasil: no, mundo, país, ., fora, países, ,, américa,\n",
      "Nearest to país: maior, principalmente, especialmente, que, a, do, ., o,\n",
      "Nearest to para: a, ., com, de, objetivo, também, ainda, vão,\n",
      "Nearest to as: das, essas, mesmas, todas, outras, algumas, suas, dessas,\n",
      "Nearest to seus: os, próprios, outros, dos, esses, aos, dois, alguns,\n",
      "Nearest to ): (, quinta-feira, nesta, terça-feira, quarta-feira, 00, terça, quinta,\n",
      "Nearest to estádio: arena, maracanã, torcedores, engenhão, itaquerão, arquibancadas, pacaembu, estádios,\n",
      "Nearest to palácio: planalto, alvorada, jaburu, peemedebista, temer, assessores, encontro, auxiliares,\n",
      "Nearest to filmes: cinema, filme, cinemas, produções, documentários, cineastas, estúdios, exibição,\n",
      "Nearest to EMAIL: enviar, basta, e-mail, envie, traduzem, acessar, publicados, colaborar,\n",
      "Nearest to amigo: ele, outro, irmão, família, então, seu, o, amigos,\n",
      "Nearest to casas: moradias, inteiras, residências, apartamentos, maioria, vilas, famílias, imóveis,\n",
      "Nearest to instituição: financeira, banco, instituições, administração, pública, curso, alunos, a,\n",
      "Nearest to artista: exposição, plástica, plástico, artistas, pinturas, pintura, fotografias, curador,\n",
      "Epoch 284/1000 Iteration: 52100 Avg. Training loss: 5.0770 0.2640 sec/batch\n"
     ]
    },
    {
     "data": {
      "application/vnd.jupyter.widget-view+json": {
       "model_id": "",
       "version_major": 2,
       "version_minor": 0
      },
      "text/plain": [
       "HBox(children=(IntProgress(value=0, description='Batch', max=183, style=ProgressStyle(description_width='initi…"
      ]
     },
     "metadata": {},
     "output_type": "display_data"
    },
    {
     "name": "stdout",
     "output_type": "stream",
     "text": [
      "Epoch 285/1000 Iteration: 52200 Avg. Training loss: 5.1112 0.1154 sec/batch\n",
      "Epoch 285/1000 Iteration: 52300 Avg. Training loss: 5.2149 0.2551 sec/batch\n"
     ]
    },
    {
     "data": {
      "application/vnd.jupyter.widget-view+json": {
       "model_id": "",
       "version_major": 2,
       "version_minor": 0
      },
      "text/plain": [
       "HBox(children=(IntProgress(value=0, description='Batch', max=183, style=ProgressStyle(description_width='initi…"
      ]
     },
     "metadata": {},
     "output_type": "display_data"
    },
    {
     "name": "stdout",
     "output_type": "stream",
     "text": [
      "Epoch 286/1000 Iteration: 52400 Avg. Training loss: 5.0720 0.1583 sec/batch\n",
      "Epoch 286/1000 Iteration: 52500 Avg. Training loss: 5.0554 0.2561 sec/batch\n"
     ]
    },
    {
     "data": {
      "application/vnd.jupyter.widget-view+json": {
       "model_id": "",
       "version_major": 2,
       "version_minor": 0
      },
      "text/plain": [
       "HBox(children=(IntProgress(value=0, description='Batch', max=183, style=ProgressStyle(description_width='initi…"
      ]
     },
     "metadata": {},
     "output_type": "display_data"
    },
    {
     "name": "stdout",
     "output_type": "stream",
     "text": [
      "Epoch 287/1000 Iteration: 52600 Avg. Training loss: 5.1799 0.2032 sec/batch\n",
      "Epoch 287/1000 Iteration: 52700 Avg. Training loss: 5.0187 0.2575 sec/batch\n"
     ]
    },
    {
     "data": {
      "application/vnd.jupyter.widget-view+json": {
       "model_id": "",
       "version_major": 2,
       "version_minor": 0
      },
      "text/plain": [
       "HBox(children=(IntProgress(value=0, description='Batch', max=183, style=ProgressStyle(description_width='initi…"
      ]
     },
     "metadata": {},
     "output_type": "display_data"
    },
    {
     "name": "stdout",
     "output_type": "stream",
     "text": [
      "Epoch 288/1000 Iteration: 52800 Avg. Training loss: 5.2246 0.2440 sec/batch\n"
     ]
    },
    {
     "data": {
      "application/vnd.jupyter.widget-view+json": {
       "model_id": "",
       "version_major": 2,
       "version_minor": 0
      },
      "text/plain": [
       "HBox(children=(IntProgress(value=0, description='Batch', max=183, style=ProgressStyle(description_width='initi…"
      ]
     },
     "metadata": {},
     "output_type": "display_data"
    },
    {
     "name": "stdout",
     "output_type": "stream",
     "text": [
      "Epoch 289/1000 Iteration: 52900 Avg. Training loss: 5.0397 0.0334 sec/batch\n",
      "Epoch 289/1000 Iteration: 53000 Avg. Training loss: 5.1042 0.2570 sec/batch\n",
      "Nearest to dia: início, outubro, semana, até, último, antes, mês, termina,\n",
      "Nearest to afirmou: disse, ressaltou, reiterou, ainda, confirmou, destacou, reconheceu, reafirmou,\n",
      "Nearest to ele: que, mas, ainda, qual, o, não, porém, dele,\n",
      "Nearest to até: agora, só, em, já, fim, ainda, mesmo, apenas,\n",
      "Nearest to às: 00h, das, sexta, volta, dia, domingo, hoje, sábado,\n",
      "Nearest to as: das, essas, mesmas, outras, algumas, suas, todas, dessas,\n",
      "Nearest to aos: os, dos, seus, por, e, graças, também, à,\n",
      "Nearest to %: 00,0, 0,00, subiu, 0,0, alta, ante, recuo, recuou,\n",
      "Nearest to festival: festivais, cannes, evento, cinema, lollapalooza, veneza, exibido, muylaert,\n",
      "Nearest to global: aquecimento, recente, países, avalia, globais, maior, impulsionar, positiva,\n",
      "Nearest to queria: iria, poderia, quis, precisava, podia, quer, pudesse, pensava,\n",
      "Nearest to provas: prova, evidências, obtidas, depoimentos, suficientes, alegações, baseadas, indícios,\n",
      "Nearest to garantir: assegurar, manter, necessária, garantindo, garantido, garante, preservar, depende,\n",
      "Nearest to quero: posso, vou, devo, vai, puder, faço, obrigado, preciso,\n",
      "Nearest to ambos: dois, entre, também, os, outros, ,, têm, cujos,\n",
      "Nearest to ouro: medalha, prata, medalhas, bronze, londres-0000, medalhista, conquistou, ouros,\n"
     ]
    },
    {
     "data": {
      "application/vnd.jupyter.widget-view+json": {
       "model_id": "",
       "version_major": 2,
       "version_minor": 0
      },
      "text/plain": [
       "HBox(children=(IntProgress(value=0, description='Batch', max=183, style=ProgressStyle(description_width='initi…"
      ]
     },
     "metadata": {},
     "output_type": "display_data"
    },
    {
     "name": "stdout",
     "output_type": "stream",
     "text": [
      "Epoch 290/1000 Iteration: 53100 Avg. Training loss: 5.0188 0.0764 sec/batch\n",
      "Epoch 290/1000 Iteration: 53200 Avg. Training loss: 5.0139 0.2552 sec/batch\n"
     ]
    },
    {
     "data": {
      "application/vnd.jupyter.widget-view+json": {
       "model_id": "",
       "version_major": 2,
       "version_minor": 0
      },
      "text/plain": [
       "HBox(children=(IntProgress(value=0, description='Batch', max=183, style=ProgressStyle(description_width='initi…"
      ]
     },
     "metadata": {},
     "output_type": "display_data"
    },
    {
     "name": "stdout",
     "output_type": "stream",
     "text": [
      "Epoch 291/1000 Iteration: 53300 Avg. Training loss: 5.0624 0.1208 sec/batch\n",
      "Epoch 291/1000 Iteration: 53400 Avg. Training loss: 4.8483 0.2561 sec/batch\n"
     ]
    },
    {
     "data": {
      "application/vnd.jupyter.widget-view+json": {
       "model_id": "",
       "version_major": 2,
       "version_minor": 0
      },
      "text/plain": [
       "HBox(children=(IntProgress(value=0, description='Batch', max=183, style=ProgressStyle(description_width='initi…"
      ]
     },
     "metadata": {},
     "output_type": "display_data"
    },
    {
     "name": "stdout",
     "output_type": "stream",
     "text": [
      "Epoch 292/1000 Iteration: 53500 Avg. Training loss: 4.9943 0.1638 sec/batch\n",
      "Epoch 292/1000 Iteration: 53600 Avg. Training loss: 5.1660 0.2561 sec/batch\n"
     ]
    },
    {
     "data": {
      "application/vnd.jupyter.widget-view+json": {
       "model_id": "",
       "version_major": 2,
       "version_minor": 0
      },
      "text/plain": [
       "HBox(children=(IntProgress(value=0, description='Batch', max=183, style=ProgressStyle(description_width='initi…"
      ]
     },
     "metadata": {},
     "output_type": "display_data"
    },
    {
     "name": "stdout",
     "output_type": "stream",
     "text": [
      "Epoch 293/1000 Iteration: 53700 Avg. Training loss: 5.1070 0.2079 sec/batch\n",
      "Epoch 293/1000 Iteration: 53800 Avg. Training loss: 5.0440 0.2543 sec/batch\n"
     ]
    },
    {
     "data": {
      "application/vnd.jupyter.widget-view+json": {
       "model_id": "",
       "version_major": 2,
       "version_minor": 0
      },
      "text/plain": [
       "HBox(children=(IntProgress(value=0, description='Batch', max=183, style=ProgressStyle(description_width='initi…"
      ]
     },
     "metadata": {},
     "output_type": "display_data"
    },
    {
     "name": "stdout",
     "output_type": "stream",
     "text": [
      "Epoch 294/1000 Iteration: 53900 Avg. Training loss: 4.9325 0.2501 sec/batch\n"
     ]
    },
    {
     "data": {
      "application/vnd.jupyter.widget-view+json": {
       "model_id": "",
       "version_major": 2,
       "version_minor": 0
      },
      "text/plain": [
       "HBox(children=(IntProgress(value=0, description='Batch', max=183, style=ProgressStyle(description_width='initi…"
      ]
     },
     "metadata": {},
     "output_type": "display_data"
    },
    {
     "name": "stdout",
     "output_type": "stream",
     "text": [
      "Epoch 295/1000 Iteration: 54000 Avg. Training loss: 5.1975 0.0383 sec/batch\n",
      "Nearest to seu: próprio, o, um, ao, do, dele, cujo, pelo,\n",
      "Nearest to às: 00h, das, sexta, as, 0h, hoje, volta, dia,\n",
      "Nearest to sua: para, própria, ou, notícia, a, isso, mensagem, com,\n",
      "Nearest to ainda: que, entanto, mas, já, porém, mesmo, agora, .,\n",
      "Nearest to só: mas, mesmo, até, não, porque, já, agora, ainda,\n",
      "Nearest to ser: será, foi, ter, pelo, sido, pois, ele, por,\n",
      "Nearest to está: continua, estava, estaria, esteja, continuará, vem, já, estar,\n",
      "Nearest to ela: ele, dela, que, mas, uma, ainda, só, a,\n",
      "Nearest to conhecido: famoso, criado, um, chamado, considerado, virou, como, descrito,\n",
      "Nearest to aliados: aliado, parlamentares, peemedebista, aliada, governo, oposição, planalto, peemedebistas,\n",
      "Nearest to seguinte: publicadas, dia, coordenação, dicas, sempre, amanda, aqui, wesley,\n",
      "Nearest to famílias: pessoas, moram, pobres, jovens, moradias, comunidades, crianças, moradia,\n",
      "Nearest to negócio: empresa, negócios, investir, esse, interesse, ele, nesse, aquisição,\n",
      "Nearest to vice-presidente: presidente, vice, presidência, assumir, renúncia, interino, temer, executivo,\n",
      "Nearest to leva: levam, levar, levará, cada, tem, dá, passa, único,\n",
      "Nearest to comunicação: secom, secretaria, ebc, edinho, civil, comunicações, berzoini, meios,\n",
      "Epoch 295/1000 Iteration: 54100 Avg. Training loss: 5.0799 0.2635 sec/batch\n"
     ]
    },
    {
     "data": {
      "application/vnd.jupyter.widget-view+json": {
       "model_id": "",
       "version_major": 2,
       "version_minor": 0
      },
      "text/plain": [
       "HBox(children=(IntProgress(value=0, description='Batch', max=183, style=ProgressStyle(description_width='initi…"
      ]
     },
     "metadata": {},
     "output_type": "display_data"
    },
    {
     "name": "stdout",
     "output_type": "stream",
     "text": [
      "Epoch 296/1000 Iteration: 54200 Avg. Training loss: 4.9976 0.0812 sec/batch\n",
      "Epoch 296/1000 Iteration: 54300 Avg. Training loss: 4.9943 0.2540 sec/batch\n"
     ]
    },
    {
     "data": {
      "application/vnd.jupyter.widget-view+json": {
       "model_id": "",
       "version_major": 2,
       "version_minor": 0
      },
      "text/plain": [
       "HBox(children=(IntProgress(value=0, description='Batch', max=183, style=ProgressStyle(description_width='initi…"
      ]
     },
     "metadata": {},
     "output_type": "display_data"
    },
    {
     "name": "stdout",
     "output_type": "stream",
     "text": [
      "Epoch 297/1000 Iteration: 54400 Avg. Training loss: 5.1826 0.1253 sec/batch\n",
      "Epoch 297/1000 Iteration: 54500 Avg. Training loss: 5.1565 0.2545 sec/batch\n"
     ]
    },
    {
     "data": {
      "application/vnd.jupyter.widget-view+json": {
       "model_id": "",
       "version_major": 2,
       "version_minor": 0
      },
      "text/plain": [
       "HBox(children=(IntProgress(value=0, description='Batch', max=183, style=ProgressStyle(description_width='initi…"
      ]
     },
     "metadata": {},
     "output_type": "display_data"
    },
    {
     "name": "stdout",
     "output_type": "stream",
     "text": [
      "Epoch 298/1000 Iteration: 54600 Avg. Training loss: 5.1377 0.1677 sec/batch\n",
      "Epoch 298/1000 Iteration: 54700 Avg. Training loss: 5.0336 0.2546 sec/batch\n"
     ]
    },
    {
     "data": {
      "application/vnd.jupyter.widget-view+json": {
       "model_id": "",
       "version_major": 2,
       "version_minor": 0
      },
      "text/plain": [
       "HBox(children=(IntProgress(value=0, description='Batch', max=183, style=ProgressStyle(description_width='initi…"
      ]
     },
     "metadata": {},
     "output_type": "display_data"
    },
    {
     "name": "stdout",
     "output_type": "stream",
     "text": [
      "Epoch 299/1000 Iteration: 54800 Avg. Training loss: 4.8747 0.2121 sec/batch\n",
      "Epoch 299/1000 Iteration: 54900 Avg. Training loss: 5.1151 0.2529 sec/batch\n"
     ]
    },
    {
     "data": {
      "application/vnd.jupyter.widget-view+json": {
       "model_id": "",
       "version_major": 2,
       "version_minor": 0
      },
      "text/plain": [
       "HBox(children=(IntProgress(value=0, description='Batch', max=183, style=ProgressStyle(description_width='initi…"
      ]
     },
     "metadata": {},
     "output_type": "display_data"
    },
    {
     "name": "stdout",
     "output_type": "stream",
     "text": [
      "Epoch 300/1000 Iteration: 55000 Avg. Training loss: 5.2008 0.2559 sec/batch\n",
      "Nearest to em: de, ,, ., também, no, apenas, na, com,\n",
      "Nearest to como: também, ,, e, que, ., inclusive, por, já,\n",
      "Nearest to sobre: também, a, em, do, na, ainda, que, o,\n",
      "Nearest to só: mas, mesmo, não, até, já, que, agora, ainda,\n",
      "Nearest to ,: ., em, e, também, de, com, já, que,\n",
      "Nearest to .: ,, de, no, em, e, já, que, também,\n",
      "Nearest to 0000: abril, 0000-, outubro, ano, junho, passado, desde, março,\n",
      "Nearest to tem: é, mesmo, de, ., tendo, têm, do, mas,\n",
      "Nearest to somente: mesmo, apenas, só, até, ainda, ., tendo, já,\n",
      "Nearest to previsão: esperada, expectativa, prevista, deve, previsto, ainda, próximos, preveem,\n",
      "Nearest to nossos: seus, mesmos, todos, temos, os, esses, precisamos, outros,\n",
      "Nearest to queria: iria, precisava, poderia, pensava, decidiu, conseguiria, podia, gostaria,\n",
      "Nearest to |: grátis, sexta, prevenir, terça, 00h, sábado, quarta, sarau,\n",
      "Nearest to aliados: aliado, peemedebista, parlamentares, aliada, bastidores, peemedebistas, governo, planalto,\n",
      "Nearest to casas: moradias, residências, delas, mais, só, menos, apartamentos, rapidamente,\n",
      "Nearest to filha: mãe, mulher, marido, dela, menina, avó, sobrinha, família,\n"
     ]
    },
    {
     "data": {
      "application/vnd.jupyter.widget-view+json": {
       "model_id": "",
       "version_major": 2,
       "version_minor": 0
      },
      "text/plain": [
       "HBox(children=(IntProgress(value=0, description='Batch', max=183, style=ProgressStyle(description_width='initi…"
      ]
     },
     "metadata": {},
     "output_type": "display_data"
    },
    {
     "name": "stdout",
     "output_type": "stream",
     "text": [
      "Epoch 301/1000 Iteration: 55100 Avg. Training loss: 4.8797 0.0438 sec/batch\n",
      "Epoch 301/1000 Iteration: 55200 Avg. Training loss: 5.1525 0.2542 sec/batch\n"
     ]
    },
    {
     "data": {
      "application/vnd.jupyter.widget-view+json": {
       "model_id": "",
       "version_major": 2,
       "version_minor": 0
      },
      "text/plain": [
       "HBox(children=(IntProgress(value=0, description='Batch', max=183, style=ProgressStyle(description_width='initi…"
      ]
     },
     "metadata": {},
     "output_type": "display_data"
    },
    {
     "name": "stdout",
     "output_type": "stream",
     "text": [
      "Epoch 302/1000 Iteration: 55300 Avg. Training loss: 5.1493 0.0865 sec/batch\n",
      "Epoch 302/1000 Iteration: 55400 Avg. Training loss: 5.3040 0.2562 sec/batch\n"
     ]
    },
    {
     "data": {
      "application/vnd.jupyter.widget-view+json": {
       "model_id": "",
       "version_major": 2,
       "version_minor": 0
      },
      "text/plain": [
       "HBox(children=(IntProgress(value=0, description='Batch', max=183, style=ProgressStyle(description_width='initi…"
      ]
     },
     "metadata": {},
     "output_type": "display_data"
    },
    {
     "name": "stdout",
     "output_type": "stream",
     "text": [
      "Epoch 303/1000 Iteration: 55500 Avg. Training loss: 5.0853 0.1304 sec/batch\n",
      "Epoch 303/1000 Iteration: 55600 Avg. Training loss: 5.3316 0.2560 sec/batch\n"
     ]
    },
    {
     "data": {
      "application/vnd.jupyter.widget-view+json": {
       "model_id": "",
       "version_major": 2,
       "version_minor": 0
      },
      "text/plain": [
       "HBox(children=(IntProgress(value=0, description='Batch', max=183, style=ProgressStyle(description_width='initi…"
      ]
     },
     "metadata": {},
     "output_type": "display_data"
    },
    {
     "name": "stdout",
     "output_type": "stream",
     "text": [
      "Epoch 304/1000 Iteration: 55700 Avg. Training loss: 5.0161 0.1728 sec/batch\n",
      "Epoch 304/1000 Iteration: 55800 Avg. Training loss: 5.2494 0.2561 sec/batch\n"
     ]
    },
    {
     "data": {
      "application/vnd.jupyter.widget-view+json": {
       "model_id": "",
       "version_major": 2,
       "version_minor": 0
      },
      "text/plain": [
       "HBox(children=(IntProgress(value=0, description='Batch', max=183, style=ProgressStyle(description_width='initi…"
      ]
     },
     "metadata": {},
     "output_type": "display_data"
    },
    {
     "name": "stdout",
     "output_type": "stream",
     "text": [
      "Epoch 305/1000 Iteration: 55900 Avg. Training loss: 5.3803 0.2176 sec/batch\n"
     ]
    },
    {
     "data": {
      "application/vnd.jupyter.widget-view+json": {
       "model_id": "",
       "version_major": 2,
       "version_minor": 0
      },
      "text/plain": [
       "HBox(children=(IntProgress(value=0, description='Batch', max=183, style=ProgressStyle(description_width='initi…"
      ]
     },
     "metadata": {},
     "output_type": "display_data"
    },
    {
     "name": "stdout",
     "output_type": "stream",
     "text": [
      "Epoch 306/1000 Iteration: 56000 Avg. Training loss: 5.3649 0.0053 sec/batch\n",
      "Nearest to como: também, por, que, ., e, exemplo, ,, inclusive,\n",
      "Nearest to também: ., em, de, que, já, e, do, o,\n",
      "Nearest to dos: os, de, outros, também, alguns, do, desses, têm,\n",
      "Nearest to e: com, ., ,, também, de, por, em, além,\n",
      "Nearest to as: das, essas, todas, outras, algumas, mesmas, suas, dessas,\n",
      "Nearest to há: ainda, mas, pois, porém, só, mesmo, já, haver,\n",
      "Nearest to ter: teria, tenha, terem, tendo, havia, teriam, sido, fato,\n",
      "Nearest to à: a, também, de, da, ., que, uma, na,\n",
      "Nearest to quero: posso, vou, vai, puder, vamos, devo, obrigado, pretendo,\n",
      "Nearest to desempenho: resultado, fraco, maior, esperado, negativo, apesar, melhora, queda,\n",
      "Nearest to pretende: irá, vai, decidiu, quer, planeja, pretendem, pretendia, precisa,\n",
      "Nearest to tomar: toma, tomou, tome, tomarem, tomam, tomando, tomará, tomem,\n",
      "Nearest to modo: que, esse, nesse, todo, algo, pois, mesmo, ainda,\n",
      "Nearest to nossos: seus, mesmos, todos, os, temos, esses, precisamos, outros,\n",
      "Nearest to casas: moradias, residências, famílias, delas, moradores, apartamentos, inteiras, mais,\n",
      "Nearest to chefe: ex-chefe, gabinete, afirmou, segurança, departamento, chefia, referindo-se, disse,\n",
      "Epoch 306/1000 Iteration: 56100 Avg. Training loss: 5.1690 0.2644 sec/batch\n"
     ]
    },
    {
     "data": {
      "application/vnd.jupyter.widget-view+json": {
       "model_id": "",
       "version_major": 2,
       "version_minor": 0
      },
      "text/plain": [
       "HBox(children=(IntProgress(value=0, description='Batch', max=183, style=ProgressStyle(description_width='initi…"
      ]
     },
     "metadata": {},
     "output_type": "display_data"
    },
    {
     "name": "stdout",
     "output_type": "stream",
     "text": [
      "Epoch 307/1000 Iteration: 56200 Avg. Training loss: 4.9873 0.0487 sec/batch\n",
      "Epoch 307/1000 Iteration: 56300 Avg. Training loss: 5.0956 0.2562 sec/batch\n"
     ]
    },
    {
     "data": {
      "application/vnd.jupyter.widget-view+json": {
       "model_id": "",
       "version_major": 2,
       "version_minor": 0
      },
      "text/plain": [
       "HBox(children=(IntProgress(value=0, description='Batch', max=183, style=ProgressStyle(description_width='initi…"
      ]
     },
     "metadata": {},
     "output_type": "display_data"
    },
    {
     "name": "stdout",
     "output_type": "stream",
     "text": [
      "Epoch 308/1000 Iteration: 56400 Avg. Training loss: 5.1288 0.0922 sec/batch\n",
      "Epoch 308/1000 Iteration: 56500 Avg. Training loss: 5.2014 0.2549 sec/batch\n"
     ]
    },
    {
     "data": {
      "application/vnd.jupyter.widget-view+json": {
       "model_id": "",
       "version_major": 2,
       "version_minor": 0
      },
      "text/plain": [
       "HBox(children=(IntProgress(value=0, description='Batch', max=183, style=ProgressStyle(description_width='initi…"
      ]
     },
     "metadata": {},
     "output_type": "display_data"
    },
    {
     "name": "stdout",
     "output_type": "stream",
     "text": [
      "Epoch 309/1000 Iteration: 56600 Avg. Training loss: 5.3157 0.1353 sec/batch\n",
      "Epoch 309/1000 Iteration: 56700 Avg. Training loss: 5.2365 0.2562 sec/batch\n"
     ]
    },
    {
     "data": {
      "application/vnd.jupyter.widget-view+json": {
       "model_id": "",
       "version_major": 2,
       "version_minor": 0
      },
      "text/plain": [
       "HBox(children=(IntProgress(value=0, description='Batch', max=183, style=ProgressStyle(description_width='initi…"
      ]
     },
     "metadata": {},
     "output_type": "display_data"
    },
    {
     "name": "stdout",
     "output_type": "stream",
     "text": [
      "Epoch 310/1000 Iteration: 56800 Avg. Training loss: 5.2606 0.1779 sec/batch\n",
      "Epoch 310/1000 Iteration: 56900 Avg. Training loss: 5.1756 0.2548 sec/batch\n"
     ]
    },
    {
     "data": {
      "application/vnd.jupyter.widget-view+json": {
       "model_id": "",
       "version_major": 2,
       "version_minor": 0
      },
      "text/plain": [
       "HBox(children=(IntProgress(value=0, description='Batch', max=183, style=ProgressStyle(description_width='initi…"
      ]
     },
     "metadata": {},
     "output_type": "display_data"
    },
    {
     "name": "stdout",
     "output_type": "stream",
     "text": [
      "Epoch 311/1000 Iteration: 57000 Avg. Training loss: 5.1432 0.2221 sec/batch\n",
      "Nearest to mais: que, ., mas, já, menos, ainda, ,, tem,\n",
      "Nearest to governo: apoio, que, ainda, congresso, orçamento, país, do, o,\n",
      "Nearest to ainda: que, agora, já, porém, mas, entanto, ., apenas,\n",
      "Nearest to são: paulo, e, ., de, também, em, do, têm,\n",
      "Nearest to ser: será, pois, que, só, seja, foi, não, pelo,\n",
      "Nearest to o: do, um, ., também, ao, ainda, novo, no,\n",
      "Nearest to as: das, essas, todas, outras, algumas, suas, mesmas, duas,\n",
      "Nearest to pela: pelo, a, foi, na, qual, da, à, por,\n",
      "Nearest to veio: trouxe, levou, logo, vieram, aconteceu, fez, teve, após,\n",
      "Nearest to festival: festivais, cannes, evento, programação, veneza, lollapalooza, sxsw, paralela,\n",
      "Nearest to sede: em, da, na, próxima, quarta-feira, ocorreu, de, segunda-feira,\n",
      "Nearest to palácio: planalto, alvorada, jaburu, temer, peemedebista, assessores, auxiliares, articulador,\n",
      "Nearest to santa: catarina, cruz, fe, cecília, marcelina, teresinha, luzia, misericórdia,\n",
      "Nearest to operações: financeiras, ativos, transações, comando, mercado, meio, informou, empresas,\n",
      "Nearest to filmes: cinema, filme, produções, cinemas, dirigidos, longa-metragem, estúdios, cineasta,\n",
      "Nearest to desempenho: resultado, fraco, maior, apesar, esperado, negativo, queda, piora,\n"
     ]
    },
    {
     "data": {
      "application/vnd.jupyter.widget-view+json": {
       "model_id": "",
       "version_major": 2,
       "version_minor": 0
      },
      "text/plain": [
       "HBox(children=(IntProgress(value=0, description='Batch', max=183, style=ProgressStyle(description_width='initi…"
      ]
     },
     "metadata": {},
     "output_type": "display_data"
    },
    {
     "name": "stdout",
     "output_type": "stream",
     "text": [
      "Epoch 312/1000 Iteration: 57100 Avg. Training loss: 5.5613 0.0104 sec/batch\n",
      "Epoch 312/1000 Iteration: 57200 Avg. Training loss: 5.0199 0.2557 sec/batch\n"
     ]
    },
    {
     "data": {
      "application/vnd.jupyter.widget-view+json": {
       "model_id": "",
       "version_major": 2,
       "version_minor": 0
      },
      "text/plain": [
       "HBox(children=(IntProgress(value=0, description='Batch', max=183, style=ProgressStyle(description_width='initi…"
      ]
     },
     "metadata": {},
     "output_type": "display_data"
    },
    {
     "name": "stdout",
     "output_type": "stream",
     "text": [
      "Epoch 313/1000 Iteration: 57300 Avg. Training loss: 4.9735 0.0538 sec/batch\n",
      "Epoch 313/1000 Iteration: 57400 Avg. Training loss: 4.9535 0.2545 sec/batch\n"
     ]
    },
    {
     "data": {
      "application/vnd.jupyter.widget-view+json": {
       "model_id": "",
       "version_major": 2,
       "version_minor": 0
      },
      "text/plain": [
       "HBox(children=(IntProgress(value=0, description='Batch', max=183, style=ProgressStyle(description_width='initi…"
      ]
     },
     "metadata": {},
     "output_type": "display_data"
    },
    {
     "name": "stdout",
     "output_type": "stream",
     "text": [
      "Epoch 314/1000 Iteration: 57500 Avg. Training loss: 5.1267 0.0975 sec/batch\n",
      "Epoch 314/1000 Iteration: 57600 Avg. Training loss: 5.0811 0.2540 sec/batch\n"
     ]
    },
    {
     "data": {
      "application/vnd.jupyter.widget-view+json": {
       "model_id": "",
       "version_major": 2,
       "version_minor": 0
      },
      "text/plain": [
       "HBox(children=(IntProgress(value=0, description='Batch', max=183, style=ProgressStyle(description_width='initi…"
      ]
     },
     "metadata": {},
     "output_type": "display_data"
    },
    {
     "name": "stdout",
     "output_type": "stream",
     "text": [
      "Epoch 315/1000 Iteration: 57700 Avg. Training loss: 5.1401 0.1410 sec/batch\n",
      "Epoch 315/1000 Iteration: 57800 Avg. Training loss: 5.2752 0.2555 sec/batch\n"
     ]
    },
    {
     "data": {
      "application/vnd.jupyter.widget-view+json": {
       "model_id": "",
       "version_major": 2,
       "version_minor": 0
      },
      "text/plain": [
       "HBox(children=(IntProgress(value=0, description='Batch', max=183, style=ProgressStyle(description_width='initi…"
      ]
     },
     "metadata": {},
     "output_type": "display_data"
    },
    {
     "name": "stdout",
     "output_type": "stream",
     "text": [
      "Epoch 316/1000 Iteration: 57900 Avg. Training loss: 5.1934 0.1835 sec/batch\n",
      "Epoch 316/1000 Iteration: 58000 Avg. Training loss: 5.1711 0.2558 sec/batch\n",
      "Nearest to tem: é, tendo, ., têm, de, possui, além, maior,\n",
      "Nearest to eu: cheguei, meu, comigo, vou, sei, fiz, acredito, tenho,\n",
      "Nearest to segundo: ainda, primeiro, aponta, o, mostrou, chegou, do, deste,\n",
      "Nearest to ao: o, do, ., de, também, um, e, que,\n",
      "Nearest to na: da, a, última, também, ., em, do, de,\n",
      "Nearest to ?: sabe, acha, não, afinal, sim, só, quer, assim,\n",
      "Nearest to foram: serem, serão, seriam, fossem, forem, eram, dentre, estavam,\n",
      "Nearest to contra: ., em, na, no, também, o, terça-feira, a,\n",
      "Nearest to globo: tv, record, emissora, televisão, sbt, canal, novela, novelas,\n",
      "Nearest to previsão: expectativa, esperada, prevista, deve, previsto, ainda, próximos, entanto,\n",
      "Nearest to garantir: assegurar, manter, necessária, reforçar, garantindo, preservar, aumentar, dar,\n",
      "Nearest to filha: mãe, mulher, marido, menina, irmã, família, dela, sobrinha,\n",
      "Nearest to emprego: trabalho, desempregados, empregos, desemprego, crescimento, empregados, trabalhador, trabalhar,\n",
      "Nearest to comunicação: secom, meios, secretaria, civil, publicidade, mídia, imprensa, pública,\n",
      "Nearest to profissionais: qualificação, qualificados, funcionários, médicos, profissional, professores, trabalham, desafio,\n",
      "Nearest to entrou: entrará, levou, entrar, fez, após, retirou, o, partiu,\n"
     ]
    },
    {
     "data": {
      "application/vnd.jupyter.widget-view+json": {
       "model_id": "",
       "version_major": 2,
       "version_minor": 0
      },
      "text/plain": [
       "HBox(children=(IntProgress(value=0, description='Batch', max=183, style=ProgressStyle(description_width='initi…"
      ]
     },
     "metadata": {},
     "output_type": "display_data"
    },
    {
     "name": "stdout",
     "output_type": "stream",
     "text": [
      "Epoch 317/1000 Iteration: 58100 Avg. Training loss: 5.1150 0.2270 sec/batch\n"
     ]
    },
    {
     "data": {
      "application/vnd.jupyter.widget-view+json": {
       "model_id": "",
       "version_major": 2,
       "version_minor": 0
      },
      "text/plain": [
       "HBox(children=(IntProgress(value=0, description='Batch', max=183, style=ProgressStyle(description_width='initi…"
      ]
     },
     "metadata": {},
     "output_type": "display_data"
    },
    {
     "name": "stdout",
     "output_type": "stream",
     "text": [
      "Epoch 318/1000 Iteration: 58200 Avg. Training loss: 5.2623 0.0155 sec/batch\n",
      "Epoch 318/1000 Iteration: 58300 Avg. Training loss: 5.1833 0.2555 sec/batch\n"
     ]
    },
    {
     "data": {
      "application/vnd.jupyter.widget-view+json": {
       "model_id": "",
       "version_major": 2,
       "version_minor": 0
      },
      "text/plain": [
       "HBox(children=(IntProgress(value=0, description='Batch', max=183, style=ProgressStyle(description_width='initi…"
      ]
     },
     "metadata": {},
     "output_type": "display_data"
    },
    {
     "name": "stdout",
     "output_type": "stream",
     "text": [
      "Epoch 319/1000 Iteration: 58400 Avg. Training loss: 5.1811 0.0592 sec/batch\n",
      "Epoch 319/1000 Iteration: 58500 Avg. Training loss: 5.2472 0.2561 sec/batch\n"
     ]
    },
    {
     "data": {
      "application/vnd.jupyter.widget-view+json": {
       "model_id": "",
       "version_major": 2,
       "version_minor": 0
      },
      "text/plain": [
       "HBox(children=(IntProgress(value=0, description='Batch', max=183, style=ProgressStyle(description_width='initi…"
      ]
     },
     "metadata": {},
     "output_type": "display_data"
    },
    {
     "name": "stdout",
     "output_type": "stream",
     "text": [
      "Epoch 320/1000 Iteration: 58600 Avg. Training loss: 5.1382 0.1015 sec/batch\n",
      "Epoch 320/1000 Iteration: 58700 Avg. Training loss: 5.0798 0.2546 sec/batch\n"
     ]
    },
    {
     "data": {
      "application/vnd.jupyter.widget-view+json": {
       "model_id": "",
       "version_major": 2,
       "version_minor": 0
      },
      "text/plain": [
       "HBox(children=(IntProgress(value=0, description='Batch', max=183, style=ProgressStyle(description_width='initi…"
      ]
     },
     "metadata": {},
     "output_type": "display_data"
    },
    {
     "name": "stdout",
     "output_type": "stream",
     "text": [
      "Epoch 321/1000 Iteration: 58800 Avg. Training loss: 5.2757 0.1457 sec/batch\n",
      "Epoch 321/1000 Iteration: 58900 Avg. Training loss: 5.2811 0.2538 sec/batch\n"
     ]
    },
    {
     "data": {
      "application/vnd.jupyter.widget-view+json": {
       "model_id": "",
       "version_major": 2,
       "version_minor": 0
      },
      "text/plain": [
       "HBox(children=(IntProgress(value=0, description='Batch', max=183, style=ProgressStyle(description_width='initi…"
      ]
     },
     "metadata": {},
     "output_type": "display_data"
    },
    {
     "name": "stdout",
     "output_type": "stream",
     "text": [
      "Epoch 322/1000 Iteration: 59000 Avg. Training loss: 5.0803 0.1896 sec/batch\n",
      "Nearest to e: com, ., também, de, ,, como, além, em,\n",
      "Nearest to há: ainda, mas, ., já, de, pois, mesmo, ,,\n",
      "Nearest to mas: ainda, que, porém, pois, porque, já, só, não,\n",
      "Nearest to como: também, e, ., que, ,, inclusive, exemplo, outros,\n",
      "Nearest to sem: ., para, apenas, com, de, dificuldade, menos, tem,\n",
      "Nearest to 00: em, 0, até, (, seis, de, ), nesta,\n",
      "Nearest to são: paulo, e, de, ., do, têm, também, em,\n",
      "Nearest to %: 0,00, 00,0, subiu, ante, recuo, alta, recuou, subiram,\n",
      "Nearest to instituição: financeira, administração, instituições, banco, pública, alunos, permanente, situação,\n",
      "Nearest to deverá: poderá, deve, deverão, terá, vai, irá, será, pode,\n",
      "Nearest to conseguir: tentar, obter, ajudar, para, precisa, consiga, vai, ganhar,\n",
      "Nearest to luz: escuridão, solar, também, energia, iluminação, e, ., linhas,\n",
      "Nearest to atividade: desde, econômica, mesmo, principalmente, melhora, parte, evolução, ainda,\n",
      "Nearest to democracia: democrático, golpe, democráticas, plena, lamentavelmente, respeito, democrática, pleno,\n",
      "Nearest to vice-presidente: presidente, vice, presidência, vice-presidência, interino, temer, michel, cúpula,\n",
      "Nearest to famílias: pessoas, moradias, moram, moradores, pobres, família, crianças, jovens,\n",
      "Epoch 322/1000 Iteration: 59100 Avg. Training loss: 5.1702 0.2629 sec/batch\n"
     ]
    },
    {
     "data": {
      "application/vnd.jupyter.widget-view+json": {
       "model_id": "",
       "version_major": 2,
       "version_minor": 0
      },
      "text/plain": [
       "HBox(children=(IntProgress(value=0, description='Batch', max=183, style=ProgressStyle(description_width='initi…"
      ]
     },
     "metadata": {},
     "output_type": "display_data"
    },
    {
     "name": "stdout",
     "output_type": "stream",
     "text": [
      "Epoch 323/1000 Iteration: 59200 Avg. Training loss: 5.1334 0.2322 sec/batch\n"
     ]
    },
    {
     "data": {
      "application/vnd.jupyter.widget-view+json": {
       "model_id": "",
       "version_major": 2,
       "version_minor": 0
      },
      "text/plain": [
       "HBox(children=(IntProgress(value=0, description='Batch', max=183, style=ProgressStyle(description_width='initi…"
      ]
     },
     "metadata": {},
     "output_type": "display_data"
    },
    {
     "name": "stdout",
     "output_type": "stream",
     "text": [
      "Epoch 324/1000 Iteration: 59300 Avg. Training loss: 5.2085 0.0209 sec/batch\n",
      "Epoch 324/1000 Iteration: 59400 Avg. Training loss: 5.1261 0.2551 sec/batch\n"
     ]
    },
    {
     "data": {
      "application/vnd.jupyter.widget-view+json": {
       "model_id": "",
       "version_major": 2,
       "version_minor": 0
      },
      "text/plain": [
       "HBox(children=(IntProgress(value=0, description='Batch', max=183, style=ProgressStyle(description_width='initi…"
      ]
     },
     "metadata": {},
     "output_type": "display_data"
    },
    {
     "name": "stdout",
     "output_type": "stream",
     "text": [
      "Epoch 325/1000 Iteration: 59500 Avg. Training loss: 5.2110 0.0642 sec/batch\n",
      "Epoch 325/1000 Iteration: 59600 Avg. Training loss: 5.0973 0.2559 sec/batch\n"
     ]
    },
    {
     "data": {
      "application/vnd.jupyter.widget-view+json": {
       "model_id": "",
       "version_major": 2,
       "version_minor": 0
      },
      "text/plain": [
       "HBox(children=(IntProgress(value=0, description='Batch', max=183, style=ProgressStyle(description_width='initi…"
      ]
     },
     "metadata": {},
     "output_type": "display_data"
    },
    {
     "name": "stdout",
     "output_type": "stream",
     "text": [
      "Epoch 326/1000 Iteration: 59700 Avg. Training loss: 5.1371 0.1070 sec/batch\n",
      "Epoch 326/1000 Iteration: 59800 Avg. Training loss: 5.1974 0.2546 sec/batch\n"
     ]
    },
    {
     "data": {
      "application/vnd.jupyter.widget-view+json": {
       "model_id": "",
       "version_major": 2,
       "version_minor": 0
      },
      "text/plain": [
       "HBox(children=(IntProgress(value=0, description='Batch', max=183, style=ProgressStyle(description_width='initi…"
      ]
     },
     "metadata": {},
     "output_type": "display_data"
    },
    {
     "name": "stdout",
     "output_type": "stream",
     "text": [
      "Epoch 327/1000 Iteration: 59900 Avg. Training loss: 5.2343 0.1513 sec/batch\n",
      "Epoch 327/1000 Iteration: 60000 Avg. Training loss: 5.3484 0.2558 sec/batch\n",
      "Nearest to de: também, em, ., e, a, ,, do, da,\n",
      "Nearest to brasil: mundo, país, no, ., a, e, também, à,\n",
      "Nearest to país: maior, que, especialmente, principalmente, mas, também, parte, .,\n",
      "Nearest to seu: próprio, o, do, um, ao, cujo, ele, pelo,\n",
      "Nearest to ): (, quinta-feira, nesta, terça-feira, 00, quarta-feira, terça, quinta,\n",
      "Nearest to foram: serem, serão, seriam, fossem, estavam, eram, forem, haviam,\n",
      "Nearest to afirmou: disse, ressaltou, reiterou, ainda, reconheceu, acrescentou, reafirmou, que,\n",
      "Nearest to se: que, pois, quem, só, ele, mais, ainda, mas,\n",
      "Nearest to negócio: negócios, empresa, esse, mas, investir, interesse, nesse, desse,\n",
      "Nearest to provas: prova, obtidas, evidências, depoimentos, alegações, acusações, suficientes, etapas,\n",
      "Nearest to profissionais: qualificação, médicos, qualificados, profissional, melhores, desafio, professores, trabalham,\n",
      "Nearest to usuários: usuário, app, ferramenta, facebook, aplicativo, viciados, internet, internautas,\n",
      "Nearest to democracia: democrático, golpe, plena, manifestação, respeito, constitui, compromisso, lamentavelmente,\n",
      "Nearest to vídeos: conteúdo, comentários, fotos, acontecimentos, relevantes, leitores, enviando, sejam,\n",
      "Nearest to sede: em, na, da, qual, sexta-feira, segunda-feira, realizada, quarta-feira,\n",
      "Nearest to la: el, obstante, los, nación, más, río, entregó, también,\n"
     ]
    },
    {
     "data": {
      "application/vnd.jupyter.widget-view+json": {
       "model_id": "",
       "version_major": 2,
       "version_minor": 0
      },
      "text/plain": [
       "HBox(children=(IntProgress(value=0, description='Batch', max=183, style=ProgressStyle(description_width='initi…"
      ]
     },
     "metadata": {},
     "output_type": "display_data"
    },
    {
     "name": "stdout",
     "output_type": "stream",
     "text": [
      "Epoch 328/1000 Iteration: 60100 Avg. Training loss: 5.0069 0.1957 sec/batch\n",
      "Epoch 328/1000 Iteration: 60200 Avg. Training loss: 5.1959 0.2558 sec/batch\n"
     ]
    },
    {
     "data": {
      "application/vnd.jupyter.widget-view+json": {
       "model_id": "",
       "version_major": 2,
       "version_minor": 0
      },
      "text/plain": [
       "HBox(children=(IntProgress(value=0, description='Batch', max=183, style=ProgressStyle(description_width='initi…"
      ]
     },
     "metadata": {},
     "output_type": "display_data"
    },
    {
     "name": "stdout",
     "output_type": "stream",
     "text": [
      "Epoch 329/1000 Iteration: 60300 Avg. Training loss: 5.2671 0.2417 sec/batch\n"
     ]
    },
    {
     "data": {
      "application/vnd.jupyter.widget-view+json": {
       "model_id": "",
       "version_major": 2,
       "version_minor": 0
      },
      "text/plain": [
       "HBox(children=(IntProgress(value=0, description='Batch', max=183, style=ProgressStyle(description_width='initi…"
      ]
     },
     "metadata": {},
     "output_type": "display_data"
    },
    {
     "name": "stdout",
     "output_type": "stream",
     "text": [
      "Epoch 330/1000 Iteration: 60400 Avg. Training loss: 5.2661 0.0269 sec/batch\n",
      "Epoch 330/1000 Iteration: 60500 Avg. Training loss: 5.2039 0.2553 sec/batch\n"
     ]
    },
    {
     "data": {
      "application/vnd.jupyter.widget-view+json": {
       "model_id": "",
       "version_major": 2,
       "version_minor": 0
      },
      "text/plain": [
       "HBox(children=(IntProgress(value=0, description='Batch', max=183, style=ProgressStyle(description_width='initi…"
      ]
     },
     "metadata": {},
     "output_type": "display_data"
    },
    {
     "name": "stdout",
     "output_type": "stream",
     "text": [
      "Epoch 331/1000 Iteration: 60600 Avg. Training loss: 5.0797 0.0691 sec/batch\n",
      "Epoch 331/1000 Iteration: 60700 Avg. Training loss: 5.2317 0.2567 sec/batch\n"
     ]
    },
    {
     "data": {
      "application/vnd.jupyter.widget-view+json": {
       "model_id": "",
       "version_major": 2,
       "version_minor": 0
      },
      "text/plain": [
       "HBox(children=(IntProgress(value=0, description='Batch', max=183, style=ProgressStyle(description_width='initi…"
      ]
     },
     "metadata": {},
     "output_type": "display_data"
    },
    {
     "name": "stdout",
     "output_type": "stream",
     "text": [
      "Epoch 332/1000 Iteration: 60800 Avg. Training loss: 5.0466 0.1128 sec/batch\n",
      "Epoch 332/1000 Iteration: 60900 Avg. Training loss: 5.0928 0.2559 sec/batch\n"
     ]
    },
    {
     "data": {
      "application/vnd.jupyter.widget-view+json": {
       "model_id": "",
       "version_major": 2,
       "version_minor": 0
      },
      "text/plain": [
       "HBox(children=(IntProgress(value=0, description='Batch', max=183, style=ProgressStyle(description_width='initi…"
      ]
     },
     "metadata": {},
     "output_type": "display_data"
    },
    {
     "name": "stdout",
     "output_type": "stream",
     "text": [
      "Epoch 333/1000 Iteration: 61000 Avg. Training loss: 5.2529 0.1572 sec/batch\n",
      "Nearest to ela: ele, que, dela, mas, não, só, pois, uma,\n",
      "Nearest to país: maior, que, mas, principalmente, especialmente, brasil, apenas, mais,\n",
      "Nearest to por: já, e, que, também, de, ., inclusive, como,\n",
      "Nearest to sua: própria, para, notícia, mensagem, a, ou, isso, com,\n",
      "Nearest to afirmou: disse, ressaltou, reiterou, ainda, reafirmou, reconheceu, declarou, afirmando,\n",
      "Nearest to dos: os, de, também, têm, outros, além, do, da,\n",
      "Nearest to os: dos, esses, outros, estes, alguns, mesmos, dois, pelos,\n",
      "Nearest to ou: podem, isso, sejam, para, os, participação, sua, .,\n",
      "Nearest to popular: populares, tornou-se, único, como, há, apenas, diretas, de,\n",
      "Nearest to chefe: gabinete, ex-chefe, afirmou, departamento, indicou, segurança, comando, chefia,\n",
      "Nearest to profissionais: qualificação, médicos, qualificados, professores, profissional, funcionários, técnicos, melhores,\n",
      "Nearest to quarto: terceiro, quinto, sexto, colocado, primeiro, décimo, último, oitavo,\n",
      "Nearest to leva: levam, levar, dá, levará, um, único, no, passa,\n",
      "Nearest to desempenho: resultado, fraco, apesar, maior, negativo, pior, melhora, o,\n",
      "Nearest to mar: mediterrâneo, praia, travessia, barco, oceano, migrantes, barcos, peixes,\n",
      "Nearest to garantir: assegurar, manter, necessária, garantindo, garante, reforçar, dar, preservar,\n",
      "Epoch 333/1000 Iteration: 61100 Avg. Training loss: 5.2657 0.2633 sec/batch\n"
     ]
    },
    {
     "data": {
      "application/vnd.jupyter.widget-view+json": {
       "model_id": "",
       "version_major": 2,
       "version_minor": 0
      },
      "text/plain": [
       "HBox(children=(IntProgress(value=0, description='Batch', max=183, style=ProgressStyle(description_width='initi…"
      ]
     },
     "metadata": {},
     "output_type": "display_data"
    },
    {
     "name": "stdout",
     "output_type": "stream",
     "text": [
      "Epoch 334/1000 Iteration: 61200 Avg. Training loss: 5.2428 0.2008 sec/batch\n",
      "Epoch 334/1000 Iteration: 61300 Avg. Training loss: 5.1273 0.2552 sec/batch\n"
     ]
    },
    {
     "data": {
      "application/vnd.jupyter.widget-view+json": {
       "model_id": "",
       "version_major": 2,
       "version_minor": 0
      },
      "text/plain": [
       "HBox(children=(IntProgress(value=0, description='Batch', max=183, style=ProgressStyle(description_width='initi…"
      ]
     },
     "metadata": {},
     "output_type": "display_data"
    },
    {
     "name": "stdout",
     "output_type": "stream",
     "text": [
      "Epoch 335/1000 Iteration: 61400 Avg. Training loss: 5.2444 0.2470 sec/batch\n"
     ]
    },
    {
     "data": {
      "application/vnd.jupyter.widget-view+json": {
       "model_id": "",
       "version_major": 2,
       "version_minor": 0
      },
      "text/plain": [
       "HBox(children=(IntProgress(value=0, description='Batch', max=183, style=ProgressStyle(description_width='initi…"
      ]
     },
     "metadata": {},
     "output_type": "display_data"
    },
    {
     "name": "stdout",
     "output_type": "stream",
     "text": [
      "Epoch 336/1000 Iteration: 61500 Avg. Training loss: 5.2455 0.0309 sec/batch\n",
      "Epoch 336/1000 Iteration: 61600 Avg. Training loss: 5.3299 0.2588 sec/batch\n"
     ]
    },
    {
     "data": {
      "application/vnd.jupyter.widget-view+json": {
       "model_id": "",
       "version_major": 2,
       "version_minor": 0
      },
      "text/plain": [
       "HBox(children=(IntProgress(value=0, description='Batch', max=183, style=ProgressStyle(description_width='initi…"
      ]
     },
     "metadata": {},
     "output_type": "display_data"
    },
    {
     "name": "stdout",
     "output_type": "stream",
     "text": [
      "Epoch 337/1000 Iteration: 61700 Avg. Training loss: 5.3419 0.0745 sec/batch\n",
      "Epoch 337/1000 Iteration: 61800 Avg. Training loss: 5.3054 0.2555 sec/batch\n"
     ]
    },
    {
     "data": {
      "application/vnd.jupyter.widget-view+json": {
       "model_id": "",
       "version_major": 2,
       "version_minor": 0
      },
      "text/plain": [
       "HBox(children=(IntProgress(value=0, description='Batch', max=183, style=ProgressStyle(description_width='initi…"
      ]
     },
     "metadata": {},
     "output_type": "display_data"
    },
    {
     "name": "stdout",
     "output_type": "stream",
     "text": [
      "Epoch 338/1000 Iteration: 61900 Avg. Training loss: 5.0144 0.1205 sec/batch\n",
      "Epoch 338/1000 Iteration: 62000 Avg. Training loss: 5.1138 0.2565 sec/batch\n",
      "Nearest to desde: início, março, passado, 0000, setembro, julho, meados, em,\n",
      "Nearest to pessoas: menos, elas, delas, famílias, que, milhares, população, desse,\n",
      "Nearest to muito: bastante, mas, porque, tão, bem, pois, mais, ainda,\n",
      "Nearest to :: ;, como, ?, ., ,, só, exemplo, sempre,\n",
      "Nearest to se: quem, pois, que, fato, ele, mais, porém, ainda,\n",
      "Nearest to ele: que, mas, ainda, qual, não, já, quando, porque,\n",
      "Nearest to nesta: terça-feira, quinta-feira, segunda-feira, quarta-feira, terça, sexta-feira, quinta, quarta,\n",
      "Nearest to foram: serem, serão, seriam, estavam, fossem, eram, forem, quais,\n",
      "Nearest to participar: realizar, fazer, integrar, acontece, durante, começar, reunir, comparecer,\n",
      "Nearest to chefe: gabinete, ex-chefe, departamento, indicou, afirmou, segurança, chefia, nomeado,\n",
      "Nearest to global: aquecimento, entanto, recente, avalia, brasil, maior, climática, economia,\n",
      "Nearest to globo: tv, emissora, record, televisão, canal, novelas, novela, sbt,\n",
      "Nearest to vice-presidente: presidente, vice, presidência, michel, assumir, temer, vice-presidência, assume,\n",
      "Nearest to médico: hospital, paciente, clínicas, clínico, médicos, iml, cardiologista, médica,\n",
      "Nearest to famílias: pessoas, pobres, moram, jovens, família, moradores, vivem, crianças,\n",
      "Nearest to queria: iria, precisava, poderia, pudesse, pensava, podia, conseguiria, gostaria,\n"
     ]
    },
    {
     "data": {
      "application/vnd.jupyter.widget-view+json": {
       "model_id": "",
       "version_major": 2,
       "version_minor": 0
      },
      "text/plain": [
       "HBox(children=(IntProgress(value=0, description='Batch', max=183, style=ProgressStyle(description_width='initi…"
      ]
     },
     "metadata": {},
     "output_type": "display_data"
    },
    {
     "name": "stdout",
     "output_type": "stream",
     "text": [
      "Epoch 339/1000 Iteration: 62100 Avg. Training loss: 5.3213 0.1625 sec/batch\n",
      "Epoch 339/1000 Iteration: 62200 Avg. Training loss: 5.2029 0.2537 sec/batch\n"
     ]
    },
    {
     "data": {
      "application/vnd.jupyter.widget-view+json": {
       "model_id": "",
       "version_major": 2,
       "version_minor": 0
      },
      "text/plain": [
       "HBox(children=(IntProgress(value=0, description='Batch', max=183, style=ProgressStyle(description_width='initi…"
      ]
     },
     "metadata": {},
     "output_type": "display_data"
    },
    {
     "name": "stdout",
     "output_type": "stream",
     "text": [
      "Epoch 340/1000 Iteration: 62300 Avg. Training loss: 5.0277 0.2047 sec/batch\n",
      "Epoch 340/1000 Iteration: 62400 Avg. Training loss: 5.1079 0.2551 sec/batch\n"
     ]
    },
    {
     "data": {
      "application/vnd.jupyter.widget-view+json": {
       "model_id": "",
       "version_major": 2,
       "version_minor": 0
      },
      "text/plain": [
       "HBox(children=(IntProgress(value=0, description='Batch', max=183, style=ProgressStyle(description_width='initi…"
      ]
     },
     "metadata": {},
     "output_type": "display_data"
    },
    {
     "name": "stdout",
     "output_type": "stream",
     "text": [
      "Epoch 341/1000 Iteration: 62500 Avg. Training loss: 5.2336 0.2470 sec/batch\n"
     ]
    },
    {
     "data": {
      "application/vnd.jupyter.widget-view+json": {
       "model_id": "",
       "version_major": 2,
       "version_minor": 0
      },
      "text/plain": [
       "HBox(children=(IntProgress(value=0, description='Batch', max=183, style=ProgressStyle(description_width='initi…"
      ]
     },
     "metadata": {},
     "output_type": "display_data"
    },
    {
     "name": "stdout",
     "output_type": "stream",
     "text": [
      "Epoch 342/1000 Iteration: 62600 Avg. Training loss: 5.2784 0.0358 sec/batch\n",
      "Epoch 342/1000 Iteration: 62700 Avg. Training loss: 5.2891 0.2554 sec/batch\n"
     ]
    },
    {
     "data": {
      "application/vnd.jupyter.widget-view+json": {
       "model_id": "",
       "version_major": 2,
       "version_minor": 0
      },
      "text/plain": [
       "HBox(children=(IntProgress(value=0, description='Batch', max=183, style=ProgressStyle(description_width='initi…"
      ]
     },
     "metadata": {},
     "output_type": "display_data"
    },
    {
     "name": "stdout",
     "output_type": "stream",
     "text": [
      "Epoch 343/1000 Iteration: 62800 Avg. Training loss: 4.9086 0.0790 sec/batch\n",
      "Epoch 343/1000 Iteration: 62900 Avg. Training loss: 5.1624 0.2553 sec/batch\n"
     ]
    },
    {
     "data": {
      "application/vnd.jupyter.widget-view+json": {
       "model_id": "",
       "version_major": 2,
       "version_minor": 0
      },
      "text/plain": [
       "HBox(children=(IntProgress(value=0, description='Batch', max=183, style=ProgressStyle(description_width='initi…"
      ]
     },
     "metadata": {},
     "output_type": "display_data"
    },
    {
     "name": "stdout",
     "output_type": "stream",
     "text": [
      "Epoch 344/1000 Iteration: 63000 Avg. Training loss: 5.0427 0.1229 sec/batch\n",
      "Nearest to .: ,, a, e, no, em, de, ainda, do,\n",
      "Nearest to por: que, também, e, de, já, em, como, .,\n",
      "Nearest to está: continua, estava, estaria, esteja, vem, estar, vinha, continuará,\n",
      "Nearest to pelo: o, pela, do, também, por, ao, foi, ainda,\n",
      "Nearest to tem: é, de, só, têm, mesmo, também, tendo, parte,\n",
      "Nearest to :: ., como, ,, só, ?, no, ;, exemplo,\n",
      "Nearest to ser: foi, será, pelo, ter, sido, pois, mas, que,\n",
      "Nearest to ela: ele, que, dela, uma, mas, pois, sozinha, não,\n",
      "Nearest to participar: realizar, durante, envolver, reunir, fazer, atuar, receber, acontece,\n",
      "Nearest to conseguir: obter, ajudar, tentar, precisa, conseguiu, para, ganhar, consiga,\n",
      "Nearest to vídeos: conteúdo, comentários, fotos, acontecimentos, leitores, relevantes, enviando, notícias,\n",
      "Nearest to internacionais: nacionais, comerciais, dos, eua, além, país, incluindo, governos,\n",
      "Nearest to operações: meio, financeiras, comando, parte, operação, informou, polícia, de,\n",
      "Nearest to veio: logo, trouxe, levou, depois, fez, virá, em, de,\n",
      "Nearest to unidades: unidade, semestre, habitacionais, creches, cerca, período, total, mil,\n",
      "Nearest to palácio: planalto, alvorada, jaburu, temer, peemedebista, encontro, interino, esplanada,\n",
      "Epoch 344/1000 Iteration: 63100 Avg. Training loss: 5.2720 0.2625 sec/batch\n"
     ]
    },
    {
     "data": {
      "application/vnd.jupyter.widget-view+json": {
       "model_id": "",
       "version_major": 2,
       "version_minor": 0
      },
      "text/plain": [
       "HBox(children=(IntProgress(value=0, description='Batch', max=183, style=ProgressStyle(description_width='initi…"
      ]
     },
     "metadata": {},
     "output_type": "display_data"
    },
    {
     "name": "stdout",
     "output_type": "stream",
     "text": [
      "Epoch 345/1000 Iteration: 63200 Avg. Training loss: 5.2783 0.1663 sec/batch\n",
      "Epoch 345/1000 Iteration: 63300 Avg. Training loss: 5.0242 0.2560 sec/batch\n"
     ]
    },
    {
     "data": {
      "application/vnd.jupyter.widget-view+json": {
       "model_id": "",
       "version_major": 2,
       "version_minor": 0
      },
      "text/plain": [
       "HBox(children=(IntProgress(value=0, description='Batch', max=183, style=ProgressStyle(description_width='initi…"
      ]
     },
     "metadata": {},
     "output_type": "display_data"
    },
    {
     "name": "stdout",
     "output_type": "stream",
     "text": [
      "Epoch 346/1000 Iteration: 63400 Avg. Training loss: 5.2398 0.2107 sec/batch\n",
      "Epoch 346/1000 Iteration: 63500 Avg. Training loss: 5.1945 0.2562 sec/batch\n"
     ]
    },
    {
     "data": {
      "application/vnd.jupyter.widget-view+json": {
       "model_id": "",
       "version_major": 2,
       "version_minor": 0
      },
      "text/plain": [
       "HBox(children=(IntProgress(value=0, description='Batch', max=183, style=ProgressStyle(description_width='initi…"
      ]
     },
     "metadata": {},
     "output_type": "display_data"
    },
    {
     "name": "stdout",
     "output_type": "stream",
     "text": [
      "Epoch 347/1000 Iteration: 63600 Avg. Training loss: 5.0543 0.2520 sec/batch\n"
     ]
    },
    {
     "data": {
      "application/vnd.jupyter.widget-view+json": {
       "model_id": "",
       "version_major": 2,
       "version_minor": 0
      },
      "text/plain": [
       "HBox(children=(IntProgress(value=0, description='Batch', max=183, style=ProgressStyle(description_width='initi…"
      ]
     },
     "metadata": {},
     "output_type": "display_data"
    },
    {
     "name": "stdout",
     "output_type": "stream",
     "text": [
      "Epoch 348/1000 Iteration: 63700 Avg. Training loss: 5.1255 0.0409 sec/batch\n",
      "Epoch 348/1000 Iteration: 63800 Avg. Training loss: 5.2666 0.2551 sec/batch\n"
     ]
    },
    {
     "data": {
      "application/vnd.jupyter.widget-view+json": {
       "model_id": "",
       "version_major": 2,
       "version_minor": 0
      },
      "text/plain": [
       "HBox(children=(IntProgress(value=0, description='Batch', max=183, style=ProgressStyle(description_width='initi…"
      ]
     },
     "metadata": {},
     "output_type": "display_data"
    },
    {
     "name": "stdout",
     "output_type": "stream",
     "text": [
      "Epoch 349/1000 Iteration: 63900 Avg. Training loss: 5.0253 0.0845 sec/batch\n",
      "Epoch 349/1000 Iteration: 64000 Avg. Training loss: 5.2060 0.2553 sec/batch\n",
      "Nearest to eu: cheguei, meu, comigo, sei, vou, mim, acredito, tenho,\n",
      "Nearest to foi: após, pelo, havia, ser, ter, qual, pela, ele,\n",
      "Nearest to %: 00,0, 0,00, 0,0, subiu, ante, alta, recuo, queda,\n",
      "Nearest to aos: os, seus, dos, também, por, e, à, quais,\n",
      "Nearest to ao: o, do, um, também, ., de, que, a,\n",
      "Nearest to pessoas: menos, elas, delas, que, desse, só, famílias, milhares,\n",
      "Nearest to por: e, também, de, que, já, ., como, ,,\n",
      "Nearest to ser: foi, ter, pelo, será, pois, sido, mas, que,\n",
      "Nearest to ouro: medalha, prata, medalhas, londres-0000, bronze, medalhista, conquistou, premiação,\n",
      "Nearest to deverá: poderá, deve, deverão, irá, terá, vai, será, devem,\n",
      "Nearest to lima: faria, vieira, geddel, abreu, nada, também, argumentou, araújo,\n",
      "Nearest to militares: militar, soldados, policiais, tropas, armadas, forças, exército, civis,\n",
      "Nearest to médico: clínicas, hospital, paciente, clínico, médicos, iml, encaminhado, consultório,\n",
      "Nearest to global: aquecimento, países, recente, entanto, maior, a, brasil, país,\n",
      "Nearest to parlamentares: deputados, congressistas, governistas, senadores, aliados, peemedebista, bancada, votação,\n",
      "Nearest to avenida: rua, avenidas, marginal, ciclovia, pedestres, minhocão, vias, pinheiros,\n"
     ]
    },
    {
     "data": {
      "application/vnd.jupyter.widget-view+json": {
       "model_id": "",
       "version_major": 2,
       "version_minor": 0
      },
      "text/plain": [
       "HBox(children=(IntProgress(value=0, description='Batch', max=183, style=ProgressStyle(description_width='initi…"
      ]
     },
     "metadata": {},
     "output_type": "display_data"
    },
    {
     "name": "stdout",
     "output_type": "stream",
     "text": [
      "Epoch 350/1000 Iteration: 64100 Avg. Training loss: 5.1581 0.1271 sec/batch\n",
      "Epoch 350/1000 Iteration: 64200 Avg. Training loss: 5.1212 0.2556 sec/batch\n"
     ]
    },
    {
     "data": {
      "application/vnd.jupyter.widget-view+json": {
       "model_id": "",
       "version_major": 2,
       "version_minor": 0
      },
      "text/plain": [
       "HBox(children=(IntProgress(value=0, description='Batch', max=183, style=ProgressStyle(description_width='initi…"
      ]
     },
     "metadata": {},
     "output_type": "display_data"
    },
    {
     "name": "stdout",
     "output_type": "stream",
     "text": [
      "Epoch 351/1000 Iteration: 64300 Avg. Training loss: 5.2008 0.1720 sec/batch\n",
      "Epoch 351/1000 Iteration: 64400 Avg. Training loss: 5.1541 0.2560 sec/batch\n"
     ]
    },
    {
     "data": {
      "application/vnd.jupyter.widget-view+json": {
       "model_id": "",
       "version_major": 2,
       "version_minor": 0
      },
      "text/plain": [
       "HBox(children=(IntProgress(value=0, description='Batch', max=183, style=ProgressStyle(description_width='initi…"
      ]
     },
     "metadata": {},
     "output_type": "display_data"
    },
    {
     "name": "stdout",
     "output_type": "stream",
     "text": [
      "Epoch 352/1000 Iteration: 64500 Avg. Training loss: 5.1591 0.2141 sec/batch\n"
     ]
    },
    {
     "data": {
      "application/vnd.jupyter.widget-view+json": {
       "model_id": "",
       "version_major": 2,
       "version_minor": 0
      },
      "text/plain": [
       "HBox(children=(IntProgress(value=0, description='Batch', max=183, style=ProgressStyle(description_width='initi…"
      ]
     },
     "metadata": {},
     "output_type": "display_data"
    },
    {
     "name": "stdout",
     "output_type": "stream",
     "text": [
      "Epoch 353/1000 Iteration: 64600 Avg. Training loss: 5.3007 0.0028 sec/batch\n",
      "Epoch 353/1000 Iteration: 64700 Avg. Training loss: 5.3321 0.2541 sec/batch\n"
     ]
    },
    {
     "data": {
      "application/vnd.jupyter.widget-view+json": {
       "model_id": "",
       "version_major": 2,
       "version_minor": 0
      },
      "text/plain": [
       "HBox(children=(IntProgress(value=0, description='Batch', max=183, style=ProgressStyle(description_width='initi…"
      ]
     },
     "metadata": {},
     "output_type": "display_data"
    },
    {
     "name": "stdout",
     "output_type": "stream",
     "text": [
      "Epoch 354/1000 Iteration: 64800 Avg. Training loss: 4.9974 0.0461 sec/batch\n",
      "Epoch 354/1000 Iteration: 64900 Avg. Training loss: 5.0278 0.2547 sec/batch\n"
     ]
    },
    {
     "data": {
      "application/vnd.jupyter.widget-view+json": {
       "model_id": "",
       "version_major": 2,
       "version_minor": 0
      },
      "text/plain": [
       "HBox(children=(IntProgress(value=0, description='Batch', max=183, style=ProgressStyle(description_width='initi…"
      ]
     },
     "metadata": {},
     "output_type": "display_data"
    },
    {
     "name": "stdout",
     "output_type": "stream",
     "text": [
      "Epoch 355/1000 Iteration: 65000 Avg. Training loss: 5.1690 0.0894 sec/batch\n",
      "Nearest to presidente: presidentes, presidência, temer, ,, michel, então, ex-presidente, rousseff,\n",
      "Nearest to não: que, mas, só, ainda, porque, ele, nem, pois,\n",
      "Nearest to disse: afirmou, acrescentando, dizendo, falou, reiterou, diz, declarou, afirmando,\n",
      "Nearest to ano: passado, mês, deste, outubro, junho, abril, maio, julho,\n",
      "Nearest to vai: irá, poderá, vão, deve, precisa, quer, pretende, terá,\n",
      "Nearest to os: dos, outros, esses, alguns, pelos, estes, seus, e,\n",
      "Nearest to sua: própria, notícia, mensagem, para, ou, a, isso, dos,\n",
      "Nearest to 0: 00, quarta, sexta, domingo, neste, quinta, sábado, quinta-feira,\n",
      "Nearest to democracia: democrático, golpe, (), lamentavelmente, constitucionais, constitui, plena, liberdade,\n",
      "Nearest to mínimo: salário, máximo, valor, benefício, para, cada, terá, restante,\n",
      "Nearest to henrique: cardoso, meirelles, michel, tucanos, governo, temer, aécio, itamar,\n",
      "Nearest to explica: afirma, diz, observa, também, possível, é, ., que,\n",
      "Nearest to mar: mediterrâneo, oceano, travessia, praia, índico, barco, marítima, naufrágio,\n",
      "Nearest to continuar: continuará, vem, continua, vinha, está, continue, ficando, continuarem,\n",
      "Nearest to vê: ,, acha, faz, que, ., diz, o, pensa,\n",
      "Nearest to estudos: pesquisas, avançados, científicos, dados, estudo, mostraram, pesquisadores, mostram,\n",
      "Epoch 355/1000 Iteration: 65100 Avg. Training loss: 5.3206 0.2632 sec/batch\n"
     ]
    },
    {
     "data": {
      "application/vnd.jupyter.widget-view+json": {
       "model_id": "",
       "version_major": 2,
       "version_minor": 0
      },
      "text/plain": [
       "HBox(children=(IntProgress(value=0, description='Batch', max=183, style=ProgressStyle(description_width='initi…"
      ]
     },
     "metadata": {},
     "output_type": "display_data"
    },
    {
     "name": "stdout",
     "output_type": "stream",
     "text": [
      "Epoch 356/1000 Iteration: 65200 Avg. Training loss: 5.2888 0.1321 sec/batch\n",
      "Epoch 356/1000 Iteration: 65300 Avg. Training loss: 5.0387 0.2560 sec/batch\n"
     ]
    },
    {
     "data": {
      "application/vnd.jupyter.widget-view+json": {
       "model_id": "",
       "version_major": 2,
       "version_minor": 0
      },
      "text/plain": [
       "HBox(children=(IntProgress(value=0, description='Batch', max=183, style=ProgressStyle(description_width='initi…"
      ]
     },
     "metadata": {},
     "output_type": "display_data"
    },
    {
     "name": "stdout",
     "output_type": "stream",
     "text": [
      "Epoch 357/1000 Iteration: 65400 Avg. Training loss: 5.0194 0.1759 sec/batch\n",
      "Epoch 357/1000 Iteration: 65500 Avg. Training loss: 5.2048 0.2556 sec/batch\n"
     ]
    },
    {
     "data": {
      "application/vnd.jupyter.widget-view+json": {
       "model_id": "",
       "version_major": 2,
       "version_minor": 0
      },
      "text/plain": [
       "HBox(children=(IntProgress(value=0, description='Batch', max=183, style=ProgressStyle(description_width='initi…"
      ]
     },
     "metadata": {},
     "output_type": "display_data"
    },
    {
     "name": "stdout",
     "output_type": "stream",
     "text": [
      "Epoch 358/1000 Iteration: 65600 Avg. Training loss: 5.1444 0.2197 sec/batch\n"
     ]
    },
    {
     "data": {
      "application/vnd.jupyter.widget-view+json": {
       "model_id": "",
       "version_major": 2,
       "version_minor": 0
      },
      "text/plain": [
       "HBox(children=(IntProgress(value=0, description='Batch', max=183, style=ProgressStyle(description_width='initi…"
      ]
     },
     "metadata": {},
     "output_type": "display_data"
    },
    {
     "name": "stdout",
     "output_type": "stream",
     "text": [
      "Epoch 359/1000 Iteration: 65700 Avg. Training loss: 5.2142 0.0080 sec/batch\n",
      "Epoch 359/1000 Iteration: 65800 Avg. Training loss: 5.1123 0.2550 sec/batch\n"
     ]
    },
    {
     "data": {
      "application/vnd.jupyter.widget-view+json": {
       "model_id": "",
       "version_major": 2,
       "version_minor": 0
      },
      "text/plain": [
       "HBox(children=(IntProgress(value=0, description='Batch', max=183, style=ProgressStyle(description_width='initi…"
      ]
     },
     "metadata": {},
     "output_type": "display_data"
    },
    {
     "name": "stdout",
     "output_type": "stream",
     "text": [
      "Epoch 360/1000 Iteration: 65900 Avg. Training loss: 5.1079 0.0508 sec/batch\n",
      "Epoch 360/1000 Iteration: 66000 Avg. Training loss: 5.2692 0.2553 sec/batch\n",
      "Nearest to governo: que, do, país, o, congresso, ainda, de, reforçar,\n",
      "Nearest to (: ), 00, nesta, quinta-feira, terça-feira, quinta, quarta, terça,\n",
      "Nearest to pessoas: elas, menos, milhares, famílias, desse, delas, que, ao,\n",
      "Nearest to mais: ., mas, que, ainda, já, menos, ,, apenas,\n",
      "Nearest to r$: us$, valor, 00,00, 0,00, bilhões, 000, bilhão, 00,\n",
      "Nearest to é: tem, mas, ainda, que, ., considera, faz, importante,\n",
      "Nearest to .: ,, que, ainda, no, e, a, já, de,\n",
      "Nearest to -: hoje, 0, de, 00, ., 0º, ), são,\n",
      "Nearest to previsão: expectativa, esperada, prevista, prevê, previsto, deve, ficará, voltará,\n",
      "Nearest to desempenho: resultado, fraco, maior, apesar, pior, negativo, o, apenas,\n",
      "Nearest to provas: prova, obtidas, evidências, alegações, depoimentos, finais, suficientes, colhidas,\n",
      "Nearest to financiamento: financiar, privado, caixa, financiamentos, viabilizar, bancar, doação, bndes,\n",
      "Nearest to depoimento: prestado, pf, prestou, prestar, depor, depoimentos, testemunha, esclarecer,\n",
      "Nearest to santa: catarina, cruz, fe, cecília, luzia, marcelina, goiás, teresinha,\n",
      "Nearest to bairro: bairros, cidade, oeste, morador, residencial, lapa, jardim, vizinhança,\n",
      "Nearest to operações: comando, empresa, informou, mercado, ativos, afirma, financeiras, ações,\n"
     ]
    },
    {
     "data": {
      "application/vnd.jupyter.widget-view+json": {
       "model_id": "",
       "version_major": 2,
       "version_minor": 0
      },
      "text/plain": [
       "HBox(children=(IntProgress(value=0, description='Batch', max=183, style=ProgressStyle(description_width='initi…"
      ]
     },
     "metadata": {},
     "output_type": "display_data"
    },
    {
     "name": "stdout",
     "output_type": "stream",
     "text": [
      "Epoch 361/1000 Iteration: 66100 Avg. Training loss: 5.2971 0.0947 sec/batch\n",
      "Epoch 361/1000 Iteration: 66200 Avg. Training loss: 5.1333 0.2559 sec/batch\n"
     ]
    },
    {
     "data": {
      "application/vnd.jupyter.widget-view+json": {
       "model_id": "",
       "version_major": 2,
       "version_minor": 0
      },
      "text/plain": [
       "HBox(children=(IntProgress(value=0, description='Batch', max=183, style=ProgressStyle(description_width='initi…"
      ]
     },
     "metadata": {},
     "output_type": "display_data"
    },
    {
     "name": "stdout",
     "output_type": "stream",
     "text": [
      "Epoch 362/1000 Iteration: 66300 Avg. Training loss: 5.2031 0.1386 sec/batch\n",
      "Epoch 362/1000 Iteration: 66400 Avg. Training loss: 5.2023 0.2551 sec/batch\n"
     ]
    },
    {
     "data": {
      "application/vnd.jupyter.widget-view+json": {
       "model_id": "",
       "version_major": 2,
       "version_minor": 0
      },
      "text/plain": [
       "HBox(children=(IntProgress(value=0, description='Batch', max=183, style=ProgressStyle(description_width='initi…"
      ]
     },
     "metadata": {},
     "output_type": "display_data"
    },
    {
     "name": "stdout",
     "output_type": "stream",
     "text": [
      "Epoch 363/1000 Iteration: 66500 Avg. Training loss: 5.2179 0.1812 sec/batch\n",
      "Epoch 363/1000 Iteration: 66600 Avg. Training loss: 5.1993 0.2550 sec/batch\n"
     ]
    },
    {
     "data": {
      "application/vnd.jupyter.widget-view+json": {
       "model_id": "",
       "version_major": 2,
       "version_minor": 0
      },
      "text/plain": [
       "HBox(children=(IntProgress(value=0, description='Batch', max=183, style=ProgressStyle(description_width='initi…"
      ]
     },
     "metadata": {},
     "output_type": "display_data"
    },
    {
     "name": "stdout",
     "output_type": "stream",
     "text": [
      "Epoch 364/1000 Iteration: 66700 Avg. Training loss: 5.2139 0.2255 sec/batch\n"
     ]
    },
    {
     "data": {
      "application/vnd.jupyter.widget-view+json": {
       "model_id": "",
       "version_major": 2,
       "version_minor": 0
      },
      "text/plain": [
       "HBox(children=(IntProgress(value=0, description='Batch', max=183, style=ProgressStyle(description_width='initi…"
      ]
     },
     "metadata": {},
     "output_type": "display_data"
    },
    {
     "name": "stdout",
     "output_type": "stream",
     "text": [
      "Epoch 365/1000 Iteration: 66800 Avg. Training loss: 5.1169 0.0129 sec/batch\n",
      "Epoch 365/1000 Iteration: 66900 Avg. Training loss: 5.1674 0.2552 sec/batch\n"
     ]
    },
    {
     "data": {
      "application/vnd.jupyter.widget-view+json": {
       "model_id": "",
       "version_major": 2,
       "version_minor": 0
      },
      "text/plain": [
       "HBox(children=(IntProgress(value=0, description='Batch', max=183, style=ProgressStyle(description_width='initi…"
      ]
     },
     "metadata": {},
     "output_type": "display_data"
    },
    {
     "name": "stdout",
     "output_type": "stream",
     "text": [
      "Epoch 366/1000 Iteration: 67000 Avg. Training loss: 5.1026 0.0563 sec/batch\n",
      "Nearest to de: em, ., ,, e, a, também, do, com,\n",
      "Nearest to é: tem, mas, importante, ., para, claro, que, ainda,\n",
      "Nearest to mais: ., menos, que, mas, já, ainda, apenas, ,,\n",
      "Nearest to isso: não, porque, notícia, ou, mensagem, assim, para, aquilo,\n",
      "Nearest to milhões: milhão, mil, bilhão, cerca, 000,0, aproximadamente, 0,0, 00,0,\n",
      "Nearest to ainda: que, entanto, porém, já, mas, mesmo, ., o,\n",
      "Nearest to às: 00h, hoje, das, amanhã, 00/0, 00h00, as, dia,\n",
      "Nearest to por: e, já, também, ., de, que, ,, como,\n",
      "Nearest to operações: mercado, batalhão, financeiras, ações, empresa, comando, informações, afirma,\n",
      "Nearest to conseguir: consiga, obter, tentar, precisa, ajudar, para, ganhar, vai,\n",
      "Nearest to profissionais: qualificação, qualificados, médicos, profissional, por, professores, melhores, trabalho,\n",
      "Nearest to previsão: expectativa, esperada, prevista, deve, previsto, prevê, próximos, ainda,\n",
      "Nearest to instituição: financeira, banco, administração, instituições, pública, conselho, gestores, a,\n",
      "Nearest to francisco: papa, san, perché, pardo, pontífice, semicego, paiva, mineiro,\n",
      "Nearest to diferença: cada, menos, apenas, menor, mesmo, somente, porcentagem, maior,\n",
      "Nearest to simples: é, somente, seja, exemplo, só, precisa, ., a,\n",
      "Epoch 366/1000 Iteration: 67100 Avg. Training loss: 5.2607 0.2627 sec/batch\n"
     ]
    },
    {
     "data": {
      "application/vnd.jupyter.widget-view+json": {
       "model_id": "",
       "version_major": 2,
       "version_minor": 0
      },
      "text/plain": [
       "HBox(children=(IntProgress(value=0, description='Batch', max=183, style=ProgressStyle(description_width='initi…"
      ]
     },
     "metadata": {},
     "output_type": "display_data"
    },
    {
     "name": "stdout",
     "output_type": "stream",
     "text": [
      "Epoch 367/1000 Iteration: 67200 Avg. Training loss: 5.3182 0.0995 sec/batch\n",
      "Epoch 367/1000 Iteration: 67300 Avg. Training loss: 4.9838 0.2538 sec/batch\n"
     ]
    },
    {
     "data": {
      "application/vnd.jupyter.widget-view+json": {
       "model_id": "",
       "version_major": 2,
       "version_minor": 0
      },
      "text/plain": [
       "HBox(children=(IntProgress(value=0, description='Batch', max=183, style=ProgressStyle(description_width='initi…"
      ]
     },
     "metadata": {},
     "output_type": "display_data"
    },
    {
     "name": "stdout",
     "output_type": "stream",
     "text": [
      "Epoch 368/1000 Iteration: 67400 Avg. Training loss: 4.9641 0.1432 sec/batch\n",
      "Epoch 368/1000 Iteration: 67500 Avg. Training loss: 5.2030 0.2558 sec/batch\n"
     ]
    },
    {
     "data": {
      "application/vnd.jupyter.widget-view+json": {
       "model_id": "",
       "version_major": 2,
       "version_minor": 0
      },
      "text/plain": [
       "HBox(children=(IntProgress(value=0, description='Batch', max=183, style=ProgressStyle(description_width='initi…"
      ]
     },
     "metadata": {},
     "output_type": "display_data"
    },
    {
     "name": "stdout",
     "output_type": "stream",
     "text": [
      "Epoch 369/1000 Iteration: 67600 Avg. Training loss: 5.3384 0.1864 sec/batch\n",
      "Epoch 369/1000 Iteration: 67700 Avg. Training loss: 5.3954 0.2559 sec/batch\n"
     ]
    },
    {
     "data": {
      "application/vnd.jupyter.widget-view+json": {
       "model_id": "",
       "version_major": 2,
       "version_minor": 0
      },
      "text/plain": [
       "HBox(children=(IntProgress(value=0, description='Batch', max=183, style=ProgressStyle(description_width='initi…"
      ]
     },
     "metadata": {},
     "output_type": "display_data"
    },
    {
     "name": "stdout",
     "output_type": "stream",
     "text": [
      "Epoch 370/1000 Iteration: 67800 Avg. Training loss: 5.1847 0.2300 sec/batch\n"
     ]
    },
    {
     "data": {
      "application/vnd.jupyter.widget-view+json": {
       "model_id": "",
       "version_major": 2,
       "version_minor": 0
      },
      "text/plain": [
       "HBox(children=(IntProgress(value=0, description='Batch', max=183, style=ProgressStyle(description_width='initi…"
      ]
     },
     "metadata": {},
     "output_type": "display_data"
    },
    {
     "name": "stdout",
     "output_type": "stream",
     "text": [
      "Epoch 371/1000 Iteration: 67900 Avg. Training loss: 5.1746 0.0183 sec/batch\n",
      "Epoch 371/1000 Iteration: 68000 Avg. Training loss: 5.2138 0.2551 sec/batch\n",
      "Nearest to não: que, mas, só, porque, ainda, pois, nenhum, fato,\n",
      "Nearest to se: que, quem, pois, também, ele, mais, ainda, mas,\n",
      "Nearest to dia: até, mês, outubro, semana, início, março, fim, antes,\n",
      "Nearest to seus: os, próprios, outros, dos, alguns, aos, esses, dela,\n",
      "Nearest to que: ainda, ., já, não, também, mas, ,, ele,\n",
      "Nearest to ou: podem, isso, para, brasil, participação, ., preferir, seja,\n",
      "Nearest to governo: que, país, ainda, para, pretende, agora, congresso, apoio,\n",
      "Nearest to desde: início, março, passado, maio, 0000, julho, setembro, em,\n",
      "Nearest to famílias: pessoas, jovens, pobres, moram, moradias, crianças, moradores, comunidades,\n",
      "Nearest to sede: em, oficialmente, segunda-feira, na, quarta-feira, sexta-feira, próxima, esta,\n",
      "Nearest to instituição: financeira, administração, instituições, banco, pública, gestores, órgão, curso,\n",
      "Nearest to festival: festivais, cannes, evento, veneza, cinema, programação, muylaert, sundance,\n",
      "Nearest to ouro: medalha, prata, bronze, medalhista, londres-0000, conquistou, medalhas, premiação,\n",
      "Nearest to estudos: pesquisas, avançados, pesquisadores, científicos, estudo, doutorado, dados, ufrj,\n",
      "Nearest to internacionais: nacionais, eua, estrangeiras, país, exterior, internacional, viagens, além,\n",
      "Nearest to conhecido: chamado, considerado, do, virou, criado, reconhecido, apontado, principalmente,\n"
     ]
    },
    {
     "data": {
      "application/vnd.jupyter.widget-view+json": {
       "model_id": "",
       "version_major": 2,
       "version_minor": 0
      },
      "text/plain": [
       "HBox(children=(IntProgress(value=0, description='Batch', max=183, style=ProgressStyle(description_width='initi…"
      ]
     },
     "metadata": {},
     "output_type": "display_data"
    },
    {
     "name": "stdout",
     "output_type": "stream",
     "text": [
      "Epoch 372/1000 Iteration: 68100 Avg. Training loss: 5.1329 0.0614 sec/batch\n",
      "Epoch 372/1000 Iteration: 68200 Avg. Training loss: 5.0445 0.2549 sec/batch\n"
     ]
    },
    {
     "data": {
      "application/vnd.jupyter.widget-view+json": {
       "model_id": "",
       "version_major": 2,
       "version_minor": 0
      },
      "text/plain": [
       "HBox(children=(IntProgress(value=0, description='Batch', max=183, style=ProgressStyle(description_width='initi…"
      ]
     },
     "metadata": {},
     "output_type": "display_data"
    },
    {
     "name": "stdout",
     "output_type": "stream",
     "text": [
      "Epoch 373/1000 Iteration: 68300 Avg. Training loss: 5.1957 0.1052 sec/batch\n",
      "Epoch 373/1000 Iteration: 68400 Avg. Training loss: 5.1361 0.2555 sec/batch\n"
     ]
    },
    {
     "data": {
      "application/vnd.jupyter.widget-view+json": {
       "model_id": "",
       "version_major": 2,
       "version_minor": 0
      },
      "text/plain": [
       "HBox(children=(IntProgress(value=0, description='Batch', max=183, style=ProgressStyle(description_width='initi…"
      ]
     },
     "metadata": {},
     "output_type": "display_data"
    },
    {
     "name": "stdout",
     "output_type": "stream",
     "text": [
      "Epoch 374/1000 Iteration: 68500 Avg. Training loss: 5.0878 0.1483 sec/batch\n",
      "Epoch 374/1000 Iteration: 68600 Avg. Training loss: 5.2220 0.2555 sec/batch\n"
     ]
    },
    {
     "data": {
      "application/vnd.jupyter.widget-view+json": {
       "model_id": "",
       "version_major": 2,
       "version_minor": 0
      },
      "text/plain": [
       "HBox(children=(IntProgress(value=0, description='Batch', max=183, style=ProgressStyle(description_width='initi…"
      ]
     },
     "metadata": {},
     "output_type": "display_data"
    },
    {
     "name": "stdout",
     "output_type": "stream",
     "text": [
      "Epoch 375/1000 Iteration: 68700 Avg. Training loss: 4.9990 0.1913 sec/batch\n",
      "Epoch 375/1000 Iteration: 68800 Avg. Training loss: 5.1509 0.2545 sec/batch\n"
     ]
    },
    {
     "data": {
      "application/vnd.jupyter.widget-view+json": {
       "model_id": "",
       "version_major": 2,
       "version_minor": 0
      },
      "text/plain": [
       "HBox(children=(IntProgress(value=0, description='Batch', max=183, style=ProgressStyle(description_width='initi…"
      ]
     },
     "metadata": {},
     "output_type": "display_data"
    },
    {
     "name": "stdout",
     "output_type": "stream",
     "text": [
      "Epoch 376/1000 Iteration: 68900 Avg. Training loss: 5.2133 0.2339 sec/batch\n"
     ]
    },
    {
     "data": {
      "application/vnd.jupyter.widget-view+json": {
       "model_id": "",
       "version_major": 2,
       "version_minor": 0
      },
      "text/plain": [
       "HBox(children=(IntProgress(value=0, description='Batch', max=183, style=ProgressStyle(description_width='initi…"
      ]
     },
     "metadata": {},
     "output_type": "display_data"
    },
    {
     "name": "stdout",
     "output_type": "stream",
     "text": [
      "Epoch 377/1000 Iteration: 69000 Avg. Training loss: 5.2480 0.0229 sec/batch\n",
      "Nearest to sem: ., apenas, só, para, de, e, ainda, tem,\n",
      "Nearest to está: continua, estava, esteja, estaria, vem, estar, ficando, ainda,\n",
      "Nearest to também: e, de, ., que, ,, o, em, à,\n",
      "Nearest to dois: nove, oito, três, outros, cinco, seis, menos, os,\n",
      "Nearest to :: ;, ?, aqui, seguinte, só, ., como, não,\n",
      "Nearest to da: a, na, de, parte, à, uma, ., ,,\n",
      "Nearest to mais: ., que, já, mas, ,, ainda, menos, e,\n",
      "Nearest to pode: poderá, deve, possa, vai, possível, poderia, precisa, só,\n",
      "Nearest to ouro: medalha, prata, londres-0000, medalhista, bronze, medalhas, conquistou, premiação,\n",
      "Nearest to importantes: principais, grandes, como, especialmente, também, ,, da, quais,\n",
      "Nearest to francisco: papa, pontífice, vaticano, perché, arcebispo, semicego, bispos, católica,\n",
      "Nearest to filmes: cinema, filme, estúdios, produções, cinemas, longa-metragem, exibição, cineastas,\n",
      "Nearest to palácio: planalto, alvorada, jaburu, peemedebista, temer, auxiliares, assessores, esplanada,\n",
      "Nearest to emprego: trabalho, desemprego, empregos, desempregados, empregados, trabalhar, qualificação, crescimento,\n",
      "Nearest to números: dados, estatísticas, resultados, divulgados, indicadores, considerando, 00, mostram,\n",
      "Nearest to modo: que, pois, assim, mesmo, todo, ao, é, esse,\n",
      "Epoch 377/1000 Iteration: 69100 Avg. Training loss: 4.9741 0.2624 sec/batch\n"
     ]
    },
    {
     "data": {
      "application/vnd.jupyter.widget-view+json": {
       "model_id": "",
       "version_major": 2,
       "version_minor": 0
      },
      "text/plain": [
       "HBox(children=(IntProgress(value=0, description='Batch', max=183, style=ProgressStyle(description_width='initi…"
      ]
     },
     "metadata": {},
     "output_type": "display_data"
    },
    {
     "name": "stdout",
     "output_type": "stream",
     "text": [
      "Epoch 378/1000 Iteration: 69200 Avg. Training loss: 5.2710 0.0667 sec/batch\n",
      "Epoch 378/1000 Iteration: 69300 Avg. Training loss: 5.1662 0.2559 sec/batch\n"
     ]
    },
    {
     "data": {
      "application/vnd.jupyter.widget-view+json": {
       "model_id": "",
       "version_major": 2,
       "version_minor": 0
      },
      "text/plain": [
       "HBox(children=(IntProgress(value=0, description='Batch', max=183, style=ProgressStyle(description_width='initi…"
      ]
     },
     "metadata": {},
     "output_type": "display_data"
    },
    {
     "name": "stdout",
     "output_type": "stream",
     "text": [
      "Epoch 379/1000 Iteration: 69400 Avg. Training loss: 5.3572 0.1098 sec/batch\n",
      "Epoch 379/1000 Iteration: 69500 Avg. Training loss: 4.9874 0.2542 sec/batch\n"
     ]
    },
    {
     "data": {
      "application/vnd.jupyter.widget-view+json": {
       "model_id": "",
       "version_major": 2,
       "version_minor": 0
      },
      "text/plain": [
       "HBox(children=(IntProgress(value=0, description='Batch', max=183, style=ProgressStyle(description_width='initi…"
      ]
     },
     "metadata": {},
     "output_type": "display_data"
    },
    {
     "name": "stdout",
     "output_type": "stream",
     "text": [
      "Epoch 380/1000 Iteration: 69600 Avg. Training loss: 5.1955 0.1529 sec/batch\n",
      "Epoch 380/1000 Iteration: 69700 Avg. Training loss: 5.1461 0.2548 sec/batch\n"
     ]
    },
    {
     "data": {
      "application/vnd.jupyter.widget-view+json": {
       "model_id": "",
       "version_major": 2,
       "version_minor": 0
      },
      "text/plain": [
       "HBox(children=(IntProgress(value=0, description='Batch', max=183, style=ProgressStyle(description_width='initi…"
      ]
     },
     "metadata": {},
     "output_type": "display_data"
    },
    {
     "name": "stdout",
     "output_type": "stream",
     "text": [
      "Epoch 381/1000 Iteration: 69800 Avg. Training loss: 5.0069 0.1969 sec/batch\n",
      "Epoch 381/1000 Iteration: 69900 Avg. Training loss: 5.1012 0.2529 sec/batch\n"
     ]
    },
    {
     "data": {
      "application/vnd.jupyter.widget-view+json": {
       "model_id": "",
       "version_major": 2,
       "version_minor": 0
      },
      "text/plain": [
       "HBox(children=(IntProgress(value=0, description='Batch', max=183, style=ProgressStyle(description_width='initi…"
      ]
     },
     "metadata": {},
     "output_type": "display_data"
    },
    {
     "name": "stdout",
     "output_type": "stream",
     "text": [
      "Epoch 382/1000 Iteration: 70000 Avg. Training loss: 5.1898 0.2405 sec/batch\n",
      "Nearest to por: e, já, de, também, que, ., em, ,,\n",
      "Nearest to r$: us$, valor, 000, bilhões, 00,00, bilhão, 00, milhões,\n",
      "Nearest to uma: a, outra, parte, essa, de, numa, da, à,\n",
      "Nearest to ?: sabe, acha, só, você, não, sim, vai, quer,\n",
      "Nearest to ou: podem, participação, sua, isso, preferir, os, mensagem, para,\n",
      "Nearest to mas: ainda, só, que, porém, ., já, não, mesmo,\n",
      "Nearest to que: ainda, já, ., mas, ,, não, ele, também,\n",
      "Nearest to também: de, e, ., ,, ainda, que, em, já,\n",
      "Nearest to números: resultados, dados, estatísticas, divulgados, indicadores, considerando, esses, absolutos,\n",
      "Nearest to parlamentares: deputados, congressistas, governistas, bancada, senadores, emendas, oposição, aliados,\n",
      "Nearest to mínimo: salário, valor, máximo, atuais, restante, benefício, para, cada,\n",
      "Nearest to provas: prova, obtidas, evidências, acusações, alegações, depoimentos, acusação, colhidas,\n",
      "Nearest to francisco: papa, vaticano, pontífice, católica, arcebispo, assis, semicego, dom,\n",
      "Nearest to europeia: ue, unido, reino, europeu, juncker, brexit, bloco, europeus,\n",
      "Nearest to mar: mediterrâneo, travessia, praia, oceano, embarcações, barco, migrantes, egeu,\n",
      "Nearest to livros: romances, didáticos, editoras, contos, literatura, best-sellers, exemplares, textos,\n"
     ]
    },
    {
     "data": {
      "application/vnd.jupyter.widget-view+json": {
       "model_id": "",
       "version_major": 2,
       "version_minor": 0
      },
      "text/plain": [
       "HBox(children=(IntProgress(value=0, description='Batch', max=183, style=ProgressStyle(description_width='initi…"
      ]
     },
     "metadata": {},
     "output_type": "display_data"
    },
    {
     "name": "stdout",
     "output_type": "stream",
     "text": [
      "Epoch 383/1000 Iteration: 70100 Avg. Training loss: 5.2635 0.0285 sec/batch\n",
      "Epoch 383/1000 Iteration: 70200 Avg. Training loss: 5.1215 0.2547 sec/batch\n"
     ]
    },
    {
     "data": {
      "application/vnd.jupyter.widget-view+json": {
       "model_id": "",
       "version_major": 2,
       "version_minor": 0
      },
      "text/plain": [
       "HBox(children=(IntProgress(value=0, description='Batch', max=183, style=ProgressStyle(description_width='initi…"
      ]
     },
     "metadata": {},
     "output_type": "display_data"
    },
    {
     "name": "stdout",
     "output_type": "stream",
     "text": [
      "Epoch 384/1000 Iteration: 70300 Avg. Training loss: 5.3989 0.0717 sec/batch\n",
      "Epoch 384/1000 Iteration: 70400 Avg. Training loss: 5.2250 0.2566 sec/batch\n"
     ]
    },
    {
     "data": {
      "application/vnd.jupyter.widget-view+json": {
       "model_id": "",
       "version_major": 2,
       "version_minor": 0
      },
      "text/plain": [
       "HBox(children=(IntProgress(value=0, description='Batch', max=183, style=ProgressStyle(description_width='initi…"
      ]
     },
     "metadata": {},
     "output_type": "display_data"
    },
    {
     "name": "stdout",
     "output_type": "stream",
     "text": [
      "Epoch 385/1000 Iteration: 70500 Avg. Training loss: 5.1552 0.1158 sec/batch\n",
      "Epoch 385/1000 Iteration: 70600 Avg. Training loss: 5.1737 0.2549 sec/batch\n"
     ]
    },
    {
     "data": {
      "application/vnd.jupyter.widget-view+json": {
       "model_id": "",
       "version_major": 2,
       "version_minor": 0
      },
      "text/plain": [
       "HBox(children=(IntProgress(value=0, description='Batch', max=183, style=ProgressStyle(description_width='initi…"
      ]
     },
     "metadata": {},
     "output_type": "display_data"
    },
    {
     "name": "stdout",
     "output_type": "stream",
     "text": [
      "Epoch 386/1000 Iteration: 70700 Avg. Training loss: 5.2947 0.1590 sec/batch\n",
      "Epoch 386/1000 Iteration: 70800 Avg. Training loss: 5.1380 0.2545 sec/batch\n"
     ]
    },
    {
     "data": {
      "application/vnd.jupyter.widget-view+json": {
       "model_id": "",
       "version_major": 2,
       "version_minor": 0
      },
      "text/plain": [
       "HBox(children=(IntProgress(value=0, description='Batch', max=183, style=ProgressStyle(description_width='initi…"
      ]
     },
     "metadata": {},
     "output_type": "display_data"
    },
    {
     "name": "stdout",
     "output_type": "stream",
     "text": [
      "Epoch 387/1000 Iteration: 70900 Avg. Training loss: 5.2682 0.2024 sec/batch\n",
      "Epoch 387/1000 Iteration: 71000 Avg. Training loss: 5.0826 0.2553 sec/batch\n",
      "Nearest to r$: us$, valor, 000, bilhões, 00,00, bilhão, 00, aproximadamente,\n",
      "Nearest to para: a, de, com, ., ainda, também, o, e,\n",
      "Nearest to de: em, e, ., a, também, ,, com, além,\n",
      "Nearest to ser: será, sido, ter, foi, pois, por, pelo, somente,\n",
      "Nearest to às: volta, hoje, das, 00h, dia, sábado, domingo, as,\n",
      "Nearest to estão: estariam, estavam, continuam, seguem, estarão, estarem, vêm, continuarão,\n",
      "Nearest to os: dos, outros, esses, alguns, dois, ., também, todos,\n",
      "Nearest to em: de, ,, ., também, já, a, no, com,\n",
      "Nearest to chefe: gabinete, ex-chefe, chefia, departamento, afirmou, indicou, assumiu, comando,\n",
      "Nearest to EMAIL: enviar, basta, envie, e-mail, traduzem, acessar, publicados, colaborar,\n",
      "Nearest to conhecido: considerado, principalmente, tornou-se, um, chamado, famoso, como, virou,\n",
      "Nearest to discussão: questão, tema, proposta, uma, discutir, pauta, discussões, debater,\n",
      "Nearest to simples: é, somente, porém, só, pois, vez, será, seria,\n",
      "Nearest to filmes: cinema, filme, cinemas, produções, longa-metragem, cineastas, cineasta, estúdios,\n",
      "Nearest to minas: gerais, pimentel, ceará, espírito, bahia, mineiro, paraíba, ufmg,\n",
      "Nearest to quero: posso, vou, vai, preciso, querer, vamos, acredito, vão,\n"
     ]
    },
    {
     "data": {
      "application/vnd.jupyter.widget-view+json": {
       "model_id": "",
       "version_major": 2,
       "version_minor": 0
      },
      "text/plain": [
       "HBox(children=(IntProgress(value=0, description='Batch', max=183, style=ProgressStyle(description_width='initi…"
      ]
     },
     "metadata": {},
     "output_type": "display_data"
    },
    {
     "name": "stdout",
     "output_type": "stream",
     "text": [
      "Epoch 388/1000 Iteration: 71100 Avg. Training loss: 5.1736 0.2457 sec/batch\n"
     ]
    },
    {
     "data": {
      "application/vnd.jupyter.widget-view+json": {
       "model_id": "",
       "version_major": 2,
       "version_minor": 0
      },
      "text/plain": [
       "HBox(children=(IntProgress(value=0, description='Batch', max=183, style=ProgressStyle(description_width='initi…"
      ]
     },
     "metadata": {},
     "output_type": "display_data"
    },
    {
     "name": "stdout",
     "output_type": "stream",
     "text": [
      "Epoch 389/1000 Iteration: 71200 Avg. Training loss: 5.3567 0.0334 sec/batch\n",
      "Epoch 389/1000 Iteration: 71300 Avg. Training loss: 5.3516 0.2548 sec/batch\n"
     ]
    },
    {
     "data": {
      "application/vnd.jupyter.widget-view+json": {
       "model_id": "",
       "version_major": 2,
       "version_minor": 0
      },
      "text/plain": [
       "HBox(children=(IntProgress(value=0, description='Batch', max=183, style=ProgressStyle(description_width='initi…"
      ]
     },
     "metadata": {},
     "output_type": "display_data"
    },
    {
     "name": "stdout",
     "output_type": "stream",
     "text": [
      "Epoch 390/1000 Iteration: 71400 Avg. Training loss: 5.3275 0.0777 sec/batch\n",
      "Epoch 390/1000 Iteration: 71500 Avg. Training loss: 5.2394 0.2539 sec/batch\n"
     ]
    },
    {
     "data": {
      "application/vnd.jupyter.widget-view+json": {
       "model_id": "",
       "version_major": 2,
       "version_minor": 0
      },
      "text/plain": [
       "HBox(children=(IntProgress(value=0, description='Batch', max=183, style=ProgressStyle(description_width='initi…"
      ]
     },
     "metadata": {},
     "output_type": "display_data"
    },
    {
     "name": "stdout",
     "output_type": "stream",
     "text": [
      "Epoch 391/1000 Iteration: 71600 Avg. Training loss: 5.1624 0.1204 sec/batch\n",
      "Epoch 391/1000 Iteration: 71700 Avg. Training loss: 5.0155 0.2549 sec/batch\n"
     ]
    },
    {
     "data": {
      "application/vnd.jupyter.widget-view+json": {
       "model_id": "",
       "version_major": 2,
       "version_minor": 0
      },
      "text/plain": [
       "HBox(children=(IntProgress(value=0, description='Batch', max=183, style=ProgressStyle(description_width='initi…"
      ]
     },
     "metadata": {},
     "output_type": "display_data"
    },
    {
     "name": "stdout",
     "output_type": "stream",
     "text": [
      "Epoch 392/1000 Iteration: 71800 Avg. Training loss: 5.1752 0.1636 sec/batch\n",
      "Epoch 392/1000 Iteration: 71900 Avg. Training loss: 5.1445 0.2565 sec/batch\n"
     ]
    },
    {
     "data": {
      "application/vnd.jupyter.widget-view+json": {
       "model_id": "",
       "version_major": 2,
       "version_minor": 0
      },
      "text/plain": [
       "HBox(children=(IntProgress(value=0, description='Batch', max=183, style=ProgressStyle(description_width='initi…"
      ]
     },
     "metadata": {},
     "output_type": "display_data"
    },
    {
     "name": "stdout",
     "output_type": "stream",
     "text": [
      "Epoch 393/1000 Iteration: 72000 Avg. Training loss: 5.2406 0.2063 sec/batch\n",
      "Nearest to uma: a, outra, essa, dessa, parte, toda, à, na,\n",
      "Nearest to diz: afirma, que, mas, lembra, considera, ., conta, também,\n",
      "Nearest to ela: ele, dela, que, uma, mas, sozinha, conta, a,\n",
      "Nearest to há: ainda, mas, já, ,, de, que, porém, é,\n",
      "Nearest to seus: os, próprios, outros, dos, dois, alguns, todos, e,\n",
      "Nearest to 0000: março, abril, desde, junho, outubro, setembro, passado, ano,\n",
      "Nearest to era: tinha, poderia, sabia, ele, fazia, fosse, foi, seria,\n",
      "Nearest to vai: irá, pretende, poderá, vão, precisa, deve, começar, pode,\n",
      "Nearest to artista: exposição, artistas, curadoria, expõe, plástica, pinturas, plástico, galeria,\n",
      "Nearest to seguinte: dia, sempre, coordenação, publicadas, reportagem, agenda, aqui, no,\n",
      "Nearest to democracia: democrático, golpe, ditadura, lamentavelmente, democrática, plena, revolução, estabilidade,\n",
      "Nearest to operações: financeiras, mercado, afirma, rotas, de, meio, ativos, parte,\n",
      "Nearest to festival: festivais, cannes, evento, veneza, programação, exibido, cinema, sxsw,\n",
      "Nearest to filmes: cinema, filme, cinemas, cineasta, cineastas, longa-metragem, produções, estúdios,\n",
      "Nearest to casas: moradias, residências, delas, prédios, construções, moradores, apartamentos, famílias,\n",
      "Nearest to encontrar: buscar, entender, juntar, sair, mostrar, achar, manter, fazer,\n",
      "Epoch 393/1000 Iteration: 72100 Avg. Training loss: 5.3328 0.2635 sec/batch\n"
     ]
    },
    {
     "data": {
      "application/vnd.jupyter.widget-view+json": {
       "model_id": "",
       "version_major": 2,
       "version_minor": 0
      },
      "text/plain": [
       "HBox(children=(IntProgress(value=0, description='Batch', max=183, style=ProgressStyle(description_width='initi…"
      ]
     },
     "metadata": {},
     "output_type": "display_data"
    },
    {
     "name": "stdout",
     "output_type": "stream",
     "text": [
      "Epoch 394/1000 Iteration: 72200 Avg. Training loss: 5.0563 0.2501 sec/batch\n"
     ]
    },
    {
     "data": {
      "application/vnd.jupyter.widget-view+json": {
       "model_id": "",
       "version_major": 2,
       "version_minor": 0
      },
      "text/plain": [
       "HBox(children=(IntProgress(value=0, description='Batch', max=183, style=ProgressStyle(description_width='initi…"
      ]
     },
     "metadata": {},
     "output_type": "display_data"
    },
    {
     "name": "stdout",
     "output_type": "stream",
     "text": [
      "Epoch 395/1000 Iteration: 72300 Avg. Training loss: 5.2458 0.0386 sec/batch\n",
      "Epoch 395/1000 Iteration: 72400 Avg. Training loss: 5.2925 0.2543 sec/batch\n"
     ]
    },
    {
     "data": {
      "application/vnd.jupyter.widget-view+json": {
       "model_id": "",
       "version_major": 2,
       "version_minor": 0
      },
      "text/plain": [
       "HBox(children=(IntProgress(value=0, description='Batch', max=183, style=ProgressStyle(description_width='initi…"
      ]
     },
     "metadata": {},
     "output_type": "display_data"
    },
    {
     "name": "stdout",
     "output_type": "stream",
     "text": [
      "Epoch 396/1000 Iteration: 72500 Avg. Training loss: 5.0230 0.0823 sec/batch\n",
      "Epoch 396/1000 Iteration: 72600 Avg. Training loss: 5.0341 0.2542 sec/batch\n"
     ]
    },
    {
     "data": {
      "application/vnd.jupyter.widget-view+json": {
       "model_id": "",
       "version_major": 2,
       "version_minor": 0
      },
      "text/plain": [
       "HBox(children=(IntProgress(value=0, description='Batch', max=183, style=ProgressStyle(description_width='initi…"
      ]
     },
     "metadata": {},
     "output_type": "display_data"
    },
    {
     "name": "stdout",
     "output_type": "stream",
     "text": [
      "Epoch 397/1000 Iteration: 72700 Avg. Training loss: 5.3576 0.1253 sec/batch\n",
      "Epoch 397/1000 Iteration: 72800 Avg. Training loss: 5.4394 0.2545 sec/batch\n"
     ]
    },
    {
     "data": {
      "application/vnd.jupyter.widget-view+json": {
       "model_id": "",
       "version_major": 2,
       "version_minor": 0
      },
      "text/plain": [
       "HBox(children=(IntProgress(value=0, description='Batch', max=183, style=ProgressStyle(description_width='initi…"
      ]
     },
     "metadata": {},
     "output_type": "display_data"
    },
    {
     "name": "stdout",
     "output_type": "stream",
     "text": [
      "Epoch 398/1000 Iteration: 72900 Avg. Training loss: 4.9155 0.1682 sec/batch\n",
      "Epoch 398/1000 Iteration: 73000 Avg. Training loss: 5.1774 0.2552 sec/batch\n",
      "Nearest to parte: a, também, de, uma, que, da, à, .,\n",
      "Nearest to na: da, última, a, em, também, quarta, ., do,\n",
      "Nearest to um: o, outro, ao, esse, que, deles, novo, .,\n",
      "Nearest to foram: serem, serão, seriam, fossem, estavam, forem, deixaram, deles,\n",
      "Nearest to quando: até, ., que, desde, antes, começo, vez, setembro,\n",
      "Nearest to sem: apenas, só, para, de, ., dá, e, com,\n",
      "Nearest to diz: afirma, mas, lembra, conta, que, considera, ., também,\n",
      "Nearest to contra: na, ., em, também, no, segunda-feira, de, terça-feira,\n",
      "Nearest to data: datas, término, calendário, deve, antes, ocorrerá, fim, somente,\n",
      "Nearest to atividade: função, econômica, desde, economia, queda, ainda, principalmente, parte,\n",
      "Nearest to bairro: bairros, oeste, cidade, zona, residencial, morador, entorno, morava,\n",
      "Nearest to francisco: papa, pontífice, pardo, semicego, perché, pontificado, assis, carlos,\n",
      "Nearest to números: dados, estatísticas, resultados, divulgados, registros, esses, os, indicadores,\n",
      "Nearest to minas: gerais, pimentel, espírito, bahia, ceará, ministério, mineiro, rio,\n",
      "Nearest to chefe: ex-chefe, gabinete, chefia, afirmou, assumiu, comando, nomeado, indicou,\n",
      "Nearest to continuar: vem, continuará, está, continua, continuarem, vinha, agora, ficar,\n"
     ]
    },
    {
     "data": {
      "application/vnd.jupyter.widget-view+json": {
       "model_id": "",
       "version_major": 2,
       "version_minor": 0
      },
      "text/plain": [
       "HBox(children=(IntProgress(value=0, description='Batch', max=183, style=ProgressStyle(description_width='initi…"
      ]
     },
     "metadata": {},
     "output_type": "display_data"
    },
    {
     "name": "stdout",
     "output_type": "stream",
     "text": [
      "Epoch 399/1000 Iteration: 73100 Avg. Training loss: 5.1429 0.2120 sec/batch\n",
      "Epoch 399/1000 Iteration: 73200 Avg. Training loss: 5.0137 0.2532 sec/batch\n"
     ]
    },
    {
     "data": {
      "application/vnd.jupyter.widget-view+json": {
       "model_id": "",
       "version_major": 2,
       "version_minor": 0
      },
      "text/plain": [
       "HBox(children=(IntProgress(value=0, description='Batch', max=183, style=ProgressStyle(description_width='initi…"
      ]
     },
     "metadata": {},
     "output_type": "display_data"
    },
    {
     "name": "stdout",
     "output_type": "stream",
     "text": [
      "Epoch 400/1000 Iteration: 73300 Avg. Training loss: 5.2075 0.2540 sec/batch\n"
     ]
    },
    {
     "data": {
      "application/vnd.jupyter.widget-view+json": {
       "model_id": "",
       "version_major": 2,
       "version_minor": 0
      },
      "text/plain": [
       "HBox(children=(IntProgress(value=0, description='Batch', max=183, style=ProgressStyle(description_width='initi…"
      ]
     },
     "metadata": {},
     "output_type": "display_data"
    },
    {
     "name": "stdout",
     "output_type": "stream",
     "text": [
      "Epoch 401/1000 Iteration: 73400 Avg. Training loss: 5.0898 0.0437 sec/batch\n",
      "Epoch 401/1000 Iteration: 73500 Avg. Training loss: 5.1644 0.2558 sec/batch\n"
     ]
    },
    {
     "data": {
      "application/vnd.jupyter.widget-view+json": {
       "model_id": "",
       "version_major": 2,
       "version_minor": 0
      },
      "text/plain": [
       "HBox(children=(IntProgress(value=0, description='Batch', max=183, style=ProgressStyle(description_width='initi…"
      ]
     },
     "metadata": {},
     "output_type": "display_data"
    },
    {
     "name": "stdout",
     "output_type": "stream",
     "text": [
      "Epoch 402/1000 Iteration: 73600 Avg. Training loss: 5.0150 0.0871 sec/batch\n",
      "Epoch 402/1000 Iteration: 73700 Avg. Training loss: 5.2984 0.2558 sec/batch\n"
     ]
    },
    {
     "data": {
      "application/vnd.jupyter.widget-view+json": {
       "model_id": "",
       "version_major": 2,
       "version_minor": 0
      },
      "text/plain": [
       "HBox(children=(IntProgress(value=0, description='Batch', max=183, style=ProgressStyle(description_width='initi…"
      ]
     },
     "metadata": {},
     "output_type": "display_data"
    },
    {
     "name": "stdout",
     "output_type": "stream",
     "text": [
      "Epoch 403/1000 Iteration: 73800 Avg. Training loss: 5.0695 0.1300 sec/batch\n",
      "Epoch 403/1000 Iteration: 73900 Avg. Training loss: 5.1356 0.2549 sec/batch\n"
     ]
    },
    {
     "data": {
      "application/vnd.jupyter.widget-view+json": {
       "model_id": "",
       "version_major": 2,
       "version_minor": 0
      },
      "text/plain": [
       "HBox(children=(IntProgress(value=0, description='Batch', max=183, style=ProgressStyle(description_width='initi…"
      ]
     },
     "metadata": {},
     "output_type": "display_data"
    },
    {
     "name": "stdout",
     "output_type": "stream",
     "text": [
      "Epoch 404/1000 Iteration: 74000 Avg. Training loss: 5.1891 0.1754 sec/batch\n",
      "Nearest to com: e, também, ., ,, de, a, em, para,\n",
      "Nearest to ,: ., já, de, e, também, a, que, em,\n",
      "Nearest to às: das, 00h, hoje, domingo, sábado, sexta, volta, dia,\n",
      "Nearest to desde: início, passado, março, maio, em, já, 0000, junho,\n",
      "Nearest to brasil: mundo, no, país, ., brasileiro, e, a, na,\n",
      "Nearest to milhões: milhão, mil, 00,0, aproximadamente, 0,0, cerca, bilhão, 000,0,\n",
      "Nearest to aos: os, seus, por, e, também, ., de, ,,\n",
      "Nearest to de: ., em, a, também, ,, e, que, por,\n",
      "Nearest to tal: essa, mas, é, dessa, pois, que, fato, forma,\n",
      "Nearest to lima: vieira, abreu, articulador, faria, alento, geddel, silva, araújo,\n",
      "Nearest to recente: em, segundo, a, de, o, último, setembro, março,\n",
      "Nearest to vê: da, do, ,, ., diz, de, acha, maior,\n",
      "Nearest to leva: levam, dá, levará, faz, conta, levar, um, tem,\n",
      "Nearest to explica: afirma, observa, diz, possível, procura, pode, causa, porém,\n",
      "Nearest to nossos: seus, mesmos, temos, vemos, os, nossa, todos, perdemos,\n",
      "Nearest to encontrar: buscar, entender, achar, mostrar, procurar, sair, manter, juntar,\n",
      "Epoch 404/1000 Iteration: 74100 Avg. Training loss: 5.1509 0.2641 sec/batch\n"
     ]
    },
    {
     "data": {
      "application/vnd.jupyter.widget-view+json": {
       "model_id": "",
       "version_major": 2,
       "version_minor": 0
      },
      "text/plain": [
       "HBox(children=(IntProgress(value=0, description='Batch', max=183, style=ProgressStyle(description_width='initi…"
      ]
     },
     "metadata": {},
     "output_type": "display_data"
    },
    {
     "name": "stdout",
     "output_type": "stream",
     "text": [
      "Epoch 405/1000 Iteration: 74200 Avg. Training loss: 5.0813 0.2168 sec/batch\n"
     ]
    },
    {
     "data": {
      "application/vnd.jupyter.widget-view+json": {
       "model_id": "",
       "version_major": 2,
       "version_minor": 0
      },
      "text/plain": [
       "HBox(children=(IntProgress(value=0, description='Batch', max=183, style=ProgressStyle(description_width='initi…"
      ]
     },
     "metadata": {},
     "output_type": "display_data"
    },
    {
     "name": "stdout",
     "output_type": "stream",
     "text": [
      "Epoch 406/1000 Iteration: 74300 Avg. Training loss: 5.3011 0.0052 sec/batch\n",
      "Epoch 406/1000 Iteration: 74400 Avg. Training loss: 5.0768 0.2549 sec/batch\n"
     ]
    },
    {
     "data": {
      "application/vnd.jupyter.widget-view+json": {
       "model_id": "",
       "version_major": 2,
       "version_minor": 0
      },
      "text/plain": [
       "HBox(children=(IntProgress(value=0, description='Batch', max=183, style=ProgressStyle(description_width='initi…"
      ]
     },
     "metadata": {},
     "output_type": "display_data"
    },
    {
     "name": "stdout",
     "output_type": "stream",
     "text": [
      "Epoch 407/1000 Iteration: 74500 Avg. Training loss: 5.2100 0.0489 sec/batch\n",
      "Epoch 407/1000 Iteration: 74600 Avg. Training loss: 5.1800 0.2545 sec/batch\n"
     ]
    },
    {
     "data": {
      "application/vnd.jupyter.widget-view+json": {
       "model_id": "",
       "version_major": 2,
       "version_minor": 0
      },
      "text/plain": [
       "HBox(children=(IntProgress(value=0, description='Batch', max=183, style=ProgressStyle(description_width='initi…"
      ]
     },
     "metadata": {},
     "output_type": "display_data"
    },
    {
     "name": "stdout",
     "output_type": "stream",
     "text": [
      "Epoch 408/1000 Iteration: 74700 Avg. Training loss: 5.4608 0.0917 sec/batch\n",
      "Epoch 408/1000 Iteration: 74800 Avg. Training loss: 5.1949 0.2551 sec/batch\n"
     ]
    },
    {
     "data": {
      "application/vnd.jupyter.widget-view+json": {
       "model_id": "",
       "version_major": 2,
       "version_minor": 0
      },
      "text/plain": [
       "HBox(children=(IntProgress(value=0, description='Batch', max=183, style=ProgressStyle(description_width='initi…"
      ]
     },
     "metadata": {},
     "output_type": "display_data"
    },
    {
     "name": "stdout",
     "output_type": "stream",
     "text": [
      "Epoch 409/1000 Iteration: 74900 Avg. Training loss: 5.2120 0.1359 sec/batch\n",
      "Epoch 409/1000 Iteration: 75000 Avg. Training loss: 5.0818 0.2558 sec/batch\n",
      "Nearest to ainda: que, porém, já, mas, entanto, ., também, agora,\n",
      "Nearest to depois: após, logo, antes, fim, já, em, ., de,\n",
      "Nearest to sem: ., apenas, dá, só, e, exemplo, terá, tem,\n",
      "Nearest to sobre: também, a, do, em, assunto, na, de, .,\n",
      "Nearest to ter: tenha, teria, terem, havia, tenham, teriam, sido, tendo,\n",
      "Nearest to um: o, ., que, outro, ao, do, ainda, apenas,\n",
      "Nearest to segundo: primeiro, ainda, o, aponta, chegou, porém, mostrou, do,\n",
      "Nearest to uma: a, outra, essa, numa, dessa, toda, à, parte,\n",
      "Nearest to recuperação: melhora, recuperar, retomada, crescimento, impulsionar, sinais, economia, desaceleração,\n",
      "Nearest to filha: mãe, mulher, marido, irmã, dela, ela, anos, sozinha,\n",
      "Nearest to conhecido: considerado, reconhecido, principalmente, famoso, chamado, tornou-se, especialmente, virou,\n",
      "Nearest to nossos: temos, seus, nossa, mesmos, vemos, todos, nós, nosso,\n",
      "Nearest to casas: residências, menos, moradias, moradores, delas, famílias, prédios, mais,\n",
      "Nearest to conversa: gravação, conversas, mencionou, gravada, áudio, conversar, diálogo, falou,\n",
      "Nearest to investidores: mercados, volatilidade, financeiros, ativos, investidor, emergentes, bancos, cautela,\n",
      "Nearest to deverá: poderá, deve, vai, irá, terá, deverão, será, pode,\n"
     ]
    },
    {
     "data": {
      "application/vnd.jupyter.widget-view+json": {
       "model_id": "",
       "version_major": 2,
       "version_minor": 0
      },
      "text/plain": [
       "HBox(children=(IntProgress(value=0, description='Batch', max=183, style=ProgressStyle(description_width='initi…"
      ]
     },
     "metadata": {},
     "output_type": "display_data"
    },
    {
     "name": "stdout",
     "output_type": "stream",
     "text": [
      "Epoch 410/1000 Iteration: 75100 Avg. Training loss: 5.2091 0.1790 sec/batch\n",
      "Epoch 410/1000 Iteration: 75200 Avg. Training loss: 5.2057 0.2551 sec/batch\n"
     ]
    },
    {
     "data": {
      "application/vnd.jupyter.widget-view+json": {
       "model_id": "",
       "version_major": 2,
       "version_minor": 0
      },
      "text/plain": [
       "HBox(children=(IntProgress(value=0, description='Batch', max=183, style=ProgressStyle(description_width='initi…"
      ]
     },
     "metadata": {},
     "output_type": "display_data"
    },
    {
     "name": "stdout",
     "output_type": "stream",
     "text": [
      "Epoch 411/1000 Iteration: 75300 Avg. Training loss: 5.2976 0.2223 sec/batch\n"
     ]
    },
    {
     "data": {
      "application/vnd.jupyter.widget-view+json": {
       "model_id": "",
       "version_major": 2,
       "version_minor": 0
      },
      "text/plain": [
       "HBox(children=(IntProgress(value=0, description='Batch', max=183, style=ProgressStyle(description_width='initi…"
      ]
     },
     "metadata": {},
     "output_type": "display_data"
    },
    {
     "name": "stdout",
     "output_type": "stream",
     "text": [
      "Epoch 412/1000 Iteration: 75400 Avg. Training loss: 5.4333 0.0103 sec/batch\n",
      "Epoch 412/1000 Iteration: 75500 Avg. Training loss: 5.2460 0.2554 sec/batch\n"
     ]
    },
    {
     "data": {
      "application/vnd.jupyter.widget-view+json": {
       "model_id": "",
       "version_major": 2,
       "version_minor": 0
      },
      "text/plain": [
       "HBox(children=(IntProgress(value=0, description='Batch', max=183, style=ProgressStyle(description_width='initi…"
      ]
     },
     "metadata": {},
     "output_type": "display_data"
    },
    {
     "name": "stdout",
     "output_type": "stream",
     "text": [
      "Epoch 413/1000 Iteration: 75600 Avg. Training loss: 5.3826 0.0535 sec/batch\n",
      "Epoch 413/1000 Iteration: 75700 Avg. Training loss: 5.2557 0.2558 sec/batch\n"
     ]
    },
    {
     "data": {
      "application/vnd.jupyter.widget-view+json": {
       "model_id": "",
       "version_major": 2,
       "version_minor": 0
      },
      "text/plain": [
       "HBox(children=(IntProgress(value=0, description='Batch', max=183, style=ProgressStyle(description_width='initi…"
      ]
     },
     "metadata": {},
     "output_type": "display_data"
    },
    {
     "name": "stdout",
     "output_type": "stream",
     "text": [
      "Epoch 414/1000 Iteration: 75800 Avg. Training loss: 5.3957 0.0971 sec/batch\n",
      "Epoch 414/1000 Iteration: 75900 Avg. Training loss: 5.2080 0.2539 sec/batch\n"
     ]
    },
    {
     "data": {
      "application/vnd.jupyter.widget-view+json": {
       "model_id": "",
       "version_major": 2,
       "version_minor": 0
      },
      "text/plain": [
       "HBox(children=(IntProgress(value=0, description='Batch', max=183, style=ProgressStyle(description_width='initi…"
      ]
     },
     "metadata": {},
     "output_type": "display_data"
    },
    {
     "name": "stdout",
     "output_type": "stream",
     "text": [
      "Epoch 415/1000 Iteration: 76000 Avg. Training loss: 5.2849 0.1397 sec/batch\n",
      "Nearest to parte: a, à, da, também, ., de, que, apenas,\n",
      "Nearest to diz: afirma, que, mas, ., ainda, considera, disse, lembra,\n",
      "Nearest to estão: continuam, estavam, estariam, seguem, vêm, já, estarão, está,\n",
      "Nearest to às: das, 00h, hoje, volta, domingo, sábado, as, sexta,\n",
      "Nearest to no: ., o, do, em, último, na, neste, ainda,\n",
      "Nearest to aos: por, e, seus, os, à, de, também, receber,\n",
      "Nearest to nos: últimos, de, outros, os, primeiros, em, dois, alguns,\n",
      "Nearest to está: continua, estaria, esteja, estava, já, continuará, vem, agora,\n",
      "Nearest to usuários: usuário, ferramenta, internet, app, facebook, viciados, aplicativo, apps,\n",
      "Nearest to veio: logo, levou, trouxe, fez, aconteceu, deram, após, depois,\n",
      "Nearest to unido: reino, europeia, brexit, ue, britânicos, permanência, britânica, inglaterra,\n",
      "Nearest to estádio: maracanã, arena, torcedores, itaquerão, arquibancadas, mineirão, engenhão, estádios,\n",
      "Nearest to explica: afirma, diz, observa, possível, também, assim, é, pois,\n",
      "Nearest to santa: catarina, luzia, cruz, paraná, cecília, fe, goiás, senhora,\n",
      "Nearest to abrir: abriu, abrindo, abrirá, ampliar, fechar, colocar, ampliou, virar,\n",
      "Nearest to global: aquecimento, países, climática, recente, impactos, entanto, impacto, avalia,\n",
      "Epoch 415/1000 Iteration: 76100 Avg. Training loss: 5.1909 0.2641 sec/batch\n"
     ]
    },
    {
     "data": {
      "application/vnd.jupyter.widget-view+json": {
       "model_id": "",
       "version_major": 2,
       "version_minor": 0
      },
      "text/plain": [
       "HBox(children=(IntProgress(value=0, description='Batch', max=183, style=ProgressStyle(description_width='initi…"
      ]
     },
     "metadata": {},
     "output_type": "display_data"
    },
    {
     "name": "stdout",
     "output_type": "stream",
     "text": [
      "Epoch 416/1000 Iteration: 76200 Avg. Training loss: 5.3327 0.1838 sec/batch\n",
      "Epoch 416/1000 Iteration: 76300 Avg. Training loss: 5.2382 0.2551 sec/batch\n"
     ]
    },
    {
     "data": {
      "application/vnd.jupyter.widget-view+json": {
       "model_id": "",
       "version_major": 2,
       "version_minor": 0
      },
      "text/plain": [
       "HBox(children=(IntProgress(value=0, description='Batch', max=183, style=ProgressStyle(description_width='initi…"
      ]
     },
     "metadata": {},
     "output_type": "display_data"
    },
    {
     "name": "stdout",
     "output_type": "stream",
     "text": [
      "Epoch 417/1000 Iteration: 76400 Avg. Training loss: 5.3212 0.2282 sec/batch\n"
     ]
    },
    {
     "data": {
      "application/vnd.jupyter.widget-view+json": {
       "model_id": "",
       "version_major": 2,
       "version_minor": 0
      },
      "text/plain": [
       "HBox(children=(IntProgress(value=0, description='Batch', max=183, style=ProgressStyle(description_width='initi…"
      ]
     },
     "metadata": {},
     "output_type": "display_data"
    },
    {
     "name": "stdout",
     "output_type": "stream",
     "text": [
      "Epoch 418/1000 Iteration: 76500 Avg. Training loss: 5.3716 0.0157 sec/batch\n",
      "Epoch 418/1000 Iteration: 76600 Avg. Training loss: 5.3311 0.2546 sec/batch\n"
     ]
    },
    {
     "data": {
      "application/vnd.jupyter.widget-view+json": {
       "model_id": "",
       "version_major": 2,
       "version_minor": 0
      },
      "text/plain": [
       "HBox(children=(IntProgress(value=0, description='Batch', max=183, style=ProgressStyle(description_width='initi…"
      ]
     },
     "metadata": {},
     "output_type": "display_data"
    },
    {
     "name": "stdout",
     "output_type": "stream",
     "text": [
      "Epoch 419/1000 Iteration: 76700 Avg. Training loss: 5.2052 0.0587 sec/batch\n",
      "Epoch 419/1000 Iteration: 76800 Avg. Training loss: 5.0245 0.2535 sec/batch\n"
     ]
    },
    {
     "data": {
      "application/vnd.jupyter.widget-view+json": {
       "model_id": "",
       "version_major": 2,
       "version_minor": 0
      },
      "text/plain": [
       "HBox(children=(IntProgress(value=0, description='Batch', max=183, style=ProgressStyle(description_width='initi…"
      ]
     },
     "metadata": {},
     "output_type": "display_data"
    },
    {
     "name": "stdout",
     "output_type": "stream",
     "text": [
      "Epoch 420/1000 Iteration: 76900 Avg. Training loss: 5.2070 0.1021 sec/batch\n",
      "Epoch 420/1000 Iteration: 77000 Avg. Training loss: 5.0068 0.2556 sec/batch\n",
      "Nearest to à: a, também, ., parte, da, que, de, uma,\n",
      "Nearest to disse: afirmou, ressaltou, reiterou, acrescentando, afirma, diz, declarou, dizendo,\n",
      "Nearest to .: ,, que, ainda, e, a, de, já, o,\n",
      "Nearest to nas: das, pelas, primeiras, as, duas, de, suas, algumas,\n",
      "Nearest to sobre: a, também, do, na, em, o, de, assunto,\n",
      "Nearest to com: e, também, ., ,, de, em, ainda, o,\n",
      "Nearest to ?: sabe, não, acha, quer, você, vai, só, agora,\n",
      "Nearest to as: das, essas, todas, outras, mesmas, algumas, suas, dessas,\n",
      "Nearest to mínimo: salário, valor, benefício, máximo, restante, equivalente, cada, terço,\n",
      "Nearest to previsão: expectativa, esperada, prevista, deve, previsto, ainda, voltará, preveem,\n",
      "Nearest to deverá: poderá, deve, irá, vai, terá, deverão, voltará, será,\n",
      "Nearest to livros: didáticos, literatura, textos, romances, editoras, leitura, volumes, livro,\n",
      "Nearest to queria: pensava, precisava, poderia, iria, podia, porque, gostaria, tinha,\n",
      "Nearest to unidades: unidade, centros, creches, leitos, atender, prisionais, ocupadas, expandir,\n",
      "Nearest to estudos: pesquisas, estudo, pesquisadores, científicos, elaboração, relatórios, dados, avançados,\n",
      "Nearest to |: grátis, sexta, prevenir, segunda, sábado, terça, quarta, 00h,\n"
     ]
    },
    {
     "data": {
      "application/vnd.jupyter.widget-view+json": {
       "model_id": "",
       "version_major": 2,
       "version_minor": 0
      },
      "text/plain": [
       "HBox(children=(IntProgress(value=0, description='Batch', max=183, style=ProgressStyle(description_width='initi…"
      ]
     },
     "metadata": {},
     "output_type": "display_data"
    },
    {
     "name": "stdout",
     "output_type": "stream",
     "text": [
      "Epoch 421/1000 Iteration: 77100 Avg. Training loss: 5.3977 0.1451 sec/batch\n",
      "Epoch 421/1000 Iteration: 77200 Avg. Training loss: 5.2672 0.2555 sec/batch\n"
     ]
    },
    {
     "data": {
      "application/vnd.jupyter.widget-view+json": {
       "model_id": "",
       "version_major": 2,
       "version_minor": 0
      },
      "text/plain": [
       "HBox(children=(IntProgress(value=0, description='Batch', max=183, style=ProgressStyle(description_width='initi…"
      ]
     },
     "metadata": {},
     "output_type": "display_data"
    },
    {
     "name": "stdout",
     "output_type": "stream",
     "text": [
      "Epoch 422/1000 Iteration: 77300 Avg. Training loss: 5.1427 0.1884 sec/batch\n",
      "Epoch 422/1000 Iteration: 77400 Avg. Training loss: 5.3344 0.2550 sec/batch\n"
     ]
    },
    {
     "data": {
      "application/vnd.jupyter.widget-view+json": {
       "model_id": "",
       "version_major": 2,
       "version_minor": 0
      },
      "text/plain": [
       "HBox(children=(IntProgress(value=0, description='Batch', max=183, style=ProgressStyle(description_width='initi…"
      ]
     },
     "metadata": {},
     "output_type": "display_data"
    },
    {
     "name": "stdout",
     "output_type": "stream",
     "text": [
      "Epoch 423/1000 Iteration: 77500 Avg. Training loss: 5.2150 0.2328 sec/batch\n"
     ]
    },
    {
     "data": {
      "application/vnd.jupyter.widget-view+json": {
       "model_id": "",
       "version_major": 2,
       "version_minor": 0
      },
      "text/plain": [
       "HBox(children=(IntProgress(value=0, description='Batch', max=183, style=ProgressStyle(description_width='initi…"
      ]
     },
     "metadata": {},
     "output_type": "display_data"
    },
    {
     "name": "stdout",
     "output_type": "stream",
     "text": [
      "Epoch 424/1000 Iteration: 77600 Avg. Training loss: 5.2944 0.0207 sec/batch\n",
      "Epoch 424/1000 Iteration: 77700 Avg. Training loss: 5.2173 0.2548 sec/batch\n"
     ]
    },
    {
     "data": {
      "application/vnd.jupyter.widget-view+json": {
       "model_id": "",
       "version_major": 2,
       "version_minor": 0
      },
      "text/plain": [
       "HBox(children=(IntProgress(value=0, description='Batch', max=183, style=ProgressStyle(description_width='initi…"
      ]
     },
     "metadata": {},
     "output_type": "display_data"
    },
    {
     "name": "stdout",
     "output_type": "stream",
     "text": [
      "Epoch 425/1000 Iteration: 77800 Avg. Training loss: 5.1418 0.0639 sec/batch\n",
      "Epoch 425/1000 Iteration: 77900 Avg. Training loss: 5.4113 0.2545 sec/batch\n"
     ]
    },
    {
     "data": {
      "application/vnd.jupyter.widget-view+json": {
       "model_id": "",
       "version_major": 2,
       "version_minor": 0
      },
      "text/plain": [
       "HBox(children=(IntProgress(value=0, description='Batch', max=183, style=ProgressStyle(description_width='initi…"
      ]
     },
     "metadata": {},
     "output_type": "display_data"
    },
    {
     "name": "stdout",
     "output_type": "stream",
     "text": [
      "Epoch 426/1000 Iteration: 78000 Avg. Training loss: 5.3559 0.1076 sec/batch\n",
      "Nearest to de: também, ., em, a, ,, do, e, da,\n",
      "Nearest to pessoas: menos, desse, grande, que, delas, elas, há, jovens,\n",
      "Nearest to ainda: que, porém, já, mas, entanto, o, mesmo, agora,\n",
      "Nearest to foram: serem, serão, seriam, estavam, eram, forem, quais, fossem,\n",
      "Nearest to paulo: são, sp, paulista, de, campinas, alckmin, no, .,\n",
      "Nearest to não: mas, que, só, ainda, porque, pois, assim, entanto,\n",
      "Nearest to sua: para, própria, notícia, a, isso, mensagem, dúvida, mesmo,\n",
      "Nearest to uma: a, outra, numa, essa, à, dessa, parte, toda,\n",
      "Nearest to palácio: planalto, alvorada, jaburu, peemedebista, temer, esplanada, assessores, rousseff,\n",
      "Nearest to década: meados, 0000, desde, anos, décadas, últimos, 0000-, começo,\n",
      "Nearest to estratégia: tentar, tática, a, ideia, tentativa, estratégias, uma, buscou,\n",
      "Nearest to negócio: empresa, negócios, aquisição, investir, potencial, desse, esse, interesse,\n",
      "Nearest to seguinte: dia, publicadas, sempre, antes, agora, fim, no, meio,\n",
      "Nearest to livros: didáticos, literatura, romances, editoras, textos, best-sellers, catálogo, leitura,\n",
      "Nearest to mortes: óbitos, anúncios, missas, veja, acidentes, assassinatos, letalidade, homicídios,\n",
      "Nearest to filmes: cinema, filme, estúdios, produções, cinemas, exibição, longa-metragem, longa,\n",
      "Epoch 426/1000 Iteration: 78100 Avg. Training loss: 5.3411 0.2639 sec/batch\n"
     ]
    },
    {
     "data": {
      "application/vnd.jupyter.widget-view+json": {
       "model_id": "",
       "version_major": 2,
       "version_minor": 0
      },
      "text/plain": [
       "HBox(children=(IntProgress(value=0, description='Batch', max=183, style=ProgressStyle(description_width='initi…"
      ]
     },
     "metadata": {},
     "output_type": "display_data"
    },
    {
     "name": "stdout",
     "output_type": "stream",
     "text": [
      "Epoch 427/1000 Iteration: 78200 Avg. Training loss: 5.2649 0.1505 sec/batch\n",
      "Epoch 427/1000 Iteration: 78300 Avg. Training loss: 5.3179 0.2549 sec/batch\n"
     ]
    },
    {
     "data": {
      "application/vnd.jupyter.widget-view+json": {
       "model_id": "",
       "version_major": 2,
       "version_minor": 0
      },
      "text/plain": [
       "HBox(children=(IntProgress(value=0, description='Batch', max=183, style=ProgressStyle(description_width='initi…"
      ]
     },
     "metadata": {},
     "output_type": "display_data"
    },
    {
     "name": "stdout",
     "output_type": "stream",
     "text": [
      "Epoch 428/1000 Iteration: 78400 Avg. Training loss: 5.3994 0.1939 sec/batch\n",
      "Epoch 428/1000 Iteration: 78500 Avg. Training loss: 5.1286 0.2542 sec/batch\n"
     ]
    },
    {
     "data": {
      "application/vnd.jupyter.widget-view+json": {
       "model_id": "",
       "version_major": 2,
       "version_minor": 0
      },
      "text/plain": [
       "HBox(children=(IntProgress(value=0, description='Batch', max=183, style=ProgressStyle(description_width='initi…"
      ]
     },
     "metadata": {},
     "output_type": "display_data"
    },
    {
     "name": "stdout",
     "output_type": "stream",
     "text": [
      "Epoch 429/1000 Iteration: 78600 Avg. Training loss: 5.1654 0.2389 sec/batch\n"
     ]
    },
    {
     "data": {
      "application/vnd.jupyter.widget-view+json": {
       "model_id": "",
       "version_major": 2,
       "version_minor": 0
      },
      "text/plain": [
       "HBox(children=(IntProgress(value=0, description='Batch', max=183, style=ProgressStyle(description_width='initi…"
      ]
     },
     "metadata": {},
     "output_type": "display_data"
    },
    {
     "name": "stdout",
     "output_type": "stream",
     "text": [
      "Epoch 430/1000 Iteration: 78700 Avg. Training loss: 5.3670 0.0256 sec/batch\n",
      "Epoch 430/1000 Iteration: 78800 Avg. Training loss: 5.3649 0.2551 sec/batch\n"
     ]
    },
    {
     "data": {
      "application/vnd.jupyter.widget-view+json": {
       "model_id": "",
       "version_major": 2,
       "version_minor": 0
      },
      "text/plain": [
       "HBox(children=(IntProgress(value=0, description='Batch', max=183, style=ProgressStyle(description_width='initi…"
      ]
     },
     "metadata": {},
     "output_type": "display_data"
    },
    {
     "name": "stdout",
     "output_type": "stream",
     "text": [
      "Epoch 431/1000 Iteration: 78900 Avg. Training loss: 5.3262 0.0700 sec/batch\n",
      "Epoch 431/1000 Iteration: 79000 Avg. Training loss: 5.3047 0.2560 sec/batch\n",
      "Nearest to no: ., o, em, do, ainda, último, após, e,\n",
      "Nearest to que: ainda, já, também, ele, ., não, mas, ,,\n",
      "Nearest to -: 0, hoje, 0º, 00h00, ), 00, ., segunda,\n",
      "Nearest to ainda: que, porém, já, mas, entanto, o, agora, .,\n",
      "Nearest to às: 00h, dia, sexta, das, hoje, domingo, volta, sábado,\n",
      "Nearest to 00: 0, em, até, quinta-feira, neste, nesta, ), (,\n",
      "Nearest to diz: afirma, que, disse, conta, mas, ., ainda, também,\n",
      "Nearest to sua: para, própria, notícia, a, isso, mensagem, uma, dela,\n",
      "Nearest to ambos: dois, entre, outros, os, também, eles, opostos, e,\n",
      "Nearest to provas: prova, evidências, alegações, obtidas, informações, materialidade, acusações, instrução,\n",
      "Nearest to amigo: ele, outro, família, o, amigos, deles, um, mas,\n",
      "Nearest to negócio: empresa, negócios, investir, aquisição, que, mercado, porque, mas,\n",
      "Nearest to instituição: financeira, administração, instituições, pública, banco, política, a, básica,\n",
      "Nearest to investidores: mercados, volatilidade, financeiros, cautela, mercado, ativos, investidor, otimismo,\n",
      "Nearest to recuperação: melhora, retomada, judicial, ainda, crescimento, recuperar, impulsionar, econômica,\n",
      "Nearest to nossos: seus, mesmos, os, todos, vemos, temos, nosso, esses,\n"
     ]
    },
    {
     "data": {
      "application/vnd.jupyter.widget-view+json": {
       "model_id": "",
       "version_major": 2,
       "version_minor": 0
      },
      "text/plain": [
       "HBox(children=(IntProgress(value=0, description='Batch', max=183, style=ProgressStyle(description_width='initi…"
      ]
     },
     "metadata": {},
     "output_type": "display_data"
    },
    {
     "name": "stdout",
     "output_type": "stream",
     "text": [
      "Epoch 432/1000 Iteration: 79100 Avg. Training loss: 5.3700 0.1124 sec/batch\n",
      "Epoch 432/1000 Iteration: 79200 Avg. Training loss: 5.2626 0.2555 sec/batch\n"
     ]
    },
    {
     "data": {
      "application/vnd.jupyter.widget-view+json": {
       "model_id": "",
       "version_major": 2,
       "version_minor": 0
      },
      "text/plain": [
       "HBox(children=(IntProgress(value=0, description='Batch', max=183, style=ProgressStyle(description_width='initi…"
      ]
     },
     "metadata": {},
     "output_type": "display_data"
    },
    {
     "name": "stdout",
     "output_type": "stream",
     "text": [
      "Epoch 433/1000 Iteration: 79300 Avg. Training loss: 5.1662 0.1554 sec/batch\n",
      "Epoch 433/1000 Iteration: 79400 Avg. Training loss: 5.2479 0.2561 sec/batch\n"
     ]
    },
    {
     "data": {
      "application/vnd.jupyter.widget-view+json": {
       "model_id": "",
       "version_major": 2,
       "version_minor": 0
      },
      "text/plain": [
       "HBox(children=(IntProgress(value=0, description='Batch', max=183, style=ProgressStyle(description_width='initi…"
      ]
     },
     "metadata": {},
     "output_type": "display_data"
    },
    {
     "name": "stdout",
     "output_type": "stream",
     "text": [
      "Epoch 434/1000 Iteration: 79500 Avg. Training loss: 5.2542 0.2000 sec/batch\n",
      "Epoch 434/1000 Iteration: 79600 Avg. Training loss: 5.5497 0.2556 sec/batch\n"
     ]
    },
    {
     "data": {
      "application/vnd.jupyter.widget-view+json": {
       "model_id": "",
       "version_major": 2,
       "version_minor": 0
      },
      "text/plain": [
       "HBox(children=(IntProgress(value=0, description='Batch', max=183, style=ProgressStyle(description_width='initi…"
      ]
     },
     "metadata": {},
     "output_type": "display_data"
    },
    {
     "name": "stdout",
     "output_type": "stream",
     "text": [
      "Epoch 435/1000 Iteration: 79700 Avg. Training loss: 5.3272 0.2428 sec/batch\n"
     ]
    },
    {
     "data": {
      "application/vnd.jupyter.widget-view+json": {
       "model_id": "",
       "version_major": 2,
       "version_minor": 0
      },
      "text/plain": [
       "HBox(children=(IntProgress(value=0, description='Batch', max=183, style=ProgressStyle(description_width='initi…"
      ]
     },
     "metadata": {},
     "output_type": "display_data"
    },
    {
     "name": "stdout",
     "output_type": "stream",
     "text": [
      "Epoch 436/1000 Iteration: 79800 Avg. Training loss: 5.2789 0.0312 sec/batch\n",
      "Epoch 436/1000 Iteration: 79900 Avg. Training loss: 5.4154 0.2558 sec/batch\n"
     ]
    },
    {
     "data": {
      "application/vnd.jupyter.widget-view+json": {
       "model_id": "",
       "version_major": 2,
       "version_minor": 0
      },
      "text/plain": [
       "HBox(children=(IntProgress(value=0, description='Batch', max=183, style=ProgressStyle(description_width='initi…"
      ]
     },
     "metadata": {},
     "output_type": "display_data"
    },
    {
     "name": "stdout",
     "output_type": "stream",
     "text": [
      "Epoch 437/1000 Iteration: 80000 Avg. Training loss: 5.3824 0.0735 sec/batch\n",
      "Nearest to seus: os, outros, próprios, dos, alguns, esses, todos, desses,\n",
      "Nearest to pela: a, pelo, parte, foi, da, vez, na, por,\n",
      "Nearest to disse: afirmou, reiterou, ressaltou, acrescentou, dizendo, declarou, falou, acrescentando,\n",
      "Nearest to sobre: também, no, na, a, em, o, ainda, de,\n",
      "Nearest to só: mas, agora, não, mesmo, até, que, já, ainda,\n",
      "Nearest to para: a, ., também, de, ainda, com, o, em,\n",
      "Nearest to dos: os, outros, de, alguns, também, desses, do, principalmente,\n",
      "Nearest to era: fosse, tinha, foi, fazia, ele, sabia, que, naquele,\n",
      "Nearest to escreveu: publicou, ,, referindo-se, ], dizia, presente, criticando, dizendo,\n",
      "Nearest to global: aquecimento, climática, recente, globais, estufa, climático, impacto, avalia,\n",
      "Nearest to conversa: conversas, gravação, áudio, gravada, diálogo, fala, transcrição, conversar,\n",
      "Nearest to depoimento: prestado, prestar, prestou, depor, esclarecer, pf, testemunha, depoimentos,\n",
      "Nearest to bairro: bairros, cidade, entorno, oeste, morava, zona, residencial, morador,\n",
      "Nearest to provas: prova, evidências, alegações, obtidas, instrução, acusações, condenação, informações,\n",
      "Nearest to filmes: cinema, filme, cinemas, exibição, produções, cineastas, estúdios, longa-metragem,\n",
      "Nearest to mínimo: salário, máximo, valor, benefício, gasto, fixado, ganham, custo,\n",
      "Epoch 437/1000 Iteration: 80100 Avg. Training loss: 5.0757 0.2637 sec/batch\n"
     ]
    },
    {
     "data": {
      "application/vnd.jupyter.widget-view+json": {
       "model_id": "",
       "version_major": 2,
       "version_minor": 0
      },
      "text/plain": [
       "HBox(children=(IntProgress(value=0, description='Batch', max=183, style=ProgressStyle(description_width='initi…"
      ]
     },
     "metadata": {},
     "output_type": "display_data"
    },
    {
     "name": "stdout",
     "output_type": "stream",
     "text": [
      "Epoch 438/1000 Iteration: 80200 Avg. Training loss: 5.2813 0.1172 sec/batch\n",
      "Epoch 438/1000 Iteration: 80300 Avg. Training loss: 5.2508 0.2549 sec/batch\n"
     ]
    },
    {
     "data": {
      "application/vnd.jupyter.widget-view+json": {
       "model_id": "",
       "version_major": 2,
       "version_minor": 0
      },
      "text/plain": [
       "HBox(children=(IntProgress(value=0, description='Batch', max=183, style=ProgressStyle(description_width='initi…"
      ]
     },
     "metadata": {},
     "output_type": "display_data"
    },
    {
     "name": "stdout",
     "output_type": "stream",
     "text": [
      "Epoch 439/1000 Iteration: 80400 Avg. Training loss: 5.2434 0.1610 sec/batch\n",
      "Epoch 439/1000 Iteration: 80500 Avg. Training loss: 5.2841 0.2549 sec/batch\n"
     ]
    },
    {
     "data": {
      "application/vnd.jupyter.widget-view+json": {
       "model_id": "",
       "version_major": 2,
       "version_minor": 0
      },
      "text/plain": [
       "HBox(children=(IntProgress(value=0, description='Batch', max=183, style=ProgressStyle(description_width='initi…"
      ]
     },
     "metadata": {},
     "output_type": "display_data"
    },
    {
     "name": "stdout",
     "output_type": "stream",
     "text": [
      "Epoch 440/1000 Iteration: 80600 Avg. Training loss: 5.2149 0.2036 sec/batch\n",
      "Epoch 440/1000 Iteration: 80700 Avg. Training loss: 5.0538 0.2545 sec/batch\n"
     ]
    },
    {
     "data": {
      "application/vnd.jupyter.widget-view+json": {
       "model_id": "",
       "version_major": 2,
       "version_minor": 0
      },
      "text/plain": [
       "HBox(children=(IntProgress(value=0, description='Batch', max=183, style=ProgressStyle(description_width='initi…"
      ]
     },
     "metadata": {},
     "output_type": "display_data"
    },
    {
     "name": "stdout",
     "output_type": "stream",
     "text": [
      "Epoch 441/1000 Iteration: 80800 Avg. Training loss: 5.5537 0.2475 sec/batch\n"
     ]
    },
    {
     "data": {
      "application/vnd.jupyter.widget-view+json": {
       "model_id": "",
       "version_major": 2,
       "version_minor": 0
      },
      "text/plain": [
       "HBox(children=(IntProgress(value=0, description='Batch', max=183, style=ProgressStyle(description_width='initi…"
      ]
     },
     "metadata": {},
     "output_type": "display_data"
    },
    {
     "name": "stdout",
     "output_type": "stream",
     "text": [
      "Epoch 442/1000 Iteration: 80900 Avg. Training loss: 5.2702 0.0356 sec/batch\n",
      "Epoch 442/1000 Iteration: 81000 Avg. Training loss: 5.0250 0.2570 sec/batch\n",
      "Nearest to nesta: terça-feira, quinta-feira, quarta-feira, segunda-feira, sexta-feira, terça, quinta, quarta,\n",
      "Nearest to :: como, sem, ?, ., só, ;, ,, agora,\n",
      "Nearest to -: hoje, 0, ., e, ,, 0º, março, sábado,\n",
      "Nearest to pela: pelo, a, foi, parte, da, por, na, vez,\n",
      "Nearest to a: ., à, uma, vez, de, que, da, ,,\n",
      "Nearest to (: ), 00, nesta, quinta-feira, ., quarta-feira, terça-feira, e,\n",
      "Nearest to também: em, que, como, ainda, já, de, e, ,,\n",
      "Nearest to país: que, maior, é, do, principalmente, especialmente, governo, todo,\n",
      "Nearest to filmes: cinema, filme, cinemas, produções, longa-metragem, cineasta, cineastas, exibição,\n",
      "Nearest to veio: levou, logo, fez, trouxe, deu, depois, surgiu, começo,\n",
      "Nearest to instituição: financeira, instituições, administração, pública, banco, a, política, situação,\n",
      "Nearest to palácio: planalto, alvorada, jaburu, peemedebista, temer, encontro, assessores, rousseff,\n",
      "Nearest to negócio: empresa, investir, negócios, aquisição, empresas, que, interesse, negociação,\n",
      "Nearest to provas: prova, evidências, obtidas, alegações, acusações, materialidade, instrução, indícios,\n",
      "Nearest to emprego: trabalho, empregos, desemprego, desempregados, crescimento, carteira, estabilidade, trabalhar,\n",
      "Nearest to lima: abreu, márcio, faria, vieira, refinaria, pernambuco, araújo, geddel,\n"
     ]
    },
    {
     "data": {
      "application/vnd.jupyter.widget-view+json": {
       "model_id": "",
       "version_major": 2,
       "version_minor": 0
      },
      "text/plain": [
       "HBox(children=(IntProgress(value=0, description='Batch', max=183, style=ProgressStyle(description_width='initi…"
      ]
     },
     "metadata": {},
     "output_type": "display_data"
    },
    {
     "name": "stdout",
     "output_type": "stream",
     "text": [
      "Epoch 443/1000 Iteration: 81100 Avg. Training loss: 5.2655 0.0789 sec/batch\n",
      "Epoch 443/1000 Iteration: 81200 Avg. Training loss: 5.3818 0.2546 sec/batch\n"
     ]
    },
    {
     "data": {
      "application/vnd.jupyter.widget-view+json": {
       "model_id": "",
       "version_major": 2,
       "version_minor": 0
      },
      "text/plain": [
       "HBox(children=(IntProgress(value=0, description='Batch', max=183, style=ProgressStyle(description_width='initi…"
      ]
     },
     "metadata": {},
     "output_type": "display_data"
    },
    {
     "name": "stdout",
     "output_type": "stream",
     "text": [
      "Epoch 444/1000 Iteration: 81300 Avg. Training loss: 5.2933 0.1230 sec/batch\n",
      "Epoch 444/1000 Iteration: 81400 Avg. Training loss: 5.2364 0.2556 sec/batch\n"
     ]
    },
    {
     "data": {
      "application/vnd.jupyter.widget-view+json": {
       "model_id": "",
       "version_major": 2,
       "version_minor": 0
      },
      "text/plain": [
       "HBox(children=(IntProgress(value=0, description='Batch', max=183, style=ProgressStyle(description_width='initi…"
      ]
     },
     "metadata": {},
     "output_type": "display_data"
    },
    {
     "name": "stdout",
     "output_type": "stream",
     "text": [
      "Epoch 445/1000 Iteration: 81500 Avg. Training loss: 5.4110 0.1655 sec/batch\n",
      "Epoch 445/1000 Iteration: 81600 Avg. Training loss: 5.0829 0.2555 sec/batch\n"
     ]
    },
    {
     "data": {
      "application/vnd.jupyter.widget-view+json": {
       "model_id": "",
       "version_major": 2,
       "version_minor": 0
      },
      "text/plain": [
       "HBox(children=(IntProgress(value=0, description='Batch', max=183, style=ProgressStyle(description_width='initi…"
      ]
     },
     "metadata": {},
     "output_type": "display_data"
    },
    {
     "name": "stdout",
     "output_type": "stream",
     "text": [
      "Epoch 446/1000 Iteration: 81700 Avg. Training loss: 5.1167 0.2084 sec/batch\n",
      "Epoch 446/1000 Iteration: 81800 Avg. Training loss: 5.2358 0.2545 sec/batch\n"
     ]
    },
    {
     "data": {
      "application/vnd.jupyter.widget-view+json": {
       "model_id": "",
       "version_major": 2,
       "version_minor": 0
      },
      "text/plain": [
       "HBox(children=(IntProgress(value=0, description='Batch', max=183, style=ProgressStyle(description_width='initi…"
      ]
     },
     "metadata": {},
     "output_type": "display_data"
    },
    {
     "name": "stdout",
     "output_type": "stream",
     "text": [
      "Epoch 447/1000 Iteration: 81900 Avg. Training loss: 5.3311 0.2534 sec/batch\n"
     ]
    },
    {
     "data": {
      "application/vnd.jupyter.widget-view+json": {
       "model_id": "",
       "version_major": 2,
       "version_minor": 0
      },
      "text/plain": [
       "HBox(children=(IntProgress(value=0, description='Batch', max=183, style=ProgressStyle(description_width='initi…"
      ]
     },
     "metadata": {},
     "output_type": "display_data"
    },
    {
     "name": "stdout",
     "output_type": "stream",
     "text": [
      "Epoch 448/1000 Iteration: 82000 Avg. Training loss: 5.4551 0.0408 sec/batch\n",
      "Nearest to por: e, também, que, já, ., de, pelo, como,\n",
      "Nearest to mesmo: ainda, só, apenas, que, já, o, entanto, .,\n",
      "Nearest to que: ainda, já, também, ., ele, mas, o, mesmo,\n",
      "Nearest to .: ,, e, de, em, a, no, o, que,\n",
      "Nearest to no: ., o, último, do, em, e, na, neste,\n",
      "Nearest to ele: que, mas, ainda, qual, o, já, não, também,\n",
      "Nearest to de: em, ., também, a, e, ,, além, que,\n",
      "Nearest to ou: podem, isso, para, os, seja, sua, demais, .,\n",
      "Nearest to entrou: entrará, entrar, fez, levou, entrarem, em, entra, no,\n",
      "Nearest to santa: catarina, cruz, fe, luzia, cecília, paraná, goiás, misericórdia,\n",
      "Nearest to luz: energia, escuridão, gerada, reduzida, eletricidade, linhas, também, e,\n",
      "Nearest to data: datas, término, esta, fim, antes, ocorrerá, deve, será,\n",
      "Nearest to conversa: conversas, gravação, áudio, gravada, gravações, conversar, transcrição, falou,\n",
      "Nearest to artista: exposição, plástica, plástico, pinturas, artistas, fotografias, mostras, curadoria,\n",
      "Nearest to sede: em, próximo, na, oficialmente, próxima, ocorreu, reunião, encontro,\n",
      "Nearest to quero: posso, vou, vai, puder, preciso, espero, possa, obrigado,\n",
      "Epoch 448/1000 Iteration: 82100 Avg. Training loss: 5.2227 0.2671 sec/batch\n"
     ]
    },
    {
     "data": {
      "application/vnd.jupyter.widget-view+json": {
       "model_id": "",
       "version_major": 2,
       "version_minor": 0
      },
      "text/plain": [
       "HBox(children=(IntProgress(value=0, description='Batch', max=183, style=ProgressStyle(description_width='initi…"
      ]
     },
     "metadata": {},
     "output_type": "display_data"
    },
    {
     "name": "stdout",
     "output_type": "stream",
     "text": [
      "Epoch 449/1000 Iteration: 82200 Avg. Training loss: 5.1026 0.0851 sec/batch\n",
      "Epoch 449/1000 Iteration: 82300 Avg. Training loss: 5.0304 0.2548 sec/batch\n"
     ]
    },
    {
     "data": {
      "application/vnd.jupyter.widget-view+json": {
       "model_id": "",
       "version_major": 2,
       "version_minor": 0
      },
      "text/plain": [
       "HBox(children=(IntProgress(value=0, description='Batch', max=183, style=ProgressStyle(description_width='initi…"
      ]
     },
     "metadata": {},
     "output_type": "display_data"
    },
    {
     "name": "stdout",
     "output_type": "stream",
     "text": [
      "Epoch 450/1000 Iteration: 82400 Avg. Training loss: 5.1119 0.1279 sec/batch\n",
      "Epoch 450/1000 Iteration: 82500 Avg. Training loss: 5.1555 0.2552 sec/batch\n"
     ]
    },
    {
     "data": {
      "application/vnd.jupyter.widget-view+json": {
       "model_id": "",
       "version_major": 2,
       "version_minor": 0
      },
      "text/plain": [
       "HBox(children=(IntProgress(value=0, description='Batch', max=183, style=ProgressStyle(description_width='initi…"
      ]
     },
     "metadata": {},
     "output_type": "display_data"
    },
    {
     "name": "stdout",
     "output_type": "stream",
     "text": [
      "Epoch 451/1000 Iteration: 82600 Avg. Training loss: 5.1318 0.1705 sec/batch\n",
      "Epoch 451/1000 Iteration: 82700 Avg. Training loss: 5.3570 0.2558 sec/batch\n"
     ]
    },
    {
     "data": {
      "application/vnd.jupyter.widget-view+json": {
       "model_id": "",
       "version_major": 2,
       "version_minor": 0
      },
      "text/plain": [
       "HBox(children=(IntProgress(value=0, description='Batch', max=183, style=ProgressStyle(description_width='initi…"
      ]
     },
     "metadata": {},
     "output_type": "display_data"
    },
    {
     "name": "stdout",
     "output_type": "stream",
     "text": [
      "Epoch 452/1000 Iteration: 82800 Avg. Training loss: 5.2045 0.2141 sec/batch\n"
     ]
    },
    {
     "data": {
      "application/vnd.jupyter.widget-view+json": {
       "model_id": "",
       "version_major": 2,
       "version_minor": 0
      },
      "text/plain": [
       "HBox(children=(IntProgress(value=0, description='Batch', max=183, style=ProgressStyle(description_width='initi…"
      ]
     },
     "metadata": {},
     "output_type": "display_data"
    },
    {
     "name": "stdout",
     "output_type": "stream",
     "text": [
      "Epoch 453/1000 Iteration: 82900 Avg. Training loss: 5.2603 0.0028 sec/batch\n",
      "Epoch 453/1000 Iteration: 83000 Avg. Training loss: 5.2293 0.2544 sec/batch\n",
      "Nearest to pessoas: menos, delas, deles, elas, que, um, outras, cerca,\n",
      "Nearest to no: ., o, último, do, em, após, neste, na,\n",
      "Nearest to uma: a, essa, à, outra, parte, na, dessa, da,\n",
      "Nearest to 0: 00, sexta, sexta-feira, quarta, neste, sábado, domingo, quinta,\n",
      "Nearest to mesmo: ainda, só, já, apenas, o, que, entanto, mas,\n",
      "Nearest to a: à, ., da, uma, de, também, que, na,\n",
      "Nearest to ?: sabe, acha, não, você, quer, agora, só, afinal,\n",
      "Nearest to 00: 0, em, até, quarta, 000, de, sexta-feira, neste,\n",
      "Nearest to unido: reino, brexit, ue, europeia, britânicos, permanência, saída, britânica,\n",
      "Nearest to demanda: oferta, reflexo, melhora, principalmente, expansão, entanto, atender, interno,\n",
      "Nearest to explica: afirma, diz, observa, possível, assim, impede, acordo, presente,\n",
      "Nearest to |: grátis, sexta, prevenir, 0h, 00h, sarau, recreart, quarta,\n",
      "Nearest to filmes: cinema, filme, produções, cineastas, cinemas, estúdios, longa-metragem, cineasta,\n",
      "Nearest to vê: acha, ainda, da, que, depende, faz, ,, considera,\n",
      "Nearest to diferença: mesmo, mas, apenas, segundo, menos, somente, vencer, atual,\n",
      "Nearest to mortes: óbitos, acidentes, anúncios, assassinatos, homicídios, missas, estatísticas, confirmadas,\n"
     ]
    },
    {
     "data": {
      "application/vnd.jupyter.widget-view+json": {
       "model_id": "",
       "version_major": 2,
       "version_minor": 0
      },
      "text/plain": [
       "HBox(children=(IntProgress(value=0, description='Batch', max=183, style=ProgressStyle(description_width='initi…"
      ]
     },
     "metadata": {},
     "output_type": "display_data"
    },
    {
     "name": "stdout",
     "output_type": "stream",
     "text": [
      "Epoch 454/1000 Iteration: 83100 Avg. Training loss: 5.1811 0.0463 sec/batch\n",
      "Epoch 454/1000 Iteration: 83200 Avg. Training loss: 5.3443 0.2547 sec/batch\n"
     ]
    },
    {
     "data": {
      "application/vnd.jupyter.widget-view+json": {
       "model_id": "",
       "version_major": 2,
       "version_minor": 0
      },
      "text/plain": [
       "HBox(children=(IntProgress(value=0, description='Batch', max=183, style=ProgressStyle(description_width='initi…"
      ]
     },
     "metadata": {},
     "output_type": "display_data"
    },
    {
     "name": "stdout",
     "output_type": "stream",
     "text": [
      "Epoch 455/1000 Iteration: 83300 Avg. Training loss: 5.1369 0.0897 sec/batch\n",
      "Epoch 455/1000 Iteration: 83400 Avg. Training loss: 5.6035 0.2554 sec/batch\n"
     ]
    },
    {
     "data": {
      "application/vnd.jupyter.widget-view+json": {
       "model_id": "",
       "version_major": 2,
       "version_minor": 0
      },
      "text/plain": [
       "HBox(children=(IntProgress(value=0, description='Batch', max=183, style=ProgressStyle(description_width='initi…"
      ]
     },
     "metadata": {},
     "output_type": "display_data"
    },
    {
     "name": "stdout",
     "output_type": "stream",
     "text": [
      "Epoch 456/1000 Iteration: 83500 Avg. Training loss: 5.1940 0.1326 sec/batch\n",
      "Epoch 456/1000 Iteration: 83600 Avg. Training loss: 5.2698 0.2558 sec/batch\n"
     ]
    },
    {
     "data": {
      "application/vnd.jupyter.widget-view+json": {
       "model_id": "",
       "version_major": 2,
       "version_minor": 0
      },
      "text/plain": [
       "HBox(children=(IntProgress(value=0, description='Batch', max=183, style=ProgressStyle(description_width='initi…"
      ]
     },
     "metadata": {},
     "output_type": "display_data"
    },
    {
     "name": "stdout",
     "output_type": "stream",
     "text": [
      "Epoch 457/1000 Iteration: 83700 Avg. Training loss: 5.1619 0.1759 sec/batch\n",
      "Epoch 457/1000 Iteration: 83800 Avg. Training loss: 5.3021 0.2535 sec/batch\n"
     ]
    },
    {
     "data": {
      "application/vnd.jupyter.widget-view+json": {
       "model_id": "",
       "version_major": 2,
       "version_minor": 0
      },
      "text/plain": [
       "HBox(children=(IntProgress(value=0, description='Batch', max=183, style=ProgressStyle(description_width='initi…"
      ]
     },
     "metadata": {},
     "output_type": "display_data"
    },
    {
     "name": "stdout",
     "output_type": "stream",
     "text": [
      "Epoch 458/1000 Iteration: 83900 Avg. Training loss: 5.4835 0.2193 sec/batch\n"
     ]
    },
    {
     "data": {
      "application/vnd.jupyter.widget-view+json": {
       "model_id": "",
       "version_major": 2,
       "version_minor": 0
      },
      "text/plain": [
       "HBox(children=(IntProgress(value=0, description='Batch', max=183, style=ProgressStyle(description_width='initi…"
      ]
     },
     "metadata": {},
     "output_type": "display_data"
    },
    {
     "name": "stdout",
     "output_type": "stream",
     "text": [
      "Epoch 459/1000 Iteration: 84000 Avg. Training loss: 5.5012 0.0078 sec/batch\n",
      "Nearest to como: também, ., que, exemplo, ,, e, inclusive, por,\n",
      "Nearest to 000: 00, mil, cerca, 0.000, dobro, total, mais, no,\n",
      "Nearest to desde: início, passado, março, em, junho, maio, julho, 0000,\n",
      "Nearest to pela: pelo, a, da, foi, parte, na, qual, .,\n",
      "Nearest to se: pois, que, quem, ainda, ele, fato, mas, entanto,\n",
      "Nearest to à: a, também, da, de, que, parte, ., ainda,\n",
      "Nearest to era: fosse, foi, ele, seria, apenas, parte, tinha, naquele,\n",
      "Nearest to dos: os, do, de, alguns, outros, também, desses, têm,\n",
      "Nearest to filha: mãe, mulher, ela, avó, marido, família, dela, menina,\n",
      "Nearest to somente: apenas, mesmo, ainda, só, ., já, até, porém,\n",
      "Nearest to financiamento: financiar, privado, financiamentos, bancar, caixa, viabilizar, empréstimos, bndes,\n",
      "Nearest to profissionais: qualificados, médicos, qualificação, funcionários, profissional, trabalham, melhores, professores,\n",
      "Nearest to vídeos: fotos, comentários, conteúdo, acontecimentos, leitores, relevantes, enviando, notícias,\n",
      "Nearest to conversa: gravação, conversas, áudio, transcrição, gravada, diálogo, ouvir, conversar,\n",
      "Nearest to depoimento: prestou, prestado, prestar, pf, depoimentos, depor, esclarecimentos, testemunha,\n",
      "Nearest to parlamentares: congressistas, deputados, governistas, senadores, aliados, congresso, emendas, votação,\n",
      "Epoch 459/1000 Iteration: 84100 Avg. Training loss: 5.2312 0.2644 sec/batch\n"
     ]
    },
    {
     "data": {
      "application/vnd.jupyter.widget-view+json": {
       "model_id": "",
       "version_major": 2,
       "version_minor": 0
      },
      "text/plain": [
       "HBox(children=(IntProgress(value=0, description='Batch', max=183, style=ProgressStyle(description_width='initi…"
      ]
     },
     "metadata": {},
     "output_type": "display_data"
    },
    {
     "name": "stdout",
     "output_type": "stream",
     "text": [
      "Epoch 460/1000 Iteration: 84200 Avg. Training loss: 5.2538 0.0516 sec/batch\n",
      "Epoch 460/1000 Iteration: 84300 Avg. Training loss: 5.1270 0.2559 sec/batch\n"
     ]
    },
    {
     "data": {
      "application/vnd.jupyter.widget-view+json": {
       "model_id": "",
       "version_major": 2,
       "version_minor": 0
      },
      "text/plain": [
       "HBox(children=(IntProgress(value=0, description='Batch', max=183, style=ProgressStyle(description_width='initi…"
      ]
     },
     "metadata": {},
     "output_type": "display_data"
    },
    {
     "name": "stdout",
     "output_type": "stream",
     "text": [
      "Epoch 461/1000 Iteration: 84400 Avg. Training loss: 5.2805 0.0943 sec/batch\n",
      "Epoch 461/1000 Iteration: 84500 Avg. Training loss: 5.1278 0.2565 sec/batch\n"
     ]
    },
    {
     "data": {
      "application/vnd.jupyter.widget-view+json": {
       "model_id": "",
       "version_major": 2,
       "version_minor": 0
      },
      "text/plain": [
       "HBox(children=(IntProgress(value=0, description='Batch', max=183, style=ProgressStyle(description_width='initi…"
      ]
     },
     "metadata": {},
     "output_type": "display_data"
    },
    {
     "name": "stdout",
     "output_type": "stream",
     "text": [
      "Epoch 462/1000 Iteration: 84600 Avg. Training loss: 5.1292 0.1381 sec/batch\n",
      "Epoch 462/1000 Iteration: 84700 Avg. Training loss: 5.1793 0.2540 sec/batch\n"
     ]
    },
    {
     "data": {
      "application/vnd.jupyter.widget-view+json": {
       "model_id": "",
       "version_major": 2,
       "version_minor": 0
      },
      "text/plain": [
       "HBox(children=(IntProgress(value=0, description='Batch', max=183, style=ProgressStyle(description_width='initi…"
      ]
     },
     "metadata": {},
     "output_type": "display_data"
    },
    {
     "name": "stdout",
     "output_type": "stream",
     "text": [
      "Epoch 463/1000 Iteration: 84800 Avg. Training loss: 5.1384 0.1811 sec/batch\n",
      "Epoch 463/1000 Iteration: 84900 Avg. Training loss: 5.0858 0.2546 sec/batch\n"
     ]
    },
    {
     "data": {
      "application/vnd.jupyter.widget-view+json": {
       "model_id": "",
       "version_major": 2,
       "version_minor": 0
      },
      "text/plain": [
       "HBox(children=(IntProgress(value=0, description='Batch', max=183, style=ProgressStyle(description_width='initi…"
      ]
     },
     "metadata": {},
     "output_type": "display_data"
    },
    {
     "name": "stdout",
     "output_type": "stream",
     "text": [
      "Epoch 464/1000 Iteration: 85000 Avg. Training loss: 5.3107 0.2247 sec/batch\n",
      "Nearest to %: 00,0, 0,00, subiu, alta, 0,0, ante, recuou, recuo,\n",
      "Nearest to seu: próprio, o, um, ao, do, de, cujo, e,\n",
      "Nearest to até: ., só, agora, mesmo, em, ainda, já, início,\n",
      "Nearest to anos: meses, oito, últimos, cinco, depois, seis, dois, três,\n",
      "Nearest to há: ainda, ,, já, mas, de, mesmo, ., que,\n",
      "Nearest to as: das, essas, todas, mesmas, suas, algumas, outras, primeiras,\n",
      "Nearest to ser: foi, será, sido, pois, pelo, sendo, ter, seja,\n",
      "Nearest to de: em, ., a, do, e, também, ,, que,\n",
      "Nearest to diferença: apenas, mesmo, somente, menos, segundo, mas, maior, tem,\n",
      "Nearest to popular: populares, transformou, há, tornado, de, diretas, ,, como,\n",
      "Nearest to previsão: expectativa, esperada, prevista, deve, ainda, próximos, entanto, preveem,\n",
      "Nearest to palácio: planalto, alvorada, jaburu, peemedebista, temer, rousseff, encontro, dilma,\n",
      "Nearest to bairro: bairros, oeste, cidade, morador, morava, residencial, subúrbio, zona,\n",
      "Nearest to conhecido: considerado, famoso, chamado, do, tornou-se, formado, reconhecido, um,\n",
      "Nearest to amigo: ele, próprio, deles, dentro, mas, seu, um, outro,\n",
      "Nearest to internacionais: nacionais, eua, estrangeiras, país, estrangeiros, governos, internacional, exterior,\n"
     ]
    },
    {
     "data": {
      "application/vnd.jupyter.widget-view+json": {
       "model_id": "",
       "version_major": 2,
       "version_minor": 0
      },
      "text/plain": [
       "HBox(children=(IntProgress(value=0, description='Batch', max=183, style=ProgressStyle(description_width='initi…"
      ]
     },
     "metadata": {},
     "output_type": "display_data"
    },
    {
     "name": "stdout",
     "output_type": "stream",
     "text": [
      "Epoch 465/1000 Iteration: 85100 Avg. Training loss: 5.3944 0.0128 sec/batch\n",
      "Epoch 465/1000 Iteration: 85200 Avg. Training loss: 5.0677 0.2555 sec/batch\n"
     ]
    },
    {
     "data": {
      "application/vnd.jupyter.widget-view+json": {
       "model_id": "",
       "version_major": 2,
       "version_minor": 0
      },
      "text/plain": [
       "HBox(children=(IntProgress(value=0, description='Batch', max=183, style=ProgressStyle(description_width='initi…"
      ]
     },
     "metadata": {},
     "output_type": "display_data"
    },
    {
     "name": "stdout",
     "output_type": "stream",
     "text": [
      "Epoch 466/1000 Iteration: 85300 Avg. Training loss: 5.1994 0.0561 sec/batch\n",
      "Epoch 466/1000 Iteration: 85400 Avg. Training loss: 5.3259 0.2552 sec/batch\n"
     ]
    },
    {
     "data": {
      "application/vnd.jupyter.widget-view+json": {
       "model_id": "",
       "version_major": 2,
       "version_minor": 0
      },
      "text/plain": [
       "HBox(children=(IntProgress(value=0, description='Batch', max=183, style=ProgressStyle(description_width='initi…"
      ]
     },
     "metadata": {},
     "output_type": "display_data"
    },
    {
     "name": "stdout",
     "output_type": "stream",
     "text": [
      "Epoch 467/1000 Iteration: 85500 Avg. Training loss: 5.2903 0.1001 sec/batch\n",
      "Epoch 467/1000 Iteration: 85600 Avg. Training loss: 5.3035 0.2551 sec/batch\n"
     ]
    },
    {
     "data": {
      "application/vnd.jupyter.widget-view+json": {
       "model_id": "",
       "version_major": 2,
       "version_minor": 0
      },
      "text/plain": [
       "HBox(children=(IntProgress(value=0, description='Batch', max=183, style=ProgressStyle(description_width='initi…"
      ]
     },
     "metadata": {},
     "output_type": "display_data"
    },
    {
     "name": "stdout",
     "output_type": "stream",
     "text": [
      "Epoch 468/1000 Iteration: 85700 Avg. Training loss: 5.4907 0.1434 sec/batch\n",
      "Epoch 468/1000 Iteration: 85800 Avg. Training loss: 5.2444 0.2547 sec/batch\n"
     ]
    },
    {
     "data": {
      "application/vnd.jupyter.widget-view+json": {
       "model_id": "",
       "version_major": 2,
       "version_minor": 0
      },
      "text/plain": [
       "HBox(children=(IntProgress(value=0, description='Batch', max=183, style=ProgressStyle(description_width='initi…"
      ]
     },
     "metadata": {},
     "output_type": "display_data"
    },
    {
     "name": "stdout",
     "output_type": "stream",
     "text": [
      "Epoch 469/1000 Iteration: 85900 Avg. Training loss: 5.4200 0.1866 sec/batch\n",
      "Epoch 469/1000 Iteration: 86000 Avg. Training loss: 5.3080 0.2538 sec/batch\n",
      "Nearest to sua: própria, para, notícia, isso, a, dos, ou, à,\n",
      "Nearest to ,: ., e, já, que, também, em, apenas, a,\n",
      "Nearest to tem: é, tendo, de, possui, têm, mesmo, com, .,\n",
      "Nearest to e: com, ., ,, também, por, de, como, além,\n",
      "Nearest to dia: até, último, junho, fim, semana, início, antes, outubro,\n",
      "Nearest to por: e, também, ., de, que, em, já, ,,\n",
      "Nearest to à: a, também, da, ., de, que, parte, e,\n",
      "Nearest to entre: também, em, principalmente, ., ,, parte, de, do,\n",
      "Nearest to colocar: sair, fazer, deixar, retirar, levar, manter, trazer, buscar,\n",
      "Nearest to famílias: pessoas, crianças, jovens, pobres, moram, moradias, vivem, moradores,\n",
      "Nearest to financiamento: financiar, privado, financiamentos, caixa, bancar, empréstimos, bndes, viabilizar,\n",
      "Nearest to pf: polícia, operação, depoimento, investigado, investigação, documentos, deflagrada, federal,\n",
      "Nearest to encontrar: buscar, entender, trazer, achar, investir, procurar, fazer, sair,\n",
      "Nearest to internacionais: nacionais, estrangeiras, país, eua, internacional, externa, comerciais, estrangeiros,\n",
      "Nearest to unido: reino, brexit, ue, europeia, britânicos, britânica, permanência, inglaterra,\n",
      "Nearest to recuperação: retomada, judicial, melhora, recuperar, ainda, econômica, retomar, novamente,\n"
     ]
    },
    {
     "data": {
      "application/vnd.jupyter.widget-view+json": {
       "model_id": "",
       "version_major": 2,
       "version_minor": 0
      },
      "text/plain": [
       "HBox(children=(IntProgress(value=0, description='Batch', max=183, style=ProgressStyle(description_width='initi…"
      ]
     },
     "metadata": {},
     "output_type": "display_data"
    },
    {
     "name": "stdout",
     "output_type": "stream",
     "text": [
      "Epoch 470/1000 Iteration: 86100 Avg. Training loss: 5.3023 0.2308 sec/batch\n"
     ]
    },
    {
     "data": {
      "application/vnd.jupyter.widget-view+json": {
       "model_id": "",
       "version_major": 2,
       "version_minor": 0
      },
      "text/plain": [
       "HBox(children=(IntProgress(value=0, description='Batch', max=183, style=ProgressStyle(description_width='initi…"
      ]
     },
     "metadata": {},
     "output_type": "display_data"
    },
    {
     "name": "stdout",
     "output_type": "stream",
     "text": [
      "Epoch 471/1000 Iteration: 86200 Avg. Training loss: 5.3470 0.0179 sec/batch\n",
      "Epoch 471/1000 Iteration: 86300 Avg. Training loss: 5.1716 0.2540 sec/batch\n"
     ]
    },
    {
     "data": {
      "application/vnd.jupyter.widget-view+json": {
       "model_id": "",
       "version_major": 2,
       "version_minor": 0
      },
      "text/plain": [
       "HBox(children=(IntProgress(value=0, description='Batch', max=183, style=ProgressStyle(description_width='initi…"
      ]
     },
     "metadata": {},
     "output_type": "display_data"
    },
    {
     "name": "stdout",
     "output_type": "stream",
     "text": [
      "Epoch 472/1000 Iteration: 86400 Avg. Training loss: 5.1591 0.0613 sec/batch\n",
      "Epoch 472/1000 Iteration: 86500 Avg. Training loss: 5.4330 0.2554 sec/batch\n"
     ]
    },
    {
     "data": {
      "application/vnd.jupyter.widget-view+json": {
       "model_id": "",
       "version_major": 2,
       "version_minor": 0
      },
      "text/plain": [
       "HBox(children=(IntProgress(value=0, description='Batch', max=183, style=ProgressStyle(description_width='initi…"
      ]
     },
     "metadata": {},
     "output_type": "display_data"
    },
    {
     "name": "stdout",
     "output_type": "stream",
     "text": [
      "Epoch 473/1000 Iteration: 86600 Avg. Training loss: 5.2874 0.1044 sec/batch\n",
      "Epoch 473/1000 Iteration: 86700 Avg. Training loss: 5.3016 0.2551 sec/batch\n"
     ]
    },
    {
     "data": {
      "application/vnd.jupyter.widget-view+json": {
       "model_id": "",
       "version_major": 2,
       "version_minor": 0
      },
      "text/plain": [
       "HBox(children=(IntProgress(value=0, description='Batch', max=183, style=ProgressStyle(description_width='initi…"
      ]
     },
     "metadata": {},
     "output_type": "display_data"
    },
    {
     "name": "stdout",
     "output_type": "stream",
     "text": [
      "Epoch 474/1000 Iteration: 86800 Avg. Training loss: 5.1728 0.1479 sec/batch\n",
      "Epoch 474/1000 Iteration: 86900 Avg. Training loss: 5.3086 0.2548 sec/batch\n"
     ]
    },
    {
     "data": {
      "application/vnd.jupyter.widget-view+json": {
       "model_id": "",
       "version_major": 2,
       "version_minor": 0
      },
      "text/plain": [
       "HBox(children=(IntProgress(value=0, description='Batch', max=183, style=ProgressStyle(description_width='initi…"
      ]
     },
     "metadata": {},
     "output_type": "display_data"
    },
    {
     "name": "stdout",
     "output_type": "stream",
     "text": [
      "Epoch 475/1000 Iteration: 87000 Avg. Training loss: 5.3302 0.1918 sec/batch\n",
      "Nearest to é: tem, mas, ainda, do, parte, assim, para, pois,\n",
      "Nearest to mas: ainda, que, porém, não, só, assim, ., já,\n",
      "Nearest to pessoas: menos, jovens, elas, cada, desse, que, famílias, delas,\n",
      "Nearest to também: que, e, ainda, ., já, de, à, em,\n",
      "Nearest to ainda: que, já, entanto, porém, mas, ., também, apenas,\n",
      "Nearest to nesta: terça-feira, quinta-feira, segunda-feira, quarta-feira, sexta-feira, terça, quinta, sexta,\n",
      "Nearest to (: ), 00, nesta, terça-feira, segunda-feira, quinta-feira, ., e,\n",
      "Nearest to afirmou: disse, ressaltou, reiterou, ainda, reafirmou, à, defendeu, acrescentando,\n",
      "Nearest to simples: é, seja, ser, vez, somente, exemplo, a, e,\n",
      "Nearest to década: meados, desde, 0000, anos, passou, décadas, últimos, 0000-,\n",
      "Nearest to lima: vieira, abreu, araújo, faria, articulador, silva, geddel, márcio,\n",
      "Nearest to avenida: rua, avenidas, pedestres, ciclovia, marginal, consolação, ciclista, vias,\n",
      "Nearest to globo: tv, record, emissora, televisão, sbt, novela, canal, audiência,\n",
      "Nearest to garantir: assegurar, garantindo, manter, necessária, depende, preservar, dar, melhorar,\n",
      "Nearest to usuários: usuário, viciados, facebook, internet, cracolândia, telefonia, aplicativo, google,\n",
      "Nearest to atividade: desde, econômica, mesmo, economia, principalmente, evolução, melhora, ainda,\n",
      "Epoch 475/1000 Iteration: 87100 Avg. Training loss: 5.1785 0.2634 sec/batch\n"
     ]
    },
    {
     "data": {
      "application/vnd.jupyter.widget-view+json": {
       "model_id": "",
       "version_major": 2,
       "version_minor": 0
      },
      "text/plain": [
       "HBox(children=(IntProgress(value=0, description='Batch', max=183, style=ProgressStyle(description_width='initi…"
      ]
     },
     "metadata": {},
     "output_type": "display_data"
    },
    {
     "name": "stdout",
     "output_type": "stream",
     "text": [
      "Epoch 476/1000 Iteration: 87200 Avg. Training loss: 5.1546 0.2373 sec/batch\n"
     ]
    },
    {
     "data": {
      "application/vnd.jupyter.widget-view+json": {
       "model_id": "",
       "version_major": 2,
       "version_minor": 0
      },
      "text/plain": [
       "HBox(children=(IntProgress(value=0, description='Batch', max=183, style=ProgressStyle(description_width='initi…"
      ]
     },
     "metadata": {},
     "output_type": "display_data"
    },
    {
     "name": "stdout",
     "output_type": "stream",
     "text": [
      "Epoch 477/1000 Iteration: 87300 Avg. Training loss: 5.4289 0.0232 sec/batch\n",
      "Epoch 477/1000 Iteration: 87400 Avg. Training loss: 5.4475 0.2558 sec/batch\n"
     ]
    },
    {
     "data": {
      "application/vnd.jupyter.widget-view+json": {
       "model_id": "",
       "version_major": 2,
       "version_minor": 0
      },
      "text/plain": [
       "HBox(children=(IntProgress(value=0, description='Batch', max=183, style=ProgressStyle(description_width='initi…"
      ]
     },
     "metadata": {},
     "output_type": "display_data"
    },
    {
     "name": "stdout",
     "output_type": "stream",
     "text": [
      "Epoch 478/1000 Iteration: 87500 Avg. Training loss: 5.2141 0.0662 sec/batch\n",
      "Epoch 478/1000 Iteration: 87600 Avg. Training loss: 5.4615 0.2556 sec/batch\n"
     ]
    },
    {
     "data": {
      "application/vnd.jupyter.widget-view+json": {
       "model_id": "",
       "version_major": 2,
       "version_minor": 0
      },
      "text/plain": [
       "HBox(children=(IntProgress(value=0, description='Batch', max=183, style=ProgressStyle(description_width='initi…"
      ]
     },
     "metadata": {},
     "output_type": "display_data"
    },
    {
     "name": "stdout",
     "output_type": "stream",
     "text": [
      "Epoch 479/1000 Iteration: 87700 Avg. Training loss: 5.1987 0.1095 sec/batch\n",
      "Epoch 479/1000 Iteration: 87800 Avg. Training loss: 5.2907 0.2549 sec/batch\n"
     ]
    },
    {
     "data": {
      "application/vnd.jupyter.widget-view+json": {
       "model_id": "",
       "version_major": 2,
       "version_minor": 0
      },
      "text/plain": [
       "HBox(children=(IntProgress(value=0, description='Batch', max=183, style=ProgressStyle(description_width='initi…"
      ]
     },
     "metadata": {},
     "output_type": "display_data"
    },
    {
     "name": "stdout",
     "output_type": "stream",
     "text": [
      "Epoch 480/1000 Iteration: 87900 Avg. Training loss: 5.3547 0.1538 sec/batch\n",
      "Epoch 480/1000 Iteration: 88000 Avg. Training loss: 5.2883 0.2562 sec/batch\n",
      "Nearest to presidente: presidentes, presidência, ,, então, rousseff, renúncia, governo, ex-presidente,\n",
      "Nearest to tem: de, têm, é, só, ., e, parte, tendo,\n",
      "Nearest to 000: mil, cerca, 00, 0.000, dobro, mais, 00,0, total,\n",
      "Nearest to após: depois, em, antes, a, de, foi, no, início,\n",
      "Nearest to às: 00h, hoje, das, dia, domingo, sábado, 00h00, volta,\n",
      "Nearest to ter: teria, tenha, tendo, sido, terem, havia, teriam, tivesse,\n",
      "Nearest to pode: poderá, poderia, deve, possa, possível, vai, costuma, terá,\n",
      "Nearest to nesta: terça-feira, segunda-feira, quinta-feira, quarta-feira, sexta-feira, terça, quinta, sexta,\n",
      "Nearest to referência: vista, utilizado, usado, o, principal, tornou-se, do, citou,\n",
      "Nearest to década: meados, 0000, desde, anos, décadas, passou, últimos, depois,\n",
      "Nearest to tal: que, mas, é, a, porém, pois, seria, não,\n",
      "Nearest to discussão: questão, tema, proposta, uma, discutir, assunto, sobre, discussões,\n",
      "Nearest to comercial: utilizado, exterior, transações, balança, comércio, referência, usado, dólar,\n",
      "Nearest to profissionais: qualificados, qualificação, profissional, por, inclusive, médicos, técnicos, funcionários,\n",
      "Nearest to mar: mediterrâneo, praia, barco, travessia, embarcações, oceano, barcos, areia,\n",
      "Nearest to popular: populares, há, como, único, de, ,, existe, apenas,\n"
     ]
    },
    {
     "data": {
      "application/vnd.jupyter.widget-view+json": {
       "model_id": "",
       "version_major": 2,
       "version_minor": 0
      },
      "text/plain": [
       "HBox(children=(IntProgress(value=0, description='Batch', max=183, style=ProgressStyle(description_width='initi…"
      ]
     },
     "metadata": {},
     "output_type": "display_data"
    },
    {
     "name": "stdout",
     "output_type": "stream",
     "text": [
      "Epoch 481/1000 Iteration: 88100 Avg. Training loss: 5.2971 0.1987 sec/batch\n",
      "Epoch 481/1000 Iteration: 88200 Avg. Training loss: 5.2250 0.2567 sec/batch\n"
     ]
    },
    {
     "data": {
      "application/vnd.jupyter.widget-view+json": {
       "model_id": "",
       "version_major": 2,
       "version_minor": 0
      },
      "text/plain": [
       "HBox(children=(IntProgress(value=0, description='Batch', max=183, style=ProgressStyle(description_width='initi…"
      ]
     },
     "metadata": {},
     "output_type": "display_data"
    },
    {
     "name": "stdout",
     "output_type": "stream",
     "text": [
      "Epoch 482/1000 Iteration: 88300 Avg. Training loss: 5.1162 0.2398 sec/batch\n"
     ]
    },
    {
     "data": {
      "application/vnd.jupyter.widget-view+json": {
       "model_id": "",
       "version_major": 2,
       "version_minor": 0
      },
      "text/plain": [
       "HBox(children=(IntProgress(value=0, description='Batch', max=183, style=ProgressStyle(description_width='initi…"
      ]
     },
     "metadata": {},
     "output_type": "display_data"
    },
    {
     "name": "stdout",
     "output_type": "stream",
     "text": [
      "Epoch 483/1000 Iteration: 88400 Avg. Training loss: 5.3143 0.0289 sec/batch\n",
      "Epoch 483/1000 Iteration: 88500 Avg. Training loss: 5.3539 0.2559 sec/batch\n"
     ]
    },
    {
     "data": {
      "application/vnd.jupyter.widget-view+json": {
       "model_id": "",
       "version_major": 2,
       "version_minor": 0
      },
      "text/plain": [
       "HBox(children=(IntProgress(value=0, description='Batch', max=183, style=ProgressStyle(description_width='initi…"
      ]
     },
     "metadata": {},
     "output_type": "display_data"
    },
    {
     "name": "stdout",
     "output_type": "stream",
     "text": [
      "Epoch 484/1000 Iteration: 88600 Avg. Training loss: 5.3162 0.0717 sec/batch\n",
      "Epoch 484/1000 Iteration: 88700 Avg. Training loss: 5.5198 0.2550 sec/batch\n"
     ]
    },
    {
     "data": {
      "application/vnd.jupyter.widget-view+json": {
       "model_id": "",
       "version_major": 2,
       "version_minor": 0
      },
      "text/plain": [
       "HBox(children=(IntProgress(value=0, description='Batch', max=183, style=ProgressStyle(description_width='initi…"
      ]
     },
     "metadata": {},
     "output_type": "display_data"
    },
    {
     "name": "stdout",
     "output_type": "stream",
     "text": [
      "Epoch 485/1000 Iteration: 88800 Avg. Training loss: 5.0360 0.1146 sec/batch\n",
      "Epoch 485/1000 Iteration: 88900 Avg. Training loss: 5.4785 0.2548 sec/batch\n"
     ]
    },
    {
     "data": {
      "application/vnd.jupyter.widget-view+json": {
       "model_id": "",
       "version_major": 2,
       "version_minor": 0
      },
      "text/plain": [
       "HBox(children=(IntProgress(value=0, description='Batch', max=183, style=ProgressStyle(description_width='initi…"
      ]
     },
     "metadata": {},
     "output_type": "display_data"
    },
    {
     "name": "stdout",
     "output_type": "stream",
     "text": [
      "Epoch 486/1000 Iteration: 89000 Avg. Training loss: 5.2979 0.1583 sec/batch\n",
      "Nearest to disse: afirmou, reiterou, dizendo, acrescentando, afirmando, falou, acrescentou, reconheceu,\n",
      "Nearest to dois: outros, nove, três, oito, menos, os, deles, vários,\n",
      "Nearest to ela: dela, ele, mas, que, uma, quando, pois, não,\n",
      "Nearest to nesta: terça-feira, segunda-feira, quinta-feira, quarta-feira, sexta-feira, terça, quinta, sexta,\n",
      "Nearest to à: a, também, da, de, ., que, ,, parte,\n",
      "Nearest to estão: continuam, estariam, estavam, estejam, seguem, vêm, está, continuarão,\n",
      "Nearest to afirmou: disse, ressaltou, reiterou, reconheceu, defendeu, afirmando, ainda, à,\n",
      "Nearest to 0: 00, domingo, na, neste, sábado, sexta, última, quarta,\n",
      "Nearest to abrir: abriu, ampliar, abrirá, abrindo, colocar, ampliou, fechar, fazer,\n",
      "Nearest to lima: abreu, argumentou, geddel, de, refinaria, substituir, vieira, também,\n",
      "Nearest to provas: prova, alegações, obtidas, evidências, depoimentos, informações, acusações, alegação,\n",
      "Nearest to profissionais: qualificação, qualificados, profissional, melhores, médicos, por, funcionários, desafio,\n",
      "Nearest to demanda: oferta, entanto, principalmente, expansão, reflexo, atender, melhora, econômica,\n",
      "Nearest to estádio: arena, torcedores, maracanã, arquibancadas, engenhão, itaquerão, arquibancada, mineirão,\n",
      "Nearest to chefe: gabinete, ex-chefe, afirmou, chefia, indicou, departamento, segurança, disse,\n",
      "Nearest to aliados: aliado, parlamentares, peemedebista, aliada, governo, interlocutores, governistas, planalto,\n",
      "Epoch 486/1000 Iteration: 89100 Avg. Training loss: 5.3243 0.2643 sec/batch\n"
     ]
    },
    {
     "data": {
      "application/vnd.jupyter.widget-view+json": {
       "model_id": "",
       "version_major": 2,
       "version_minor": 0
      },
      "text/plain": [
       "HBox(children=(IntProgress(value=0, description='Batch', max=183, style=ProgressStyle(description_width='initi…"
      ]
     },
     "metadata": {},
     "output_type": "display_data"
    },
    {
     "name": "stdout",
     "output_type": "stream",
     "text": [
      "Epoch 487/1000 Iteration: 89200 Avg. Training loss: 5.2872 0.2019 sec/batch\n",
      "Epoch 487/1000 Iteration: 89300 Avg. Training loss: 5.1384 0.2557 sec/batch\n"
     ]
    },
    {
     "data": {
      "application/vnd.jupyter.widget-view+json": {
       "model_id": "",
       "version_major": 2,
       "version_minor": 0
      },
      "text/plain": [
       "HBox(children=(IntProgress(value=0, description='Batch', max=183, style=ProgressStyle(description_width='initi…"
      ]
     },
     "metadata": {},
     "output_type": "display_data"
    },
    {
     "name": "stdout",
     "output_type": "stream",
     "text": [
      "Epoch 488/1000 Iteration: 89400 Avg. Training loss: 5.3956 0.2448 sec/batch\n"
     ]
    },
    {
     "data": {
      "application/vnd.jupyter.widget-view+json": {
       "model_id": "",
       "version_major": 2,
       "version_minor": 0
      },
      "text/plain": [
       "HBox(children=(IntProgress(value=0, description='Batch', max=183, style=ProgressStyle(description_width='initi…"
      ]
     },
     "metadata": {},
     "output_type": "display_data"
    },
    {
     "name": "stdout",
     "output_type": "stream",
     "text": [
      "Epoch 489/1000 Iteration: 89500 Avg. Training loss: 5.5260 0.0332 sec/batch\n",
      "Epoch 489/1000 Iteration: 89600 Avg. Training loss: 5.2404 0.2545 sec/batch\n"
     ]
    },
    {
     "data": {
      "application/vnd.jupyter.widget-view+json": {
       "model_id": "",
       "version_major": 2,
       "version_minor": 0
      },
      "text/plain": [
       "HBox(children=(IntProgress(value=0, description='Batch', max=183, style=ProgressStyle(description_width='initi…"
      ]
     },
     "metadata": {},
     "output_type": "display_data"
    },
    {
     "name": "stdout",
     "output_type": "stream",
     "text": [
      "Epoch 490/1000 Iteration: 89700 Avg. Training loss: 5.3966 0.0772 sec/batch\n",
      "Epoch 490/1000 Iteration: 89800 Avg. Training loss: 5.2133 0.2544 sec/batch\n"
     ]
    },
    {
     "data": {
      "application/vnd.jupyter.widget-view+json": {
       "model_id": "",
       "version_major": 2,
       "version_minor": 0
      },
      "text/plain": [
       "HBox(children=(IntProgress(value=0, description='Batch', max=183, style=ProgressStyle(description_width='initi…"
      ]
     },
     "metadata": {},
     "output_type": "display_data"
    },
    {
     "name": "stdout",
     "output_type": "stream",
     "text": [
      "Epoch 491/1000 Iteration: 89900 Avg. Training loss: 5.7291 0.1197 sec/batch\n",
      "Epoch 491/1000 Iteration: 90000 Avg. Training loss: 5.4855 0.2550 sec/batch\n",
      "Nearest to disse: afirmou, reiterou, falou, dizendo, ressaltou, acrescentou, acrescentando, afirmando,\n",
      "Nearest to ele: que, mas, não, ainda, qual, o, já, só,\n",
      "Nearest to foram: serem, serão, seriam, estavam, forem, eram, quais, deixaram,\n",
      "Nearest to ter: teria, tenha, tendo, havia, sido, terem, fato, teriam,\n",
      "Nearest to parte: a, da, também, à, que, ., tem, já,\n",
      "Nearest to %: 00,0, 0,00, 0,0, alta, recuo, subiu, ante, percentual,\n",
      "Nearest to ?: acha, sabe, só, não, você, mas, porque, perguntar,\n",
      "Nearest to maior: menor, tem, do, em, principalmente, de, especialmente, mesmo,\n",
      "Nearest to vê: acha, ., diz, ,, da, viu, quer, tanto,\n",
      "Nearest to usuários: usuário, ferramenta, aplicativo, internet, facebook, whatsapp, conectar, smartphone,\n",
      "Nearest to demanda: oferta, expansão, melhora, atender, principalmente, entanto, segmento, consumo,\n",
      "Nearest to depoimento: prestou, prestado, prestar, pf, depor, esclarecer, depoimentos, esclarecimentos,\n",
      "Nearest to colocar: colocou, levar, deixar, retirar, manter, sair, fazer, virar,\n",
      "Nearest to referência: usado, vista, o, encerrou, utilizado, cotado, ., citou,\n",
      "Nearest to global: aquecimento, brasil, climática, recente, commodities, avalia, incerteza, boom,\n",
      "Nearest to números: dados, estatísticas, resultados, divulgados, apontam, indicadores, indicam, absolutos,\n"
     ]
    },
    {
     "data": {
      "application/vnd.jupyter.widget-view+json": {
       "model_id": "",
       "version_major": 2,
       "version_minor": 0
      },
      "text/plain": [
       "HBox(children=(IntProgress(value=0, description='Batch', max=183, style=ProgressStyle(description_width='initi…"
      ]
     },
     "metadata": {},
     "output_type": "display_data"
    },
    {
     "name": "stdout",
     "output_type": "stream",
     "text": [
      "Epoch 492/1000 Iteration: 90100 Avg. Training loss: 5.3413 0.1641 sec/batch\n",
      "Epoch 492/1000 Iteration: 90200 Avg. Training loss: 5.4638 0.2563 sec/batch\n"
     ]
    },
    {
     "data": {
      "application/vnd.jupyter.widget-view+json": {
       "model_id": "",
       "version_major": 2,
       "version_minor": 0
      },
      "text/plain": [
       "HBox(children=(IntProgress(value=0, description='Batch', max=183, style=ProgressStyle(description_width='initi…"
      ]
     },
     "metadata": {},
     "output_type": "display_data"
    },
    {
     "name": "stdout",
     "output_type": "stream",
     "text": [
      "Epoch 493/1000 Iteration: 90300 Avg. Training loss: 5.5262 0.2068 sec/batch\n",
      "Epoch 493/1000 Iteration: 90400 Avg. Training loss: 5.2590 0.2557 sec/batch\n"
     ]
    },
    {
     "data": {
      "application/vnd.jupyter.widget-view+json": {
       "model_id": "",
       "version_major": 2,
       "version_minor": 0
      },
      "text/plain": [
       "HBox(children=(IntProgress(value=0, description='Batch', max=183, style=ProgressStyle(description_width='initi…"
      ]
     },
     "metadata": {},
     "output_type": "display_data"
    },
    {
     "name": "stdout",
     "output_type": "stream",
     "text": [
      "Epoch 494/1000 Iteration: 90500 Avg. Training loss: 5.3330 0.2506 sec/batch\n"
     ]
    },
    {
     "data": {
      "application/vnd.jupyter.widget-view+json": {
       "model_id": "",
       "version_major": 2,
       "version_minor": 0
      },
      "text/plain": [
       "HBox(children=(IntProgress(value=0, description='Batch', max=183, style=ProgressStyle(description_width='initi…"
      ]
     },
     "metadata": {},
     "output_type": "display_data"
    },
    {
     "name": "stdout",
     "output_type": "stream",
     "text": [
      "Epoch 495/1000 Iteration: 90600 Avg. Training loss: 5.3906 0.0386 sec/batch\n",
      "Epoch 495/1000 Iteration: 90700 Avg. Training loss: 5.4560 0.2550 sec/batch\n"
     ]
    },
    {
     "data": {
      "application/vnd.jupyter.widget-view+json": {
       "model_id": "",
       "version_major": 2,
       "version_minor": 0
      },
      "text/plain": [
       "HBox(children=(IntProgress(value=0, description='Batch', max=183, style=ProgressStyle(description_width='initi…"
      ]
     },
     "metadata": {},
     "output_type": "display_data"
    },
    {
     "name": "stdout",
     "output_type": "stream",
     "text": [
      "Epoch 496/1000 Iteration: 90800 Avg. Training loss: 5.1635 0.0822 sec/batch\n",
      "Epoch 496/1000 Iteration: 90900 Avg. Training loss: 5.2610 0.2557 sec/batch\n"
     ]
    },
    {
     "data": {
      "application/vnd.jupyter.widget-view+json": {
       "model_id": "",
       "version_major": 2,
       "version_minor": 0
      },
      "text/plain": [
       "HBox(children=(IntProgress(value=0, description='Batch', max=183, style=ProgressStyle(description_width='initi…"
      ]
     },
     "metadata": {},
     "output_type": "display_data"
    },
    {
     "name": "stdout",
     "output_type": "stream",
     "text": [
      "Epoch 497/1000 Iteration: 91000 Avg. Training loss: 5.5706 0.1252 sec/batch\n",
      "Nearest to dia: último, até, fim, outubro, novembro, início, antes, março,\n",
      "Nearest to nesta: terça-feira, segunda-feira, quinta-feira, quarta-feira, sexta-feira, terça, quarta, quinta,\n",
      "Nearest to ele: que, ainda, mas, não, o, qual, já, porém,\n",
      "Nearest to contra: de, ., na, em, diante, também, a, do,\n",
      "Nearest to maior: menor, grande, tem, do, em, principalmente, de, aumentou,\n",
      "Nearest to foram: serem, serão, seriam, eram, estavam, quais, forem, deixaram,\n",
      "Nearest to desde: início, passado, março, em, maio, julho, junho, setembro,\n",
      "Nearest to :: ., como, ,, ?, só, sempre, não, e,\n",
      "Nearest to quero: posso, vou, vai, puder, vamos, faço, possa, acredito,\n",
      "Nearest to encontrar: buscar, achar, entender, juntar, procurar, busca, trazer, mostrar,\n",
      "Nearest to aliados: aliado, peemedebista, aliada, interlocutores, parlamentares, partidários, governo, oposição,\n",
      "Nearest to tal: fato, mas, que, poderia, pois, seria, porém, é,\n",
      "Nearest to palácio: planalto, alvorada, jaburu, peemedebista, temer, rousseff, dilma, articulação,\n",
      "Nearest to demanda: oferta, principalmente, entanto, expansão, reflexo, atender, melhora, segmento,\n",
      "Nearest to unidades: unidade, ocupação, semestre, mil, creches, habitacionais, ocupadas, considerando,\n",
      "Nearest to ambos: entre, também, dois, os, e, ,, além, eles,\n",
      "Epoch 497/1000 Iteration: 91100 Avg. Training loss: 5.1578 0.2635 sec/batch\n"
     ]
    },
    {
     "data": {
      "application/vnd.jupyter.widget-view+json": {
       "model_id": "",
       "version_major": 2,
       "version_minor": 0
      },
      "text/plain": [
       "HBox(children=(IntProgress(value=0, description='Batch', max=183, style=ProgressStyle(description_width='initi…"
      ]
     },
     "metadata": {},
     "output_type": "display_data"
    },
    {
     "name": "stdout",
     "output_type": "stream",
     "text": [
      "Epoch 498/1000 Iteration: 91200 Avg. Training loss: 5.1295 0.1679 sec/batch\n",
      "Epoch 498/1000 Iteration: 91300 Avg. Training loss: 5.4283 0.2538 sec/batch\n"
     ]
    },
    {
     "data": {
      "application/vnd.jupyter.widget-view+json": {
       "model_id": "",
       "version_major": 2,
       "version_minor": 0
      },
      "text/plain": [
       "HBox(children=(IntProgress(value=0, description='Batch', max=183, style=ProgressStyle(description_width='initi…"
      ]
     },
     "metadata": {},
     "output_type": "display_data"
    },
    {
     "name": "stdout",
     "output_type": "stream",
     "text": [
      "Epoch 499/1000 Iteration: 91400 Avg. Training loss: 5.1428 0.2114 sec/batch\n",
      "Epoch 499/1000 Iteration: 91500 Avg. Training loss: 5.1557 0.2531 sec/batch\n"
     ]
    },
    {
     "data": {
      "application/vnd.jupyter.widget-view+json": {
       "model_id": "",
       "version_major": 2,
       "version_minor": 0
      },
      "text/plain": [
       "HBox(children=(IntProgress(value=0, description='Batch', max=183, style=ProgressStyle(description_width='initi…"
      ]
     },
     "metadata": {},
     "output_type": "display_data"
    },
    {
     "name": "stdout",
     "output_type": "stream",
     "text": [
      "Epoch 500/1000 Iteration: 91600 Avg. Training loss: 5.0925 0.2545 sec/batch\n"
     ]
    },
    {
     "data": {
      "application/vnd.jupyter.widget-view+json": {
       "model_id": "",
       "version_major": 2,
       "version_minor": 0
      },
      "text/plain": [
       "HBox(children=(IntProgress(value=0, description='Batch', max=183, style=ProgressStyle(description_width='initi…"
      ]
     },
     "metadata": {},
     "output_type": "display_data"
    },
    {
     "name": "stdout",
     "output_type": "stream",
     "text": [
      "Epoch 501/1000 Iteration: 91700 Avg. Training loss: 5.3369 0.0437 sec/batch\n",
      "Epoch 501/1000 Iteration: 91800 Avg. Training loss: 5.3691 0.2537 sec/batch\n"
     ]
    },
    {
     "data": {
      "application/vnd.jupyter.widget-view+json": {
       "model_id": "",
       "version_major": 2,
       "version_minor": 0
      },
      "text/plain": [
       "HBox(children=(IntProgress(value=0, description='Batch', max=183, style=ProgressStyle(description_width='initi…"
      ]
     },
     "metadata": {},
     "output_type": "display_data"
    },
    {
     "name": "stdout",
     "output_type": "stream",
     "text": [
      "Epoch 502/1000 Iteration: 91900 Avg. Training loss: 5.2377 0.0872 sec/batch\n",
      "Epoch 502/1000 Iteration: 92000 Avg. Training loss: 5.2031 0.2550 sec/batch\n",
      "Nearest to segundo: primeiro, ainda, aponta, o, chegou, entanto, do, deste,\n",
      "Nearest to anos: meses, últimos, oito, depois, cinco, década, 0000, seis,\n",
      "Nearest to sem: ., apenas, dá, só, inclusive, própria, de, mesmo,\n",
      "Nearest to ter: teria, tenha, havia, tendo, sido, terem, tivesse, tinha,\n",
      "Nearest to foi: após, pelo, pela, havia, já, qual, ele, tendo,\n",
      "Nearest to para: a, ., de, também, ainda, que, na, com,\n",
      "Nearest to ser: será, pois, seja, sendo, ter, pelo, foi, ainda,\n",
      "Nearest to o: do, ., um, ainda, que, ao, também, no,\n",
      "Nearest to ambos: entre, também, dois, os, e, além, ,, outros,\n",
      "Nearest to festival: cannes, festivais, evento, cinema, veneza, programação, paralela, premiação,\n",
      "Nearest to negócio: empresa, negócios, investir, esse, mas, desse, ainda, que,\n",
      "Nearest to previsão: expectativa, prevista, esperada, deve, fim, prevê, previsto, ainda,\n",
      "Nearest to demanda: principalmente, oferta, entanto, atender, melhora, foco, reflexo, expansão,\n",
      "Nearest to pf: polícia, depoimento, operação, investigação, federal, investigado, lava, documentos,\n",
      "Nearest to pretende: vai, irá, decidiu, quer, planeja, pretendia, vão, deve,\n",
      "Nearest to seguinte: dia, sempre, ontem, última, meio, no, antes, fim,\n"
     ]
    },
    {
     "data": {
      "application/vnd.jupyter.widget-view+json": {
       "model_id": "",
       "version_major": 2,
       "version_minor": 0
      },
      "text/plain": [
       "HBox(children=(IntProgress(value=0, description='Batch', max=183, style=ProgressStyle(description_width='initi…"
      ]
     },
     "metadata": {},
     "output_type": "display_data"
    },
    {
     "name": "stdout",
     "output_type": "stream",
     "text": [
      "Epoch 503/1000 Iteration: 92100 Avg. Training loss: 5.5341 0.1295 sec/batch\n",
      "Epoch 503/1000 Iteration: 92200 Avg. Training loss: 5.1989 0.2554 sec/batch\n"
     ]
    },
    {
     "data": {
      "application/vnd.jupyter.widget-view+json": {
       "model_id": "",
       "version_major": 2,
       "version_minor": 0
      },
      "text/plain": [
       "HBox(children=(IntProgress(value=0, description='Batch', max=183, style=ProgressStyle(description_width='initi…"
      ]
     },
     "metadata": {},
     "output_type": "display_data"
    },
    {
     "name": "stdout",
     "output_type": "stream",
     "text": [
      "Epoch 504/1000 Iteration: 92300 Avg. Training loss: 5.3072 0.1736 sec/batch\n",
      "Epoch 504/1000 Iteration: 92400 Avg. Training loss: 5.1558 0.2559 sec/batch\n"
     ]
    },
    {
     "data": {
      "application/vnd.jupyter.widget-view+json": {
       "model_id": "",
       "version_major": 2,
       "version_minor": 0
      },
      "text/plain": [
       "HBox(children=(IntProgress(value=0, description='Batch', max=183, style=ProgressStyle(description_width='initi…"
      ]
     },
     "metadata": {},
     "output_type": "display_data"
    },
    {
     "name": "stdout",
     "output_type": "stream",
     "text": [
      "Epoch 505/1000 Iteration: 92500 Avg. Training loss: 5.1984 0.2178 sec/batch\n"
     ]
    },
    {
     "data": {
      "application/vnd.jupyter.widget-view+json": {
       "model_id": "",
       "version_major": 2,
       "version_minor": 0
      },
      "text/plain": [
       "HBox(children=(IntProgress(value=0, description='Batch', max=183, style=ProgressStyle(description_width='initi…"
      ]
     },
     "metadata": {},
     "output_type": "display_data"
    },
    {
     "name": "stdout",
     "output_type": "stream",
     "text": [
      "Epoch 506/1000 Iteration: 92600 Avg. Training loss: 5.3641 0.0053 sec/batch\n",
      "Epoch 506/1000 Iteration: 92700 Avg. Training loss: 5.4387 0.2541 sec/batch\n"
     ]
    },
    {
     "data": {
      "application/vnd.jupyter.widget-view+json": {
       "model_id": "",
       "version_major": 2,
       "version_minor": 0
      },
      "text/plain": [
       "HBox(children=(IntProgress(value=0, description='Batch', max=183, style=ProgressStyle(description_width='initi…"
      ]
     },
     "metadata": {},
     "output_type": "display_data"
    },
    {
     "name": "stdout",
     "output_type": "stream",
     "text": [
      "Epoch 507/1000 Iteration: 92800 Avg. Training loss: 5.1849 0.0488 sec/batch\n",
      "Epoch 507/1000 Iteration: 92900 Avg. Training loss: 5.3900 0.2553 sec/batch\n"
     ]
    },
    {
     "data": {
      "application/vnd.jupyter.widget-view+json": {
       "model_id": "",
       "version_major": 2,
       "version_minor": 0
      },
      "text/plain": [
       "HBox(children=(IntProgress(value=0, description='Batch', max=183, style=ProgressStyle(description_width='initi…"
      ]
     },
     "metadata": {},
     "output_type": "display_data"
    },
    {
     "name": "stdout",
     "output_type": "stream",
     "text": [
      "Epoch 508/1000 Iteration: 93000 Avg. Training loss: 5.4723 0.0930 sec/batch\n",
      "Nearest to o: do, um, ., ainda, que, ao, também, no,\n",
      "Nearest to presidente: presidentes, presidência, então, rousseff, ex-presidente, dilma, temer, que,\n",
      "Nearest to ?: sabe, acha, não, quem, você, perguntar, mas, que,\n",
      "Nearest to eu: vou, meu, sei, cheguei, tenho, acredito, porque, acho,\n",
      "Nearest to muito: bastante, mas, porque, mais, bem, pouco, tão, diferente,\n",
      "Nearest to milhões: milhão, mil, bilhão, cerca, 00,0, 0,0, aproximadamente, bilhões,\n",
      "Nearest to tem: é, de, mesmo, só, tendo, faz, têm, parte,\n",
      "Nearest to seus: os, próprios, dos, alguns, outros, todos, dois, dela,\n",
      "Nearest to casas: moradias, delas, em, menos, residências, famílias, maioria, mais,\n",
      "Nearest to ouro: medalha, prata, medalhista, medalhas, londres-0000, bronze, conquistou, pequim-0000,\n",
      "Nearest to la: el, nación, más, entregó, los, obstante, una, deportivo,\n",
      "Nearest to artista: plástica, exposição, plástico, fotografias, artistas, expõe, pinturas, curador,\n",
      "Nearest to livros: literatura, romances, didáticos, escrever, textos, editoras, best-sellers, livro,\n",
      "Nearest to tratamento: tratamentos, pacientes, tratar, quimioterapia, diagnóstico, terapia, remédio, paciente,\n",
      "Nearest to parlamentares: congressistas, deputados, governistas, peemedebista, votação, congresso, senadores, câmara,\n",
      "Nearest to popular: populares, como, transformou, único, de, há, diretas, ,,\n",
      "Epoch 508/1000 Iteration: 93100 Avg. Training loss: 5.3096 0.2650 sec/batch\n"
     ]
    },
    {
     "data": {
      "application/vnd.jupyter.widget-view+json": {
       "model_id": "",
       "version_major": 2,
       "version_minor": 0
      },
      "text/plain": [
       "HBox(children=(IntProgress(value=0, description='Batch', max=183, style=ProgressStyle(description_width='initi…"
      ]
     },
     "metadata": {},
     "output_type": "display_data"
    },
    {
     "name": "stdout",
     "output_type": "stream",
     "text": [
      "Epoch 509/1000 Iteration: 93200 Avg. Training loss: 5.3616 0.1355 sec/batch\n",
      "Epoch 509/1000 Iteration: 93300 Avg. Training loss: 5.1680 0.2544 sec/batch\n"
     ]
    },
    {
     "data": {
      "application/vnd.jupyter.widget-view+json": {
       "model_id": "",
       "version_major": 2,
       "version_minor": 0
      },
      "text/plain": [
       "HBox(children=(IntProgress(value=0, description='Batch', max=183, style=ProgressStyle(description_width='initi…"
      ]
     },
     "metadata": {},
     "output_type": "display_data"
    },
    {
     "name": "stdout",
     "output_type": "stream",
     "text": [
      "Epoch 510/1000 Iteration: 93400 Avg. Training loss: 5.1923 0.1791 sec/batch\n",
      "Epoch 510/1000 Iteration: 93500 Avg. Training loss: 5.5970 0.2550 sec/batch\n"
     ]
    },
    {
     "data": {
      "application/vnd.jupyter.widget-view+json": {
       "model_id": "",
       "version_major": 2,
       "version_minor": 0
      },
      "text/plain": [
       "HBox(children=(IntProgress(value=0, description='Batch', max=183, style=ProgressStyle(description_width='initi…"
      ]
     },
     "metadata": {},
     "output_type": "display_data"
    },
    {
     "name": "stdout",
     "output_type": "stream",
     "text": [
      "Epoch 511/1000 Iteration: 93600 Avg. Training loss: 5.3501 0.2221 sec/batch\n"
     ]
    },
    {
     "data": {
      "application/vnd.jupyter.widget-view+json": {
       "model_id": "",
       "version_major": 2,
       "version_minor": 0
      },
      "text/plain": [
       "HBox(children=(IntProgress(value=0, description='Batch', max=183, style=ProgressStyle(description_width='initi…"
      ]
     },
     "metadata": {},
     "output_type": "display_data"
    },
    {
     "name": "stdout",
     "output_type": "stream",
     "text": [
      "Epoch 512/1000 Iteration: 93700 Avg. Training loss: 5.4055 0.0102 sec/batch\n",
      "Epoch 512/1000 Iteration: 93800 Avg. Training loss: 5.3770 0.2565 sec/batch\n"
     ]
    },
    {
     "data": {
      "application/vnd.jupyter.widget-view+json": {
       "model_id": "",
       "version_major": 2,
       "version_minor": 0
      },
      "text/plain": [
       "HBox(children=(IntProgress(value=0, description='Batch', max=183, style=ProgressStyle(description_width='initi…"
      ]
     },
     "metadata": {},
     "output_type": "display_data"
    },
    {
     "name": "stdout",
     "output_type": "stream",
     "text": [
      "Epoch 513/1000 Iteration: 93900 Avg. Training loss: 5.3465 0.0534 sec/batch\n",
      "Epoch 513/1000 Iteration: 94000 Avg. Training loss: 5.3083 0.2551 sec/batch\n",
      "Nearest to como: também, e, exemplo, ., que, ,, inclusive, por,\n",
      "Nearest to nesta: terça-feira, segunda-feira, quinta-feira, quarta-feira, terça, sexta-feira, quinta, quarta,\n",
      "Nearest to paulo: são, paulista, sp, alckmin, quarta, de, psdb, geraldo,\n",
      "Nearest to tem: é, têm, de, tendo, faz, só, mesmo, .,\n",
      "Nearest to sobre: também, a, o, que, do, em, de, .,\n",
      "Nearest to mais: que, ., mas, já, ainda, menos, em, o,\n",
      "Nearest to ?: acha, sabe, você, quer, quem, não, perguntar, entende,\n",
      "Nearest to depois: após, antes, em, já, ., logo, começo, só,\n",
      "Nearest to artista: plástico, exposição, artistas, plástica, fotografias, pinturas, expõe, mostras,\n",
      "Nearest to modo: que, assim, pois, mesmo, disso, nesse, ainda, esse,\n",
      "Nearest to operações: meio, financeiras, momento, buscando, de, comando, parte, fim,\n",
      "Nearest to encontrar: buscar, achar, entender, juntar, mostrar, dar, fazer, levar,\n",
      "Nearest to depoimento: prestou, prestar, prestado, pf, esclarecimentos, depor, depoimentos, esclarecer,\n",
      "Nearest to la: los, entregó, más, venta, nación, ciudad, una, obstante,\n",
      "Nearest to nossos: seus, mesmos, os, outros, todos, esses, temos, nossa,\n",
      "Nearest to vídeos: fotos, comentários, conteúdo, acontecimentos, relevantes, leitores, notícias, enviando,\n"
     ]
    },
    {
     "data": {
      "application/vnd.jupyter.widget-view+json": {
       "model_id": "",
       "version_major": 2,
       "version_minor": 0
      },
      "text/plain": [
       "HBox(children=(IntProgress(value=0, description='Batch', max=183, style=ProgressStyle(description_width='initi…"
      ]
     },
     "metadata": {},
     "output_type": "display_data"
    },
    {
     "name": "stdout",
     "output_type": "stream",
     "text": [
      "Epoch 514/1000 Iteration: 94100 Avg. Training loss: 5.3218 0.0971 sec/batch\n",
      "Epoch 514/1000 Iteration: 94200 Avg. Training loss: 5.1594 0.2555 sec/batch\n"
     ]
    },
    {
     "data": {
      "application/vnd.jupyter.widget-view+json": {
       "model_id": "",
       "version_major": 2,
       "version_minor": 0
      },
      "text/plain": [
       "HBox(children=(IntProgress(value=0, description='Batch', max=183, style=ProgressStyle(description_width='initi…"
      ]
     },
     "metadata": {},
     "output_type": "display_data"
    },
    {
     "name": "stdout",
     "output_type": "stream",
     "text": [
      "Epoch 515/1000 Iteration: 94300 Avg. Training loss: 5.4064 0.1410 sec/batch\n",
      "Epoch 515/1000 Iteration: 94400 Avg. Training loss: 5.3898 0.2543 sec/batch\n"
     ]
    },
    {
     "data": {
      "application/vnd.jupyter.widget-view+json": {
       "model_id": "",
       "version_major": 2,
       "version_minor": 0
      },
      "text/plain": [
       "HBox(children=(IntProgress(value=0, description='Batch', max=183, style=ProgressStyle(description_width='initi…"
      ]
     },
     "metadata": {},
     "output_type": "display_data"
    },
    {
     "name": "stdout",
     "output_type": "stream",
     "text": [
      "Epoch 516/1000 Iteration: 94500 Avg. Training loss: 5.4229 0.1831 sec/batch\n",
      "Epoch 516/1000 Iteration: 94600 Avg. Training loss: 5.2672 0.2553 sec/batch\n"
     ]
    },
    {
     "data": {
      "application/vnd.jupyter.widget-view+json": {
       "model_id": "",
       "version_major": 2,
       "version_minor": 0
      },
      "text/plain": [
       "HBox(children=(IntProgress(value=0, description='Batch', max=183, style=ProgressStyle(description_width='initi…"
      ]
     },
     "metadata": {},
     "output_type": "display_data"
    },
    {
     "name": "stdout",
     "output_type": "stream",
     "text": [
      "Epoch 517/1000 Iteration: 94700 Avg. Training loss: 5.3055 0.2280 sec/batch\n"
     ]
    },
    {
     "data": {
      "application/vnd.jupyter.widget-view+json": {
       "model_id": "",
       "version_major": 2,
       "version_minor": 0
      },
      "text/plain": [
       "HBox(children=(IntProgress(value=0, description='Batch', max=183, style=ProgressStyle(description_width='initi…"
      ]
     },
     "metadata": {},
     "output_type": "display_data"
    },
    {
     "name": "stdout",
     "output_type": "stream",
     "text": [
      "Epoch 518/1000 Iteration: 94800 Avg. Training loss: 5.4766 0.0155 sec/batch\n",
      "Epoch 518/1000 Iteration: 94900 Avg. Training loss: 5.3597 0.2541 sec/batch\n"
     ]
    },
    {
     "data": {
      "application/vnd.jupyter.widget-view+json": {
       "model_id": "",
       "version_major": 2,
       "version_minor": 0
      },
      "text/plain": [
       "HBox(children=(IntProgress(value=0, description='Batch', max=183, style=ProgressStyle(description_width='initi…"
      ]
     },
     "metadata": {},
     "output_type": "display_data"
    },
    {
     "name": "stdout",
     "output_type": "stream",
     "text": [
      "Epoch 519/1000 Iteration: 95000 Avg. Training loss: 5.1560 0.0589 sec/batch\n",
      "Nearest to ser: sido, será, foi, pelo, pois, ter, seja, por,\n",
      "Nearest to por: e, também, ., já, ,, de, em, que,\n",
      "Nearest to ou: podem, para, brasil, isso, os, com, participação, preferir,\n",
      "Nearest to os: dos, outros, esses, alguns, ., dois, e, também,\n",
      "Nearest to governo: que, país, considera, oposição, congresso, ressaltou, ainda, do,\n",
      "Nearest to no: ., do, o, em, na, último, e, de,\n",
      "Nearest to pessoas: menos, jovens, grande, milhares, desse, que, delas, famílias,\n",
      "Nearest to foram: serem, serão, seriam, eram, estavam, forem, fossem, deles,\n",
      "Nearest to atividade: econômica, economia, melhora, evolução, mesmo, piora, influência, principalmente,\n",
      "Nearest to leva: levam, levar, levando, tem, por, em, um, dá,\n",
      "Nearest to continuar: continuará, vem, continua, está, vinha, continuarem, agora, vêm,\n",
      "Nearest to livros: romances, literatura, best-sellers, didáticos, livro, bancas, leitura, contos,\n",
      "Nearest to participar: realizar, atuar, fazer, acompanhar, envolver, acontece, receber, integrar,\n",
      "Nearest to santa: catarina, luzia, cruz, cecília, misericórdia, goiás, fe, paraná,\n",
      "Nearest to colocar: levar, fazer, incluir, deixar, virar, mudar, colocou, retirar,\n",
      "Nearest to emprego: empregos, trabalho, desemprego, desempregados, trabalhar, empregados, crescimento, contínua,\n",
      "Epoch 519/1000 Iteration: 95100 Avg. Training loss: 5.3921 0.2638 sec/batch\n"
     ]
    },
    {
     "data": {
      "application/vnd.jupyter.widget-view+json": {
       "model_id": "",
       "version_major": 2,
       "version_minor": 0
      },
      "text/plain": [
       "HBox(children=(IntProgress(value=0, description='Batch', max=183, style=ProgressStyle(description_width='initi…"
      ]
     },
     "metadata": {},
     "output_type": "display_data"
    },
    {
     "name": "stdout",
     "output_type": "stream",
     "text": [
      "Epoch 520/1000 Iteration: 95200 Avg. Training loss: 5.3553 0.1019 sec/batch\n",
      "Epoch 520/1000 Iteration: 95300 Avg. Training loss: 5.4231 0.2550 sec/batch\n"
     ]
    },
    {
     "data": {
      "application/vnd.jupyter.widget-view+json": {
       "model_id": "",
       "version_major": 2,
       "version_minor": 0
      },
      "text/plain": [
       "HBox(children=(IntProgress(value=0, description='Batch', max=183, style=ProgressStyle(description_width='initi…"
      ]
     },
     "metadata": {},
     "output_type": "display_data"
    },
    {
     "name": "stdout",
     "output_type": "stream",
     "text": [
      "Epoch 521/1000 Iteration: 95400 Avg. Training loss: 5.3469 0.1457 sec/batch\n",
      "Epoch 521/1000 Iteration: 95500 Avg. Training loss: 5.5263 0.2550 sec/batch\n"
     ]
    },
    {
     "data": {
      "application/vnd.jupyter.widget-view+json": {
       "model_id": "",
       "version_major": 2,
       "version_minor": 0
      },
      "text/plain": [
       "HBox(children=(IntProgress(value=0, description='Batch', max=183, style=ProgressStyle(description_width='initi…"
      ]
     },
     "metadata": {},
     "output_type": "display_data"
    },
    {
     "name": "stdout",
     "output_type": "stream",
     "text": [
      "Epoch 522/1000 Iteration: 95600 Avg. Training loss: 5.2666 0.1895 sec/batch\n",
      "Epoch 522/1000 Iteration: 95700 Avg. Training loss: 5.4915 0.2555 sec/batch\n"
     ]
    },
    {
     "data": {
      "application/vnd.jupyter.widget-view+json": {
       "model_id": "",
       "version_major": 2,
       "version_minor": 0
      },
      "text/plain": [
       "HBox(children=(IntProgress(value=0, description='Batch', max=183, style=ProgressStyle(description_width='initi…"
      ]
     },
     "metadata": {},
     "output_type": "display_data"
    },
    {
     "name": "stdout",
     "output_type": "stream",
     "text": [
      "Epoch 523/1000 Iteration: 95800 Avg. Training loss: 5.1433 0.2324 sec/batch\n"
     ]
    },
    {
     "data": {
      "application/vnd.jupyter.widget-view+json": {
       "model_id": "",
       "version_major": 2,
       "version_minor": 0
      },
      "text/plain": [
       "HBox(children=(IntProgress(value=0, description='Batch', max=183, style=ProgressStyle(description_width='initi…"
      ]
     },
     "metadata": {},
     "output_type": "display_data"
    },
    {
     "name": "stdout",
     "output_type": "stream",
     "text": [
      "Epoch 524/1000 Iteration: 95900 Avg. Training loss: 5.5334 0.0207 sec/batch\n",
      "Epoch 524/1000 Iteration: 96000 Avg. Training loss: 5.4238 0.2552 sec/batch\n",
      "Nearest to já: ainda, que, ., mas, também, ,, só, por,\n",
      "Nearest to nos: últimos, outros, em, ., dos, próximos, de, mesmo,\n",
      "Nearest to sobre: também, a, do, no, o, de, em, que,\n",
      "Nearest to da: a, na, de, à, parte, em, ,, pela,\n",
      "Nearest to muito: bastante, porque, mas, tão, diferente, pouco, bem, nada,\n",
      "Nearest to :: exemplo, ., ,, como, sempre, por, que, também,\n",
      "Nearest to presidente: presidentes, rousseff, presidência, interino, dilma, ex-presidente, ,, encontro,\n",
      "Nearest to fazer: só, mas, dar, começar, mudar, saber, mostrar, levar,\n",
      "Nearest to participar: realizar, acontecer, acompanhar, fazer, começar, envolver, acontece, fará,\n",
      "Nearest to veio: trouxe, fez, levou, logo, chegou, em, depois, deram,\n",
      "Nearest to queria: iria, precisava, poderia, pensava, podia, conseguiria, querer, sabia,\n",
      "Nearest to comunicação: publicidade, secom, edinho, ebc, mídia, informação, civil, imprensa,\n",
      "Nearest to escreveu: publicou, referindo-se, dizia, intitulado, ,, introdução, escreve, criticando,\n",
      "Nearest to vídeos: fotos, conteúdo, comentários, acontecimentos, leitores, relevantes, notícias, sejam,\n",
      "Nearest to pf: operação, deflagrada, depoimento, jato, investigação, polícia, lava, investigado,\n",
      "Nearest to discussão: questão, proposta, tema, discutir, uma, mudança, discussões, pauta,\n"
     ]
    },
    {
     "data": {
      "application/vnd.jupyter.widget-view+json": {
       "model_id": "",
       "version_major": 2,
       "version_minor": 0
      },
      "text/plain": [
       "HBox(children=(IntProgress(value=0, description='Batch', max=183, style=ProgressStyle(description_width='initi…"
      ]
     },
     "metadata": {},
     "output_type": "display_data"
    },
    {
     "name": "stdout",
     "output_type": "stream",
     "text": [
      "Epoch 525/1000 Iteration: 96100 Avg. Training loss: 5.3856 0.0642 sec/batch\n",
      "Epoch 525/1000 Iteration: 96200 Avg. Training loss: 5.4279 0.2553 sec/batch\n"
     ]
    },
    {
     "data": {
      "application/vnd.jupyter.widget-view+json": {
       "model_id": "",
       "version_major": 2,
       "version_minor": 0
      },
      "text/plain": [
       "HBox(children=(IntProgress(value=0, description='Batch', max=183, style=ProgressStyle(description_width='initi…"
      ]
     },
     "metadata": {},
     "output_type": "display_data"
    },
    {
     "name": "stdout",
     "output_type": "stream",
     "text": [
      "Epoch 526/1000 Iteration: 96300 Avg. Training loss: 5.4559 0.1083 sec/batch\n",
      "Epoch 526/1000 Iteration: 96400 Avg. Training loss: 5.4017 0.2545 sec/batch\n"
     ]
    },
    {
     "data": {
      "application/vnd.jupyter.widget-view+json": {
       "model_id": "",
       "version_major": 2,
       "version_minor": 0
      },
      "text/plain": [
       "HBox(children=(IntProgress(value=0, description='Batch', max=183, style=ProgressStyle(description_width='initi…"
      ]
     },
     "metadata": {},
     "output_type": "display_data"
    },
    {
     "name": "stdout",
     "output_type": "stream",
     "text": [
      "Epoch 527/1000 Iteration: 96500 Avg. Training loss: 5.2439 0.1502 sec/batch\n",
      "Epoch 527/1000 Iteration: 96600 Avg. Training loss: 5.2693 0.2557 sec/batch\n"
     ]
    },
    {
     "data": {
      "application/vnd.jupyter.widget-view+json": {
       "model_id": "",
       "version_major": 2,
       "version_minor": 0
      },
      "text/plain": [
       "HBox(children=(IntProgress(value=0, description='Batch', max=183, style=ProgressStyle(description_width='initi…"
      ]
     },
     "metadata": {},
     "output_type": "display_data"
    },
    {
     "name": "stdout",
     "output_type": "stream",
     "text": [
      "Epoch 528/1000 Iteration: 96700 Avg. Training loss: 5.4616 0.1946 sec/batch\n",
      "Epoch 528/1000 Iteration: 96800 Avg. Training loss: 5.4311 0.2554 sec/batch\n"
     ]
    },
    {
     "data": {
      "application/vnd.jupyter.widget-view+json": {
       "model_id": "",
       "version_major": 2,
       "version_minor": 0
      },
      "text/plain": [
       "HBox(children=(IntProgress(value=0, description='Batch', max=183, style=ProgressStyle(description_width='initi…"
      ]
     },
     "metadata": {},
     "output_type": "display_data"
    },
    {
     "name": "stdout",
     "output_type": "stream",
     "text": [
      "Epoch 529/1000 Iteration: 96900 Avg. Training loss: 5.2595 0.2377 sec/batch\n"
     ]
    },
    {
     "data": {
      "application/vnd.jupyter.widget-view+json": {
       "model_id": "",
       "version_major": 2,
       "version_minor": 0
      },
      "text/plain": [
       "HBox(children=(IntProgress(value=0, description='Batch', max=183, style=ProgressStyle(description_width='initi…"
      ]
     },
     "metadata": {},
     "output_type": "display_data"
    },
    {
     "name": "stdout",
     "output_type": "stream",
     "text": [
      "Epoch 530/1000 Iteration: 97000 Avg. Training loss: 5.4037 0.0265 sec/batch\n",
      "Nearest to brasil: no, mundo, país, ., do, com, na, a,\n",
      "Nearest to depois: após, em, antes, logo, ., já, início, fim,\n",
      "Nearest to parte: a, também, já, principalmente, tem, da, de, à,\n",
      "Nearest to ser: foi, será, ter, pelo, sido, pois, ainda, sendo,\n",
      "Nearest to para: a, ., de, ainda, o, com, vez, no,\n",
      "Nearest to 000: mil, cerca, 00, 0.000, mais, quanto, r$, dobro,\n",
      "Nearest to tem: é, de, têm, só, tendo, parte, mesmo, maior,\n",
      "Nearest to um: o, outro, ao, ., que, novo, esse, também,\n",
      "Nearest to festival: festivais, cannes, evento, veneza, sxsw, lollapalooza, muylaert, programação,\n",
      "Nearest to palácio: planalto, alvorada, peemedebista, jaburu, temer, articulação, dilma, encontro,\n",
      "Nearest to global: aquecimento, países, climática, recente, brasil, globais, estímulo, climático,\n",
      "Nearest to previsão: expectativa, esperada, prevista, deve, previsto, preveem, prevê, ainda,\n",
      "Nearest to somente: mesmo, apenas, só, tendo, ainda, será, ., até,\n",
      "Nearest to profissionais: por, qualificados, médicos, funcionários, qualificação, profissional, desafio, quadro,\n",
      "Nearest to mar: mediterrâneo, oceano, embarcações, travessia, barco, atlântico, egeu, migrantes,\n",
      "Nearest to investidores: cautela, volatilidade, mercados, otimismo, ativos, mercado, aversão, dólar,\n",
      "Epoch 530/1000 Iteration: 97100 Avg. Training loss: 5.4085 0.2660 sec/batch\n"
     ]
    },
    {
     "data": {
      "application/vnd.jupyter.widget-view+json": {
       "model_id": "",
       "version_major": 2,
       "version_minor": 0
      },
      "text/plain": [
       "HBox(children=(IntProgress(value=0, description='Batch', max=183, style=ProgressStyle(description_width='initi…"
      ]
     },
     "metadata": {},
     "output_type": "display_data"
    },
    {
     "name": "stdout",
     "output_type": "stream",
     "text": [
      "Epoch 531/1000 Iteration: 97200 Avg. Training loss: 5.2878 0.0692 sec/batch\n",
      "Epoch 531/1000 Iteration: 97300 Avg. Training loss: 5.4036 0.2545 sec/batch\n"
     ]
    },
    {
     "data": {
      "application/vnd.jupyter.widget-view+json": {
       "model_id": "",
       "version_major": 2,
       "version_minor": 0
      },
      "text/plain": [
       "HBox(children=(IntProgress(value=0, description='Batch', max=183, style=ProgressStyle(description_width='initi…"
      ]
     },
     "metadata": {},
     "output_type": "display_data"
    },
    {
     "name": "stdout",
     "output_type": "stream",
     "text": [
      "Epoch 532/1000 Iteration: 97400 Avg. Training loss: 5.4210 0.1131 sec/batch\n",
      "Epoch 532/1000 Iteration: 97500 Avg. Training loss: 5.3823 0.2545 sec/batch\n"
     ]
    },
    {
     "data": {
      "application/vnd.jupyter.widget-view+json": {
       "model_id": "",
       "version_major": 2,
       "version_minor": 0
      },
      "text/plain": [
       "HBox(children=(IntProgress(value=0, description='Batch', max=183, style=ProgressStyle(description_width='initi…"
      ]
     },
     "metadata": {},
     "output_type": "display_data"
    },
    {
     "name": "stdout",
     "output_type": "stream",
     "text": [
      "Epoch 533/1000 Iteration: 97600 Avg. Training loss: 5.1175 0.1563 sec/batch\n",
      "Epoch 533/1000 Iteration: 97700 Avg. Training loss: 5.5244 0.2541 sec/batch\n"
     ]
    },
    {
     "data": {
      "application/vnd.jupyter.widget-view+json": {
       "model_id": "",
       "version_major": 2,
       "version_minor": 0
      },
      "text/plain": [
       "HBox(children=(IntProgress(value=0, description='Batch', max=183, style=ProgressStyle(description_width='initi…"
      ]
     },
     "metadata": {},
     "output_type": "display_data"
    },
    {
     "name": "stdout",
     "output_type": "stream",
     "text": [
      "Epoch 534/1000 Iteration: 97800 Avg. Training loss: 5.4663 0.1995 sec/batch\n",
      "Epoch 534/1000 Iteration: 97900 Avg. Training loss: 5.5326 0.2542 sec/batch\n"
     ]
    },
    {
     "data": {
      "application/vnd.jupyter.widget-view+json": {
       "model_id": "",
       "version_major": 2,
       "version_minor": 0
      },
      "text/plain": [
       "HBox(children=(IntProgress(value=0, description='Batch', max=183, style=ProgressStyle(description_width='initi…"
      ]
     },
     "metadata": {},
     "output_type": "display_data"
    },
    {
     "name": "stdout",
     "output_type": "stream",
     "text": [
      "Epoch 535/1000 Iteration: 98000 Avg. Training loss: 5.5563 0.2427 sec/batch\n",
      "Nearest to às: 00h, domingo, hoje, dia, das, sábado, sexta, amanhã,\n",
      "Nearest to dia: último, início, novembro, março, domingo, maio, mês, outubro,\n",
      "Nearest to no: ., em, o, do, na, último, após, ainda,\n",
      "Nearest to se: que, pois, quem, ele, só, vez, mais, mesmo,\n",
      "Nearest to ser: será, foi, pois, pelo, não, sido, sendo, ter,\n",
      "Nearest to ou: podem, para, brasil, isso, os, sejam, ., sua,\n",
      "Nearest to tem: é, parte, têm, de, tendo, só, ., mesmo,\n",
      "Nearest to foram: serem, serão, seriam, estavam, eram, forem, ainda, .,\n",
      "Nearest to abrir: abriu, abrindo, ampliar, abrirá, colocar, fechar, abriram, virar,\n",
      "Nearest to famílias: pessoas, pobres, moram, jovens, moradias, populações, afetadas, principalmente,\n",
      "Nearest to vídeos: fotos, comentários, conteúdo, acontecimentos, relevantes, leitores, sejam, notícias,\n",
      "Nearest to EMAIL: basta, enviar, e-mail, envie, traduzem, publicados, acessar, colaborar,\n",
      "Nearest to instituição: financeira, instituições, administração, pública, banco, política, conselho, da,\n",
      "Nearest to colocar: levar, colocou, mudar, virar, forçar, deixar, fazer, defender,\n",
      "Nearest to europeia: ue, unido, reino, juncker, união, europeu, brexit, europeus,\n",
      "Nearest to nossos: seus, mesmos, temos, os, clientes, vemos, outros, todos,\n"
     ]
    },
    {
     "data": {
      "application/vnd.jupyter.widget-view+json": {
       "model_id": "",
       "version_major": 2,
       "version_minor": 0
      },
      "text/plain": [
       "HBox(children=(IntProgress(value=0, description='Batch', max=183, style=ProgressStyle(description_width='initi…"
      ]
     },
     "metadata": {},
     "output_type": "display_data"
    },
    {
     "name": "stdout",
     "output_type": "stream",
     "text": [
      "Epoch 536/1000 Iteration: 98100 Avg. Training loss: 5.4623 0.0310 sec/batch\n",
      "Epoch 536/1000 Iteration: 98200 Avg. Training loss: 5.2864 0.2539 sec/batch\n"
     ]
    },
    {
     "data": {
      "application/vnd.jupyter.widget-view+json": {
       "model_id": "",
       "version_major": 2,
       "version_minor": 0
      },
      "text/plain": [
       "HBox(children=(IntProgress(value=0, description='Batch', max=183, style=ProgressStyle(description_width='initi…"
      ]
     },
     "metadata": {},
     "output_type": "display_data"
    },
    {
     "name": "stdout",
     "output_type": "stream",
     "text": [
      "Epoch 537/1000 Iteration: 98300 Avg. Training loss: 5.4513 0.0752 sec/batch\n",
      "Epoch 537/1000 Iteration: 98400 Avg. Training loss: 5.3722 0.2563 sec/batch\n"
     ]
    },
    {
     "data": {
      "application/vnd.jupyter.widget-view+json": {
       "model_id": "",
       "version_major": 2,
       "version_minor": 0
      },
      "text/plain": [
       "HBox(children=(IntProgress(value=0, description='Batch', max=183, style=ProgressStyle(description_width='initi…"
      ]
     },
     "metadata": {},
     "output_type": "display_data"
    },
    {
     "name": "stdout",
     "output_type": "stream",
     "text": [
      "Epoch 538/1000 Iteration: 98500 Avg. Training loss: 5.2283 0.1179 sec/batch\n",
      "Epoch 538/1000 Iteration: 98600 Avg. Training loss: 5.5124 0.2546 sec/batch\n"
     ]
    },
    {
     "data": {
      "application/vnd.jupyter.widget-view+json": {
       "model_id": "",
       "version_major": 2,
       "version_minor": 0
      },
      "text/plain": [
       "HBox(children=(IntProgress(value=0, description='Batch', max=183, style=ProgressStyle(description_width='initi…"
      ]
     },
     "metadata": {},
     "output_type": "display_data"
    },
    {
     "name": "stdout",
     "output_type": "stream",
     "text": [
      "Epoch 539/1000 Iteration: 98700 Avg. Training loss: 5.6680 0.1620 sec/batch\n",
      "Epoch 539/1000 Iteration: 98800 Avg. Training loss: 5.6287 0.2562 sec/batch\n"
     ]
    },
    {
     "data": {
      "application/vnd.jupyter.widget-view+json": {
       "model_id": "",
       "version_major": 2,
       "version_minor": 0
      },
      "text/plain": [
       "HBox(children=(IntProgress(value=0, description='Batch', max=183, style=ProgressStyle(description_width='initi…"
      ]
     },
     "metadata": {},
     "output_type": "display_data"
    },
    {
     "name": "stdout",
     "output_type": "stream",
     "text": [
      "Epoch 540/1000 Iteration: 98900 Avg. Training loss: 5.5280 0.2041 sec/batch\n",
      "Epoch 540/1000 Iteration: 99000 Avg. Training loss: 5.3310 0.2543 sec/batch\n",
      "Nearest to há: ainda, mas, já, como, que, é, ., ,,\n",
      "Nearest to pela: pelo, a, da, na, vez, parte, qual, foi,\n",
      "Nearest to como: também, que, ., e, exemplo, ,, inclusive, por,\n",
      "Nearest to 0000: desde, março, abril, década, ano, passado, outubro, dezembro,\n",
      "Nearest to dois: três, nove, oito, outros, menos, cinco, os, vários,\n",
      "Nearest to só: mas, mesmo, não, que, agora, até, ainda, já,\n",
      "Nearest to são: paulo, e, ., de, na, ,, sp, no,\n",
      "Nearest to está: continua, estaria, estava, vem, esteja, ainda, mas, estar,\n",
      "Nearest to popular: populares, diretas, único, levante, protestos, legislativas, povo, insatisfação,\n",
      "Nearest to explica: afirma, diz, possível, assim, observa, é, inteiro, sim,\n",
      "Nearest to números: dados, resultados, estatísticas, divulgados, esses, os, registros, indicadores,\n",
      "Nearest to democracia: golpe, democrático, lamentavelmente, retrocesso, constitui, (), luta, fracasso,\n",
      "Nearest to discussão: tema, discutir, proposta, questão, discussões, congresso, pauta, aprovação,\n",
      "Nearest to luz: linhas, escuridão, manutenção, metrô, energia, funcionam, cptm, reduzida,\n",
      "Nearest to deverá: deve, poderá, irá, terá, vai, deverão, voltará, ficará,\n",
      "Nearest to depoimento: prestar, prestado, prestou, pf, depor, esclarecimentos, esclarecer, depoimentos,\n"
     ]
    },
    {
     "data": {
      "application/vnd.jupyter.widget-view+json": {
       "model_id": "",
       "version_major": 2,
       "version_minor": 0
      },
      "text/plain": [
       "HBox(children=(IntProgress(value=0, description='Batch', max=183, style=ProgressStyle(description_width='initi…"
      ]
     },
     "metadata": {},
     "output_type": "display_data"
    },
    {
     "name": "stdout",
     "output_type": "stream",
     "text": [
      "Epoch 541/1000 Iteration: 99100 Avg. Training loss: 5.4485 0.2480 sec/batch\n"
     ]
    },
    {
     "data": {
      "application/vnd.jupyter.widget-view+json": {
       "model_id": "",
       "version_major": 2,
       "version_minor": 0
      },
      "text/plain": [
       "HBox(children=(IntProgress(value=0, description='Batch', max=183, style=ProgressStyle(description_width='initi…"
      ]
     },
     "metadata": {},
     "output_type": "display_data"
    },
    {
     "name": "stdout",
     "output_type": "stream",
     "text": [
      "Epoch 542/1000 Iteration: 99200 Avg. Training loss: 5.6261 0.0365 sec/batch\n",
      "Epoch 542/1000 Iteration: 99300 Avg. Training loss: 5.4889 0.2551 sec/batch\n"
     ]
    },
    {
     "data": {
      "application/vnd.jupyter.widget-view+json": {
       "model_id": "",
       "version_major": 2,
       "version_minor": 0
      },
      "text/plain": [
       "HBox(children=(IntProgress(value=0, description='Batch', max=183, style=ProgressStyle(description_width='initi…"
      ]
     },
     "metadata": {},
     "output_type": "display_data"
    },
    {
     "name": "stdout",
     "output_type": "stream",
     "text": [
      "Epoch 543/1000 Iteration: 99400 Avg. Training loss: 5.5062 0.0789 sec/batch\n",
      "Epoch 543/1000 Iteration: 99500 Avg. Training loss: 5.3710 0.2546 sec/batch\n"
     ]
    },
    {
     "data": {
      "application/vnd.jupyter.widget-view+json": {
       "model_id": "",
       "version_major": 2,
       "version_minor": 0
      },
      "text/plain": [
       "HBox(children=(IntProgress(value=0, description='Batch', max=183, style=ProgressStyle(description_width='initi…"
      ]
     },
     "metadata": {},
     "output_type": "display_data"
    },
    {
     "name": "stdout",
     "output_type": "stream",
     "text": [
      "Epoch 544/1000 Iteration: 99600 Avg. Training loss: 5.5593 0.1227 sec/batch\n",
      "Epoch 544/1000 Iteration: 99700 Avg. Training loss: 5.2469 0.2540 sec/batch\n"
     ]
    },
    {
     "data": {
      "application/vnd.jupyter.widget-view+json": {
       "model_id": "",
       "version_major": 2,
       "version_minor": 0
      },
      "text/plain": [
       "HBox(children=(IntProgress(value=0, description='Batch', max=183, style=ProgressStyle(description_width='initi…"
      ]
     },
     "metadata": {},
     "output_type": "display_data"
    },
    {
     "name": "stdout",
     "output_type": "stream",
     "text": [
      "Epoch 545/1000 Iteration: 99800 Avg. Training loss: 5.3339 0.1662 sec/batch\n",
      "Epoch 545/1000 Iteration: 99900 Avg. Training loss: 5.3093 0.2554 sec/batch\n"
     ]
    },
    {
     "data": {
      "application/vnd.jupyter.widget-view+json": {
       "model_id": "",
       "version_major": 2,
       "version_minor": 0
      },
      "text/plain": [
       "HBox(children=(IntProgress(value=0, description='Batch', max=183, style=ProgressStyle(description_width='initi…"
      ]
     },
     "metadata": {},
     "output_type": "display_data"
    },
    {
     "name": "stdout",
     "output_type": "stream",
     "text": [
      "Epoch 546/1000 Iteration: 100000 Avg. Training loss: 5.5846 0.2092 sec/batch\n",
      "Nearest to parte: a, principalmente, também, que, ainda, da, de, à,\n",
      "Nearest to %: 00,0, 0,00, 0,0, alta, subiu, caíram, percentual, ante,\n",
      "Nearest to ele: que, mas, ainda, qual, não, também, só, o,\n",
      "Nearest to muito: bastante, mas, porque, pouco, só, mais, que, ainda,\n",
      "Nearest to do: o, também, de, ., ao, em, ainda, ,,\n",
      "Nearest to só: mas, mesmo, não, agora, que, até, porque, ainda,\n",
      "Nearest to da: a, na, de, parte, ., à, do, em,\n",
      "Nearest to (: ), 00, nesta, quinta, quarta, terça-feira, terça, quinta-feira,\n",
      "Nearest to pretende: vai, irá, decidiu, quer, planeja, pretendia, deve, vão,\n",
      "Nearest to encontrar: buscar, entender, achar, conversar, trazer, manter, confiar, sair,\n",
      "Nearest to continuar: continuará, vem, continua, está, agora, ainda, fazer, continuarem,\n",
      "Nearest to negócio: empresa, interesse, negócios, nesse, desse, esse, investir, que,\n",
      "Nearest to henrique: cardoso, meirelles, michel, fernando, tucanos, itamar, neves, aécio,\n",
      "Nearest to conversa: conversas, gravação, áudio, diálogo, conversar, gravada, interlocutor, jaburu,\n",
      "Nearest to data: datas, fim, ocorrerá, término, haverá, esta, início, ocorrer,\n",
      "Nearest to minas: gerais, pimentel, ufmg, mineiro, espírito, belo, mg, ceará,\n",
      "Epoch 546/1000 Iteration: 100100 Avg. Training loss: 5.3986 0.2653 sec/batch\n"
     ]
    },
    {
     "data": {
      "application/vnd.jupyter.widget-view+json": {
       "model_id": "",
       "version_major": 2,
       "version_minor": 0
      },
      "text/plain": [
       "HBox(children=(IntProgress(value=0, description='Batch', max=183, style=ProgressStyle(description_width='initi…"
      ]
     },
     "metadata": {},
     "output_type": "display_data"
    },
    {
     "name": "stdout",
     "output_type": "stream",
     "text": [
      "Epoch 547/1000 Iteration: 100200 Avg. Training loss: 5.5688 0.2535 sec/batch\n"
     ]
    },
    {
     "data": {
      "application/vnd.jupyter.widget-view+json": {
       "model_id": "",
       "version_major": 2,
       "version_minor": 0
      },
      "text/plain": [
       "HBox(children=(IntProgress(value=0, description='Batch', max=183, style=ProgressStyle(description_width='initi…"
      ]
     },
     "metadata": {},
     "output_type": "display_data"
    },
    {
     "name": "stdout",
     "output_type": "stream",
     "text": [
      "Epoch 548/1000 Iteration: 100300 Avg. Training loss: 5.4037 0.0413 sec/batch\n",
      "Epoch 548/1000 Iteration: 100400 Avg. Training loss: 5.3447 0.2541 sec/batch\n"
     ]
    },
    {
     "data": {
      "application/vnd.jupyter.widget-view+json": {
       "model_id": "",
       "version_major": 2,
       "version_minor": 0
      },
      "text/plain": [
       "HBox(children=(IntProgress(value=0, description='Batch', max=183, style=ProgressStyle(description_width='initi…"
      ]
     },
     "metadata": {},
     "output_type": "display_data"
    },
    {
     "name": "stdout",
     "output_type": "stream",
     "text": [
      "Epoch 549/1000 Iteration: 100500 Avg. Training loss: 5.6164 0.0851 sec/batch\n",
      "Epoch 549/1000 Iteration: 100600 Avg. Training loss: 5.6253 0.2565 sec/batch\n"
     ]
    },
    {
     "data": {
      "application/vnd.jupyter.widget-view+json": {
       "model_id": "",
       "version_major": 2,
       "version_minor": 0
      },
      "text/plain": [
       "HBox(children=(IntProgress(value=0, description='Batch', max=183, style=ProgressStyle(description_width='initi…"
      ]
     },
     "metadata": {},
     "output_type": "display_data"
    },
    {
     "name": "stdout",
     "output_type": "stream",
     "text": [
      "Epoch 550/1000 Iteration: 100700 Avg. Training loss: 5.5475 0.1291 sec/batch\n",
      "Epoch 550/1000 Iteration: 100800 Avg. Training loss: 5.2207 0.2573 sec/batch\n"
     ]
    },
    {
     "data": {
      "application/vnd.jupyter.widget-view+json": {
       "model_id": "",
       "version_major": 2,
       "version_minor": 0
      },
      "text/plain": [
       "HBox(children=(IntProgress(value=0, description='Batch', max=183, style=ProgressStyle(description_width='initi…"
      ]
     },
     "metadata": {},
     "output_type": "display_data"
    },
    {
     "name": "stdout",
     "output_type": "stream",
     "text": [
      "Epoch 551/1000 Iteration: 100900 Avg. Training loss: 5.2942 0.1711 sec/batch\n",
      "Epoch 551/1000 Iteration: 101000 Avg. Training loss: 5.5443 0.2548 sec/batch\n",
      "Nearest to as: das, essas, suas, todas, outras, algumas, dessas, duas,\n",
      "Nearest to os: dos, outros, também, esses, pelos, dois, alguns, cujos,\n",
      "Nearest to de: em, também, ., e, a, ,, que, do,\n",
      "Nearest to sobre: também, a, que, o, do, assunto, de, em,\n",
      "Nearest to são: paulo, e, de, ., em, do, na, sp,\n",
      "Nearest to contra: no, neste, de, ., na, em, após, do,\n",
      "Nearest to nas: das, pelas, as, primeiras, duas, de, suas, nessas,\n",
      "Nearest to é: tem, mas, só, ainda, que, do, não, apenas,\n",
      "Nearest to conseguir: ganhar, precisa, ajudar, tentar, difícil, suficiente, obter, para,\n",
      "Nearest to henrique: cardoso, meirelles, michel, fernando, tucanos, neves, itamar, governadores,\n",
      "Nearest to veio: levou, logo, depois, trouxe, representou, graças, fez, em,\n",
      "Nearest to ouro: medalha, prata, londres-0000, bronze, medalhista, medalhas, conquistou, natação,\n",
      "Nearest to |: grátis, prevenir, sexta, 0h, sarau, máxima, prevista, mesquiteiros,\n",
      "Nearest to luz: escuridão, energia, claro, manutenção, também, solar, e, entre,\n",
      "Nearest to comunicação: imprensa, secom, mídia, publicidade, ebc, civil, edinho, informação,\n",
      "Nearest to leva: levam, dá, cada, chega, tem, em, levar, levando,\n"
     ]
    },
    {
     "data": {
      "application/vnd.jupyter.widget-view+json": {
       "model_id": "",
       "version_major": 2,
       "version_minor": 0
      },
      "text/plain": [
       "HBox(children=(IntProgress(value=0, description='Batch', max=183, style=ProgressStyle(description_width='initi…"
      ]
     },
     "metadata": {},
     "output_type": "display_data"
    },
    {
     "name": "stdout",
     "output_type": "stream",
     "text": [
      "Epoch 552/1000 Iteration: 101100 Avg. Training loss: 5.5323 0.2140 sec/batch\n"
     ]
    },
    {
     "data": {
      "application/vnd.jupyter.widget-view+json": {
       "model_id": "",
       "version_major": 2,
       "version_minor": 0
      },
      "text/plain": [
       "HBox(children=(IntProgress(value=0, description='Batch', max=183, style=ProgressStyle(description_width='initi…"
      ]
     },
     "metadata": {},
     "output_type": "display_data"
    },
    {
     "name": "stdout",
     "output_type": "stream",
     "text": [
      "Epoch 553/1000 Iteration: 101200 Avg. Training loss: 5.2527 0.0027 sec/batch\n",
      "Epoch 553/1000 Iteration: 101300 Avg. Training loss: 5.3688 0.2554 sec/batch\n"
     ]
    },
    {
     "data": {
      "application/vnd.jupyter.widget-view+json": {
       "model_id": "",
       "version_major": 2,
       "version_minor": 0
      },
      "text/plain": [
       "HBox(children=(IntProgress(value=0, description='Batch', max=183, style=ProgressStyle(description_width='initi…"
      ]
     },
     "metadata": {},
     "output_type": "display_data"
    },
    {
     "name": "stdout",
     "output_type": "stream",
     "text": [
      "Epoch 554/1000 Iteration: 101400 Avg. Training loss: 5.2331 0.0461 sec/batch\n",
      "Epoch 554/1000 Iteration: 101500 Avg. Training loss: 5.2784 0.2549 sec/batch\n"
     ]
    },
    {
     "data": {
      "application/vnd.jupyter.widget-view+json": {
       "model_id": "",
       "version_major": 2,
       "version_minor": 0
      },
      "text/plain": [
       "HBox(children=(IntProgress(value=0, description='Batch', max=183, style=ProgressStyle(description_width='initi…"
      ]
     },
     "metadata": {},
     "output_type": "display_data"
    },
    {
     "name": "stdout",
     "output_type": "stream",
     "text": [
      "Epoch 555/1000 Iteration: 101600 Avg. Training loss: 5.3584 0.0903 sec/batch\n",
      "Epoch 555/1000 Iteration: 101700 Avg. Training loss: 5.4724 0.2574 sec/batch\n"
     ]
    },
    {
     "data": {
      "application/vnd.jupyter.widget-view+json": {
       "model_id": "",
       "version_major": 2,
       "version_minor": 0
      },
      "text/plain": [
       "HBox(children=(IntProgress(value=0, description='Batch', max=183, style=ProgressStyle(description_width='initi…"
      ]
     },
     "metadata": {},
     "output_type": "display_data"
    },
    {
     "name": "stdout",
     "output_type": "stream",
     "text": [
      "Epoch 556/1000 Iteration: 101800 Avg. Training loss: 5.5371 0.1333 sec/batch\n",
      "Epoch 556/1000 Iteration: 101900 Avg. Training loss: 5.4269 0.2544 sec/batch\n"
     ]
    },
    {
     "data": {
      "application/vnd.jupyter.widget-view+json": {
       "model_id": "",
       "version_major": 2,
       "version_minor": 0
      },
      "text/plain": [
       "HBox(children=(IntProgress(value=0, description='Batch', max=183, style=ProgressStyle(description_width='initi…"
      ]
     },
     "metadata": {},
     "output_type": "display_data"
    },
    {
     "name": "stdout",
     "output_type": "stream",
     "text": [
      "Epoch 557/1000 Iteration: 102000 Avg. Training loss: 5.4463 0.1767 sec/batch\n",
      "Nearest to as: das, essas, todas, dessas, outras, suas, algumas, mesmas,\n",
      "Nearest to aos: e, os, também, à, por, de, ., dos,\n",
      "Nearest to foram: serem, serão, estavam, seriam, forem, eram, quais, ainda,\n",
      "Nearest to que: ainda, ., também, mas, já, não, ele, mesmo,\n",
      "Nearest to 000: 00, mil, cerca, 0.000, r$, dobro, total, mais,\n",
      "Nearest to :: ., como, ,, no, sem, exemplo, e, em,\n",
      "Nearest to são: paulo, e, de, ., em, na, do, ,,\n",
      "Nearest to nas: das, as, pelas, primeiras, algumas, suas, nessas, de,\n",
      "Nearest to internacionais: nacionais, internacional, país, brasil, eua, incluindo, principalmente, estrangeiros,\n",
      "Nearest to escreveu: publicou, ,, pelo, fim, dúvida, seu, devendo, próprio,\n",
      "Nearest to desempenho: resultado, fraco, maior, terceiro, apesar, entanto, mesmo, esperado,\n",
      "Nearest to somente: mesmo, apenas, só, ainda, será, porém, ., já,\n",
      "Nearest to famílias: pessoas, jovens, pobres, crianças, família, crescimento, moram, terço,\n",
      "Nearest to recuperação: melhora, recuperar, ainda, agora, retomada, judicial, econômica, apresentar,\n",
      "Nearest to unido: reino, brexit, ue, europeia, britânicos, permanência, saída, britânica,\n",
      "Nearest to conhecido: considerado, chamado, principalmente, exemplo, reconhecido, responsável, do, o,\n",
      "Epoch 557/1000 Iteration: 102100 Avg. Training loss: 5.3828 0.2641 sec/batch\n"
     ]
    },
    {
     "data": {
      "application/vnd.jupyter.widget-view+json": {
       "model_id": "",
       "version_major": 2,
       "version_minor": 0
      },
      "text/plain": [
       "HBox(children=(IntProgress(value=0, description='Batch', max=183, style=ProgressStyle(description_width='initi…"
      ]
     },
     "metadata": {},
     "output_type": "display_data"
    },
    {
     "name": "stdout",
     "output_type": "stream",
     "text": [
      "Epoch 558/1000 Iteration: 102200 Avg. Training loss: 5.2925 0.2204 sec/batch\n"
     ]
    },
    {
     "data": {
      "application/vnd.jupyter.widget-view+json": {
       "model_id": "",
       "version_major": 2,
       "version_minor": 0
      },
      "text/plain": [
       "HBox(children=(IntProgress(value=0, description='Batch', max=183, style=ProgressStyle(description_width='initi…"
      ]
     },
     "metadata": {},
     "output_type": "display_data"
    },
    {
     "name": "stdout",
     "output_type": "stream",
     "text": [
      "Epoch 559/1000 Iteration: 102300 Avg. Training loss: 5.3322 0.0078 sec/batch\n",
      "Epoch 559/1000 Iteration: 102400 Avg. Training loss: 5.1807 0.2550 sec/batch\n"
     ]
    },
    {
     "data": {
      "application/vnd.jupyter.widget-view+json": {
       "model_id": "",
       "version_major": 2,
       "version_minor": 0
      },
      "text/plain": [
       "HBox(children=(IntProgress(value=0, description='Batch', max=183, style=ProgressStyle(description_width='initi…"
      ]
     },
     "metadata": {},
     "output_type": "display_data"
    },
    {
     "name": "stdout",
     "output_type": "stream",
     "text": [
      "Epoch 560/1000 Iteration: 102500 Avg. Training loss: 5.4464 0.0509 sec/batch\n",
      "Epoch 560/1000 Iteration: 102600 Avg. Training loss: 5.4632 0.2552 sec/batch\n"
     ]
    },
    {
     "data": {
      "application/vnd.jupyter.widget-view+json": {
       "model_id": "",
       "version_major": 2,
       "version_minor": 0
      },
      "text/plain": [
       "HBox(children=(IntProgress(value=0, description='Batch', max=183, style=ProgressStyle(description_width='initi…"
      ]
     },
     "metadata": {},
     "output_type": "display_data"
    },
    {
     "name": "stdout",
     "output_type": "stream",
     "text": [
      "Epoch 561/1000 Iteration: 102700 Avg. Training loss: 5.2796 0.0945 sec/batch\n",
      "Epoch 561/1000 Iteration: 102800 Avg. Training loss: 5.5367 0.2548 sec/batch\n"
     ]
    },
    {
     "data": {
      "application/vnd.jupyter.widget-view+json": {
       "model_id": "",
       "version_major": 2,
       "version_minor": 0
      },
      "text/plain": [
       "HBox(children=(IntProgress(value=0, description='Batch', max=183, style=ProgressStyle(description_width='initi…"
      ]
     },
     "metadata": {},
     "output_type": "display_data"
    },
    {
     "name": "stdout",
     "output_type": "stream",
     "text": [
      "Epoch 562/1000 Iteration: 102900 Avg. Training loss: 5.4907 0.1383 sec/batch\n",
      "Epoch 562/1000 Iteration: 103000 Avg. Training loss: 5.6245 0.2551 sec/batch\n",
      "Nearest to por: e, também, de, ., que, ,, já, em,\n",
      "Nearest to anos: meses, últimos, oito, depois, cinco, dias, três, seguintes,\n",
      "Nearest to pode: poderá, deve, poderia, possível, vai, costuma, houver, possa,\n",
      "Nearest to sem: ., apenas, de, e, só, a, pode, também,\n",
      "Nearest to se: que, quem, ele, mais, pois, porém, ainda, ela,\n",
      "Nearest to só: mas, não, mesmo, até, que, agora, ainda, porque,\n",
      "Nearest to diz: afirma, mas, que, conta, ., considera, admite, disse,\n",
      "Nearest to o: do, ainda, um, também, que, mesmo, ., ao,\n",
      "Nearest to instituição: financeira, instituições, banco, administração, pública, a, à, ajuda,\n",
      "Nearest to seguinte: dia, publicadas, sempre, antes, ontem, última, edição, quando,\n",
      "Nearest to militares: militar, soldados, policiais, civis, armadas, tropas, exército, oficiais,\n",
      "Nearest to provas: prova, evidências, alegações, obtidas, documentais, acusações, indícios, informações,\n",
      "Nearest to globo: tv, record, emissora, televisão, sbt, novelas, audiência, band,\n",
      "Nearest to deverá: poderá, deve, terá, irá, vai, deverão, ficará, voltará,\n",
      "Nearest to ouro: medalha, prata, londres-0000, bronze, medalhas, conquistou, medalhista, natação,\n",
      "Nearest to demanda: oferta, entanto, principalmente, melhora, reflexo, mercado, externo, expansão,\n"
     ]
    },
    {
     "data": {
      "application/vnd.jupyter.widget-view+json": {
       "model_id": "",
       "version_major": 2,
       "version_minor": 0
      },
      "text/plain": [
       "HBox(children=(IntProgress(value=0, description='Batch', max=183, style=ProgressStyle(description_width='initi…"
      ]
     },
     "metadata": {},
     "output_type": "display_data"
    },
    {
     "name": "stdout",
     "output_type": "stream",
     "text": [
      "Epoch 563/1000 Iteration: 103100 Avg. Training loss: 5.4903 0.1814 sec/batch\n",
      "Epoch 563/1000 Iteration: 103200 Avg. Training loss: 5.5478 0.2557 sec/batch\n"
     ]
    },
    {
     "data": {
      "application/vnd.jupyter.widget-view+json": {
       "model_id": "",
       "version_major": 2,
       "version_minor": 0
      },
      "text/plain": [
       "HBox(children=(IntProgress(value=0, description='Batch', max=183, style=ProgressStyle(description_width='initi…"
      ]
     },
     "metadata": {},
     "output_type": "display_data"
    },
    {
     "name": "stdout",
     "output_type": "stream",
     "text": [
      "Epoch 564/1000 Iteration: 103300 Avg. Training loss: 5.2758 0.2255 sec/batch\n"
     ]
    },
    {
     "data": {
      "application/vnd.jupyter.widget-view+json": {
       "model_id": "",
       "version_major": 2,
       "version_minor": 0
      },
      "text/plain": [
       "HBox(children=(IntProgress(value=0, description='Batch', max=183, style=ProgressStyle(description_width='initi…"
      ]
     },
     "metadata": {},
     "output_type": "display_data"
    },
    {
     "name": "stdout",
     "output_type": "stream",
     "text": [
      "Epoch 565/1000 Iteration: 103400 Avg. Training loss: 5.3084 0.0130 sec/batch\n",
      "Epoch 565/1000 Iteration: 103500 Avg. Training loss: 5.5246 0.2549 sec/batch\n"
     ]
    },
    {
     "data": {
      "application/vnd.jupyter.widget-view+json": {
       "model_id": "",
       "version_major": 2,
       "version_minor": 0
      },
      "text/plain": [
       "HBox(children=(IntProgress(value=0, description='Batch', max=183, style=ProgressStyle(description_width='initi…"
      ]
     },
     "metadata": {},
     "output_type": "display_data"
    },
    {
     "name": "stdout",
     "output_type": "stream",
     "text": [
      "Epoch 566/1000 Iteration: 103600 Avg. Training loss: 5.4452 0.0564 sec/batch\n",
      "Epoch 566/1000 Iteration: 103700 Avg. Training loss: 5.3507 0.2557 sec/batch\n"
     ]
    },
    {
     "data": {
      "application/vnd.jupyter.widget-view+json": {
       "model_id": "",
       "version_major": 2,
       "version_minor": 0
      },
      "text/plain": [
       "HBox(children=(IntProgress(value=0, description='Batch', max=183, style=ProgressStyle(description_width='initi…"
      ]
     },
     "metadata": {},
     "output_type": "display_data"
    },
    {
     "name": "stdout",
     "output_type": "stream",
     "text": [
      "Epoch 567/1000 Iteration: 103800 Avg. Training loss: 5.2717 0.1023 sec/batch\n",
      "Epoch 567/1000 Iteration: 103900 Avg. Training loss: 5.3233 0.2563 sec/batch\n"
     ]
    },
    {
     "data": {
      "application/vnd.jupyter.widget-view+json": {
       "model_id": "",
       "version_major": 2,
       "version_minor": 0
      },
      "text/plain": [
       "HBox(children=(IntProgress(value=0, description='Batch', max=183, style=ProgressStyle(description_width='initi…"
      ]
     },
     "metadata": {},
     "output_type": "display_data"
    },
    {
     "name": "stdout",
     "output_type": "stream",
     "text": [
      "Epoch 568/1000 Iteration: 104000 Avg. Training loss: 5.3930 0.1442 sec/batch\n",
      "Nearest to 0000: abril, outubro, ano, março, passado, junho, maio, desde,\n",
      "Nearest to à: a, também, parte, de, ., que, da, e,\n",
      "Nearest to no: ., o, em, do, ainda, último, na, de,\n",
      "Nearest to 00: em, 000, de, até, 0, na, ., neste,\n",
      "Nearest to r$: 000, us$, 00,00, 00, valor, aproximadamente, quanto, bilhão,\n",
      "Nearest to por: e, de, também, ., já, em, que, apenas,\n",
      "Nearest to muito: bastante, mas, tão, porque, nada, diferente, algo, mais,\n",
      "Nearest to ser: foi, sido, será, pelo, pois, ter, sendo, somente,\n",
      "Nearest to estratégia: tentar, a, ideia, buscou, tática, objetivo, possível, tentativa,\n",
      "Nearest to chefe: gabinete, ex-chefe, chefia, afirmou, indicou, assumiu, disse, departamento,\n",
      "Nearest to global: aquecimento, recente, países, climática, globais, commodities, china, brasil,\n",
      "Nearest to festival: festivais, cannes, veneza, edição, exibido, evento, programação, cinema,\n",
      "Nearest to filha: mãe, mulher, ela, dela, menina, avó, filhas, filhos,\n",
      "Nearest to casas: residências, moradias, em, delas, prédios, rapidamente, maioria, mais,\n",
      "Nearest to escreveu: ,, referindo-se, fez, seu, publicou, próprio, presente, disse,\n",
      "Nearest to mar: mediterrâneo, oceano, embarcações, barco, travessia, atlântico, navio, areia,\n",
      "Epoch 568/1000 Iteration: 104100 Avg. Training loss: 5.2928 0.2681 sec/batch\n"
     ]
    },
    {
     "data": {
      "application/vnd.jupyter.widget-view+json": {
       "model_id": "",
       "version_major": 2,
       "version_minor": 0
      },
      "text/plain": [
       "HBox(children=(IntProgress(value=0, description='Batch', max=183, style=ProgressStyle(description_width='initi…"
      ]
     },
     "metadata": {},
     "output_type": "display_data"
    },
    {
     "name": "stdout",
     "output_type": "stream",
     "text": [
      "Epoch 569/1000 Iteration: 104200 Avg. Training loss: 5.3632 0.1878 sec/batch\n",
      "Epoch 569/1000 Iteration: 104300 Avg. Training loss: 5.4921 0.2560 sec/batch\n"
     ]
    },
    {
     "data": {
      "application/vnd.jupyter.widget-view+json": {
       "model_id": "",
       "version_major": 2,
       "version_minor": 0
      },
      "text/plain": [
       "HBox(children=(IntProgress(value=0, description='Batch', max=183, style=ProgressStyle(description_width='initi…"
      ]
     },
     "metadata": {},
     "output_type": "display_data"
    },
    {
     "name": "stdout",
     "output_type": "stream",
     "text": [
      "Epoch 570/1000 Iteration: 104400 Avg. Training loss: 5.4431 0.2308 sec/batch\n"
     ]
    },
    {
     "data": {
      "application/vnd.jupyter.widget-view+json": {
       "model_id": "",
       "version_major": 2,
       "version_minor": 0
      },
      "text/plain": [
       "HBox(children=(IntProgress(value=0, description='Batch', max=183, style=ProgressStyle(description_width='initi…"
      ]
     },
     "metadata": {},
     "output_type": "display_data"
    },
    {
     "name": "stdout",
     "output_type": "stream",
     "text": [
      "Epoch 571/1000 Iteration: 104500 Avg. Training loss: 5.3172 0.0184 sec/batch\n",
      "Epoch 571/1000 Iteration: 104600 Avg. Training loss: 5.5964 0.2596 sec/batch\n"
     ]
    },
    {
     "data": {
      "application/vnd.jupyter.widget-view+json": {
       "model_id": "",
       "version_major": 2,
       "version_minor": 0
      },
      "text/plain": [
       "HBox(children=(IntProgress(value=0, description='Batch', max=183, style=ProgressStyle(description_width='initi…"
      ]
     },
     "metadata": {},
     "output_type": "display_data"
    },
    {
     "name": "stdout",
     "output_type": "stream",
     "text": [
      "Epoch 572/1000 Iteration: 104700 Avg. Training loss: 5.5530 0.0621 sec/batch\n",
      "Epoch 572/1000 Iteration: 104800 Avg. Training loss: 5.5246 0.2554 sec/batch\n"
     ]
    },
    {
     "data": {
      "application/vnd.jupyter.widget-view+json": {
       "model_id": "",
       "version_major": 2,
       "version_minor": 0
      },
      "text/plain": [
       "HBox(children=(IntProgress(value=0, description='Batch', max=183, style=ProgressStyle(description_width='initi…"
      ]
     },
     "metadata": {},
     "output_type": "display_data"
    },
    {
     "name": "stdout",
     "output_type": "stream",
     "text": [
      "Epoch 573/1000 Iteration: 104900 Avg. Training loss: 5.4006 0.1050 sec/batch\n",
      "Epoch 573/1000 Iteration: 105000 Avg. Training loss: 5.3226 0.2548 sec/batch\n",
      "Nearest to o: do, um, também, ainda, ao, no, ., novo,\n",
      "Nearest to às: 00h, hoje, domingo, das, sábado, sexta, amanhã, volta,\n",
      "Nearest to desde: início, em, passado, março, maio, 0000, setembro, julho,\n",
      "Nearest to seu: próprio, o, do, ao, um, dele, de, também,\n",
      "Nearest to diz: afirma, ., que, conta, mas, ainda, ,, também,\n",
      "Nearest to está: continua, estava, estaria, vem, esteja, continuará, estar, estará,\n",
      "Nearest to dois: três, oito, outros, nove, seis, cinco, deles, menos,\n",
      "Nearest to pelo: o, ainda, do, qual, ., também, já, pela,\n",
      "Nearest to diferença: mas, apenas, mesmo, é, menos, entanto, porém, maior,\n",
      "Nearest to desempenho: resultado, fraco, maior, negativo, piora, esperado, crescimento, impacto,\n",
      "Nearest to recuperação: recuperar, melhora, judicial, retomada, econômica, ainda, manter, crescimento,\n",
      "Nearest to data: fim, haverá, antes, início, término, dia, ocorrerá, esta,\n",
      "Nearest to EMAIL: basta, enviar, envie, e-mail, traduzem, publicados, acessar, colaborar,\n",
      "Nearest to bairro: oeste, entorno, bairros, residencial, morador, prédio, reduto, cidade,\n",
      "Nearest to tomar: toma, tomou, tomando, tomará, tomado, tome, tomam, tomarem,\n",
      "Nearest to amigo: começo, dentro, ele, conheço, deles, mas, seu, próprio,\n"
     ]
    },
    {
     "data": {
      "application/vnd.jupyter.widget-view+json": {
       "model_id": "",
       "version_major": 2,
       "version_minor": 0
      },
      "text/plain": [
       "HBox(children=(IntProgress(value=0, description='Batch', max=183, style=ProgressStyle(description_width='initi…"
      ]
     },
     "metadata": {},
     "output_type": "display_data"
    },
    {
     "name": "stdout",
     "output_type": "stream",
     "text": [
      "Epoch 574/1000 Iteration: 105100 Avg. Training loss: 5.3310 0.1481 sec/batch\n",
      "Epoch 574/1000 Iteration: 105200 Avg. Training loss: 5.2329 0.2573 sec/batch\n"
     ]
    },
    {
     "data": {
      "application/vnd.jupyter.widget-view+json": {
       "model_id": "",
       "version_major": 2,
       "version_minor": 0
      },
      "text/plain": [
       "HBox(children=(IntProgress(value=0, description='Batch', max=183, style=ProgressStyle(description_width='initi…"
      ]
     },
     "metadata": {},
     "output_type": "display_data"
    },
    {
     "name": "stdout",
     "output_type": "stream",
     "text": [
      "Epoch 575/1000 Iteration: 105300 Avg. Training loss: 5.6330 0.1931 sec/batch\n",
      "Epoch 575/1000 Iteration: 105400 Avg. Training loss: 5.3828 0.2575 sec/batch\n"
     ]
    },
    {
     "data": {
      "application/vnd.jupyter.widget-view+json": {
       "model_id": "",
       "version_major": 2,
       "version_minor": 0
      },
      "text/plain": [
       "HBox(children=(IntProgress(value=0, description='Batch', max=183, style=ProgressStyle(description_width='initi…"
      ]
     },
     "metadata": {},
     "output_type": "display_data"
    },
    {
     "name": "stdout",
     "output_type": "stream",
     "text": [
      "Epoch 576/1000 Iteration: 105500 Avg. Training loss: 5.5165 0.2350 sec/batch\n"
     ]
    },
    {
     "data": {
      "application/vnd.jupyter.widget-view+json": {
       "model_id": "",
       "version_major": 2,
       "version_minor": 0
      },
      "text/plain": [
       "HBox(children=(IntProgress(value=0, description='Batch', max=183, style=ProgressStyle(description_width='initi…"
      ]
     },
     "metadata": {},
     "output_type": "display_data"
    },
    {
     "name": "stdout",
     "output_type": "stream",
     "text": [
      "Epoch 577/1000 Iteration: 105600 Avg. Training loss: 5.2800 0.0236 sec/batch\n",
      "Epoch 577/1000 Iteration: 105700 Avg. Training loss: 5.4140 0.2560 sec/batch\n"
     ]
    },
    {
     "data": {
      "application/vnd.jupyter.widget-view+json": {
       "model_id": "",
       "version_major": 2,
       "version_minor": 0
      },
      "text/plain": [
       "HBox(children=(IntProgress(value=0, description='Batch', max=183, style=ProgressStyle(description_width='initi…"
      ]
     },
     "metadata": {},
     "output_type": "display_data"
    },
    {
     "name": "stdout",
     "output_type": "stream",
     "text": [
      "Epoch 578/1000 Iteration: 105800 Avg. Training loss: 5.3829 0.0666 sec/batch\n",
      "Epoch 578/1000 Iteration: 105900 Avg. Training loss: 5.3396 0.2542 sec/batch\n"
     ]
    },
    {
     "data": {
      "application/vnd.jupyter.widget-view+json": {
       "model_id": "",
       "version_major": 2,
       "version_minor": 0
      },
      "text/plain": [
       "HBox(children=(IntProgress(value=0, description='Batch', max=183, style=ProgressStyle(description_width='initi…"
      ]
     },
     "metadata": {},
     "output_type": "display_data"
    },
    {
     "name": "stdout",
     "output_type": "stream",
     "text": [
      "Epoch 579/1000 Iteration: 106000 Avg. Training loss: 5.4560 0.1107 sec/batch\n",
      "Nearest to o: do, ainda, um, no, também, ., ao, já,\n",
      "Nearest to vai: irá, pretende, vão, poderá, deve, terá, quer, começar,\n",
      "Nearest to brasil: no, país, ., mundo, brasileiro, do, para, com,\n",
      "Nearest to e: com, ., ,, também, de, por, a, em,\n",
      "Nearest to sua: própria, para, a, notícia, à, uma, da, toda,\n",
      "Nearest to também: de, a, e, o, ., que, em, ainda,\n",
      "Nearest to ou: podem, isso, para, preferir, seja, os, ., com,\n",
      "Nearest to foi: pelo, já, depois, ele, após, qual, havia, uma,\n",
      "Nearest to festival: festivais, cannes, evento, programação, edição, lollapalooza, acontece, exibido,\n",
      "Nearest to queria: iria, poderia, precisava, pensava, podia, conseguiria, pretendia, daria,\n",
      "Nearest to parlamentares: deputados, congressistas, governistas, votação, senadores, plenário, câmara, bancada,\n",
      "Nearest to somente: mesmo, apenas, só, ., ainda, até, já, de,\n",
      "Nearest to colocar: levar, fazer, deixar, sair, virar, colocou, mostrar, ver,\n",
      "Nearest to mar: mediterrâneo, travessia, oceano, barco, embarcações, praia, praias, líbia,\n",
      "Nearest to simples: é, vez, porém, seja, inclusive, só, para, fazer,\n",
      "Nearest to EMAIL: basta, enviar, e-mail, envie, traduzem, publicados, acessar, artigos,\n",
      "Epoch 579/1000 Iteration: 106100 Avg. Training loss: 5.3971 0.2650 sec/batch\n"
     ]
    },
    {
     "data": {
      "application/vnd.jupyter.widget-view+json": {
       "model_id": "",
       "version_major": 2,
       "version_minor": 0
      },
      "text/plain": [
       "HBox(children=(IntProgress(value=0, description='Batch', max=183, style=ProgressStyle(description_width='initi…"
      ]
     },
     "metadata": {},
     "output_type": "display_data"
    },
    {
     "name": "stdout",
     "output_type": "stream",
     "text": [
      "Epoch 580/1000 Iteration: 106200 Avg. Training loss: 5.2890 0.1532 sec/batch\n",
      "Epoch 580/1000 Iteration: 106300 Avg. Training loss: 5.3599 0.2560 sec/batch\n"
     ]
    },
    {
     "data": {
      "application/vnd.jupyter.widget-view+json": {
       "model_id": "",
       "version_major": 2,
       "version_minor": 0
      },
      "text/plain": [
       "HBox(children=(IntProgress(value=0, description='Batch', max=183, style=ProgressStyle(description_width='initi…"
      ]
     },
     "metadata": {},
     "output_type": "display_data"
    },
    {
     "name": "stdout",
     "output_type": "stream",
     "text": [
      "Epoch 581/1000 Iteration: 106400 Avg. Training loss: 5.2939 0.1969 sec/batch\n",
      "Epoch 581/1000 Iteration: 106500 Avg. Training loss: 5.4560 0.2585 sec/batch\n"
     ]
    },
    {
     "data": {
      "application/vnd.jupyter.widget-view+json": {
       "model_id": "",
       "version_major": 2,
       "version_minor": 0
      },
      "text/plain": [
       "HBox(children=(IntProgress(value=0, description='Batch', max=183, style=ProgressStyle(description_width='initi…"
      ]
     },
     "metadata": {},
     "output_type": "display_data"
    },
    {
     "name": "stdout",
     "output_type": "stream",
     "text": [
      "Epoch 582/1000 Iteration: 106600 Avg. Training loss: 5.3076 0.2413 sec/batch\n"
     ]
    },
    {
     "data": {
      "application/vnd.jupyter.widget-view+json": {
       "model_id": "",
       "version_major": 2,
       "version_minor": 0
      },
      "text/plain": [
       "HBox(children=(IntProgress(value=0, description='Batch', max=183, style=ProgressStyle(description_width='initi…"
      ]
     },
     "metadata": {},
     "output_type": "display_data"
    },
    {
     "name": "stdout",
     "output_type": "stream",
     "text": [
      "Epoch 583/1000 Iteration: 106700 Avg. Training loss: 5.3733 0.0290 sec/batch\n",
      "Epoch 583/1000 Iteration: 106800 Avg. Training loss: 5.5176 0.2551 sec/batch\n"
     ]
    },
    {
     "data": {
      "application/vnd.jupyter.widget-view+json": {
       "model_id": "",
       "version_major": 2,
       "version_minor": 0
      },
      "text/plain": [
       "HBox(children=(IntProgress(value=0, description='Batch', max=183, style=ProgressStyle(description_width='initi…"
      ]
     },
     "metadata": {},
     "output_type": "display_data"
    },
    {
     "name": "stdout",
     "output_type": "stream",
     "text": [
      "Epoch 584/1000 Iteration: 106900 Avg. Training loss: 5.5201 0.0719 sec/batch\n",
      "Epoch 584/1000 Iteration: 107000 Avg. Training loss: 5.5073 0.2555 sec/batch\n",
      "Nearest to que: ainda, ., ele, já, também, não, mas, a,\n",
      "Nearest to os: dos, outros, esses, alguns, ., todos, deles, também,\n",
      "Nearest to às: 00h, hoje, sexta, amanhã, domingo, volta, das, senhora,\n",
      "Nearest to governo: congresso, aprovação, apoio, oposição, que, país, aprovar, ainda,\n",
      "Nearest to anos: meses, últimos, oito, depois, dias, cinco, 0000, três,\n",
      "Nearest to ano: passado, mês, deste, abril, maio, anterior, março, outubro,\n",
      "Nearest to após: depois, antes, última, teve, em, na, início, a,\n",
      "Nearest to em: de, também, ., ,, na, com, do, o,\n",
      "Nearest to deverá: deve, poderá, terá, vai, irá, possa, deverão, deveria,\n",
      "Nearest to década: 0000, meados, desde, anos, passou, últimos, 0000-, nos,\n",
      "Nearest to lima: articulador, argumentou, vieira, anular, ter, abreu, geddel, araújo,\n",
      "Nearest to data: fim, antes, datas, esta, dia, haverá, somente, término,\n",
      "Nearest to conseguir: ajudar, para, obter, ganhar, consiga, tentar, precisa, difícil,\n",
      "Nearest to avenida: rua, avenidas, pedestres, ciclovia, manifestantes, praça, marginal, pedestre,\n",
      "Nearest to globo: tv, record, emissora, novela, sbt, televisão, novelas, canal,\n",
      "Nearest to referência: vista, utilizado, citou, usado, o, do, principal, encerrou,\n"
     ]
    },
    {
     "data": {
      "application/vnd.jupyter.widget-view+json": {
       "model_id": "",
       "version_major": 2,
       "version_minor": 0
      },
      "text/plain": [
       "HBox(children=(IntProgress(value=0, description='Batch', max=183, style=ProgressStyle(description_width='initi…"
      ]
     },
     "metadata": {},
     "output_type": "display_data"
    },
    {
     "name": "stdout",
     "output_type": "stream",
     "text": [
      "Epoch 585/1000 Iteration: 107100 Avg. Training loss: 5.5144 0.1148 sec/batch\n",
      "Epoch 585/1000 Iteration: 107200 Avg. Training loss: 5.6435 0.2543 sec/batch\n"
     ]
    },
    {
     "data": {
      "application/vnd.jupyter.widget-view+json": {
       "model_id": "",
       "version_major": 2,
       "version_minor": 0
      },
      "text/plain": [
       "HBox(children=(IntProgress(value=0, description='Batch', max=183, style=ProgressStyle(description_width='initi…"
      ]
     },
     "metadata": {},
     "output_type": "display_data"
    },
    {
     "name": "stdout",
     "output_type": "stream",
     "text": [
      "Epoch 586/1000 Iteration: 107300 Avg. Training loss: 5.4297 0.1590 sec/batch\n",
      "Epoch 586/1000 Iteration: 107400 Avg. Training loss: 5.4990 0.2555 sec/batch\n"
     ]
    },
    {
     "data": {
      "application/vnd.jupyter.widget-view+json": {
       "model_id": "",
       "version_major": 2,
       "version_minor": 0
      },
      "text/plain": [
       "HBox(children=(IntProgress(value=0, description='Batch', max=183, style=ProgressStyle(description_width='initi…"
      ]
     },
     "metadata": {},
     "output_type": "display_data"
    },
    {
     "name": "stdout",
     "output_type": "stream",
     "text": [
      "Epoch 587/1000 Iteration: 107500 Avg. Training loss: 5.1463 0.2023 sec/batch\n",
      "Epoch 587/1000 Iteration: 107600 Avg. Training loss: 5.3322 0.2548 sec/batch\n"
     ]
    },
    {
     "data": {
      "application/vnd.jupyter.widget-view+json": {
       "model_id": "",
       "version_major": 2,
       "version_minor": 0
      },
      "text/plain": [
       "HBox(children=(IntProgress(value=0, description='Batch', max=183, style=ProgressStyle(description_width='initi…"
      ]
     },
     "metadata": {},
     "output_type": "display_data"
    },
    {
     "name": "stdout",
     "output_type": "stream",
     "text": [
      "Epoch 588/1000 Iteration: 107700 Avg. Training loss: 5.3268 0.2450 sec/batch\n"
     ]
    },
    {
     "data": {
      "application/vnd.jupyter.widget-view+json": {
       "model_id": "",
       "version_major": 2,
       "version_minor": 0
      },
      "text/plain": [
       "HBox(children=(IntProgress(value=0, description='Batch', max=183, style=ProgressStyle(description_width='initi…"
      ]
     },
     "metadata": {},
     "output_type": "display_data"
    },
    {
     "name": "stdout",
     "output_type": "stream",
     "text": [
      "Epoch 589/1000 Iteration: 107800 Avg. Training loss: 5.3592 0.0337 sec/batch\n",
      "Epoch 589/1000 Iteration: 107900 Avg. Training loss: 5.6277 0.2553 sec/batch\n"
     ]
    },
    {
     "data": {
      "application/vnd.jupyter.widget-view+json": {
       "model_id": "",
       "version_major": 2,
       "version_minor": 0
      },
      "text/plain": [
       "HBox(children=(IntProgress(value=0, description='Batch', max=183, style=ProgressStyle(description_width='initi…"
      ]
     },
     "metadata": {},
     "output_type": "display_data"
    },
    {
     "name": "stdout",
     "output_type": "stream",
     "text": [
      "Epoch 590/1000 Iteration: 108000 Avg. Training loss: 5.3305 0.0769 sec/batch\n",
      "Nearest to o: do, um, também, ainda, ., ao, no, já,\n",
      "Nearest to para: a, ainda, ., de, com, também, o, em,\n",
      "Nearest to muito: bastante, mas, pouco, porque, tão, que, mais, longe,\n",
      "Nearest to por: e, também, já, ., de, que, ,, exemplo,\n",
      "Nearest to estão: estavam, estariam, continuam, está, estarão, já, ., seguem,\n",
      "Nearest to só: mas, mesmo, agora, não, porque, já, ainda, que,\n",
      "Nearest to tem: têm, mesmo, é, de, tendo, só, parte, .,\n",
      "Nearest to :: ., exemplo, ?, só, como, e, quando, no,\n",
      "Nearest to tomar: tomou, toma, tomará, tome, tomado, tomam, tomadas, tomando,\n",
      "Nearest to avenida: rua, avenidas, pedestres, ciclovia, vias, marginal, canteiro, semáforo,\n",
      "Nearest to |: grátis, sexta, prevenir, 0h, sábado, sarau, 00h, terça,\n",
      "Nearest to esporte: esportes, esportistas, atleta, atletas, modalidades, esportiva, natação, olimpíada,\n",
      "Nearest to números: dados, estatísticas, resultados, divulgados, recentes, positivos, indicadores, registros,\n",
      "Nearest to filmes: cinema, filme, cineastas, estúdios, cinemas, cineasta, produções, exibição,\n",
      "Nearest to livros: didáticos, editoras, romances, volumes, literatura, textos, história, best-sellers,\n",
      "Nearest to sede: em, abriga, abrigar, ocorreu, na, de, tem, abrigou,\n",
      "Epoch 590/1000 Iteration: 108100 Avg. Training loss: 5.2925 0.2644 sec/batch\n"
     ]
    },
    {
     "data": {
      "application/vnd.jupyter.widget-view+json": {
       "model_id": "",
       "version_major": 2,
       "version_minor": 0
      },
      "text/plain": [
       "HBox(children=(IntProgress(value=0, description='Batch', max=183, style=ProgressStyle(description_width='initi…"
      ]
     },
     "metadata": {},
     "output_type": "display_data"
    },
    {
     "name": "stdout",
     "output_type": "stream",
     "text": [
      "Epoch 591/1000 Iteration: 108200 Avg. Training loss: 5.4861 0.1200 sec/batch\n",
      "Epoch 591/1000 Iteration: 108300 Avg. Training loss: 5.5046 0.2547 sec/batch\n"
     ]
    },
    {
     "data": {
      "application/vnd.jupyter.widget-view+json": {
       "model_id": "",
       "version_major": 2,
       "version_minor": 0
      },
      "text/plain": [
       "HBox(children=(IntProgress(value=0, description='Batch', max=183, style=ProgressStyle(description_width='initi…"
      ]
     },
     "metadata": {},
     "output_type": "display_data"
    },
    {
     "name": "stdout",
     "output_type": "stream",
     "text": [
      "Epoch 592/1000 Iteration: 108400 Avg. Training loss: 5.4988 0.1648 sec/batch\n",
      "Epoch 592/1000 Iteration: 108500 Avg. Training loss: 5.4605 0.2558 sec/batch\n"
     ]
    },
    {
     "data": {
      "application/vnd.jupyter.widget-view+json": {
       "model_id": "",
       "version_major": 2,
       "version_minor": 0
      },
      "text/plain": [
       "HBox(children=(IntProgress(value=0, description='Batch', max=183, style=ProgressStyle(description_width='initi…"
      ]
     },
     "metadata": {},
     "output_type": "display_data"
    },
    {
     "name": "stdout",
     "output_type": "stream",
     "text": [
      "Epoch 593/1000 Iteration: 108600 Avg. Training loss: 5.5500 0.2069 sec/batch\n",
      "Epoch 593/1000 Iteration: 108700 Avg. Training loss: 5.4088 0.2547 sec/batch\n"
     ]
    },
    {
     "data": {
      "application/vnd.jupyter.widget-view+json": {
       "model_id": "",
       "version_major": 2,
       "version_minor": 0
      },
      "text/plain": [
       "HBox(children=(IntProgress(value=0, description='Batch', max=183, style=ProgressStyle(description_width='initi…"
      ]
     },
     "metadata": {},
     "output_type": "display_data"
    },
    {
     "name": "stdout",
     "output_type": "stream",
     "text": [
      "Epoch 594/1000 Iteration: 108800 Avg. Training loss: 5.2265 0.2500 sec/batch\n"
     ]
    },
    {
     "data": {
      "application/vnd.jupyter.widget-view+json": {
       "model_id": "",
       "version_major": 2,
       "version_minor": 0
      },
      "text/plain": [
       "HBox(children=(IntProgress(value=0, description='Batch', max=183, style=ProgressStyle(description_width='initi…"
      ]
     },
     "metadata": {},
     "output_type": "display_data"
    },
    {
     "name": "stdout",
     "output_type": "stream",
     "text": [
      "Epoch 595/1000 Iteration: 108900 Avg. Training loss: 5.4095 0.0387 sec/batch\n",
      "Epoch 595/1000 Iteration: 109000 Avg. Training loss: 5.5162 0.2559 sec/batch\n",
      "Nearest to por: também, que, e, ., em, de, já, ,,\n",
      "Nearest to os: dos, outros, esses, alguns, todos, ., seus, dois,\n",
      "Nearest to paulo: são, sp, paulista, de, e, ., na, a,\n",
      "Nearest to o: do, um, também, ainda, ., que, ao, já,\n",
      "Nearest to nas: das, as, pelas, primeiras, suas, algumas, próximas, nessas,\n",
      "Nearest to vai: irá, vão, poderá, pretende, deve, começar, quer, terá,\n",
      "Nearest to ?: sabe, acha, só, quem, agora, quer, que, você,\n",
      "Nearest to também: que, de, o, em, e, ., ainda, a,\n",
      "Nearest to negócio: empresa, negócios, aquisição, muito, mas, investir, interessada, transação,\n",
      "Nearest to mar: oceano, mediterrâneo, atlântico, travessia, barco, frutos, praia, embarcações,\n",
      "Nearest to famílias: pessoas, moram, pobres, moradias, maior, afetadas, ocupadas, família,\n",
      "Nearest to filmes: cinema, filme, cineastas, cineasta, produções, cinemas, longa-metragem, longas-metragens,\n",
      "Nearest to esporte: esportes, esportiva, atleta, esportistas, natação, atletas, mundial, modalidades,\n",
      "Nearest to sede: em, ocorreu, na, da, de, abriga, realizada, uma,\n",
      "Nearest to participar: realizar, preparação, participando, trabalhar, envolver, integrar, fazer, atuar,\n",
      "Nearest to usuários: usuário, telefonia, cadastrados, facebook, aplicativos, ferramenta, viciados, bloqueio,\n"
     ]
    },
    {
     "data": {
      "application/vnd.jupyter.widget-view+json": {
       "model_id": "",
       "version_major": 2,
       "version_minor": 0
      },
      "text/plain": [
       "HBox(children=(IntProgress(value=0, description='Batch', max=183, style=ProgressStyle(description_width='initi…"
      ]
     },
     "metadata": {},
     "output_type": "display_data"
    },
    {
     "name": "stdout",
     "output_type": "stream",
     "text": [
      "Epoch 596/1000 Iteration: 109100 Avg. Training loss: 5.3894 0.0817 sec/batch\n",
      "Epoch 596/1000 Iteration: 109200 Avg. Training loss: 5.4897 0.2564 sec/batch\n"
     ]
    },
    {
     "data": {
      "application/vnd.jupyter.widget-view+json": {
       "model_id": "",
       "version_major": 2,
       "version_minor": 0
      },
      "text/plain": [
       "HBox(children=(IntProgress(value=0, description='Batch', max=183, style=ProgressStyle(description_width='initi…"
      ]
     },
     "metadata": {},
     "output_type": "display_data"
    },
    {
     "name": "stdout",
     "output_type": "stream",
     "text": [
      "Epoch 597/1000 Iteration: 109300 Avg. Training loss: 5.3491 0.1257 sec/batch\n",
      "Epoch 597/1000 Iteration: 109400 Avg. Training loss: 5.5475 0.2564 sec/batch\n"
     ]
    },
    {
     "data": {
      "application/vnd.jupyter.widget-view+json": {
       "model_id": "",
       "version_major": 2,
       "version_minor": 0
      },
      "text/plain": [
       "HBox(children=(IntProgress(value=0, description='Batch', max=183, style=ProgressStyle(description_width='initi…"
      ]
     },
     "metadata": {},
     "output_type": "display_data"
    },
    {
     "name": "stdout",
     "output_type": "stream",
     "text": [
      "Epoch 598/1000 Iteration: 109500 Avg. Training loss: 5.3457 0.1679 sec/batch\n",
      "Epoch 598/1000 Iteration: 109600 Avg. Training loss: 5.4687 0.2553 sec/batch\n"
     ]
    },
    {
     "data": {
      "application/vnd.jupyter.widget-view+json": {
       "model_id": "",
       "version_major": 2,
       "version_minor": 0
      },
      "text/plain": [
       "HBox(children=(IntProgress(value=0, description='Batch', max=183, style=ProgressStyle(description_width='initi…"
      ]
     },
     "metadata": {},
     "output_type": "display_data"
    },
    {
     "name": "stdout",
     "output_type": "stream",
     "text": [
      "Epoch 599/1000 Iteration: 109700 Avg. Training loss: 5.1542 0.2125 sec/batch\n",
      "Epoch 599/1000 Iteration: 109800 Avg. Training loss: 5.6510 0.2537 sec/batch\n"
     ]
    },
    {
     "data": {
      "application/vnd.jupyter.widget-view+json": {
       "model_id": "",
       "version_major": 2,
       "version_minor": 0
      },
      "text/plain": [
       "HBox(children=(IntProgress(value=0, description='Batch', max=183, style=ProgressStyle(description_width='initi…"
      ]
     },
     "metadata": {},
     "output_type": "display_data"
    },
    {
     "name": "stdout",
     "output_type": "stream",
     "text": [
      "Epoch 600/1000 Iteration: 109900 Avg. Training loss: 5.5327 0.2557 sec/batch\n"
     ]
    },
    {
     "data": {
      "application/vnd.jupyter.widget-view+json": {
       "model_id": "",
       "version_major": 2,
       "version_minor": 0
      },
      "text/plain": [
       "HBox(children=(IntProgress(value=0, description='Batch', max=183, style=ProgressStyle(description_width='initi…"
      ]
     },
     "metadata": {},
     "output_type": "display_data"
    },
    {
     "name": "stdout",
     "output_type": "stream",
     "text": [
      "Epoch 601/1000 Iteration: 110000 Avg. Training loss: 5.2332 0.0439 sec/batch\n",
      "Nearest to foi: após, qual, pelo, pela, ele, havia, uma, tendo,\n",
      "Nearest to vai: irá, vão, poderá, começar, terá, deve, pretende, quer,\n",
      "Nearest to ?: sabe, acha, quer, só, que, não, sei, você,\n",
      "Nearest to dos: os, de, outros, também, do, parte, da, em,\n",
      "Nearest to muito: bastante, mas, porque, tão, diferente, pouco, só, que,\n",
      "Nearest to com: e, também, em, de, a, que, ., ,,\n",
      "Nearest to maior: menor, parte, de, principalmente, em, do, tem, também,\n",
      "Nearest to à: a, também, parte, de, que, da, com, .,\n",
      "Nearest to abrir: abriu, ampliar, abrirá, abrindo, colocar, ampliou, fazer, fechar,\n",
      "Nearest to global: aquecimento, recente, climática, países, avalia, sugere, consenso, incerteza,\n",
      "Nearest to referência: o, principal, do, de, vista, também, cotado, principalmente,\n",
      "Nearest to querem: quer, vão, querer, decidiram, desejam, vai, dispostos, acham,\n",
      "Nearest to vídeos: fotos, comentários, acontecimentos, conteúdo, relevantes, leitores, notícias, sejam,\n",
      "Nearest to santa: catarina, cecília, cruz, luzia, fase, coração, teresinha, senhora,\n",
      "Nearest to operações: financeiras, momento, afirmou, meio, governo, de, em, afirma,\n",
      "Nearest to pf: polícia, operação, depoimento, deflagrada, investigado, superintendência, federal, investigação,\n",
      "Epoch 601/1000 Iteration: 110100 Avg. Training loss: 5.5814 0.2669 sec/batch\n"
     ]
    },
    {
     "data": {
      "application/vnd.jupyter.widget-view+json": {
       "model_id": "",
       "version_major": 2,
       "version_minor": 0
      },
      "text/plain": [
       "HBox(children=(IntProgress(value=0, description='Batch', max=183, style=ProgressStyle(description_width='initi…"
      ]
     },
     "metadata": {},
     "output_type": "display_data"
    },
    {
     "name": "stdout",
     "output_type": "stream",
     "text": [
      "Epoch 602/1000 Iteration: 110200 Avg. Training loss: 5.4414 0.0865 sec/batch\n",
      "Epoch 602/1000 Iteration: 110300 Avg. Training loss: 5.3686 0.2557 sec/batch\n"
     ]
    },
    {
     "data": {
      "application/vnd.jupyter.widget-view+json": {
       "model_id": "",
       "version_major": 2,
       "version_minor": 0
      },
      "text/plain": [
       "HBox(children=(IntProgress(value=0, description='Batch', max=183, style=ProgressStyle(description_width='initi…"
      ]
     },
     "metadata": {},
     "output_type": "display_data"
    },
    {
     "name": "stdout",
     "output_type": "stream",
     "text": [
      "Epoch 603/1000 Iteration: 110400 Avg. Training loss: 5.3050 0.1300 sec/batch\n",
      "Epoch 603/1000 Iteration: 110500 Avg. Training loss: 5.5410 0.2540 sec/batch\n"
     ]
    },
    {
     "data": {
      "application/vnd.jupyter.widget-view+json": {
       "model_id": "",
       "version_major": 2,
       "version_minor": 0
      },
      "text/plain": [
       "HBox(children=(IntProgress(value=0, description='Batch', max=183, style=ProgressStyle(description_width='initi…"
      ]
     },
     "metadata": {},
     "output_type": "display_data"
    },
    {
     "name": "stdout",
     "output_type": "stream",
     "text": [
      "Epoch 604/1000 Iteration: 110600 Avg. Training loss: 5.3582 0.1777 sec/batch\n",
      "Epoch 604/1000 Iteration: 110700 Avg. Training loss: 5.6363 0.2563 sec/batch\n"
     ]
    },
    {
     "data": {
      "application/vnd.jupyter.widget-view+json": {
       "model_id": "",
       "version_major": 2,
       "version_minor": 0
      },
      "text/plain": [
       "HBox(children=(IntProgress(value=0, description='Batch', max=183, style=ProgressStyle(description_width='initi…"
      ]
     },
     "metadata": {},
     "output_type": "display_data"
    },
    {
     "name": "stdout",
     "output_type": "stream",
     "text": [
      "Epoch 605/1000 Iteration: 110800 Avg. Training loss: 5.6029 0.2178 sec/batch\n"
     ]
    },
    {
     "data": {
      "application/vnd.jupyter.widget-view+json": {
       "model_id": "",
       "version_major": 2,
       "version_minor": 0
      },
      "text/plain": [
       "HBox(children=(IntProgress(value=0, description='Batch', max=183, style=ProgressStyle(description_width='initi…"
      ]
     },
     "metadata": {},
     "output_type": "display_data"
    },
    {
     "name": "stdout",
     "output_type": "stream",
     "text": [
      "Epoch 606/1000 Iteration: 110900 Avg. Training loss: 5.4557 0.0053 sec/batch\n",
      "Epoch 606/1000 Iteration: 111000 Avg. Training loss: 5.5327 0.2569 sec/batch\n",
      "Nearest to anos: meses, oito, últimos, cinco, depois, década, em, já,\n",
      "Nearest to paulo: são, sp, paulista, de, a, último, e, na,\n",
      "Nearest to ou: podem, isso, participação, para, os, sejam, notícia, seja,\n",
      "Nearest to com: e, também, ., ,, em, de, a, que,\n",
      "Nearest to de: em, a, também, ., e, do, com, da,\n",
      "Nearest to as: das, essas, algumas, todas, suas, mesmas, duas, muitas,\n",
      "Nearest to .: ,, e, que, no, a, em, ainda, o,\n",
      "Nearest to nesta: terça-feira, quinta-feira, quarta-feira, segunda-feira, terça, sexta-feira, quinta, quarta,\n",
      "Nearest to queria: iria, precisava, poderia, pensava, conseguiria, vai, questionado, ficaria,\n",
      "Nearest to números: dados, estatísticas, resultados, indicam, apontam, divulgados, esses, os,\n",
      "Nearest to tratamento: tratamentos, diagnóstico, pacientes, quimioterapia, tratar, cirúrgico, terapia, paciente,\n",
      "Nearest to querem: querer, quer, desejam, vão, acham, vai, sabem, dizem,\n",
      "Nearest to palácio: planalto, alvorada, jaburu, peemedebista, temer, assessores, dilma, encontro,\n",
      "Nearest to operações: financeiras, atividades, meio, pagamento, parte, em, controle, de,\n",
      "Nearest to instituição: financeira, administração, instituições, pública, política, banco, ajuda, a,\n",
      "Nearest to deverá: deve, poderá, vai, terá, irá, deverão, será, devem,\n"
     ]
    },
    {
     "data": {
      "application/vnd.jupyter.widget-view+json": {
       "model_id": "",
       "version_major": 2,
       "version_minor": 0
      },
      "text/plain": [
       "HBox(children=(IntProgress(value=0, description='Batch', max=183, style=ProgressStyle(description_width='initi…"
      ]
     },
     "metadata": {},
     "output_type": "display_data"
    },
    {
     "name": "stdout",
     "output_type": "stream",
     "text": [
      "Epoch 607/1000 Iteration: 111100 Avg. Training loss: 5.4795 0.0492 sec/batch\n",
      "Epoch 607/1000 Iteration: 111200 Avg. Training loss: 5.5117 0.2548 sec/batch\n"
     ]
    },
    {
     "data": {
      "application/vnd.jupyter.widget-view+json": {
       "model_id": "",
       "version_major": 2,
       "version_minor": 0
      },
      "text/plain": [
       "HBox(children=(IntProgress(value=0, description='Batch', max=183, style=ProgressStyle(description_width='initi…"
      ]
     },
     "metadata": {},
     "output_type": "display_data"
    },
    {
     "name": "stdout",
     "output_type": "stream",
     "text": [
      "Epoch 608/1000 Iteration: 111300 Avg. Training loss: 5.4584 0.0921 sec/batch\n",
      "Epoch 608/1000 Iteration: 111400 Avg. Training loss: 5.4288 0.2562 sec/batch\n"
     ]
    },
    {
     "data": {
      "application/vnd.jupyter.widget-view+json": {
       "model_id": "",
       "version_major": 2,
       "version_minor": 0
      },
      "text/plain": [
       "HBox(children=(IntProgress(value=0, description='Batch', max=183, style=ProgressStyle(description_width='initi…"
      ]
     },
     "metadata": {},
     "output_type": "display_data"
    },
    {
     "name": "stdout",
     "output_type": "stream",
     "text": [
      "Epoch 609/1000 Iteration: 111500 Avg. Training loss: 5.4242 0.1359 sec/batch\n",
      "Epoch 609/1000 Iteration: 111600 Avg. Training loss: 5.5102 0.2566 sec/batch\n"
     ]
    },
    {
     "data": {
      "application/vnd.jupyter.widget-view+json": {
       "model_id": "",
       "version_major": 2,
       "version_minor": 0
      },
      "text/plain": [
       "HBox(children=(IntProgress(value=0, description='Batch', max=183, style=ProgressStyle(description_width='initi…"
      ]
     },
     "metadata": {},
     "output_type": "display_data"
    },
    {
     "name": "stdout",
     "output_type": "stream",
     "text": [
      "Epoch 610/1000 Iteration: 111700 Avg. Training loss: 5.5069 0.1794 sec/batch\n",
      "Epoch 610/1000 Iteration: 111800 Avg. Training loss: 5.5424 0.2562 sec/batch\n"
     ]
    },
    {
     "data": {
      "application/vnd.jupyter.widget-view+json": {
       "model_id": "",
       "version_major": 2,
       "version_minor": 0
      },
      "text/plain": [
       "HBox(children=(IntProgress(value=0, description='Batch', max=183, style=ProgressStyle(description_width='initi…"
      ]
     },
     "metadata": {},
     "output_type": "display_data"
    },
    {
     "name": "stdout",
     "output_type": "stream",
     "text": [
      "Epoch 611/1000 Iteration: 111900 Avg. Training loss: 5.4276 0.2232 sec/batch\n"
     ]
    },
    {
     "data": {
      "application/vnd.jupyter.widget-view+json": {
       "model_id": "",
       "version_major": 2,
       "version_minor": 0
      },
      "text/plain": [
       "HBox(children=(IntProgress(value=0, description='Batch', max=183, style=ProgressStyle(description_width='initi…"
      ]
     },
     "metadata": {},
     "output_type": "display_data"
    },
    {
     "name": "stdout",
     "output_type": "stream",
     "text": [
      "Epoch 612/1000 Iteration: 112000 Avg. Training loss: 5.3481 0.0103 sec/batch\n",
      "Nearest to disse: afirmou, dizendo, ressaltou, acrescentando, acrescentou, diz, declarou, afirmando,\n",
      "Nearest to só: mas, mesmo, não, já, até, agora, que, ainda,\n",
      "Nearest to foi: tendo, qual, em, após, já, ele, havia, parte,\n",
      "Nearest to :: exemplo, como, ., ,, sem, e, o, por,\n",
      "Nearest to e: com, ., ,, também, de, por, em, além,\n",
      "Nearest to brasil: mundo, no, ., país, para, na, ou, com,\n",
      "Nearest to mesmo: ainda, mas, só, que, apenas, já, porém, o,\n",
      "Nearest to a: à, ., que, de, da, também, na, uma,\n",
      "Nearest to la: ciudad, el, inicio, nación, más, una, pero, contrabando,\n",
      "Nearest to leva: levam, levando, levar, dá, um, parte, cada, na,\n",
      "Nearest to amigo: ele, próprio, conheço, seu, família, daquele, fala, quando,\n",
      "Nearest to referência: o, ., usado, do, de, a, vista, também,\n",
      "Nearest to médico: hospital, clínicas, médicos, pronto-socorro, paciente, consultório, médica, iml,\n",
      "Nearest to demanda: oferta, melhora, semestre, reflexo, principalmente, entanto, mercado, consumidores,\n",
      "Nearest to garantir: assegurar, manter, garantindo, dar, necessária, para, defender, preservar,\n",
      "Nearest to lima: vieira, abreu, geddel, araújo, substituir, pe, márcio, defensor,\n",
      "Epoch 612/1000 Iteration: 112100 Avg. Training loss: 5.3789 0.2648 sec/batch\n"
     ]
    },
    {
     "data": {
      "application/vnd.jupyter.widget-view+json": {
       "model_id": "",
       "version_major": 2,
       "version_minor": 0
      },
      "text/plain": [
       "HBox(children=(IntProgress(value=0, description='Batch', max=183, style=ProgressStyle(description_width='initi…"
      ]
     },
     "metadata": {},
     "output_type": "display_data"
    },
    {
     "name": "stdout",
     "output_type": "stream",
     "text": [
      "Epoch 613/1000 Iteration: 112200 Avg. Training loss: 5.3398 0.0539 sec/batch\n",
      "Epoch 613/1000 Iteration: 112300 Avg. Training loss: 5.4493 0.2560 sec/batch\n"
     ]
    },
    {
     "data": {
      "application/vnd.jupyter.widget-view+json": {
       "model_id": "",
       "version_major": 2,
       "version_minor": 0
      },
      "text/plain": [
       "HBox(children=(IntProgress(value=0, description='Batch', max=183, style=ProgressStyle(description_width='initi…"
      ]
     },
     "metadata": {},
     "output_type": "display_data"
    },
    {
     "name": "stdout",
     "output_type": "stream",
     "text": [
      "Epoch 614/1000 Iteration: 112400 Avg. Training loss: 5.3876 0.0977 sec/batch\n",
      "Epoch 614/1000 Iteration: 112500 Avg. Training loss: 5.4019 0.2552 sec/batch\n"
     ]
    },
    {
     "data": {
      "application/vnd.jupyter.widget-view+json": {
       "model_id": "",
       "version_major": 2,
       "version_minor": 0
      },
      "text/plain": [
       "HBox(children=(IntProgress(value=0, description='Batch', max=183, style=ProgressStyle(description_width='initi…"
      ]
     },
     "metadata": {},
     "output_type": "display_data"
    },
    {
     "name": "stdout",
     "output_type": "stream",
     "text": [
      "Epoch 615/1000 Iteration: 112600 Avg. Training loss: 5.3771 0.1404 sec/batch\n",
      "Epoch 615/1000 Iteration: 112700 Avg. Training loss: 5.2969 0.2554 sec/batch\n"
     ]
    },
    {
     "data": {
      "application/vnd.jupyter.widget-view+json": {
       "model_id": "",
       "version_major": 2,
       "version_minor": 0
      },
      "text/plain": [
       "HBox(children=(IntProgress(value=0, description='Batch', max=183, style=ProgressStyle(description_width='initi…"
      ]
     },
     "metadata": {},
     "output_type": "display_data"
    },
    {
     "name": "stdout",
     "output_type": "stream",
     "text": [
      "Epoch 616/1000 Iteration: 112800 Avg. Training loss: 5.5845 0.1842 sec/batch\n",
      "Epoch 616/1000 Iteration: 112900 Avg. Training loss: 5.4928 0.2558 sec/batch\n"
     ]
    },
    {
     "data": {
      "application/vnd.jupyter.widget-view+json": {
       "model_id": "",
       "version_major": 2,
       "version_minor": 0
      },
      "text/plain": [
       "HBox(children=(IntProgress(value=0, description='Batch', max=183, style=ProgressStyle(description_width='initi…"
      ]
     },
     "metadata": {},
     "output_type": "display_data"
    },
    {
     "name": "stdout",
     "output_type": "stream",
     "text": [
      "Epoch 617/1000 Iteration: 113000 Avg. Training loss: 5.3659 0.2273 sec/batch\n",
      "Nearest to .: ,, e, que, a, de, ainda, em, também,\n",
      "Nearest to da: a, de, na, à, do, parte, ., em,\n",
      "Nearest to %: 00,0, 0,00, subiu, 0,0, recuo, ante, recuou, alta,\n",
      "Nearest to só: mas, mesmo, não, ainda, agora, que, já, até,\n",
      "Nearest to 00: 0, em, de, sexta, (, neste, ., nesta,\n",
      "Nearest to sem: ., apenas, o, só, pode, e, ainda, com,\n",
      "Nearest to um: o, outro, novo, que, ainda, já, esse, ao,\n",
      "Nearest to pela: pelo, a, parte, na, ., foi, em, sendo,\n",
      "Nearest to somente: apenas, mesmo, só, será, tendo, ., ainda, foi,\n",
      "Nearest to investidores: mercados, volatilidade, cautela, otimismo, mercado, emergentes, ativos, investidor,\n",
      "Nearest to avenida: rua, avenidas, pedestres, ciclovia, vias, manifestantes, marginal, ruas,\n",
      "Nearest to mínimo: salário, valor, benefício, restante, máximo, gasto, ganha, demais,\n",
      "Nearest to |: grátis, sarau, sexta, prevenir, 0h, azevedo, 00h, sábado,\n",
      "Nearest to global: aquecimento, climática, globais, climático, recente, climáticas, cop00, commodities,\n",
      "Nearest to queria: iria, precisava, poderia, conseguiria, gostaria, pensava, pudesse, daria,\n",
      "Nearest to quero: posso, vou, vai, espero, acho, querer, sei, eu,\n"
     ]
    },
    {
     "data": {
      "application/vnd.jupyter.widget-view+json": {
       "model_id": "",
       "version_major": 2,
       "version_minor": 0
      },
      "text/plain": [
       "HBox(children=(IntProgress(value=0, description='Batch', max=183, style=ProgressStyle(description_width='initi…"
      ]
     },
     "metadata": {},
     "output_type": "display_data"
    },
    {
     "name": "stdout",
     "output_type": "stream",
     "text": [
      "Epoch 618/1000 Iteration: 113100 Avg. Training loss: 5.3824 0.0158 sec/batch\n",
      "Epoch 618/1000 Iteration: 113200 Avg. Training loss: 5.5339 0.2556 sec/batch\n"
     ]
    },
    {
     "data": {
      "application/vnd.jupyter.widget-view+json": {
       "model_id": "",
       "version_major": 2,
       "version_minor": 0
      },
      "text/plain": [
       "HBox(children=(IntProgress(value=0, description='Batch', max=183, style=ProgressStyle(description_width='initi…"
      ]
     },
     "metadata": {},
     "output_type": "display_data"
    },
    {
     "name": "stdout",
     "output_type": "stream",
     "text": [
      "Epoch 619/1000 Iteration: 113300 Avg. Training loss: 5.5756 0.0584 sec/batch\n",
      "Epoch 619/1000 Iteration: 113400 Avg. Training loss: 5.5415 0.2561 sec/batch\n"
     ]
    },
    {
     "data": {
      "application/vnd.jupyter.widget-view+json": {
       "model_id": "",
       "version_major": 2,
       "version_minor": 0
      },
      "text/plain": [
       "HBox(children=(IntProgress(value=0, description='Batch', max=183, style=ProgressStyle(description_width='initi…"
      ]
     },
     "metadata": {},
     "output_type": "display_data"
    },
    {
     "name": "stdout",
     "output_type": "stream",
     "text": [
      "Epoch 620/1000 Iteration: 113500 Avg. Training loss: 5.4317 0.1021 sec/batch\n",
      "Epoch 620/1000 Iteration: 113600 Avg. Training loss: 5.4516 0.2555 sec/batch\n"
     ]
    },
    {
     "data": {
      "application/vnd.jupyter.widget-view+json": {
       "model_id": "",
       "version_major": 2,
       "version_minor": 0
      },
      "text/plain": [
       "HBox(children=(IntProgress(value=0, description='Batch', max=183, style=ProgressStyle(description_width='initi…"
      ]
     },
     "metadata": {},
     "output_type": "display_data"
    },
    {
     "name": "stdout",
     "output_type": "stream",
     "text": [
      "Epoch 621/1000 Iteration: 113700 Avg. Training loss: 5.3478 0.1460 sec/batch\n",
      "Epoch 621/1000 Iteration: 113800 Avg. Training loss: 5.3666 0.2596 sec/batch\n"
     ]
    },
    {
     "data": {
      "application/vnd.jupyter.widget-view+json": {
       "model_id": "",
       "version_major": 2,
       "version_minor": 0
      },
      "text/plain": [
       "HBox(children=(IntProgress(value=0, description='Batch', max=183, style=ProgressStyle(description_width='initi…"
      ]
     },
     "metadata": {},
     "output_type": "display_data"
    },
    {
     "name": "stdout",
     "output_type": "stream",
     "text": [
      "Epoch 622/1000 Iteration: 113900 Avg. Training loss: 5.5987 0.1902 sec/batch\n",
      "Epoch 622/1000 Iteration: 114000 Avg. Training loss: 5.6081 0.2569 sec/batch\n",
      "Nearest to isso: notícia, ou, mensagem, para, dúvida, porque, não, é,\n",
      "Nearest to nas: das, as, primeiras, pelas, algumas, dessas, suas, novas,\n",
      "Nearest to era: fosse, tinha, seria, ele, foi, já, naquele, fazia,\n",
      "Nearest to tem: é, mesmo, de, só, têm, tendo, maior, parte,\n",
      "Nearest to ano: passado, mês, deste, junho, maio, abril, julho, março,\n",
      "Nearest to vai: irá, vão, poderá, pretende, pode, deve, quer, possa,\n",
      "Nearest to ser: pelo, será, foi, ainda, sendo, pois, como, somente,\n",
      "Nearest to aos: os, à, ., por, e, também, parte, com,\n",
      "Nearest to comercial: exterior, transações, utilizado, comércio, balança, vista, usado, dólar,\n",
      "Nearest to palácio: planalto, alvorada, peemedebista, jaburu, temer, esplanada, dilma, interino,\n",
      "Nearest to santa: catarina, luzia, cruz, cecília, coração, misericórdia, marcelina, paraná,\n",
      "Nearest to tomar: tomou, toma, tomadas, tomará, tomam, tomado, tomando, tomem,\n",
      "Nearest to esporte: esportes, esportiva, modalidades, atleta, natação, esportistas, esportivas, competições,\n",
      "Nearest to livros: romances, editoras, história, didáticos, literatura, escrever, publicar, textos,\n",
      "Nearest to conhecido: considerado, famoso, notabilizou, reconhecido, virou, formado, apontado, descrito,\n",
      "Nearest to data: fim, antes, ocorrerá, esta, término, datas, dia, será,\n"
     ]
    },
    {
     "data": {
      "application/vnd.jupyter.widget-view+json": {
       "model_id": "",
       "version_major": 2,
       "version_minor": 0
      },
      "text/plain": [
       "HBox(children=(IntProgress(value=0, description='Batch', max=183, style=ProgressStyle(description_width='initi…"
      ]
     },
     "metadata": {},
     "output_type": "display_data"
    },
    {
     "name": "stdout",
     "output_type": "stream",
     "text": [
      "Epoch 623/1000 Iteration: 114100 Avg. Training loss: 5.4420 0.2319 sec/batch\n"
     ]
    },
    {
     "data": {
      "application/vnd.jupyter.widget-view+json": {
       "model_id": "",
       "version_major": 2,
       "version_minor": 0
      },
      "text/plain": [
       "HBox(children=(IntProgress(value=0, description='Batch', max=183, style=ProgressStyle(description_width='initi…"
      ]
     },
     "metadata": {},
     "output_type": "display_data"
    },
    {
     "name": "stdout",
     "output_type": "stream",
     "text": [
      "Epoch 624/1000 Iteration: 114200 Avg. Training loss: 5.4996 0.0205 sec/batch\n",
      "Epoch 624/1000 Iteration: 114300 Avg. Training loss: 5.5380 0.2556 sec/batch\n"
     ]
    },
    {
     "data": {
      "application/vnd.jupyter.widget-view+json": {
       "model_id": "",
       "version_major": 2,
       "version_minor": 0
      },
      "text/plain": [
       "HBox(children=(IntProgress(value=0, description='Batch', max=183, style=ProgressStyle(description_width='initi…"
      ]
     },
     "metadata": {},
     "output_type": "display_data"
    },
    {
     "name": "stdout",
     "output_type": "stream",
     "text": [
      "Epoch 625/1000 Iteration: 114400 Avg. Training loss: 5.4174 0.0644 sec/batch\n",
      "Epoch 625/1000 Iteration: 114500 Avg. Training loss: 5.6913 0.2558 sec/batch\n"
     ]
    },
    {
     "data": {
      "application/vnd.jupyter.widget-view+json": {
       "model_id": "",
       "version_major": 2,
       "version_minor": 0
      },
      "text/plain": [
       "HBox(children=(IntProgress(value=0, description='Batch', max=183, style=ProgressStyle(description_width='initi…"
      ]
     },
     "metadata": {},
     "output_type": "display_data"
    },
    {
     "name": "stdout",
     "output_type": "stream",
     "text": [
      "Epoch 626/1000 Iteration: 114600 Avg. Training loss: 5.6665 0.1081 sec/batch\n",
      "Epoch 626/1000 Iteration: 114700 Avg. Training loss: 5.4141 0.2552 sec/batch\n"
     ]
    },
    {
     "data": {
      "application/vnd.jupyter.widget-view+json": {
       "model_id": "",
       "version_major": 2,
       "version_minor": 0
      },
      "text/plain": [
       "HBox(children=(IntProgress(value=0, description='Batch', max=183, style=ProgressStyle(description_width='initi…"
      ]
     },
     "metadata": {},
     "output_type": "display_data"
    },
    {
     "name": "stdout",
     "output_type": "stream",
     "text": [
      "Epoch 627/1000 Iteration: 114800 Avg. Training loss: 5.5791 0.1507 sec/batch\n",
      "Epoch 627/1000 Iteration: 114900 Avg. Training loss: 5.3873 0.2551 sec/batch\n"
     ]
    },
    {
     "data": {
      "application/vnd.jupyter.widget-view+json": {
       "model_id": "",
       "version_major": 2,
       "version_minor": 0
      },
      "text/plain": [
       "HBox(children=(IntProgress(value=0, description='Batch', max=183, style=ProgressStyle(description_width='initi…"
      ]
     },
     "metadata": {},
     "output_type": "display_data"
    },
    {
     "name": "stdout",
     "output_type": "stream",
     "text": [
      "Epoch 628/1000 Iteration: 115000 Avg. Training loss: 5.3797 0.1944 sec/batch\n",
      "Nearest to isso: não, para, esse, assim, ou, porque, mensagem, fato,\n",
      "Nearest to segundo: ainda, o, entanto, porém, do, aponta, que, passado,\n",
      "Nearest to na: em, a, da, do, de, última, também, ainda,\n",
      "Nearest to seu: próprio, o, ao, ele, um, mesmo, do, de,\n",
      "Nearest to (: ), 00, ., nesta, e, ,, quinta, terça,\n",
      "Nearest to ?: acha, sabe, só, não, quer, você, quem, porque,\n",
      "Nearest to eu: sei, vou, comigo, acredito, porque, cheguei, meu, acho,\n",
      "Nearest to desde: início, passado, março, julho, maio, junho, em, mesmo,\n",
      "Nearest to quero: posso, vou, vai, querer, preciso, puder, acredito, acho,\n",
      "Nearest to investidores: mercados, volatilidade, ativos, investidor, mercado, cautela, otimismo, financeiros,\n",
      "Nearest to médico: hospital, clínicas, médicos, paciente, médica, hospitais, encaminhado, clínico,\n",
      "Nearest to bairro: bairros, entorno, cidade, periferia, terreno, moradores, morador, residencial,\n",
      "Nearest to lima: do, geddel, faria, vieira, boa, argumentou, ,, de,\n",
      "Nearest to festival: festivais, cannes, veneza, evento, edição, premiação, exibido, programação,\n",
      "Nearest to estudos: pesquisas, pesquisadores, estudo, doutorado, avançados, científicos, professor, afirma,\n",
      "Nearest to demanda: oferta, melhora, entanto, reflexo, principalmente, atender, desafio, foco,\n",
      "Epoch 628/1000 Iteration: 115100 Avg. Training loss: 5.3151 0.2652 sec/batch\n"
     ]
    },
    {
     "data": {
      "application/vnd.jupyter.widget-view+json": {
       "model_id": "",
       "version_major": 2,
       "version_minor": 0
      },
      "text/plain": [
       "HBox(children=(IntProgress(value=0, description='Batch', max=183, style=ProgressStyle(description_width='initi…"
      ]
     },
     "metadata": {},
     "output_type": "display_data"
    },
    {
     "name": "stdout",
     "output_type": "stream",
     "text": [
      "Epoch 629/1000 Iteration: 115200 Avg. Training loss: 5.4174 0.2372 sec/batch\n"
     ]
    },
    {
     "data": {
      "application/vnd.jupyter.widget-view+json": {
       "model_id": "",
       "version_major": 2,
       "version_minor": 0
      },
      "text/plain": [
       "HBox(children=(IntProgress(value=0, description='Batch', max=183, style=ProgressStyle(description_width='initi…"
      ]
     },
     "metadata": {},
     "output_type": "display_data"
    },
    {
     "name": "stdout",
     "output_type": "stream",
     "text": [
      "Epoch 630/1000 Iteration: 115300 Avg. Training loss: 5.1774 0.0255 sec/batch\n",
      "Epoch 630/1000 Iteration: 115400 Avg. Training loss: 5.5770 0.2562 sec/batch\n"
     ]
    },
    {
     "data": {
      "application/vnd.jupyter.widget-view+json": {
       "model_id": "",
       "version_major": 2,
       "version_minor": 0
      },
      "text/plain": [
       "HBox(children=(IntProgress(value=0, description='Batch', max=183, style=ProgressStyle(description_width='initi…"
      ]
     },
     "metadata": {},
     "output_type": "display_data"
    },
    {
     "name": "stdout",
     "output_type": "stream",
     "text": [
      "Epoch 631/1000 Iteration: 115500 Avg. Training loss: 5.6964 0.0688 sec/batch\n",
      "Epoch 631/1000 Iteration: 115600 Avg. Training loss: 5.5293 0.2552 sec/batch\n"
     ]
    },
    {
     "data": {
      "application/vnd.jupyter.widget-view+json": {
       "model_id": "",
       "version_major": 2,
       "version_minor": 0
      },
      "text/plain": [
       "HBox(children=(IntProgress(value=0, description='Batch', max=183, style=ProgressStyle(description_width='initi…"
      ]
     },
     "metadata": {},
     "output_type": "display_data"
    },
    {
     "name": "stdout",
     "output_type": "stream",
     "text": [
      "Epoch 632/1000 Iteration: 115700 Avg. Training loss: 5.5206 0.1121 sec/batch\n",
      "Epoch 632/1000 Iteration: 115800 Avg. Training loss: 5.5423 0.2548 sec/batch\n"
     ]
    },
    {
     "data": {
      "application/vnd.jupyter.widget-view+json": {
       "model_id": "",
       "version_major": 2,
       "version_minor": 0
      },
      "text/plain": [
       "HBox(children=(IntProgress(value=0, description='Batch', max=183, style=ProgressStyle(description_width='initi…"
      ]
     },
     "metadata": {},
     "output_type": "display_data"
    },
    {
     "name": "stdout",
     "output_type": "stream",
     "text": [
      "Epoch 633/1000 Iteration: 115900 Avg. Training loss: 5.5217 0.1558 sec/batch\n",
      "Epoch 633/1000 Iteration: 116000 Avg. Training loss: 5.6087 0.2549 sec/batch\n",
      "Nearest to do: o, de, também, ao, em, ., na, da,\n",
      "Nearest to nesta: terça-feira, segunda-feira, quinta-feira, quarta-feira, sexta-feira, terça, quinta, desta,\n",
      "Nearest to pode: poderá, deve, poderia, vai, possível, possa, terá, é,\n",
      "Nearest to mas: porém, só, ainda, que, não, já, mesmo, ele,\n",
      "Nearest to era: fazia, tinha, ele, fosse, muito, foi, seria, parte,\n",
      "Nearest to tem: é, tendo, de, têm, mesmo, parte, só, que,\n",
      "Nearest to afirmou: disse, ressaltou, ainda, reafirmou, reiterou, reconheceu, defendeu, afirmando,\n",
      "Nearest to anos: meses, últimos, oito, década, depois, 0000, até, há,\n",
      "Nearest to chefe: ex-chefe, chefia, gabinete, afirmou, departamento, chefiou, disse, comandou,\n",
      "Nearest to luz: energia, eletricidade, manutenção, elétrica, escuridão, também, e, solar,\n",
      "Nearest to seguinte: dia, publicadas, coordenação, sempre, última, antes, meio, fim,\n",
      "Nearest to lima: vieira, abreu, do, geddel, atuação, araújo, argumentou, absolutamente,\n",
      "Nearest to europeia: ue, unido, reino, juncker, união, brexit, europeu, europa,\n",
      "Nearest to deverá: deve, poderá, terá, irá, voltará, vai, deverão, será,\n",
      "Nearest to recente: após, à, a, último, de, segundo, em, entanto,\n",
      "Nearest to veio: levou, depois, logo, uma, fez, teve, em, trouxe,\n"
     ]
    },
    {
     "data": {
      "application/vnd.jupyter.widget-view+json": {
       "model_id": "",
       "version_major": 2,
       "version_minor": 0
      },
      "text/plain": [
       "HBox(children=(IntProgress(value=0, description='Batch', max=183, style=ProgressStyle(description_width='initi…"
      ]
     },
     "metadata": {},
     "output_type": "display_data"
    },
    {
     "name": "stdout",
     "output_type": "stream",
     "text": [
      "Epoch 634/1000 Iteration: 116100 Avg. Training loss: 5.5824 0.1994 sec/batch\n",
      "Epoch 634/1000 Iteration: 116200 Avg. Training loss: 5.6692 0.2557 sec/batch\n"
     ]
    },
    {
     "data": {
      "application/vnd.jupyter.widget-view+json": {
       "model_id": "",
       "version_major": 2,
       "version_minor": 0
      },
      "text/plain": [
       "HBox(children=(IntProgress(value=0, description='Batch', max=183, style=ProgressStyle(description_width='initi…"
      ]
     },
     "metadata": {},
     "output_type": "display_data"
    },
    {
     "name": "stdout",
     "output_type": "stream",
     "text": [
      "Epoch 635/1000 Iteration: 116300 Avg. Training loss: 5.7217 0.2426 sec/batch\n"
     ]
    },
    {
     "data": {
      "application/vnd.jupyter.widget-view+json": {
       "model_id": "",
       "version_major": 2,
       "version_minor": 0
      },
      "text/plain": [
       "HBox(children=(IntProgress(value=0, description='Batch', max=183, style=ProgressStyle(description_width='initi…"
      ]
     },
     "metadata": {},
     "output_type": "display_data"
    },
    {
     "name": "stdout",
     "output_type": "stream",
     "text": [
      "Epoch 636/1000 Iteration: 116400 Avg. Training loss: 5.3241 0.0309 sec/batch\n",
      "Epoch 636/1000 Iteration: 116500 Avg. Training loss: 5.4488 0.2562 sec/batch\n"
     ]
    },
    {
     "data": {
      "application/vnd.jupyter.widget-view+json": {
       "model_id": "",
       "version_major": 2,
       "version_minor": 0
      },
      "text/plain": [
       "HBox(children=(IntProgress(value=0, description='Batch', max=183, style=ProgressStyle(description_width='initi…"
      ]
     },
     "metadata": {},
     "output_type": "display_data"
    },
    {
     "name": "stdout",
     "output_type": "stream",
     "text": [
      "Epoch 637/1000 Iteration: 116600 Avg. Training loss: 5.6453 0.0740 sec/batch\n",
      "Epoch 637/1000 Iteration: 116700 Avg. Training loss: 5.5458 0.2556 sec/batch\n"
     ]
    },
    {
     "data": {
      "application/vnd.jupyter.widget-view+json": {
       "model_id": "",
       "version_major": 2,
       "version_minor": 0
      },
      "text/plain": [
       "HBox(children=(IntProgress(value=0, description='Batch', max=183, style=ProgressStyle(description_width='initi…"
      ]
     },
     "metadata": {},
     "output_type": "display_data"
    },
    {
     "name": "stdout",
     "output_type": "stream",
     "text": [
      "Epoch 638/1000 Iteration: 116800 Avg. Training loss: 5.5545 0.1178 sec/batch\n",
      "Epoch 638/1000 Iteration: 116900 Avg. Training loss: 5.4392 0.2545 sec/batch\n"
     ]
    },
    {
     "data": {
      "application/vnd.jupyter.widget-view+json": {
       "model_id": "",
       "version_major": 2,
       "version_minor": 0
      },
      "text/plain": [
       "HBox(children=(IntProgress(value=0, description='Batch', max=183, style=ProgressStyle(description_width='initi…"
      ]
     },
     "metadata": {},
     "output_type": "display_data"
    },
    {
     "name": "stdout",
     "output_type": "stream",
     "text": [
      "Epoch 639/1000 Iteration: 117000 Avg. Training loss: 5.5269 0.1609 sec/batch\n",
      "Nearest to do: o, também, ao, em, de, na, ainda, no,\n",
      "Nearest to sua: própria, para, a, notícia, tendo, à, da, mensagem,\n",
      "Nearest to 000: mil, 0.000, 00, cerca, dobro, r$, mais, quanto,\n",
      "Nearest to ano: passado, mês, deste, maio, abril, março, outubro, neste,\n",
      "Nearest to as: essas, das, todas, mesmas, outras, dessas, suas, novas,\n",
      "Nearest to ao: o, do, também, ., de, em, um, a,\n",
      "Nearest to já: ainda, que, ,, mas, ., apenas, mesmo, também,\n",
      "Nearest to brasil: no, mundo, país, ., para, do, brasileiro, a,\n",
      "Nearest to internacionais: nacionais, eua, internacional, dos, do, principalmente, além, financeiros,\n",
      "Nearest to estádio: torcedores, arena, itaquerão, torcida, engenhão, arquibancadas, maracanã, mineirão,\n",
      "Nearest to encontrar: buscar, entender, manter, juntar, trazer, colocar, investir, achar,\n",
      "Nearest to vice-presidente: presidente, assume, vice, temer, assumir, michel, vice-presidência, presidência,\n",
      "Nearest to escreveu: ,, referindo-se, disse, ., assim, seu, pelo, próprio,\n",
      "Nearest to leva: levam, dá, levar, pode, único, cada, terá, um,\n",
      "Nearest to seguinte: dia, publicadas, coordenação, ontem, aqui, antes, sempre, começo,\n",
      "Nearest to médico: paciente, médicos, hospital, laudo, clínicas, médica, encaminhado, cardiologista,\n",
      "Epoch 639/1000 Iteration: 117100 Avg. Training loss: 5.5505 0.2656 sec/batch\n"
     ]
    },
    {
     "data": {
      "application/vnd.jupyter.widget-view+json": {
       "model_id": "",
       "version_major": 2,
       "version_minor": 0
      },
      "text/plain": [
       "HBox(children=(IntProgress(value=0, description='Batch', max=183, style=ProgressStyle(description_width='initi…"
      ]
     },
     "metadata": {},
     "output_type": "display_data"
    },
    {
     "name": "stdout",
     "output_type": "stream",
     "text": [
      "Epoch 640/1000 Iteration: 117200 Avg. Training loss: 5.4959 0.2047 sec/batch\n",
      "Epoch 640/1000 Iteration: 117300 Avg. Training loss: 5.6532 0.2548 sec/batch\n"
     ]
    },
    {
     "data": {
      "application/vnd.jupyter.widget-view+json": {
       "model_id": "",
       "version_major": 2,
       "version_minor": 0
      },
      "text/plain": [
       "HBox(children=(IntProgress(value=0, description='Batch', max=183, style=ProgressStyle(description_width='initi…"
      ]
     },
     "metadata": {},
     "output_type": "display_data"
    },
    {
     "name": "stdout",
     "output_type": "stream",
     "text": [
      "Epoch 641/1000 Iteration: 117400 Avg. Training loss: 5.4761 0.2479 sec/batch\n"
     ]
    },
    {
     "data": {
      "application/vnd.jupyter.widget-view+json": {
       "model_id": "",
       "version_major": 2,
       "version_minor": 0
      },
      "text/plain": [
       "HBox(children=(IntProgress(value=0, description='Batch', max=183, style=ProgressStyle(description_width='initi…"
      ]
     },
     "metadata": {},
     "output_type": "display_data"
    },
    {
     "name": "stdout",
     "output_type": "stream",
     "text": [
      "Epoch 642/1000 Iteration: 117500 Avg. Training loss: 5.5999 0.0364 sec/batch\n",
      "Epoch 642/1000 Iteration: 117600 Avg. Training loss: 5.7125 0.2552 sec/batch\n"
     ]
    },
    {
     "data": {
      "application/vnd.jupyter.widget-view+json": {
       "model_id": "",
       "version_major": 2,
       "version_minor": 0
      },
      "text/plain": [
       "HBox(children=(IntProgress(value=0, description='Batch', max=183, style=ProgressStyle(description_width='initi…"
      ]
     },
     "metadata": {},
     "output_type": "display_data"
    },
    {
     "name": "stdout",
     "output_type": "stream",
     "text": [
      "Epoch 643/1000 Iteration: 117700 Avg. Training loss: 5.5029 0.0799 sec/batch\n",
      "Epoch 643/1000 Iteration: 117800 Avg. Training loss: 5.5276 0.2557 sec/batch\n"
     ]
    },
    {
     "data": {
      "application/vnd.jupyter.widget-view+json": {
       "model_id": "",
       "version_major": 2,
       "version_minor": 0
      },
      "text/plain": [
       "HBox(children=(IntProgress(value=0, description='Batch', max=183, style=ProgressStyle(description_width='initi…"
      ]
     },
     "metadata": {},
     "output_type": "display_data"
    },
    {
     "name": "stdout",
     "output_type": "stream",
     "text": [
      "Epoch 644/1000 Iteration: 117900 Avg. Training loss: 5.6697 0.1223 sec/batch\n",
      "Epoch 644/1000 Iteration: 118000 Avg. Training loss: 5.5795 0.2563 sec/batch\n",
      "Nearest to mesmo: apenas, ainda, só, já, que, o, mas, entanto,\n",
      "Nearest to na: em, a, de, também, do, ., no, da,\n",
      "Nearest to ela: dela, ele, mas, que, uma, a, sozinha, outra,\n",
      "Nearest to uma: a, outra, essa, parte, dessa, à, da, que,\n",
      "Nearest to sua: própria, para, isso, mensagem, dúvida, notícia, a, dos,\n",
      "Nearest to há: ainda, já, mesmo, ,, é, mas, porém, apenas,\n",
      "Nearest to muito: bastante, mas, porque, pouco, tão, mais, algo, diferente,\n",
      "Nearest to 00: 0, em, até, na, no, neste, nesta, de,\n",
      "Nearest to continuar: continuará, vem, continua, está, vinha, disso, fazer, mas,\n",
      "Nearest to usuários: usuário, ferramenta, aplicativo, facebook, cadastrados, internet, dependentes, viciados,\n",
      "Nearest to parlamentares: congressistas, deputados, governistas, peemedebista, senadores, aliados, bancada, plenário,\n",
      "Nearest to luz: manutenção, energia, escuridão, linhas, também, solar, elétrica, e,\n",
      "Nearest to minas: gerais, pimentel, espírito, mineiro, ufmg, ceará, rondônia, paraíba,\n",
      "Nearest to participar: realizar, entrar, preparação, envolver, evento, começar, escolha, comparecer,\n",
      "Nearest to desempenho: resultado, fraco, negativo, maior, apesar, impacto, queda, crescimento,\n",
      "Nearest to atividade: mesmo, ainda, transformação, que, forma, desde, pois, apenas,\n"
     ]
    },
    {
     "data": {
      "application/vnd.jupyter.widget-view+json": {
       "model_id": "",
       "version_major": 2,
       "version_minor": 0
      },
      "text/plain": [
       "HBox(children=(IntProgress(value=0, description='Batch', max=183, style=ProgressStyle(description_width='initi…"
      ]
     },
     "metadata": {},
     "output_type": "display_data"
    },
    {
     "name": "stdout",
     "output_type": "stream",
     "text": [
      "Epoch 645/1000 Iteration: 118100 Avg. Training loss: 5.3969 0.1652 sec/batch\n",
      "Epoch 645/1000 Iteration: 118200 Avg. Training loss: 5.5909 0.2554 sec/batch\n"
     ]
    },
    {
     "data": {
      "application/vnd.jupyter.widget-view+json": {
       "model_id": "",
       "version_major": 2,
       "version_minor": 0
      },
      "text/plain": [
       "HBox(children=(IntProgress(value=0, description='Batch', max=183, style=ProgressStyle(description_width='initi…"
      ]
     },
     "metadata": {},
     "output_type": "display_data"
    },
    {
     "name": "stdout",
     "output_type": "stream",
     "text": [
      "Epoch 646/1000 Iteration: 118300 Avg. Training loss: 5.4719 0.2097 sec/batch\n",
      "Epoch 646/1000 Iteration: 118400 Avg. Training loss: 5.4172 0.2561 sec/batch\n"
     ]
    },
    {
     "data": {
      "application/vnd.jupyter.widget-view+json": {
       "model_id": "",
       "version_major": 2,
       "version_minor": 0
      },
      "text/plain": [
       "HBox(children=(IntProgress(value=0, description='Batch', max=183, style=ProgressStyle(description_width='initi…"
      ]
     },
     "metadata": {},
     "output_type": "display_data"
    },
    {
     "name": "stdout",
     "output_type": "stream",
     "text": [
      "Epoch 647/1000 Iteration: 118500 Avg. Training loss: 5.4843 0.2520 sec/batch\n"
     ]
    },
    {
     "data": {
      "application/vnd.jupyter.widget-view+json": {
       "model_id": "",
       "version_major": 2,
       "version_minor": 0
      },
      "text/plain": [
       "HBox(children=(IntProgress(value=0, description='Batch', max=183, style=ProgressStyle(description_width='initi…"
      ]
     },
     "metadata": {},
     "output_type": "display_data"
    },
    {
     "name": "stdout",
     "output_type": "stream",
     "text": [
      "Epoch 648/1000 Iteration: 118600 Avg. Training loss: 5.4539 0.0405 sec/batch\n",
      "Epoch 648/1000 Iteration: 118700 Avg. Training loss: 5.6290 0.2544 sec/batch\n"
     ]
    },
    {
     "data": {
      "application/vnd.jupyter.widget-view+json": {
       "model_id": "",
       "version_major": 2,
       "version_minor": 0
      },
      "text/plain": [
       "HBox(children=(IntProgress(value=0, description='Batch', max=183, style=ProgressStyle(description_width='initi…"
      ]
     },
     "metadata": {},
     "output_type": "display_data"
    },
    {
     "name": "stdout",
     "output_type": "stream",
     "text": [
      "Epoch 649/1000 Iteration: 118800 Avg. Training loss: 5.3550 0.0841 sec/batch\n",
      "Epoch 649/1000 Iteration: 118900 Avg. Training loss: 5.4469 0.2557 sec/batch\n"
     ]
    },
    {
     "data": {
      "application/vnd.jupyter.widget-view+json": {
       "model_id": "",
       "version_major": 2,
       "version_minor": 0
      },
      "text/plain": [
       "HBox(children=(IntProgress(value=0, description='Batch', max=183, style=ProgressStyle(description_width='initi…"
      ]
     },
     "metadata": {},
     "output_type": "display_data"
    },
    {
     "name": "stdout",
     "output_type": "stream",
     "text": [
      "Epoch 650/1000 Iteration: 119000 Avg. Training loss: 5.4644 0.1281 sec/batch\n",
      "Nearest to a: da, ., à, de, que, uma, vez, e,\n",
      "Nearest to para: a, ainda, ., que, com, também, de, na,\n",
      "Nearest to ou: podem, isso, participação, os, para, preferir, com, brasil,\n",
      "Nearest to disse: afirmou, diz, falou, dizendo, afirma, acrescentando, acrescentou, não,\n",
      "Nearest to do: o, ao, também, de, ., em, ,, ainda,\n",
      "Nearest to entre: também, em, de, outros, principalmente, e, ., que,\n",
      "Nearest to ela: ele, dela, que, mas, uma, a, não, já,\n",
      "Nearest to ): (, 00, nesta, ., 0, quinta, e, terça-feira,\n",
      "Nearest to números: dados, estatísticas, resultados, recentes, divulgados, indicam, apontam, indicadores,\n",
      "Nearest to referência: usado, vista, utilizado, cotado, encerrou, tornou-se, o, financeiro,\n",
      "Nearest to veio: levou, fez, logo, deram, depois, virá, trouxe, deu,\n",
      "Nearest to esporte: esportes, esportiva, natação, atletas, modalidades, competições, olimpíada, judô,\n",
      "Nearest to ouro: medalha, prata, medalhas, conquistou, bronze, londres-0000, medalhista, ganhou,\n",
      "Nearest to casas: residências, moradias, delas, prédios, dessas, construções, famílias, maioria,\n",
      "Nearest to EMAIL: basta, enviar, e-mail, envie, traduzem, publicados, acessar, colaborar,\n",
      "Nearest to europeia: ue, reino, unido, união, brexit, juncker, bloco, europeus,\n",
      "Epoch 650/1000 Iteration: 119100 Avg. Training loss: 5.5056 0.2655 sec/batch\n"
     ]
    },
    {
     "data": {
      "application/vnd.jupyter.widget-view+json": {
       "model_id": "",
       "version_major": 2,
       "version_minor": 0
      },
      "text/plain": [
       "HBox(children=(IntProgress(value=0, description='Batch', max=183, style=ProgressStyle(description_width='initi…"
      ]
     },
     "metadata": {},
     "output_type": "display_data"
    },
    {
     "name": "stdout",
     "output_type": "stream",
     "text": [
      "Epoch 651/1000 Iteration: 119200 Avg. Training loss: 5.4000 0.1713 sec/batch\n",
      "Epoch 651/1000 Iteration: 119300 Avg. Training loss: 5.7458 0.2546 sec/batch\n"
     ]
    },
    {
     "data": {
      "application/vnd.jupyter.widget-view+json": {
       "model_id": "",
       "version_major": 2,
       "version_minor": 0
      },
      "text/plain": [
       "HBox(children=(IntProgress(value=0, description='Batch', max=183, style=ProgressStyle(description_width='initi…"
      ]
     },
     "metadata": {},
     "output_type": "display_data"
    },
    {
     "name": "stdout",
     "output_type": "stream",
     "text": [
      "Epoch 652/1000 Iteration: 119400 Avg. Training loss: 5.2909 0.2153 sec/batch\n"
     ]
    },
    {
     "data": {
      "application/vnd.jupyter.widget-view+json": {
       "model_id": "",
       "version_major": 2,
       "version_minor": 0
      },
      "text/plain": [
       "HBox(children=(IntProgress(value=0, description='Batch', max=183, style=ProgressStyle(description_width='initi…"
      ]
     },
     "metadata": {},
     "output_type": "display_data"
    },
    {
     "name": "stdout",
     "output_type": "stream",
     "text": [
      "Epoch 653/1000 Iteration: 119500 Avg. Training loss: 5.5382 0.0026 sec/batch\n",
      "Epoch 653/1000 Iteration: 119600 Avg. Training loss: 5.6848 0.2559 sec/batch\n"
     ]
    },
    {
     "data": {
      "application/vnd.jupyter.widget-view+json": {
       "model_id": "",
       "version_major": 2,
       "version_minor": 0
      },
      "text/plain": [
       "HBox(children=(IntProgress(value=0, description='Batch', max=183, style=ProgressStyle(description_width='initi…"
      ]
     },
     "metadata": {},
     "output_type": "display_data"
    },
    {
     "name": "stdout",
     "output_type": "stream",
     "text": [
      "Epoch 654/1000 Iteration: 119700 Avg. Training loss: 5.5048 0.0461 sec/batch\n",
      "Epoch 654/1000 Iteration: 119800 Avg. Training loss: 5.4315 0.2549 sec/batch\n"
     ]
    },
    {
     "data": {
      "application/vnd.jupyter.widget-view+json": {
       "model_id": "",
       "version_major": 2,
       "version_minor": 0
      },
      "text/plain": [
       "HBox(children=(IntProgress(value=0, description='Batch', max=183, style=ProgressStyle(description_width='initi…"
      ]
     },
     "metadata": {},
     "output_type": "display_data"
    },
    {
     "name": "stdout",
     "output_type": "stream",
     "text": [
      "Epoch 655/1000 Iteration: 119900 Avg. Training loss: 5.5718 0.0897 sec/batch\n",
      "Epoch 655/1000 Iteration: 120000 Avg. Training loss: 5.5360 0.2561 sec/batch\n",
      "Nearest to as: das, essas, mesmas, todas, algumas, suas, outras, novas,\n",
      "Nearest to :: exemplo, ., ,, sem, e, como, só, no,\n",
      "Nearest to disse: afirmou, falou, dizendo, ressaltou, também, diz, afirma, reiterou,\n",
      "Nearest to pela: a, pelo, vez, na, foi, ., qual, ainda,\n",
      "Nearest to à: a, que, também, parte, de, ., uma, da,\n",
      "Nearest to são: paulo, e, têm, de, ., só, na, em,\n",
      "Nearest to no: ., em, o, neste, vez, ainda, na, após,\n",
      "Nearest to há: ainda, já, mas, porém, parte, que, mesmo, .,\n",
      "Nearest to lima: abreu, faria, boa, sentir, anular, ter, vieira, defensores,\n",
      "Nearest to médico: hospital, clínicas, médicos, paciente, clínico, legal, encaminhado, iml,\n",
      "Nearest to popular: populares, ,, fez, único, como, um, de, manifestações,\n",
      "Nearest to números: dados, estatísticas, divulgados, resultados, registros, indicam, apontam, indicadores,\n",
      "Nearest to |: grátis, prevenir, 0h, sexta, sarau, seg, começa, 00,\n",
      "Nearest to abrir: abriu, ampliar, abrindo, fazer, fechar, colocar, abrirá, ampliou,\n",
      "Nearest to conhecido: considerado, reconhecido, famoso, tido, principalmente, especialmente, tornou, virou,\n",
      "Nearest to luz: manutenção, energia, grande, medida, linhas, claro, escuridão, também,\n"
     ]
    },
    {
     "data": {
      "application/vnd.jupyter.widget-view+json": {
       "model_id": "",
       "version_major": 2,
       "version_minor": 0
      },
      "text/plain": [
       "HBox(children=(IntProgress(value=0, description='Batch', max=183, style=ProgressStyle(description_width='initi…"
      ]
     },
     "metadata": {},
     "output_type": "display_data"
    },
    {
     "name": "stdout",
     "output_type": "stream",
     "text": [
      "Epoch 656/1000 Iteration: 120100 Avg. Training loss: 5.8763 0.1334 sec/batch\n",
      "Epoch 656/1000 Iteration: 120200 Avg. Training loss: 5.3581 0.2551 sec/batch\n"
     ]
    },
    {
     "data": {
      "application/vnd.jupyter.widget-view+json": {
       "model_id": "",
       "version_major": 2,
       "version_minor": 0
      },
      "text/plain": [
       "HBox(children=(IntProgress(value=0, description='Batch', max=183, style=ProgressStyle(description_width='initi…"
      ]
     },
     "metadata": {},
     "output_type": "display_data"
    },
    {
     "name": "stdout",
     "output_type": "stream",
     "text": [
      "Epoch 657/1000 Iteration: 120300 Avg. Training loss: 5.6024 0.1762 sec/batch\n",
      "Epoch 657/1000 Iteration: 120400 Avg. Training loss: 5.6563 0.2538 sec/batch\n"
     ]
    },
    {
     "data": {
      "application/vnd.jupyter.widget-view+json": {
       "model_id": "",
       "version_major": 2,
       "version_minor": 0
      },
      "text/plain": [
       "HBox(children=(IntProgress(value=0, description='Batch', max=183, style=ProgressStyle(description_width='initi…"
      ]
     },
     "metadata": {},
     "output_type": "display_data"
    },
    {
     "name": "stdout",
     "output_type": "stream",
     "text": [
      "Epoch 658/1000 Iteration: 120500 Avg. Training loss: 5.3457 0.2197 sec/batch\n"
     ]
    },
    {
     "data": {
      "application/vnd.jupyter.widget-view+json": {
       "model_id": "",
       "version_major": 2,
       "version_minor": 0
      },
      "text/plain": [
       "HBox(children=(IntProgress(value=0, description='Batch', max=183, style=ProgressStyle(description_width='initi…"
      ]
     },
     "metadata": {},
     "output_type": "display_data"
    },
    {
     "name": "stdout",
     "output_type": "stream",
     "text": [
      "Epoch 659/1000 Iteration: 120600 Avg. Training loss: 5.6454 0.0081 sec/batch\n",
      "Epoch 659/1000 Iteration: 120700 Avg. Training loss: 5.3472 0.2551 sec/batch\n"
     ]
    },
    {
     "data": {
      "application/vnd.jupyter.widget-view+json": {
       "model_id": "",
       "version_major": 2,
       "version_minor": 0
      },
      "text/plain": [
       "HBox(children=(IntProgress(value=0, description='Batch', max=183, style=ProgressStyle(description_width='initi…"
      ]
     },
     "metadata": {},
     "output_type": "display_data"
    },
    {
     "name": "stdout",
     "output_type": "stream",
     "text": [
      "Epoch 660/1000 Iteration: 120800 Avg. Training loss: 5.6123 0.0514 sec/batch\n",
      "Epoch 660/1000 Iteration: 120900 Avg. Training loss: 5.3861 0.2551 sec/batch\n"
     ]
    },
    {
     "data": {
      "application/vnd.jupyter.widget-view+json": {
       "model_id": "",
       "version_major": 2,
       "version_minor": 0
      },
      "text/plain": [
       "HBox(children=(IntProgress(value=0, description='Batch', max=183, style=ProgressStyle(description_width='initi…"
      ]
     },
     "metadata": {},
     "output_type": "display_data"
    },
    {
     "name": "stdout",
     "output_type": "stream",
     "text": [
      "Epoch 661/1000 Iteration: 121000 Avg. Training loss: 5.4493 0.0944 sec/batch\n",
      "Nearest to há: ainda, mas, já, que, ,, porém, mesmo, é,\n",
      "Nearest to está: continua, estava, vem, estaria, esteja, estar, continuará, mas,\n",
      "Nearest to mesmo: só, que, ainda, já, apenas, mas, o, porém,\n",
      "Nearest to contra: de, no, na, em, neste, à, ., após,\n",
      "Nearest to que: ainda, já, ., também, mas, ele, não, ,,\n",
      "Nearest to muito: mas, bastante, porque, pouco, tão, que, diferente, mais,\n",
      "Nearest to eu: sei, meu, vou, cheguei, comigo, acho, acredito, me,\n",
      "Nearest to só: mas, mesmo, não, que, até, ., já, agora,\n",
      "Nearest to desempenho: resultado, fraco, esperado, maior, apesar, negativo, o, queda,\n",
      "Nearest to seguinte: dia, última, publicadas, antes, coordenação, no, começo, ontem,\n",
      "Nearest to continuar: continuará, vem, continua, está, vinha, disso, começando, fazer,\n",
      "Nearest to veio: levou, depois, trouxe, fez, começo, logo, após, aconteceu,\n",
      "Nearest to garantir: assegurar, manter, garantindo, necessária, dar, preservar, precisa, reforçar,\n",
      "Nearest to pretende: vai, irá, decidiu, quer, planeja, poderá, promete, objetivo,\n",
      "Nearest to bairro: bairros, oeste, cidade, morava, morador, localizado, reduto, alugado,\n",
      "Nearest to escreveu: ,, pelo, nada, dizia, referindo-se, em, aí, sim,\n",
      "Epoch 661/1000 Iteration: 121100 Avg. Training loss: 5.4552 0.2657 sec/batch\n"
     ]
    },
    {
     "data": {
      "application/vnd.jupyter.widget-view+json": {
       "model_id": "",
       "version_major": 2,
       "version_minor": 0
      },
      "text/plain": [
       "HBox(children=(IntProgress(value=0, description='Batch', max=183, style=ProgressStyle(description_width='initi…"
      ]
     },
     "metadata": {},
     "output_type": "display_data"
    },
    {
     "name": "stdout",
     "output_type": "stream",
     "text": [
      "Epoch 662/1000 Iteration: 121200 Avg. Training loss: 5.6455 0.1381 sec/batch\n",
      "Epoch 662/1000 Iteration: 121300 Avg. Training loss: 5.4754 0.2553 sec/batch\n"
     ]
    },
    {
     "data": {
      "application/vnd.jupyter.widget-view+json": {
       "model_id": "",
       "version_major": 2,
       "version_minor": 0
      },
      "text/plain": [
       "HBox(children=(IntProgress(value=0, description='Batch', max=183, style=ProgressStyle(description_width='initi…"
      ]
     },
     "metadata": {},
     "output_type": "display_data"
    },
    {
     "name": "stdout",
     "output_type": "stream",
     "text": [
      "Epoch 663/1000 Iteration: 121400 Avg. Training loss: 5.4124 0.1814 sec/batch\n",
      "Epoch 663/1000 Iteration: 121500 Avg. Training loss: 5.6982 0.2549 sec/batch\n"
     ]
    },
    {
     "data": {
      "application/vnd.jupyter.widget-view+json": {
       "model_id": "",
       "version_major": 2,
       "version_minor": 0
      },
      "text/plain": [
       "HBox(children=(IntProgress(value=0, description='Batch', max=183, style=ProgressStyle(description_width='initi…"
      ]
     },
     "metadata": {},
     "output_type": "display_data"
    },
    {
     "name": "stdout",
     "output_type": "stream",
     "text": [
      "Epoch 664/1000 Iteration: 121600 Avg. Training loss: 5.3096 0.2248 sec/batch\n"
     ]
    },
    {
     "data": {
      "application/vnd.jupyter.widget-view+json": {
       "model_id": "",
       "version_major": 2,
       "version_minor": 0
      },
      "text/plain": [
       "HBox(children=(IntProgress(value=0, description='Batch', max=183, style=ProgressStyle(description_width='initi…"
      ]
     },
     "metadata": {},
     "output_type": "display_data"
    },
    {
     "name": "stdout",
     "output_type": "stream",
     "text": [
      "Epoch 665/1000 Iteration: 121700 Avg. Training loss: 5.4557 0.0129 sec/batch\n",
      "Epoch 665/1000 Iteration: 121800 Avg. Training loss: 5.7771 0.2548 sec/batch\n"
     ]
    },
    {
     "data": {
      "application/vnd.jupyter.widget-view+json": {
       "model_id": "",
       "version_major": 2,
       "version_minor": 0
      },
      "text/plain": [
       "HBox(children=(IntProgress(value=0, description='Batch', max=183, style=ProgressStyle(description_width='initi…"
      ]
     },
     "metadata": {},
     "output_type": "display_data"
    },
    {
     "name": "stdout",
     "output_type": "stream",
     "text": [
      "Epoch 666/1000 Iteration: 121900 Avg. Training loss: 5.2167 0.0563 sec/batch\n",
      "Epoch 666/1000 Iteration: 122000 Avg. Training loss: 5.4953 0.2546 sec/batch\n",
      "Nearest to ,: ., e, já, que, também, em, de, a,\n",
      "Nearest to dois: nove, outros, três, oito, também, menos, vários, os,\n",
      "Nearest to sem: ., de, apenas, própria, que, e, em, inclusive,\n",
      "Nearest to já: que, mas, ainda, ., ,, também, em, o,\n",
      "Nearest to seus: os, outros, próprios, dos, alguns, dois, todos, também,\n",
      "Nearest to nos: em, últimos, dos, também, outros, de, os, todos,\n",
      "Nearest to sobre: também, a, do, na, o, em, no, de,\n",
      "Nearest to seu: próprio, o, do, pelo, ao, ., mesmo, ele,\n",
      "Nearest to simples: ser, vez, é, porém, a, só, ., ele,\n",
      "Nearest to explica: afirma, diz, observa, procura, assim, inteiro, ela, rapidamente,\n",
      "Nearest to unidades: unidade, leitos, terço, mil, total, cerca, segmento, período,\n",
      "Nearest to chefe: ex-chefe, gabinete, comandou, chefia, indicou, chefiou, assumiu, departamento,\n",
      "Nearest to escreveu: ,, pelo, publicou, fim, devendo, próprio, em, .,\n",
      "Nearest to filmes: cinema, filme, longa-metragem, estúdios, cinemas, cineastas, cineasta, longa,\n",
      "Nearest to francisco: papa, pontífice, semicego, misericórdia, vaticano, católica, papal, missa,\n",
      "Nearest to médico: hospital, clínicas, médicos, paciente, hospitais, encaminhado, consultório, atendido,\n"
     ]
    },
    {
     "data": {
      "application/vnd.jupyter.widget-view+json": {
       "model_id": "",
       "version_major": 2,
       "version_minor": 0
      },
      "text/plain": [
       "HBox(children=(IntProgress(value=0, description='Batch', max=183, style=ProgressStyle(description_width='initi…"
      ]
     },
     "metadata": {},
     "output_type": "display_data"
    },
    {
     "name": "stdout",
     "output_type": "stream",
     "text": [
      "Epoch 667/1000 Iteration: 122100 Avg. Training loss: 5.3374 0.0993 sec/batch\n",
      "Epoch 667/1000 Iteration: 122200 Avg. Training loss: 5.5288 0.2550 sec/batch\n"
     ]
    },
    {
     "data": {
      "application/vnd.jupyter.widget-view+json": {
       "model_id": "",
       "version_major": 2,
       "version_minor": 0
      },
      "text/plain": [
       "HBox(children=(IntProgress(value=0, description='Batch', max=183, style=ProgressStyle(description_width='initi…"
      ]
     },
     "metadata": {},
     "output_type": "display_data"
    },
    {
     "name": "stdout",
     "output_type": "stream",
     "text": [
      "Epoch 668/1000 Iteration: 122300 Avg. Training loss: 5.3901 0.1434 sec/batch\n",
      "Epoch 668/1000 Iteration: 122400 Avg. Training loss: 5.6188 0.2556 sec/batch\n"
     ]
    },
    {
     "data": {
      "application/vnd.jupyter.widget-view+json": {
       "model_id": "",
       "version_major": 2,
       "version_minor": 0
      },
      "text/plain": [
       "HBox(children=(IntProgress(value=0, description='Batch', max=183, style=ProgressStyle(description_width='initi…"
      ]
     },
     "metadata": {},
     "output_type": "display_data"
    },
    {
     "name": "stdout",
     "output_type": "stream",
     "text": [
      "Epoch 669/1000 Iteration: 122500 Avg. Training loss: 5.4134 0.1863 sec/batch\n",
      "Epoch 669/1000 Iteration: 122600 Avg. Training loss: 5.4840 0.2567 sec/batch\n"
     ]
    },
    {
     "data": {
      "application/vnd.jupyter.widget-view+json": {
       "model_id": "",
       "version_major": 2,
       "version_minor": 0
      },
      "text/plain": [
       "HBox(children=(IntProgress(value=0, description='Batch', max=183, style=ProgressStyle(description_width='initi…"
      ]
     },
     "metadata": {},
     "output_type": "display_data"
    },
    {
     "name": "stdout",
     "output_type": "stream",
     "text": [
      "Epoch 670/1000 Iteration: 122700 Avg. Training loss: 5.4084 0.2312 sec/batch\n"
     ]
    },
    {
     "data": {
      "application/vnd.jupyter.widget-view+json": {
       "model_id": "",
       "version_major": 2,
       "version_minor": 0
      },
      "text/plain": [
       "HBox(children=(IntProgress(value=0, description='Batch', max=183, style=ProgressStyle(description_width='initi…"
      ]
     },
     "metadata": {},
     "output_type": "display_data"
    },
    {
     "name": "stdout",
     "output_type": "stream",
     "text": [
      "Epoch 671/1000 Iteration: 122800 Avg. Training loss: 5.3835 0.0180 sec/batch\n",
      "Epoch 671/1000 Iteration: 122900 Avg. Training loss: 5.5046 0.2551 sec/batch\n"
     ]
    },
    {
     "data": {
      "application/vnd.jupyter.widget-view+json": {
       "model_id": "",
       "version_major": 2,
       "version_minor": 0
      },
      "text/plain": [
       "HBox(children=(IntProgress(value=0, description='Batch', max=183, style=ProgressStyle(description_width='initi…"
      ]
     },
     "metadata": {},
     "output_type": "display_data"
    },
    {
     "name": "stdout",
     "output_type": "stream",
     "text": [
      "Epoch 672/1000 Iteration: 123000 Avg. Training loss: 5.4286 0.0617 sec/batch\n",
      "Nearest to brasil: no, mundo, ., para, brasileiro, com, país, em,\n",
      "Nearest to ano: passado, mês, deste, último, maio, neste, outubro, abril,\n",
      "Nearest to por: também, e, ., em, que, já, de, ,,\n",
      "Nearest to ser: pois, foi, será, não, pelo, ele, ter, mas,\n",
      "Nearest to pessoas: menos, mil, só, que, porque, milhares, desse, mesmo,\n",
      "Nearest to dia: domingo, semana, mês, sexta, sexta-feira, último, terça, neste,\n",
      "Nearest to que: ., ainda, também, não, mas, já, ele, de,\n",
      "Nearest to ,: ., e, já, também, em, que, de, a,\n",
      "Nearest to investidores: mercados, ativos, volatilidade, investidor, investimentos, fundos, financeiros, cautela,\n",
      "Nearest to escreveu: publicou, ,, dizia, escreve, assim, referindo-se, devendo, ],\n",
      "Nearest to famílias: pobres, pessoas, crianças, família, moradores, moram, moradias, jovens,\n",
      "Nearest to emprego: trabalho, empregos, desempregados, desemprego, empregados, crescimento, contínua, recessão,\n",
      "Nearest to francisco: papa, católica, papal, misericórdia, san, semicego, pontífice, católicos,\n",
      "Nearest to conseguir: obter, ajudar, consiga, para, ganhar, precisa, tentar, difícil,\n",
      "Nearest to minas: gerais, pimentel, mineiro, espírito, ufmg, bahia, ceará, tocantins,\n",
      "Nearest to diferença: somente, seria, apenas, ainda, mesmo, maior, porém, é,\n",
      "Epoch 672/1000 Iteration: 123100 Avg. Training loss: 5.5290 0.2660 sec/batch\n"
     ]
    },
    {
     "data": {
      "application/vnd.jupyter.widget-view+json": {
       "model_id": "",
       "version_major": 2,
       "version_minor": 0
      },
      "text/plain": [
       "HBox(children=(IntProgress(value=0, description='Batch', max=183, style=ProgressStyle(description_width='initi…"
      ]
     },
     "metadata": {},
     "output_type": "display_data"
    },
    {
     "name": "stdout",
     "output_type": "stream",
     "text": [
      "Epoch 673/1000 Iteration: 123200 Avg. Training loss: 5.3255 0.1049 sec/batch\n",
      "Epoch 673/1000 Iteration: 123300 Avg. Training loss: 5.4915 0.2552 sec/batch\n"
     ]
    },
    {
     "data": {
      "application/vnd.jupyter.widget-view+json": {
       "model_id": "",
       "version_major": 2,
       "version_minor": 0
      },
      "text/plain": [
       "HBox(children=(IntProgress(value=0, description='Batch', max=183, style=ProgressStyle(description_width='initi…"
      ]
     },
     "metadata": {},
     "output_type": "display_data"
    },
    {
     "name": "stdout",
     "output_type": "stream",
     "text": [
      "Epoch 674/1000 Iteration: 123400 Avg. Training loss: 5.6380 0.1483 sec/batch\n",
      "Epoch 674/1000 Iteration: 123500 Avg. Training loss: 5.4714 0.2550 sec/batch\n"
     ]
    },
    {
     "data": {
      "application/vnd.jupyter.widget-view+json": {
       "model_id": "",
       "version_major": 2,
       "version_minor": 0
      },
      "text/plain": [
       "HBox(children=(IntProgress(value=0, description='Batch', max=183, style=ProgressStyle(description_width='initi…"
      ]
     },
     "metadata": {},
     "output_type": "display_data"
    },
    {
     "name": "stdout",
     "output_type": "stream",
     "text": [
      "Epoch 675/1000 Iteration: 123600 Avg. Training loss: 5.5714 0.1913 sec/batch\n",
      "Epoch 675/1000 Iteration: 123700 Avg. Training loss: 5.6571 0.2556 sec/batch\n"
     ]
    },
    {
     "data": {
      "application/vnd.jupyter.widget-view+json": {
       "model_id": "",
       "version_major": 2,
       "version_minor": 0
      },
      "text/plain": [
       "HBox(children=(IntProgress(value=0, description='Batch', max=183, style=ProgressStyle(description_width='initi…"
      ]
     },
     "metadata": {},
     "output_type": "display_data"
    },
    {
     "name": "stdout",
     "output_type": "stream",
     "text": [
      "Epoch 676/1000 Iteration: 123800 Avg. Training loss: 5.4184 0.2348 sec/batch\n"
     ]
    },
    {
     "data": {
      "application/vnd.jupyter.widget-view+json": {
       "model_id": "",
       "version_major": 2,
       "version_minor": 0
      },
      "text/plain": [
       "HBox(children=(IntProgress(value=0, description='Batch', max=183, style=ProgressStyle(description_width='initi…"
      ]
     },
     "metadata": {},
     "output_type": "display_data"
    },
    {
     "name": "stdout",
     "output_type": "stream",
     "text": [
      "Epoch 677/1000 Iteration: 123900 Avg. Training loss: 5.6058 0.0233 sec/batch\n",
      "Epoch 677/1000 Iteration: 124000 Avg. Training loss: 5.4494 0.2558 sec/batch\n",
      "Nearest to aos: os, e, também, à, por, com, na, .,\n",
      "Nearest to 000: 00, mil, cerca, 0.000, dobro, r$, total, 0,\n",
      "Nearest to estão: estavam, estariam, continuam, está, ficam, há, já, vêm,\n",
      "Nearest to .: ,, e, que, em, o, a, também, de,\n",
      "Nearest to 00: 0, em, até, de, 000, menos, neste, .,\n",
      "Nearest to diz: afirma, lembra, ,, que, mas, já, ., também,\n",
      "Nearest to :: e, como, ., ,, exemplo, sem, ?, cinco,\n",
      "Nearest to após: depois, antes, no, teve, início, foi, na, durante,\n",
      "Nearest to conhecido: considerado, o, do, famoso, reconhecido, principalmente, um, virou,\n",
      "Nearest to discussão: proposta, questão, discutir, mudança, aprovação, tema, dessa, congresso,\n",
      "Nearest to provas: prova, obtidas, finais, evidências, fase, natação, alegações, etapas,\n",
      "Nearest to estratégia: tentar, tática, a, adotada, contudo, postura, tentativa, buscou,\n",
      "Nearest to mar: oceano, mediterrâneo, travessia, barco, barcos, embarcações, atlântico, litoral,\n",
      "Nearest to palácio: planalto, alvorada, peemedebista, jaburu, temer, esplanada, dilma, assessores,\n",
      "Nearest to |: grátis, sarau, prevenir, recreart, 0h, seg, zefa, klussmann,\n",
      "Nearest to números: estatísticas, dados, resultados, divulgados, registros, apontam, indicadores, recentes,\n"
     ]
    },
    {
     "data": {
      "application/vnd.jupyter.widget-view+json": {
       "model_id": "",
       "version_major": 2,
       "version_minor": 0
      },
      "text/plain": [
       "HBox(children=(IntProgress(value=0, description='Batch', max=183, style=ProgressStyle(description_width='initi…"
      ]
     },
     "metadata": {},
     "output_type": "display_data"
    },
    {
     "name": "stdout",
     "output_type": "stream",
     "text": [
      "Epoch 678/1000 Iteration: 124100 Avg. Training loss: 5.4197 0.0664 sec/batch\n",
      "Epoch 678/1000 Iteration: 124200 Avg. Training loss: 5.4815 0.2555 sec/batch\n"
     ]
    },
    {
     "data": {
      "application/vnd.jupyter.widget-view+json": {
       "model_id": "",
       "version_major": 2,
       "version_minor": 0
      },
      "text/plain": [
       "HBox(children=(IntProgress(value=0, description='Batch', max=183, style=ProgressStyle(description_width='initi…"
      ]
     },
     "metadata": {},
     "output_type": "display_data"
    },
    {
     "name": "stdout",
     "output_type": "stream",
     "text": [
      "Epoch 679/1000 Iteration: 124300 Avg. Training loss: 5.7174 0.1102 sec/batch\n",
      "Epoch 679/1000 Iteration: 124400 Avg. Training loss: 5.4261 0.2556 sec/batch\n"
     ]
    },
    {
     "data": {
      "application/vnd.jupyter.widget-view+json": {
       "model_id": "",
       "version_major": 2,
       "version_minor": 0
      },
      "text/plain": [
       "HBox(children=(IntProgress(value=0, description='Batch', max=183, style=ProgressStyle(description_width='initi…"
      ]
     },
     "metadata": {},
     "output_type": "display_data"
    },
    {
     "name": "stdout",
     "output_type": "stream",
     "text": [
      "Epoch 680/1000 Iteration: 124500 Avg. Training loss: 5.6770 0.1537 sec/batch\n",
      "Epoch 680/1000 Iteration: 124600 Avg. Training loss: 5.6595 0.2551 sec/batch\n"
     ]
    },
    {
     "data": {
      "application/vnd.jupyter.widget-view+json": {
       "model_id": "",
       "version_major": 2,
       "version_minor": 0
      },
      "text/plain": [
       "HBox(children=(IntProgress(value=0, description='Batch', max=183, style=ProgressStyle(description_width='initi…"
      ]
     },
     "metadata": {},
     "output_type": "display_data"
    },
    {
     "name": "stdout",
     "output_type": "stream",
     "text": [
      "Epoch 681/1000 Iteration: 124700 Avg. Training loss: 5.5197 0.1967 sec/batch\n",
      "Epoch 681/1000 Iteration: 124800 Avg. Training loss: 5.6627 0.2561 sec/batch\n"
     ]
    },
    {
     "data": {
      "application/vnd.jupyter.widget-view+json": {
       "model_id": "",
       "version_major": 2,
       "version_minor": 0
      },
      "text/plain": [
       "HBox(children=(IntProgress(value=0, description='Batch', max=183, style=ProgressStyle(description_width='initi…"
      ]
     },
     "metadata": {},
     "output_type": "display_data"
    },
    {
     "name": "stdout",
     "output_type": "stream",
     "text": [
      "Epoch 682/1000 Iteration: 124900 Avg. Training loss: 5.5793 0.2394 sec/batch\n"
     ]
    },
    {
     "data": {
      "application/vnd.jupyter.widget-view+json": {
       "model_id": "",
       "version_major": 2,
       "version_minor": 0
      },
      "text/plain": [
       "HBox(children=(IntProgress(value=0, description='Batch', max=183, style=ProgressStyle(description_width='initi…"
      ]
     },
     "metadata": {},
     "output_type": "display_data"
    },
    {
     "name": "stdout",
     "output_type": "stream",
     "text": [
      "Epoch 683/1000 Iteration: 125000 Avg. Training loss: 5.4411 0.0286 sec/batch\n",
      "Nearest to depois: após, antes, em, logo, e, já, no, fim,\n",
      "Nearest to ao: o, do, ., um, também, ainda, mesmo, que,\n",
      "Nearest to mesmo: ainda, o, que, só, mas, apenas, somente, já,\n",
      "Nearest to os: dos, outros, esses, alguns, ., ainda, todos, pelos,\n",
      "Nearest to pela: pelo, a, vez, foi, ., na, e, da,\n",
      "Nearest to há: ainda, mas, já, porém, ,, apenas, ., que,\n",
      "Nearest to tem: de, têm, é, tendo, mesmo, só, com, que,\n",
      "Nearest to na: em, da, a, com, última, também, à, .,\n",
      "Nearest to conversa: conversas, gravação, áudio, encontro, diálogo, reuniões, reunião, falou,\n",
      "Nearest to avenida: rua, avenidas, pedestres, ciclovia, marginal, ruas, semáforo, trânsito,\n",
      "Nearest to conhecido: considerado, famoso, virou, o, sugeriu, do, envolveu, um,\n",
      "Nearest to profissionais: qualificados, professores, profissional, qualificação, médicos, funcionários, especializados, aprendizado,\n",
      "Nearest to unidades: unidade, habitacionais, de, considerando, aporte, atender, tem, creches,\n",
      "Nearest to europeia: ue, união, unido, reino, europeu, juncker, brexit, europeus,\n",
      "Nearest to pretende: vai, irá, quer, decidiu, planeja, objetivo, pretendia, deve,\n",
      "Nearest to ambos: os, também, dois, entre, e, ,, eles, por,\n",
      "Epoch 683/1000 Iteration: 125100 Avg. Training loss: 5.4992 0.2664 sec/batch\n"
     ]
    },
    {
     "data": {
      "application/vnd.jupyter.widget-view+json": {
       "model_id": "",
       "version_major": 2,
       "version_minor": 0
      },
      "text/plain": [
       "HBox(children=(IntProgress(value=0, description='Batch', max=183, style=ProgressStyle(description_width='initi…"
      ]
     },
     "metadata": {},
     "output_type": "display_data"
    },
    {
     "name": "stdout",
     "output_type": "stream",
     "text": [
      "Epoch 684/1000 Iteration: 125200 Avg. Training loss: 5.6325 0.0715 sec/batch\n",
      "Epoch 684/1000 Iteration: 125300 Avg. Training loss: 5.5783 0.2553 sec/batch\n"
     ]
    },
    {
     "data": {
      "application/vnd.jupyter.widget-view+json": {
       "model_id": "",
       "version_major": 2,
       "version_minor": 0
      },
      "text/plain": [
       "HBox(children=(IntProgress(value=0, description='Batch', max=183, style=ProgressStyle(description_width='initi…"
      ]
     },
     "metadata": {},
     "output_type": "display_data"
    },
    {
     "name": "stdout",
     "output_type": "stream",
     "text": [
      "Epoch 685/1000 Iteration: 125400 Avg. Training loss: 5.2366 0.1152 sec/batch\n",
      "Epoch 685/1000 Iteration: 125500 Avg. Training loss: 5.8167 0.2556 sec/batch\n"
     ]
    },
    {
     "data": {
      "application/vnd.jupyter.widget-view+json": {
       "model_id": "",
       "version_major": 2,
       "version_minor": 0
      },
      "text/plain": [
       "HBox(children=(IntProgress(value=0, description='Batch', max=183, style=ProgressStyle(description_width='initi…"
      ]
     },
     "metadata": {},
     "output_type": "display_data"
    },
    {
     "name": "stdout",
     "output_type": "stream",
     "text": [
      "Epoch 686/1000 Iteration: 125600 Avg. Training loss: 5.5230 0.1597 sec/batch\n",
      "Epoch 686/1000 Iteration: 125700 Avg. Training loss: 5.6401 0.2561 sec/batch\n"
     ]
    },
    {
     "data": {
      "application/vnd.jupyter.widget-view+json": {
       "model_id": "",
       "version_major": 2,
       "version_minor": 0
      },
      "text/plain": [
       "HBox(children=(IntProgress(value=0, description='Batch', max=183, style=ProgressStyle(description_width='initi…"
      ]
     },
     "metadata": {},
     "output_type": "display_data"
    },
    {
     "name": "stdout",
     "output_type": "stream",
     "text": [
      "Epoch 687/1000 Iteration: 125800 Avg. Training loss: 5.5599 0.2031 sec/batch\n",
      "Epoch 687/1000 Iteration: 125900 Avg. Training loss: 5.5673 0.2561 sec/batch\n"
     ]
    },
    {
     "data": {
      "application/vnd.jupyter.widget-view+json": {
       "model_id": "",
       "version_major": 2,
       "version_minor": 0
      },
      "text/plain": [
       "HBox(children=(IntProgress(value=0, description='Batch', max=183, style=ProgressStyle(description_width='initi…"
      ]
     },
     "metadata": {},
     "output_type": "display_data"
    },
    {
     "name": "stdout",
     "output_type": "stream",
     "text": [
      "Epoch 688/1000 Iteration: 126000 Avg. Training loss: 5.6576 0.2454 sec/batch\n",
      "Nearest to estão: estariam, continuam, estavam, está, ficam, estejam, já, estarão,\n",
      "Nearest to são: paulo, e, sp, ., de, somente, ,, atual,\n",
      "Nearest to ter: teria, tendo, tenha, terem, havia, sido, teriam, fato,\n",
      "Nearest to só: mas, mesmo, não, até, agora, que, somente, porque,\n",
      "Nearest to está: continua, estaria, vem, esteja, estar, estava, mas, estão,\n",
      "Nearest to sem: apenas, ., ainda, somente, de, para, que, e,\n",
      "Nearest to da: a, à, na, de, em, parte, ,, .,\n",
      "Nearest to depois: após, antes, logo, já, em, mas, e, .,\n",
      "Nearest to popular: populares, diretas, único, há, haverá, povo, manifestação, portanto,\n",
      "Nearest to conhecido: considerado, sugeriu, famoso, virou, dado, um, do, o,\n",
      "Nearest to década: 0000, desde, meados, 0000-, anos, últimos, décadas, começo,\n",
      "Nearest to nossos: seus, mesmos, políticos, os, envolvidos, clientes, temos, esses,\n",
      "Nearest to veio: levou, trouxe, resultou, depois, deram, após, virá, foi,\n",
      "Nearest to filmes: cinema, filme, cineastas, cineasta, longa-metragem, cinemas, exibição, produções,\n",
      "Nearest to conversa: conversas, gravação, áudio, gravada, encontro, reunião, diálogo, transcrição,\n",
      "Nearest to famílias: pessoas, pobres, jovens, crianças, maior, vivem, ajuda, comunidades,\n"
     ]
    },
    {
     "data": {
      "application/vnd.jupyter.widget-view+json": {
       "model_id": "",
       "version_major": 2,
       "version_minor": 0
      },
      "text/plain": [
       "HBox(children=(IntProgress(value=0, description='Batch', max=183, style=ProgressStyle(description_width='initi…"
      ]
     },
     "metadata": {},
     "output_type": "display_data"
    },
    {
     "name": "stdout",
     "output_type": "stream",
     "text": [
      "Epoch 689/1000 Iteration: 126100 Avg. Training loss: 5.6974 0.0332 sec/batch\n",
      "Epoch 689/1000 Iteration: 126200 Avg. Training loss: 5.9095 0.2559 sec/batch\n"
     ]
    },
    {
     "data": {
      "application/vnd.jupyter.widget-view+json": {
       "model_id": "",
       "version_major": 2,
       "version_minor": 0
      },
      "text/plain": [
       "HBox(children=(IntProgress(value=0, description='Batch', max=183, style=ProgressStyle(description_width='initi…"
      ]
     },
     "metadata": {},
     "output_type": "display_data"
    },
    {
     "name": "stdout",
     "output_type": "stream",
     "text": [
      "Epoch 690/1000 Iteration: 126300 Avg. Training loss: 5.6459 0.0772 sec/batch\n",
      "Epoch 690/1000 Iteration: 126400 Avg. Training loss: 5.5277 0.2541 sec/batch\n"
     ]
    },
    {
     "data": {
      "application/vnd.jupyter.widget-view+json": {
       "model_id": "",
       "version_major": 2,
       "version_minor": 0
      },
      "text/plain": [
       "HBox(children=(IntProgress(value=0, description='Batch', max=183, style=ProgressStyle(description_width='initi…"
      ]
     },
     "metadata": {},
     "output_type": "display_data"
    },
    {
     "name": "stdout",
     "output_type": "stream",
     "text": [
      "Epoch 691/1000 Iteration: 126500 Avg. Training loss: 5.5817 0.1198 sec/batch\n",
      "Epoch 691/1000 Iteration: 126600 Avg. Training loss: 5.5519 0.2547 sec/batch\n"
     ]
    },
    {
     "data": {
      "application/vnd.jupyter.widget-view+json": {
       "model_id": "",
       "version_major": 2,
       "version_minor": 0
      },
      "text/plain": [
       "HBox(children=(IntProgress(value=0, description='Batch', max=183, style=ProgressStyle(description_width='initi…"
      ]
     },
     "metadata": {},
     "output_type": "display_data"
    },
    {
     "name": "stdout",
     "output_type": "stream",
     "text": [
      "Epoch 692/1000 Iteration: 126700 Avg. Training loss: 5.6724 0.1631 sec/batch\n",
      "Epoch 692/1000 Iteration: 126800 Avg. Training loss: 5.4154 0.2553 sec/batch\n"
     ]
    },
    {
     "data": {
      "application/vnd.jupyter.widget-view+json": {
       "model_id": "",
       "version_major": 2,
       "version_minor": 0
      },
      "text/plain": [
       "HBox(children=(IntProgress(value=0, description='Batch', max=183, style=ProgressStyle(description_width='initi…"
      ]
     },
     "metadata": {},
     "output_type": "display_data"
    },
    {
     "name": "stdout",
     "output_type": "stream",
     "text": [
      "Epoch 693/1000 Iteration: 126900 Avg. Training loss: 5.6861 0.2069 sec/batch\n",
      "Epoch 693/1000 Iteration: 127000 Avg. Training loss: 5.5198 0.2595 sec/batch\n",
      "Nearest to país: que, ., todo, maior, a, ainda, há, de,\n",
      "Nearest to se: quem, pois, que, não, só, pode, ela, ele,\n",
      "Nearest to as: das, essas, todas, dessas, algumas, suas, mesmas, outras,\n",
      "Nearest to anos: oito, meses, últimos, depois, cinco, já, três, em,\n",
      "Nearest to às: das, hoje, volta, quando, 00h, dia, sexta, sábado,\n",
      "Nearest to ao: do, o, ., também, de, pelo, ainda, a,\n",
      "Nearest to nas: das, as, pelas, primeiras, suas, de, dessas, nessas,\n",
      "Nearest to como: que, e, ., também, exemplo, ,, por, de,\n",
      "Nearest to conversa: conversas, áudio, gravação, diálogo, encontro, conversar, transcrição, falou,\n",
      "Nearest to europeia: ue, reino, unido, união, brexit, europeu, juncker, bloco,\n",
      "Nearest to ouro: medalha, prata, bronze, conquistou, londres-0000, medalhas, medalhista, atleta,\n",
      "Nearest to aliados: aliado, aliada, peemedebista, parlamentares, governo, interlocutores, oposicionistas, partidários,\n",
      "Nearest to EMAIL: enviar, basta, e-mail, envie, traduzem, acessar, publicados, colaborar,\n",
      "Nearest to recente: à, último, a, setembro, em, após, de, maior,\n",
      "Nearest to explica: afirma, observa, diz, assim, procura, -,, rocha, também,\n",
      "Nearest to santa: catarina, luzia, cecília, cruz, misericórdia, teresinha, desfalcado, paraná,\n"
     ]
    },
    {
     "data": {
      "application/vnd.jupyter.widget-view+json": {
       "model_id": "",
       "version_major": 2,
       "version_minor": 0
      },
      "text/plain": [
       "HBox(children=(IntProgress(value=0, description='Batch', max=183, style=ProgressStyle(description_width='initi…"
      ]
     },
     "metadata": {},
     "output_type": "display_data"
    },
    {
     "name": "stdout",
     "output_type": "stream",
     "text": [
      "Epoch 694/1000 Iteration: 127100 Avg. Training loss: 5.5703 0.2523 sec/batch\n"
     ]
    },
    {
     "data": {
      "application/vnd.jupyter.widget-view+json": {
       "model_id": "",
       "version_major": 2,
       "version_minor": 0
      },
      "text/plain": [
       "HBox(children=(IntProgress(value=0, description='Batch', max=183, style=ProgressStyle(description_width='initi…"
      ]
     },
     "metadata": {},
     "output_type": "display_data"
    },
    {
     "name": "stdout",
     "output_type": "stream",
     "text": [
      "Epoch 695/1000 Iteration: 127200 Avg. Training loss: 5.1895 0.0387 sec/batch\n",
      "Epoch 695/1000 Iteration: 127300 Avg. Training loss: 5.4259 0.2565 sec/batch\n"
     ]
    },
    {
     "data": {
      "application/vnd.jupyter.widget-view+json": {
       "model_id": "",
       "version_major": 2,
       "version_minor": 0
      },
      "text/plain": [
       "HBox(children=(IntProgress(value=0, description='Batch', max=183, style=ProgressStyle(description_width='initi…"
      ]
     },
     "metadata": {},
     "output_type": "display_data"
    },
    {
     "name": "stdout",
     "output_type": "stream",
     "text": [
      "Epoch 696/1000 Iteration: 127400 Avg. Training loss: 5.4974 0.0816 sec/batch\n",
      "Epoch 696/1000 Iteration: 127500 Avg. Training loss: 5.4603 0.2558 sec/batch\n"
     ]
    },
    {
     "data": {
      "application/vnd.jupyter.widget-view+json": {
       "model_id": "",
       "version_major": 2,
       "version_minor": 0
      },
      "text/plain": [
       "HBox(children=(IntProgress(value=0, description='Batch', max=183, style=ProgressStyle(description_width='initi…"
      ]
     },
     "metadata": {},
     "output_type": "display_data"
    },
    {
     "name": "stdout",
     "output_type": "stream",
     "text": [
      "Epoch 697/1000 Iteration: 127600 Avg. Training loss: 5.6526 0.1259 sec/batch\n",
      "Epoch 697/1000 Iteration: 127700 Avg. Training loss: 5.3440 0.2541 sec/batch\n"
     ]
    },
    {
     "data": {
      "application/vnd.jupyter.widget-view+json": {
       "model_id": "",
       "version_major": 2,
       "version_minor": 0
      },
      "text/plain": [
       "HBox(children=(IntProgress(value=0, description='Batch', max=183, style=ProgressStyle(description_width='initi…"
      ]
     },
     "metadata": {},
     "output_type": "display_data"
    },
    {
     "name": "stdout",
     "output_type": "stream",
     "text": [
      "Epoch 698/1000 Iteration: 127800 Avg. Training loss: 5.4117 0.1690 sec/batch\n",
      "Epoch 698/1000 Iteration: 127900 Avg. Training loss: 5.7685 0.2564 sec/batch\n"
     ]
    },
    {
     "data": {
      "application/vnd.jupyter.widget-view+json": {
       "model_id": "",
       "version_major": 2,
       "version_minor": 0
      },
      "text/plain": [
       "HBox(children=(IntProgress(value=0, description='Batch', max=183, style=ProgressStyle(description_width='initi…"
      ]
     },
     "metadata": {},
     "output_type": "display_data"
    },
    {
     "name": "stdout",
     "output_type": "stream",
     "text": [
      "Epoch 699/1000 Iteration: 128000 Avg. Training loss: 5.5694 0.2122 sec/batch\n",
      "Nearest to disse: afirmou, dizendo, acrescentando, falou, diz, afirma, reiterou, afirmando,\n",
      "Nearest to são: paulo, e, ., na, de, em, atual, meio,\n",
      "Nearest to foi: após, havia, em, na, ter, depois, será, parte,\n",
      "Nearest to seus: próprios, outros, os, dois, dos, esses, alguns, todos,\n",
      "Nearest to muito: bastante, mas, porque, diferente, mais, tão, bem, pouco,\n",
      "Nearest to nas: das, as, primeiras, suas, próximas, pelas, nessas, também,\n",
      "Nearest to milhões: milhão, mil, 0,0, bilhão, cerca, aproximadamente, 000,0, 00,0,\n",
      "Nearest to estão: estariam, estavam, continuam, está, estarão, estejam, já, estarem,\n",
      "Nearest to democracia: golpe, democráticas, democrático, governabilidade, plena, (), respeito, poder,\n",
      "Nearest to diferença: mesmo, somente, segundo, apenas, vantagem, independentemente, máximo, mas,\n",
      "Nearest to escreveu: ,, ., agora, fim, ], pelo, inclusive, afirma,\n",
      "Nearest to atividade: mesmo, maior, relação, transformação, desde, econômica, ainda, principalmente,\n",
      "Nearest to ouro: medalha, londres-0000, prata, medalhas, bronze, conquistou, medalhista, pequim-0000,\n",
      "Nearest to década: 0000, meados, anos, desde, 0000-, tornou-se, começo, últimos,\n",
      "Nearest to deverá: deve, poderá, terá, vai, pode, irá, será, deverão,\n",
      "Nearest to médico: hospital, clínicas, paciente, cardiologista, pronto-socorro, médicos, iml, consultório,\n",
      "Epoch 699/1000 Iteration: 128100 Avg. Training loss: 5.5694 0.2643 sec/batch\n"
     ]
    },
    {
     "data": {
      "application/vnd.jupyter.widget-view+json": {
       "model_id": "",
       "version_major": 2,
       "version_minor": 0
      },
      "text/plain": [
       "HBox(children=(IntProgress(value=0, description='Batch', max=183, style=ProgressStyle(description_width='initi…"
      ]
     },
     "metadata": {},
     "output_type": "display_data"
    },
    {
     "name": "stdout",
     "output_type": "stream",
     "text": [
      "Epoch 700/1000 Iteration: 128200 Avg. Training loss: 5.4788 0.2558 sec/batch\n"
     ]
    },
    {
     "data": {
      "application/vnd.jupyter.widget-view+json": {
       "model_id": "",
       "version_major": 2,
       "version_minor": 0
      },
      "text/plain": [
       "HBox(children=(IntProgress(value=0, description='Batch', max=183, style=ProgressStyle(description_width='initi…"
      ]
     },
     "metadata": {},
     "output_type": "display_data"
    },
    {
     "name": "stdout",
     "output_type": "stream",
     "text": [
      "Epoch 701/1000 Iteration: 128300 Avg. Training loss: 5.5777 0.0447 sec/batch\n",
      "Epoch 701/1000 Iteration: 128400 Avg. Training loss: 5.5264 0.2554 sec/batch\n"
     ]
    },
    {
     "data": {
      "application/vnd.jupyter.widget-view+json": {
       "model_id": "",
       "version_major": 2,
       "version_minor": 0
      },
      "text/plain": [
       "HBox(children=(IntProgress(value=0, description='Batch', max=183, style=ProgressStyle(description_width='initi…"
      ]
     },
     "metadata": {},
     "output_type": "display_data"
    },
    {
     "name": "stdout",
     "output_type": "stream",
     "text": [
      "Epoch 702/1000 Iteration: 128500 Avg. Training loss: 5.4151 0.0874 sec/batch\n",
      "Epoch 702/1000 Iteration: 128600 Avg. Training loss: 5.5176 0.2543 sec/batch\n"
     ]
    },
    {
     "data": {
      "application/vnd.jupyter.widget-view+json": {
       "model_id": "",
       "version_major": 2,
       "version_minor": 0
      },
      "text/plain": [
       "HBox(children=(IntProgress(value=0, description='Batch', max=183, style=ProgressStyle(description_width='initi…"
      ]
     },
     "metadata": {},
     "output_type": "display_data"
    },
    {
     "name": "stdout",
     "output_type": "stream",
     "text": [
      "Epoch 703/1000 Iteration: 128700 Avg. Training loss: 5.5456 0.1305 sec/batch\n",
      "Epoch 703/1000 Iteration: 128800 Avg. Training loss: 5.6431 0.2555 sec/batch\n"
     ]
    },
    {
     "data": {
      "application/vnd.jupyter.widget-view+json": {
       "model_id": "",
       "version_major": 2,
       "version_minor": 0
      },
      "text/plain": [
       "HBox(children=(IntProgress(value=0, description='Batch', max=183, style=ProgressStyle(description_width='initi…"
      ]
     },
     "metadata": {},
     "output_type": "display_data"
    },
    {
     "name": "stdout",
     "output_type": "stream",
     "text": [
      "Epoch 704/1000 Iteration: 128900 Avg. Training loss: 5.7043 0.1739 sec/batch\n",
      "Epoch 704/1000 Iteration: 129000 Avg. Training loss: 5.5218 0.2561 sec/batch\n",
      "Nearest to maior: do, menor, de, mesmo, principalmente, também, em, tem,\n",
      "Nearest to (: ), 00, nesta, ., terça, ,, quinta, terça-feira,\n",
      "Nearest to na: da, em, a, do, ., de, também, no,\n",
      "Nearest to mesmo: ainda, entanto, já, apenas, apesar, só, o, porém,\n",
      "Nearest to aos: os, para, por, dos, e, à, ., quais,\n",
      "Nearest to pelo: o, pela, do, já, também, ., em, qual,\n",
      "Nearest to sua: para, própria, isso, notícia, dúvida, na, a, mensagem,\n",
      "Nearest to está: continua, esteja, estaria, estar, estava, vem, estão, mas,\n",
      "Nearest to encontrar: buscar, achar, entender, mostrar, encontrou, dar, manter, trazer,\n",
      "Nearest to somente: apenas, mesmo, só, até, ainda, será, já, porém,\n",
      "Nearest to popular: existe, haverá, populares, diretas, há, como, povo, único,\n",
      "Nearest to EMAIL: basta, enviar, e-mail, envie, traduzem, publicados, colaborar, acessar,\n",
      "Nearest to simples: é, porém, seja, somente, ser, dessa, especialmente, a,\n",
      "Nearest to diferença: é, máximo, a, somente, menos, seria, apenas, segundo,\n",
      "Nearest to festival: festivais, cannes, evento, veneza, programação, bienal, acontece, competitiva,\n",
      "Nearest to pf: operação, polícia, depoimento, deflagrada, apreensão, investigado, jato, lava,\n"
     ]
    },
    {
     "data": {
      "application/vnd.jupyter.widget-view+json": {
       "model_id": "",
       "version_major": 2,
       "version_minor": 0
      },
      "text/plain": [
       "HBox(children=(IntProgress(value=0, description='Batch', max=183, style=ProgressStyle(description_width='initi…"
      ]
     },
     "metadata": {},
     "output_type": "display_data"
    },
    {
     "name": "stdout",
     "output_type": "stream",
     "text": [
      "Epoch 705/1000 Iteration: 129100 Avg. Training loss: 5.7447 0.2177 sec/batch\n"
     ]
    },
    {
     "data": {
      "application/vnd.jupyter.widget-view+json": {
       "model_id": "",
       "version_major": 2,
       "version_minor": 0
      },
      "text/plain": [
       "HBox(children=(IntProgress(value=0, description='Batch', max=183, style=ProgressStyle(description_width='initi…"
      ]
     },
     "metadata": {},
     "output_type": "display_data"
    },
    {
     "name": "stdout",
     "output_type": "stream",
     "text": [
      "Epoch 706/1000 Iteration: 129200 Avg. Training loss: 5.4441 0.0054 sec/batch\n",
      "Epoch 706/1000 Iteration: 129300 Avg. Training loss: 5.6266 0.2547 sec/batch\n"
     ]
    },
    {
     "data": {
      "application/vnd.jupyter.widget-view+json": {
       "model_id": "",
       "version_major": 2,
       "version_minor": 0
      },
      "text/plain": [
       "HBox(children=(IntProgress(value=0, description='Batch', max=183, style=ProgressStyle(description_width='initi…"
      ]
     },
     "metadata": {},
     "output_type": "display_data"
    },
    {
     "name": "stdout",
     "output_type": "stream",
     "text": [
      "Epoch 707/1000 Iteration: 129400 Avg. Training loss: 5.5691 0.0484 sec/batch\n",
      "Epoch 707/1000 Iteration: 129500 Avg. Training loss: 5.5404 0.2554 sec/batch\n"
     ]
    },
    {
     "data": {
      "application/vnd.jupyter.widget-view+json": {
       "model_id": "",
       "version_major": 2,
       "version_minor": 0
      },
      "text/plain": [
       "HBox(children=(IntProgress(value=0, description='Batch', max=183, style=ProgressStyle(description_width='initi…"
      ]
     },
     "metadata": {},
     "output_type": "display_data"
    },
    {
     "name": "stdout",
     "output_type": "stream",
     "text": [
      "Epoch 708/1000 Iteration: 129600 Avg. Training loss: 5.5185 0.0920 sec/batch\n",
      "Epoch 708/1000 Iteration: 129700 Avg. Training loss: 5.4550 0.2542 sec/batch\n"
     ]
    },
    {
     "data": {
      "application/vnd.jupyter.widget-view+json": {
       "model_id": "",
       "version_major": 2,
       "version_minor": 0
      },
      "text/plain": [
       "HBox(children=(IntProgress(value=0, description='Batch', max=183, style=ProgressStyle(description_width='initi…"
      ]
     },
     "metadata": {},
     "output_type": "display_data"
    },
    {
     "name": "stdout",
     "output_type": "stream",
     "text": [
      "Epoch 709/1000 Iteration: 129800 Avg. Training loss: 5.5192 0.1355 sec/batch\n",
      "Epoch 709/1000 Iteration: 129900 Avg. Training loss: 5.6949 0.2547 sec/batch\n"
     ]
    },
    {
     "data": {
      "application/vnd.jupyter.widget-view+json": {
       "model_id": "",
       "version_major": 2,
       "version_minor": 0
      },
      "text/plain": [
       "HBox(children=(IntProgress(value=0, description='Batch', max=183, style=ProgressStyle(description_width='initi…"
      ]
     },
     "metadata": {},
     "output_type": "display_data"
    },
    {
     "name": "stdout",
     "output_type": "stream",
     "text": [
      "Epoch 710/1000 Iteration: 130000 Avg. Training loss: 5.6661 0.1781 sec/batch\n",
      "Nearest to na: em, a, da, de, também, do, ., no,\n",
      "Nearest to após: depois, antes, em, no, foi, última, na, início,\n",
      "Nearest to r$: us$, 000, valor, 00, 00,00, milhões, bilhões, quanto,\n",
      "Nearest to dos: os, outros, alguns, da, também, do, de, parte,\n",
      "Nearest to nos: últimos, em, de, dos, também, ., alguns, sobretudo,\n",
      "Nearest to está: continua, estaria, vem, estava, estar, esteja, agora, ainda,\n",
      "Nearest to sem: apenas, só, em, de, ., e, por, dá,\n",
      "Nearest to a: ., de, em, à, que, da, na, vez,\n",
      "Nearest to esporte: esportes, natação, modalidades, competições, esportiva, atleta, atletas, modalidade,\n",
      "Nearest to abrir: abriu, ampliar, abrindo, abrirá, colocar, fazer, ampliou, fechar,\n",
      "Nearest to popular: populares, há, apostar, haverá, como, existe, diretas, inclusive,\n",
      "Nearest to festival: festivais, cannes, evento, exibido, veneza, programação, edição, organizadores,\n",
      "Nearest to europeia: ue, reino, brexit, união, unido, europeus, europeu, bloco,\n",
      "Nearest to casas: delas, prédios, residências, em, mais, moradias, dessas, vizinhas,\n",
      "Nearest to lima: abreu, faria, geddel, articulador, vieira, araújo, substituir, padilha,\n",
      "Nearest to minas: gerais, pimentel, mineiro, bahia, espírito, alagoas, ufmg, belo,\n",
      "Epoch 710/1000 Iteration: 130100 Avg. Training loss: 5.3054 0.2657 sec/batch\n"
     ]
    },
    {
     "data": {
      "application/vnd.jupyter.widget-view+json": {
       "model_id": "",
       "version_major": 2,
       "version_minor": 0
      },
      "text/plain": [
       "HBox(children=(IntProgress(value=0, description='Batch', max=183, style=ProgressStyle(description_width='initi…"
      ]
     },
     "metadata": {},
     "output_type": "display_data"
    },
    {
     "name": "stdout",
     "output_type": "stream",
     "text": [
      "Epoch 711/1000 Iteration: 130200 Avg. Training loss: 5.3690 0.2223 sec/batch\n"
     ]
    },
    {
     "data": {
      "application/vnd.jupyter.widget-view+json": {
       "model_id": "",
       "version_major": 2,
       "version_minor": 0
      },
      "text/plain": [
       "HBox(children=(IntProgress(value=0, description='Batch', max=183, style=ProgressStyle(description_width='initi…"
      ]
     },
     "metadata": {},
     "output_type": "display_data"
    },
    {
     "name": "stdout",
     "output_type": "stream",
     "text": [
      "Epoch 712/1000 Iteration: 130300 Avg. Training loss: 5.7244 0.0105 sec/batch\n",
      "Epoch 712/1000 Iteration: 130400 Avg. Training loss: 5.5694 0.2555 sec/batch\n"
     ]
    },
    {
     "data": {
      "application/vnd.jupyter.widget-view+json": {
       "model_id": "",
       "version_major": 2,
       "version_minor": 0
      },
      "text/plain": [
       "HBox(children=(IntProgress(value=0, description='Batch', max=183, style=ProgressStyle(description_width='initi…"
      ]
     },
     "metadata": {},
     "output_type": "display_data"
    },
    {
     "name": "stdout",
     "output_type": "stream",
     "text": [
      "Epoch 713/1000 Iteration: 130500 Avg. Training loss: 5.5315 0.0538 sec/batch\n",
      "Epoch 713/1000 Iteration: 130600 Avg. Training loss: 5.3755 0.2551 sec/batch\n"
     ]
    },
    {
     "data": {
      "application/vnd.jupyter.widget-view+json": {
       "model_id": "",
       "version_major": 2,
       "version_minor": 0
      },
      "text/plain": [
       "HBox(children=(IntProgress(value=0, description='Batch', max=183, style=ProgressStyle(description_width='initi…"
      ]
     },
     "metadata": {},
     "output_type": "display_data"
    },
    {
     "name": "stdout",
     "output_type": "stream",
     "text": [
      "Epoch 714/1000 Iteration: 130700 Avg. Training loss: 5.5628 0.0969 sec/batch\n",
      "Epoch 714/1000 Iteration: 130800 Avg. Training loss: 5.5254 0.2560 sec/batch\n"
     ]
    },
    {
     "data": {
      "application/vnd.jupyter.widget-view+json": {
       "model_id": "",
       "version_major": 2,
       "version_minor": 0
      },
      "text/plain": [
       "HBox(children=(IntProgress(value=0, description='Batch', max=183, style=ProgressStyle(description_width='initi…"
      ]
     },
     "metadata": {},
     "output_type": "display_data"
    },
    {
     "name": "stdout",
     "output_type": "stream",
     "text": [
      "Epoch 715/1000 Iteration: 130900 Avg. Training loss: 5.6884 0.1414 sec/batch\n",
      "Epoch 715/1000 Iteration: 131000 Avg. Training loss: 5.3131 0.2557 sec/batch\n",
      "Nearest to afirmou: disse, ressaltou, ainda, falou, reconheceu, reafirmou, do, defendeu,\n",
      "Nearest to %: 00,0, 0,00, 0,0, recuo, caíram, subiu, recuou, alta,\n",
      "Nearest to brasil: no, ., país, mundo, brasileiro, com, do, para,\n",
      "Nearest to pode: poderá, deve, poderia, vai, terá, só, possa, antes,\n",
      "Nearest to à: a, de, também, que, parte, ., da, na,\n",
      "Nearest to 00: até, 0, 000, neste, em, ., no, de,\n",
      "Nearest to ela: ele, que, uma, mas, dela, a, só, não,\n",
      "Nearest to estão: estariam, estavam, continuam, está, há, estejam, estarão, vêm,\n",
      "Nearest to querem: desejam, querer, quer, vão, dispostos, decidiram, pretendem, tentam,\n",
      "Nearest to usuários: usuário, viciados, internet, aplicativo, whatsapp, facebook, celular, smartphone,\n",
      "Nearest to negócio: negócios, empresa, aquisição, mas, interesse, outro, porque, fato,\n",
      "Nearest to artista: artistas, exposição, mostra, plástico, plástica, fotografias, mostras, escultura,\n",
      "Nearest to casas: residências, delas, em, moradias, mais, quase, menos, prédios,\n",
      "Nearest to vice-presidente: presidente, vice, assume, presidência, vice-presidência, assumirá, executiva, assumiria,\n",
      "Nearest to internacionais: nacionais, eua, país, internacional, brasil, do, exterior, fora,\n",
      "Nearest to conhecido: considerado, apontado, envolveu, do, envolvendo, também, principalmente, reconhecido,\n"
     ]
    },
    {
     "data": {
      "application/vnd.jupyter.widget-view+json": {
       "model_id": "",
       "version_major": 2,
       "version_minor": 0
      },
      "text/plain": [
       "HBox(children=(IntProgress(value=0, description='Batch', max=183, style=ProgressStyle(description_width='initi…"
      ]
     },
     "metadata": {},
     "output_type": "display_data"
    },
    {
     "name": "stdout",
     "output_type": "stream",
     "text": [
      "Epoch 716/1000 Iteration: 131100 Avg. Training loss: 5.4555 0.1841 sec/batch\n",
      "Epoch 716/1000 Iteration: 131200 Avg. Training loss: 5.5691 0.2559 sec/batch\n"
     ]
    },
    {
     "data": {
      "application/vnd.jupyter.widget-view+json": {
       "model_id": "",
       "version_major": 2,
       "version_minor": 0
      },
      "text/plain": [
       "HBox(children=(IntProgress(value=0, description='Batch', max=183, style=ProgressStyle(description_width='initi…"
      ]
     },
     "metadata": {},
     "output_type": "display_data"
    },
    {
     "name": "stdout",
     "output_type": "stream",
     "text": [
      "Epoch 717/1000 Iteration: 131300 Avg. Training loss: 5.6317 0.2283 sec/batch\n"
     ]
    },
    {
     "data": {
      "application/vnd.jupyter.widget-view+json": {
       "model_id": "",
       "version_major": 2,
       "version_minor": 0
      },
      "text/plain": [
       "HBox(children=(IntProgress(value=0, description='Batch', max=183, style=ProgressStyle(description_width='initi…"
      ]
     },
     "metadata": {},
     "output_type": "display_data"
    },
    {
     "name": "stdout",
     "output_type": "stream",
     "text": [
      "Epoch 718/1000 Iteration: 131400 Avg. Training loss: 5.5188 0.0153 sec/batch\n",
      "Epoch 718/1000 Iteration: 131500 Avg. Training loss: 5.7642 0.2558 sec/batch\n"
     ]
    },
    {
     "data": {
      "application/vnd.jupyter.widget-view+json": {
       "model_id": "",
       "version_major": 2,
       "version_minor": 0
      },
      "text/plain": [
       "HBox(children=(IntProgress(value=0, description='Batch', max=183, style=ProgressStyle(description_width='initi…"
      ]
     },
     "metadata": {},
     "output_type": "display_data"
    },
    {
     "name": "stdout",
     "output_type": "stream",
     "text": [
      "Epoch 719/1000 Iteration: 131600 Avg. Training loss: 5.7761 0.0590 sec/batch\n",
      "Epoch 719/1000 Iteration: 131700 Avg. Training loss: 5.6951 0.2536 sec/batch\n"
     ]
    },
    {
     "data": {
      "application/vnd.jupyter.widget-view+json": {
       "model_id": "",
       "version_major": 2,
       "version_minor": 0
      },
      "text/plain": [
       "HBox(children=(IntProgress(value=0, description='Batch', max=183, style=ProgressStyle(description_width='initi…"
      ]
     },
     "metadata": {},
     "output_type": "display_data"
    },
    {
     "name": "stdout",
     "output_type": "stream",
     "text": [
      "Epoch 720/1000 Iteration: 131800 Avg. Training loss: 5.7938 0.1029 sec/batch\n",
      "Epoch 720/1000 Iteration: 131900 Avg. Training loss: 5.5844 0.2559 sec/batch\n"
     ]
    },
    {
     "data": {
      "application/vnd.jupyter.widget-view+json": {
       "model_id": "",
       "version_major": 2,
       "version_minor": 0
      },
      "text/plain": [
       "HBox(children=(IntProgress(value=0, description='Batch', max=183, style=ProgressStyle(description_width='initi…"
      ]
     },
     "metadata": {},
     "output_type": "display_data"
    },
    {
     "name": "stdout",
     "output_type": "stream",
     "text": [
      "Epoch 721/1000 Iteration: 132000 Avg. Training loss: 5.8602 0.1460 sec/batch\n",
      "Nearest to da: a, na, à, de, parte, do, ,, em,\n",
      "Nearest to das: as, dessas, nas, todas, de, outras, duas, pelas,\n",
      "Nearest to governo: apoio, que, país, oposição, agora, do, entanto, ressaltou,\n",
      "Nearest to sem: apenas, ., de, e, dá, só, a, por,\n",
      "Nearest to 0: domingo, 00, sábado, neste, quarta, sexta, quinta, terça,\n",
      "Nearest to aos: os, e, com, por, de, para, dos, .,\n",
      "Nearest to só: mas, não, agora, mesmo, até, que, fazer, porque,\n",
      "Nearest to às: domingo, hoje, volta, das, sexta, sábado, 00h, terça,\n",
      "Nearest to esporte: esportes, atleta, natação, esportiva, modalidades, atletas, esportistas, vôlei,\n",
      "Nearest to mínimo: salário, valor, máximo, dobro, benefício, exigido, equivalente, terço,\n",
      "Nearest to minas: gerais, pimentel, mineiro, espírito, bahia, ufmg, ministério, rondônia,\n",
      "Nearest to importantes: grandes, principais, especialmente, como, também, inclusive, mas, agora,\n",
      "Nearest to desempenho: resultado, fraco, pior, piora, maior, esperado, melhora, negativo,\n",
      "Nearest to filha: mãe, menina, família, mulher, avó, filhas, casou, marido,\n",
      "Nearest to livros: editoras, romances, volumes, didáticos, literatura, revistas, editores, colorir,\n",
      "Nearest to francisco: papa, san, católica, misericórdia, vaticano, assis, pontífice, estuda,\n",
      "Epoch 721/1000 Iteration: 132100 Avg. Training loss: 5.4798 0.2652 sec/batch\n"
     ]
    },
    {
     "data": {
      "application/vnd.jupyter.widget-view+json": {
       "model_id": "",
       "version_major": 2,
       "version_minor": 0
      },
      "text/plain": [
       "HBox(children=(IntProgress(value=0, description='Batch', max=183, style=ProgressStyle(description_width='initi…"
      ]
     },
     "metadata": {},
     "output_type": "display_data"
    },
    {
     "name": "stdout",
     "output_type": "stream",
     "text": [
      "Epoch 722/1000 Iteration: 132200 Avg. Training loss: 5.4672 0.1887 sec/batch\n",
      "Epoch 722/1000 Iteration: 132300 Avg. Training loss: 5.7205 0.2560 sec/batch\n"
     ]
    },
    {
     "data": {
      "application/vnd.jupyter.widget-view+json": {
       "model_id": "",
       "version_major": 2,
       "version_minor": 0
      },
      "text/plain": [
       "HBox(children=(IntProgress(value=0, description='Batch', max=183, style=ProgressStyle(description_width='initi…"
      ]
     },
     "metadata": {},
     "output_type": "display_data"
    },
    {
     "name": "stdout",
     "output_type": "stream",
     "text": [
      "Epoch 723/1000 Iteration: 132400 Avg. Training loss: 5.5351 0.2325 sec/batch\n"
     ]
    },
    {
     "data": {
      "application/vnd.jupyter.widget-view+json": {
       "model_id": "",
       "version_major": 2,
       "version_minor": 0
      },
      "text/plain": [
       "HBox(children=(IntProgress(value=0, description='Batch', max=183, style=ProgressStyle(description_width='initi…"
      ]
     },
     "metadata": {},
     "output_type": "display_data"
    },
    {
     "name": "stdout",
     "output_type": "stream",
     "text": [
      "Epoch 724/1000 Iteration: 132500 Avg. Training loss: 5.4951 0.0206 sec/batch\n",
      "Epoch 724/1000 Iteration: 132600 Avg. Training loss: 5.6634 0.2558 sec/batch\n"
     ]
    },
    {
     "data": {
      "application/vnd.jupyter.widget-view+json": {
       "model_id": "",
       "version_major": 2,
       "version_minor": 0
      },
      "text/plain": [
       "HBox(children=(IntProgress(value=0, description='Batch', max=183, style=ProgressStyle(description_width='initi…"
      ]
     },
     "metadata": {},
     "output_type": "display_data"
    },
    {
     "name": "stdout",
     "output_type": "stream",
     "text": [
      "Epoch 725/1000 Iteration: 132700 Avg. Training loss: 5.6261 0.0645 sec/batch\n",
      "Epoch 725/1000 Iteration: 132800 Avg. Training loss: 5.4230 0.2554 sec/batch\n"
     ]
    },
    {
     "data": {
      "application/vnd.jupyter.widget-view+json": {
       "model_id": "",
       "version_major": 2,
       "version_minor": 0
      },
      "text/plain": [
       "HBox(children=(IntProgress(value=0, description='Batch', max=183, style=ProgressStyle(description_width='initi…"
      ]
     },
     "metadata": {},
     "output_type": "display_data"
    },
    {
     "name": "stdout",
     "output_type": "stream",
     "text": [
      "Epoch 726/1000 Iteration: 132900 Avg. Training loss: 5.4572 0.1080 sec/batch\n",
      "Epoch 726/1000 Iteration: 133000 Avg. Training loss: 5.5398 0.2549 sec/batch\n",
      "Nearest to foram: serem, serão, seriam, estavam, forem, eram, quais, ainda,\n",
      "Nearest to ao: o, do, também, ., de, mesmo, um, que,\n",
      "Nearest to vai: irá, vão, deve, quer, poderá, pode, começar, pretende,\n",
      "Nearest to 0000: abril, desde, ano, março, década, maio, passado, em,\n",
      "Nearest to das: as, dessas, nas, de, também, duas, em, entre,\n",
      "Nearest to só: mesmo, mas, não, que, agora, somente, ainda, já,\n",
      "Nearest to seus: os, dos, alguns, outros, próprios, dois, e, parte,\n",
      "Nearest to no: o, ., em, do, de, neste, ainda, na,\n",
      "Nearest to pf: operação, polícia, depoimento, deflagrada, jato, investigação, lava, federal,\n",
      "Nearest to deverá: poderá, deve, deverão, vai, irá, terá, voltará, ficará,\n",
      "Nearest to palácio: planalto, alvorada, jaburu, peemedebista, assessores, temer, dilma, rousseff,\n",
      "Nearest to minas: gerais, pimentel, mineiro, espírito, ministério, rondônia, bahia, paraíba,\n",
      "Nearest to depoimento: prestado, prestou, prestar, pf, depor, depoimentos, esclarecimentos, esclarecer,\n",
      "Nearest to vice-presidente: presidente, presidência, vice, assume, vice-presidência, assumir, assumirá, temer,\n",
      "Nearest to globo: tv, televisão, emissora, record, novela, canal, sbt, novelas,\n",
      "Nearest to emprego: trabalho, empregos, desemprego, desempregados, crescimento, trabalhar, vagas, formal,\n"
     ]
    },
    {
     "data": {
      "application/vnd.jupyter.widget-view+json": {
       "model_id": "",
       "version_major": 2,
       "version_minor": 0
      },
      "text/plain": [
       "HBox(children=(IntProgress(value=0, description='Batch', max=183, style=ProgressStyle(description_width='initi…"
      ]
     },
     "metadata": {},
     "output_type": "display_data"
    },
    {
     "name": "stdout",
     "output_type": "stream",
     "text": [
      "Epoch 727/1000 Iteration: 133100 Avg. Training loss: 5.3526 0.1506 sec/batch\n",
      "Epoch 727/1000 Iteration: 133200 Avg. Training loss: 5.4458 0.2550 sec/batch\n"
     ]
    },
    {
     "data": {
      "application/vnd.jupyter.widget-view+json": {
       "model_id": "",
       "version_major": 2,
       "version_minor": 0
      },
      "text/plain": [
       "HBox(children=(IntProgress(value=0, description='Batch', max=183, style=ProgressStyle(description_width='initi…"
      ]
     },
     "metadata": {},
     "output_type": "display_data"
    },
    {
     "name": "stdout",
     "output_type": "stream",
     "text": [
      "Epoch 728/1000 Iteration: 133300 Avg. Training loss: 5.7207 0.1945 sec/batch\n",
      "Epoch 728/1000 Iteration: 133400 Avg. Training loss: 5.6091 0.2568 sec/batch\n"
     ]
    },
    {
     "data": {
      "application/vnd.jupyter.widget-view+json": {
       "model_id": "",
       "version_major": 2,
       "version_minor": 0
      },
      "text/plain": [
       "HBox(children=(IntProgress(value=0, description='Batch', max=183, style=ProgressStyle(description_width='initi…"
      ]
     },
     "metadata": {},
     "output_type": "display_data"
    },
    {
     "name": "stdout",
     "output_type": "stream",
     "text": [
      "Epoch 729/1000 Iteration: 133500 Avg. Training loss: 5.8134 0.2374 sec/batch\n"
     ]
    },
    {
     "data": {
      "application/vnd.jupyter.widget-view+json": {
       "model_id": "",
       "version_major": 2,
       "version_minor": 0
      },
      "text/plain": [
       "HBox(children=(IntProgress(value=0, description='Batch', max=183, style=ProgressStyle(description_width='initi…"
      ]
     },
     "metadata": {},
     "output_type": "display_data"
    },
    {
     "name": "stdout",
     "output_type": "stream",
     "text": [
      "Epoch 730/1000 Iteration: 133600 Avg. Training loss: 5.4998 0.0257 sec/batch\n",
      "Epoch 730/1000 Iteration: 133700 Avg. Training loss: 5.8153 0.2552 sec/batch\n"
     ]
    },
    {
     "data": {
      "application/vnd.jupyter.widget-view+json": {
       "model_id": "",
       "version_major": 2,
       "version_minor": 0
      },
      "text/plain": [
       "HBox(children=(IntProgress(value=0, description='Batch', max=183, style=ProgressStyle(description_width='initi…"
      ]
     },
     "metadata": {},
     "output_type": "display_data"
    },
    {
     "name": "stdout",
     "output_type": "stream",
     "text": [
      "Epoch 731/1000 Iteration: 133800 Avg. Training loss: 5.7718 0.0692 sec/batch\n",
      "Epoch 731/1000 Iteration: 133900 Avg. Training loss: 5.7439 0.2553 sec/batch\n"
     ]
    },
    {
     "data": {
      "application/vnd.jupyter.widget-view+json": {
       "model_id": "",
       "version_major": 2,
       "version_minor": 0
      },
      "text/plain": [
       "HBox(children=(IntProgress(value=0, description='Batch', max=183, style=ProgressStyle(description_width='initi…"
      ]
     },
     "metadata": {},
     "output_type": "display_data"
    },
    {
     "name": "stdout",
     "output_type": "stream",
     "text": [
      "Epoch 732/1000 Iteration: 134000 Avg. Training loss: 5.5690 0.1130 sec/batch\n",
      "Nearest to entre: também, em, com, de, principalmente, ,, e, incluindo,\n",
      "Nearest to ela: que, ele, mas, a, uma, ainda, dela, não,\n",
      "Nearest to seu: próprio, o, do, ao, um, ele, pelo, também,\n",
      "Nearest to nesta: terça-feira, segunda-feira, quinta-feira, quarta-feira, sexta-feira, terça, quinta, quarta,\n",
      "Nearest to só: mesmo, mas, que, agora, ., não, ainda, apenas,\n",
      "Nearest to é: tem, mas, ainda, só, mais, do, que, não,\n",
      "Nearest to ainda: que, porém, mesmo, mas, já, ., entanto, agora,\n",
      "Nearest to à: a, da, de, também, que, parte, na, ainda,\n",
      "Nearest to operações: financeiras, atuação, segunda-feira, momento, parte, meio, atividades, da,\n",
      "Nearest to atividade: transformação, maior, econômica, mesmo, plena, acontece, consequência, a,\n",
      "Nearest to EMAIL: basta, enviar, e-mail, envie, traduzem, publicados, colaborar, acessar,\n",
      "Nearest to discussão: proposta, mudança, pauta, debater, tema, discutir, discussões, questão,\n",
      "Nearest to global: aquecimento, globais, países, climática, economias, commodities, significativa, estagnação,\n",
      "Nearest to conversa: conversas, áudio, gravação, diálogo, transcrição, jaburu, interlocutor, encontro,\n",
      "Nearest to garantir: assegurar, manter, garantindo, necessária, garante, reforçar, preservar, dar,\n",
      "Nearest to filmes: filme, cinema, cineastas, longa-metragem, estúdios, cineasta, cinemas, exibição,\n",
      "Epoch 732/1000 Iteration: 134100 Avg. Training loss: 5.5719 0.2664 sec/batch\n"
     ]
    },
    {
     "data": {
      "application/vnd.jupyter.widget-view+json": {
       "model_id": "",
       "version_major": 2,
       "version_minor": 0
      },
      "text/plain": [
       "HBox(children=(IntProgress(value=0, description='Batch', max=183, style=ProgressStyle(description_width='initi…"
      ]
     },
     "metadata": {},
     "output_type": "display_data"
    },
    {
     "name": "stdout",
     "output_type": "stream",
     "text": [
      "Epoch 733/1000 Iteration: 134200 Avg. Training loss: 5.6135 0.1562 sec/batch\n",
      "Epoch 733/1000 Iteration: 134300 Avg. Training loss: 5.4476 0.2553 sec/batch\n"
     ]
    },
    {
     "data": {
      "application/vnd.jupyter.widget-view+json": {
       "model_id": "",
       "version_major": 2,
       "version_minor": 0
      },
      "text/plain": [
       "HBox(children=(IntProgress(value=0, description='Batch', max=183, style=ProgressStyle(description_width='initi…"
      ]
     },
     "metadata": {},
     "output_type": "display_data"
    },
    {
     "name": "stdout",
     "output_type": "stream",
     "text": [
      "Epoch 734/1000 Iteration: 134400 Avg. Training loss: 5.7340 0.1992 sec/batch\n",
      "Epoch 734/1000 Iteration: 134500 Avg. Training loss: 5.6939 0.2565 sec/batch\n"
     ]
    },
    {
     "data": {
      "application/vnd.jupyter.widget-view+json": {
       "model_id": "",
       "version_major": 2,
       "version_minor": 0
      },
      "text/plain": [
       "HBox(children=(IntProgress(value=0, description='Batch', max=183, style=ProgressStyle(description_width='initi…"
      ]
     },
     "metadata": {},
     "output_type": "display_data"
    },
    {
     "name": "stdout",
     "output_type": "stream",
     "text": [
      "Epoch 735/1000 Iteration: 134600 Avg. Training loss: 5.3643 0.2431 sec/batch\n"
     ]
    },
    {
     "data": {
      "application/vnd.jupyter.widget-view+json": {
       "model_id": "",
       "version_major": 2,
       "version_minor": 0
      },
      "text/plain": [
       "HBox(children=(IntProgress(value=0, description='Batch', max=183, style=ProgressStyle(description_width='initi…"
      ]
     },
     "metadata": {},
     "output_type": "display_data"
    },
    {
     "name": "stdout",
     "output_type": "stream",
     "text": [
      "Epoch 736/1000 Iteration: 134700 Avg. Training loss: 5.5460 0.0310 sec/batch\n",
      "Epoch 736/1000 Iteration: 134800 Avg. Training loss: 5.5346 0.2549 sec/batch\n"
     ]
    },
    {
     "data": {
      "application/vnd.jupyter.widget-view+json": {
       "model_id": "",
       "version_major": 2,
       "version_minor": 0
      },
      "text/plain": [
       "HBox(children=(IntProgress(value=0, description='Batch', max=183, style=ProgressStyle(description_width='initi…"
      ]
     },
     "metadata": {},
     "output_type": "display_data"
    },
    {
     "name": "stdout",
     "output_type": "stream",
     "text": [
      "Epoch 737/1000 Iteration: 134900 Avg. Training loss: 5.5436 0.0742 sec/batch\n",
      "Epoch 737/1000 Iteration: 135000 Avg. Training loss: 5.3264 0.2541 sec/batch\n",
      "Nearest to ?: sabe, agora, acha, que, só, quem, falar, não,\n",
      "Nearest to isso: ou, não, porque, para, mensagem, notícia, é, nada,\n",
      "Nearest to diz: afirma, que, mas, ., conta, lembra, agora, ainda,\n",
      "Nearest to anos: meses, últimos, oito, três, dois, passados, nove, nos,\n",
      "Nearest to para: a, ., de, ainda, o, que, do, na,\n",
      "Nearest to mais: ., que, já, ainda, menos, ,, o, em,\n",
      "Nearest to ter: teria, tenha, havia, terem, tendo, sido, tivessem, teriam,\n",
      "Nearest to nesta: terça-feira, quinta-feira, segunda-feira, quarta-feira, sexta-feira, terça, quinta, sexta,\n",
      "Nearest to quero: posso, vou, vai, querer, preciso, acredito, possa, vão,\n",
      "Nearest to discussão: mudança, questão, proposta, discussões, discutir, pauta, uma, tema,\n",
      "Nearest to ambos: também, entre, dois, os, e, ,, na, por,\n",
      "Nearest to estratégia: tentar, a, ideia, uma, tentativa, possível, tática, da,\n",
      "Nearest to investidores: mercados, ativos, volatilidade, emergentes, otimismo, cautela, empresários, investidor,\n",
      "Nearest to ouro: medalha, prata, bronze, londres-0000, conquistou, medalhas, medalhista, atleta,\n",
      "Nearest to unidades: unidade, considerando, creches, leitos, atender, franquias, aporte, prisionais,\n",
      "Nearest to negócio: empresa, porque, negócios, interesse, mas, aquisição, desse, ele,\n"
     ]
    },
    {
     "data": {
      "application/vnd.jupyter.widget-view+json": {
       "model_id": "",
       "version_major": 2,
       "version_minor": 0
      },
      "text/plain": [
       "HBox(children=(IntProgress(value=0, description='Batch', max=183, style=ProgressStyle(description_width='initi…"
      ]
     },
     "metadata": {},
     "output_type": "display_data"
    },
    {
     "name": "stdout",
     "output_type": "stream",
     "text": [
      "Epoch 738/1000 Iteration: 135100 Avg. Training loss: 5.6777 0.1177 sec/batch\n",
      "Epoch 738/1000 Iteration: 135200 Avg. Training loss: 5.6827 0.2566 sec/batch\n"
     ]
    },
    {
     "data": {
      "application/vnd.jupyter.widget-view+json": {
       "model_id": "",
       "version_major": 2,
       "version_minor": 0
      },
      "text/plain": [
       "HBox(children=(IntProgress(value=0, description='Batch', max=183, style=ProgressStyle(description_width='initi…"
      ]
     },
     "metadata": {},
     "output_type": "display_data"
    },
    {
     "name": "stdout",
     "output_type": "stream",
     "text": [
      "Epoch 739/1000 Iteration: 135300 Avg. Training loss: 5.7512 0.1603 sec/batch\n",
      "Epoch 739/1000 Iteration: 135400 Avg. Training loss: 5.5609 0.2549 sec/batch\n"
     ]
    },
    {
     "data": {
      "application/vnd.jupyter.widget-view+json": {
       "model_id": "",
       "version_major": 2,
       "version_minor": 0
      },
      "text/plain": [
       "HBox(children=(IntProgress(value=0, description='Batch', max=183, style=ProgressStyle(description_width='initi…"
      ]
     },
     "metadata": {},
     "output_type": "display_data"
    },
    {
     "name": "stdout",
     "output_type": "stream",
     "text": [
      "Epoch 740/1000 Iteration: 135500 Avg. Training loss: 5.5406 0.2052 sec/batch\n",
      "Epoch 740/1000 Iteration: 135600 Avg. Training loss: 5.6272 0.2550 sec/batch\n"
     ]
    },
    {
     "data": {
      "application/vnd.jupyter.widget-view+json": {
       "model_id": "",
       "version_major": 2,
       "version_minor": 0
      },
      "text/plain": [
       "HBox(children=(IntProgress(value=0, description='Batch', max=183, style=ProgressStyle(description_width='initi…"
      ]
     },
     "metadata": {},
     "output_type": "display_data"
    },
    {
     "name": "stdout",
     "output_type": "stream",
     "text": [
      "Epoch 741/1000 Iteration: 135700 Avg. Training loss: 5.7084 0.2482 sec/batch\n"
     ]
    },
    {
     "data": {
      "application/vnd.jupyter.widget-view+json": {
       "model_id": "",
       "version_major": 2,
       "version_minor": 0
      },
      "text/plain": [
       "HBox(children=(IntProgress(value=0, description='Batch', max=183, style=ProgressStyle(description_width='initi…"
      ]
     },
     "metadata": {},
     "output_type": "display_data"
    },
    {
     "name": "stdout",
     "output_type": "stream",
     "text": [
      "Epoch 742/1000 Iteration: 135800 Avg. Training loss: 5.6927 0.0361 sec/batch\n",
      "Epoch 742/1000 Iteration: 135900 Avg. Training loss: 5.4961 0.2547 sec/batch\n"
     ]
    },
    {
     "data": {
      "application/vnd.jupyter.widget-view+json": {
       "model_id": "",
       "version_major": 2,
       "version_minor": 0
      },
      "text/plain": [
       "HBox(children=(IntProgress(value=0, description='Batch', max=183, style=ProgressStyle(description_width='initi…"
      ]
     },
     "metadata": {},
     "output_type": "display_data"
    },
    {
     "name": "stdout",
     "output_type": "stream",
     "text": [
      "Epoch 743/1000 Iteration: 136000 Avg. Training loss: 5.4582 0.0797 sec/batch\n",
      "Nearest to com: e, também, ., em, de, ,, além, ainda,\n",
      "Nearest to após: depois, em, a, foi, última, teve, antes, entanto,\n",
      "Nearest to sem: apenas, ., de, e, com, dá, ainda, por,\n",
      "Nearest to 0: 00, quarta, domingo, sexta, terça, sexta-feira, quarta-feira, sábado,\n",
      "Nearest to só: mas, não, que, ainda, mesmo, agora, apenas, é,\n",
      "Nearest to ela: dela, que, ele, mas, a, uma, já, não,\n",
      "Nearest to às: hoje, 00h, domingo, sábado, sexta, terça, das, dia,\n",
      "Nearest to ou: podem, isso, para, ., os, brasil, com, preferir,\n",
      "Nearest to amigo: conheço, dentro, próprio, deles, ele, que, mas, amigos,\n",
      "Nearest to financiamento: financiar, privado, caixa, financiamentos, bancar, viabilizar, liberar, campanhas,\n",
      "Nearest to desempenho: resultado, fraco, maior, negativo, piora, queda, apesar, recuo,\n",
      "Nearest to participar: entrar, realizar, evento, durante, agosto, início, esta, fazer,\n",
      "Nearest to emprego: trabalho, empregos, desempregados, desemprego, formal, empregados, crescimento, encerrado,\n",
      "Nearest to democracia: golpe, (), manifestação, governabilidade, democrático, constitui, estabilidade, ilegítimo,\n",
      "Nearest to vice-presidente: presidente, vice, presidência, temer, assumir, assume, renúncia, presidentes,\n",
      "Nearest to garantir: assegurar, manter, garantindo, necessária, reforçar, depende, essencial, preservar,\n",
      "Epoch 743/1000 Iteration: 136100 Avg. Training loss: 5.7789 0.2652 sec/batch\n"
     ]
    },
    {
     "data": {
      "application/vnd.jupyter.widget-view+json": {
       "model_id": "",
       "version_major": 2,
       "version_minor": 0
      },
      "text/plain": [
       "HBox(children=(IntProgress(value=0, description='Batch', max=183, style=ProgressStyle(description_width='initi…"
      ]
     },
     "metadata": {},
     "output_type": "display_data"
    },
    {
     "name": "stdout",
     "output_type": "stream",
     "text": [
      "Epoch 744/1000 Iteration: 136200 Avg. Training loss: 5.5030 0.1232 sec/batch\n",
      "Epoch 744/1000 Iteration: 136300 Avg. Training loss: 5.4144 0.2558 sec/batch\n"
     ]
    },
    {
     "data": {
      "application/vnd.jupyter.widget-view+json": {
       "model_id": "",
       "version_major": 2,
       "version_minor": 0
      },
      "text/plain": [
       "HBox(children=(IntProgress(value=0, description='Batch', max=183, style=ProgressStyle(description_width='initi…"
      ]
     },
     "metadata": {},
     "output_type": "display_data"
    },
    {
     "name": "stdout",
     "output_type": "stream",
     "text": [
      "Epoch 745/1000 Iteration: 136400 Avg. Training loss: 5.7177 0.1663 sec/batch\n",
      "Epoch 745/1000 Iteration: 136500 Avg. Training loss: 5.4604 0.2563 sec/batch\n"
     ]
    },
    {
     "data": {
      "application/vnd.jupyter.widget-view+json": {
       "model_id": "",
       "version_major": 2,
       "version_minor": 0
      },
      "text/plain": [
       "HBox(children=(IntProgress(value=0, description='Batch', max=183, style=ProgressStyle(description_width='initi…"
      ]
     },
     "metadata": {},
     "output_type": "display_data"
    },
    {
     "name": "stdout",
     "output_type": "stream",
     "text": [
      "Epoch 746/1000 Iteration: 136600 Avg. Training loss: 5.6498 0.2097 sec/batch\n",
      "Epoch 746/1000 Iteration: 136700 Avg. Training loss: 5.6826 0.2560 sec/batch\n"
     ]
    },
    {
     "data": {
      "application/vnd.jupyter.widget-view+json": {
       "model_id": "",
       "version_major": 2,
       "version_minor": 0
      },
      "text/plain": [
       "HBox(children=(IntProgress(value=0, description='Batch', max=183, style=ProgressStyle(description_width='initi…"
      ]
     },
     "metadata": {},
     "output_type": "display_data"
    },
    {
     "name": "stdout",
     "output_type": "stream",
     "text": [
      "Epoch 747/1000 Iteration: 136800 Avg. Training loss: 5.5129 0.2536 sec/batch\n"
     ]
    },
    {
     "data": {
      "application/vnd.jupyter.widget-view+json": {
       "model_id": "",
       "version_major": 2,
       "version_minor": 0
      },
      "text/plain": [
       "HBox(children=(IntProgress(value=0, description='Batch', max=183, style=ProgressStyle(description_width='initi…"
      ]
     },
     "metadata": {},
     "output_type": "display_data"
    },
    {
     "name": "stdout",
     "output_type": "stream",
     "text": [
      "Epoch 748/1000 Iteration: 136900 Avg. Training loss: 5.7711 0.0416 sec/batch\n",
      "Epoch 748/1000 Iteration: 137000 Avg. Training loss: 5.4330 0.2556 sec/batch\n",
      "Nearest to pode: poderá, deve, poderia, vai, possível, possa, é, terá,\n",
      "Nearest to país: que, o, maior, desde, menos, ainda, em, mais,\n",
      "Nearest to ter: tenha, teria, havia, tendo, terem, sido, fato, foi,\n",
      "Nearest to 00: 0, em, ., até, ), 000, na, (,\n",
      "Nearest to quando: até, ., começo, ele, que, vez, antes, só,\n",
      "Nearest to nesta: terça-feira, quinta-feira, segunda-feira, quarta-feira, sexta-feira, terça, quinta, desta,\n",
      "Nearest to mas: porém, que, ainda, não, só, já, mesmo, porque,\n",
      "Nearest to vai: vão, deve, poderá, irá, começar, quer, pode, terá,\n",
      "Nearest to unido: reino, britânicos, brexit, europeia, ue, inglaterra, permanência, britânica,\n",
      "Nearest to pf: polícia, operação, depoimento, deflagrada, investigado, jato, lava, investigação,\n",
      "Nearest to tal: mas, é, que, qual, poderia, seria, essa, dessa,\n",
      "Nearest to europeia: ue, unido, reino, união, juncker, europeu, europa, bloco,\n",
      "Nearest to explica: diz, afirma, observa, assim, ela, possível, procura, que,\n",
      "Nearest to santa: catarina, luzia, cruz, misericórdia, cecília, fase, domingo, passar,\n",
      "Nearest to desempenho: resultado, maior, fraco, apesar, o, negativo, terceiro, do,\n",
      "Nearest to vice-presidente: presidente, vice, presidência, temer, assume, renúncia, presidentes, assumir,\n"
     ]
    },
    {
     "data": {
      "application/vnd.jupyter.widget-view+json": {
       "model_id": "",
       "version_major": 2,
       "version_minor": 0
      },
      "text/plain": [
       "HBox(children=(IntProgress(value=0, description='Batch', max=183, style=ProgressStyle(description_width='initi…"
      ]
     },
     "metadata": {},
     "output_type": "display_data"
    },
    {
     "name": "stdout",
     "output_type": "stream",
     "text": [
      "Epoch 749/1000 Iteration: 137100 Avg. Training loss: 5.6507 0.0850 sec/batch\n",
      "Epoch 749/1000 Iteration: 137200 Avg. Training loss: 5.6302 0.2550 sec/batch\n"
     ]
    },
    {
     "data": {
      "application/vnd.jupyter.widget-view+json": {
       "model_id": "",
       "version_major": 2,
       "version_minor": 0
      },
      "text/plain": [
       "HBox(children=(IntProgress(value=0, description='Batch', max=183, style=ProgressStyle(description_width='initi…"
      ]
     },
     "metadata": {},
     "output_type": "display_data"
    },
    {
     "name": "stdout",
     "output_type": "stream",
     "text": [
      "Epoch 750/1000 Iteration: 137300 Avg. Training loss: 5.4675 0.1275 sec/batch\n",
      "Epoch 750/1000 Iteration: 137400 Avg. Training loss: 5.7310 0.2562 sec/batch\n"
     ]
    },
    {
     "data": {
      "application/vnd.jupyter.widget-view+json": {
       "model_id": "",
       "version_major": 2,
       "version_minor": 0
      },
      "text/plain": [
       "HBox(children=(IntProgress(value=0, description='Batch', max=183, style=ProgressStyle(description_width='initi…"
      ]
     },
     "metadata": {},
     "output_type": "display_data"
    },
    {
     "name": "stdout",
     "output_type": "stream",
     "text": [
      "Epoch 751/1000 Iteration: 137500 Avg. Training loss: 5.5455 0.1705 sec/batch\n",
      "Epoch 751/1000 Iteration: 137600 Avg. Training loss: 5.4874 0.2552 sec/batch\n"
     ]
    },
    {
     "data": {
      "application/vnd.jupyter.widget-view+json": {
       "model_id": "",
       "version_major": 2,
       "version_minor": 0
      },
      "text/plain": [
       "HBox(children=(IntProgress(value=0, description='Batch', max=183, style=ProgressStyle(description_width='initi…"
      ]
     },
     "metadata": {},
     "output_type": "display_data"
    },
    {
     "name": "stdout",
     "output_type": "stream",
     "text": [
      "Epoch 752/1000 Iteration: 137700 Avg. Training loss: 5.5886 0.2162 sec/batch\n"
     ]
    },
    {
     "data": {
      "application/vnd.jupyter.widget-view+json": {
       "model_id": "",
       "version_major": 2,
       "version_minor": 0
      },
      "text/plain": [
       "HBox(children=(IntProgress(value=0, description='Batch', max=183, style=ProgressStyle(description_width='initi…"
      ]
     },
     "metadata": {},
     "output_type": "display_data"
    },
    {
     "name": "stdout",
     "output_type": "stream",
     "text": [
      "Epoch 753/1000 Iteration: 137800 Avg. Training loss: 5.5710 0.0027 sec/batch\n",
      "Epoch 753/1000 Iteration: 137900 Avg. Training loss: 5.5316 0.2552 sec/batch\n"
     ]
    },
    {
     "data": {
      "application/vnd.jupyter.widget-view+json": {
       "model_id": "",
       "version_major": 2,
       "version_minor": 0
      },
      "text/plain": [
       "HBox(children=(IntProgress(value=0, description='Batch', max=183, style=ProgressStyle(description_width='initi…"
      ]
     },
     "metadata": {},
     "output_type": "display_data"
    },
    {
     "name": "stdout",
     "output_type": "stream",
     "text": [
      "Epoch 754/1000 Iteration: 138000 Avg. Training loss: 5.5812 0.0464 sec/batch\n",
      "Nearest to .: ,, que, e, em, no, de, também, o,\n",
      "Nearest to em: de, também, ., apenas, que, do, ,, ainda,\n",
      "Nearest to anos: meses, últimos, oito, depois, 0000, desde, dois, nos,\n",
      "Nearest to que: ainda, também, não, já, ., ele, apenas, mas,\n",
      "Nearest to estão: estavam, estariam, continuam, está, estarão, seguem, continuarão, já,\n",
      "Nearest to como: também, que, e, exemplo, ., ,, por, já,\n",
      "Nearest to a: da, de, à, uma, na, em, também, .,\n",
      "Nearest to nesta: terça-feira, segunda-feira, quinta-feira, quarta-feira, sexta-feira, terça, quinta, quarta,\n",
      "Nearest to festival: festivais, cannes, evento, programação, sundance, veneza, exibido, acontece,\n",
      "Nearest to palácio: planalto, alvorada, peemedebista, jaburu, temer, articulação, assessores, articulador,\n",
      "Nearest to casas: residências, moradias, destruídas, famílias, rapidamente, antigas, moradores, delas,\n",
      "Nearest to garantir: assegurar, garantindo, manter, necessária, reforçar, dar, preservar, garante,\n",
      "Nearest to números: dados, estatísticas, divulgados, resultados, os, indicadores, fevereiro, maio,\n",
      "Nearest to deverá: deve, poderá, terá, irá, vai, voltará, deverão, será,\n",
      "Nearest to internacionais: nacionais, eua, internacional, além, europeus, dos, principalmente, estrangeiros,\n",
      "Nearest to continuar: vem, continuará, continua, está, continuarem, vinha, disso, agora,\n",
      "Epoch 754/1000 Iteration: 138100 Avg. Training loss: 5.6061 0.2656 sec/batch\n"
     ]
    },
    {
     "data": {
      "application/vnd.jupyter.widget-view+json": {
       "model_id": "",
       "version_major": 2,
       "version_minor": 0
      },
      "text/plain": [
       "HBox(children=(IntProgress(value=0, description='Batch', max=183, style=ProgressStyle(description_width='initi…"
      ]
     },
     "metadata": {},
     "output_type": "display_data"
    },
    {
     "name": "stdout",
     "output_type": "stream",
     "text": [
      "Epoch 755/1000 Iteration: 138200 Avg. Training loss: 5.7536 0.0895 sec/batch\n",
      "Epoch 755/1000 Iteration: 138300 Avg. Training loss: 5.6975 0.2546 sec/batch\n"
     ]
    },
    {
     "data": {
      "application/vnd.jupyter.widget-view+json": {
       "model_id": "",
       "version_major": 2,
       "version_minor": 0
      },
      "text/plain": [
       "HBox(children=(IntProgress(value=0, description='Batch', max=183, style=ProgressStyle(description_width='initi…"
      ]
     },
     "metadata": {},
     "output_type": "display_data"
    },
    {
     "name": "stdout",
     "output_type": "stream",
     "text": [
      "Epoch 756/1000 Iteration: 138400 Avg. Training loss: 5.6763 0.1328 sec/batch\n",
      "Epoch 756/1000 Iteration: 138500 Avg. Training loss: 5.7331 0.2553 sec/batch\n"
     ]
    },
    {
     "data": {
      "application/vnd.jupyter.widget-view+json": {
       "model_id": "",
       "version_major": 2,
       "version_minor": 0
      },
      "text/plain": [
       "HBox(children=(IntProgress(value=0, description='Batch', max=183, style=ProgressStyle(description_width='initi…"
      ]
     },
     "metadata": {},
     "output_type": "display_data"
    },
    {
     "name": "stdout",
     "output_type": "stream",
     "text": [
      "Epoch 757/1000 Iteration: 138600 Avg. Training loss: 5.6777 0.1762 sec/batch\n",
      "Epoch 757/1000 Iteration: 138700 Avg. Training loss: 5.7634 0.2562 sec/batch\n"
     ]
    },
    {
     "data": {
      "application/vnd.jupyter.widget-view+json": {
       "model_id": "",
       "version_major": 2,
       "version_minor": 0
      },
      "text/plain": [
       "HBox(children=(IntProgress(value=0, description='Batch', max=183, style=ProgressStyle(description_width='initi…"
      ]
     },
     "metadata": {},
     "output_type": "display_data"
    },
    {
     "name": "stdout",
     "output_type": "stream",
     "text": [
      "Epoch 758/1000 Iteration: 138800 Avg. Training loss: 5.7356 0.2200 sec/batch\n"
     ]
    },
    {
     "data": {
      "application/vnd.jupyter.widget-view+json": {
       "model_id": "",
       "version_major": 2,
       "version_minor": 0
      },
      "text/plain": [
       "HBox(children=(IntProgress(value=0, description='Batch', max=183, style=ProgressStyle(description_width='initi…"
      ]
     },
     "metadata": {},
     "output_type": "display_data"
    },
    {
     "name": "stdout",
     "output_type": "stream",
     "text": [
      "Epoch 759/1000 Iteration: 138900 Avg. Training loss: 5.5917 0.0077 sec/batch\n",
      "Epoch 759/1000 Iteration: 139000 Avg. Training loss: 5.6117 0.2558 sec/batch\n",
      "Nearest to milhões: milhão, mil, cerca, 0,0, aproximadamente, bilhão, 000,0, 00,0,\n",
      "Nearest to isso: ou, para, notícia, não, mensagem, é, assim, porque,\n",
      "Nearest to ?: sabe, você, quem, acha, só, não, falar, quer,\n",
      "Nearest to paulo: são, paulista, de, na, da, em, a, razão,\n",
      "Nearest to após: depois, antes, em, a, início, no, de, teve,\n",
      "Nearest to dois: oito, nove, outros, três, primeiros, nos, cinco, últimos,\n",
      "Nearest to das: as, nas, dessas, de, também, outras, pelas, entre,\n",
      "Nearest to foi: após, qual, ele, ser, porém, em, a, pelo,\n",
      "Nearest to global: aquecimento, climática, commodities, recente, países, globais, brasil, economias,\n",
      "Nearest to minas: gerais, pimentel, mineiro, espírito, ufmg, belo, ceará, mg,\n",
      "Nearest to entrou: entrará, fez, entrar, levou, após, pedido, aguarda, reconheceu,\n",
      "Nearest to vídeos: fotos, comentários, acontecimentos, conteúdo, relevantes, leitores, colaborar, notícias,\n",
      "Nearest to luz: linhas, energia, composição, contemplar, escuridão, habitual, mudança, sem,\n",
      "Nearest to EMAIL: basta, enviar, e-mail, envie, traduzem, publicados, acessar, colaborar,\n",
      "Nearest to vê: do, da, não, tanto, é, que, diz, considera,\n",
      "Nearest to conseguir: ganhar, obter, ajudar, precisa, tentar, consiga, precisará, terá,\n"
     ]
    },
    {
     "data": {
      "application/vnd.jupyter.widget-view+json": {
       "model_id": "",
       "version_major": 2,
       "version_minor": 0
      },
      "text/plain": [
       "HBox(children=(IntProgress(value=0, description='Batch', max=183, style=ProgressStyle(description_width='initi…"
      ]
     },
     "metadata": {},
     "output_type": "display_data"
    },
    {
     "name": "stdout",
     "output_type": "stream",
     "text": [
      "Epoch 760/1000 Iteration: 139100 Avg. Training loss: 5.6390 0.0511 sec/batch\n",
      "Epoch 760/1000 Iteration: 139200 Avg. Training loss: 5.7581 0.2549 sec/batch\n"
     ]
    },
    {
     "data": {
      "application/vnd.jupyter.widget-view+json": {
       "model_id": "",
       "version_major": 2,
       "version_minor": 0
      },
      "text/plain": [
       "HBox(children=(IntProgress(value=0, description='Batch', max=183, style=ProgressStyle(description_width='initi…"
      ]
     },
     "metadata": {},
     "output_type": "display_data"
    },
    {
     "name": "stdout",
     "output_type": "stream",
     "text": [
      "Epoch 761/1000 Iteration: 139300 Avg. Training loss: 5.4878 0.0946 sec/batch\n",
      "Epoch 761/1000 Iteration: 139400 Avg. Training loss: 5.6105 0.2565 sec/batch\n"
     ]
    },
    {
     "data": {
      "application/vnd.jupyter.widget-view+json": {
       "model_id": "",
       "version_major": 2,
       "version_minor": 0
      },
      "text/plain": [
       "HBox(children=(IntProgress(value=0, description='Batch', max=183, style=ProgressStyle(description_width='initi…"
      ]
     },
     "metadata": {},
     "output_type": "display_data"
    },
    {
     "name": "stdout",
     "output_type": "stream",
     "text": [
      "Epoch 762/1000 Iteration: 139500 Avg. Training loss: 5.4075 0.1387 sec/batch\n",
      "Epoch 762/1000 Iteration: 139600 Avg. Training loss: 5.7064 0.2549 sec/batch\n"
     ]
    },
    {
     "data": {
      "application/vnd.jupyter.widget-view+json": {
       "model_id": "",
       "version_major": 2,
       "version_minor": 0
      },
      "text/plain": [
       "HBox(children=(IntProgress(value=0, description='Batch', max=183, style=ProgressStyle(description_width='initi…"
      ]
     },
     "metadata": {},
     "output_type": "display_data"
    },
    {
     "name": "stdout",
     "output_type": "stream",
     "text": [
      "Epoch 763/1000 Iteration: 139700 Avg. Training loss: 5.7153 0.1823 sec/batch\n",
      "Epoch 763/1000 Iteration: 139800 Avg. Training loss: 5.7015 0.2544 sec/batch\n"
     ]
    },
    {
     "data": {
      "application/vnd.jupyter.widget-view+json": {
       "model_id": "",
       "version_major": 2,
       "version_minor": 0
      },
      "text/plain": [
       "HBox(children=(IntProgress(value=0, description='Batch', max=183, style=ProgressStyle(description_width='initi…"
      ]
     },
     "metadata": {},
     "output_type": "display_data"
    },
    {
     "name": "stdout",
     "output_type": "stream",
     "text": [
      "Epoch 764/1000 Iteration: 139900 Avg. Training loss: 5.6188 0.2257 sec/batch\n"
     ]
    },
    {
     "data": {
      "application/vnd.jupyter.widget-view+json": {
       "model_id": "",
       "version_major": 2,
       "version_minor": 0
      },
      "text/plain": [
       "HBox(children=(IntProgress(value=0, description='Batch', max=183, style=ProgressStyle(description_width='initi…"
      ]
     },
     "metadata": {},
     "output_type": "display_data"
    },
    {
     "name": "stdout",
     "output_type": "stream",
     "text": [
      "Epoch 765/1000 Iteration: 140000 Avg. Training loss: 5.5899 0.0129 sec/batch\n",
      "Nearest to na: em, a, da, também, para, ., de, no,\n",
      "Nearest to ainda: porém, que, já, entanto, mesmo, mas, ., o,\n",
      "Nearest to quando: ., começo, vez, até, antes, ele, que, no,\n",
      "Nearest to ter: teria, tenha, havia, tendo, terem, sido, tivesse, teriam,\n",
      "Nearest to milhões: milhão, mil, cerca, aproximadamente, 0,0, 000,0, bilhão, 00,0,\n",
      "Nearest to se: que, pois, mais, quem, ele, vez, também, ainda,\n",
      "Nearest to eu: vou, meu, sei, comigo, acredito, acho, fiz, tenho,\n",
      "Nearest to fazer: só, começar, mas, depois, dar, não, entrar, levar,\n",
      "Nearest to quero: vou, posso, eu, vai, vamos, querer, acredito, sei,\n",
      "Nearest to unido: reino, brexit, europeia, britânicos, ue, inglaterra, saída, britânica,\n",
      "Nearest to somente: apenas, mesmo, até, ainda, só, a, será, porém,\n",
      "Nearest to conhecido: considerado, envolveu, criadas, envolvendo, reconhecido, polêmico, principalmente, muitas,\n",
      "Nearest to tal: é, mas, que, só, porém, possa, qual, dessa,\n",
      "Nearest to previsão: expectativa, prevista, esperada, deve, previsto, ocorrer, prevê, começará,\n",
      "Nearest to colocar: fazer, sair, levar, deixar, manter, retirar, vai, criar,\n",
      "Nearest to década: 0000, meados, anos, desde, tornou-se, últimos, décadas, 0000-,\n",
      "Epoch 765/1000 Iteration: 140100 Avg. Training loss: 5.8060 0.2697 sec/batch\n"
     ]
    },
    {
     "data": {
      "application/vnd.jupyter.widget-view+json": {
       "model_id": "",
       "version_major": 2,
       "version_minor": 0
      },
      "text/plain": [
       "HBox(children=(IntProgress(value=0, description='Batch', max=183, style=ProgressStyle(description_width='initi…"
      ]
     },
     "metadata": {},
     "output_type": "display_data"
    },
    {
     "name": "stdout",
     "output_type": "stream",
     "text": [
      "Epoch 766/1000 Iteration: 140200 Avg. Training loss: 5.5901 0.0567 sec/batch\n",
      "Epoch 766/1000 Iteration: 140300 Avg. Training loss: 5.5671 0.2562 sec/batch\n"
     ]
    },
    {
     "data": {
      "application/vnd.jupyter.widget-view+json": {
       "model_id": "",
       "version_major": 2,
       "version_minor": 0
      },
      "text/plain": [
       "HBox(children=(IntProgress(value=0, description='Batch', max=183, style=ProgressStyle(description_width='initi…"
      ]
     },
     "metadata": {},
     "output_type": "display_data"
    },
    {
     "name": "stdout",
     "output_type": "stream",
     "text": [
      "Epoch 767/1000 Iteration: 140400 Avg. Training loss: 5.4877 0.1000 sec/batch\n",
      "Epoch 767/1000 Iteration: 140500 Avg. Training loss: 5.6414 0.2560 sec/batch\n"
     ]
    },
    {
     "data": {
      "application/vnd.jupyter.widget-view+json": {
       "model_id": "",
       "version_major": 2,
       "version_minor": 0
      },
      "text/plain": [
       "HBox(children=(IntProgress(value=0, description='Batch', max=183, style=ProgressStyle(description_width='initi…"
      ]
     },
     "metadata": {},
     "output_type": "display_data"
    },
    {
     "name": "stdout",
     "output_type": "stream",
     "text": [
      "Epoch 768/1000 Iteration: 140600 Avg. Training loss: 5.6176 0.1438 sec/batch\n",
      "Epoch 768/1000 Iteration: 140700 Avg. Training loss: 5.6367 0.2574 sec/batch\n"
     ]
    },
    {
     "data": {
      "application/vnd.jupyter.widget-view+json": {
       "model_id": "",
       "version_major": 2,
       "version_minor": 0
      },
      "text/plain": [
       "HBox(children=(IntProgress(value=0, description='Batch', max=183, style=ProgressStyle(description_width='initi…"
      ]
     },
     "metadata": {},
     "output_type": "display_data"
    },
    {
     "name": "stdout",
     "output_type": "stream",
     "text": [
      "Epoch 769/1000 Iteration: 140800 Avg. Training loss: 5.8275 0.1873 sec/batch\n",
      "Epoch 769/1000 Iteration: 140900 Avg. Training loss: 5.3815 0.2556 sec/batch\n"
     ]
    },
    {
     "data": {
      "application/vnd.jupyter.widget-view+json": {
       "model_id": "",
       "version_major": 2,
       "version_minor": 0
      },
      "text/plain": [
       "HBox(children=(IntProgress(value=0, description='Batch', max=183, style=ProgressStyle(description_width='initi…"
      ]
     },
     "metadata": {},
     "output_type": "display_data"
    },
    {
     "name": "stdout",
     "output_type": "stream",
     "text": [
      "Epoch 770/1000 Iteration: 141000 Avg. Training loss: 5.5905 0.2301 sec/batch\n",
      "Nearest to no: o, ., em, do, neste, após, ainda, na,\n",
      "Nearest to (: ), 00, e, ., quinta, o, nesta, ,,\n",
      "Nearest to ,: ., e, que, também, de, a, em, já,\n",
      "Nearest to paulo: são, paulista, sp, de, da, na, último, somente,\n",
      "Nearest to os: outros, dos, alguns, esses, deles, eles, todos, demais,\n",
      "Nearest to ou: isso, podem, para, os, participação, brasil, sejam, com,\n",
      "Nearest to até: agora, ., só, quando, ainda, mesmo, que, antes,\n",
      "Nearest to que: ., ainda, não, já, também, ele, mas, a,\n",
      "Nearest to simples: é, seja, porém, já, só, ser, vez, e,\n",
      "Nearest to atividade: mesmo, desde, principalmente, influência, econômica, ainda, a, maior,\n",
      "Nearest to minas: gerais, pimentel, mineiro, espírito, bahia, belo, ceará, mg,\n",
      "Nearest to estádio: torcedores, arena, palmeiras, torcedor, arquibancadas, itaquerão, torcida, time,\n",
      "Nearest to artista: exposição, artistas, plástico, fotografias, plástica, expõe, galeria, coletivo,\n",
      "Nearest to pretende: vai, irá, quer, planeja, decidiu, deve, poderá, voltou,\n",
      "Nearest to henrique: cardoso, meirelles, tucanos, fernando, michel, itamar, governo, viabilidade,\n",
      "Nearest to internacionais: nacionais, eua, país, nessas, comerciais, externa, do, política,\n"
     ]
    },
    {
     "data": {
      "application/vnd.jupyter.widget-view+json": {
       "model_id": "",
       "version_major": 2,
       "version_minor": 0
      },
      "text/plain": [
       "HBox(children=(IntProgress(value=0, description='Batch', max=183, style=ProgressStyle(description_width='initi…"
      ]
     },
     "metadata": {},
     "output_type": "display_data"
    },
    {
     "name": "stdout",
     "output_type": "stream",
     "text": [
      "Epoch 771/1000 Iteration: 141100 Avg. Training loss: 5.5378 0.0182 sec/batch\n",
      "Epoch 771/1000 Iteration: 141200 Avg. Training loss: 5.8163 0.2549 sec/batch\n"
     ]
    },
    {
     "data": {
      "application/vnd.jupyter.widget-view+json": {
       "model_id": "",
       "version_major": 2,
       "version_minor": 0
      },
      "text/plain": [
       "HBox(children=(IntProgress(value=0, description='Batch', max=183, style=ProgressStyle(description_width='initi…"
      ]
     },
     "metadata": {},
     "output_type": "display_data"
    },
    {
     "name": "stdout",
     "output_type": "stream",
     "text": [
      "Epoch 772/1000 Iteration: 141300 Avg. Training loss: 5.5932 0.0610 sec/batch\n",
      "Epoch 772/1000 Iteration: 141400 Avg. Training loss: 5.6288 0.2566 sec/batch\n"
     ]
    },
    {
     "data": {
      "application/vnd.jupyter.widget-view+json": {
       "model_id": "",
       "version_major": 2,
       "version_minor": 0
      },
      "text/plain": [
       "HBox(children=(IntProgress(value=0, description='Batch', max=183, style=ProgressStyle(description_width='initi…"
      ]
     },
     "metadata": {},
     "output_type": "display_data"
    },
    {
     "name": "stdout",
     "output_type": "stream",
     "text": [
      "Epoch 773/1000 Iteration: 141500 Avg. Training loss: 5.6695 0.1045 sec/batch\n",
      "Epoch 773/1000 Iteration: 141600 Avg. Training loss: 5.6519 0.2553 sec/batch\n"
     ]
    },
    {
     "data": {
      "application/vnd.jupyter.widget-view+json": {
       "model_id": "",
       "version_major": 2,
       "version_minor": 0
      },
      "text/plain": [
       "HBox(children=(IntProgress(value=0, description='Batch', max=183, style=ProgressStyle(description_width='initi…"
      ]
     },
     "metadata": {},
     "output_type": "display_data"
    },
    {
     "name": "stdout",
     "output_type": "stream",
     "text": [
      "Epoch 774/1000 Iteration: 141700 Avg. Training loss: 5.5690 0.1493 sec/batch\n",
      "Epoch 774/1000 Iteration: 141800 Avg. Training loss: 5.6088 0.2569 sec/batch\n"
     ]
    },
    {
     "data": {
      "application/vnd.jupyter.widget-view+json": {
       "model_id": "",
       "version_major": 2,
       "version_minor": 0
      },
      "text/plain": [
       "HBox(children=(IntProgress(value=0, description='Batch', max=183, style=ProgressStyle(description_width='initi…"
      ]
     },
     "metadata": {},
     "output_type": "display_data"
    },
    {
     "name": "stdout",
     "output_type": "stream",
     "text": [
      "Epoch 775/1000 Iteration: 141900 Avg. Training loss: 5.5676 0.1916 sec/batch\n",
      "Epoch 775/1000 Iteration: 142000 Avg. Training loss: 5.5691 0.2564 sec/batch\n",
      "Nearest to seu: próprio, o, ao, pelo, ele, também, um, de,\n",
      "Nearest to está: continua, estaria, esteja, vem, estar, estava, continuará, mas,\n",
      "Nearest to foi: qual, após, pelo, em, ser, ele, será, ,,\n",
      "Nearest to os: dos, outros, todos, ., esses, alguns, pelos, demais,\n",
      "Nearest to paulo: são, paulista, sp, de, na, da, a, tem,\n",
      "Nearest to as: das, essas, todas, mesmas, novas, nas, dessas, que,\n",
      "Nearest to seus: os, próprios, outros, alguns, dos, todos, dois, apenas,\n",
      "Nearest to às: hoje, domingo, 00h, dia, quinta, sexta, volta, sábado,\n",
      "Nearest to globo: tv, emissora, televisão, record, canal, canais, sbt, audiência,\n",
      "Nearest to previsão: expectativa, prevista, deve, esperada, ainda, entanto, possibilidade, ficará,\n",
      "Nearest to encontrar: buscar, buscando, dar, manter, entender, investir, trazer, pedir,\n",
      "Nearest to emprego: trabalho, empregos, desemprego, desempregados, crescimento, formal, trabalhar, empregados,\n",
      "Nearest to provas: prova, alegações, evidências, finais, acusação, acusações, alegação, obtidas,\n",
      "Nearest to colocar: fazer, sair, deixar, quer, colocou, levar, defender, vai,\n",
      "Nearest to depoimento: prestado, prestou, prestar, depor, pf, esclarecimentos, testemunha, depoimentos,\n",
      "Nearest to unido: reino, brexit, europeia, ue, britânicos, inglaterra, saída, permanência,\n"
     ]
    },
    {
     "data": {
      "application/vnd.jupyter.widget-view+json": {
       "model_id": "",
       "version_major": 2,
       "version_minor": 0
      },
      "text/plain": [
       "HBox(children=(IntProgress(value=0, description='Batch', max=183, style=ProgressStyle(description_width='initi…"
      ]
     },
     "metadata": {},
     "output_type": "display_data"
    },
    {
     "name": "stdout",
     "output_type": "stream",
     "text": [
      "Epoch 776/1000 Iteration: 142100 Avg. Training loss: 5.6766 0.2351 sec/batch\n"
     ]
    },
    {
     "data": {
      "application/vnd.jupyter.widget-view+json": {
       "model_id": "",
       "version_major": 2,
       "version_minor": 0
      },
      "text/plain": [
       "HBox(children=(IntProgress(value=0, description='Batch', max=183, style=ProgressStyle(description_width='initi…"
      ]
     },
     "metadata": {},
     "output_type": "display_data"
    },
    {
     "name": "stdout",
     "output_type": "stream",
     "text": [
      "Epoch 777/1000 Iteration: 142200 Avg. Training loss: 5.5791 0.0230 sec/batch\n",
      "Epoch 777/1000 Iteration: 142300 Avg. Training loss: 5.8946 0.2547 sec/batch\n"
     ]
    },
    {
     "data": {
      "application/vnd.jupyter.widget-view+json": {
       "model_id": "",
       "version_major": 2,
       "version_minor": 0
      },
      "text/plain": [
       "HBox(children=(IntProgress(value=0, description='Batch', max=183, style=ProgressStyle(description_width='initi…"
      ]
     },
     "metadata": {},
     "output_type": "display_data"
    },
    {
     "name": "stdout",
     "output_type": "stream",
     "text": [
      "Epoch 778/1000 Iteration: 142400 Avg. Training loss: 5.5135 0.0664 sec/batch\n",
      "Epoch 778/1000 Iteration: 142500 Avg. Training loss: 5.7233 0.2546 sec/batch\n"
     ]
    },
    {
     "data": {
      "application/vnd.jupyter.widget-view+json": {
       "model_id": "",
       "version_major": 2,
       "version_minor": 0
      },
      "text/plain": [
       "HBox(children=(IntProgress(value=0, description='Batch', max=183, style=ProgressStyle(description_width='initi…"
      ]
     },
     "metadata": {},
     "output_type": "display_data"
    },
    {
     "name": "stdout",
     "output_type": "stream",
     "text": [
      "Epoch 779/1000 Iteration: 142600 Avg. Training loss: 5.7671 0.1097 sec/batch\n",
      "Epoch 779/1000 Iteration: 142700 Avg. Training loss: 5.5403 0.2569 sec/batch\n"
     ]
    },
    {
     "data": {
      "application/vnd.jupyter.widget-view+json": {
       "model_id": "",
       "version_major": 2,
       "version_minor": 0
      },
      "text/plain": [
       "HBox(children=(IntProgress(value=0, description='Batch', max=183, style=ProgressStyle(description_width='initi…"
      ]
     },
     "metadata": {},
     "output_type": "display_data"
    },
    {
     "name": "stdout",
     "output_type": "stream",
     "text": [
      "Epoch 780/1000 Iteration: 142800 Avg. Training loss: 5.5781 0.1536 sec/batch\n",
      "Epoch 780/1000 Iteration: 142900 Avg. Training loss: 5.7227 0.2554 sec/batch\n"
     ]
    },
    {
     "data": {
      "application/vnd.jupyter.widget-view+json": {
       "model_id": "",
       "version_major": 2,
       "version_minor": 0
      },
      "text/plain": [
       "HBox(children=(IntProgress(value=0, description='Batch', max=183, style=ProgressStyle(description_width='initi…"
      ]
     },
     "metadata": {},
     "output_type": "display_data"
    },
    {
     "name": "stdout",
     "output_type": "stream",
     "text": [
      "Epoch 781/1000 Iteration: 143000 Avg. Training loss: 5.4549 0.1967 sec/batch\n",
      "Nearest to diz: afirma, que, mas, conta, ., ,, disse, ainda,\n",
      "Nearest to dois: outros, nove, oito, três, vários, os, diversos, primeiros,\n",
      "Nearest to disse: afirmou, dizendo, falou, diz, ressaltou, citou, reiterou, acrescentando,\n",
      "Nearest to após: depois, no, antes, voltou, último, teve, última, em,\n",
      "Nearest to os: dos, outros, esses, alguns, ., todos, pelos, e,\n",
      "Nearest to pela: a, pelo, na, ainda, ., foi, em, vez,\n",
      "Nearest to país: que, todo, maior, principalmente, já, ainda, o, do,\n",
      "Nearest to eu: meu, vou, sei, cheguei, tenho, comigo, acho, acredito,\n",
      "Nearest to mar: mediterrâneo, oceano, barco, travessia, praias, praia, embarcações, atlântico,\n",
      "Nearest to garantir: assegurar, garantindo, manter, necessária, dar, precisa, reforçar, terá,\n",
      "Nearest to estratégia: tentar, tentativa, a, possível, da, desafio, uma, objetivo,\n",
      "Nearest to recente: à, maior, a, de, afirmar, mostrou, em, último,\n",
      "Nearest to unidades: unidade, considerando, creches, leitos, aponta, semestre, franquias, terço,\n",
      "Nearest to tratamento: pacientes, tratamentos, cirúrgico, quimioterapia, tratar, diagnóstico, terapia, terapias,\n",
      "Nearest to ouro: medalha, conquistou, prata, bronze, londres-0000, ganhou, atleta, medalhas,\n",
      "Nearest to comunicação: civil, informação, mídia, segurança, publicidade, interlocução, imprensa, afirmou,\n",
      "Epoch 781/1000 Iteration: 143100 Avg. Training loss: 5.5133 0.2673 sec/batch\n"
     ]
    },
    {
     "data": {
      "application/vnd.jupyter.widget-view+json": {
       "model_id": "",
       "version_major": 2,
       "version_minor": 0
      },
      "text/plain": [
       "HBox(children=(IntProgress(value=0, description='Batch', max=183, style=ProgressStyle(description_width='initi…"
      ]
     },
     "metadata": {},
     "output_type": "display_data"
    },
    {
     "name": "stdout",
     "output_type": "stream",
     "text": [
      "Epoch 782/1000 Iteration: 143200 Avg. Training loss: 5.6096 0.2407 sec/batch\n"
     ]
    },
    {
     "data": {
      "application/vnd.jupyter.widget-view+json": {
       "model_id": "",
       "version_major": 2,
       "version_minor": 0
      },
      "text/plain": [
       "HBox(children=(IntProgress(value=0, description='Batch', max=183, style=ProgressStyle(description_width='initi…"
      ]
     },
     "metadata": {},
     "output_type": "display_data"
    },
    {
     "name": "stdout",
     "output_type": "stream",
     "text": [
      "Epoch 783/1000 Iteration: 143300 Avg. Training loss: 5.6703 0.0282 sec/batch\n",
      "Epoch 783/1000 Iteration: 143400 Avg. Training loss: 5.6879 0.2551 sec/batch\n"
     ]
    },
    {
     "data": {
      "application/vnd.jupyter.widget-view+json": {
       "model_id": "",
       "version_major": 2,
       "version_minor": 0
      },
      "text/plain": [
       "HBox(children=(IntProgress(value=0, description='Batch', max=183, style=ProgressStyle(description_width='initi…"
      ]
     },
     "metadata": {},
     "output_type": "display_data"
    },
    {
     "name": "stdout",
     "output_type": "stream",
     "text": [
      "Epoch 784/1000 Iteration: 143500 Avg. Training loss: 5.5126 0.0722 sec/batch\n",
      "Epoch 784/1000 Iteration: 143600 Avg. Training loss: 5.4416 0.2548 sec/batch\n"
     ]
    },
    {
     "data": {
      "application/vnd.jupyter.widget-view+json": {
       "model_id": "",
       "version_major": 2,
       "version_minor": 0
      },
      "text/plain": [
       "HBox(children=(IntProgress(value=0, description='Batch', max=183, style=ProgressStyle(description_width='initi…"
      ]
     },
     "metadata": {},
     "output_type": "display_data"
    },
    {
     "name": "stdout",
     "output_type": "stream",
     "text": [
      "Epoch 785/1000 Iteration: 143700 Avg. Training loss: 5.5900 0.1152 sec/batch\n",
      "Epoch 785/1000 Iteration: 143800 Avg. Training loss: 5.6955 0.2565 sec/batch\n"
     ]
    },
    {
     "data": {
      "application/vnd.jupyter.widget-view+json": {
       "model_id": "",
       "version_major": 2,
       "version_minor": 0
      },
      "text/plain": [
       "HBox(children=(IntProgress(value=0, description='Batch', max=183, style=ProgressStyle(description_width='initi…"
      ]
     },
     "metadata": {},
     "output_type": "display_data"
    },
    {
     "name": "stdout",
     "output_type": "stream",
     "text": [
      "Epoch 786/1000 Iteration: 143900 Avg. Training loss: 5.7612 0.1584 sec/batch\n",
      "Epoch 786/1000 Iteration: 144000 Avg. Training loss: 5.8102 0.2556 sec/batch\n",
      "Nearest to em: de, também, ., ,, vez, na, o, já,\n",
      "Nearest to se: quem, que, ele, pois, mais, também, mesmo, vez,\n",
      "Nearest to r$: 000, us$, valor, 0,00, milhões, 00, cerca, bilhões,\n",
      "Nearest to estão: estavam, estariam, continuam, está, estarão, ficam, vêm, já,\n",
      "Nearest to ter: teria, tenha, tendo, havia, terem, sido, teriam, só,\n",
      "Nearest to até: ., ainda, mesmo, agora, que, só, menos, apenas,\n",
      "Nearest to também: que, de, ., e, em, ,, a, com,\n",
      "Nearest to ,: ., também, que, e, já, a, em, de,\n",
      "Nearest to médico: clínicas, hospital, pronto-socorro, consultório, médica, hospitais, médicos, paciente,\n",
      "Nearest to seguinte: dia, última, publicadas, reportagem, coordenação, antes, sempre, após,\n",
      "Nearest to tratamento: tratamentos, tratar, cirúrgico, pacientes, diagnóstico, terapia, quimioterapia, terapias,\n",
      "Nearest to continuar: continua, continuará, vem, fazer, está, continuarem, disso, ainda,\n",
      "Nearest to estudos: pesquisas, pesquisadores, estudo, científicos, avançados, relatórios, dados, recentes,\n",
      "Nearest to comercial: comércio, exterior, balança, transações, utilizado, comerciais, fechou, dólar,\n",
      "Nearest to aliados: aliado, parlamentares, governo, aliada, peemedebista, oposição, congressistas, interlocutores,\n",
      "Nearest to mortes: veja, óbitos, anúncios, missas, homicídios, assassinatos, acidentes, violentas,\n"
     ]
    },
    {
     "data": {
      "application/vnd.jupyter.widget-view+json": {
       "model_id": "",
       "version_major": 2,
       "version_minor": 0
      },
      "text/plain": [
       "HBox(children=(IntProgress(value=0, description='Batch', max=183, style=ProgressStyle(description_width='initi…"
      ]
     },
     "metadata": {},
     "output_type": "display_data"
    },
    {
     "name": "stdout",
     "output_type": "stream",
     "text": [
      "Epoch 787/1000 Iteration: 144100 Avg. Training loss: 5.7753 0.2026 sec/batch\n",
      "Epoch 787/1000 Iteration: 144200 Avg. Training loss: 5.6495 0.2557 sec/batch\n"
     ]
    },
    {
     "data": {
      "application/vnd.jupyter.widget-view+json": {
       "model_id": "",
       "version_major": 2,
       "version_minor": 0
      },
      "text/plain": [
       "HBox(children=(IntProgress(value=0, description='Batch', max=183, style=ProgressStyle(description_width='initi…"
      ]
     },
     "metadata": {},
     "output_type": "display_data"
    },
    {
     "name": "stdout",
     "output_type": "stream",
     "text": [
      "Epoch 788/1000 Iteration: 144300 Avg. Training loss: 5.7518 0.2447 sec/batch\n"
     ]
    },
    {
     "data": {
      "application/vnd.jupyter.widget-view+json": {
       "model_id": "",
       "version_major": 2,
       "version_minor": 0
      },
      "text/plain": [
       "HBox(children=(IntProgress(value=0, description='Batch', max=183, style=ProgressStyle(description_width='initi…"
      ]
     },
     "metadata": {},
     "output_type": "display_data"
    },
    {
     "name": "stdout",
     "output_type": "stream",
     "text": [
      "Epoch 789/1000 Iteration: 144400 Avg. Training loss: 5.6351 0.0336 sec/batch\n",
      "Epoch 789/1000 Iteration: 144500 Avg. Training loss: 5.6250 0.2561 sec/batch\n"
     ]
    },
    {
     "data": {
      "application/vnd.jupyter.widget-view+json": {
       "model_id": "",
       "version_major": 2,
       "version_minor": 0
      },
      "text/plain": [
       "HBox(children=(IntProgress(value=0, description='Batch', max=183, style=ProgressStyle(description_width='initi…"
      ]
     },
     "metadata": {},
     "output_type": "display_data"
    },
    {
     "name": "stdout",
     "output_type": "stream",
     "text": [
      "Epoch 790/1000 Iteration: 144600 Avg. Training loss: 5.5489 0.0772 sec/batch\n",
      "Epoch 790/1000 Iteration: 144700 Avg. Training loss: 5.7312 0.2568 sec/batch\n"
     ]
    },
    {
     "data": {
      "application/vnd.jupyter.widget-view+json": {
       "model_id": "",
       "version_major": 2,
       "version_minor": 0
      },
      "text/plain": [
       "HBox(children=(IntProgress(value=0, description='Batch', max=183, style=ProgressStyle(description_width='initi…"
      ]
     },
     "metadata": {},
     "output_type": "display_data"
    },
    {
     "name": "stdout",
     "output_type": "stream",
     "text": [
      "Epoch 791/1000 Iteration: 144800 Avg. Training loss: 5.5956 0.1199 sec/batch\n",
      "Epoch 791/1000 Iteration: 144900 Avg. Training loss: 5.4872 0.2558 sec/batch\n"
     ]
    },
    {
     "data": {
      "application/vnd.jupyter.widget-view+json": {
       "model_id": "",
       "version_major": 2,
       "version_minor": 0
      },
      "text/plain": [
       "HBox(children=(IntProgress(value=0, description='Batch', max=183, style=ProgressStyle(description_width='initi…"
      ]
     },
     "metadata": {},
     "output_type": "display_data"
    },
    {
     "name": "stdout",
     "output_type": "stream",
     "text": [
      "Epoch 792/1000 Iteration: 145000 Avg. Training loss: 5.5847 0.1634 sec/batch\n",
      "Nearest to %: 00,0, 0,00, 0,0, recuo, alta, recuou, ante, caíram,\n",
      "Nearest to já: ainda, que, mas, também, ,, o, ., agora,\n",
      "Nearest to foi: qual, ser, pela, pelo, ele, após, em, uma,\n",
      "Nearest to seu: próprio, o, dele, ele, pelo, do, um, ao,\n",
      "Nearest to um: o, outro, ao, esse, que, já, desse, ainda,\n",
      "Nearest to era: seria, fosse, ele, qual, apenas, exatamente, sabia, naquele,\n",
      "Nearest to 00: em, até, de, 0, neste, ., no, na,\n",
      "Nearest to muito: bastante, mas, porque, tão, mais, diferente, pouco, não,\n",
      "Nearest to discussão: proposta, questão, discutir, tema, discutindo, aprovação, uma, tramitação,\n",
      "Nearest to internacionais: nacionais, eua, internacional, estados, brasil, cautela, do, comerciais,\n",
      "Nearest to garantir: assegurar, manter, garantindo, dar, preservar, necessária, reforçar, essencial,\n",
      "Nearest to mínimo: salário, valor, máximo, benefício, equivalente, fixado, terço, atuais,\n",
      "Nearest to pf: polícia, deflagrada, depoimento, operação, investigado, jato, zelotes, indícios,\n",
      "Nearest to conversa: conversas, gravação, diálogo, falou, áudio, conversar, encontro, interlocutor,\n",
      "Nearest to festival: festivais, cannes, veneza, evento, cinema, curtas, exibido, sxsw,\n",
      "Nearest to simples: é, ser, porém, seja, já, só, a, será,\n",
      "Epoch 792/1000 Iteration: 145100 Avg. Training loss: 5.6063 0.2667 sec/batch\n"
     ]
    },
    {
     "data": {
      "application/vnd.jupyter.widget-view+json": {
       "model_id": "",
       "version_major": 2,
       "version_minor": 0
      },
      "text/plain": [
       "HBox(children=(IntProgress(value=0, description='Batch', max=183, style=ProgressStyle(description_width='initi…"
      ]
     },
     "metadata": {},
     "output_type": "display_data"
    },
    {
     "name": "stdout",
     "output_type": "stream",
     "text": [
      "Epoch 793/1000 Iteration: 145200 Avg. Training loss: 5.5312 0.2062 sec/batch\n",
      "Epoch 793/1000 Iteration: 145300 Avg. Training loss: 5.6517 0.2546 sec/batch\n"
     ]
    },
    {
     "data": {
      "application/vnd.jupyter.widget-view+json": {
       "model_id": "",
       "version_major": 2,
       "version_minor": 0
      },
      "text/plain": [
       "HBox(children=(IntProgress(value=0, description='Batch', max=183, style=ProgressStyle(description_width='initi…"
      ]
     },
     "metadata": {},
     "output_type": "display_data"
    },
    {
     "name": "stdout",
     "output_type": "stream",
     "text": [
      "Epoch 794/1000 Iteration: 145400 Avg. Training loss: 5.5219 0.2520 sec/batch\n"
     ]
    },
    {
     "data": {
      "application/vnd.jupyter.widget-view+json": {
       "model_id": "",
       "version_major": 2,
       "version_minor": 0
      },
      "text/plain": [
       "HBox(children=(IntProgress(value=0, description='Batch', max=183, style=ProgressStyle(description_width='initi…"
      ]
     },
     "metadata": {},
     "output_type": "display_data"
    },
    {
     "name": "stdout",
     "output_type": "stream",
     "text": [
      "Epoch 795/1000 Iteration: 145500 Avg. Training loss: 5.5258 0.0388 sec/batch\n",
      "Epoch 795/1000 Iteration: 145600 Avg. Training loss: 5.7365 0.2554 sec/batch\n"
     ]
    },
    {
     "data": {
      "application/vnd.jupyter.widget-view+json": {
       "model_id": "",
       "version_major": 2,
       "version_minor": 0
      },
      "text/plain": [
       "HBox(children=(IntProgress(value=0, description='Batch', max=183, style=ProgressStyle(description_width='initi…"
      ]
     },
     "metadata": {},
     "output_type": "display_data"
    },
    {
     "name": "stdout",
     "output_type": "stream",
     "text": [
      "Epoch 796/1000 Iteration: 145700 Avg. Training loss: 5.6208 0.0819 sec/batch\n",
      "Epoch 796/1000 Iteration: 145800 Avg. Training loss: 5.6757 0.2562 sec/batch\n"
     ]
    },
    {
     "data": {
      "application/vnd.jupyter.widget-view+json": {
       "model_id": "",
       "version_major": 2,
       "version_minor": 0
      },
      "text/plain": [
       "HBox(children=(IntProgress(value=0, description='Batch', max=183, style=ProgressStyle(description_width='initi…"
      ]
     },
     "metadata": {},
     "output_type": "display_data"
    },
    {
     "name": "stdout",
     "output_type": "stream",
     "text": [
      "Epoch 797/1000 Iteration: 145900 Avg. Training loss: 5.5921 0.1254 sec/batch\n",
      "Epoch 797/1000 Iteration: 146000 Avg. Training loss: 5.6718 0.2562 sec/batch\n",
      "Nearest to são: paulo, de, e, na, em, ., somente, paulista,\n",
      "Nearest to ainda: porém, que, mas, entanto, já, mesmo, o, também,\n",
      "Nearest to mesmo: ainda, apenas, que, só, mas, o, entanto, já,\n",
      "Nearest to do: o, em, também, ao, maior, de, na, ainda,\n",
      "Nearest to nesta: terça-feira, segunda-feira, quinta-feira, quarta-feira, sexta-feira, terça, desta, quinta,\n",
      "Nearest to quando: até, ., começo, vez, que, antes, no, ele,\n",
      "Nearest to que: ainda, ., já, não, também, mas, ,, o,\n",
      "Nearest to para: a, ainda, em, é, também, de, que, o,\n",
      "Nearest to palácio: planalto, alvorada, jaburu, peemedebista, encontro, assessores, temer, articulação,\n",
      "Nearest to encontrar: buscar, entender, investir, dar, manter, aproveitar, trazer, perceber,\n",
      "Nearest to esporte: esportes, esportiva, modalidades, natação, modalidade, atleta, atletas, esportistas,\n",
      "Nearest to garantir: assegurar, manter, garantindo, necessária, dar, reforçar, preservar, essencial,\n",
      "Nearest to referência: o, usado, vista, do, principal, ., de, a,\n",
      "Nearest to simples: seja, ser, é, porém, inclusive, já, somente, vez,\n",
      "Nearest to conseguir: ganhar, tentar, ajudar, fazer, precisa, obter, manter, para,\n",
      "Nearest to tal: é, mas, essa, dessa, que, não, porém, poderia,\n"
     ]
    },
    {
     "data": {
      "application/vnd.jupyter.widget-view+json": {
       "model_id": "",
       "version_major": 2,
       "version_minor": 0
      },
      "text/plain": [
       "HBox(children=(IntProgress(value=0, description='Batch', max=183, style=ProgressStyle(description_width='initi…"
      ]
     },
     "metadata": {},
     "output_type": "display_data"
    },
    {
     "name": "stdout",
     "output_type": "stream",
     "text": [
      "Epoch 798/1000 Iteration: 146100 Avg. Training loss: 5.5681 0.1700 sec/batch\n",
      "Epoch 798/1000 Iteration: 146200 Avg. Training loss: 5.7089 0.2558 sec/batch\n"
     ]
    },
    {
     "data": {
      "application/vnd.jupyter.widget-view+json": {
       "model_id": "",
       "version_major": 2,
       "version_minor": 0
      },
      "text/plain": [
       "HBox(children=(IntProgress(value=0, description='Batch', max=183, style=ProgressStyle(description_width='initi…"
      ]
     },
     "metadata": {},
     "output_type": "display_data"
    },
    {
     "name": "stdout",
     "output_type": "stream",
     "text": [
      "Epoch 799/1000 Iteration: 146300 Avg. Training loss: 5.6205 0.2129 sec/batch\n",
      "Epoch 799/1000 Iteration: 146400 Avg. Training loss: 5.8490 0.2538 sec/batch\n"
     ]
    },
    {
     "data": {
      "application/vnd.jupyter.widget-view+json": {
       "model_id": "",
       "version_major": 2,
       "version_minor": 0
      },
      "text/plain": [
       "HBox(children=(IntProgress(value=0, description='Batch', max=183, style=ProgressStyle(description_width='initi…"
      ]
     },
     "metadata": {},
     "output_type": "display_data"
    },
    {
     "name": "stdout",
     "output_type": "stream",
     "text": [
      "Epoch 800/1000 Iteration: 146500 Avg. Training loss: 5.6597 0.2585 sec/batch\n"
     ]
    },
    {
     "data": {
      "application/vnd.jupyter.widget-view+json": {
       "model_id": "",
       "version_major": 2,
       "version_minor": 0
      },
      "text/plain": [
       "HBox(children=(IntProgress(value=0, description='Batch', max=183, style=ProgressStyle(description_width='initi…"
      ]
     },
     "metadata": {},
     "output_type": "display_data"
    },
    {
     "name": "stdout",
     "output_type": "stream",
     "text": [
      "Epoch 801/1000 Iteration: 146600 Avg. Training loss: 5.5455 0.0438 sec/batch\n",
      "Epoch 801/1000 Iteration: 146700 Avg. Training loss: 5.8211 0.2559 sec/batch\n"
     ]
    },
    {
     "data": {
      "application/vnd.jupyter.widget-view+json": {
       "model_id": "",
       "version_major": 2,
       "version_minor": 0
      },
      "text/plain": [
       "HBox(children=(IntProgress(value=0, description='Batch', max=183, style=ProgressStyle(description_width='initi…"
      ]
     },
     "metadata": {},
     "output_type": "display_data"
    },
    {
     "name": "stdout",
     "output_type": "stream",
     "text": [
      "Epoch 802/1000 Iteration: 146800 Avg. Training loss: 5.6414 0.0873 sec/batch\n",
      "Epoch 802/1000 Iteration: 146900 Avg. Training loss: 5.8114 0.2549 sec/batch\n"
     ]
    },
    {
     "data": {
      "application/vnd.jupyter.widget-view+json": {
       "model_id": "",
       "version_major": 2,
       "version_minor": 0
      },
      "text/plain": [
       "HBox(children=(IntProgress(value=0, description='Batch', max=183, style=ProgressStyle(description_width='initi…"
      ]
     },
     "metadata": {},
     "output_type": "display_data"
    },
    {
     "name": "stdout",
     "output_type": "stream",
     "text": [
      "Epoch 803/1000 Iteration: 147000 Avg. Training loss: 5.8171 0.1322 sec/batch\n",
      "Nearest to pessoas: menos, milhares, elas, jovens, desse, todo, cerca, cada,\n",
      "Nearest to vai: irá, vão, começar, poderá, deve, pretende, terá, pode,\n",
      "Nearest to ela: ele, dela, mas, que, já, ainda, só, pois,\n",
      "Nearest to as: das, essas, mesmas, todas, suas, novas, duas, outras,\n",
      "Nearest to governo: país, agora, ainda, considera, que, o, comprometer, manter,\n",
      "Nearest to são: paulo, e, de, em, somente, ., na, paulista,\n",
      "Nearest to ano: passado, mês, deste, maio, neste, junho, abril, julho,\n",
      "Nearest to pelo: o, em, do, também, ao, ., qual, vez,\n",
      "Nearest to quero: posso, vou, vai, preciso, vão, possa, acredito, querem,\n",
      "Nearest to depoimento: prestado, prestou, prestar, depor, testemunha, pf, esclarecimentos, depoimentos,\n",
      "Nearest to veio: levou, trouxe, depois, fez, em, logo, virá, deu,\n",
      "Nearest to investidores: volatilidade, mercados, cautela, emergentes, investidor, ativos, mercado, liquidez,\n",
      "Nearest to garantir: assegurar, garantindo, manter, reforçar, necessária, preservar, dar, aumentar,\n",
      "Nearest to profissionais: funcionários, melhores, por, professores, aprendizado, inclusive, especialmente, qualificados,\n",
      "Nearest to sede: em, na, ocorreu, realizada, da, abrigar, oficialmente, parte,\n",
      "Nearest to recente: último, setembro, a, em, última, mostrou, maior, novo,\n",
      "Epoch 803/1000 Iteration: 147100 Avg. Training loss: 5.6527 0.2664 sec/batch\n"
     ]
    },
    {
     "data": {
      "application/vnd.jupyter.widget-view+json": {
       "model_id": "",
       "version_major": 2,
       "version_minor": 0
      },
      "text/plain": [
       "HBox(children=(IntProgress(value=0, description='Batch', max=183, style=ProgressStyle(description_width='initi…"
      ]
     },
     "metadata": {},
     "output_type": "display_data"
    },
    {
     "name": "stdout",
     "output_type": "stream",
     "text": [
      "Epoch 804/1000 Iteration: 147200 Avg. Training loss: 5.5969 0.1747 sec/batch\n",
      "Epoch 804/1000 Iteration: 147300 Avg. Training loss: 5.6275 0.2558 sec/batch\n"
     ]
    },
    {
     "data": {
      "application/vnd.jupyter.widget-view+json": {
       "model_id": "",
       "version_major": 2,
       "version_minor": 0
      },
      "text/plain": [
       "HBox(children=(IntProgress(value=0, description='Batch', max=183, style=ProgressStyle(description_width='initi…"
      ]
     },
     "metadata": {},
     "output_type": "display_data"
    },
    {
     "name": "stdout",
     "output_type": "stream",
     "text": [
      "Epoch 805/1000 Iteration: 147400 Avg. Training loss: 5.7355 0.2177 sec/batch\n"
     ]
    },
    {
     "data": {
      "application/vnd.jupyter.widget-view+json": {
       "model_id": "",
       "version_major": 2,
       "version_minor": 0
      },
      "text/plain": [
       "HBox(children=(IntProgress(value=0, description='Batch', max=183, style=ProgressStyle(description_width='initi…"
      ]
     },
     "metadata": {},
     "output_type": "display_data"
    },
    {
     "name": "stdout",
     "output_type": "stream",
     "text": [
      "Epoch 806/1000 Iteration: 147500 Avg. Training loss: 5.6271 0.0052 sec/batch\n",
      "Epoch 806/1000 Iteration: 147600 Avg. Training loss: 5.7412 0.2555 sec/batch\n"
     ]
    },
    {
     "data": {
      "application/vnd.jupyter.widget-view+json": {
       "model_id": "",
       "version_major": 2,
       "version_minor": 0
      },
      "text/plain": [
       "HBox(children=(IntProgress(value=0, description='Batch', max=183, style=ProgressStyle(description_width='initi…"
      ]
     },
     "metadata": {},
     "output_type": "display_data"
    },
    {
     "name": "stdout",
     "output_type": "stream",
     "text": [
      "Epoch 807/1000 Iteration: 147700 Avg. Training loss: 5.6572 0.0520 sec/batch\n",
      "Epoch 807/1000 Iteration: 147800 Avg. Training loss: 5.6389 0.2569 sec/batch\n"
     ]
    },
    {
     "data": {
      "application/vnd.jupyter.widget-view+json": {
       "model_id": "",
       "version_major": 2,
       "version_minor": 0
      },
      "text/plain": [
       "HBox(children=(IntProgress(value=0, description='Batch', max=183, style=ProgressStyle(description_width='initi…"
      ]
     },
     "metadata": {},
     "output_type": "display_data"
    },
    {
     "name": "stdout",
     "output_type": "stream",
     "text": [
      "Epoch 808/1000 Iteration: 147900 Avg. Training loss: 5.4309 0.0920 sec/batch\n",
      "Epoch 808/1000 Iteration: 148000 Avg. Training loss: 5.5842 0.2565 sec/batch\n",
      "Nearest to nos: últimos, outros, dois, os, dos, também, todos, nesses,\n",
      "Nearest to após: depois, antes, foi, início, teve, no, em, levou,\n",
      "Nearest to anos: meses, últimos, oito, depois, três, desde, cinco, nove,\n",
      "Nearest to do: o, também, ao, em, de, no, na, .,\n",
      "Nearest to segundo: ainda, primeiro, chegou, deste, mostrou, que, entanto, neste,\n",
      "Nearest to é: tem, mas, do, não, para, parte, o, só,\n",
      "Nearest to (: ), 00, nesta, ., e, quinta, quinta-feira, 0,\n",
      "Nearest to pode: poderá, poderia, deve, vai, possível, costuma, é, terá,\n",
      "Nearest to emprego: empregos, trabalho, desemprego, desempregados, trabalhar, carteira, empregados, crescimento,\n",
      "Nearest to escreveu: ,, pelo, o, próprio, ., ], seu, publicou,\n",
      "Nearest to vice-presidente: presidente, vice, presidência, assume, assumir, temer, vice-presidência, assumiria,\n",
      "Nearest to palácio: planalto, alvorada, peemedebista, jaburu, temer, ocupar, assessores, articulador,\n",
      "Nearest to artista: plástico, artistas, plástica, exposição, mural, fotografias, escultura, mostra,\n",
      "Nearest to livros: didáticos, editoras, literatura, romances, história, livrarias, bancas, colorir,\n",
      "Nearest to instituição: financeira, instituições, banco, administração, política, pública, do, da,\n",
      "Nearest to investidores: mercados, volatilidade, investidor, ativos, emergentes, cautela, otimismo, mercado,\n"
     ]
    },
    {
     "data": {
      "application/vnd.jupyter.widget-view+json": {
       "model_id": "",
       "version_major": 2,
       "version_minor": 0
      },
      "text/plain": [
       "HBox(children=(IntProgress(value=0, description='Batch', max=183, style=ProgressStyle(description_width='initi…"
      ]
     },
     "metadata": {},
     "output_type": "display_data"
    },
    {
     "name": "stdout",
     "output_type": "stream",
     "text": [
      "Epoch 809/1000 Iteration: 148100 Avg. Training loss: 5.7049 0.1357 sec/batch\n",
      "Epoch 809/1000 Iteration: 148200 Avg. Training loss: 5.7576 0.2549 sec/batch\n"
     ]
    },
    {
     "data": {
      "application/vnd.jupyter.widget-view+json": {
       "model_id": "",
       "version_major": 2,
       "version_minor": 0
      },
      "text/plain": [
       "HBox(children=(IntProgress(value=0, description='Batch', max=183, style=ProgressStyle(description_width='initi…"
      ]
     },
     "metadata": {},
     "output_type": "display_data"
    },
    {
     "name": "stdout",
     "output_type": "stream",
     "text": [
      "Epoch 810/1000 Iteration: 148300 Avg. Training loss: 5.7382 0.1784 sec/batch\n",
      "Epoch 810/1000 Iteration: 148400 Avg. Training loss: 5.7304 0.2555 sec/batch\n"
     ]
    },
    {
     "data": {
      "application/vnd.jupyter.widget-view+json": {
       "model_id": "",
       "version_major": 2,
       "version_minor": 0
      },
      "text/plain": [
       "HBox(children=(IntProgress(value=0, description='Batch', max=183, style=ProgressStyle(description_width='initi…"
      ]
     },
     "metadata": {},
     "output_type": "display_data"
    },
    {
     "name": "stdout",
     "output_type": "stream",
     "text": [
      "Epoch 811/1000 Iteration: 148500 Avg. Training loss: 5.6008 0.2240 sec/batch\n"
     ]
    },
    {
     "data": {
      "application/vnd.jupyter.widget-view+json": {
       "model_id": "",
       "version_major": 2,
       "version_minor": 0
      },
      "text/plain": [
       "HBox(children=(IntProgress(value=0, description='Batch', max=183, style=ProgressStyle(description_width='initi…"
      ]
     },
     "metadata": {},
     "output_type": "display_data"
    },
    {
     "name": "stdout",
     "output_type": "stream",
     "text": [
      "Epoch 812/1000 Iteration: 148600 Avg. Training loss: 5.7722 0.0103 sec/batch\n",
      "Epoch 812/1000 Iteration: 148700 Avg. Training loss: 5.6952 0.2567 sec/batch\n"
     ]
    },
    {
     "data": {
      "application/vnd.jupyter.widget-view+json": {
       "model_id": "",
       "version_major": 2,
       "version_minor": 0
      },
      "text/plain": [
       "HBox(children=(IntProgress(value=0, description='Batch', max=183, style=ProgressStyle(description_width='initi…"
      ]
     },
     "metadata": {},
     "output_type": "display_data"
    },
    {
     "name": "stdout",
     "output_type": "stream",
     "text": [
      "Epoch 813/1000 Iteration: 148800 Avg. Training loss: 5.5191 0.0543 sec/batch\n",
      "Epoch 813/1000 Iteration: 148900 Avg. Training loss: 5.8615 0.2561 sec/batch\n"
     ]
    },
    {
     "data": {
      "application/vnd.jupyter.widget-view+json": {
       "model_id": "",
       "version_major": 2,
       "version_minor": 0
      },
      "text/plain": [
       "HBox(children=(IntProgress(value=0, description='Batch', max=183, style=ProgressStyle(description_width='initi…"
      ]
     },
     "metadata": {},
     "output_type": "display_data"
    },
    {
     "name": "stdout",
     "output_type": "stream",
     "text": [
      "Epoch 814/1000 Iteration: 149000 Avg. Training loss: 5.9408 0.0974 sec/batch\n",
      "Nearest to ,: ., e, também, a, já, em, que, por,\n",
      "Nearest to de: também, em, a, com, e, ., que, do,\n",
      "Nearest to que: ainda, não, já, também, ., a, mas, apenas,\n",
      "Nearest to o: do, um, também, ainda, ., no, que, ao,\n",
      "Nearest to pessoas: menos, milhares, outras, elas, deles, delas, ao, que,\n",
      "Nearest to afirmou: disse, ressaltou, reafirmou, ainda, entanto, defendeu, questionado, acrescentou,\n",
      "Nearest to desde: passado, início, março, em, últimos, 0000, mesmo, julho,\n",
      "Nearest to ela: ele, que, dela, a, mas, uma, já, ainda,\n",
      "Nearest to bairro: bairros, cidade, oeste, entorno, periferia, morador, moradores, prédios,\n",
      "Nearest to ouro: medalha, prata, conquistou, londres-0000, bronze, ganhou, medalhas, conquista,\n",
      "Nearest to tomar: tomou, toma, tomará, tomarem, tomam, tomando, tomado, avaliar,\n",
      "Nearest to diferença: a, apenas, exatamente, mas, somente, que, independentemente, porém,\n",
      "Nearest to abrir: abriu, colocar, abrindo, ampliar, abrirá, fazer, ampliou, virar,\n",
      "Nearest to europeia: ue, reino, união, unido, europeu, brexit, bloco, europeus,\n",
      "Nearest to quarto: terceiro, primeiro, em, seu, mesmo, com, último, passado,\n",
      "Nearest to deverá: poderá, deve, irá, terá, deverão, vai, poderão, pode,\n",
      "Epoch 814/1000 Iteration: 149100 Avg. Training loss: 5.7774 0.2664 sec/batch\n"
     ]
    },
    {
     "data": {
      "application/vnd.jupyter.widget-view+json": {
       "model_id": "",
       "version_major": 2,
       "version_minor": 0
      },
      "text/plain": [
       "HBox(children=(IntProgress(value=0, description='Batch', max=183, style=ProgressStyle(description_width='initi…"
      ]
     },
     "metadata": {},
     "output_type": "display_data"
    },
    {
     "name": "stdout",
     "output_type": "stream",
     "text": [
      "Epoch 815/1000 Iteration: 149200 Avg. Training loss: 5.6150 0.1401 sec/batch\n",
      "Epoch 815/1000 Iteration: 149300 Avg. Training loss: 5.5871 0.2559 sec/batch\n"
     ]
    },
    {
     "data": {
      "application/vnd.jupyter.widget-view+json": {
       "model_id": "",
       "version_major": 2,
       "version_minor": 0
      },
      "text/plain": [
       "HBox(children=(IntProgress(value=0, description='Batch', max=183, style=ProgressStyle(description_width='initi…"
      ]
     },
     "metadata": {},
     "output_type": "display_data"
    },
    {
     "name": "stdout",
     "output_type": "stream",
     "text": [
      "Epoch 816/1000 Iteration: 149400 Avg. Training loss: 5.6841 0.1841 sec/batch\n",
      "Epoch 816/1000 Iteration: 149500 Avg. Training loss: 5.7723 0.2557 sec/batch\n"
     ]
    },
    {
     "data": {
      "application/vnd.jupyter.widget-view+json": {
       "model_id": "",
       "version_major": 2,
       "version_minor": 0
      },
      "text/plain": [
       "HBox(children=(IntProgress(value=0, description='Batch', max=183, style=ProgressStyle(description_width='initi…"
      ]
     },
     "metadata": {},
     "output_type": "display_data"
    },
    {
     "name": "stdout",
     "output_type": "stream",
     "text": [
      "Epoch 817/1000 Iteration: 149600 Avg. Training loss: 5.7540 0.2282 sec/batch\n"
     ]
    },
    {
     "data": {
      "application/vnd.jupyter.widget-view+json": {
       "model_id": "",
       "version_major": 2,
       "version_minor": 0
      },
      "text/plain": [
       "HBox(children=(IntProgress(value=0, description='Batch', max=183, style=ProgressStyle(description_width='initi…"
      ]
     },
     "metadata": {},
     "output_type": "display_data"
    },
    {
     "name": "stdout",
     "output_type": "stream",
     "text": [
      "Epoch 818/1000 Iteration: 149700 Avg. Training loss: 5.7370 0.0157 sec/batch\n",
      "Epoch 818/1000 Iteration: 149800 Avg. Training loss: 5.7575 0.2556 sec/batch\n"
     ]
    },
    {
     "data": {
      "application/vnd.jupyter.widget-view+json": {
       "model_id": "",
       "version_major": 2,
       "version_minor": 0
      },
      "text/plain": [
       "HBox(children=(IntProgress(value=0, description='Batch', max=183, style=ProgressStyle(description_width='initi…"
      ]
     },
     "metadata": {},
     "output_type": "display_data"
    },
    {
     "name": "stdout",
     "output_type": "stream",
     "text": [
      "Epoch 819/1000 Iteration: 149900 Avg. Training loss: 5.7494 0.0590 sec/batch\n",
      "Epoch 819/1000 Iteration: 150000 Avg. Training loss: 5.9195 0.2550 sec/batch\n",
      "Nearest to também: que, de, o, ainda, em, e, ., com,\n",
      "Nearest to disse: afirmou, acrescentando, dizendo, diz, afirma, falou, questionado, afirmando,\n",
      "Nearest to afirmou: disse, ressaltou, reafirmou, questionado, afirmando, falou, argumentou, confirmou,\n",
      "Nearest to ): (, 00, ., e, ,, nesta, 0, quinta,\n",
      "Nearest to (: ), 00, ., e, nesta, ,, quinta, 0,\n",
      "Nearest to ou: podem, isso, para, brasil, ., com, os, e,\n",
      "Nearest to estão: estariam, estavam, continuam, está, vêm, estivessem, há, ficam,\n",
      "Nearest to seu: próprio, ao, o, ele, do, agora, dele, pelo,\n",
      "Nearest to luz: manutenção, energia, linhas, cptm, afeta, claro, entorno, gerada,\n",
      "Nearest to francisco: papa, san, católica, católicos, missa, filho, padre, morato,\n",
      "Nearest to usuários: usuário, ferramenta, facebook, viciados, internet, cracolândia, aplicativo, snapchat,\n",
      "Nearest to números: estatísticas, dados, resultados, indicadores, divulgados, esperados, sinais, termos,\n",
      "Nearest to simples: é, porém, seja, já, ser, só, por, mas,\n",
      "Nearest to emprego: trabalho, empregos, desemprego, trabalhar, desempregados, formal, pessoal, crescimento,\n",
      "Nearest to henrique: cardoso, meirelles, fernando, tucanos, michel, psdb, itamar, vejo,\n",
      "Nearest to mortes: óbitos, anúncios, veja, missas, causadas, homicídios, acidentes, confirmadas,\n"
     ]
    },
    {
     "data": {
      "application/vnd.jupyter.widget-view+json": {
       "model_id": "",
       "version_major": 2,
       "version_minor": 0
      },
      "text/plain": [
       "HBox(children=(IntProgress(value=0, description='Batch', max=183, style=ProgressStyle(description_width='initi…"
      ]
     },
     "metadata": {},
     "output_type": "display_data"
    },
    {
     "name": "stdout",
     "output_type": "stream",
     "text": [
      "Epoch 820/1000 Iteration: 150100 Avg. Training loss: 5.7522 0.1018 sec/batch\n",
      "Epoch 820/1000 Iteration: 150200 Avg. Training loss: 5.9604 0.2562 sec/batch\n"
     ]
    },
    {
     "data": {
      "application/vnd.jupyter.widget-view+json": {
       "model_id": "",
       "version_major": 2,
       "version_minor": 0
      },
      "text/plain": [
       "HBox(children=(IntProgress(value=0, description='Batch', max=183, style=ProgressStyle(description_width='initi…"
      ]
     },
     "metadata": {},
     "output_type": "display_data"
    },
    {
     "name": "stdout",
     "output_type": "stream",
     "text": [
      "Epoch 821/1000 Iteration: 150300 Avg. Training loss: 5.7413 0.1458 sec/batch\n",
      "Epoch 821/1000 Iteration: 150400 Avg. Training loss: 5.8894 0.2557 sec/batch\n"
     ]
    },
    {
     "data": {
      "application/vnd.jupyter.widget-view+json": {
       "model_id": "",
       "version_major": 2,
       "version_minor": 0
      },
      "text/plain": [
       "HBox(children=(IntProgress(value=0, description='Batch', max=183, style=ProgressStyle(description_width='initi…"
      ]
     },
     "metadata": {},
     "output_type": "display_data"
    },
    {
     "name": "stdout",
     "output_type": "stream",
     "text": [
      "Epoch 822/1000 Iteration: 150500 Avg. Training loss: 5.7737 0.1892 sec/batch\n",
      "Epoch 822/1000 Iteration: 150600 Avg. Training loss: 5.6773 0.2560 sec/batch\n"
     ]
    },
    {
     "data": {
      "application/vnd.jupyter.widget-view+json": {
       "model_id": "",
       "version_major": 2,
       "version_minor": 0
      },
      "text/plain": [
       "HBox(children=(IntProgress(value=0, description='Batch', max=183, style=ProgressStyle(description_width='initi…"
      ]
     },
     "metadata": {},
     "output_type": "display_data"
    },
    {
     "name": "stdout",
     "output_type": "stream",
     "text": [
      "Epoch 823/1000 Iteration: 150700 Avg. Training loss: 5.6168 0.2329 sec/batch\n"
     ]
    },
    {
     "data": {
      "application/vnd.jupyter.widget-view+json": {
       "model_id": "",
       "version_major": 2,
       "version_minor": 0
      },
      "text/plain": [
       "HBox(children=(IntProgress(value=0, description='Batch', max=183, style=ProgressStyle(description_width='initi…"
      ]
     },
     "metadata": {},
     "output_type": "display_data"
    },
    {
     "name": "stdout",
     "output_type": "stream",
     "text": [
      "Epoch 824/1000 Iteration: 150800 Avg. Training loss: 5.8547 0.0207 sec/batch\n",
      "Epoch 824/1000 Iteration: 150900 Avg. Training loss: 5.7823 0.2560 sec/batch\n"
     ]
    },
    {
     "data": {
      "application/vnd.jupyter.widget-view+json": {
       "model_id": "",
       "version_major": 2,
       "version_minor": 0
      },
      "text/plain": [
       "HBox(children=(IntProgress(value=0, description='Batch', max=183, style=ProgressStyle(description_width='initi…"
      ]
     },
     "metadata": {},
     "output_type": "display_data"
    },
    {
     "name": "stdout",
     "output_type": "stream",
     "text": [
      "Epoch 825/1000 Iteration: 151000 Avg. Training loss: 5.7706 0.0643 sec/batch\n",
      "Nearest to como: e, ., também, exemplo, que, ,, já, de,\n",
      "Nearest to das: as, dessas, de, inclusive, nas, em, todas, também,\n",
      "Nearest to de: em, também, a, e, ., por, que, com,\n",
      "Nearest to pelo: o, também, por, do, em, qual, pela, .,\n",
      "Nearest to sobre: do, o, que, a, também, ainda, em, na,\n",
      "Nearest to afirmou: disse, ressaltou, ainda, reconheceu, confirmou, afirmando, fato, acrescentou,\n",
      "Nearest to do: o, ao, também, no, ainda, de, em, da,\n",
      "Nearest to 00: 0, até, em, de, neste, ., dia, (,\n",
      "Nearest to modo: que, assim, nesse, disso, um, ainda, vez, não,\n",
      "Nearest to militares: militar, soldados, policiais, armadas, exército, civis, oficiais, forças,\n",
      "Nearest to ambos: entre, dois, e, também, os, ,, além, outros,\n",
      "Nearest to conversa: conversas, conversar, diálogo, encontro, fala, falou, presidente, áudio,\n",
      "Nearest to luz: manutenção, medida, a, será, distribuição, diferentemente, trens, não,\n",
      "Nearest to negócio: empresa, negócios, ainda, mas, o, porém, outro, já,\n",
      "Nearest to santa: luzia, catarina, cruz, misericórdia, cecília, teresinha, córdoba, fe,\n",
      "Nearest to veio: após, depois, levou, logo, em, trouxe, fez, culminou,\n",
      "Epoch 825/1000 Iteration: 151100 Avg. Training loss: 5.6517 0.2655 sec/batch\n"
     ]
    },
    {
     "data": {
      "application/vnd.jupyter.widget-view+json": {
       "model_id": "",
       "version_major": 2,
       "version_minor": 0
      },
      "text/plain": [
       "HBox(children=(IntProgress(value=0, description='Batch', max=183, style=ProgressStyle(description_width='initi…"
      ]
     },
     "metadata": {},
     "output_type": "display_data"
    },
    {
     "name": "stdout",
     "output_type": "stream",
     "text": [
      "Epoch 826/1000 Iteration: 151200 Avg. Training loss: 5.6492 0.1075 sec/batch\n",
      "Epoch 826/1000 Iteration: 151300 Avg. Training loss: 5.6801 0.2554 sec/batch\n"
     ]
    },
    {
     "data": {
      "application/vnd.jupyter.widget-view+json": {
       "model_id": "",
       "version_major": 2,
       "version_minor": 0
      },
      "text/plain": [
       "HBox(children=(IntProgress(value=0, description='Batch', max=183, style=ProgressStyle(description_width='initi…"
      ]
     },
     "metadata": {},
     "output_type": "display_data"
    },
    {
     "name": "stdout",
     "output_type": "stream",
     "text": [
      "Epoch 827/1000 Iteration: 151400 Avg. Training loss: 5.8541 0.1503 sec/batch\n",
      "Epoch 827/1000 Iteration: 151500 Avg. Training loss: 5.7333 0.2556 sec/batch\n"
     ]
    },
    {
     "data": {
      "application/vnd.jupyter.widget-view+json": {
       "model_id": "",
       "version_major": 2,
       "version_minor": 0
      },
      "text/plain": [
       "HBox(children=(IntProgress(value=0, description='Batch', max=183, style=ProgressStyle(description_width='initi…"
      ]
     },
     "metadata": {},
     "output_type": "display_data"
    },
    {
     "name": "stdout",
     "output_type": "stream",
     "text": [
      "Epoch 828/1000 Iteration: 151600 Avg. Training loss: 5.8628 0.1953 sec/batch\n",
      "Epoch 828/1000 Iteration: 151700 Avg. Training loss: 5.7027 0.2550 sec/batch\n"
     ]
    },
    {
     "data": {
      "application/vnd.jupyter.widget-view+json": {
       "model_id": "",
       "version_major": 2,
       "version_minor": 0
      },
      "text/plain": [
       "HBox(children=(IntProgress(value=0, description='Batch', max=183, style=ProgressStyle(description_width='initi…"
      ]
     },
     "metadata": {},
     "output_type": "display_data"
    },
    {
     "name": "stdout",
     "output_type": "stream",
     "text": [
      "Epoch 829/1000 Iteration: 151800 Avg. Training loss: 5.7108 0.2379 sec/batch\n"
     ]
    },
    {
     "data": {
      "application/vnd.jupyter.widget-view+json": {
       "model_id": "",
       "version_major": 2,
       "version_minor": 0
      },
      "text/plain": [
       "HBox(children=(IntProgress(value=0, description='Batch', max=183, style=ProgressStyle(description_width='initi…"
      ]
     },
     "metadata": {},
     "output_type": "display_data"
    },
    {
     "name": "stdout",
     "output_type": "stream",
     "text": [
      "Epoch 830/1000 Iteration: 151900 Avg. Training loss: 5.5259 0.0259 sec/batch\n",
      "Epoch 830/1000 Iteration: 152000 Avg. Training loss: 5.8060 0.2557 sec/batch\n",
      "Nearest to ele: que, ainda, mas, não, qual, o, também, vez,\n",
      "Nearest to aos: os, por, tempo, graças, para, à, e, também,\n",
      "Nearest to ela: ele, que, mas, não, dela, uma, só, a,\n",
      "Nearest to :: ., exemplo, como, revela, sem, —, e, ?,\n",
      "Nearest to um: o, outro, esse, no, já, novo, num, .,\n",
      "Nearest to os: dos, outros, esses, alguns, também, todos, ., pelos,\n",
      "Nearest to segundo: deste, ainda, neste, o, entanto, primeiro, aponta, de,\n",
      "Nearest to uma: outra, a, na, essa, de, numa, à, dessa,\n",
      "Nearest to quarto: terceiro, primeiro, passado, em, atrás, no, período, colocado,\n",
      "Nearest to quero: posso, vou, vai, vamos, acredito, querer, interessa, vão,\n",
      "Nearest to queria: iria, poderia, quis, precisava, pensava, iriam, haveria, vai,\n",
      "Nearest to números: dados, estatísticas, resultados, divulgados, indicadores, positivos, balanços, esses,\n",
      "Nearest to globo: tv, record, televisão, emissora, audiência, novela, sbt, globosat,\n",
      "Nearest to livros: romances, literatura, editoras, história, didáticos, revistas, capítulo, escrever,\n",
      "Nearest to entrou: entrará, levou, após, entrar, alegando, no, aguarda, fez,\n",
      "Nearest to militares: militar, soldados, policiais, civis, oficiais, exército, armadas, tropas,\n"
     ]
    },
    {
     "data": {
      "application/vnd.jupyter.widget-view+json": {
       "model_id": "",
       "version_major": 2,
       "version_minor": 0
      },
      "text/plain": [
       "HBox(children=(IntProgress(value=0, description='Batch', max=183, style=ProgressStyle(description_width='initi…"
      ]
     },
     "metadata": {},
     "output_type": "display_data"
    },
    {
     "name": "stdout",
     "output_type": "stream",
     "text": [
      "Epoch 831/1000 Iteration: 152100 Avg. Training loss: 5.8083 0.0691 sec/batch\n",
      "Epoch 831/1000 Iteration: 152200 Avg. Training loss: 5.6830 0.2551 sec/batch\n"
     ]
    },
    {
     "data": {
      "application/vnd.jupyter.widget-view+json": {
       "model_id": "",
       "version_major": 2,
       "version_minor": 0
      },
      "text/plain": [
       "HBox(children=(IntProgress(value=0, description='Batch', max=183, style=ProgressStyle(description_width='initi…"
      ]
     },
     "metadata": {},
     "output_type": "display_data"
    },
    {
     "name": "stdout",
     "output_type": "stream",
     "text": [
      "Epoch 832/1000 Iteration: 152300 Avg. Training loss: 5.5081 0.1134 sec/batch\n",
      "Epoch 832/1000 Iteration: 152400 Avg. Training loss: 5.6998 0.2558 sec/batch\n"
     ]
    },
    {
     "data": {
      "application/vnd.jupyter.widget-view+json": {
       "model_id": "",
       "version_major": 2,
       "version_minor": 0
      },
      "text/plain": [
       "HBox(children=(IntProgress(value=0, description='Batch', max=183, style=ProgressStyle(description_width='initi…"
      ]
     },
     "metadata": {},
     "output_type": "display_data"
    },
    {
     "name": "stdout",
     "output_type": "stream",
     "text": [
      "Epoch 833/1000 Iteration: 152500 Avg. Training loss: 5.8090 0.1568 sec/batch\n",
      "Epoch 833/1000 Iteration: 152600 Avg. Training loss: 5.6402 0.2561 sec/batch\n"
     ]
    },
    {
     "data": {
      "application/vnd.jupyter.widget-view+json": {
       "model_id": "",
       "version_major": 2,
       "version_minor": 0
      },
      "text/plain": [
       "HBox(children=(IntProgress(value=0, description='Batch', max=183, style=ProgressStyle(description_width='initi…"
      ]
     },
     "metadata": {},
     "output_type": "display_data"
    },
    {
     "name": "stdout",
     "output_type": "stream",
     "text": [
      "Epoch 834/1000 Iteration: 152700 Avg. Training loss: 5.7252 0.2004 sec/batch\n",
      "Epoch 834/1000 Iteration: 152800 Avg. Training loss: 5.6952 0.2556 sec/batch\n"
     ]
    },
    {
     "data": {
      "application/vnd.jupyter.widget-view+json": {
       "model_id": "",
       "version_major": 2,
       "version_minor": 0
      },
      "text/plain": [
       "HBox(children=(IntProgress(value=0, description='Batch', max=183, style=ProgressStyle(description_width='initi…"
      ]
     },
     "metadata": {},
     "output_type": "display_data"
    },
    {
     "name": "stdout",
     "output_type": "stream",
     "text": [
      "Epoch 835/1000 Iteration: 152900 Avg. Training loss: 5.6667 0.2428 sec/batch\n"
     ]
    },
    {
     "data": {
      "application/vnd.jupyter.widget-view+json": {
       "model_id": "",
       "version_major": 2,
       "version_minor": 0
      },
      "text/plain": [
       "HBox(children=(IntProgress(value=0, description='Batch', max=183, style=ProgressStyle(description_width='initi…"
      ]
     },
     "metadata": {},
     "output_type": "display_data"
    },
    {
     "name": "stdout",
     "output_type": "stream",
     "text": [
      "Epoch 836/1000 Iteration: 153000 Avg. Training loss: 5.6637 0.0308 sec/batch\n",
      "Nearest to são: paulo, e, de, na, somente, em, ., também,\n",
      "Nearest to ser: pelo, foi, pois, será, sendo, não, sido, ele,\n",
      "Nearest to eu: vou, sei, meu, cheguei, comigo, acredito, tenho, porque,\n",
      "Nearest to nas: das, primeiras, as, suas, pelas, próximas, nessas, duas,\n",
      "Nearest to um: o, novo, ao, ., outro, já, apenas, em,\n",
      "Nearest to dia: fim, último, mês, até, neste, início, antes, deste,\n",
      "Nearest to sobre: o, do, também, em, que, a, ao, na,\n",
      "Nearest to %: 00,0, subiu, alta, recuo, 0,0, queda, caíram, caiu,\n",
      "Nearest to comercial: exterior, comércio, transações, balança, utilizado, dólar, fechamento, comerciais,\n",
      "Nearest to vice-presidente: presidente, vice, temer, presidência, assumir, assume, assumiria, cargo,\n",
      "Nearest to números: dados, resultados, estatísticas, divulgados, ano, positivos, apontam, indicadores,\n",
      "Nearest to ambos: os, também, entre, e, dois, disso, outro, eles,\n",
      "Nearest to leva: levam, cada, um, por, dá, pode, e, pelo,\n",
      "Nearest to chefe: ex-chefe, gabinete, afirmou, chefia, departamento, assumiu, comandou, recusou,\n",
      "Nearest to ouro: medalha, prata, conquistou, bronze, medalhas, londres-0000, medalhista, ganhou,\n",
      "Nearest to bairro: bairros, entorno, moradores, reduto, residencial, prédio, cidade, periferia,\n",
      "Epoch 836/1000 Iteration: 153100 Avg. Training loss: 5.8350 0.2662 sec/batch\n"
     ]
    },
    {
     "data": {
      "application/vnd.jupyter.widget-view+json": {
       "model_id": "",
       "version_major": 2,
       "version_minor": 0
      },
      "text/plain": [
       "HBox(children=(IntProgress(value=0, description='Batch', max=183, style=ProgressStyle(description_width='initi…"
      ]
     },
     "metadata": {},
     "output_type": "display_data"
    },
    {
     "name": "stdout",
     "output_type": "stream",
     "text": [
      "Epoch 837/1000 Iteration: 153200 Avg. Training loss: 5.7178 0.0742 sec/batch\n",
      "Epoch 837/1000 Iteration: 153300 Avg. Training loss: 5.7991 0.2558 sec/batch\n"
     ]
    },
    {
     "data": {
      "application/vnd.jupyter.widget-view+json": {
       "model_id": "",
       "version_major": 2,
       "version_minor": 0
      },
      "text/plain": [
       "HBox(children=(IntProgress(value=0, description='Batch', max=183, style=ProgressStyle(description_width='initi…"
      ]
     },
     "metadata": {},
     "output_type": "display_data"
    },
    {
     "name": "stdout",
     "output_type": "stream",
     "text": [
      "Epoch 838/1000 Iteration: 153400 Avg. Training loss: 5.7528 0.1181 sec/batch\n",
      "Epoch 838/1000 Iteration: 153500 Avg. Training loss: 5.7749 0.2548 sec/batch\n"
     ]
    },
    {
     "data": {
      "application/vnd.jupyter.widget-view+json": {
       "model_id": "",
       "version_major": 2,
       "version_minor": 0
      },
      "text/plain": [
       "HBox(children=(IntProgress(value=0, description='Batch', max=183, style=ProgressStyle(description_width='initi…"
      ]
     },
     "metadata": {},
     "output_type": "display_data"
    },
    {
     "name": "stdout",
     "output_type": "stream",
     "text": [
      "Epoch 839/1000 Iteration: 153600 Avg. Training loss: 5.5945 0.1617 sec/batch\n",
      "Epoch 839/1000 Iteration: 153700 Avg. Training loss: 5.6238 0.2560 sec/batch\n"
     ]
    },
    {
     "data": {
      "application/vnd.jupyter.widget-view+json": {
       "model_id": "",
       "version_major": 2,
       "version_minor": 0
      },
      "text/plain": [
       "HBox(children=(IntProgress(value=0, description='Batch', max=183, style=ProgressStyle(description_width='initi…"
      ]
     },
     "metadata": {},
     "output_type": "display_data"
    },
    {
     "name": "stdout",
     "output_type": "stream",
     "text": [
      "Epoch 840/1000 Iteration: 153800 Avg. Training loss: 5.6590 0.2042 sec/batch\n",
      "Epoch 840/1000 Iteration: 153900 Avg. Training loss: 5.9066 0.2559 sec/batch\n"
     ]
    },
    {
     "data": {
      "application/vnd.jupyter.widget-view+json": {
       "model_id": "",
       "version_major": 2,
       "version_minor": 0
      },
      "text/plain": [
       "HBox(children=(IntProgress(value=0, description='Batch', max=183, style=ProgressStyle(description_width='initi…"
      ]
     },
     "metadata": {},
     "output_type": "display_data"
    },
    {
     "name": "stdout",
     "output_type": "stream",
     "text": [
      "Epoch 841/1000 Iteration: 154000 Avg. Training loss: 5.5439 0.2478 sec/batch\n",
      "Nearest to por: e, também, de, que, em, ., ,, já,\n",
      "Nearest to das: as, dessas, nas, duas, inclusive, de, outras, essas,\n",
      "Nearest to era: seria, ele, fosse, tinha, foi, sabia, antes, que,\n",
      "Nearest to seu: próprio, o, do, ao, pelo, de, também, .,\n",
      "Nearest to afirmou: disse, ressaltou, reafirmou, defendeu, questionado, falou, reiterou, destacou,\n",
      "Nearest to depois: após, em, antes, só, começo, mas, início, ele,\n",
      "Nearest to disse: afirmou, dizendo, falou, acrescentando, muito, diz, acrescentou, ressaltou,\n",
      "Nearest to ser: foi, pelo, será, sido, pois, sendo, só, ele,\n",
      "Nearest to seguinte: dia, última, antes, meio, somente, sempre, na, começo,\n",
      "Nearest to globo: tv, emissora, sbt, televisão, audiência, canais, record, novela,\n",
      "Nearest to explica: diz, afirma, possível, assim, que, ela, observa, procura,\n",
      "Nearest to global: aquecimento, recente, china, climática, países, boom, notável, estagnação,\n",
      "Nearest to nossos: seus, mesmos, clientes, velhos, os, nossa, falamos, todos,\n",
      "Nearest to continuar: continuará, continua, vem, vinha, fazer, está, mas, continuou,\n",
      "Nearest to chefe: ex-chefe, afirmou, disse, chefia, departamento, gabinete, ressaltou, comandou,\n",
      "Nearest to esporte: esportes, esportiva, atleta, natação, modalidades, competições, modalidade, esportivas,\n"
     ]
    },
    {
     "data": {
      "application/vnd.jupyter.widget-view+json": {
       "model_id": "",
       "version_major": 2,
       "version_minor": 0
      },
      "text/plain": [
       "HBox(children=(IntProgress(value=0, description='Batch', max=183, style=ProgressStyle(description_width='initi…"
      ]
     },
     "metadata": {},
     "output_type": "display_data"
    },
    {
     "name": "stdout",
     "output_type": "stream",
     "text": [
      "Epoch 842/1000 Iteration: 154100 Avg. Training loss: 5.9416 0.0361 sec/batch\n",
      "Epoch 842/1000 Iteration: 154200 Avg. Training loss: 5.9222 0.2564 sec/batch\n"
     ]
    },
    {
     "data": {
      "application/vnd.jupyter.widget-view+json": {
       "model_id": "",
       "version_major": 2,
       "version_minor": 0
      },
      "text/plain": [
       "HBox(children=(IntProgress(value=0, description='Batch', max=183, style=ProgressStyle(description_width='initi…"
      ]
     },
     "metadata": {},
     "output_type": "display_data"
    },
    {
     "name": "stdout",
     "output_type": "stream",
     "text": [
      "Epoch 843/1000 Iteration: 154300 Avg. Training loss: 5.5683 0.0796 sec/batch\n",
      "Epoch 843/1000 Iteration: 154400 Avg. Training loss: 5.8173 0.2560 sec/batch\n"
     ]
    },
    {
     "data": {
      "application/vnd.jupyter.widget-view+json": {
       "model_id": "",
       "version_major": 2,
       "version_minor": 0
      },
      "text/plain": [
       "HBox(children=(IntProgress(value=0, description='Batch', max=183, style=ProgressStyle(description_width='initi…"
      ]
     },
     "metadata": {},
     "output_type": "display_data"
    },
    {
     "name": "stdout",
     "output_type": "stream",
     "text": [
      "Epoch 844/1000 Iteration: 154500 Avg. Training loss: 5.7499 0.1233 sec/batch\n",
      "Epoch 844/1000 Iteration: 154600 Avg. Training loss: 5.7124 0.2553 sec/batch\n"
     ]
    },
    {
     "data": {
      "application/vnd.jupyter.widget-view+json": {
       "model_id": "",
       "version_major": 2,
       "version_minor": 0
      },
      "text/plain": [
       "HBox(children=(IntProgress(value=0, description='Batch', max=183, style=ProgressStyle(description_width='initi…"
      ]
     },
     "metadata": {},
     "output_type": "display_data"
    },
    {
     "name": "stdout",
     "output_type": "stream",
     "text": [
      "Epoch 845/1000 Iteration: 154700 Avg. Training loss: 6.0486 0.1667 sec/batch\n",
      "Epoch 845/1000 Iteration: 154800 Avg. Training loss: 5.8277 0.2558 sec/batch\n"
     ]
    },
    {
     "data": {
      "application/vnd.jupyter.widget-view+json": {
       "model_id": "",
       "version_major": 2,
       "version_minor": 0
      },
      "text/plain": [
       "HBox(children=(IntProgress(value=0, description='Batch', max=183, style=ProgressStyle(description_width='initi…"
      ]
     },
     "metadata": {},
     "output_type": "display_data"
    },
    {
     "name": "stdout",
     "output_type": "stream",
     "text": [
      "Epoch 846/1000 Iteration: 154900 Avg. Training loss: 5.6230 0.2135 sec/batch\n",
      "Epoch 846/1000 Iteration: 155000 Avg. Training loss: 5.6461 0.2579 sec/batch\n",
      "Nearest to sobre: também, que, a, do, o, em, na, ainda,\n",
      "Nearest to parte: a, da, ainda, já, que, também, à, de,\n",
      "Nearest to ser: pelo, foi, será, pois, não, ainda, como, só,\n",
      "Nearest to mesmo: só, ainda, entanto, que, já, mas, apenas, até,\n",
      "Nearest to nesta: terça-feira, quarta-feira, segunda-feira, quinta-feira, terça, sexta-feira, quinta, quarta,\n",
      "Nearest to se: que, quem, ele, pois, mais, só, não, ela,\n",
      "Nearest to ,: ., e, de, também, que, o, em, do,\n",
      "Nearest to após: depois, levou, foi, antes, em, início, a, último,\n",
      "Nearest to recuperação: melhora, recuperar, judicial, retomada, depende, crescimento, impulsionar, manter,\n",
      "Nearest to década: meados, 0000, desde, anos, 0000-, passou, começo, últimos,\n",
      "Nearest to explica: diz, afirma, observa, inteiro, possível, procura, assim, .,\n",
      "Nearest to instituição: financeira, administração, instituições, pública, da, dessa, a, passou,\n",
      "Nearest to minas: gerais, pimentel, mineiro, espírito, mineira, goiás, rondônia, paraíba,\n",
      "Nearest to henrique: meirelles, cardoso, michel, fernando, tucanos, armínio, temer, fhc,\n",
      "Nearest to pf: deflagrada, operação, jato, polícia, lava, investigado, depoimento, zelotes,\n",
      "Nearest to comercial: exterior, comércio, utilizado, transações, balança, dólar, referência, fechamento,\n"
     ]
    },
    {
     "data": {
      "application/vnd.jupyter.widget-view+json": {
       "model_id": "",
       "version_major": 2,
       "version_minor": 0
      },
      "text/plain": [
       "HBox(children=(IntProgress(value=0, description='Batch', max=183, style=ProgressStyle(description_width='initi…"
      ]
     },
     "metadata": {},
     "output_type": "display_data"
    },
    {
     "name": "stdout",
     "output_type": "stream",
     "text": [
      "Epoch 847/1000 Iteration: 155100 Avg. Training loss: 5.9987 0.2542 sec/batch\n"
     ]
    },
    {
     "data": {
      "application/vnd.jupyter.widget-view+json": {
       "model_id": "",
       "version_major": 2,
       "version_minor": 0
      },
      "text/plain": [
       "HBox(children=(IntProgress(value=0, description='Batch', max=183, style=ProgressStyle(description_width='initi…"
      ]
     },
     "metadata": {},
     "output_type": "display_data"
    },
    {
     "name": "stdout",
     "output_type": "stream",
     "text": [
      "Epoch 848/1000 Iteration: 155200 Avg. Training loss: 5.9113 0.0414 sec/batch\n",
      "Epoch 848/1000 Iteration: 155300 Avg. Training loss: 5.6901 0.2554 sec/batch\n"
     ]
    },
    {
     "data": {
      "application/vnd.jupyter.widget-view+json": {
       "model_id": "",
       "version_major": 2,
       "version_minor": 0
      },
      "text/plain": [
       "HBox(children=(IntProgress(value=0, description='Batch', max=183, style=ProgressStyle(description_width='initi…"
      ]
     },
     "metadata": {},
     "output_type": "display_data"
    },
    {
     "name": "stdout",
     "output_type": "stream",
     "text": [
      "Epoch 849/1000 Iteration: 155400 Avg. Training loss: 5.7204 0.0848 sec/batch\n",
      "Epoch 849/1000 Iteration: 155500 Avg. Training loss: 5.7183 0.2565 sec/batch\n"
     ]
    },
    {
     "data": {
      "application/vnd.jupyter.widget-view+json": {
       "model_id": "",
       "version_major": 2,
       "version_minor": 0
      },
      "text/plain": [
       "HBox(children=(IntProgress(value=0, description='Batch', max=183, style=ProgressStyle(description_width='initi…"
      ]
     },
     "metadata": {},
     "output_type": "display_data"
    },
    {
     "name": "stdout",
     "output_type": "stream",
     "text": [
      "Epoch 850/1000 Iteration: 155600 Avg. Training loss: 5.6300 0.1283 sec/batch\n",
      "Epoch 850/1000 Iteration: 155700 Avg. Training loss: 5.4624 0.2564 sec/batch\n"
     ]
    },
    {
     "data": {
      "application/vnd.jupyter.widget-view+json": {
       "model_id": "",
       "version_major": 2,
       "version_minor": 0
      },
      "text/plain": [
       "HBox(children=(IntProgress(value=0, description='Batch', max=183, style=ProgressStyle(description_width='initi…"
      ]
     },
     "metadata": {},
     "output_type": "display_data"
    },
    {
     "name": "stdout",
     "output_type": "stream",
     "text": [
      "Epoch 851/1000 Iteration: 155800 Avg. Training loss: 5.7266 0.1714 sec/batch\n",
      "Epoch 851/1000 Iteration: 155900 Avg. Training loss: 5.8277 0.2564 sec/batch\n"
     ]
    },
    {
     "data": {
      "application/vnd.jupyter.widget-view+json": {
       "model_id": "",
       "version_major": 2,
       "version_minor": 0
      },
      "text/plain": [
       "HBox(children=(IntProgress(value=0, description='Batch', max=183, style=ProgressStyle(description_width='initi…"
      ]
     },
     "metadata": {},
     "output_type": "display_data"
    },
    {
     "name": "stdout",
     "output_type": "stream",
     "text": [
      "Epoch 852/1000 Iteration: 156000 Avg. Training loss: 5.7004 0.2154 sec/batch\n",
      "Nearest to ou: podem, isso, participação, para, brasil, com, os, sejam,\n",
      "Nearest to muito: bastante, mas, porque, tão, mais, pouco, diferente, bem,\n",
      "Nearest to (: ), 00, ., ,, quinta, nesta, e, quinta-feira,\n",
      "Nearest to presidente: presidentes, presidência, então, rousseff, dilma, governo, ex-presidente, ,,\n",
      "Nearest to pela: a, pelo, na, em, ., foi, vez, ainda,\n",
      "Nearest to .: ,, e, que, o, de, no, a, em,\n",
      "Nearest to pelo: o, também, ., do, por, qual, em, pela,\n",
      "Nearest to se: pois, que, quem, ele, mais, não, ainda, mesmo,\n",
      "Nearest to estratégia: tentar, tentativa, ideia, a, entanto, contudo, objetivo, ajudará,\n",
      "Nearest to mínimo: salário, valor, máximo, dobro, terço, terá, custo, maior,\n",
      "Nearest to investidores: ativos, estrangeiros, mercado, mercados, investidor, cautela, otimismo, volatilidade,\n",
      "Nearest to esporte: esportes, esportiva, natação, modalidades, atleta, competições, esportistas, esportivas,\n",
      "Nearest to referência: usado, utilizado, o, vista, início, do, de, principal,\n",
      "Nearest to luz: linhas, energia, escuridão, solar, elétrica, entre, metrô, eletricidade,\n",
      "Nearest to unidades: considerando, inaugurou, terço, unidade, de, anterior, leitos, 00,0,\n",
      "Nearest to simples: ser, é, já, somente, como, inclusive, foi, bastante,\n"
     ]
    },
    {
     "data": {
      "application/vnd.jupyter.widget-view+json": {
       "model_id": "",
       "version_major": 2,
       "version_minor": 0
      },
      "text/plain": [
       "HBox(children=(IntProgress(value=0, description='Batch', max=183, style=ProgressStyle(description_width='initi…"
      ]
     },
     "metadata": {},
     "output_type": "display_data"
    },
    {
     "name": "stdout",
     "output_type": "stream",
     "text": [
      "Epoch 853/1000 Iteration: 156100 Avg. Training loss: 5.5574 0.0029 sec/batch\n",
      "Epoch 853/1000 Iteration: 156200 Avg. Training loss: 5.7072 0.2556 sec/batch\n"
     ]
    },
    {
     "data": {
      "application/vnd.jupyter.widget-view+json": {
       "model_id": "",
       "version_major": 2,
       "version_minor": 0
      },
      "text/plain": [
       "HBox(children=(IntProgress(value=0, description='Batch', max=183, style=ProgressStyle(description_width='initi…"
      ]
     },
     "metadata": {},
     "output_type": "display_data"
    },
    {
     "name": "stdout",
     "output_type": "stream",
     "text": [
      "Epoch 854/1000 Iteration: 156300 Avg. Training loss: 5.5680 0.0462 sec/batch\n",
      "Epoch 854/1000 Iteration: 156400 Avg. Training loss: 5.8069 0.2598 sec/batch\n"
     ]
    },
    {
     "data": {
      "application/vnd.jupyter.widget-view+json": {
       "model_id": "",
       "version_major": 2,
       "version_minor": 0
      },
      "text/plain": [
       "HBox(children=(IntProgress(value=0, description='Batch', max=183, style=ProgressStyle(description_width='initi…"
      ]
     },
     "metadata": {},
     "output_type": "display_data"
    },
    {
     "name": "stdout",
     "output_type": "stream",
     "text": [
      "Epoch 855/1000 Iteration: 156500 Avg. Training loss: 5.7600 0.0905 sec/batch\n",
      "Epoch 855/1000 Iteration: 156600 Avg. Training loss: 5.7049 0.2576 sec/batch\n"
     ]
    },
    {
     "data": {
      "application/vnd.jupyter.widget-view+json": {
       "model_id": "",
       "version_major": 2,
       "version_minor": 0
      },
      "text/plain": [
       "HBox(children=(IntProgress(value=0, description='Batch', max=183, style=ProgressStyle(description_width='initi…"
      ]
     },
     "metadata": {},
     "output_type": "display_data"
    },
    {
     "name": "stdout",
     "output_type": "stream",
     "text": [
      "Epoch 856/1000 Iteration: 156700 Avg. Training loss: 5.7502 0.1335 sec/batch\n",
      "Epoch 856/1000 Iteration: 156800 Avg. Training loss: 5.8442 0.2551 sec/batch\n"
     ]
    },
    {
     "data": {
      "application/vnd.jupyter.widget-view+json": {
       "model_id": "",
       "version_major": 2,
       "version_minor": 0
      },
      "text/plain": [
       "HBox(children=(IntProgress(value=0, description='Batch', max=183, style=ProgressStyle(description_width='initi…"
      ]
     },
     "metadata": {},
     "output_type": "display_data"
    },
    {
     "name": "stdout",
     "output_type": "stream",
     "text": [
      "Epoch 857/1000 Iteration: 156900 Avg. Training loss: 5.6630 0.1769 sec/batch\n",
      "Epoch 857/1000 Iteration: 157000 Avg. Training loss: 5.7216 0.2559 sec/batch\n",
      "Nearest to ainda: que, porém, entanto, mas, já, apenas, mesmo, também,\n",
      "Nearest to ,: ., e, que, também, de, em, já, a,\n",
      "Nearest to mesmo: ainda, apenas, já, até, mas, que, só, entanto,\n",
      "Nearest to o: do, um, que, também, ainda, ., no, já,\n",
      "Nearest to 00: 0, de, com, em, neste, apenas, ., na,\n",
      "Nearest to era: fazia, tinha, fosse, ele, foi, antes, dele, que,\n",
      "Nearest to não: que, mas, só, ainda, pois, porque, fato, é,\n",
      "Nearest to %: 00,0, 0,0, subiu, caíram, 0,00, recuo, alta, comparação,\n",
      "Nearest to democracia: golpe, manifestação, (), retrocesso, ,, governabilidade, entretanto, respeito,\n",
      "Nearest to filmes: filme, cinema, cineasta, cineastas, exibição, longa-metragem, longas, longa,\n",
      "Nearest to deverá: deve, poderá, vai, terá, irá, ainda, ficará, possa,\n",
      "Nearest to mar: mediterrâneo, oceano, barco, embarcações, travessia, alto-mar, naufrágio, atlântico,\n",
      "Nearest to minas: gerais, pimentel, mineiro, ceará, espírito, ministério, goiás, mineira,\n",
      "Nearest to números: estatísticas, dados, resultados, divulgados, apontam, indicadores, recentes, registros,\n",
      "Nearest to continuar: continuará, vem, continua, disso, continuarem, vinha, que, mas,\n",
      "Nearest to estádio: torcedores, itaquerão, arena, arquibancadas, partida, engenhão, jogo, torcida,\n"
     ]
    },
    {
     "data": {
      "application/vnd.jupyter.widget-view+json": {
       "model_id": "",
       "version_major": 2,
       "version_minor": 0
      },
      "text/plain": [
       "HBox(children=(IntProgress(value=0, description='Batch', max=183, style=ProgressStyle(description_width='initi…"
      ]
     },
     "metadata": {},
     "output_type": "display_data"
    },
    {
     "name": "stdout",
     "output_type": "stream",
     "text": [
      "Epoch 858/1000 Iteration: 157100 Avg. Training loss: 5.7061 0.2202 sec/batch\n"
     ]
    },
    {
     "data": {
      "application/vnd.jupyter.widget-view+json": {
       "model_id": "",
       "version_major": 2,
       "version_minor": 0
      },
      "text/plain": [
       "HBox(children=(IntProgress(value=0, description='Batch', max=183, style=ProgressStyle(description_width='initi…"
      ]
     },
     "metadata": {},
     "output_type": "display_data"
    },
    {
     "name": "stdout",
     "output_type": "stream",
     "text": [
      "Epoch 859/1000 Iteration: 157200 Avg. Training loss: 5.6761 0.0079 sec/batch\n",
      "Epoch 859/1000 Iteration: 157300 Avg. Training loss: 5.8491 0.2555 sec/batch\n"
     ]
    },
    {
     "data": {
      "application/vnd.jupyter.widget-view+json": {
       "model_id": "",
       "version_major": 2,
       "version_minor": 0
      },
      "text/plain": [
       "HBox(children=(IntProgress(value=0, description='Batch', max=183, style=ProgressStyle(description_width='initi…"
      ]
     },
     "metadata": {},
     "output_type": "display_data"
    },
    {
     "name": "stdout",
     "output_type": "stream",
     "text": [
      "Epoch 860/1000 Iteration: 157400 Avg. Training loss: 5.7444 0.0518 sec/batch\n",
      "Epoch 860/1000 Iteration: 157500 Avg. Training loss: 5.7180 0.2563 sec/batch\n"
     ]
    },
    {
     "data": {
      "application/vnd.jupyter.widget-view+json": {
       "model_id": "",
       "version_major": 2,
       "version_minor": 0
      },
      "text/plain": [
       "HBox(children=(IntProgress(value=0, description='Batch', max=183, style=ProgressStyle(description_width='initi…"
      ]
     },
     "metadata": {},
     "output_type": "display_data"
    },
    {
     "name": "stdout",
     "output_type": "stream",
     "text": [
      "Epoch 861/1000 Iteration: 157600 Avg. Training loss: 5.6375 0.0945 sec/batch\n",
      "Epoch 861/1000 Iteration: 157700 Avg. Training loss: 5.8793 0.2568 sec/batch\n"
     ]
    },
    {
     "data": {
      "application/vnd.jupyter.widget-view+json": {
       "model_id": "",
       "version_major": 2,
       "version_minor": 0
      },
      "text/plain": [
       "HBox(children=(IntProgress(value=0, description='Batch', max=183, style=ProgressStyle(description_width='initi…"
      ]
     },
     "metadata": {},
     "output_type": "display_data"
    },
    {
     "name": "stdout",
     "output_type": "stream",
     "text": [
      "Epoch 862/1000 Iteration: 157800 Avg. Training loss: 5.5441 0.1383 sec/batch\n",
      "Epoch 862/1000 Iteration: 157900 Avg. Training loss: 5.6402 0.2567 sec/batch\n"
     ]
    },
    {
     "data": {
      "application/vnd.jupyter.widget-view+json": {
       "model_id": "",
       "version_major": 2,
       "version_minor": 0
      },
      "text/plain": [
       "HBox(children=(IntProgress(value=0, description='Batch', max=183, style=ProgressStyle(description_width='initi…"
      ]
     },
     "metadata": {},
     "output_type": "display_data"
    },
    {
     "name": "stdout",
     "output_type": "stream",
     "text": [
      "Epoch 863/1000 Iteration: 158000 Avg. Training loss: 5.8311 0.1822 sec/batch\n",
      "Nearest to ): (, ., ,, 00, e, o, nesta, do,\n",
      "Nearest to uma: a, outra, essa, dessa, de, em, à, na,\n",
      "Nearest to ,: ., e, que, também, em, já, de, o,\n",
      "Nearest to disse: afirmou, dizendo, acrescentando, falou, ressaltou, diz, afirma, afirmando,\n",
      "Nearest to país: que, em, o, ainda, mas, menos, de, maior,\n",
      "Nearest to depois: após, antes, só, início, em, já, logo, desde,\n",
      "Nearest to quando: até, ., começo, vez, que, ele, só, já,\n",
      "Nearest to é: ainda, mas, não, tem, para, pois, que, só,\n",
      "Nearest to entrou: levou, entrará, após, depende, entrar, pedido, alegando, na,\n",
      "Nearest to tomar: toma, tomadas, tomou, tomado, tomam, tomará, avaliar, chegar,\n",
      "Nearest to veio: trouxe, após, depois, em, logo, levou, deu, deram,\n",
      "Nearest to aliados: peemedebista, aliado, aliada, parlamentares, governo, congressistas, deputados, interlocutores,\n",
      "Nearest to global: aquecimento, climática, china, globalização, países, g00, recente, globais,\n",
      "Nearest to continuar: continua, vem, continuará, está, mas, disso, continuarem, fazer,\n",
      "Nearest to internacionais: nacionais, eua, internacional, do, país, além, estados, estrangeiros,\n",
      "Nearest to discussão: tema, questão, mudança, uma, proposta, discutindo, assunto, dessa,\n",
      "Epoch 863/1000 Iteration: 158100 Avg. Training loss: 6.1449 0.2670 sec/batch\n"
     ]
    },
    {
     "data": {
      "application/vnd.jupyter.widget-view+json": {
       "model_id": "",
       "version_major": 2,
       "version_minor": 0
      },
      "text/plain": [
       "HBox(children=(IntProgress(value=0, description='Batch', max=183, style=ProgressStyle(description_width='initi…"
      ]
     },
     "metadata": {},
     "output_type": "display_data"
    },
    {
     "name": "stdout",
     "output_type": "stream",
     "text": [
      "Epoch 864/1000 Iteration: 158200 Avg. Training loss: 5.8038 0.2252 sec/batch\n"
     ]
    },
    {
     "data": {
      "application/vnd.jupyter.widget-view+json": {
       "model_id": "",
       "version_major": 2,
       "version_minor": 0
      },
      "text/plain": [
       "HBox(children=(IntProgress(value=0, description='Batch', max=183, style=ProgressStyle(description_width='initi…"
      ]
     },
     "metadata": {},
     "output_type": "display_data"
    },
    {
     "name": "stdout",
     "output_type": "stream",
     "text": [
      "Epoch 865/1000 Iteration: 158300 Avg. Training loss: 5.9854 0.0132 sec/batch\n",
      "Epoch 865/1000 Iteration: 158400 Avg. Training loss: 5.6390 0.2566 sec/batch\n"
     ]
    },
    {
     "data": {
      "application/vnd.jupyter.widget-view+json": {
       "model_id": "",
       "version_major": 2,
       "version_minor": 0
      },
      "text/plain": [
       "HBox(children=(IntProgress(value=0, description='Batch', max=183, style=ProgressStyle(description_width='initi…"
      ]
     },
     "metadata": {},
     "output_type": "display_data"
    },
    {
     "name": "stdout",
     "output_type": "stream",
     "text": [
      "Epoch 866/1000 Iteration: 158500 Avg. Training loss: 6.0108 0.0569 sec/batch\n",
      "Epoch 866/1000 Iteration: 158600 Avg. Training loss: 5.9585 0.2567 sec/batch\n"
     ]
    },
    {
     "data": {
      "application/vnd.jupyter.widget-view+json": {
       "model_id": "",
       "version_major": 2,
       "version_minor": 0
      },
      "text/plain": [
       "HBox(children=(IntProgress(value=0, description='Batch', max=183, style=ProgressStyle(description_width='initi…"
      ]
     },
     "metadata": {},
     "output_type": "display_data"
    },
    {
     "name": "stdout",
     "output_type": "stream",
     "text": [
      "Epoch 867/1000 Iteration: 158700 Avg. Training loss: 5.6912 0.0997 sec/batch\n",
      "Epoch 867/1000 Iteration: 158800 Avg. Training loss: 5.6955 0.2563 sec/batch\n"
     ]
    },
    {
     "data": {
      "application/vnd.jupyter.widget-view+json": {
       "model_id": "",
       "version_major": 2,
       "version_minor": 0
      },
      "text/plain": [
       "HBox(children=(IntProgress(value=0, description='Batch', max=183, style=ProgressStyle(description_width='initi…"
      ]
     },
     "metadata": {},
     "output_type": "display_data"
    },
    {
     "name": "stdout",
     "output_type": "stream",
     "text": [
      "Epoch 868/1000 Iteration: 158900 Avg. Training loss: 5.7120 0.1438 sec/batch\n",
      "Epoch 868/1000 Iteration: 159000 Avg. Training loss: 5.6955 0.2549 sec/batch\n",
      "Nearest to afirmou: ressaltou, disse, reafirmou, ainda, afirmando, defendeu, reconheceu, acrescentou,\n",
      "Nearest to seus: outros, dos, os, próprios, alguns, dois, nos, todos,\n",
      "Nearest to 0: 00, sexta, quarta, sexta-feira, domingo, sábado, segunda-feira, segunda,\n",
      "Nearest to seu: próprio, o, ele, ao, do, um, pelo, dele,\n",
      "Nearest to anos: meses, oito, depois, últimos, cinco, três, já, até,\n",
      "Nearest to ser: pelo, sendo, foi, será, sido, pois, como, só,\n",
      "Nearest to após: depois, em, última, levou, antes, voltou, a, teve,\n",
      "Nearest to pela: a, da, pelo, na, foi, ., em, vez,\n",
      "Nearest to encontrar: buscar, entender, investir, juntar, trazer, dar, boa, mostrar,\n",
      "Nearest to discussão: tema, mudança, questão, uma, proposta, discutir, pauta, discutindo,\n",
      "Nearest to queria: iria, poderia, pensava, iriam, quis, vai, vão, conseguiria,\n",
      "Nearest to comercial: exterior, transações, comércio, balança, utilizado, dólar, comerciais, fechou,\n",
      "Nearest to entrou: levou, após, entrará, depende, saiu, deu, entrar, aguarda,\n",
      "Nearest to mínimo: salário, máximo, maior, valor, terço, terá, cinco, equivalente,\n",
      "Nearest to profissionais: por, professores, profissional, médicos, qualificados, qualificação, tempo, aprendizado,\n",
      "Nearest to garantir: assegurar, manter, garantindo, reforçar, melhorar, necessária, defender, aumentar,\n"
     ]
    },
    {
     "data": {
      "application/vnd.jupyter.widget-view+json": {
       "model_id": "",
       "version_major": 2,
       "version_minor": 0
      },
      "text/plain": [
       "HBox(children=(IntProgress(value=0, description='Batch', max=183, style=ProgressStyle(description_width='initi…"
      ]
     },
     "metadata": {},
     "output_type": "display_data"
    },
    {
     "name": "stdout",
     "output_type": "stream",
     "text": [
      "Epoch 869/1000 Iteration: 159100 Avg. Training loss: 5.7706 0.1874 sec/batch\n",
      "Epoch 869/1000 Iteration: 159200 Avg. Training loss: 5.7194 0.2553 sec/batch\n"
     ]
    },
    {
     "data": {
      "application/vnd.jupyter.widget-view+json": {
       "model_id": "",
       "version_major": 2,
       "version_minor": 0
      },
      "text/plain": [
       "HBox(children=(IntProgress(value=0, description='Batch', max=183, style=ProgressStyle(description_width='initi…"
      ]
     },
     "metadata": {},
     "output_type": "display_data"
    },
    {
     "name": "stdout",
     "output_type": "stream",
     "text": [
      "Epoch 870/1000 Iteration: 159300 Avg. Training loss: 5.8693 0.2311 sec/batch\n"
     ]
    },
    {
     "data": {
      "application/vnd.jupyter.widget-view+json": {
       "model_id": "",
       "version_major": 2,
       "version_minor": 0
      },
      "text/plain": [
       "HBox(children=(IntProgress(value=0, description='Batch', max=183, style=ProgressStyle(description_width='initi…"
      ]
     },
     "metadata": {},
     "output_type": "display_data"
    },
    {
     "name": "stdout",
     "output_type": "stream",
     "text": [
      "Epoch 871/1000 Iteration: 159400 Avg. Training loss: 5.7769 0.0178 sec/batch\n",
      "Epoch 871/1000 Iteration: 159500 Avg. Training loss: 5.9472 0.2560 sec/batch\n"
     ]
    },
    {
     "data": {
      "application/vnd.jupyter.widget-view+json": {
       "model_id": "",
       "version_major": 2,
       "version_minor": 0
      },
      "text/plain": [
       "HBox(children=(IntProgress(value=0, description='Batch', max=183, style=ProgressStyle(description_width='initi…"
      ]
     },
     "metadata": {},
     "output_type": "display_data"
    },
    {
     "name": "stdout",
     "output_type": "stream",
     "text": [
      "Epoch 872/1000 Iteration: 159600 Avg. Training loss: 5.7698 0.0619 sec/batch\n",
      "Epoch 872/1000 Iteration: 159700 Avg. Training loss: 5.6518 0.2564 sec/batch\n"
     ]
    },
    {
     "data": {
      "application/vnd.jupyter.widget-view+json": {
       "model_id": "",
       "version_major": 2,
       "version_minor": 0
      },
      "text/plain": [
       "HBox(children=(IntProgress(value=0, description='Batch', max=183, style=ProgressStyle(description_width='initi…"
      ]
     },
     "metadata": {},
     "output_type": "display_data"
    },
    {
     "name": "stdout",
     "output_type": "stream",
     "text": [
      "Epoch 873/1000 Iteration: 159800 Avg. Training loss: 5.6971 0.1055 sec/batch\n",
      "Epoch 873/1000 Iteration: 159900 Avg. Training loss: 5.6042 0.2541 sec/batch\n"
     ]
    },
    {
     "data": {
      "application/vnd.jupyter.widget-view+json": {
       "model_id": "",
       "version_major": 2,
       "version_minor": 0
      },
      "text/plain": [
       "HBox(children=(IntProgress(value=0, description='Batch', max=183, style=ProgressStyle(description_width='initi…"
      ]
     },
     "metadata": {},
     "output_type": "display_data"
    },
    {
     "name": "stdout",
     "output_type": "stream",
     "text": [
      "Epoch 874/1000 Iteration: 160000 Avg. Training loss: 5.5929 0.1479 sec/batch\n",
      "Nearest to tem: têm, é, só, tendo, de, mesmo, parte, feito,\n",
      "Nearest to :: ., como, exemplo, ?, e, ), revela, ,,\n",
      "Nearest to seu: próprio, o, ele, do, ao, dele, pelo, agora,\n",
      "Nearest to no: ., o, em, do, ainda, neste, último, na,\n",
      "Nearest to foram: serem, serão, estavam, seriam, quais, forem, estão, ainda,\n",
      "Nearest to estão: estavam, estariam, continuam, está, já, ficam, vêm, deles,\n",
      "Nearest to anos: meses, últimos, oito, depois, cinco, 0000, três, nos,\n",
      "Nearest to também: e, em, de, que, com, ., ,, já,\n",
      "Nearest to comunicação: secom, civil, comunicações, interlocução, informação, secretaria, mídia, publicidade,\n",
      "Nearest to operações: financeiras, meio, financeira, em, levaram, pagamento, de, atuação,\n",
      "Nearest to francisco: papa, católicos, pontífice, estuda, católica, espera, filho, durante,\n",
      "Nearest to números: estatísticas, dados, resultados, divulgados, indicadores, apontam, análise, cada,\n",
      "Nearest to mortes: óbitos, veja, anúncios, acidentes, causadas, ocorrências, missas, homicídios,\n",
      "Nearest to globo: tv, televisão, audiência, emissora, sbt, canais, record, novela,\n",
      "Nearest to artista: plástico, artistas, fotografias, plástica, exposição, mural, pinturas, mostra,\n",
      "Nearest to deverá: deve, poderá, irá, terá, vai, deverão, ficará, devem,\n",
      "Epoch 874/1000 Iteration: 160100 Avg. Training loss: 5.9626 0.2676 sec/batch\n"
     ]
    },
    {
     "data": {
      "application/vnd.jupyter.widget-view+json": {
       "model_id": "",
       "version_major": 2,
       "version_minor": 0
      },
      "text/plain": [
       "HBox(children=(IntProgress(value=0, description='Batch', max=183, style=ProgressStyle(description_width='initi…"
      ]
     },
     "metadata": {},
     "output_type": "display_data"
    },
    {
     "name": "stdout",
     "output_type": "stream",
     "text": [
      "Epoch 875/1000 Iteration: 160200 Avg. Training loss: 5.5947 0.1927 sec/batch\n",
      "Epoch 875/1000 Iteration: 160300 Avg. Training loss: 5.7243 0.2562 sec/batch\n"
     ]
    },
    {
     "data": {
      "application/vnd.jupyter.widget-view+json": {
       "model_id": "",
       "version_major": 2,
       "version_minor": 0
      },
      "text/plain": [
       "HBox(children=(IntProgress(value=0, description='Batch', max=183, style=ProgressStyle(description_width='initi…"
      ]
     },
     "metadata": {},
     "output_type": "display_data"
    },
    {
     "name": "stdout",
     "output_type": "stream",
     "text": [
      "Epoch 876/1000 Iteration: 160400 Avg. Training loss: 5.7425 0.2348 sec/batch\n"
     ]
    },
    {
     "data": {
      "application/vnd.jupyter.widget-view+json": {
       "model_id": "",
       "version_major": 2,
       "version_minor": 0
      },
      "text/plain": [
       "HBox(children=(IntProgress(value=0, description='Batch', max=183, style=ProgressStyle(description_width='initi…"
      ]
     },
     "metadata": {},
     "output_type": "display_data"
    },
    {
     "name": "stdout",
     "output_type": "stream",
     "text": [
      "Epoch 877/1000 Iteration: 160500 Avg. Training loss: 5.8071 0.0232 sec/batch\n",
      "Epoch 877/1000 Iteration: 160600 Avg. Training loss: 5.7330 0.2558 sec/batch\n"
     ]
    },
    {
     "data": {
      "application/vnd.jupyter.widget-view+json": {
       "model_id": "",
       "version_major": 2,
       "version_minor": 0
      },
      "text/plain": [
       "HBox(children=(IntProgress(value=0, description='Batch', max=183, style=ProgressStyle(description_width='initi…"
      ]
     },
     "metadata": {},
     "output_type": "display_data"
    },
    {
     "name": "stdout",
     "output_type": "stream",
     "text": [
      "Epoch 878/1000 Iteration: 160700 Avg. Training loss: 5.7972 0.0667 sec/batch\n",
      "Epoch 878/1000 Iteration: 160800 Avg. Training loss: 5.6256 0.2566 sec/batch\n"
     ]
    },
    {
     "data": {
      "application/vnd.jupyter.widget-view+json": {
       "model_id": "",
       "version_major": 2,
       "version_minor": 0
      },
      "text/plain": [
       "HBox(children=(IntProgress(value=0, description='Batch', max=183, style=ProgressStyle(description_width='initi…"
      ]
     },
     "metadata": {},
     "output_type": "display_data"
    },
    {
     "name": "stdout",
     "output_type": "stream",
     "text": [
      "Epoch 879/1000 Iteration: 160900 Avg. Training loss: 5.6052 0.1107 sec/batch\n",
      "Epoch 879/1000 Iteration: 161000 Avg. Training loss: 5.7323 0.2550 sec/batch\n",
      "Nearest to paulo: são, paulista, de, sp, em, e, morumbi, psdb,\n",
      "Nearest to até: só, ., mesmo, agora, que, quando, mas, menos,\n",
      "Nearest to uma: a, outra, na, à, dessa, parte, de, da,\n",
      "Nearest to que: ainda, não, ., ele, também, mas, a, o,\n",
      "Nearest to 000: 00, mil, r$, 0.000, cerca, dobro, 0, mais,\n",
      "Nearest to milhões: milhão, mil, cerca, aproximadamente, 0,0, bilhão, pagou, 000,0,\n",
      "Nearest to com: e, também, em, de, ., além, ainda, ,,\n",
      "Nearest to anos: meses, últimos, oito, 0000, cinco, três, depois, nos,\n",
      "Nearest to militares: militar, policiais, soldados, armadas, exército, oficiais, tropas, civis,\n",
      "Nearest to previsão: expectativa, esperada, prevista, previsto, deve, ocorrer, preveem, ocorra,\n",
      "Nearest to seguinte: dia, coordenação, última, junho, terça, sempre, ontem, antes,\n",
      "Nearest to comercial: exterior, transações, comércio, utilizado, fechou, comerciais, dólar, balança,\n",
      "Nearest to diferença: mesmo, entanto, a, porém, segundo, somente, mas, apenas,\n",
      "Nearest to data: fim, antes, início, outubro, esta, ocorrer, marcada, última,\n",
      "Nearest to provas: prova, evidências, acusações, alegações, obtidas, investigação, finais, denúncia,\n",
      "Nearest to europeia: ue, união, reino, unido, juncker, europeu, europa, brexit,\n"
     ]
    },
    {
     "data": {
      "application/vnd.jupyter.widget-view+json": {
       "model_id": "",
       "version_major": 2,
       "version_minor": 0
      },
      "text/plain": [
       "HBox(children=(IntProgress(value=0, description='Batch', max=183, style=ProgressStyle(description_width='initi…"
      ]
     },
     "metadata": {},
     "output_type": "display_data"
    },
    {
     "name": "stdout",
     "output_type": "stream",
     "text": [
      "Epoch 880/1000 Iteration: 161100 Avg. Training loss: 5.7694 0.1536 sec/batch\n",
      "Epoch 880/1000 Iteration: 161200 Avg. Training loss: 5.7876 0.2565 sec/batch\n"
     ]
    },
    {
     "data": {
      "application/vnd.jupyter.widget-view+json": {
       "model_id": "",
       "version_major": 2,
       "version_minor": 0
      },
      "text/plain": [
       "HBox(children=(IntProgress(value=0, description='Batch', max=183, style=ProgressStyle(description_width='initi…"
      ]
     },
     "metadata": {},
     "output_type": "display_data"
    },
    {
     "name": "stdout",
     "output_type": "stream",
     "text": [
      "Epoch 881/1000 Iteration: 161300 Avg. Training loss: 5.8552 0.1975 sec/batch\n",
      "Epoch 881/1000 Iteration: 161400 Avg. Training loss: 5.7940 0.2552 sec/batch\n"
     ]
    },
    {
     "data": {
      "application/vnd.jupyter.widget-view+json": {
       "model_id": "",
       "version_major": 2,
       "version_minor": 0
      },
      "text/plain": [
       "HBox(children=(IntProgress(value=0, description='Batch', max=183, style=ProgressStyle(description_width='initi…"
      ]
     },
     "metadata": {},
     "output_type": "display_data"
    },
    {
     "name": "stdout",
     "output_type": "stream",
     "text": [
      "Epoch 882/1000 Iteration: 161500 Avg. Training loss: 5.6751 0.2415 sec/batch\n"
     ]
    },
    {
     "data": {
      "application/vnd.jupyter.widget-view+json": {
       "model_id": "",
       "version_major": 2,
       "version_minor": 0
      },
      "text/plain": [
       "HBox(children=(IntProgress(value=0, description='Batch', max=183, style=ProgressStyle(description_width='initi…"
      ]
     },
     "metadata": {},
     "output_type": "display_data"
    },
    {
     "name": "stdout",
     "output_type": "stream",
     "text": [
      "Epoch 883/1000 Iteration: 161600 Avg. Training loss: 5.8553 0.0281 sec/batch\n",
      "Epoch 883/1000 Iteration: 161700 Avg. Training loss: 5.7975 0.2559 sec/batch\n"
     ]
    },
    {
     "data": {
      "application/vnd.jupyter.widget-view+json": {
       "model_id": "",
       "version_major": 2,
       "version_minor": 0
      },
      "text/plain": [
       "HBox(children=(IntProgress(value=0, description='Batch', max=183, style=ProgressStyle(description_width='initi…"
      ]
     },
     "metadata": {},
     "output_type": "display_data"
    },
    {
     "name": "stdout",
     "output_type": "stream",
     "text": [
      "Epoch 884/1000 Iteration: 161800 Avg. Training loss: 5.6096 0.0716 sec/batch\n",
      "Epoch 884/1000 Iteration: 161900 Avg. Training loss: 5.7057 0.2556 sec/batch\n"
     ]
    },
    {
     "data": {
      "application/vnd.jupyter.widget-view+json": {
       "model_id": "",
       "version_major": 2,
       "version_minor": 0
      },
      "text/plain": [
       "HBox(children=(IntProgress(value=0, description='Batch', max=183, style=ProgressStyle(description_width='initi…"
      ]
     },
     "metadata": {},
     "output_type": "display_data"
    },
    {
     "name": "stdout",
     "output_type": "stream",
     "text": [
      "Epoch 885/1000 Iteration: 162000 Avg. Training loss: 5.6675 0.1154 sec/batch\n",
      "Nearest to 00: 0, neste, em, até, ., no, de, na,\n",
      "Nearest to pessoas: menos, milhares, total, ao, mil, outras, delas, jovens,\n",
      "Nearest to ): (, 00, ., nesta, quinta, e, 0, quinta-feira,\n",
      "Nearest to seus: os, próprios, outros, dos, todos, esses, novos, nos,\n",
      "Nearest to anos: últimos, meses, oito, dois, nos, desde, cinco, três,\n",
      "Nearest to parte: que, a, à, ainda, apesar, da, porém, já,\n",
      "Nearest to um: o, outro, que, ao, do, ., também, já,\n",
      "Nearest to ter: tenha, teria, tendo, terem, havia, sido, tem, teriam,\n",
      "Nearest to esporte: esportes, atleta, natação, modalidades, esportiva, futebol, clube, competir,\n",
      "Nearest to internacionais: eua, nacionais, internacional, do, dos, país, fora, em,\n",
      "Nearest to desempenho: resultado, fraco, maior, apesar, esperado, melhora, consecutivo, negativo,\n",
      "Nearest to aliados: parlamentares, peemedebista, aliado, aliada, governo, oposição, deputados, partidários,\n",
      "Nearest to financiamento: financiar, privado, viabilizar, financiamentos, bancar, caixa, governo, campanhas,\n",
      "Nearest to previsão: expectativa, prevista, esperada, ocorrer, deve, preveem, haverá, previsto,\n",
      "Nearest to explica: diz, afirma, assim, responsável, possível, procura, observa, conta,\n",
      "Nearest to escreveu: ,, sim, ], dúvida, fim, próprio, seu, .,\n",
      "Epoch 885/1000 Iteration: 162100 Avg. Training loss: 5.5913 0.2671 sec/batch\n"
     ]
    },
    {
     "data": {
      "application/vnd.jupyter.widget-view+json": {
       "model_id": "",
       "version_major": 2,
       "version_minor": 0
      },
      "text/plain": [
       "HBox(children=(IntProgress(value=0, description='Batch', max=183, style=ProgressStyle(description_width='initi…"
      ]
     },
     "metadata": {},
     "output_type": "display_data"
    },
    {
     "name": "stdout",
     "output_type": "stream",
     "text": [
      "Epoch 886/1000 Iteration: 162200 Avg. Training loss: 5.7924 0.1589 sec/batch\n",
      "Epoch 886/1000 Iteration: 162300 Avg. Training loss: 5.6587 0.2566 sec/batch\n"
     ]
    },
    {
     "data": {
      "application/vnd.jupyter.widget-view+json": {
       "model_id": "",
       "version_major": 2,
       "version_minor": 0
      },
      "text/plain": [
       "HBox(children=(IntProgress(value=0, description='Batch', max=183, style=ProgressStyle(description_width='initi…"
      ]
     },
     "metadata": {},
     "output_type": "display_data"
    },
    {
     "name": "stdout",
     "output_type": "stream",
     "text": [
      "Epoch 887/1000 Iteration: 162400 Avg. Training loss: 5.6465 0.2024 sec/batch\n",
      "Epoch 887/1000 Iteration: 162500 Avg. Training loss: 5.9421 0.2574 sec/batch\n"
     ]
    },
    {
     "data": {
      "application/vnd.jupyter.widget-view+json": {
       "model_id": "",
       "version_major": 2,
       "version_minor": 0
      },
      "text/plain": [
       "HBox(children=(IntProgress(value=0, description='Batch', max=183, style=ProgressStyle(description_width='initi…"
      ]
     },
     "metadata": {},
     "output_type": "display_data"
    },
    {
     "name": "stdout",
     "output_type": "stream",
     "text": [
      "Epoch 888/1000 Iteration: 162600 Avg. Training loss: 5.6141 0.2469 sec/batch\n"
     ]
    },
    {
     "data": {
      "application/vnd.jupyter.widget-view+json": {
       "model_id": "",
       "version_major": 2,
       "version_minor": 0
      },
      "text/plain": [
       "HBox(children=(IntProgress(value=0, description='Batch', max=183, style=ProgressStyle(description_width='initi…"
      ]
     },
     "metadata": {},
     "output_type": "display_data"
    },
    {
     "name": "stdout",
     "output_type": "stream",
     "text": [
      "Epoch 889/1000 Iteration: 162700 Avg. Training loss: 5.6785 0.0336 sec/batch\n",
      "Epoch 889/1000 Iteration: 162800 Avg. Training loss: 5.6883 0.2569 sec/batch\n"
     ]
    },
    {
     "data": {
      "application/vnd.jupyter.widget-view+json": {
       "model_id": "",
       "version_major": 2,
       "version_minor": 0
      },
      "text/plain": [
       "HBox(children=(IntProgress(value=0, description='Batch', max=183, style=ProgressStyle(description_width='initi…"
      ]
     },
     "metadata": {},
     "output_type": "display_data"
    },
    {
     "name": "stdout",
     "output_type": "stream",
     "text": [
      "Epoch 890/1000 Iteration: 162900 Avg. Training loss: 5.6733 0.0767 sec/batch\n",
      "Epoch 890/1000 Iteration: 163000 Avg. Training loss: 5.6531 0.2557 sec/batch\n",
      "Nearest to está: continua, vem, estava, estar, estaria, já, esteja, mas,\n",
      "Nearest to fazer: só, começar, ir, mas, levar, é, tem, voltar,\n",
      "Nearest to dia: mês, até, último, fim, início, neste, antes, deste,\n",
      "Nearest to à: a, de, parte, que, também, uma, na, da,\n",
      "Nearest to diz: afirma, conta, mas, ., que, ,, lembra, agora,\n",
      "Nearest to eu: meu, comigo, sei, vou, me, acredito, cheguei, porque,\n",
      "Nearest to também: que, com, de, e, em, ., além, já,\n",
      "Nearest to nos: últimos, em, outros, dos, dois, nesses, todos, de,\n",
      "Nearest to modo: que, assim, nesse, vez, ., um, o, disso,\n",
      "Nearest to desempenho: resultado, fraco, maior, apesar, consecutivo, recuo, entanto, melhora,\n",
      "Nearest to conseguir: consiga, conseguiu, ganhar, ajudar, tentar, precisa, obter, passar,\n",
      "Nearest to filha: mãe, avó, mulher, menina, marido, ela, família, dela,\n",
      "Nearest to veio: uma, depois, logo, de, levou, após, trouxe, em,\n",
      "Nearest to investidores: mercados, ativos, mercado, estrangeiros, investidor, volatilidade, cautela, liquidez,\n",
      "Nearest to globo: tv, televisão, record, audiência, emissora, sbt, novela, novelas,\n",
      "Nearest to quarto: terceiro, primeiro, último, colocado, em, quinto, atrás, novamente,\n"
     ]
    },
    {
     "data": {
      "application/vnd.jupyter.widget-view+json": {
       "model_id": "",
       "version_major": 2,
       "version_minor": 0
      },
      "text/plain": [
       "HBox(children=(IntProgress(value=0, description='Batch', max=183, style=ProgressStyle(description_width='initi…"
      ]
     },
     "metadata": {},
     "output_type": "display_data"
    },
    {
     "name": "stdout",
     "output_type": "stream",
     "text": [
      "Epoch 891/1000 Iteration: 163100 Avg. Training loss: 5.7600 0.1204 sec/batch\n",
      "Epoch 891/1000 Iteration: 163200 Avg. Training loss: 5.8161 0.2593 sec/batch\n"
     ]
    },
    {
     "data": {
      "application/vnd.jupyter.widget-view+json": {
       "model_id": "",
       "version_major": 2,
       "version_minor": 0
      },
      "text/plain": [
       "HBox(children=(IntProgress(value=0, description='Batch', max=183, style=ProgressStyle(description_width='initi…"
      ]
     },
     "metadata": {},
     "output_type": "display_data"
    },
    {
     "name": "stdout",
     "output_type": "stream",
     "text": [
      "Epoch 892/1000 Iteration: 163300 Avg. Training loss: 5.7223 0.1647 sec/batch\n",
      "Epoch 892/1000 Iteration: 163400 Avg. Training loss: 5.6015 0.2582 sec/batch\n"
     ]
    },
    {
     "data": {
      "application/vnd.jupyter.widget-view+json": {
       "model_id": "",
       "version_major": 2,
       "version_minor": 0
      },
      "text/plain": [
       "HBox(children=(IntProgress(value=0, description='Batch', max=183, style=ProgressStyle(description_width='initi…"
      ]
     },
     "metadata": {},
     "output_type": "display_data"
    },
    {
     "name": "stdout",
     "output_type": "stream",
     "text": [
      "Epoch 893/1000 Iteration: 163500 Avg. Training loss: 5.9133 0.2076 sec/batch\n",
      "Epoch 893/1000 Iteration: 163600 Avg. Training loss: 5.6907 0.2554 sec/batch\n"
     ]
    },
    {
     "data": {
      "application/vnd.jupyter.widget-view+json": {
       "model_id": "",
       "version_major": 2,
       "version_minor": 0
      },
      "text/plain": [
       "HBox(children=(IntProgress(value=0, description='Batch', max=183, style=ProgressStyle(description_width='initi…"
      ]
     },
     "metadata": {},
     "output_type": "display_data"
    },
    {
     "name": "stdout",
     "output_type": "stream",
     "text": [
      "Epoch 894/1000 Iteration: 163700 Avg. Training loss: 5.6912 0.2525 sec/batch\n"
     ]
    },
    {
     "data": {
      "application/vnd.jupyter.widget-view+json": {
       "model_id": "",
       "version_major": 2,
       "version_minor": 0
      },
      "text/plain": [
       "HBox(children=(IntProgress(value=0, description='Batch', max=183, style=ProgressStyle(description_width='initi…"
      ]
     },
     "metadata": {},
     "output_type": "display_data"
    },
    {
     "name": "stdout",
     "output_type": "stream",
     "text": [
      "Epoch 895/1000 Iteration: 163800 Avg. Training loss: 5.7884 0.0386 sec/batch\n",
      "Epoch 895/1000 Iteration: 163900 Avg. Training loss: 5.6035 0.2565 sec/batch\n"
     ]
    },
    {
     "data": {
      "application/vnd.jupyter.widget-view+json": {
       "model_id": "",
       "version_major": 2,
       "version_minor": 0
      },
      "text/plain": [
       "HBox(children=(IntProgress(value=0, description='Batch', max=183, style=ProgressStyle(description_width='initi…"
      ]
     },
     "metadata": {},
     "output_type": "display_data"
    },
    {
     "name": "stdout",
     "output_type": "stream",
     "text": [
      "Epoch 896/1000 Iteration: 164000 Avg. Training loss: 5.7805 0.0834 sec/batch\n",
      "Nearest to estão: estavam, estariam, continuam, está, ficam, seguem, deles, há,\n",
      "Nearest to é: só, não, tem, mas, ainda, pode, qual, afinal,\n",
      "Nearest to governo: oposição, entanto, parte, agora, país, aliados, aprovação, ressaltou,\n",
      "Nearest to sobre: do, também, o, em, na, a, de, ainda,\n",
      "Nearest to milhões: milhão, mil, 0,0, cerca, 00,0, aproximadamente, 000,0, bilhões,\n",
      "Nearest to por: e, ., também, que, ,, já, com, de,\n",
      "Nearest to aos: pouco, os, por, e, com, tempo, para, ,,\n",
      "Nearest to :: como, ., e, exemplo, sem, revela, cinco, ,,\n",
      "Nearest to participar: entrar, esta, fazer, envolver, trabalhar, durante, participado, não,\n",
      "Nearest to ouro: medalha, prata, londres-0000, bronze, medalhas, conquistou, medalhista, ganhou,\n",
      "Nearest to recuperação: melhora, judicial, recuperar, retomada, ainda, depende, mostrando, entanto,\n",
      "Nearest to conseguir: ganhar, conseguiu, consiga, ajudar, tentar, obter, precisa, manter,\n",
      "Nearest to profissionais: qualificados, qualificação, profissional, professores, por, desafio, melhores, inclusive,\n",
      "Nearest to minas: gerais, pimentel, mineiro, espírito, bahia, mg, tocantins, goiás,\n",
      "Nearest to emprego: empregos, trabalho, desemprego, desempregados, crescimento, trabalhar, piora, encerrado,\n",
      "Nearest to recente: novo, setembro, em, incluiu, abril, à, já, último,\n",
      "Epoch 896/1000 Iteration: 164100 Avg. Training loss: 5.8123 0.2663 sec/batch\n"
     ]
    },
    {
     "data": {
      "application/vnd.jupyter.widget-view+json": {
       "model_id": "",
       "version_major": 2,
       "version_minor": 0
      },
      "text/plain": [
       "HBox(children=(IntProgress(value=0, description='Batch', max=183, style=ProgressStyle(description_width='initi…"
      ]
     },
     "metadata": {},
     "output_type": "display_data"
    },
    {
     "name": "stdout",
     "output_type": "stream",
     "text": [
      "Epoch 897/1000 Iteration: 164200 Avg. Training loss: 5.6768 0.1255 sec/batch\n",
      "Epoch 897/1000 Iteration: 164300 Avg. Training loss: 5.6313 0.2560 sec/batch\n"
     ]
    },
    {
     "data": {
      "application/vnd.jupyter.widget-view+json": {
       "model_id": "",
       "version_major": 2,
       "version_minor": 0
      },
      "text/plain": [
       "HBox(children=(IntProgress(value=0, description='Batch', max=183, style=ProgressStyle(description_width='initi…"
      ]
     },
     "metadata": {},
     "output_type": "display_data"
    },
    {
     "name": "stdout",
     "output_type": "stream",
     "text": [
      "Epoch 898/1000 Iteration: 164400 Avg. Training loss: 5.5848 0.1694 sec/batch\n",
      "Epoch 898/1000 Iteration: 164500 Avg. Training loss: 5.7567 0.2562 sec/batch\n"
     ]
    },
    {
     "data": {
      "application/vnd.jupyter.widget-view+json": {
       "model_id": "",
       "version_major": 2,
       "version_minor": 0
      },
      "text/plain": [
       "HBox(children=(IntProgress(value=0, description='Batch', max=183, style=ProgressStyle(description_width='initi…"
      ]
     },
     "metadata": {},
     "output_type": "display_data"
    },
    {
     "name": "stdout",
     "output_type": "stream",
     "text": [
      "Epoch 899/1000 Iteration: 164600 Avg. Training loss: 5.8008 0.2128 sec/batch\n",
      "Epoch 899/1000 Iteration: 164700 Avg. Training loss: 5.7753 0.2549 sec/batch\n"
     ]
    },
    {
     "data": {
      "application/vnd.jupyter.widget-view+json": {
       "model_id": "",
       "version_major": 2,
       "version_minor": 0
      },
      "text/plain": [
       "HBox(children=(IntProgress(value=0, description='Batch', max=183, style=ProgressStyle(description_width='initi…"
      ]
     },
     "metadata": {},
     "output_type": "display_data"
    },
    {
     "name": "stdout",
     "output_type": "stream",
     "text": [
      "Epoch 900/1000 Iteration: 164800 Avg. Training loss: 5.9284 0.2557 sec/batch\n"
     ]
    },
    {
     "data": {
      "application/vnd.jupyter.widget-view+json": {
       "model_id": "",
       "version_major": 2,
       "version_minor": 0
      },
      "text/plain": [
       "HBox(children=(IntProgress(value=0, description='Batch', max=183, style=ProgressStyle(description_width='initi…"
      ]
     },
     "metadata": {},
     "output_type": "display_data"
    },
    {
     "name": "stdout",
     "output_type": "stream",
     "text": [
      "Epoch 901/1000 Iteration: 164900 Avg. Training loss: 5.8474 0.0436 sec/batch\n",
      "Epoch 901/1000 Iteration: 165000 Avg. Training loss: 5.7987 0.2557 sec/batch\n",
      "Nearest to pelo: o, por, também, já, ., qual, que, ser,\n",
      "Nearest to 0: 00, domingo, sábado, sexta-feira, segunda, quarta, quarta-feira, neste,\n",
      "Nearest to contra: de, neste, em, à, ., sem, na, apenas,\n",
      "Nearest to às: hoje, dia, domingo, sexta, volta, sábado, quando, das,\n",
      "Nearest to muito: mas, porque, bastante, ainda, pouco, tão, mais, nada,\n",
      "Nearest to ainda: porém, mas, que, entanto, já, o, também, mesmo,\n",
      "Nearest to .: ,, que, a, e, também, de, o, já,\n",
      "Nearest to sem: apenas, de, ., menos, e, a, ainda, dá,\n",
      "Nearest to garantir: assegurar, manter, garantindo, necessária, preservar, dar, reforçar, essencial,\n",
      "Nearest to global: climática, aquecimento, países, recente, fracasso, cop00, commodities, globais,\n",
      "Nearest to lima: vieira, argumentou, abreu, faria, boa, priorizar, absolutamente, anular,\n",
      "Nearest to seguinte: dia, última, antes, começo, reportagem, coordenação, final, deste,\n",
      "Nearest to santa: catarina, luzia, cecília, cruz, misericórdia, fe, desfalcado, fé,\n",
      "Nearest to filha: mãe, família, mulher, avó, menina, anos, ela, marido,\n",
      "Nearest to diferença: segundo, mesmo, exatamente, entanto, margem, ainda, mas, porém,\n",
      "Nearest to pretende: vai, quer, decidiu, irá, tentar, vão, planeja, objetivo,\n"
     ]
    },
    {
     "data": {
      "application/vnd.jupyter.widget-view+json": {
       "model_id": "",
       "version_major": 2,
       "version_minor": 0
      },
      "text/plain": [
       "HBox(children=(IntProgress(value=0, description='Batch', max=183, style=ProgressStyle(description_width='initi…"
      ]
     },
     "metadata": {},
     "output_type": "display_data"
    },
    {
     "name": "stdout",
     "output_type": "stream",
     "text": [
      "Epoch 902/1000 Iteration: 165100 Avg. Training loss: 5.5548 0.0877 sec/batch\n",
      "Epoch 902/1000 Iteration: 165200 Avg. Training loss: 5.7964 0.2561 sec/batch\n"
     ]
    },
    {
     "data": {
      "application/vnd.jupyter.widget-view+json": {
       "model_id": "",
       "version_major": 2,
       "version_minor": 0
      },
      "text/plain": [
       "HBox(children=(IntProgress(value=0, description='Batch', max=183, style=ProgressStyle(description_width='initi…"
      ]
     },
     "metadata": {},
     "output_type": "display_data"
    },
    {
     "name": "stdout",
     "output_type": "stream",
     "text": [
      "Epoch 903/1000 Iteration: 165300 Avg. Training loss: 5.8802 0.1304 sec/batch\n",
      "Epoch 903/1000 Iteration: 165400 Avg. Training loss: 5.9393 0.2561 sec/batch\n"
     ]
    },
    {
     "data": {
      "application/vnd.jupyter.widget-view+json": {
       "model_id": "",
       "version_major": 2,
       "version_minor": 0
      },
      "text/plain": [
       "HBox(children=(IntProgress(value=0, description='Batch', max=183, style=ProgressStyle(description_width='initi…"
      ]
     },
     "metadata": {},
     "output_type": "display_data"
    },
    {
     "name": "stdout",
     "output_type": "stream",
     "text": [
      "Epoch 904/1000 Iteration: 165500 Avg. Training loss: 5.7239 0.1731 sec/batch\n",
      "Epoch 904/1000 Iteration: 165600 Avg. Training loss: 5.6086 0.2560 sec/batch\n"
     ]
    },
    {
     "data": {
      "application/vnd.jupyter.widget-view+json": {
       "model_id": "",
       "version_major": 2,
       "version_minor": 0
      },
      "text/plain": [
       "HBox(children=(IntProgress(value=0, description='Batch', max=183, style=ProgressStyle(description_width='initi…"
      ]
     },
     "metadata": {},
     "output_type": "display_data"
    },
    {
     "name": "stdout",
     "output_type": "stream",
     "text": [
      "Epoch 905/1000 Iteration: 165700 Avg. Training loss: 5.9288 0.2178 sec/batch\n"
     ]
    },
    {
     "data": {
      "application/vnd.jupyter.widget-view+json": {
       "model_id": "",
       "version_major": 2,
       "version_minor": 0
      },
      "text/plain": [
       "HBox(children=(IntProgress(value=0, description='Batch', max=183, style=ProgressStyle(description_width='initi…"
      ]
     },
     "metadata": {},
     "output_type": "display_data"
    },
    {
     "name": "stdout",
     "output_type": "stream",
     "text": [
      "Epoch 906/1000 Iteration: 165800 Avg. Training loss: 5.8438 0.0054 sec/batch\n",
      "Epoch 906/1000 Iteration: 165900 Avg. Training loss: 5.8192 0.2548 sec/batch\n"
     ]
    },
    {
     "data": {
      "application/vnd.jupyter.widget-view+json": {
       "model_id": "",
       "version_major": 2,
       "version_minor": 0
      },
      "text/plain": [
       "HBox(children=(IntProgress(value=0, description='Batch', max=183, style=ProgressStyle(description_width='initi…"
      ]
     },
     "metadata": {},
     "output_type": "display_data"
    },
    {
     "name": "stdout",
     "output_type": "stream",
     "text": [
      "Epoch 907/1000 Iteration: 166000 Avg. Training loss: 5.7981 0.0488 sec/batch\n",
      "Nearest to após: depois, em, início, no, última, antes, último, levou,\n",
      "Nearest to ): (, 00, ., e, ,, 0, nesta, quarta,\n",
      "Nearest to sobre: o, do, ainda, também, na, que, ressaltou, a,\n",
      "Nearest to quando: até, ., vez, que, começo, em, antes, só,\n",
      "Nearest to desde: início, passado, em, ainda, março, julho, até, abril,\n",
      "Nearest to em: de, ., também, na, ,, a, apenas, já,\n",
      "Nearest to pelo: o, ., também, por, que, qual, do, já,\n",
      "Nearest to entre: também, de, em, outros, que, ainda, especialmente, com,\n",
      "Nearest to lima: abreu, vieira, geddel, faria, priorizar, pernambuco, substituir, revelando,\n",
      "Nearest to estudos: pesquisas, pesquisadores, estudo, viabilidade, científicos, análise, instituto, levantados,\n",
      "Nearest to nossos: seus, mesmos, clientes, os, achamos, envolvidos, entendemos, infelizmente,\n",
      "Nearest to somente: apenas, só, mesmo, ainda, de, tendo, tem, que,\n",
      "Nearest to recente: último, novo, a, à, setembro, maior, que, abril,\n",
      "Nearest to democracia: golpe, manifestação, (), democrático, governabilidade, respeito, constitui, fracasso,\n",
      "Nearest to ambos: e, também, os, entre, ,, por, deles, eles,\n",
      "Nearest to tal: é, que, mas, dessa, poderia, ideia, essa, a,\n",
      "Epoch 907/1000 Iteration: 166100 Avg. Training loss: 5.8879 0.2673 sec/batch\n"
     ]
    },
    {
     "data": {
      "application/vnd.jupyter.widget-view+json": {
       "model_id": "",
       "version_major": 2,
       "version_minor": 0
      },
      "text/plain": [
       "HBox(children=(IntProgress(value=0, description='Batch', max=183, style=ProgressStyle(description_width='initi…"
      ]
     },
     "metadata": {},
     "output_type": "display_data"
    },
    {
     "name": "stdout",
     "output_type": "stream",
     "text": [
      "Epoch 908/1000 Iteration: 166200 Avg. Training loss: 5.9060 0.0931 sec/batch\n",
      "Epoch 908/1000 Iteration: 166300 Avg. Training loss: 5.9441 0.2555 sec/batch\n"
     ]
    },
    {
     "data": {
      "application/vnd.jupyter.widget-view+json": {
       "model_id": "",
       "version_major": 2,
       "version_minor": 0
      },
      "text/plain": [
       "HBox(children=(IntProgress(value=0, description='Batch', max=183, style=ProgressStyle(description_width='initi…"
      ]
     },
     "metadata": {},
     "output_type": "display_data"
    },
    {
     "name": "stdout",
     "output_type": "stream",
     "text": [
      "Epoch 909/1000 Iteration: 166400 Avg. Training loss: 5.8728 0.1361 sec/batch\n",
      "Epoch 909/1000 Iteration: 166500 Avg. Training loss: 5.8867 0.2552 sec/batch\n"
     ]
    },
    {
     "data": {
      "application/vnd.jupyter.widget-view+json": {
       "model_id": "",
       "version_major": 2,
       "version_minor": 0
      },
      "text/plain": [
       "HBox(children=(IntProgress(value=0, description='Batch', max=183, style=ProgressStyle(description_width='initi…"
      ]
     },
     "metadata": {},
     "output_type": "display_data"
    },
    {
     "name": "stdout",
     "output_type": "stream",
     "text": [
      "Epoch 910/1000 Iteration: 166600 Avg. Training loss: 5.7255 0.1803 sec/batch\n",
      "Epoch 910/1000 Iteration: 166700 Avg. Training loss: 5.9559 0.2558 sec/batch\n"
     ]
    },
    {
     "data": {
      "application/vnd.jupyter.widget-view+json": {
       "model_id": "",
       "version_major": 2,
       "version_minor": 0
      },
      "text/plain": [
       "HBox(children=(IntProgress(value=0, description='Batch', max=183, style=ProgressStyle(description_width='initi…"
      ]
     },
     "metadata": {},
     "output_type": "display_data"
    },
    {
     "name": "stdout",
     "output_type": "stream",
     "text": [
      "Epoch 911/1000 Iteration: 166800 Avg. Training loss: 5.7473 0.2220 sec/batch\n"
     ]
    },
    {
     "data": {
      "application/vnd.jupyter.widget-view+json": {
       "model_id": "",
       "version_major": 2,
       "version_minor": 0
      },
      "text/plain": [
       "HBox(children=(IntProgress(value=0, description='Batch', max=183, style=ProgressStyle(description_width='initi…"
      ]
     },
     "metadata": {},
     "output_type": "display_data"
    },
    {
     "name": "stdout",
     "output_type": "stream",
     "text": [
      "Epoch 912/1000 Iteration: 166900 Avg. Training loss: 5.7299 0.0106 sec/batch\n",
      "Epoch 912/1000 Iteration: 167000 Avg. Training loss: 5.9434 0.2571 sec/batch\n",
      "Nearest to está: continua, estava, estaria, vem, mas, já, estar, continuará,\n",
      "Nearest to paulo: são, sp, paulista, de, em, campinas, atual, e,\n",
      "Nearest to .: ,, que, a, já, em, de, também, vez,\n",
      "Nearest to :: como, ., revela, ,, ?, sem, exemplo, e,\n",
      "Nearest to dia: neste, mês, fim, março, último, deste, domingo, início,\n",
      "Nearest to (: ), 00, ., ,, quinta, nesta, e, terça,\n",
      "Nearest to dos: os, outros, da, do, de, alguns, também, nos,\n",
      "Nearest to ): (, ., 00, ,, nesta, e, de, quinta,\n",
      "Nearest to festival: festivais, cannes, evento, veneza, edição, acontece, atrações, organizadores,\n",
      "Nearest to ambos: entre, e, também, os, por, com, dois, ,,\n",
      "Nearest to garantir: assegurar, manter, necessária, garantindo, preservar, dar, reforçar, visando,\n",
      "Nearest to militares: militar, policiais, soldados, civis, armadas, exército, forças, tropas,\n",
      "Nearest to global: climática, aquecimento, commodities, fracasso, preço, cop00, recente, g00,\n",
      "Nearest to tal: que, mas, dessa, ideia, é, a, pois, poderia,\n",
      "Nearest to discussão: tema, questão, discutir, mudança, congresso, tramitação, discutindo, pauta,\n",
      "Nearest to aliados: aliado, aliada, peemedebista, parlamentares, governo, oposição, oposicionistas, partidários,\n"
     ]
    },
    {
     "data": {
      "application/vnd.jupyter.widget-view+json": {
       "model_id": "",
       "version_major": 2,
       "version_minor": 0
      },
      "text/plain": [
       "HBox(children=(IntProgress(value=0, description='Batch', max=183, style=ProgressStyle(description_width='initi…"
      ]
     },
     "metadata": {},
     "output_type": "display_data"
    },
    {
     "name": "stdout",
     "output_type": "stream",
     "text": [
      "Epoch 913/1000 Iteration: 167100 Avg. Training loss: 5.9573 0.0536 sec/batch\n",
      "Epoch 913/1000 Iteration: 167200 Avg. Training loss: 5.8169 0.2550 sec/batch\n"
     ]
    },
    {
     "data": {
      "application/vnd.jupyter.widget-view+json": {
       "model_id": "",
       "version_major": 2,
       "version_minor": 0
      },
      "text/plain": [
       "HBox(children=(IntProgress(value=0, description='Batch', max=183, style=ProgressStyle(description_width='initi…"
      ]
     },
     "metadata": {},
     "output_type": "display_data"
    },
    {
     "name": "stdout",
     "output_type": "stream",
     "text": [
      "Epoch 914/1000 Iteration: 167300 Avg. Training loss: 5.7370 0.0981 sec/batch\n",
      "Epoch 914/1000 Iteration: 167400 Avg. Training loss: 5.7695 0.2573 sec/batch\n"
     ]
    },
    {
     "data": {
      "application/vnd.jupyter.widget-view+json": {
       "model_id": "",
       "version_major": 2,
       "version_minor": 0
      },
      "text/plain": [
       "HBox(children=(IntProgress(value=0, description='Batch', max=183, style=ProgressStyle(description_width='initi…"
      ]
     },
     "metadata": {},
     "output_type": "display_data"
    },
    {
     "name": "stdout",
     "output_type": "stream",
     "text": [
      "Epoch 915/1000 Iteration: 167500 Avg. Training loss: 5.8534 0.1426 sec/batch\n",
      "Epoch 915/1000 Iteration: 167600 Avg. Training loss: 5.7895 0.2587 sec/batch\n"
     ]
    },
    {
     "data": {
      "application/vnd.jupyter.widget-view+json": {
       "model_id": "",
       "version_major": 2,
       "version_minor": 0
      },
      "text/plain": [
       "HBox(children=(IntProgress(value=0, description='Batch', max=183, style=ProgressStyle(description_width='initi…"
      ]
     },
     "metadata": {},
     "output_type": "display_data"
    },
    {
     "name": "stdout",
     "output_type": "stream",
     "text": [
      "Epoch 916/1000 Iteration: 167700 Avg. Training loss: 5.8718 0.1877 sec/batch\n",
      "Epoch 916/1000 Iteration: 167800 Avg. Training loss: 5.7645 0.2598 sec/batch\n"
     ]
    },
    {
     "data": {
      "application/vnd.jupyter.widget-view+json": {
       "model_id": "",
       "version_major": 2,
       "version_minor": 0
      },
      "text/plain": [
       "HBox(children=(IntProgress(value=0, description='Batch', max=183, style=ProgressStyle(description_width='initi…"
      ]
     },
     "metadata": {},
     "output_type": "display_data"
    },
    {
     "name": "stdout",
     "output_type": "stream",
     "text": [
      "Epoch 917/1000 Iteration: 167900 Avg. Training loss: 5.7470 0.2299 sec/batch\n"
     ]
    },
    {
     "data": {
      "application/vnd.jupyter.widget-view+json": {
       "model_id": "",
       "version_major": 2,
       "version_minor": 0
      },
      "text/plain": [
       "HBox(children=(IntProgress(value=0, description='Batch', max=183, style=ProgressStyle(description_width='initi…"
      ]
     },
     "metadata": {},
     "output_type": "display_data"
    },
    {
     "name": "stdout",
     "output_type": "stream",
     "text": [
      "Epoch 918/1000 Iteration: 168000 Avg. Training loss: 5.4385 0.0159 sec/batch\n",
      "Nearest to quando: ., começo, até, que, vez, só, ele, em,\n",
      "Nearest to após: depois, última, em, de, antes, teve, início, entanto,\n",
      "Nearest to ter: teria, tenha, terem, havia, tendo, teriam, sido, tem,\n",
      "Nearest to pessoas: menos, outras, mil, delas, elas, em, milhares, que,\n",
      "Nearest to governo: considera, ressaltou, oposição, do, reforçar, ainda, entanto, pretende,\n",
      "Nearest to r$: us$, 000, valor, 00,00, 0,00, 00, 0, preço,\n",
      "Nearest to pela: a, pelo, ainda, foi, na, ., da, vez,\n",
      "Nearest to pode: poderá, poderia, deve, vai, possível, é, possa, antes,\n",
      "Nearest to ouro: medalha, prata, bronze, conquistou, londres-0000, medalhas, ganhou, medalhista,\n",
      "Nearest to tal: essa, mas, é, ideia, dessa, que, qual, poderia,\n",
      "Nearest to unido: reino, britânicos, brexit, ue, europeia, inglaterra, permanência, britânica,\n",
      "Nearest to instituição: instituições, financeira, administração, pública, política, ajuda, dessa, questão,\n",
      "Nearest to entrou: levou, após, entrará, fez, entrar, tentou, alegando, fora,\n",
      "Nearest to |: sarau, grátis, sexta, prevenir, 0h, azevedo, quanto, alertou,\n",
      "Nearest to nossos: seus, mesmos, clientes, temos, envolvidos, os, infelizmente, agir,\n",
      "Nearest to filha: mãe, avó, menina, mulher, família, dela, ela, marido,\n",
      "Epoch 918/1000 Iteration: 168100 Avg. Training loss: 6.0245 0.2714 sec/batch\n"
     ]
    },
    {
     "data": {
      "application/vnd.jupyter.widget-view+json": {
       "model_id": "",
       "version_major": 2,
       "version_minor": 0
      },
      "text/plain": [
       "HBox(children=(IntProgress(value=0, description='Batch', max=183, style=ProgressStyle(description_width='initi…"
      ]
     },
     "metadata": {},
     "output_type": "display_data"
    },
    {
     "name": "stdout",
     "output_type": "stream",
     "text": [
      "Epoch 919/1000 Iteration: 168200 Avg. Training loss: 5.8083 0.0612 sec/batch\n",
      "Epoch 919/1000 Iteration: 168300 Avg. Training loss: 5.8648 0.2586 sec/batch\n"
     ]
    },
    {
     "data": {
      "application/vnd.jupyter.widget-view+json": {
       "model_id": "",
       "version_major": 2,
       "version_minor": 0
      },
      "text/plain": [
       "HBox(children=(IntProgress(value=0, description='Batch', max=183, style=ProgressStyle(description_width='initi…"
      ]
     },
     "metadata": {},
     "output_type": "display_data"
    },
    {
     "name": "stdout",
     "output_type": "stream",
     "text": [
      "Epoch 920/1000 Iteration: 168400 Avg. Training loss: 5.6410 0.1038 sec/batch\n",
      "Epoch 920/1000 Iteration: 168500 Avg. Training loss: 5.6809 0.2593 sec/batch\n"
     ]
    },
    {
     "data": {
      "application/vnd.jupyter.widget-view+json": {
       "model_id": "",
       "version_major": 2,
       "version_minor": 0
      },
      "text/plain": [
       "HBox(children=(IntProgress(value=0, description='Batch', max=183, style=ProgressStyle(description_width='initi…"
      ]
     },
     "metadata": {},
     "output_type": "display_data"
    },
    {
     "name": "stdout",
     "output_type": "stream",
     "text": [
      "Epoch 921/1000 Iteration: 168600 Avg. Training loss: 5.7524 0.1481 sec/batch\n",
      "Epoch 921/1000 Iteration: 168700 Avg. Training loss: 6.3401 0.2587 sec/batch\n"
     ]
    },
    {
     "data": {
      "application/vnd.jupyter.widget-view+json": {
       "model_id": "",
       "version_major": 2,
       "version_minor": 0
      },
      "text/plain": [
       "HBox(children=(IntProgress(value=0, description='Batch', max=183, style=ProgressStyle(description_width='initi…"
      ]
     },
     "metadata": {},
     "output_type": "display_data"
    },
    {
     "name": "stdout",
     "output_type": "stream",
     "text": [
      "Epoch 922/1000 Iteration: 168800 Avg. Training loss: 5.7714 0.1925 sec/batch\n",
      "Epoch 922/1000 Iteration: 168900 Avg. Training loss: 5.6620 0.2602 sec/batch\n"
     ]
    },
    {
     "data": {
      "application/vnd.jupyter.widget-view+json": {
       "model_id": "",
       "version_major": 2,
       "version_minor": 0
      },
      "text/plain": [
       "HBox(children=(IntProgress(value=0, description='Batch', max=183, style=ProgressStyle(description_width='initi…"
      ]
     },
     "metadata": {},
     "output_type": "display_data"
    },
    {
     "name": "stdout",
     "output_type": "stream",
     "text": [
      "Epoch 923/1000 Iteration: 169000 Avg. Training loss: 5.7510 0.2368 sec/batch\n",
      "Nearest to pelo: o, também, ., do, por, ao, e, como,\n",
      "Nearest to mais: que, ., ainda, mas, já, menos, em, ,,\n",
      "Nearest to pela: a, em, pelo, ., foi, na, da, e,\n",
      "Nearest to diz: afirma, que, mas, ,, lembra, ., conta, também,\n",
      "Nearest to quando: ., começo, até, mas, só, que, vez, no,\n",
      "Nearest to desde: passado, início, maio, março, julho, junho, em, abril,\n",
      "Nearest to mas: ainda, porém, que, só, não, já, mesmo, porque,\n",
      "Nearest to parte: ainda, à, já, que, a, da, porém, há,\n",
      "Nearest to participar: entrar, fazer, evento, realizar, não, envolver, acontecer, receber,\n",
      "Nearest to médico: hospital, paciente, consultório, atendimento, clínicas, médicos, pronto-socorro, hospitais,\n",
      "Nearest to estádio: torcedores, arena, beira-rio, estádios, arquibancadas, itaquerão, torcida, jogo,\n",
      "Nearest to deverá: poderá, deve, irá, terá, vai, deverão, ficará, começar,\n",
      "Nearest to militares: militar, policiais, soldados, civis, armadas, exército, forças, oficiais,\n",
      "Nearest to recuperação: judicial, melhora, recuperar, retomada, desaceleração, resultado, crescimento, impulsionar,\n",
      "Nearest to importantes: grandes, especialmente, também, como, principais, inclusive, de, da,\n",
      "Nearest to unido: reino, brexit, britânicos, europeia, ue, inglaterra, permanência, saída,\n"
     ]
    },
    {
     "data": {
      "application/vnd.jupyter.widget-view+json": {
       "model_id": "",
       "version_major": 2,
       "version_minor": 0
      },
      "text/plain": [
       "HBox(children=(IntProgress(value=0, description='Batch', max=183, style=ProgressStyle(description_width='initi…"
      ]
     },
     "metadata": {},
     "output_type": "display_data"
    },
    {
     "name": "stdout",
     "output_type": "stream",
     "text": [
      "Epoch 924/1000 Iteration: 169100 Avg. Training loss: 5.8478 0.0209 sec/batch\n",
      "Epoch 924/1000 Iteration: 169200 Avg. Training loss: 6.0080 0.2597 sec/batch\n"
     ]
    },
    {
     "data": {
      "application/vnd.jupyter.widget-view+json": {
       "model_id": "",
       "version_major": 2,
       "version_minor": 0
      },
      "text/plain": [
       "HBox(children=(IntProgress(value=0, description='Batch', max=183, style=ProgressStyle(description_width='initi…"
      ]
     },
     "metadata": {},
     "output_type": "display_data"
    },
    {
     "name": "stdout",
     "output_type": "stream",
     "text": [
      "Epoch 925/1000 Iteration: 169300 Avg. Training loss: 5.7317 0.0649 sec/batch\n",
      "Epoch 925/1000 Iteration: 169400 Avg. Training loss: 5.9969 0.2595 sec/batch\n"
     ]
    },
    {
     "data": {
      "application/vnd.jupyter.widget-view+json": {
       "model_id": "",
       "version_major": 2,
       "version_minor": 0
      },
      "text/plain": [
       "HBox(children=(IntProgress(value=0, description='Batch', max=183, style=ProgressStyle(description_width='initi…"
      ]
     },
     "metadata": {},
     "output_type": "display_data"
    },
    {
     "name": "stdout",
     "output_type": "stream",
     "text": [
      "Epoch 926/1000 Iteration: 169500 Avg. Training loss: 5.8533 0.1092 sec/batch\n",
      "Epoch 926/1000 Iteration: 169600 Avg. Training loss: 5.7842 0.2586 sec/batch\n"
     ]
    },
    {
     "data": {
      "application/vnd.jupyter.widget-view+json": {
       "model_id": "",
       "version_major": 2,
       "version_minor": 0
      },
      "text/plain": [
       "HBox(children=(IntProgress(value=0, description='Batch', max=183, style=ProgressStyle(description_width='initi…"
      ]
     },
     "metadata": {},
     "output_type": "display_data"
    },
    {
     "name": "stdout",
     "output_type": "stream",
     "text": [
      "Epoch 927/1000 Iteration: 169700 Avg. Training loss: 5.7540 0.1532 sec/batch\n",
      "Epoch 927/1000 Iteration: 169800 Avg. Training loss: 5.9020 0.2599 sec/batch\n"
     ]
    },
    {
     "data": {
      "application/vnd.jupyter.widget-view+json": {
       "model_id": "",
       "version_major": 2,
       "version_minor": 0
      },
      "text/plain": [
       "HBox(children=(IntProgress(value=0, description='Batch', max=183, style=ProgressStyle(description_width='initi…"
      ]
     },
     "metadata": {},
     "output_type": "display_data"
    },
    {
     "name": "stdout",
     "output_type": "stream",
     "text": [
      "Epoch 928/1000 Iteration: 169900 Avg. Training loss: 5.9117 0.1964 sec/batch\n",
      "Epoch 928/1000 Iteration: 170000 Avg. Training loss: 5.7700 0.2600 sec/batch\n",
      "Nearest to ao: o, do, também, um, de, ., em, próprio,\n",
      "Nearest to de: em, também, a, do, e, com, ., além,\n",
      "Nearest to não: que, só, mas, ainda, pois, porque, fato, é,\n",
      "Nearest to ser: foi, pelo, pois, será, não, ele, qual, sido,\n",
      "Nearest to do: o, de, ao, também, em, no, na, .,\n",
      "Nearest to vai: vão, poderá, irá, começar, deve, quer, pretende, pode,\n",
      "Nearest to ou: isso, podem, para, os, mensagem, não, brasil, com,\n",
      "Nearest to há: ainda, mas, já, entanto, porém, parte, mesmo, inclusive,\n",
      "Nearest to globo: tv, emissora, sbt, canais, televisão, record, canal, audiência,\n",
      "Nearest to palácio: planalto, alvorada, jaburu, encontro, peemedebista, temer, articulação, solenidade,\n",
      "Nearest to emprego: trabalho, empregos, desemprego, trabalhar, crescimento, desempregados, empregados, formal,\n",
      "Nearest to deverá: deve, poderá, terá, irá, vai, deverão, deveria, começar,\n",
      "Nearest to EMAIL: basta, enviar, e-mail, envie, acessar, traduzem, colaborar, publicados,\n",
      "Nearest to vê: da, agora, em, na, ainda, do, continua, considera,\n",
      "Nearest to luz: energia, elétrica, linhas, grande, dele, eletricidade, entre, manutenção,\n",
      "Nearest to usuários: usuário, internet, facebook, cracolândia, android, aplicativo, bloqueio, app,\n"
     ]
    },
    {
     "data": {
      "application/vnd.jupyter.widget-view+json": {
       "model_id": "",
       "version_major": 2,
       "version_minor": 0
      },
      "text/plain": [
       "HBox(children=(IntProgress(value=0, description='Batch', max=183, style=ProgressStyle(description_width='initi…"
      ]
     },
     "metadata": {},
     "output_type": "display_data"
    },
    {
     "name": "stdout",
     "output_type": "stream",
     "text": [
      "Epoch 929/1000 Iteration: 170100 Avg. Training loss: 5.7202 0.2419 sec/batch\n"
     ]
    },
    {
     "data": {
      "application/vnd.jupyter.widget-view+json": {
       "model_id": "",
       "version_major": 2,
       "version_minor": 0
      },
      "text/plain": [
       "HBox(children=(IntProgress(value=0, description='Batch', max=183, style=ProgressStyle(description_width='initi…"
      ]
     },
     "metadata": {},
     "output_type": "display_data"
    },
    {
     "name": "stdout",
     "output_type": "stream",
     "text": [
      "Epoch 930/1000 Iteration: 170200 Avg. Training loss: 6.0317 0.0266 sec/batch\n",
      "Epoch 930/1000 Iteration: 170300 Avg. Training loss: 5.7936 0.2603 sec/batch\n"
     ]
    },
    {
     "data": {
      "application/vnd.jupyter.widget-view+json": {
       "model_id": "",
       "version_major": 2,
       "version_minor": 0
      },
      "text/plain": [
       "HBox(children=(IntProgress(value=0, description='Batch', max=183, style=ProgressStyle(description_width='initi…"
      ]
     },
     "metadata": {},
     "output_type": "display_data"
    },
    {
     "name": "stdout",
     "output_type": "stream",
     "text": [
      "Epoch 931/1000 Iteration: 170400 Avg. Training loss: 5.5402 0.0703 sec/batch\n",
      "Epoch 931/1000 Iteration: 170500 Avg. Training loss: 5.8109 0.2584 sec/batch\n"
     ]
    },
    {
     "data": {
      "application/vnd.jupyter.widget-view+json": {
       "model_id": "",
       "version_major": 2,
       "version_minor": 0
      },
      "text/plain": [
       "HBox(children=(IntProgress(value=0, description='Batch', max=183, style=ProgressStyle(description_width='initi…"
      ]
     },
     "metadata": {},
     "output_type": "display_data"
    },
    {
     "name": "stdout",
     "output_type": "stream",
     "text": [
      "Epoch 932/1000 Iteration: 170600 Avg. Training loss: 5.8850 0.1144 sec/batch\n",
      "Epoch 932/1000 Iteration: 170700 Avg. Training loss: 5.5625 0.2591 sec/batch\n"
     ]
    },
    {
     "data": {
      "application/vnd.jupyter.widget-view+json": {
       "model_id": "",
       "version_major": 2,
       "version_minor": 0
      },
      "text/plain": [
       "HBox(children=(IntProgress(value=0, description='Batch', max=183, style=ProgressStyle(description_width='initi…"
      ]
     },
     "metadata": {},
     "output_type": "display_data"
    },
    {
     "name": "stdout",
     "output_type": "stream",
     "text": [
      "Epoch 933/1000 Iteration: 170800 Avg. Training loss: 5.7912 0.1591 sec/batch\n",
      "Epoch 933/1000 Iteration: 170900 Avg. Training loss: 5.9262 0.2593 sec/batch\n"
     ]
    },
    {
     "data": {
      "application/vnd.jupyter.widget-view+json": {
       "model_id": "",
       "version_major": 2,
       "version_minor": 0
      },
      "text/plain": [
       "HBox(children=(IntProgress(value=0, description='Batch', max=183, style=ProgressStyle(description_width='initi…"
      ]
     },
     "metadata": {},
     "output_type": "display_data"
    },
    {
     "name": "stdout",
     "output_type": "stream",
     "text": [
      "Epoch 934/1000 Iteration: 171000 Avg. Training loss: 5.7885 0.2025 sec/batch\n",
      "Nearest to por: e, também, ., ,, já, que, de, com,\n",
      "Nearest to ter: teria, tenha, terem, havia, sido, tendo, teriam, tem,\n",
      "Nearest to dia: mês, início, fim, último, neste, até, antes, semana,\n",
      "Nearest to afirmou: disse, ressaltou, reconheceu, defendeu, ainda, questionado, confirmou, afirmando,\n",
      "Nearest to ano: passado, deste, mês, maio, junho, neste, abril, fevereiro,\n",
      "Nearest to era: tinha, ele, fosse, já, chegava, apenas, tendo, ainda,\n",
      "Nearest to se: pois, que, ele, quem, não, qual, vez, mesmo,\n",
      "Nearest to 000: mil, 00, 0.000, r$, cerca, dobro, quanto, 0,\n",
      "Nearest to mínimo: salário, máximo, valor, dobro, cinco, terá, benefício, acima,\n",
      "Nearest to investidores: mercados, volatilidade, ativos, cautela, investidor, mercado, emergentes, liquidez,\n",
      "Nearest to aliados: aliado, aliada, parlamentares, governo, peemedebista, oposição, oposicionistas, partidários,\n",
      "Nearest to depoimento: prestado, prestou, prestar, depoimentos, depor, testemunha, esclarecimentos, esclarecer,\n",
      "Nearest to emprego: trabalho, empregos, desemprego, trabalhar, crescimento, desempregados, empregados, formal,\n",
      "Nearest to |: sarau, grátis, prevenir, zefa, sexta, quanto, mesquiteiros, exercitar,\n",
      "Nearest to lima: geddel, abreu, vieira, priorizar, pernambuco, pe, barreto, alteração,\n",
      "Nearest to leva: levam, um, e, por, será, dá, cada, pelo,\n",
      "Epoch 934/1000 Iteration: 171100 Avg. Training loss: 5.9701 0.2711 sec/batch\n"
     ]
    },
    {
     "data": {
      "application/vnd.jupyter.widget-view+json": {
       "model_id": "",
       "version_major": 2,
       "version_minor": 0
      },
      "text/plain": [
       "HBox(children=(IntProgress(value=0, description='Batch', max=183, style=ProgressStyle(description_width='initi…"
      ]
     },
     "metadata": {},
     "output_type": "display_data"
    },
    {
     "name": "stdout",
     "output_type": "stream",
     "text": [
      "Epoch 935/1000 Iteration: 171200 Avg. Training loss: 5.6044 0.2453 sec/batch\n"
     ]
    },
    {
     "data": {
      "application/vnd.jupyter.widget-view+json": {
       "model_id": "",
       "version_major": 2,
       "version_minor": 0
      },
      "text/plain": [
       "HBox(children=(IntProgress(value=0, description='Batch', max=183, style=ProgressStyle(description_width='initi…"
      ]
     },
     "metadata": {},
     "output_type": "display_data"
    },
    {
     "name": "stdout",
     "output_type": "stream",
     "text": [
      "Epoch 936/1000 Iteration: 171300 Avg. Training loss: 5.8359 0.0316 sec/batch\n",
      "Epoch 936/1000 Iteration: 171400 Avg. Training loss: 6.1819 0.2593 sec/batch\n"
     ]
    },
    {
     "data": {
      "application/vnd.jupyter.widget-view+json": {
       "model_id": "",
       "version_major": 2,
       "version_minor": 0
      },
      "text/plain": [
       "HBox(children=(IntProgress(value=0, description='Batch', max=183, style=ProgressStyle(description_width='initi…"
      ]
     },
     "metadata": {},
     "output_type": "display_data"
    },
    {
     "name": "stdout",
     "output_type": "stream",
     "text": [
      "Epoch 937/1000 Iteration: 171500 Avg. Training loss: 5.9936 0.0750 sec/batch\n",
      "Epoch 937/1000 Iteration: 171600 Avg. Training loss: 5.8698 0.2587 sec/batch\n"
     ]
    },
    {
     "data": {
      "application/vnd.jupyter.widget-view+json": {
       "model_id": "",
       "version_major": 2,
       "version_minor": 0
      },
      "text/plain": [
       "HBox(children=(IntProgress(value=0, description='Batch', max=183, style=ProgressStyle(description_width='initi…"
      ]
     },
     "metadata": {},
     "output_type": "display_data"
    },
    {
     "name": "stdout",
     "output_type": "stream",
     "text": [
      "Epoch 938/1000 Iteration: 171700 Avg. Training loss: 6.0356 0.1196 sec/batch\n",
      "Epoch 938/1000 Iteration: 171800 Avg. Training loss: 5.7948 0.2598 sec/batch\n"
     ]
    },
    {
     "data": {
      "application/vnd.jupyter.widget-view+json": {
       "model_id": "",
       "version_major": 2,
       "version_minor": 0
      },
      "text/plain": [
       "HBox(children=(IntProgress(value=0, description='Batch', max=183, style=ProgressStyle(description_width='initi…"
      ]
     },
     "metadata": {},
     "output_type": "display_data"
    },
    {
     "name": "stdout",
     "output_type": "stream",
     "text": [
      "Epoch 939/1000 Iteration: 171900 Avg. Training loss: 5.8468 0.1638 sec/batch\n",
      "Epoch 939/1000 Iteration: 172000 Avg. Training loss: 5.6601 0.2586 sec/batch\n",
      "Nearest to 0000: desde, abril, maio, em, março, década, começo, agosto,\n",
      "Nearest to :: ., como, ,, sem, demais, e, por, sempre,\n",
      "Nearest to %: 00,0, recuo, subiu, 0,0, 0,00, recuou, caíram, alta,\n",
      "Nearest to estão: estariam, estavam, continuam, está, seguem, vem, continua, há,\n",
      "Nearest to e: ., com, também, por, ,, como, de, que,\n",
      "Nearest to muito: bastante, mas, mais, porque, diferente, é, tão, pouco,\n",
      "Nearest to não: que, mas, só, ainda, ele, porque, pois, porém,\n",
      "Nearest to milhões: milhão, 0,0, mil, 00,0, cerca, 000,0, bilhão, pagou,\n",
      "Nearest to veio: levou, trouxe, uma, após, saiu, resultou, deram, dessa,\n",
      "Nearest to livros: romances, literatura, editoras, publicar, volumes, história, leitura, didáticos,\n",
      "Nearest to querem: vão, defendem, quer, desejam, querer, conseguem, tentando, adianta,\n",
      "Nearest to simples: é, ser, seja, já, somente, foi, por, e,\n",
      "Nearest to ouro: medalha, prata, conquistou, medalhas, bronze, londres-0000, atleta, ganhou,\n",
      "Nearest to militares: militar, policiais, soldados, civis, armadas, oficiais, forças, tropas,\n",
      "Nearest to quarto: terceiro, primeiro, último, em, passado, período, ao, três,\n",
      "Nearest to escreveu: ,, ], seu, aí, sim, ., dizia, definiu,\n"
     ]
    },
    {
     "data": {
      "application/vnd.jupyter.widget-view+json": {
       "model_id": "",
       "version_major": 2,
       "version_minor": 0
      },
      "text/plain": [
       "HBox(children=(IntProgress(value=0, description='Batch', max=183, style=ProgressStyle(description_width='initi…"
      ]
     },
     "metadata": {},
     "output_type": "display_data"
    },
    {
     "name": "stdout",
     "output_type": "stream",
     "text": [
      "Epoch 940/1000 Iteration: 172100 Avg. Training loss: 5.8823 0.2078 sec/batch\n",
      "Epoch 940/1000 Iteration: 172200 Avg. Training loss: 5.7664 0.2599 sec/batch\n"
     ]
    },
    {
     "data": {
      "application/vnd.jupyter.widget-view+json": {
       "model_id": "",
       "version_major": 2,
       "version_minor": 0
      },
      "text/plain": [
       "HBox(children=(IntProgress(value=0, description='Batch', max=183, style=ProgressStyle(description_width='initi…"
      ]
     },
     "metadata": {},
     "output_type": "display_data"
    },
    {
     "name": "stdout",
     "output_type": "stream",
     "text": [
      "Epoch 941/1000 Iteration: 172300 Avg. Training loss: 5.8226 0.2516 sec/batch\n"
     ]
    },
    {
     "data": {
      "application/vnd.jupyter.widget-view+json": {
       "model_id": "",
       "version_major": 2,
       "version_minor": 0
      },
      "text/plain": [
       "HBox(children=(IntProgress(value=0, description='Batch', max=183, style=ProgressStyle(description_width='initi…"
      ]
     },
     "metadata": {},
     "output_type": "display_data"
    },
    {
     "name": "stdout",
     "output_type": "stream",
     "text": [
      "Epoch 942/1000 Iteration: 172400 Avg. Training loss: 5.8467 0.0363 sec/batch\n",
      "Epoch 942/1000 Iteration: 172500 Avg. Training loss: 5.7328 0.2595 sec/batch\n"
     ]
    },
    {
     "data": {
      "application/vnd.jupyter.widget-view+json": {
       "model_id": "",
       "version_major": 2,
       "version_minor": 0
      },
      "text/plain": [
       "HBox(children=(IntProgress(value=0, description='Batch', max=183, style=ProgressStyle(description_width='initi…"
      ]
     },
     "metadata": {},
     "output_type": "display_data"
    },
    {
     "name": "stdout",
     "output_type": "stream",
     "text": [
      "Epoch 943/1000 Iteration: 172600 Avg. Training loss: 5.9932 0.0804 sec/batch\n",
      "Epoch 943/1000 Iteration: 172700 Avg. Training loss: 5.6754 0.2591 sec/batch\n"
     ]
    },
    {
     "data": {
      "application/vnd.jupyter.widget-view+json": {
       "model_id": "",
       "version_major": 2,
       "version_minor": 0
      },
      "text/plain": [
       "HBox(children=(IntProgress(value=0, description='Batch', max=183, style=ProgressStyle(description_width='initi…"
      ]
     },
     "metadata": {},
     "output_type": "display_data"
    },
    {
     "name": "stdout",
     "output_type": "stream",
     "text": [
      "Epoch 944/1000 Iteration: 172800 Avg. Training loss: 5.6471 0.1243 sec/batch\n",
      "Epoch 944/1000 Iteration: 172900 Avg. Training loss: 5.7807 0.2598 sec/batch\n"
     ]
    },
    {
     "data": {
      "application/vnd.jupyter.widget-view+json": {
       "model_id": "",
       "version_major": 2,
       "version_minor": 0
      },
      "text/plain": [
       "HBox(children=(IntProgress(value=0, description='Batch', max=183, style=ProgressStyle(description_width='initi…"
      ]
     },
     "metadata": {},
     "output_type": "display_data"
    },
    {
     "name": "stdout",
     "output_type": "stream",
     "text": [
      "Epoch 945/1000 Iteration: 173000 Avg. Training loss: 5.6991 0.1676 sec/batch\n",
      "Nearest to mais: que, ., já, mas, ,, ainda, menos, apenas,\n",
      "Nearest to dois: oito, nove, outros, vários, nos, menos, três, os,\n",
      "Nearest to 0000: desde, em, abril, maio, década, começo, passado, já,\n",
      "Nearest to estão: estariam, continuam, estavam, está, vêm, seguem, vem, já,\n",
      "Nearest to por: e, também, ., que, ,, de, já, com,\n",
      "Nearest to as: das, essas, todas, duas, outras, mesmas, novas, dessas,\n",
      "Nearest to -: 0, são, 0º, 00, segunda, e, ), sábado,\n",
      "Nearest to quando: ., que, até, começo, ele, vez, no, antes,\n",
      "Nearest to instituição: financeira, administração, instituições, pública, política, ajuda, da, a,\n",
      "Nearest to sede: em, ocorreu, parte, de, incluindo, realizada, organizada, da,\n",
      "Nearest to nossos: seus, mesmos, clientes, envolvidos, os, melhorar, dele, contentes,\n",
      "Nearest to veio: levou, após, uma, resultou, trouxe, saiu, passou, de,\n",
      "Nearest to amigo: dentro, próprio, fala, referindo-se, começo, então, conheço, novo,\n",
      "Nearest to entrou: entrará, pedido, levou, após, depende, aguarda, fez, alegando,\n",
      "Nearest to leva: e, por, parte, como, será, em, um, na,\n",
      "Nearest to importantes: grandes, principais, especialmente, também, sobretudo, de, da, inclusive,\n",
      "Epoch 945/1000 Iteration: 173100 Avg. Training loss: 5.7387 0.2717 sec/batch\n"
     ]
    },
    {
     "data": {
      "application/vnd.jupyter.widget-view+json": {
       "model_id": "",
       "version_major": 2,
       "version_minor": 0
      },
      "text/plain": [
       "HBox(children=(IntProgress(value=0, description='Batch', max=183, style=ProgressStyle(description_width='initi…"
      ]
     },
     "metadata": {},
     "output_type": "display_data"
    },
    {
     "name": "stdout",
     "output_type": "stream",
     "text": [
      "Epoch 946/1000 Iteration: 173200 Avg. Training loss: 5.7948 0.2128 sec/batch\n",
      "Epoch 946/1000 Iteration: 173300 Avg. Training loss: 5.7075 0.2588 sec/batch\n"
     ]
    },
    {
     "data": {
      "application/vnd.jupyter.widget-view+json": {
       "model_id": "",
       "version_major": 2,
       "version_minor": 0
      },
      "text/plain": [
       "HBox(children=(IntProgress(value=0, description='Batch', max=183, style=ProgressStyle(description_width='initi…"
      ]
     },
     "metadata": {},
     "output_type": "display_data"
    },
    {
     "name": "stdout",
     "output_type": "stream",
     "text": [
      "Epoch 947/1000 Iteration: 173400 Avg. Training loss: 5.5911 0.2573 sec/batch\n"
     ]
    },
    {
     "data": {
      "application/vnd.jupyter.widget-view+json": {
       "model_id": "",
       "version_major": 2,
       "version_minor": 0
      },
      "text/plain": [
       "HBox(children=(IntProgress(value=0, description='Batch', max=183, style=ProgressStyle(description_width='initi…"
      ]
     },
     "metadata": {},
     "output_type": "display_data"
    },
    {
     "name": "stdout",
     "output_type": "stream",
     "text": [
      "Epoch 948/1000 Iteration: 173500 Avg. Training loss: 5.7786 0.0415 sec/batch\n",
      "Epoch 948/1000 Iteration: 173600 Avg. Training loss: 5.9645 0.2592 sec/batch\n"
     ]
    },
    {
     "data": {
      "application/vnd.jupyter.widget-view+json": {
       "model_id": "",
       "version_major": 2,
       "version_minor": 0
      },
      "text/plain": [
       "HBox(children=(IntProgress(value=0, description='Batch', max=183, style=ProgressStyle(description_width='initi…"
      ]
     },
     "metadata": {},
     "output_type": "display_data"
    },
    {
     "name": "stdout",
     "output_type": "stream",
     "text": [
      "Epoch 949/1000 Iteration: 173700 Avg. Training loss: 5.8957 0.0859 sec/batch\n",
      "Epoch 949/1000 Iteration: 173800 Avg. Training loss: 5.8526 0.2595 sec/batch\n"
     ]
    },
    {
     "data": {
      "application/vnd.jupyter.widget-view+json": {
       "model_id": "",
       "version_major": 2,
       "version_minor": 0
      },
      "text/plain": [
       "HBox(children=(IntProgress(value=0, description='Batch', max=183, style=ProgressStyle(description_width='initi…"
      ]
     },
     "metadata": {},
     "output_type": "display_data"
    },
    {
     "name": "stdout",
     "output_type": "stream",
     "text": [
      "Epoch 950/1000 Iteration: 173900 Avg. Training loss: 5.7733 0.1303 sec/batch\n",
      "Epoch 950/1000 Iteration: 174000 Avg. Training loss: 5.8874 0.2597 sec/batch\n",
      "Nearest to só: até, não, que, mesmo, mas, agora, somente, já,\n",
      "Nearest to da: a, na, em, parte, à, de, do, .,\n",
      "Nearest to sobre: que, o, também, do, na, no, em, a,\n",
      "Nearest to quando: ., que, até, ele, começo, no, vez, antes,\n",
      "Nearest to das: as, dessas, de, inclusive, também, nas, que, outras,\n",
      "Nearest to sua: para, a, própria, isso, dos, na, também, à,\n",
      "Nearest to parte: à, que, da, apenas, fazem, ainda, a, apesar,\n",
      "Nearest to um: o, outro, que, também, já, ao, esse, .,\n",
      "Nearest to discussão: tema, proposta, questão, tramitação, discutir, pauta, discutindo, aprovação,\n",
      "Nearest to quarto: terceiro, último, em, quinto, seu, ao, no, passado,\n",
      "Nearest to somente: só, mesmo, será, apenas, até, de, ainda, em,\n",
      "Nearest to mortes: óbitos, anúncios, veja, homicídios, assassinatos, acidentes, diminuição, ocorreram,\n",
      "Nearest to conhecido: considerado, exemplo, principalmente, especialmente, polêmicas, chamado, um, reconhecido,\n",
      "Nearest to instituição: financeira, administração, da, do, instituições, pública, na, a,\n",
      "Nearest to profissionais: qualificados, melhores, com, por, professores, certa, funcionários, inclusive,\n",
      "Nearest to década: 0000, desde, meados, anos, 0000-, últimos, passou, décadas,\n"
     ]
    },
    {
     "data": {
      "application/vnd.jupyter.widget-view+json": {
       "model_id": "",
       "version_major": 2,
       "version_minor": 0
      },
      "text/plain": [
       "HBox(children=(IntProgress(value=0, description='Batch', max=183, style=ProgressStyle(description_width='initi…"
      ]
     },
     "metadata": {},
     "output_type": "display_data"
    },
    {
     "name": "stdout",
     "output_type": "stream",
     "text": [
      "Epoch 951/1000 Iteration: 174100 Avg. Training loss: 6.0199 0.1739 sec/batch\n",
      "Epoch 951/1000 Iteration: 174200 Avg. Training loss: 5.8212 0.2587 sec/batch\n"
     ]
    },
    {
     "data": {
      "application/vnd.jupyter.widget-view+json": {
       "model_id": "",
       "version_major": 2,
       "version_minor": 0
      },
      "text/plain": [
       "HBox(children=(IntProgress(value=0, description='Batch', max=183, style=ProgressStyle(description_width='initi…"
      ]
     },
     "metadata": {},
     "output_type": "display_data"
    },
    {
     "name": "stdout",
     "output_type": "stream",
     "text": [
      "Epoch 952/1000 Iteration: 174300 Avg. Training loss: 5.8944 0.2175 sec/batch\n"
     ]
    },
    {
     "data": {
      "application/vnd.jupyter.widget-view+json": {
       "model_id": "",
       "version_major": 2,
       "version_minor": 0
      },
      "text/plain": [
       "HBox(children=(IntProgress(value=0, description='Batch', max=183, style=ProgressStyle(description_width='initi…"
      ]
     },
     "metadata": {},
     "output_type": "display_data"
    },
    {
     "name": "stdout",
     "output_type": "stream",
     "text": [
      "Epoch 953/1000 Iteration: 174400 Avg. Training loss: 5.9985 0.0027 sec/batch\n",
      "Epoch 953/1000 Iteration: 174500 Avg. Training loss: 5.7756 0.2604 sec/batch\n"
     ]
    },
    {
     "data": {
      "application/vnd.jupyter.widget-view+json": {
       "model_id": "",
       "version_major": 2,
       "version_minor": 0
      },
      "text/plain": [
       "HBox(children=(IntProgress(value=0, description='Batch', max=183, style=ProgressStyle(description_width='initi…"
      ]
     },
     "metadata": {},
     "output_type": "display_data"
    },
    {
     "name": "stdout",
     "output_type": "stream",
     "text": [
      "Epoch 954/1000 Iteration: 174600 Avg. Training loss: 5.8805 0.0469 sec/batch\n",
      "Epoch 954/1000 Iteration: 174700 Avg. Training loss: 5.9002 0.2600 sec/batch\n"
     ]
    },
    {
     "data": {
      "application/vnd.jupyter.widget-view+json": {
       "model_id": "",
       "version_major": 2,
       "version_minor": 0
      },
      "text/plain": [
       "HBox(children=(IntProgress(value=0, description='Batch', max=183, style=ProgressStyle(description_width='initi…"
      ]
     },
     "metadata": {},
     "output_type": "display_data"
    },
    {
     "name": "stdout",
     "output_type": "stream",
     "text": [
      "Epoch 955/1000 Iteration: 174800 Avg. Training loss: 5.6691 0.0910 sec/batch\n",
      "Epoch 955/1000 Iteration: 174900 Avg. Training loss: 5.7979 0.2607 sec/batch\n"
     ]
    },
    {
     "data": {
      "application/vnd.jupyter.widget-view+json": {
       "model_id": "",
       "version_major": 2,
       "version_minor": 0
      },
      "text/plain": [
       "HBox(children=(IntProgress(value=0, description='Batch', max=183, style=ProgressStyle(description_width='initi…"
      ]
     },
     "metadata": {},
     "output_type": "display_data"
    },
    {
     "name": "stdout",
     "output_type": "stream",
     "text": [
      "Epoch 956/1000 Iteration: 175000 Avg. Training loss: 6.0918 0.1351 sec/batch\n",
      "Nearest to das: as, dessas, outras, nas, inclusive, de, essas, também,\n",
      "Nearest to %: 00,0, 0,0, subiu, 0,00, alta, ante, caíram, recuou,\n",
      "Nearest to brasil: mundo, no, com, para, ., país, ou, podem,\n",
      "Nearest to vai: vão, começar, poderá, irá, deve, pretende, pode, quer,\n",
      "Nearest to anos: meses, oito, cinco, depois, três, dois, nove, últimos,\n",
      "Nearest to segundo: ainda, entanto, o, primeiro, chegou, porém, passado, que,\n",
      "Nearest to muito: bastante, mas, porque, diferente, mais, tão, pouco, longe,\n",
      "Nearest to dia: último, início, neste, sexta, deste, tarde, sexta-feira, fim,\n",
      "Nearest to recente: setembro, à, em, mostrou, última, a, maior, último,\n",
      "Nearest to operações: financeiras, financeira, atuação, recursos, financeiros, parte, operação, afirmou,\n",
      "Nearest to militares: militar, soldados, civis, policiais, oficiais, exército, tropas, armadas,\n",
      "Nearest to modo: que, todo, disso, assim, ., um, pois, ao,\n",
      "Nearest to veio: levou, após, uma, depois, logo, culminou, chegou, trouxe,\n",
      "Nearest to seguinte: dia, última, começo, antes, somente, no, fim, último,\n",
      "Nearest to quarto: terceiro, último, ao, novamente, passado, quinto, em, atrás,\n",
      "Nearest to leva: levam, ., e, por, um, no, em, na,\n",
      "Epoch 956/1000 Iteration: 175100 Avg. Training loss: 5.8589 0.2712 sec/batch\n"
     ]
    },
    {
     "data": {
      "application/vnd.jupyter.widget-view+json": {
       "model_id": "",
       "version_major": 2,
       "version_minor": 0
      },
      "text/plain": [
       "HBox(children=(IntProgress(value=0, description='Batch', max=183, style=ProgressStyle(description_width='initi…"
      ]
     },
     "metadata": {},
     "output_type": "display_data"
    },
    {
     "name": "stdout",
     "output_type": "stream",
     "text": [
      "Epoch 957/1000 Iteration: 175200 Avg. Training loss: 5.9777 0.1794 sec/batch\n",
      "Epoch 957/1000 Iteration: 175300 Avg. Training loss: 5.7288 0.2592 sec/batch\n"
     ]
    },
    {
     "data": {
      "application/vnd.jupyter.widget-view+json": {
       "model_id": "",
       "version_major": 2,
       "version_minor": 0
      },
      "text/plain": [
       "HBox(children=(IntProgress(value=0, description='Batch', max=183, style=ProgressStyle(description_width='initi…"
      ]
     },
     "metadata": {},
     "output_type": "display_data"
    },
    {
     "name": "stdout",
     "output_type": "stream",
     "text": [
      "Epoch 958/1000 Iteration: 175400 Avg. Training loss: 5.5814 0.2230 sec/batch\n"
     ]
    },
    {
     "data": {
      "application/vnd.jupyter.widget-view+json": {
       "model_id": "",
       "version_major": 2,
       "version_minor": 0
      },
      "text/plain": [
       "HBox(children=(IntProgress(value=0, description='Batch', max=183, style=ProgressStyle(description_width='initi…"
      ]
     },
     "metadata": {},
     "output_type": "display_data"
    },
    {
     "name": "stdout",
     "output_type": "stream",
     "text": [
      "Epoch 959/1000 Iteration: 175500 Avg. Training loss: 5.7161 0.0080 sec/batch\n",
      "Epoch 959/1000 Iteration: 175600 Avg. Training loss: 5.9732 0.2598 sec/batch\n"
     ]
    },
    {
     "data": {
      "application/vnd.jupyter.widget-view+json": {
       "model_id": "",
       "version_major": 2,
       "version_minor": 0
      },
      "text/plain": [
       "HBox(children=(IntProgress(value=0, description='Batch', max=183, style=ProgressStyle(description_width='initi…"
      ]
     },
     "metadata": {},
     "output_type": "display_data"
    },
    {
     "name": "stdout",
     "output_type": "stream",
     "text": [
      "Epoch 960/1000 Iteration: 175700 Avg. Training loss: 5.8221 0.0522 sec/batch\n",
      "Epoch 960/1000 Iteration: 175800 Avg. Training loss: 5.5990 0.2599 sec/batch\n"
     ]
    },
    {
     "data": {
      "application/vnd.jupyter.widget-view+json": {
       "model_id": "",
       "version_major": 2,
       "version_minor": 0
      },
      "text/plain": [
       "HBox(children=(IntProgress(value=0, description='Batch', max=183, style=ProgressStyle(description_width='initi…"
      ]
     },
     "metadata": {},
     "output_type": "display_data"
    },
    {
     "name": "stdout",
     "output_type": "stream",
     "text": [
      "Epoch 961/1000 Iteration: 175900 Avg. Training loss: 5.8406 0.0963 sec/batch\n",
      "Epoch 961/1000 Iteration: 176000 Avg. Training loss: 5.9219 0.2588 sec/batch\n",
      "Nearest to ser: pelo, pois, foi, ele, sendo, sido, será, só,\n",
      "Nearest to como: e, ., também, exemplo, que, ,, já, um,\n",
      "Nearest to os: dos, outros, ., pelos, que, esses, apenas, eles,\n",
      "Nearest to para: a, de, à, na, ainda, o, em, com,\n",
      "Nearest to eu: meu, sei, vou, acredito, comigo, tenho, nada, acho,\n",
      "Nearest to as: das, essas, mesmas, todas, outras, que, suas, mais,\n",
      "Nearest to (: ), ., 00, e, ,, quinta, nesta, o,\n",
      "Nearest to maior: de, tem, menor, em, mesmo, do, resultado, apenas,\n",
      "Nearest to demanda: reflexo, melhora, incremento, principalmente, entanto, desempenho, atividade, interno,\n",
      "Nearest to diferença: segundo, somente, mesmo, chegar, ultrapassar, acima, porém, ainda,\n",
      "Nearest to profissionais: professores, por, funcionários, rotina, inclusive, e, trabalho, melhores,\n",
      "Nearest to depoimento: prestado, prestou, prestar, depor, esclarecimentos, pf, esclarecer, testemunha,\n",
      "Nearest to médico: hospital, clínicas, médicos, paciente, hospitais, médica, atendimento, atendido,\n",
      "Nearest to quarto: terceiro, último, novamente, em, primeiro, quinto, colocado, frente,\n",
      "Nearest to democracia: golpe, (), democrático, soberania, meios, governabilidade, revolução, governantes,\n",
      "Nearest to unidades: unidade, atender, expandir, considerando, de, terço, aponta, planeja,\n"
     ]
    },
    {
     "data": {
      "application/vnd.jupyter.widget-view+json": {
       "model_id": "",
       "version_major": 2,
       "version_minor": 0
      },
      "text/plain": [
       "HBox(children=(IntProgress(value=0, description='Batch', max=183, style=ProgressStyle(description_width='initi…"
      ]
     },
     "metadata": {},
     "output_type": "display_data"
    },
    {
     "name": "stdout",
     "output_type": "stream",
     "text": [
      "Epoch 962/1000 Iteration: 176100 Avg. Training loss: 5.8666 0.1410 sec/batch\n",
      "Epoch 962/1000 Iteration: 176200 Avg. Training loss: 5.7520 0.2588 sec/batch\n"
     ]
    },
    {
     "data": {
      "application/vnd.jupyter.widget-view+json": {
       "model_id": "",
       "version_major": 2,
       "version_minor": 0
      },
      "text/plain": [
       "HBox(children=(IntProgress(value=0, description='Batch', max=183, style=ProgressStyle(description_width='initi…"
      ]
     },
     "metadata": {},
     "output_type": "display_data"
    },
    {
     "name": "stdout",
     "output_type": "stream",
     "text": [
      "Epoch 963/1000 Iteration: 176300 Avg. Training loss: 6.0657 0.1840 sec/batch\n",
      "Epoch 963/1000 Iteration: 176400 Avg. Training loss: 5.6883 0.2601 sec/batch\n"
     ]
    },
    {
     "data": {
      "application/vnd.jupyter.widget-view+json": {
       "model_id": "",
       "version_major": 2,
       "version_minor": 0
      },
      "text/plain": [
       "HBox(children=(IntProgress(value=0, description='Batch', max=183, style=ProgressStyle(description_width='initi…"
      ]
     },
     "metadata": {},
     "output_type": "display_data"
    },
    {
     "name": "stdout",
     "output_type": "stream",
     "text": [
      "Epoch 964/1000 Iteration: 176500 Avg. Training loss: 5.7609 0.2279 sec/batch\n"
     ]
    },
    {
     "data": {
      "application/vnd.jupyter.widget-view+json": {
       "model_id": "",
       "version_major": 2,
       "version_minor": 0
      },
      "text/plain": [
       "HBox(children=(IntProgress(value=0, description='Batch', max=183, style=ProgressStyle(description_width='initi…"
      ]
     },
     "metadata": {},
     "output_type": "display_data"
    },
    {
     "name": "stdout",
     "output_type": "stream",
     "text": [
      "Epoch 965/1000 Iteration: 176600 Avg. Training loss: 5.7317 0.0131 sec/batch\n",
      "Epoch 965/1000 Iteration: 176700 Avg. Training loss: 5.7111 0.2601 sec/batch\n"
     ]
    },
    {
     "data": {
      "application/vnd.jupyter.widget-view+json": {
       "model_id": "",
       "version_major": 2,
       "version_minor": 0
      },
      "text/plain": [
       "HBox(children=(IntProgress(value=0, description='Batch', max=183, style=ProgressStyle(description_width='initi…"
      ]
     },
     "metadata": {},
     "output_type": "display_data"
    },
    {
     "name": "stdout",
     "output_type": "stream",
     "text": [
      "Epoch 966/1000 Iteration: 176800 Avg. Training loss: 5.8887 0.0573 sec/batch\n",
      "Epoch 966/1000 Iteration: 176900 Avg. Training loss: 5.5862 0.2592 sec/batch\n"
     ]
    },
    {
     "data": {
      "application/vnd.jupyter.widget-view+json": {
       "model_id": "",
       "version_major": 2,
       "version_minor": 0
      },
      "text/plain": [
       "HBox(children=(IntProgress(value=0, description='Batch', max=183, style=ProgressStyle(description_width='initi…"
      ]
     },
     "metadata": {},
     "output_type": "display_data"
    },
    {
     "name": "stdout",
     "output_type": "stream",
     "text": [
      "Epoch 967/1000 Iteration: 177000 Avg. Training loss: 5.8114 0.1017 sec/batch\n",
      "Nearest to pela: a, ., vez, e, na, da, pelo, foi,\n",
      "Nearest to fazer: só, mas, é, não, mesmo, que, levar, ainda,\n",
      "Nearest to depois: após, em, antes, já, mas, só, que, começo,\n",
      "Nearest to ao: o, do, também, ., por, um, em, pelo,\n",
      "Nearest to país: que, o, em, todo, já, mas, principalmente, do,\n",
      "Nearest to disse: afirmou, dizendo, ressaltou, diz, afirma, acrescentando, muito, falou,\n",
      "Nearest to está: continua, vem, estaria, estar, já, estava, agora, continuará,\n",
      "Nearest to nas: das, as, pelas, de, principalmente, além, na, suas,\n",
      "Nearest to leva: levam, um, por, exemplo, e, há, ., dá,\n",
      "Nearest to internacionais: nacionais, internacional, do, eua, fora, dos, país, relevante,\n",
      "Nearest to chefe: afirmou, ex-chefe, gabinete, segurança, ressaltou, indicou, disse, atual,\n",
      "Nearest to estádio: torcedores, beira-rio, jogo, arena, arquibancadas, torcida, partidas, torcedor,\n",
      "Nearest to filmes: filme, cinema, cineastas, cineasta, longa-metragem, ancine, estúdios, produções,\n",
      "Nearest to tratamento: tratamentos, pacientes, diagnóstico, quimioterapia, tratar, terapias, paciente, terapia,\n",
      "Nearest to mortes: anúncios, veja, óbitos, missas, homicídios, acidentes, confirmadas, assassinatos,\n",
      "Nearest to vice-presidente: presidente, assume, presidência, vice, vice-presidência, assumir, funções, temer,\n",
      "Epoch 967/1000 Iteration: 177100 Avg. Training loss: 5.7387 0.2717 sec/batch\n"
     ]
    },
    {
     "data": {
      "application/vnd.jupyter.widget-view+json": {
       "model_id": "",
       "version_major": 2,
       "version_minor": 0
      },
      "text/plain": [
       "HBox(children=(IntProgress(value=0, description='Batch', max=183, style=ProgressStyle(description_width='initi…"
      ]
     },
     "metadata": {},
     "output_type": "display_data"
    },
    {
     "name": "stdout",
     "output_type": "stream",
     "text": [
      "Epoch 968/1000 Iteration: 177200 Avg. Training loss: 5.6974 0.1454 sec/batch\n",
      "Epoch 968/1000 Iteration: 177300 Avg. Training loss: 5.6205 0.2600 sec/batch\n"
     ]
    },
    {
     "data": {
      "application/vnd.jupyter.widget-view+json": {
       "model_id": "",
       "version_major": 2,
       "version_minor": 0
      },
      "text/plain": [
       "HBox(children=(IntProgress(value=0, description='Batch', max=183, style=ProgressStyle(description_width='initi…"
      ]
     },
     "metadata": {},
     "output_type": "display_data"
    },
    {
     "name": "stdout",
     "output_type": "stream",
     "text": [
      "Epoch 969/1000 Iteration: 177400 Avg. Training loss: 5.5154 0.1875 sec/batch\n",
      "Epoch 969/1000 Iteration: 177500 Avg. Training loss: 5.7869 0.2572 sec/batch\n"
     ]
    },
    {
     "data": {
      "application/vnd.jupyter.widget-view+json": {
       "model_id": "",
       "version_major": 2,
       "version_minor": 0
      },
      "text/plain": [
       "HBox(children=(IntProgress(value=0, description='Batch', max=183, style=ProgressStyle(description_width='initi…"
      ]
     },
     "metadata": {},
     "output_type": "display_data"
    },
    {
     "name": "stdout",
     "output_type": "stream",
     "text": [
      "Epoch 970/1000 Iteration: 177600 Avg. Training loss: 5.7718 0.2338 sec/batch\n"
     ]
    },
    {
     "data": {
      "application/vnd.jupyter.widget-view+json": {
       "model_id": "",
       "version_major": 2,
       "version_minor": 0
      },
      "text/plain": [
       "HBox(children=(IntProgress(value=0, description='Batch', max=183, style=ProgressStyle(description_width='initi…"
      ]
     },
     "metadata": {},
     "output_type": "display_data"
    },
    {
     "name": "stdout",
     "output_type": "stream",
     "text": [
      "Epoch 971/1000 Iteration: 177700 Avg. Training loss: 5.7905 0.0191 sec/batch\n",
      "Epoch 971/1000 Iteration: 177800 Avg. Training loss: 5.7115 0.2592 sec/batch\n"
     ]
    },
    {
     "data": {
      "application/vnd.jupyter.widget-view+json": {
       "model_id": "",
       "version_major": 2,
       "version_minor": 0
      },
      "text/plain": [
       "HBox(children=(IntProgress(value=0, description='Batch', max=183, style=ProgressStyle(description_width='initi…"
      ]
     },
     "metadata": {},
     "output_type": "display_data"
    },
    {
     "name": "stdout",
     "output_type": "stream",
     "text": [
      "Epoch 972/1000 Iteration: 177900 Avg. Training loss: 6.0869 0.0627 sec/batch\n",
      "Epoch 972/1000 Iteration: 178000 Avg. Training loss: 5.9392 0.2599 sec/batch\n",
      "Nearest to pelo: o, por, ., ao, também, do, já, e,\n",
      "Nearest to ao: o, do, também, ., no, um, pelo, em,\n",
      "Nearest to é: não, para, ainda, que, mas, tem, só, o,\n",
      "Nearest to governo: oposição, país, apoio, ressaltou, do, econômica, pretende, congresso,\n",
      "Nearest to nas: das, pelas, as, de, além, suas, na, também,\n",
      "Nearest to após: depois, antes, voltou, teve, em, na, a, no,\n",
      "Nearest to são: paulo, e, na, em, de, tem, ., para,\n",
      "Nearest to pode: poderá, deve, poderia, vai, possível, é, terá, possa,\n",
      "Nearest to explica: afirma, diz, observa, responsável, possível, especialista, assim, também,\n",
      "Nearest to provas: prova, alegações, evidências, concluiu, finais, acusações, depoimentos, investigação,\n",
      "Nearest to garantir: assegurar, manter, garantindo, necessária, reforçar, preservar, avançar, melhorar,\n",
      "Nearest to casas: residências, moradias, delas, famílias, tomadas, vizinhas, construções, impedir,\n",
      "Nearest to popular: populares, diretas, retrocesso, único, insatisfação, há, apenas, pelo,\n",
      "Nearest to globo: tv, emissora, televisão, record, canais, audiência, novela, canal,\n",
      "Nearest to |: sarau, grátis, zefa, prevenir, sexta, azevedo, mesquiteiros, zahar,\n",
      "Nearest to comercial: exterior, comércio, transações, balança, utilizado, dólar, vista, financeiro,\n"
     ]
    },
    {
     "data": {
      "application/vnd.jupyter.widget-view+json": {
       "model_id": "",
       "version_major": 2,
       "version_minor": 0
      },
      "text/plain": [
       "HBox(children=(IntProgress(value=0, description='Batch', max=183, style=ProgressStyle(description_width='initi…"
      ]
     },
     "metadata": {},
     "output_type": "display_data"
    },
    {
     "name": "stdout",
     "output_type": "stream",
     "text": [
      "Epoch 973/1000 Iteration: 178100 Avg. Training loss: 5.8264 0.1070 sec/batch\n",
      "Epoch 973/1000 Iteration: 178200 Avg. Training loss: 6.0397 0.2600 sec/batch\n"
     ]
    },
    {
     "data": {
      "application/vnd.jupyter.widget-view+json": {
       "model_id": "",
       "version_major": 2,
       "version_minor": 0
      },
      "text/plain": [
       "HBox(children=(IntProgress(value=0, description='Batch', max=183, style=ProgressStyle(description_width='initi…"
      ]
     },
     "metadata": {},
     "output_type": "display_data"
    },
    {
     "name": "stdout",
     "output_type": "stream",
     "text": [
      "Epoch 974/1000 Iteration: 178300 Avg. Training loss: 5.7548 0.1518 sec/batch\n",
      "Epoch 974/1000 Iteration: 178400 Avg. Training loss: 5.9870 0.2608 sec/batch\n"
     ]
    },
    {
     "data": {
      "application/vnd.jupyter.widget-view+json": {
       "model_id": "",
       "version_major": 2,
       "version_minor": 0
      },
      "text/plain": [
       "HBox(children=(IntProgress(value=0, description='Batch', max=183, style=ProgressStyle(description_width='initi…"
      ]
     },
     "metadata": {},
     "output_type": "display_data"
    },
    {
     "name": "stdout",
     "output_type": "stream",
     "text": [
      "Epoch 975/1000 Iteration: 178500 Avg. Training loss: 5.7200 0.1948 sec/batch\n",
      "Epoch 975/1000 Iteration: 178600 Avg. Training loss: 5.8255 0.2585 sec/batch\n"
     ]
    },
    {
     "data": {
      "application/vnd.jupyter.widget-view+json": {
       "model_id": "",
       "version_major": 2,
       "version_minor": 0
      },
      "text/plain": [
       "HBox(children=(IntProgress(value=0, description='Batch', max=183, style=ProgressStyle(description_width='initi…"
      ]
     },
     "metadata": {},
     "output_type": "display_data"
    },
    {
     "name": "stdout",
     "output_type": "stream",
     "text": [
      "Epoch 976/1000 Iteration: 178700 Avg. Training loss: 5.8694 0.2386 sec/batch\n"
     ]
    },
    {
     "data": {
      "application/vnd.jupyter.widget-view+json": {
       "model_id": "",
       "version_major": 2,
       "version_minor": 0
      },
      "text/plain": [
       "HBox(children=(IntProgress(value=0, description='Batch', max=183, style=ProgressStyle(description_width='initi…"
      ]
     },
     "metadata": {},
     "output_type": "display_data"
    },
    {
     "name": "stdout",
     "output_type": "stream",
     "text": [
      "Epoch 977/1000 Iteration: 178800 Avg. Training loss: 6.0173 0.0238 sec/batch\n",
      "Epoch 977/1000 Iteration: 178900 Avg. Training loss: 5.9123 0.2598 sec/batch\n"
     ]
    },
    {
     "data": {
      "application/vnd.jupyter.widget-view+json": {
       "model_id": "",
       "version_major": 2,
       "version_minor": 0
      },
      "text/plain": [
       "HBox(children=(IntProgress(value=0, description='Batch', max=183, style=ProgressStyle(description_width='initi…"
      ]
     },
     "metadata": {},
     "output_type": "display_data"
    },
    {
     "name": "stdout",
     "output_type": "stream",
     "text": [
      "Epoch 978/1000 Iteration: 179000 Avg. Training loss: 5.8021 0.0675 sec/batch\n",
      "Nearest to ,: ., e, já, também, que, em, o, por,\n",
      "Nearest to quando: ., até, que, começo, antes, ele, só, novamente,\n",
      "Nearest to já: ainda, que, ., apenas, porém, o, também, mas,\n",
      "Nearest to de: em, a, também, ., que, do, e, apenas,\n",
      "Nearest to da: a, em, de, na, ., fora, parte, do,\n",
      "Nearest to 000: 00, mil, 0.000, r$, cerca, 0, dobro, quanto,\n",
      "Nearest to em: de, também, a, na, ., no, do, apenas,\n",
      "Nearest to entre: também, em, especialmente, no, ainda, com, de, o,\n",
      "Nearest to colocar: sair, retirar, deixar, colocou, fazer, cortar, levar, manter,\n",
      "Nearest to data: fim, antes, início, ocorrerá, término, dia, datas, esta,\n",
      "Nearest to somente: apenas, mesmo, só, a, ainda, de, até, porém,\n",
      "Nearest to usuários: usuário, facebook, aplicativo, internet, atualização, whatsapp, ferramenta, clientes,\n",
      "Nearest to francisco: papa, semicego, yancy, perché, pontífice, enxerga, san, católicos,\n",
      "Nearest to diferença: maior, segundo, ainda, entanto, mesmo, somente, a, porém,\n",
      "Nearest to queria: iria, poderia, pensava, precisava, pretendia, podia, poderiam, iriam,\n",
      "Nearest to palácio: planalto, alvorada, peemedebista, jaburu, encontro, temer, assessores, articulação,\n",
      "Epoch 978/1000 Iteration: 179100 Avg. Training loss: 5.6135 0.2722 sec/batch\n"
     ]
    },
    {
     "data": {
      "application/vnd.jupyter.widget-view+json": {
       "model_id": "",
       "version_major": 2,
       "version_minor": 0
      },
      "text/plain": [
       "HBox(children=(IntProgress(value=0, description='Batch', max=183, style=ProgressStyle(description_width='initi…"
      ]
     },
     "metadata": {},
     "output_type": "display_data"
    },
    {
     "name": "stdout",
     "output_type": "stream",
     "text": [
      "Epoch 979/1000 Iteration: 179200 Avg. Training loss: 5.8045 0.1123 sec/batch\n",
      "Epoch 979/1000 Iteration: 179300 Avg. Training loss: 5.9165 0.2595 sec/batch\n"
     ]
    },
    {
     "data": {
      "application/vnd.jupyter.widget-view+json": {
       "model_id": "",
       "version_major": 2,
       "version_minor": 0
      },
      "text/plain": [
       "HBox(children=(IntProgress(value=0, description='Batch', max=183, style=ProgressStyle(description_width='initi…"
      ]
     },
     "metadata": {},
     "output_type": "display_data"
    },
    {
     "name": "stdout",
     "output_type": "stream",
     "text": [
      "Epoch 980/1000 Iteration: 179400 Avg. Training loss: 6.0518 0.1561 sec/batch\n",
      "Epoch 980/1000 Iteration: 179500 Avg. Training loss: 5.7476 0.2607 sec/batch\n"
     ]
    },
    {
     "data": {
      "application/vnd.jupyter.widget-view+json": {
       "model_id": "",
       "version_major": 2,
       "version_minor": 0
      },
      "text/plain": [
       "HBox(children=(IntProgress(value=0, description='Batch', max=183, style=ProgressStyle(description_width='initi…"
      ]
     },
     "metadata": {},
     "output_type": "display_data"
    },
    {
     "name": "stdout",
     "output_type": "stream",
     "text": [
      "Epoch 981/1000 Iteration: 179600 Avg. Training loss: 5.6800 0.2001 sec/batch\n",
      "Epoch 981/1000 Iteration: 179700 Avg. Training loss: 5.9024 0.2598 sec/batch\n"
     ]
    },
    {
     "data": {
      "application/vnd.jupyter.widget-view+json": {
       "model_id": "",
       "version_major": 2,
       "version_minor": 0
      },
      "text/plain": [
       "HBox(children=(IntProgress(value=0, description='Batch', max=183, style=ProgressStyle(description_width='initi…"
      ]
     },
     "metadata": {},
     "output_type": "display_data"
    },
    {
     "name": "stdout",
     "output_type": "stream",
     "text": [
      "Epoch 982/1000 Iteration: 179800 Avg. Training loss: 6.0319 0.2437 sec/batch\n"
     ]
    },
    {
     "data": {
      "application/vnd.jupyter.widget-view+json": {
       "model_id": "",
       "version_major": 2,
       "version_minor": 0
      },
      "text/plain": [
       "HBox(children=(IntProgress(value=0, description='Batch', max=183, style=ProgressStyle(description_width='initi…"
      ]
     },
     "metadata": {},
     "output_type": "display_data"
    },
    {
     "name": "stdout",
     "output_type": "stream",
     "text": [
      "Epoch 983/1000 Iteration: 179900 Avg. Training loss: 6.0260 0.0289 sec/batch\n",
      "Epoch 983/1000 Iteration: 180000 Avg. Training loss: 5.8809 0.2601 sec/batch\n",
      "Nearest to por: e, também, ., pelo, de, ,, que, com,\n",
      "Nearest to mesmo: ainda, mas, só, apesar, apenas, entanto, o, que,\n",
      "Nearest to maior: de, menor, principalmente, especialmente, em, tem, do, o,\n",
      "Nearest to mas: ainda, porém, que, só, não, agora, já, mesmo,\n",
      "Nearest to era: tinha, foi, ele, seria, fosse, tendo, apenas, fazia,\n",
      "Nearest to como: e, também, ., que, ,, exemplo, já, o,\n",
      "Nearest to -: possivelmente, 00, e, aos, ou, geralmente, 0, bem,\n",
      "Nearest to seu: ao, e, próprio, o, ele, também, de, do,\n",
      "Nearest to diferença: entanto, somente, mesmo, deve, ainda, contudo, de, a,\n",
      "Nearest to festival: festivais, cannes, evento, veneza, edição, bienal, premiação, sundance,\n",
      "Nearest to seguinte: dia, antes, última, começo, junho, coordenação, no, fim,\n",
      "Nearest to provas: prova, acusações, motivação, fase, alegações, obtidas, finais, evidências,\n",
      "Nearest to previsão: expectativa, prevista, esperada, deve, preveem, ocorrer, fim, próximos,\n",
      "Nearest to continuar: continuará, continua, vem, está, vinha, agora, continuarem, disso,\n",
      "Nearest to emprego: trabalho, empregos, desemprego, desempregados, crescimento, trabalhar, atividade, desaceleração,\n",
      "Nearest to santa: catarina, luzia, cecília, hc, misericórdia, ifigênia, coração, reviravolta,\n"
     ]
    },
    {
     "data": {
      "application/vnd.jupyter.widget-view+json": {
       "model_id": "",
       "version_major": 2,
       "version_minor": 0
      },
      "text/plain": [
       "HBox(children=(IntProgress(value=0, description='Batch', max=183, style=ProgressStyle(description_width='initi…"
      ]
     },
     "metadata": {},
     "output_type": "display_data"
    },
    {
     "name": "stdout",
     "output_type": "stream",
     "text": [
      "Epoch 984/1000 Iteration: 180100 Avg. Training loss: 5.9523 0.0726 sec/batch\n",
      "Epoch 984/1000 Iteration: 180200 Avg. Training loss: 5.9727 0.2600 sec/batch\n"
     ]
    },
    {
     "data": {
      "application/vnd.jupyter.widget-view+json": {
       "model_id": "",
       "version_major": 2,
       "version_minor": 0
      },
      "text/plain": [
       "HBox(children=(IntProgress(value=0, description='Batch', max=183, style=ProgressStyle(description_width='initi…"
      ]
     },
     "metadata": {},
     "output_type": "display_data"
    },
    {
     "name": "stdout",
     "output_type": "stream",
     "text": [
      "Epoch 985/1000 Iteration: 180300 Avg. Training loss: 6.0108 0.1172 sec/batch\n",
      "Epoch 985/1000 Iteration: 180400 Avg. Training loss: 6.1634 0.2591 sec/batch\n"
     ]
    },
    {
     "data": {
      "application/vnd.jupyter.widget-view+json": {
       "model_id": "",
       "version_major": 2,
       "version_minor": 0
      },
      "text/plain": [
       "HBox(children=(IntProgress(value=0, description='Batch', max=183, style=ProgressStyle(description_width='initi…"
      ]
     },
     "metadata": {},
     "output_type": "display_data"
    },
    {
     "name": "stdout",
     "output_type": "stream",
     "text": [
      "Epoch 986/1000 Iteration: 180500 Avg. Training loss: 5.9532 0.1618 sec/batch\n",
      "Epoch 986/1000 Iteration: 180600 Avg. Training loss: 6.0347 0.2600 sec/batch\n"
     ]
    },
    {
     "data": {
      "application/vnd.jupyter.widget-view+json": {
       "model_id": "",
       "version_major": 2,
       "version_minor": 0
      },
      "text/plain": [
       "HBox(children=(IntProgress(value=0, description='Batch', max=183, style=ProgressStyle(description_width='initi…"
      ]
     },
     "metadata": {},
     "output_type": "display_data"
    },
    {
     "name": "stdout",
     "output_type": "stream",
     "text": [
      "Epoch 987/1000 Iteration: 180700 Avg. Training loss: 5.8018 0.2047 sec/batch\n",
      "Epoch 987/1000 Iteration: 180800 Avg. Training loss: 5.7445 0.2592 sec/batch\n"
     ]
    },
    {
     "data": {
      "application/vnd.jupyter.widget-view+json": {
       "model_id": "",
       "version_major": 2,
       "version_minor": 0
      },
      "text/plain": [
       "HBox(children=(IntProgress(value=0, description='Batch', max=183, style=ProgressStyle(description_width='initi…"
      ]
     },
     "metadata": {},
     "output_type": "display_data"
    },
    {
     "name": "stdout",
     "output_type": "stream",
     "text": [
      "Epoch 988/1000 Iteration: 180900 Avg. Training loss: 6.0124 0.2502 sec/batch\n"
     ]
    },
    {
     "data": {
      "application/vnd.jupyter.widget-view+json": {
       "model_id": "",
       "version_major": 2,
       "version_minor": 0
      },
      "text/plain": [
       "HBox(children=(IntProgress(value=0, description='Batch', max=183, style=ProgressStyle(description_width='initi…"
      ]
     },
     "metadata": {},
     "output_type": "display_data"
    },
    {
     "name": "stdout",
     "output_type": "stream",
     "text": [
      "Epoch 989/1000 Iteration: 181000 Avg. Training loss: 5.8505 0.0341 sec/batch\n",
      "Nearest to das: as, dessas, outras, nas, de, pelas, em, também,\n",
      "Nearest to diz: afirma, que, agora, ., mas, conta, ainda, ,,\n",
      "Nearest to dois: nove, oito, nos, três, cinco, outros, seis, primeiros,\n",
      "Nearest to foram: serão, serem, seriam, forem, estavam, quais, feitos, .,\n",
      "Nearest to estão: estariam, estavam, continuam, ficam, estarão, há, está, seguem,\n",
      "Nearest to do: o, de, em, também, no, ao, ainda, .,\n",
      "Nearest to também: de, o, em, ., e, que, com, ainda,\n",
      "Nearest to maior: do, principalmente, menor, o, de, tem, especialmente, em,\n",
      "Nearest to comunicação: secom, civil, imprensa, interlocução, informação, edinho, segurança, publicidade,\n",
      "Nearest to colocar: apostar, fazer, sair, deixar, colocou, retirar, pretende, começar,\n",
      "Nearest to |: grátis, sarau, sexta, prevenir, zefa, quarta, mesquiteiros, 0h,\n",
      "Nearest to global: países, aquecimento, climática, globais, g00, positiva, recente, estímulo,\n",
      "Nearest to internacionais: nacionais, do, internacional, fora, eua, dos, estrangeiros, além,\n",
      "Nearest to sede: realizada, em, na, durante, da, dirigentes, numa, organizada,\n",
      "Nearest to chefe: ex-chefe, afirmou, disse, gabinete, chefia, indicou, polícias, chefiou,\n",
      "Nearest to querem: quer, querer, decidiram, desejam, vão, veem, ameaçam, adianta,\n",
      "Epoch 989/1000 Iteration: 181100 Avg. Training loss: 5.9582 0.2726 sec/batch\n"
     ]
    },
    {
     "data": {
      "application/vnd.jupyter.widget-view+json": {
       "model_id": "",
       "version_major": 2,
       "version_minor": 0
      },
      "text/plain": [
       "HBox(children=(IntProgress(value=0, description='Batch', max=183, style=ProgressStyle(description_width='initi…"
      ]
     },
     "metadata": {},
     "output_type": "display_data"
    },
    {
     "name": "stdout",
     "output_type": "stream",
     "text": [
      "Epoch 990/1000 Iteration: 181200 Avg. Training loss: 6.1001 0.0780 sec/batch\n",
      "Epoch 990/1000 Iteration: 181300 Avg. Training loss: 6.0113 0.2602 sec/batch\n"
     ]
    },
    {
     "data": {
      "application/vnd.jupyter.widget-view+json": {
       "model_id": "",
       "version_major": 2,
       "version_minor": 0
      },
      "text/plain": [
       "HBox(children=(IntProgress(value=0, description='Batch', max=183, style=ProgressStyle(description_width='initi…"
      ]
     },
     "metadata": {},
     "output_type": "display_data"
    },
    {
     "name": "stdout",
     "output_type": "stream",
     "text": [
      "Epoch 991/1000 Iteration: 181400 Avg. Training loss: 6.0199 0.1227 sec/batch\n",
      "Epoch 991/1000 Iteration: 181500 Avg. Training loss: 5.9559 0.2595 sec/batch\n"
     ]
    },
    {
     "data": {
      "application/vnd.jupyter.widget-view+json": {
       "model_id": "",
       "version_major": 2,
       "version_minor": 0
      },
      "text/plain": [
       "HBox(children=(IntProgress(value=0, description='Batch', max=183, style=ProgressStyle(description_width='initi…"
      ]
     },
     "metadata": {},
     "output_type": "display_data"
    },
    {
     "name": "stdout",
     "output_type": "stream",
     "text": [
      "Epoch 992/1000 Iteration: 181600 Avg. Training loss: 6.1725 0.1661 sec/batch\n",
      "Epoch 992/1000 Iteration: 181700 Avg. Training loss: 6.0211 0.2597 sec/batch\n"
     ]
    },
    {
     "data": {
      "application/vnd.jupyter.widget-view+json": {
       "model_id": "",
       "version_major": 2,
       "version_minor": 0
      },
      "text/plain": [
       "HBox(children=(IntProgress(value=0, description='Batch', max=183, style=ProgressStyle(description_width='initi…"
      ]
     },
     "metadata": {},
     "output_type": "display_data"
    },
    {
     "name": "stdout",
     "output_type": "stream",
     "text": [
      "Epoch 993/1000 Iteration: 181800 Avg. Training loss: 6.1746 0.2109 sec/batch\n",
      "Epoch 993/1000 Iteration: 181900 Avg. Training loss: 5.7975 0.2596 sec/batch\n"
     ]
    },
    {
     "data": {
      "application/vnd.jupyter.widget-view+json": {
       "model_id": "",
       "version_major": 2,
       "version_minor": 0
      },
      "text/plain": [
       "HBox(children=(IntProgress(value=0, description='Batch', max=183, style=ProgressStyle(description_width='initi…"
      ]
     },
     "metadata": {},
     "output_type": "display_data"
    },
    {
     "name": "stdout",
     "output_type": "stream",
     "text": [
      "Epoch 994/1000 Iteration: 182000 Avg. Training loss: 5.7779 0.2545 sec/batch\n",
      "Nearest to ano: passado, mês, deste, junho, abril, neste, maio, julho,\n",
      "Nearest to seu: próprio, ao, o, de, ele, pelo, do, .,\n",
      "Nearest to presidente: presidentes, governo, rousseff, dilma, então, presidência, conversar, sugeriu,\n",
      "Nearest to muito: bastante, mas, porque, mais, diferente, pouco, tão, que,\n",
      "Nearest to seus: os, outros, próprios, dos, todos, alguns, apenas, nos,\n",
      "Nearest to ter: teria, tenha, terem, havia, sido, tendo, teriam, tenham,\n",
      "Nearest to disse: afirmou, reiterou, falou, ressaltou, diz, dizendo, citou, afirma,\n",
      "Nearest to brasil: no, mundo, ., com, do, para, e, o,\n",
      "Nearest to tomar: tomou, toma, tomará, tomadas, tomado, tomam, tomada, avaliar,\n",
      "Nearest to pf: polícia, depoimento, operação, deflagrada, investigação, jato, lava, federal,\n",
      "Nearest to vídeos: fotos, comentários, conteúdo, acontecimentos, relevantes, leitores, participação, notícias,\n",
      "Nearest to mínimo: salário, benefício, máximo, ganham, valor, atuais, cinco, maior,\n",
      "Nearest to luz: energia, escuridão, elétrica, linhas, eletricidade, entre, contemplar, grande,\n",
      "Nearest to la: inicio, nación, contrabando, el, cámara, deportivo, los, thg,\n",
      "Nearest to pretende: vai, decidiu, irá, quer, planeja, objetivo, tentar, voltou,\n",
      "Nearest to livros: literatura, editoras, história, romances, escrever, revistas, clássicos, leitura,\n"
     ]
    },
    {
     "data": {
      "application/vnd.jupyter.widget-view+json": {
       "model_id": "",
       "version_major": 2,
       "version_minor": 0
      },
      "text/plain": [
       "HBox(children=(IntProgress(value=0, description='Batch', max=183, style=ProgressStyle(description_width='initi…"
      ]
     },
     "metadata": {},
     "output_type": "display_data"
    },
    {
     "name": "stdout",
     "output_type": "stream",
     "text": [
      "Epoch 995/1000 Iteration: 182100 Avg. Training loss: 5.8818 0.0388 sec/batch\n",
      "Epoch 995/1000 Iteration: 182200 Avg. Training loss: 6.0718 0.2605 sec/batch\n"
     ]
    },
    {
     "data": {
      "application/vnd.jupyter.widget-view+json": {
       "model_id": "",
       "version_major": 2,
       "version_minor": 0
      },
      "text/plain": [
       "HBox(children=(IntProgress(value=0, description='Batch', max=183, style=ProgressStyle(description_width='initi…"
      ]
     },
     "metadata": {},
     "output_type": "display_data"
    },
    {
     "name": "stdout",
     "output_type": "stream",
     "text": [
      "Epoch 996/1000 Iteration: 182300 Avg. Training loss: 5.9486 0.0829 sec/batch\n",
      "Epoch 996/1000 Iteration: 182400 Avg. Training loss: 5.8289 0.2593 sec/batch\n"
     ]
    },
    {
     "data": {
      "application/vnd.jupyter.widget-view+json": {
       "model_id": "",
       "version_major": 2,
       "version_minor": 0
      },
      "text/plain": [
       "HBox(children=(IntProgress(value=0, description='Batch', max=183, style=ProgressStyle(description_width='initi…"
      ]
     },
     "metadata": {},
     "output_type": "display_data"
    },
    {
     "name": "stdout",
     "output_type": "stream",
     "text": [
      "Epoch 997/1000 Iteration: 182500 Avg. Training loss: 5.8622 0.1276 sec/batch\n",
      "Epoch 997/1000 Iteration: 182600 Avg. Training loss: 5.9491 0.2589 sec/batch\n"
     ]
    },
    {
     "data": {
      "application/vnd.jupyter.widget-view+json": {
       "model_id": "",
       "version_major": 2,
       "version_minor": 0
      },
      "text/plain": [
       "HBox(children=(IntProgress(value=0, description='Batch', max=183, style=ProgressStyle(description_width='initi…"
      ]
     },
     "metadata": {},
     "output_type": "display_data"
    },
    {
     "name": "stdout",
     "output_type": "stream",
     "text": [
      "Epoch 998/1000 Iteration: 182700 Avg. Training loss: 5.9681 0.1717 sec/batch\n",
      "Epoch 998/1000 Iteration: 182800 Avg. Training loss: 6.1306 0.2603 sec/batch\n"
     ]
    },
    {
     "data": {
      "application/vnd.jupyter.widget-view+json": {
       "model_id": "",
       "version_major": 2,
       "version_minor": 0
      },
      "text/plain": [
       "HBox(children=(IntProgress(value=0, description='Batch', max=183, style=ProgressStyle(description_width='initi…"
      ]
     },
     "metadata": {},
     "output_type": "display_data"
    },
    {
     "name": "stdout",
     "output_type": "stream",
     "text": [
      "Epoch 999/1000 Iteration: 182900 Avg. Training loss: 6.0093 0.2157 sec/batch\n",
      "Epoch 999/1000 Iteration: 183000 Avg. Training loss: 5.8201 0.2588 sec/batch\n",
      "Nearest to em: de, ., também, ,, a, já, do, vez,\n",
      "Nearest to às: domingo, hoje, 00h, dia, sábado, das, volta, na,\n",
      "Nearest to ,: ., e, em, também, já, de, que, a,\n",
      "Nearest to entre: também, outros, em, especialmente, com, de, entanto, incluindo,\n",
      "Nearest to dia: fim, início, mês, março, antes, neste, último, domingo,\n",
      "Nearest to milhões: milhão, mil, 0,0, aproximadamente, cerca, 00,0, 000,0, pagou,\n",
      "Nearest to muito: bastante, mas, porque, ainda, pouco, não, mais, que,\n",
      "Nearest to nas: pelas, das, as, suas, primeiras, próximas, duas, inclusive,\n",
      "Nearest to minas: gerais, pimentel, ceará, bahia, rondônia, espírito, ufmg, mineiro,\n",
      "Nearest to abrir: abriu, abrirá, ampliar, colocar, fazer, abrindo, fechar, virar,\n",
      "Nearest to investidores: mercados, volatilidade, mercado, liquidez, emergentes, investidor, bolsa, otimismo,\n",
      "Nearest to tomar: toma, tomadas, tomou, tomará, tomado, tomando, tomem, tomada,\n",
      "Nearest to números: dados, estatísticas, divulgados, resultados, indicadores, positivos, esses, termos,\n",
      "Nearest to quarto: terceiro, quinto, sexto, primeiro, último, consecutivo, colocado, atrás,\n",
      "Nearest to recuperação: judicial, melhora, recuperar, ainda, depende, manter, retomada, entanto,\n",
      "Nearest to popular: populares, como, protesto, há, de, um, uma, depois,\n"
     ]
    }
   ],
   "source": [
    "w2v_sg_nn.fit(train_x       = df_train[\"word\"].values,\n",
    "              train_y       = df_train[\"target\"].values,\n",
    "              batch_size    = batch_size,\n",
    "              learning_rate = learning_rate,\n",
    "              num_epochs    = num_epochs,\n",
    "              valid_size    = valid_size)"
   ]
  },
  {
   "cell_type": "code",
   "execution_count": 24,
   "metadata": {
    "ExecuteTime": {
     "end_time": "2020-05-07T22:52:43.694651Z",
     "start_time": "2020-05-07T22:52:43.446340Z"
    }
   },
   "outputs": [
    {
     "ename": "AttributeError",
     "evalue": "'RefVariable' object has no attribute 'numpy'",
     "output_type": "error",
     "traceback": [
      "\u001b[1;31m---------------------------------------------------------------------------\u001b[0m",
      "\u001b[1;31mAttributeError\u001b[0m                            Traceback (most recent call last)",
      "\u001b[1;32m<ipython-input-24-da58383da0a4>\u001b[0m in \u001b[0;36m<module>\u001b[1;34m\u001b[0m\n\u001b[1;32m----> 1\u001b[1;33m \u001b[0mw2v_sg_nn\u001b[0m\u001b[1;33m.\u001b[0m\u001b[0membedding_weights\u001b[0m\u001b[1;33m.\u001b[0m\u001b[0mnumpy\u001b[0m\u001b[1;33m(\u001b[0m\u001b[1;33m)\u001b[0m\u001b[1;33m\u001b[0m\u001b[1;33m\u001b[0m\u001b[0m\n\u001b[0m",
      "\u001b[1;31mAttributeError\u001b[0m: 'RefVariable' object has no attribute 'numpy'"
     ]
    }
   ],
   "source": [
    "emb = w2v_sg_nn.embedding_weights"
   ]
  },
  {
   "cell_type": "code",
   "execution_count": 2,
   "metadata": {
    "ExecuteTime": {
     "end_time": "2020-05-11T03:57:27.956627Z",
     "start_time": "2020-05-11T03:57:27.843947Z"
    }
   },
   "outputs": [],
   "source": [
    "import pickle\n",
    "\n",
    "pickle.dump(emb, open(\"../checkpoints/embeddings/w2v_skipgram/emb_weigths.pkl\", \"wb\"))"
   ]
  },
  {
   "cell_type": "code",
   "execution_count": null,
   "metadata": {},
   "outputs": [],
   "source": []
  },
  {
   "cell_type": "code",
   "execution_count": 45,
   "metadata": {
    "ExecuteTime": {
     "end_time": "2020-05-07T23:10:40.169039Z",
     "start_time": "2020-05-07T23:10:39.739186Z"
    }
   },
   "outputs": [
    {
     "data": {
      "text/plain": [
       "array([[ 0.7173157 , -0.53350973,  0.6717682 , ..., -0.5308323 ,\n",
       "         0.6741986 ,  0.7137723 ],\n",
       "       [-0.51913095,  0.59397864,  0.11344957, ...,  0.7044833 ,\n",
       "         0.35482836,  0.00381589],\n",
       "       [-0.54860187,  0.08661819,  0.6836648 , ..., -0.30316138,\n",
       "         0.9759929 , -0.55695844],\n",
       "       ...,\n",
       "       [ 0.40950537, -0.31852198, -0.74402165, ...,  0.7101724 ,\n",
       "        -0.6408508 , -0.4226091 ],\n",
       "       [ 0.29033566,  0.3813777 ,  0.1261158 , ...,  0.25093937,\n",
       "         0.17735672, -0.6663549 ],\n",
       "       [-0.565043  ,  0.25645494,  0.04808998, ...,  0.26833463,\n",
       "         0.4715128 , -0.7026739 ]], dtype=float32)"
      ]
     },
     "execution_count": 45,
     "metadata": {},
     "output_type": "execute_result"
    }
   ],
   "source": [
    "pickle.load(open(\"../checkpoints/embeddings/w2v_skipgram/emb_weigths.pkl\", \"rb\"))"
   ]
  },
  {
   "cell_type": "code",
   "execution_count": 25,
   "metadata": {
    "ExecuteTime": {
     "end_time": "2020-05-15T04:03:22.661127Z",
     "start_time": "2020-05-15T04:03:22.401820Z"
    }
   },
   "outputs": [
    {
     "data": {
      "text/plain": [
       "{'int_to_vocab': {1: ',',\n",
       "  2: 'de',\n",
       "  3: '.',\n",
       "  4: 'a',\n",
       "  5: 'o',\n",
       "  6: 'que',\n",
       "  7: 'e',\n",
       "  8: 'do',\n",
       "  9: 'da',\n",
       "  10: 'em',\n",
       "  11: 'para',\n",
       "  12: 'no',\n",
       "  13: 'com',\n",
       "  14: 'um',\n",
       "  15: 'na',\n",
       "  16: 'é',\n",
       "  17: 'não',\n",
       "  18: '00',\n",
       "  19: 'os',\n",
       "  20: '(',\n",
       "  21: ')',\n",
       "  22: 'uma',\n",
       "  23: 'por',\n",
       "  24: 'se',\n",
       "  25: 'as',\n",
       "  26: 'dos',\n",
       "  27: 'mais',\n",
       "  28: 'como',\n",
       "  29: 'ao',\n",
       "  30: '0000',\n",
       "  31: 'foi',\n",
       "  32: 'mas',\n",
       "  33: 'à',\n",
       "  34: 'são',\n",
       "  35: 'das',\n",
       "  36: ':',\n",
       "  37: '%',\n",
       "  38: 'ele',\n",
       "  39: '0',\n",
       "  40: '-',\n",
       "  41: 'pelo',\n",
       "  42: 'ser',\n",
       "  43: 'pela',\n",
       "  44: 'também',\n",
       "  45: 'sua',\n",
       "  46: 'ou',\n",
       "  47: 'já',\n",
       "  48: '000',\n",
       "  49: 'sobre',\n",
       "  50: 'r$',\n",
       "  51: 'anos',\n",
       "  52: 'tem',\n",
       "  53: 'nos',\n",
       "  54: 'disse',\n",
       "  55: 'seu',\n",
       "  56: 'entre',\n",
       "  57: 'governo',\n",
       "  58: 'segundo',\n",
       "  59: 'está',\n",
       "  60: 'ainda',\n",
       "  61: 'até',\n",
       "  62: 'ano',\n",
       "  63: 'brasil',\n",
       "  64: 'presidente',\n",
       "  65: 'diz',\n",
       "  66: 'há',\n",
       "  67: 'quando',\n",
       "  68: 'paulo',\n",
       "  69: 'isso',\n",
       "  70: 'país',\n",
       "  71: 'ter',\n",
       "  72: '?',\n",
       "  73: 'nesta',\n",
       "  74: 'nas',\n",
       "  75: 'sem',\n",
       "  76: 'foram',\n",
       "  77: 'muito',\n",
       "  78: 'às',\n",
       "  79: 'pode',\n",
       "  80: 'contra',\n",
       "  81: 'pessoas',\n",
       "  82: 'mesmo',\n",
       "  83: 'era',\n",
       "  84: 'aos',\n",
       "  85: 'dois',\n",
       "  86: 'após',\n",
       "  87: 'ela',\n",
       "  88: 'dia',\n",
       "  89: 'eu',\n",
       "  90: 'só',\n",
       "  91: 'vai',\n",
       "  92: 'seus',\n",
       "  93: 'depois',\n",
       "  94: 'milhões',\n",
       "  95: 'afirmou',\n",
       "  96: 'estão',\n",
       "  97: 'desde',\n",
       "  98: 'fazer',\n",
       "  99: 'maior',\n",
       "  100: 'parte',\n",
       "  101: 'será',\n",
       "  102: 'três',\n",
       "  103: 'caso',\n",
       "  104: 'casa',\n",
       "  105: 'outros',\n",
       "  106: 'rio',\n",
       "  107: 'mil',\n",
       "  108: 'menos',\n",
       "  109: '0,0',\n",
       "  110: 'mundo',\n",
       "  111: 'apenas',\n",
       "  112: 'federal',\n",
       "  113: 'acordo',\n",
       "  114: 'quem',\n",
       "  115: 'essa',\n",
       "  116: 'esse',\n",
       "  117: 'estado',\n",
       "  118: 'porque',\n",
       "  119: 'eles',\n",
       "  120: 'todos',\n",
       "  121: 'hoje',\n",
       "  122: 'além',\n",
       "  123: ';',\n",
       "  124: 'empresa',\n",
       "  125: 'tempo',\n",
       "  126: 'onde',\n",
       "  127: '00h',\n",
       "  128: 'antes',\n",
       "  129: 'dilma',\n",
       "  130: 'vez',\n",
       "  131: 'folha',\n",
       "  132: 'agora',\n",
       "  133: 'grande',\n",
       "  134: 'primeiro',\n",
       "  135: 'cidade',\n",
       "  136: 'deve',\n",
       "  137: 'suas',\n",
       "  138: 'neste',\n",
       "  139: '*',\n",
       "  140: 'público',\n",
       "  141: 'dias',\n",
       "  142: 'política',\n",
       "  143: 'você',\n",
       "  144: 'outro',\n",
       "  145: 'grupo',\n",
       "  146: 'nova',\n",
       "  147: 'duas',\n",
       "  148: 'durante',\n",
       "  149: 'bem',\n",
       "  150: 'primeira',\n",
       "  151: 'nacional',\n",
       "  152: 'afirma',\n",
       "  153: 'empresas',\n",
       "  154: 'semana',\n",
       "  155: 'novo',\n",
       "  156: 'cada',\n",
       "  157: 'passado',\n",
       "  158: '[',\n",
       "  159: 'estava',\n",
       "  160: ']',\n",
       "  161: '0,00',\n",
       "  162: '0.000',\n",
       "  163: 'seja',\n",
       "  164: 'me',\n",
       "  165: 'temer',\n",
       "  166: 'trabalho',\n",
       "  167: 'assim',\n",
       "  168: 'meio',\n",
       "  169: 'havia',\n",
       "  170: 'vida',\n",
       "  171: 'mercado',\n",
       "  172: 'bilhões',\n",
       "  173: 'ministro',\n",
       "  174: 'melhor',\n",
       "  175: 'têm',\n",
       "  176: 'fim',\n",
       "  177: 'processo',\n",
       "  178: 'justiça',\n",
       "  179: 'polícia',\n",
       "  180: 'cerca',\n",
       "  181: 'conta',\n",
       "  182: 'estados',\n",
       "  183: 'todo',\n",
       "  184: 'teve',\n",
       "  185: 'forma',\n",
       "  186: 'brasileiro',\n",
       "  187: 'final',\n",
       "  188: 'ministério',\n",
       "  189: 'nem',\n",
       "  190: 'sido',\n",
       "  191: 'outras',\n",
       "  192: 'tinha',\n",
       "  193: 'sempre',\n",
       "  194: 'tudo',\n",
       "  195: 'quatro',\n",
       "  196: 'pelos',\n",
       "  197: 'meses',\n",
       "  198: 'us$',\n",
       "  199: '00,0',\n",
       "  200: 'decisão',\n",
       "  201: 'eua',\n",
       "  202: 'relação',\n",
       "  203: 'podem',\n",
       "  204: 'crise',\n",
       "  205: 'alguns',\n",
       "  206: 'momento',\n",
       "  207: 'câmara',\n",
       "  208: 'fez',\n",
       "  209: 'região',\n",
       "  210: 'qual',\n",
       "  211: 'então',\n",
       "  212: '!',\n",
       "  213: 'dinheiro',\n",
       "  214: 'faz',\n",
       "  215: 'seria',\n",
       "  216: 'lado',\n",
       "  217: 'brasileira',\n",
       "  218: 'segunda',\n",
       "  219: 'projeto',\n",
       "  220: 'desta',\n",
       "  221: 'qualquer',\n",
       "  222: 'enquanto',\n",
       "  223: 'quanto',\n",
       "  224: 'países',\n",
       "  225: 'pouco',\n",
       "  226: 'história',\n",
       "  227: 'exemplo',\n",
       "  228: 'quase',\n",
       "  229: 'partir',\n",
       "  230: 'lula',\n",
       "  231: 'valor',\n",
       "  232: 'saúde',\n",
       "  233: 'lei',\n",
       "  234: 'número',\n",
       "  235: 'pt',\n",
       "  236: 'cinco',\n",
       "  237: 'domingo',\n",
       "  238: 'janeiro',\n",
       "  239: 'operação',\n",
       "  240: 'segurança',\n",
       "  241: 'sendo',\n",
       "  242: 'minha',\n",
       "  243: 'economia',\n",
       "  244: 'mês',\n",
       "  245: 'partido',\n",
       "  246: 'sistema',\n",
       "  247: 'banco',\n",
       "  248: 'vezes',\n",
       "  249: 'início',\n",
       "  250: 'outra',\n",
       "  251: 'jato',\n",
       "  252: 'local',\n",
       "  253: 'fora',\n",
       "  254: 'gente',\n",
       "  255: 'sp',\n",
       "  256: 'lava',\n",
       "  257: 'equipe',\n",
       "  258: 'deste',\n",
       "  259: 'setor',\n",
       "  260: 'pontos',\n",
       "  261: 'programa',\n",
       "  262: 'aqui',\n",
       "  263: 'poder',\n",
       "  264: 'queda',\n",
       "  265: 'petrobras',\n",
       "  266: 'trump',\n",
       "  267: 'possível',\n",
       "  268: 'nome',\n",
       "  269: 'cunha',\n",
       "  270: 'meu',\n",
       "  271: 'tribunal',\n",
       "  272: 'nada',\n",
       "  273: 'campanha',\n",
       "  274: 'sob',\n",
       "  275: 'porém',\n",
       "  276: 'área',\n",
       "  277: 'período',\n",
       "  278: 'defesa',\n",
       "  279: 'capital',\n",
       "  280: 'direito',\n",
       "  281: 'apesar',\n",
       "  282: 'recursos',\n",
       "  283: 'ações',\n",
       "  284: 'unidos',\n",
       "  285: 'volta',\n",
       "  286: 'nunca',\n",
       "  287: 'todas',\n",
       "  288: 'feito',\n",
       "  289: 'sul',\n",
       "  290: 'nós',\n",
       "  291: 'dados',\n",
       "  292: 'paulista',\n",
       "  293: 'vem',\n",
       "  294: 'alta',\n",
       "  295: 'família',\n",
       "  296: 'centro',\n",
       "  297: 'situação',\n",
       "  298: 'chegou',\n",
       "  299: 'aumento',\n",
       "  300: 'dar',\n",
       "  301: 'the',\n",
       "  302: 'tão',\n",
       "  303: 'lugar',\n",
       "  304: 'frente',\n",
       "  305: 'ação',\n",
       "  306: 'jogo',\n",
       "  307: 'congresso',\n",
       "  308: 'ficou',\n",
       "  309: 'mulher',\n",
       "  310: 'últimos',\n",
       "  311: 'disso',\n",
       "  312: 'josé',\n",
       "  313: 'muitos',\n",
       "  314: 'houve',\n",
       "  315: 'num',\n",
       "  316: 'time',\n",
       "  317: 'quer',\n",
       "  318: 'jogos',\n",
       "  319: 'pública',\n",
       "  320: 'última',\n",
       "  321: 'sábado',\n",
       "  322: 'nota',\n",
       "  323: 'diretor',\n",
       "  324: 'ver',\n",
       "  325: 'casos',\n",
       "  326: 'seis',\n",
       "  327: 'impeachment',\n",
       "  328: 'produção',\n",
       "  329: 'dentro',\n",
       "  330: 'serão',\n",
       "  331: 'pelas',\n",
       "  332: 'fato',\n",
       "  333: '00h00',\n",
       "  334: 'noite',\n",
       "  335: 'brasileiros',\n",
       "  336: 'água',\n",
       "  337: 'bom',\n",
       "  338: 'corrupção',\n",
       "  339: 'base',\n",
       "  340: 'principal',\n",
       "  341: 'social',\n",
       "  342: 'pedido',\n",
       "  343: 'mundial',\n",
       "  344: 'filme',\n",
       "  345: 'entanto',\n",
       "  346: 'dez',\n",
       "  347: 'filho',\n",
       "  348: 'mulheres',\n",
       "  349: 'proposta',\n",
       "  350: 'problema',\n",
       "  351: 'grandes',\n",
       "  352: 'pessoa',\n",
       "  353: 'lá',\n",
       "  354: 'apoio',\n",
       "  355: 'atual',\n",
       "  356: 'falta',\n",
       "  357: 'contas',\n",
       "  358: 'resultado',\n",
       "  359: 'companhia',\n",
       "  360: 'problemas',\n",
       "  361: 'este',\n",
       "  362: 'teria',\n",
       "  363: 'importante',\n",
       "  364: 'risco',\n",
       "  365: 'maioria',\n",
       "  366: 'numa',\n",
       "  367: 'internacional',\n",
       "  368: 'participação',\n",
       "  369: 'econômica',\n",
       "  370: 'série',\n",
       "  371: 'quarta-feira',\n",
       "  372: 'rede',\n",
       "  373: 'precisa',\n",
       "  374: 'ideia',\n",
       "  375: 'terá',\n",
       "  376: 'vão',\n",
       "  377: 'zona',\n",
       "  378: 'tanto',\n",
       "  379: 'último',\n",
       "  380: 'algumas',\n",
       "  381: 'santos',\n",
       "  382: 'futebol',\n",
       "  383: 'esses',\n",
       "  384: 'união',\n",
       "  385: 'senado',\n",
       "  386: 'gestão',\n",
       "  387: 'ex-presidente',\n",
       "  388: 'eduardo',\n",
       "  389: 'ponto',\n",
       "  390: 'temos',\n",
       "  391: 'passou',\n",
       "  392: 'medida',\n",
       "  393: 'poderia',\n",
       "  394: 'mesma',\n",
       "  395: 'central',\n",
       "  396: 'livro',\n",
       "  397: 'dizer',\n",
       "  398: 'coisa',\n",
       "  399: 'tipo',\n",
       "  400: 'horas',\n",
       "  401: 'estar',\n",
       "  402: 'algo',\n",
       "  403: 'medidas',\n",
       "  404: 'prisão',\n",
       "  405: 'deputados',\n",
       "  406: 'principais',\n",
       "  407: 'elas',\n",
       "  408: 'rousseff',\n",
       "  409: 'crescimento',\n",
       "  410: 'rua',\n",
       "  411: 'quarta',\n",
       "  412: 'sociais',\n",
       "  413: 'boa',\n",
       "  414: 'educação',\n",
       "  415: 'nossa',\n",
       "  416: 'político',\n",
       "  417: 'prefeitura',\n",
       "  418: 'pesquisa',\n",
       "  419: 'espaço',\n",
       "  420: 'prazo',\n",
       "  421: 'dá',\n",
       "  422: 'obras',\n",
       "  423: 'ficar',\n",
       "  424: 'tenha',\n",
       "  425: 'fica',\n",
       "  426: 'morte',\n",
       "  427: 'terça-feira',\n",
       "  428: 'começou',\n",
       "  429: 'serviços',\n",
       "  430: 'total',\n",
       "  431: 'hora',\n",
       "  432: 'juros',\n",
       "  433: 'quinta-feira',\n",
       "  434: 'toda',\n",
       "  435: 'questão',\n",
       "  436: 'essas',\n",
       "  437: 'novos',\n",
       "  438: 'deputado',\n",
       "  439: '00,00',\n",
       "  440: 'informações',\n",
       "  441: 'texto',\n",
       "  442: 'stf',\n",
       "  443: 'causa',\n",
       "  444: 'população',\n",
       "  445: 'uso',\n",
       "  446: 'direitos',\n",
       "  447: 'república',\n",
       "  448: 'estamos',\n",
       "  449: 'deles',\n",
       "  450: 'deu',\n",
       "  451: 'evento',\n",
       "  452: 'psdb',\n",
       "  453: 'fernando',\n",
       "  454: 'pmdb',\n",
       "  455: 'preciso',\n",
       "  456: '0000-0000',\n",
       "  457: 'norte',\n",
       "  458: '0º',\n",
       "  459: 'muitas',\n",
       "  460: 'devem',\n",
       "  461: 'eram',\n",
       "  462: 'joão',\n",
       "  463: 'conselho',\n",
       "  464: 'nesse',\n",
       "  465: 'longo',\n",
       "  466: 'novas',\n",
       "  467: 'quinta',\n",
       "  468: 'tv',\n",
       "  469: 'próximo',\n",
       "  470: 'sexta-feira',\n",
       "  471: 'mostra',\n",
       "  472: 'sociedade',\n",
       "  473: 'jornal',\n",
       "  474: 'guerra',\n",
       "  475: 'dele',\n",
       "  476: 'crianças',\n",
       "  477: 'informou',\n",
       "  478: 'comissão',\n",
       "  479: 'segunda-feira',\n",
       "  480: 'serviço',\n",
       "  481: 'plano',\n",
       "  482: 'michel',\n",
       "  483: 'civil',\n",
       "  484: 'diante',\n",
       "  485: 'clube',\n",
       "  486: 'china',\n",
       "  487: 'supremo',\n",
       "  488: 'época',\n",
       "  489: 'parece',\n",
       "  490: 'média',\n",
       "  491: 'tarde',\n",
       "  492: 'próprio',\n",
       "  493: 'obra',\n",
       "  494: 'políticos',\n",
       "  495: 'embora',\n",
       "  496: 'carlos',\n",
       "  497: 'cargo',\n",
       "  498: 'movimento',\n",
       "  499: 'menor',\n",
       "  500: 'campo',\n",
       "  501: 'entrevista',\n",
       "  502: 'desse',\n",
       "  503: 'esta',\n",
       "  504: 'nosso',\n",
       "  505: 'reforma',\n",
       "  506: 'agência',\n",
       "  507: 'quais',\n",
       "  508: 'mudança',\n",
       "  509: 'seleção',\n",
       "  510: 'nenhum',\n",
       "  511: 'silva',\n",
       "  512: 'terça',\n",
       "  513: 'preços',\n",
       "  514: 'fiscal',\n",
       "  515: 'difícil',\n",
       "  516: 'copa',\n",
       "  517: 'forte',\n",
       "  518: 'sete',\n",
       "  519: 'falar',\n",
       "  520: 'homem',\n",
       "  521: 'feita',\n",
       "  522: 'investigação',\n",
       "  523: 'força',\n",
       "  524: 'taxa',\n",
       "  525: 'claro',\n",
       "  526: 'senador',\n",
       "  527: 'dessa',\n",
       "  528: 'manhã',\n",
       "  529: 'site',\n",
       "  530: 'acesso',\n",
       "  531: 'líder',\n",
       "  532: 'pagamento',\n",
       "  533: 'chegar',\n",
       "  534: 'março',\n",
       "  535: 'universidade',\n",
       "  536: 'coisas',\n",
       "  537: 'escola',\n",
       "  538: 'estavam',\n",
       "  539: 'ninguém',\n",
       "  540: 'dezembro',\n",
       "  541: 'instituto',\n",
       "  542: 'reunião',\n",
       "  543: 'maiores',\n",
       "  544: 'sexta',\n",
       "  545: 'inflação',\n",
       "  546: 'recebeu',\n",
       "  547: 'energia',\n",
       "  548: 'sejam',\n",
       "  549: 'busca',\n",
       "  550: 'prefeito',\n",
       "  551: 'autoridades',\n",
       "  552: 'real',\n",
       "  553: 'brasília',\n",
       "  554: 'vamos',\n",
       "  555: 'x',\n",
       "  556: 'vitória',\n",
       "  557: 'maio',\n",
       "  558: 'veja',\n",
       "  559: 'geral',\n",
       "  560: 'pagar',\n",
       "  561: 'funcionários',\n",
       "  562: 'redução',\n",
       "  563: 'produtos',\n",
       "  564: 'pois',\n",
       "  565: 'policiais',\n",
       "  566: 'deixar',\n",
       "  567: 'preço',\n",
       "  568: 'papel',\n",
       "  569: 'deixou',\n",
       "  570: 'responsável',\n",
       "  571: 'luiz',\n",
       "  572: 'tenho',\n",
       "  573: 'manter',\n",
       "  574: 'eleição',\n",
       "  575: 'junho',\n",
       "  576: 'objetivo',\n",
       "  577: 'pai',\n",
       "  578: 'fosse',\n",
       "  579: 'oposição',\n",
       "  580: 'presidência',\n",
       "  581: 'americano',\n",
       "  582: 'imprensa',\n",
       "  583: 'organização',\n",
       "  584: 'públicos',\n",
       "  585: 'vista',\n",
       "  586: 'crime',\n",
       "  587: 'futuro',\n",
       "  588: 'for',\n",
       "  589: 'juiz',\n",
       "  590: 'cultura',\n",
       "  591: 'renda',\n",
       "  592: 'lista',\n",
       "  593: 'militar',\n",
       "  594: 'internet',\n",
       "  595: 'mãe',\n",
       "  596: 'julho',\n",
       "  597: 'abril',\n",
       "  598: 'cidades',\n",
       "  599: 'homens',\n",
       "  600: 'própria',\n",
       "  601: 'investimentos',\n",
       "  602: 'votação',\n",
       "  603: 'minutos',\n",
       "  604: 'venda',\n",
       "  605: 'receita',\n",
       "  606: 'verdade',\n",
       "  607: 'saída',\n",
       "  608: 'ir',\n",
       "  609: 'evitar',\n",
       "  610: 'logo',\n",
       "  611: 'gastos',\n",
       "  612: 'música',\n",
       "  613: 'demais',\n",
       "  614: 'possibilidade',\n",
       "  615: 'próxima',\n",
       "  616: 'técnico',\n",
       "  617: 'controle',\n",
       "  618: 'fundo',\n",
       "  619: 'desenvolvimento',\n",
       "  620: 'alto',\n",
       "  621: 'sabe',\n",
       "  622: 'sim',\n",
       "  623: 'devido',\n",
       "  624: 'eleitoral',\n",
       "  625: 'filhos',\n",
       "  626: 'agosto',\n",
       "  627: 'setembro',\n",
       "  628: 'especial',\n",
       "  629: 'vale',\n",
       "  630: 'cenário',\n",
       "  631: 'corinthians',\n",
       "  632: 'atrás',\n",
       "  633: 'saber',\n",
       "  634: 'áreas',\n",
       "  635: 'maneira',\n",
       "  636: 'linha',\n",
       "  637: 'carro',\n",
       "  638: 'valores',\n",
       "  639: 'tentar',\n",
       "  640: 'talvez',\n",
       "  641: 'receber',\n",
       "  642: 'oito',\n",
       "  643: 'advogado',\n",
       "  644: 'mudanças',\n",
       "  645: 'partida',\n",
       "  646: 'vídeo',\n",
       "  647: 'passada',\n",
       "  648: 'autor',\n",
       "  649: 'crédito',\n",
       "  650: 'políticas',\n",
       "  651: 'caixa',\n",
       "  652: 'acho',\n",
       "  653: 'professor',\n",
       "  654: 'secretaria',\n",
       "  655: 'europa',\n",
       "  656: 'exterior',\n",
       "  657: 'américa',\n",
       "  658: 'modelo',\n",
       "  659: 'fase',\n",
       "  660: 'condições',\n",
       "  661: 'eleições',\n",
       "  662: 'jovens',\n",
       "  663: 'tema',\n",
       "  664: 'york',\n",
       "  665: 'investimento',\n",
       "  666: 'reportagem',\n",
       "  667: 'oficial',\n",
       "  668: 'conseguiu',\n",
       "  669: 'sentido',\n",
       "  670: 'dólar',\n",
       "  671: 'estou',\n",
       "  672: 'diferentes',\n",
       "  673: 'deveria',\n",
       "  674: 'vários',\n",
       "  675: 'projetos',\n",
       "  676: 'indústria',\n",
       "  677: 'corte',\n",
       "  678: 'discurso',\n",
       "  679: 'pediu',\n",
       "  680: 'votos',\n",
       "  681: 'capacidade',\n",
       "  682: 'marca',\n",
       "  683: 'preso',\n",
       "  684: 'argentina',\n",
       "  685: 'violência',\n",
       "  686: 'ataque',\n",
       "  687: 'candidato',\n",
       "  688: 'odebrecht',\n",
       "  689: 'contrato',\n",
       "  690: 'levar',\n",
       "  691: 'passar',\n",
       "  692: 'existe',\n",
       "  693: 'índice',\n",
       "  694: 'disputa',\n",
       "  695: 'muita',\n",
       "  696: 'tel',\n",
       "  697: 'novembro',\n",
       "  698: 'maria',\n",
       "  699: 'ajuda',\n",
       "  700: 'grupos',\n",
       "  701: 'debate',\n",
       "  702: 'regras',\n",
       "  703: 'fevereiro',\n",
       "  704: 'posição',\n",
       "  705: 'associação',\n",
       "  706: 'redes',\n",
       "  707: 'encontro',\n",
       "  708: 'americana',\n",
       "  709: 'anterior',\n",
       "  710: 'governador',\n",
       "  711: 'dívida',\n",
       "  712: 'mandato',\n",
       "  713: 'ruas',\n",
       "  714: 'tecnologia',\n",
       "  715: 'construção',\n",
       "  716: 'frança',\n",
       "  717: 'caminho',\n",
       "  718: 'alguém',\n",
       "  719: 'corpo',\n",
       "  720: 'direção',\n",
       "  721: 'delação',\n",
       "  722: 'palmeiras',\n",
       "  723: 'algum',\n",
       "  724: 'resposta',\n",
       "  725: 'outubro',\n",
       "  726: 'nenhuma',\n",
       "  727: 'sair',\n",
       "  728: 'contratos',\n",
       "  729: 'livre',\n",
       "  730: 'trabalhadores',\n",
       "  731: 'estadual',\n",
       "  732: 'roberto',\n",
       "  733: 'levou',\n",
       "  734: 'sucesso',\n",
       "  735: 'anunciou',\n",
       "  736: 'próximos',\n",
       "  737: 'secretário',\n",
       "  738: 'dizem',\n",
       "  739: 'passa',\n",
       "  740: 'partidos',\n",
       "  741: 'tiveram',\n",
       "  742: 'vou',\n",
       "  743: 'ali',\n",
       "  744: 'usar',\n",
       "  745: 'atenção',\n",
       "  746: 'alguma',\n",
       "  747: 'abaixo',\n",
       "  748: 'criar',\n",
       "  749: 'públicas',\n",
       "  750: 'entrar',\n",
       "  751: 'estudo',\n",
       "  752: 'petista',\n",
       "  753: 'único',\n",
       "  754: 'título',\n",
       "  755: 'amigos',\n",
       "  756: 'abertura',\n",
       "  757: 'fotos',\n",
       "  758: 'nível',\n",
       "  759: 'investigações',\n",
       "  760: 'resultados',\n",
       "  761: 'fazem',\n",
       "  762: 'alunos',\n",
       "  763: 'empresário',\n",
       "  764: 'administração',\n",
       "  765: 'marcelo',\n",
       "  766: 'km',\n",
       "  767: 'vila',\n",
       "  768: 'acima',\n",
       "  769: 'planalto',\n",
       "  770: 'conteúdo',\n",
       "  771: 'principalmente',\n",
       "  772: 'locais',\n",
       "  773: 'aí',\n",
       "  774: 'doria',\n",
       "  775: 'fazenda',\n",
       "  776: 'comércio',\n",
       "  777: 'custo',\n",
       "  778: 'terceiro',\n",
       "  779: 'única',\n",
       "  780: 'negócios',\n",
       "  781: 'temporada',\n",
       "  782: 'compra',\n",
       "  783: 'edição',\n",
       "  784: 'carreira',\n",
       "  785: 'costa',\n",
       "  786: 'sou',\n",
       "  787: 'assunto',\n",
       "  788: '0h',\n",
       "  789: 'médio',\n",
       "  790: 'escolas',\n",
       "  791: 'voto',\n",
       "  792: 'impacto',\n",
       "  793: 'perto',\n",
       "  794: 'ônibus',\n",
       "  795: 'fala',\n",
       "  796: 'qualidade',\n",
       "  797: 'oliveira',\n",
       "  798: 'semanas',\n",
       "  799: 'petróleo',\n",
       "  800: 'bancos',\n",
       "  801: 'relatório',\n",
       "  802: 'poderá',\n",
       "  803: 'fazendo',\n",
       "  804: 'jogadores',\n",
       "  805: 'respeito',\n",
       "  806: 'avaliação',\n",
       "  807: 'ensino',\n",
       "  808: 'ministros',\n",
       "  809: 'pior',\n",
       "  810: 'trabalhar',\n",
       "  811: 'arte',\n",
       "  812: 'caiu',\n",
       "  813: 'certo',\n",
       "  814: 'hospital',\n",
       "  815: 'notícias',\n",
       "  816: 'executivo',\n",
       "  817: 'gol',\n",
       "  818: 'municipal',\n",
       "  819: 'deixa',\n",
       "  820: 'ricardo',\n",
       "  821: 'idade',\n",
       "  822: 'obama',\n",
       "  823: 'relações',\n",
       "  824: 'desses',\n",
       "  825: 'mão',\n",
       "  826: 'paris',\n",
       "  827: 'pib',\n",
       "  828: 'aconteceu',\n",
       "  829: 'presença',\n",
       "  830: 'moradores',\n",
       "  831: 'interesse',\n",
       "  832: 'entrada',\n",
       "  833: 'nessa',\n",
       "  834: 'entidade',\n",
       "  835: 'renan',\n",
       "  836: 'cinema',\n",
       "  837: 'primeiros',\n",
       "  838: 'jovem',\n",
       "  839: 'superior',\n",
       "  840: 'imagem',\n",
       "  841: 'voltar',\n",
       "  842: 'prática',\n",
       "  843: 'estatal',\n",
       "  844: 'ordem',\n",
       "  845: 'ambiente',\n",
       "  846: 'crimes',\n",
       "  847: 'informação',\n",
       "  848: 'campeonato',\n",
       "  849: 'ocorreu',\n",
       "  850: 'esquema',\n",
       "  851: 'prova',\n",
       "  852: 'mortos',\n",
       "  853: 'pra',\n",
       "  854: 'econômico',\n",
       "  855: 'mudar',\n",
       "  856: 'basta',\n",
       "  857: 'órgão',\n",
       "  858: 'expectativa',\n",
       "  859: 'comum',\n",
       "  860: 'membros',\n",
       "  861: 'ajudar',\n",
       "  862: 'inclusive',\n",
       "  863: 'milhão',\n",
       "  864: 'alvo',\n",
       "  865: 'ataques',\n",
       "  866: 'acabou',\n",
       "  867: 'vendas',\n",
       "  868: 'decidiu',\n",
       "  869: 'jogador',\n",
       "  870: 'mensagem',\n",
       "  871: 'rodrigo',\n",
       "  872: 'perdeu',\n",
       "  873: 'favor',\n",
       "  874: 'diferente',\n",
       "  875: 'veículos',\n",
       "  876: 'liberdade',\n",
       "  877: 'constituição',\n",
       "  878: 'show',\n",
       "  879: 'opinião',\n",
       "  880: 'baixa',\n",
       "  881: 'melhores',\n",
       "  882: 'via',\n",
       "  883: 'chamado',\n",
       "  884: 'vítimas',\n",
       "  885: 'propina',\n",
       "  886: 'mal',\n",
       "  887: 'denúncia',\n",
       "  888: 'nomes',\n",
       "  889: 'meta',\n",
       "  890: 'várias',\n",
       "  891: 'parque',\n",
       "  892: 'pessoal',\n",
       "  893: 'volume',\n",
       "  894: 'reduzir',\n",
       "  895: 'ganhou',\n",
       "  896: 'rússia',\n",
       "  897: 'of',\n",
       "  898: 'jornalista',\n",
       "  899: 'começa',\n",
       "  900: 'continua',\n",
       "  901: 'consumo',\n",
       "  902: 'versão',\n",
       "  903: 'troca',\n",
       "  904: 'ato',\n",
       "  905: 'metade',\n",
       "  906: 'carros',\n",
       "  907: 'humanos',\n",
       "  908: 'criação',\n",
       "  909: 'forças',\n",
       "  910: 'poucos',\n",
       "  911: 'necessário',\n",
       "  912: 'críticas',\n",
       "  913: 'bolsa',\n",
       "  914: 'pais',\n",
       "  915: 'produto',\n",
       "  916: 'espera',\n",
       "  917: 'responsabilidade',\n",
       "  918: 'documento',\n",
       "  919: 'esquerda',\n",
       "  920: 'financeiro',\n",
       "  921: 'delas',\n",
       "  922: 'pena',\n",
       "  923: 'feitas',\n",
       "  924: 'questões',\n",
       "  925: 'trimestre',\n",
       "  926: 'espécie',\n",
       "  927: 'presos',\n",
       "  928: 'alckmin',\n",
       "  929: 'necessidade',\n",
       "  930: 'líderes',\n",
       "  931: 'povo',\n",
       "  932: 'tinham',\n",
       "  933: 'pressão',\n",
       "  934: 'análise',\n",
       "  935: 'voltou',\n",
       "  936: 'tentativa',\n",
       "  937: 'realidade',\n",
       "  938: 'comitê',\n",
       "  939: 'atletas',\n",
       "  940: 'serem',\n",
       "  941: 'aprovação',\n",
       "  942: 'lhe',\n",
       "  943: 'cabeça',\n",
       "  944: 'teatro',\n",
       "  945: 'regime',\n",
       "  946: 'viagem',\n",
       "  947: 'junto',\n",
       "  948: 'sessão',\n",
       "  949: 'alemanha',\n",
       "  950: 'estreia',\n",
       "  951: 'imagens',\n",
       "  952: 'notícia',\n",
       "  953: 'moro',\n",
       "  954: 'instituições',\n",
       "  955: 'aumentar',\n",
       "  956: 'prêmio',\n",
       "  957: 'candidatos',\n",
       "  958: 'incluindo',\n",
       "  959: 'mim',\n",
       "  960: 'enviar',\n",
       "  961: 'contrário',\n",
       "  962: 'clientes',\n",
       "  963: 'olimpíada',\n",
       "  964: 'chega',\n",
       "  965: 'nove',\n",
       "  966: 'orçamento',\n",
       "  967: 'atualmente',\n",
       "  968: '00.000',\n",
       "  969: 'bastante',\n",
       "  970: 'reino',\n",
       "  971: 'inglês',\n",
       "  972: 'fizeram',\n",
       "  973: 'previdência',\n",
       "  974: 'comando',\n",
       "  975: 'experiência',\n",
       "  976: 'morreu',\n",
       "  977: 'acontece',\n",
       "  978: 'competição',\n",
       "  979: 'oeste',\n",
       "  980: 'haddad',\n",
       "  981: 'terra',\n",
       "  982: 'policial',\n",
       "  983: 'dela',\n",
       "  984: 'século',\n",
       "  985: 'estudantes',\n",
       "  986: 'diversas',\n",
       "  987: 'facebook',\n",
       "  988: 'pedro',\n",
       "  989: 'venezuela',\n",
       "  990: 'baixo',\n",
       "  991: 'razão',\n",
       "  992: 'ajuste',\n",
       "  993: 'atividades',\n",
       "  994: 'revista',\n",
       "  995: 'medo',\n",
       "  996: 'transporte',\n",
       "  997: 'efeito',\n",
       "  998: 'cara',\n",
       "  999: 'advogados',\n",
       "  1000: 'querem',\n",
       "  ...},\n",
       " 'wrd_cnt': Counter({'lula': 30317,\n",
       "          'diz': 116405,\n",
       "          'que': 1875561,\n",
       "          'está': 125317,\n",
       "          'lascado': 17,\n",
       "          ',': 5459903,\n",
       "          'mas': 244587,\n",
       "          'ainda': 125205,\n",
       "          'tem': 145139,\n",
       "          'força': 15422,\n",
       "          'como': 335211,\n",
       "          'cabo': 2030,\n",
       "          'eleitoral': 13104,\n",
       "          'decidi': 787,\n",
       "          'ser': 171620,\n",
       "          'escrava': 144,\n",
       "          'das': 225475,\n",
       "          'mulheres': 20972,\n",
       "          'sofrem': 1428,\n",
       "          'cantora': 3949,\n",
       "          'oumou': 3,\n",
       "          'sangaré': 10,\n",
       "          'três': 60455,\n",
       "          'reportagens': 1535,\n",
       "          'da': 1206836,\n",
       "          'folha': 51722,\n",
       "          'ganham': 2005,\n",
       "          'prêmio': 8764,\n",
       "          'petrobras': 26151,\n",
       "          'de': 3602977,\n",
       "          'jornalismo': 2701,\n",
       "          'filme': 21122,\n",
       "          'star': 1624,\n",
       "          'wars': 1097,\n",
       "          ':': 206141,\n",
       "          'os': 606035,\n",
       "          'últimos': 22665,\n",
       "          'jedi': 194,\n",
       "          'ganha': 4600,\n",
       "          'trailer': 1463,\n",
       "          'definitivo': 1175,\n",
       "          ';': 54675,\n",
       "          'assista': 1436,\n",
       "          'cbss': 12,\n",
       "          'inicia': 1098,\n",
       "          'acordos': 4956,\n",
       "          'com': 737471,\n",
       "          'fintechs': 74,\n",
       "          'e': 1781121,\n",
       "          'quer': 22243,\n",
       "          '00': 610677,\n",
       "          '%': 192870,\n",
       "          'do': 1389433,\n",
       "          'crédito': 12504,\n",
       "          'digital': 4736,\n",
       "          'em': 1156086,\n",
       "          '0000': 309719,\n",
       "          'encontro': 11713,\n",
       "          'bono': 173,\n",
       "          'pergunta': 4801,\n",
       "          'a': 2648991,\n",
       "          'macri': 3212,\n",
       "          'sobre': 147815,\n",
       "          'argentino': 4838,\n",
       "          'desaparecido': 515,\n",
       "          'posso': 5011,\n",
       "          'sair': 11343,\n",
       "          'brasil': 120558,\n",
       "          'quando': 112807,\n",
       "          'quiser': 3091,\n",
       "          'cesare': 90,\n",
       "          'battisti': 195,\n",
       "          'tite': 3690,\n",
       "          'querer': 3141,\n",
       "          'seguir': 6338,\n",
       "          'na': 666982,\n",
       "          'seleção': 15783,\n",
       "          'após': 80492,\n",
       "          'o': 2412518,\n",
       "          'mundial': 21163,\n",
       "          'rússia': 9443,\n",
       "          'supremo': 16273,\n",
       "          'nega': 5186,\n",
       "          'pedido': 21313,\n",
       "          'para': 924460,\n",
       "          'senado': 19575,\n",
       "          'analisar': 3685,\n",
       "          'impeachment': 21728,\n",
       "          'gilmar': 3596,\n",
       "          'teste': 4003,\n",
       "          'whatsapp': 2749,\n",
       "          'business': 623,\n",
       "          'permite': 6765,\n",
       "          'empresas': 42781,\n",
       "          'façam': 1267,\n",
       "          'cadastro': 1415,\n",
       "          'fixo': 905,\n",
       "          'dodge': 590,\n",
       "          'defende': 6814,\n",
       "          'manter': 14218,\n",
       "          'joesley': 3643,\n",
       "          'saud': 738,\n",
       "          'jbs': 5119,\n",
       "          'presos': 9072,\n",
       "          'preventivamente': 520,\n",
       "          'incêndios': 596,\n",
       "          'deixam': 2004,\n",
       "          'mortos': 9753,\n",
       "          'atingem': 746,\n",
       "          'cidades': 13572,\n",
       "          'vinícolas': 195,\n",
       "          'califórnia': 2916,\n",
       "          'bndes': 5816,\n",
       "          'descarta': 904,\n",
       "          'irregularidades': 4039,\n",
       "          'nos': 142315,\n",
       "          'empréstimos': 4033,\n",
       "          'apple': 4324,\n",
       "          'cita': 2831,\n",
       "          'fornecedor': 495,\n",
       "          'francês': 7537,\n",
       "          'antes': 53376,\n",
       "          'discutir': 5891,\n",
       "          'impostos': 7617,\n",
       "          'macron': 1386,\n",
       "          'volkswagen': 1327,\n",
       "          'terá': 19905,\n",
       "          'crescimento': 18697,\n",
       "          'ao': 329615,\n",
       "          'ano': 124182,\n",
       "          'novo': 42453,\n",
       "          'presidente': 117939,\n",
       "          'polícia': 38765,\n",
       "          'rio': 59179,\n",
       "          'prende': 634,\n",
       "          'segurança': 29209,\n",
       "          'chefe': 8317,\n",
       "          'tráfico': 4000,\n",
       "          'favela': 2212,\n",
       "          'rocinha': 711,\n",
       "          'juiz': 13904,\n",
       "          'decreta': 242,\n",
       "          'prisão': 18827,\n",
       "          'nuzman': 880,\n",
       "          'por': 472342,\n",
       "          'tempo': 54111,\n",
       "          'indeterminado': 565,\n",
       "          'anos': 146937,\n",
       "          'execução': 2893,\n",
       "          'che': 316,\n",
       "          'assombra': 97,\n",
       "          'povoado': 407,\n",
       "          'boliviano': 437,\n",
       "          'bolsa': 9238,\n",
       "          'recua': 676,\n",
       "          'pelo': 175396,\n",
       "          '0º': 17116,\n",
       "          'dia': 79988,\n",
       "          'feriado': 1931,\n",
       "          'eua': 35192,\n",
       "          'dólar': 12224,\n",
       "          'sobe': 3082,\n",
       "          'r$': 147107,\n",
       "          '0,00': 41817,\n",
       "          'parlamentarismo': 487,\n",
       "          'pode': 86142,\n",
       "          'implantado': 396,\n",
       "          'serra': 5862,\n",
       "          'debate': 11805,\n",
       "          'trump': 26051,\n",
       "          'serve': 3442,\n",
       "          'exemplo': 30985,\n",
       "          'mim': 8722,\n",
       "          'bolsonaro': 1758,\n",
       "          'visita': 6741,\n",
       "          'aos': 82368,\n",
       "          'moro': 8802,\n",
       "          'pede': 6774,\n",
       "          'esclareça': 98,\n",
       "          'se': 416628,\n",
       "          'recibos': 302,\n",
       "          'originais': 1144,\n",
       "          'aluguel': 2972,\n",
       "          'captação': 1655,\n",
       "          'líquida': 1403,\n",
       "          'fundos': 6152,\n",
       "          'cresce': 2456,\n",
       "          '000': 148853,\n",
       "          'até': 124439,\n",
       "          'setembro': 13059,\n",
       "          'bate': 1496,\n",
       "          'recorde': 5198,\n",
       "          'superlotação': 442,\n",
       "          'é': 619628,\n",
       "          'principal': 21328,\n",
       "          'motivo': 7351,\n",
       "          'multas': 2940,\n",
       "          'vans': 224,\n",
       "          'grande': 50586,\n",
       "          'são': 228091,\n",
       "          'paulo': 108922,\n",
       "          'sem': 89506,\n",
       "          'informação': 9781,\n",
       "          'você': 45872,\n",
       "          'manipulado': 148,\n",
       "          'ator': 7331,\n",
       "          'marco': 7040,\n",
       "          'pigossi': 19,\n",
       "          'islândia': 396,\n",
       "          'garante': 2692,\n",
       "          'vaga': 6055,\n",
       "          'primeira': 43033,\n",
       "          'novidade': 2833,\n",
       "          'copa': 15550,\n",
       "          'rivais': 2483,\n",
       "          'franceses': 2102,\n",
       "          'uber': 4885,\n",
       "          'intensificam': 47,\n",
       "          'esforços': 3325,\n",
       "          'roubar': 928,\n",
       "          'fatia': 1949,\n",
       "          'mercado': 39914,\n",
       "          'plano': 16394,\n",
       "          'energia': 14829,\n",
       "          'limpa': 1550,\n",
       "          'obama': 10049,\n",
       "          'será': 60885,\n",
       "          'revogado': 102,\n",
       "          'agência': 15811,\n",
       "          'ambiental': 4209,\n",
       "          'insolvente': 34,\n",
       "          'companhia': 20332,\n",
       "          'aérea': 2738,\n",
       "          'alemã': 3142,\n",
       "          'air': 755,\n",
       "          'berlin': 150,\n",
       "          'vai': 72214,\n",
       "          'encerrar': 1686,\n",
       "          'voos': 3205,\n",
       "          'neste': 48237,\n",
       "          'mês': 28915,\n",
       "          'mpf': 1495,\n",
       "          'seja': 41732,\n",
       "          'prolongada': 323,\n",
       "          'ministro': 39444,\n",
       "          'cultura': 13886,\n",
       "          'ter': 98598,\n",
       "          'proposto': 1365,\n",
       "          'alteração': 2382,\n",
       "          'abriria': 302,\n",
       "          'portas': 3394,\n",
       "          'à': 239806,\n",
       "          'censura': 1434,\n",
       "          'sacolões': 37,\n",
       "          'prefeitura': 18431,\n",
       "          'utilizam': 698,\n",
       "          'padrões': 2119,\n",
       "          'qualidade': 10355,\n",
       "          'diferentes': 12214,\n",
       "          'livre': 11280,\n",
       "          'avança': 1374,\n",
       "          'no': 773533,\n",
       "          'comércio': 10579,\n",
       "          'livros': 8282,\n",
       "          'acordo': 57163,\n",
       "          'livraria': 1356,\n",
       "          'pela': 169324,\n",
       "          '0ª': 5549,\n",
       "          'vez': 52082,\n",
       "          'marquinhos': 686,\n",
       "          'capitão': 1979,\n",
       "          'brasileira': 32713,\n",
       "          'imprensa': 14050,\n",
       "          'tornou': 6838,\n",
       "          'arauto': 43,\n",
       "          'punitiva': 97,\n",
       "          'mariz': 330,\n",
       "          'meryl': 222,\n",
       "          'streep': 231,\n",
       "          'fala': 10376,\n",
       "          'produtor': 3365,\n",
       "          'acusado': 6043,\n",
       "          'diversos': 7079,\n",
       "          'assédios': 53,\n",
       "          'sexuais': 1390,\n",
       "          'volks': 169,\n",
       "          'vê': 8061,\n",
       "          'retomada': 4184,\n",
       "          'demanda': 8218,\n",
       "          'caminhões': 2094,\n",
       "          'suspende': 687,\n",
       "          'férias': 3793,\n",
       "          'coletivas': 771,\n",
       "          'morte': 17991,\n",
       "          'reitor': 623,\n",
       "          'ufsc': 115,\n",
       "          'não': 615080,\n",
       "          'falsear': 20,\n",
       "          'opinião': 9527,\n",
       "          'dizem': 11164,\n",
       "          'entidades': 4608,\n",
       "          'google': 5535,\n",
       "          'admite': 2063,\n",
       "          'russos': 2211,\n",
       "          'usaram': 1112,\n",
       "          'site': 15220,\n",
       "          'interferir': 1081,\n",
       "          'eleição': 14198,\n",
       "          'dos': 365902,\n",
       "          'queda': 26411,\n",
       "          'avião': 5973,\n",
       "          'pequeno': 5903,\n",
       "          'porte': 2803,\n",
       "          'deixa': 10071,\n",
       "          '0': 185367,\n",
       "          'interior': 7188,\n",
       "          'sp': 27666,\n",
       "          'mais': 352469,\n",
       "          'difícil': 15551,\n",
       "          'as': 404929,\n",
       "          'lutar': 1978,\n",
       "          'contra': 84543,\n",
       "          'alcoolismo': 177,\n",
       "          'dependência': 1196,\n",
       "          'às': 86639,\n",
       "          'drogas': 7550,\n",
       "          'técnico': 13342,\n",
       "          'chile': 4223,\n",
       "          'elogia': 584,\n",
       "          'evolução': 3631,\n",
       "          'fraquezas': 141,\n",
       "          'tentou': 5103,\n",
       "          'pagar': 14486,\n",
       "          'advogado': 12667,\n",
       "          'criminal': 2745,\n",
       "          'recursos': 24372,\n",
       "          'rio-0000': 3737,\n",
       "          'escola': 15155,\n",
       "          'emprego': 8166,\n",
       "          'buscar': 5547,\n",
       "          'um': 705053,\n",
       "          'caminho': 11569,\n",
       "          'profissional': 6284,\n",
       "          '(': 597325,\n",
       "          'menos': 59090,\n",
       "          ')': 591740,\n",
       "          'diploma': 672,\n",
       "          'universitário': 1398,\n",
       "          'separatismo': 64,\n",
       "          'frança': 11593,\n",
       "          'reconhecerá': 54,\n",
       "          'independência': 3202,\n",
       "          'catalã': 310,\n",
       "          'doria': 10688,\n",
       "          'eleições': 12360,\n",
       "          'cidade': 49276,\n",
       "          'confira': 4298,\n",
       "          'curiosidades': 365,\n",
       "          'pesquisa': 18394,\n",
       "          'datafolha': 3375,\n",
       "          'depois': 70603,\n",
       "          'apenas': 57891,\n",
       "          'uma': 569180,\n",
       "          'foto': 5254,\n",
       "          'camiseta': 959,\n",
       "          'fundo': 13226,\n",
       "          'público': 47905,\n",
       "          'seria': 32978,\n",
       "          'pior': 10211,\n",
       "          'mundos': 536,\n",
       "          'mendes': 5620,\n",
       "          'muda': 3023,\n",
       "          'tática': 1284,\n",
       "          'serviço': 16395,\n",
       "          'barato': 1901,\n",
       "          'licença': 2288,\n",
       "          'noruega': 837,\n",
       "          'tesouro': 4396,\n",
       "          'reduz': 2002,\n",
       "          'milhões': 67095,\n",
       "          'empréstimo': 3036,\n",
       "          'salários': 6519,\n",
       "          'mulher': 22676,\n",
       "          'denuncia': 516,\n",
       "          'ex-companheiro': 77,\n",
       "          'assassinada': 185,\n",
       "          'dentro': 21696,\n",
       "          'carro': 12888,\n",
       "          'mercedes-benz': 308,\n",
       "          'anuncia': 1892,\n",
       "          'investimentos': 13560,\n",
       "          '0,0': 58639,\n",
       "          'bilhões': 39730,\n",
       "          'compare': 183,\n",
       "          'mensalidades': 474,\n",
       "          '0.000': 41796,\n",
       "          'escolas': 10443,\n",
       "          'privadas': 2467,\n",
       "          'quais': 15808,\n",
       "          'seleções': 1462,\n",
       "          'já': 150192,\n",
       "          'estão': 63058,\n",
       "          'classificadas': 258,\n",
       "          'mundo': 57973,\n",
       "          'rússia-0000': 54,\n",
       "          'adiada': 749,\n",
       "          'permissão': 1382,\n",
       "          'boleto': 255,\n",
       "          'vencido': 1154,\n",
       "          'qualquer': 31696,\n",
       "          'banco': 28256,\n",
       "          'grupo': 45405,\n",
       "          'atira': 174,\n",
       "          'tomates': 182,\n",
       "          'protesto': 6877,\n",
       "          'troca': 9367,\n",
       "          'proteção': 6167,\n",
       "          'dreamers': 61,\n",
       "          'restringir': 800,\n",
       "          'imigração': 2308,\n",
       "          'dove': 54,\n",
       "          'desculpas': 1989,\n",
       "          'propaganda': 3654,\n",
       "          'acusada': 1181,\n",
       "          'racismo': 1792,\n",
       "          'nas': 90475,\n",
       "          'redes': 11714,\n",
       "          'brasileiro': 36559,\n",
       "          'propina': 9488,\n",
       "          'vizinhos': 2718,\n",
       "          'américa': 12401,\n",
       "          'latina': 5579,\n",
       "          'afinal': 3952,\n",
       "          'nosso': 15821,\n",
       "          'voto': 10423,\n",
       "          'preço': 14351,\n",
       "          '?': 94290,\n",
       "          'estudo': 11000,\n",
       "          'comportamento': 4677,\n",
       "          'tomada': 4256,\n",
       "          'decisões': 6942,\n",
       "          'rende': 421,\n",
       "          'nobel': 1880,\n",
       "          'economia': 29001,\n",
       "          'deus': 6016,\n",
       "          'tudo': 35858,\n",
       "          'padre': 1776,\n",
       "          'italiano': 4066,\n",
       "          'círio': 57,\n",
       "          'nazaré': 181,\n",
       "          'cientista': 1764,\n",
       "          'dá': 18251,\n",
       "          'psicodélico': 110,\n",
       "          'minicérebros': 24,\n",
       "          'eles': 56125,\n",
       "          'gostam': 1207,\n",
       "          'reestruturação': 1039,\n",
       "          'sabesp': 3218,\n",
       "          'deverá': 8007,\n",
       "          'levada': 1589,\n",
       "          'justiça': 38850,\n",
       "          'setor': 26813,\n",
       "          'limpeza': 2600,\n",
       "          'sucesso': 11211,\n",
       "          'youtube': 2217,\n",
       "          'série': 20058,\n",
       "          'girls': 385,\n",
       "          'in': 6747,\n",
       "          'the': 23273,\n",
       "          'house': 1248,\n",
       "          'vira': 2368,\n",
       "          'livro': 19167,\n",
       "          'revolução': 3478,\n",
       "          'russa': 2459,\n",
       "          'mika': 60,\n",
       "          'lins': 717,\n",
       "          'lê': 812,\n",
       "          'teses': 453,\n",
       "          'famosas': 724,\n",
       "          'lênin': 211,\n",
       "          'costa': 10525,\n",
       "          'silva': 15661,\n",
       "          'inaugurar': 526,\n",
       "          'nova': 45294,\n",
       "          'pista': 4033,\n",
       "          'dutra': 883,\n",
       "          'vínculo': 1354,\n",
       "          'psdb': 17470,\n",
       "          'alberto': 4445,\n",
       "          'goldman': 697,\n",
       "          'receita': 13507,\n",
       "          'libera': 808,\n",
       "          'nesta': 91092,\n",
       "          'segunda': 32145,\n",
       "          'consulta': 2628,\n",
       "          'lote': 1342,\n",
       "          'restituição': 568,\n",
       "          'ir': 13448,\n",
       "          'alvo': 9615,\n",
       "          'inquérito': 5627,\n",
       "          'temer': 41463,\n",
       "          'atua': 2897,\n",
       "          'contrato': 11970,\n",
       "          'porto': 7685,\n",
       "          'vigia': 259,\n",
       "          'creche': 587,\n",
       "          'teve': 37386,\n",
       "          'vida': 39957,\n",
       "          'migrante': 111,\n",
       "          'fez': 34028,\n",
       "          'escultura': 664,\n",
       "          'oscilou': 164,\n",
       "          'pai': 14100,\n",
       "          'preservar': 1974,\n",
       "          'passado': 42378,\n",
       "          'grandes': 20784,\n",
       "          'desafios': 3432,\n",
       "          'processos': 7227,\n",
       "          'revitalização': 513,\n",
       "          'lionel': 588,\n",
       "          'messi': 2478,\n",
       "          'une': 1102,\n",
       "          'processa': 192,\n",
       "          'lollapalooza': 436,\n",
       "          'suspeita': 6150,\n",
       "          'burlar': 209,\n",
       "          'lei': 29863,\n",
       "          'meia': 6307,\n",
       "          'entrada': 9913,\n",
       "          'evo': 471,\n",
       "          'morales': 721,\n",
       "          'reúne': 5389,\n",
       "          'líderes': 9049,\n",
       "          'esquerda': 9145,\n",
       "          'homenagear': 484,\n",
       "          'guevara': 294,\n",
       "          'documentário': 2943,\n",
       "          'spielberg': 302,\n",
       "          'fascinante': 312,\n",
       "          'fãs': 3853,\n",
       "          'diretor': 21852,\n",
       "          'memória': 3771,\n",
       "          'coração': 4373,\n",
       "          'tomar': 7799,\n",
       "          'democratas': 1899,\n",
       "          'vivem': 3430,\n",
       "          'cabo-de-guerra': 4,\n",
       "          'nyt': 453,\n",
       "          'putin': 2932,\n",
       "          'encontra': 3069,\n",
       "          'oriente': 2408,\n",
       "          'médio': 10445,\n",
       "          'maior': 62101,\n",
       "          'triunfo': 1351,\n",
       "          'diplomático': 596,\n",
       "          'político': 18530,\n",
       "          'marcus': 1001,\n",
       "          'melo': 3063,\n",
       "          'passa': 11161,\n",
       "          'escrever': 4062,\n",
       "          'segundas-feiras': 105,\n",
       "          'candidato': 12038,\n",
       "          'situação': 23735,\n",
       "          'programa': 26474,\n",
       "          'espacial': 1172,\n",
       "          'soviético': 445,\n",
       "          'ideal': 3188,\n",
       "          'social': 21322,\n",
       "          'anônimo': 253,\n",
       "          'atropelar': 252,\n",
       "          'ambição': 795,\n",
       "          'fracassar': 198,\n",
       "          'atenção': 11114,\n",
       "          'câmbio': 5011,\n",
       "          'deve': 48393,\n",
       "          'prioridade': 3202,\n",
       "          'quem': 57123,\n",
       "          'investe': 1032,\n",
       "          'exterior': 12429,\n",
       "          'apoiada': 500,\n",
       "          'defesa': 24590,\n",
       "          'suíça': 4922,\n",
       "          'busca': 14806,\n",
       "          'afirmação': 1936,\n",
       "          'elite': 3223,\n",
       "          'europeia': 8119,\n",
       "          'versão': 9373,\n",
       "          'positivo': 4482,\n",
       "          'reduzir': 9449,\n",
       "          'juro': 1183,\n",
       "          'consumidor': 6304,\n",
       "          'ficou': 22921,\n",
       "          'seis': 21806,\n",
       "          'jogos': 22050,\n",
       "          'vencer': 5016,\n",
       "          'chegar': 15204,\n",
       "          'eliminatórias': 2186,\n",
       "          'sorvete': 575,\n",
       "          'igual': 4283,\n",
       "          'sexo': 3971,\n",
       "          'reforma': 15818,\n",
       "          'mantém': 4978,\n",
       "          'desequilíbrio': 794,\n",
       "          'financiamento': 7867,\n",
       "          'campanha': 25438,\n",
       "          'escolarizados': 137,\n",
       "          'puxam': 95,\n",
       "          'fila': 3231,\n",
       "          'querem': 8375,\n",
       "          'deixar': 14352,\n",
       "          'devido': 13141,\n",
       "          'violência': 12051,\n",
       "          'parece': 16255,\n",
       "          'tomado': 1260,\n",
       "          'conta': 38092,\n",
       "          'leitor': 6027,\n",
       "          'petistas': 3682,\n",
       "          'acreditam': 2657,\n",
       "          'candidatura': 4694,\n",
       "          'marinho': 1192,\n",
       "          'inglês': 8633,\n",
       "          'ver': 21846,\n",
       "          'fazer': 62409,\n",
       "          'caetano': 2654,\n",
       "          'prefeito': 14785,\n",
       "          'sofre': 3460,\n",
       "          'duros': 377,\n",
       "          'reveses': 127,\n",
       "          'muito': 87279,\n",
       "          'cedo': 5234,\n",
       "          'descartá-lo': 19,\n",
       "          'assunto': 10508,\n",
       "          'autobiografias': 15,\n",
       "          'youtubers': 233,\n",
       "          'escrevem': 393,\n",
       "          'ficção': 2748,\n",
       "          'bonde': 266,\n",
       "          'mudar': 9702,\n",
       "          'centro': 23748,\n",
       "          'baixo': 8438,\n",
       "          'faz': 33215,\n",
       "          'investidor': 1981,\n",
       "          'mirar': 189,\n",
       "          'oportunidades': 3825,\n",
       "          'brecha': 548,\n",
       "          'ranking': 5172,\n",
       "          'fifa': 6640,\n",
       "          'prejudica': 1002,\n",
       "          'jogam': 804,\n",
       "          'muitos': 22517,\n",
       "          'amistosos': 686,\n",
       "          'básico': 1936,\n",
       "          'eterna': 412,\n",
       "          'liberal-de-verdade': 3,\n",
       "          'vivemos': 1903,\n",
       "          'alguém': 11514,\n",
       "          'essa': 57107,\n",
       "          'médico': 7941,\n",
       "          'frente': 23110,\n",
       "          'amil': 111,\n",
       "          'deputado': 17708,\n",
       "          'propôs': 1512,\n",
       "          'internet': 13726,\n",
       "          'regular': 2134,\n",
       "          'bitcoin': 495,\n",
       "          'parecer': 5081,\n",
       "          'advocacia-geral': 688,\n",
       "          'enviado': 3357,\n",
       "          'stf': 17623,\n",
       "          'favorável': 3642,\n",
       "          'aécio': 7156,\n",
       "          'fábrica': 3136,\n",
       "          'peças': 5632,\n",
       "          'caça': 1124,\n",
       "          'fica': 18031,\n",
       "          'promessa': 2835,\n",
       "          'follow-up': 8,\n",
       "          'equipe': 27461,\n",
       "          'passo': 5721,\n",
       "          'aprimorar': 539,\n",
       "          'táticas': 487,\n",
       "          'gestão': 19504,\n",
       "          'política': 46882,\n",
       "          'agora': 50837,\n",
       "          'era': 82594,\n",
       "          'crise': 34720,\n",
       "          'estados': 37923,\n",
       "          'unidos': 24278,\n",
       "          'elimina': 330,\n",
       "          'milhão': 9620,\n",
       "          'vagas': 7182,\n",
       "          'enxergam': 395,\n",
       "          'ocidente': 1580,\n",
       "          'legião': 415,\n",
       "          'fracos': 753,\n",
       "          'valores': 12879,\n",
       "          'legado': 2148,\n",
       "          'divide': 1361,\n",
       "          'vilarejo': 719,\n",
       "          'argentina': 12070,\n",
       "          'sua': 159795,\n",
       "          'liberal': 1510,\n",
       "          'adota': 695,\n",
       "          'discurso': 12137,\n",
       "          'agrada': 457,\n",
       "          'investidores': 8179,\n",
       "          'bloco': 5431,\n",
       "          'acadêmicos': 937,\n",
       "          'augusta': 1161,\n",
       "          'inaugura': 502,\n",
       "          'cultural': 7243,\n",
       "          'come-cotas': 21,\n",
       "          'leão': 1662,\n",
       "          'manso': 92,\n",
       "          'apresenta': 4799,\n",
       "          'ponto': 19393,\n",
       "          'inflexão': 305,\n",
       "          'mg': 4257,\n",
       "          'veloso': 1031,\n",
       "          'liberdade': 9539,\n",
       "          'expressão': 4670,\n",
       "          'artistas': 6779,\n",
       "          'vice': 5176,\n",
       "          'jogo': 23008,\n",
       "          'nfl': 426,\n",
       "          'durante': 44576,\n",
       "          'hino': 872,\n",
       "          'britânica': 3552,\n",
       "          'polariza': 15,\n",
       "          'dúvidas': 4192,\n",
       "          'brexit': 2056,\n",
       "          'blade': 139,\n",
       "          'runner': 155,\n",
       "          'decepciona': 124,\n",
       "          'bilheterias': 508,\n",
       "          'estreia': 8827,\n",
       "          'mortes': 7949,\n",
       "          'imigrante': 519,\n",
       "          'viveu': 2050,\n",
       "          'cabeça': 8885,\n",
       "          'portugal': 4041,\n",
       "          'publisher': 158,\n",
       "          'slate': 63,\n",
       "          'notícia': 8818,\n",
       "          'fraudulenta': 209,\n",
       "          'ameaça': 6118,\n",
       "          'lado': 32869,\n",
       "          'prem': 28,\n",
       "          'baba': 83,\n",
       "          'deseja': 1697,\n",
       "          'paz': 7207,\n",
       "          'baixa': 9519,\n",
       "          'participação': 20102,\n",
       "          'proposta': 20964,\n",
       "          'separação': 1503,\n",
       "          'sul': 24029,\n",
       "          'vence': 2266,\n",
       "          'plebiscito': 1944,\n",
       "          'informal': 992,\n",
       "          'pesquisadores': 4273,\n",
       "          'estudantes': 8479,\n",
       "          'marcham': 38,\n",
       "          'paulista': 23880,\n",
       "          'cortes': 4605,\n",
       "          'ciência': 5292,\n",
       "          'gol': 10124,\n",
       "          'min': 2075,\n",
       "          'egito': 1783,\n",
       "          'classifica': 680,\n",
       "          'copa-0000': 295,\n",
       "          'merkel': 2060,\n",
       "          'cede': 242,\n",
       "          'aceita': 2269,\n",
       "          'limitar': 1374,\n",
       "          'número': 29820,\n",
       "          'refugiados': 6697,\n",
       "          'recebidos': 1381,\n",
       "          'gabriel': 5859,\n",
       "          'jesus': 3361,\n",
       "          'volta': 24155,\n",
       "          'palmeiras': 11468,\n",
       "          'sonha': 593,\n",
       "          'conflito': 5621,\n",
       "          'facções': 1129,\n",
       "          'jovem': 9876,\n",
       "          'ferido': 1354,\n",
       "          'bala': 1216,\n",
       "          'casa': 60083,\n",
       "          'incêndio': 2809,\n",
       "          'shopping': 4410,\n",
       "          'moscou': 2423,\n",
       "          'leva': 7821,\n",
       "          'retirada': 3644,\n",
       "          'pessoas': 84322,\n",
       "          'há': 113461,\n",
       "          'feridos': 4145,\n",
       "          'filmes': 8293,\n",
       "          'retratam': 196,\n",
       "          'antônio': 4090,\n",
       "          'callado': 134,\n",
       "          'henfil': 40,\n",
       "          'provocam': 407,\n",
       "          'reflexões': 446,\n",
       "          'país': 102101,\n",
       "          'caminha': 863,\n",
       "          'trilhas': 541,\n",
       "          'onde': 53845,\n",
       "          'foi': 282880,\n",
       "          'capturado': 391,\n",
       "          'harvey': 250,\n",
       "          'weinstein': 84,\n",
       "          'demitido': 1342,\n",
       "          'acusações': 6411,\n",
       "          'assédio': 1279,\n",
       "          'sexual': 4008,\n",
       "          'demolir': 170,\n",
       "          'palco': 6417,\n",
       "          'tragédia': 3608,\n",
       "          'janaúba': 57,\n",
       "          'norte': 17130,\n",
       "          'estreante': 411,\n",
       "          'termina': 2461,\n",
       "          'ginástica': 1181,\n",
       "          'artística': 1589,\n",
       "          'saúde': 30046,\n",
       "          'romeiros': 35,\n",
       "          'lotam': 77,\n",
       "          'belém': 1242,\n",
       "          'polônia': 1152,\n",
       "          'montenegro': 408,\n",
       "          'motorista': 4400,\n",
       "          'envolvido': 1824,\n",
       "          'colisão': 529,\n",
       "          'feriu': 579,\n",
       "          'londres': 6870,\n",
       "          'atribui': 938,\n",
       "          'avaliação': 10224,\n",
       "          'herança': 1246,\n",
       "          'haddad': 8496,\n",
       "          'jornalistas': 6592,\n",
       "          'ficam': 5190,\n",
       "          'dias': 47821,\n",
       "          'entrar': 11003,\n",
       "          'venezuela': 8444,\n",
       "          'furacão': 995,\n",
       "          'nate': 109,\n",
       "          'perde': 3569,\n",
       "          'tempestade': 1212,\n",
       "          'tropical': 601,\n",
       "          'atingir': 4109,\n",
       "          'kim': 2254,\n",
       "          'jong-un': 607,\n",
       "          'promove': 1675,\n",
       "          'irmã': 2744,\n",
       "          'espada': 366,\n",
       "          'querida': 423,\n",
       "          'seu': 136982,\n",
       "          'nuclear': 3290,\n",
       "          'homenagem': 3590,\n",
       "          'cuba': 4879,\n",
       "          'reage': 486,\n",
       "          'declarações': 4919,\n",
       "          'escócia': 775,\n",
       "          'fora': 27848,\n",
       "          'inglaterra': 3232,\n",
       "          'invicta': 144,\n",
       "          'sob': 25272,\n",
       "          'calor': 2462,\n",
       "          'polêmicas': 1304,\n",
       "          'pedofilia': 341,\n",
       "          'festival': 8025,\n",
       "          'lewis': 1035,\n",
       "          'hamilton': 1731,\n",
       "          'gp': 1499,\n",
       "          'japão': 5887,\n",
       "          'amplia': 809,\n",
       "          'liderança': 5665,\n",
       "          'enfermeira': 436,\n",
       "          'morta': 1350,\n",
       "          'tiro': 2688,\n",
       "          'assaltantes': 472,\n",
       "          'plantão': 652,\n",
       "          'rj': 3198,\n",
       "          'usa': 4828,\n",
       "          'frase': 3579,\n",
       "          'irônica': 171,\n",
       "          'alckmin': 9064,\n",
       "          'responder': 4371,\n",
       "          'ataques': 9615,\n",
       "          'espanhóis': 743,\n",
       "          'vão': 19819,\n",
       "          'ruas': 11657,\n",
       "          'barcelona': 5842,\n",
       "          'catalunha': 656,\n",
       "          'europa': 12442,\n",
       "          '€': 2873,\n",
       "          'criar': 11045,\n",
       "          'airbus': 503,\n",
       "          'baterias': 690,\n",
       "          'jk': 463,\n",
       "          'ampla': 3134,\n",
       "          'planejar': 896,\n",
       "          'estratégia': 7833,\n",
       "          'laços': 1077,\n",
       "          'amizade': 1676,\n",
       "          'contêm': 305,\n",
       "          'revoada': 46,\n",
       "          'economistas': 3370,\n",
       "          'tucanos': 2134,\n",
       "          'partido': 28725,\n",
       "          'destruindo': 326,\n",
       "          'volume': 9450,\n",
       "          'querosene': 108,\n",
       "          'alta': 23836,\n",
       "          'quedas': 1441,\n",
       "          'rei': 3206,\n",
       "          'vela': 773,\n",
       "          'peça': 7708,\n",
       "          'marcou': 3881,\n",
       "          'teatro': 8881,\n",
       "          'ganhará': 476,\n",
       "          'remontagem': 51,\n",
       "          'acidente': 7700,\n",
       "          'prejudicaram': 166,\n",
       "          'produção': 21704,\n",
       "          'literária': 1348,\n",
       "          'stephen': 980,\n",
       "          'king': 1386,\n",
       "          'principais': 18818,\n",
       "          'obras': 18245,\n",
       "          'voltam': 1306,\n",
       "          'coleção': 3587,\n",
       "          'catavento': 62,\n",
       "          'lanchonete': 403,\n",
       "          'entre': 134777,\n",
       "          'dicas': 2308,\n",
       "          'atriz': 6212,\n",
       "          'pietra': 56,\n",
       "          'quintela': 40,\n",
       "          'curtir': 961,\n",
       "          'aprovação': 8952,\n",
       "          'também': 161282,\n",
       "          'moradores': 9934,\n",
       "          'bairros': 3149,\n",
       "          'nobres': 548,\n",
       "          'diferenciar': 408,\n",
       "          'ruídos': 306,\n",
       "          'indicam': 2420,\n",
       "          'problema': 20908,\n",
       "          'barulhos': 121,\n",
       "          'comuns': 3183,\n",
       "          'arquitetos': 773,\n",
       "          'pop': 2688,\n",
       "          'investimento': 12328,\n",
       "          'arte': 10197,\n",
       "          'tentam': 2402,\n",
       "          'cingapura': 1060,\n",
       "          'cool': 227,\n",
       "          'educar': 395,\n",
       "          'aluno': 2598,\n",
       "          'ensinar': 1248,\n",
       "          'conteúdo': 10718,\n",
       "          'professor': 12451,\n",
       "          'harvard': 1194,\n",
       "          'explica': 8095,\n",
       "          'regras': 11793,\n",
       "          'venda': 13532,\n",
       "          'empresa': 54653,\n",
       "          'cozinha': 4041,\n",
       "          'crianças': 16580,\n",
       "          'aprendem': 359,\n",
       "          'escolher': 3843,\n",
       "          'ingredientes': 1624,\n",
       "          'modelar': 68,\n",
       "          'massas': 833,\n",
       "          'zona': 19800,\n",
       "          'oeste': 8510,\n",
       "          'satisfeitos': 343,\n",
       "          'inibir': 314,\n",
       "          'candidaturas': 835,\n",
       "          'majoritárias': 94,\n",
       "          'quarto': 8219,\n",
       "          'decorado': 168,\n",
       "          'base': 21407,\n",
       "          'método': 1896,\n",
       "          'pedagoga': 112,\n",
       "          'autonomia': 2475,\n",
       "          'longe': 6939,\n",
       "          'blumenau': 173,\n",
       "          'oktoberfest': 104,\n",
       "          'pegar': 3104,\n",
       "          'só': 75547,\n",
       "          'futuro': 13924,\n",
       "          'filho': 20996,\n",
       "          'acertam': 97,\n",
       "          'fechar': 5457,\n",
       "          'ação': 23020,\n",
       "          'feminina': 2592,\n",
       "          'regra': 5416,\n",
       "          'sufoca': 59,\n",
       "          ...})}"
      ]
     },
     "execution_count": 25,
     "metadata": {},
     "output_type": "execute_result"
    }
   ],
   "source": [
    "pickle.load(open(\"../checkpoints/embeddings/w2v_skipgram/vocab_counter.pkl\", \"rb\"))"
   ]
  },
  {
   "cell_type": "code",
   "execution_count": 5,
   "metadata": {
    "ExecuteTime": {
     "end_time": "2020-05-11T03:58:49.448570Z",
     "start_time": "2020-05-11T03:58:49.330556Z"
    }
   },
   "outputs": [
    {
     "data": {
      "text/plain": [
       "dict_keys(['int_to_vocab', 'wrd_cnt'])"
      ]
     },
     "execution_count": 5,
     "metadata": {},
     "output_type": "execute_result"
    }
   ],
   "source": [
    "Out[4].keys()"
   ]
  },
  {
   "cell_type": "code",
   "execution_count": null,
   "metadata": {},
   "outputs": [],
   "source": []
  }
 ],
 "metadata": {
  "kernelspec": {
   "display_name": "Python [conda env:stance_tf2]",
   "language": "python",
   "name": "conda-env-stance_tf2-py"
  },
  "language_info": {
   "codemirror_mode": {
    "name": "ipython",
    "version": 3
   },
   "file_extension": ".py",
   "mimetype": "text/x-python",
   "name": "python",
   "nbconvert_exporter": "python",
   "pygments_lexer": "ipython3",
   "version": "3.7.10"
  },
  "toc": {
   "base_numbering": 1,
   "nav_menu": {},
   "number_sections": true,
   "sideBar": true,
   "skip_h1_title": false,
   "title_cell": "Table of Contents",
   "title_sidebar": "Contents",
   "toc_cell": false,
   "toc_position": {},
   "toc_section_display": true,
   "toc_window_display": false
  },
  "varInspector": {
   "cols": {
    "lenName": 16,
    "lenType": 16,
    "lenVar": 40
   },
   "kernels_config": {
    "python": {
     "delete_cmd_postfix": "",
     "delete_cmd_prefix": "del ",
     "library": "var_list.py",
     "varRefreshCmd": "print(var_dic_list())"
    },
    "r": {
     "delete_cmd_postfix": ") ",
     "delete_cmd_prefix": "rm(",
     "library": "var_list.r",
     "varRefreshCmd": "cat(var_dic_list()) "
    }
   },
   "types_to_exclude": [
    "module",
    "function",
    "builtin_function_or_method",
    "instance",
    "_Feature"
   ],
   "window_display": false
  }
 },
 "nbformat": 4,
 "nbformat_minor": 2
}
