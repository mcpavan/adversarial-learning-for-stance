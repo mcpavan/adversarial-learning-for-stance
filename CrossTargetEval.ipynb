{
 "cells": [
  {
   "cell_type": "code",
   "execution_count": 1,
   "id": "d5fac6aa",
   "metadata": {
    "ExecuteTime": {
     "end_time": "2022-04-27T05:23:16.244524Z",
     "start_time": "2022-04-27T05:23:15.180670Z"
    }
   },
   "outputs": [],
   "source": [
    "import pandas as pd\n",
    "from glob import glob\n",
    "from tqdm import tqdm_notebook\n",
    "\n",
    "from sklearn.model_selection import train_test_split\n",
    "from sklearn.metrics import f1_score, confusion_matrix\n",
    "from IPython.display import display, Markdown"
   ]
  },
  {
   "cell_type": "code",
   "execution_count": 2,
   "id": "22484312",
   "metadata": {
    "ExecuteTime": {
     "end_time": "2022-04-27T05:23:16.337979Z",
     "start_time": "2022-04-27T05:23:16.248489Z"
    },
    "scrolled": false
   },
   "outputs": [
    {
     "data": {
      "text/markdown": [
       "## ./src/out/ustancebr/pred\\bo_adv-test.csv"
      ],
      "text/plain": [
       "<IPython.core.display.Markdown object>"
      ]
     },
     "metadata": {},
     "output_type": "display_data"
    },
    {
     "name": "stdout",
     "output_type": "stream",
     "text": [
      "Confusion Matrix:\n",
      "[[571 264]\n",
      " [346 231]]\n",
      "F1-Score Macro:\n",
      "0.5413983166359981\n",
      "F1-Score Class:\n",
      "[0.65182648 0.43097015]\n"
     ]
    },
    {
     "data": {
      "text/markdown": [
       "## ./src/out/ustancebr/pred\\bo_bicond-test.csv"
      ],
      "text/plain": [
       "<IPython.core.display.Markdown object>"
      ]
     },
     "metadata": {},
     "output_type": "display_data"
    },
    {
     "name": "stdout",
     "output_type": "stream",
     "text": [
      "Confusion Matrix:\n",
      "[[561 274]\n",
      " [297 280]]\n",
      "F1-Score Macro:\n",
      "0.578932965249848\n",
      "F1-Score Class:\n",
      "[0.66272888 0.49513705]\n"
     ]
    }
   ],
   "source": [
    "for path in glob(\"./src/out/ustancebr/pred/*-test.csv\"):\n",
    "    df_test_pred = pd.read_csv(path)\n",
    "    \n",
    "    display(Markdown(f\"## {path}\"))\n",
    "    y_true = df_test_pred[\"label\"]\n",
    "    y_pred = df_test_pred[\"pred label\"]\n",
    "    \n",
    "    print(\"Confusion Matrix:\", confusion_matrix(y_true, y_pred), sep=\"\\n\")\n",
    "    print(\n",
    "        \"F1-Score Macro:\", f1_score(y_true, y_pred, average=\"macro\"),\n",
    "        \"F1-Score Class:\", f1_score(y_true, y_pred, average=None),\n",
    "        sep=\"\\n\"\n",
    "    )"
   ]
  },
  {
   "cell_type": "code",
   "execution_count": 3,
   "id": "ef036cc0",
   "metadata": {
    "ExecuteTime": {
     "end_time": "2022-04-27T05:23:17.471892Z",
     "start_time": "2022-04-27T05:23:16.339944Z"
    },
    "scrolled": false
   },
   "outputs": [
    {
     "data": {
      "text/markdown": [
       "## ./src/out/ustancebr/pred\\bo_adv-train.csv"
      ],
      "text/plain": [
       "<IPython.core.display.Markdown object>"
      ]
     },
     "metadata": {},
     "output_type": "display_data"
    },
    {
     "name": "stdout",
     "output_type": "stream",
     "text": [
      "Confusion Matrix:\n",
      "[[6772 4883    0]\n",
      " [6216 4588    0]\n",
      " [3258 2390    0]]\n",
      "F1-Score Macro:\n",
      "0.29676130925438443\n",
      "F1-Score Class:\n",
      "[0.48543063 0.4048533  0.        ]\n"
     ]
    },
    {
     "data": {
      "text/markdown": [
       "## ./src/out/ustancebr/pred\\bo_bicond-train.csv"
      ],
      "text/plain": [
       "<IPython.core.display.Markdown object>"
      ]
     },
     "metadata": {},
     "output_type": "display_data"
    },
    {
     "name": "stdout",
     "output_type": "stream",
     "text": [
      "Confusion Matrix:\n",
      "[[6365 5290    0]\n",
      " [5813 4991    0]\n",
      " [3076 2572    0]]\n",
      "F1-Score Macro:\n",
      "0.29834097166244056\n",
      "F1-Score Class:\n",
      "[0.47307592 0.42194699 0.        ]\n"
     ]
    }
   ],
   "source": [
    "for path in glob(\"./src/out/ustancebr/pred/*-train.csv\"):\n",
    "    df_test_pred = pd.read_csv(path)\n",
    "    \n",
    "    display(Markdown(f\"## {path}\"))\n",
    "    y_true = df_test_pred[\"label\"]\n",
    "    y_pred = df_test_pred[\"pred label\"]\n",
    "    \n",
    "    print(\"Confusion Matrix:\", confusion_matrix(y_true, y_pred), sep=\"\\n\")\n",
    "    print(\n",
    "        \"F1-Score Macro:\", f1_score(y_true, y_pred, average=\"macro\"),\n",
    "        \"F1-Score Class:\", f1_score(y_true, y_pred, average=None),\n",
    "        sep=\"\\n\"\n",
    "    )"
   ]
  },
  {
   "cell_type": "code",
   "execution_count": 4,
   "id": "f56e6a06",
   "metadata": {
    "ExecuteTime": {
     "end_time": "2022-04-27T05:23:17.719041Z",
     "start_time": "2022-04-27T05:23:17.472890Z"
    }
   },
   "outputs": [
    {
     "data": {
      "text/markdown": [
       "## ./src/out/ustancebr/pred\\bo_adv-dev.csv"
      ],
      "text/plain": [
       "<IPython.core.display.Markdown object>"
      ]
     },
     "metadata": {},
     "output_type": "display_data"
    },
    {
     "name": "stdout",
     "output_type": "stream",
     "text": [
      "Confusion Matrix:\n",
      "[[2320  595]\n",
      " [ 796 1906]]\n",
      "F1-Score Macro:\n",
      "0.7510062766551178\n",
      "F1-Score Class:\n",
      "[0.76935832 0.73265424]\n"
     ]
    },
    {
     "data": {
      "text/markdown": [
       "## ./src/out/ustancebr/pred\\bo_bicond-dev.csv"
      ],
      "text/plain": [
       "<IPython.core.display.Markdown object>"
      ]
     },
     "metadata": {},
     "output_type": "display_data"
    },
    {
     "name": "stdout",
     "output_type": "stream",
     "text": [
      "Confusion Matrix:\n",
      "[[2150  765]\n",
      " [ 724 1978]]\n",
      "F1-Score Macro:\n",
      "0.7346630773254934\n",
      "F1-Score Class:\n",
      "[0.74278805 0.72653811]\n"
     ]
    }
   ],
   "source": [
    "for path in glob(\"./src/out/ustancebr/pred/*-dev.csv\"):\n",
    "    df_test_pred = pd.read_csv(path)\n",
    "    \n",
    "    display(Markdown(f\"## {path}\"))\n",
    "    y_true = df_test_pred[\"label\"]\n",
    "    y_pred = df_test_pred[\"pred label\"]\n",
    "    \n",
    "    print(\"Confusion Matrix:\", confusion_matrix(y_true, y_pred), sep=\"\\n\")\n",
    "    print(\n",
    "        \"F1-Score Macro:\", f1_score(y_true, y_pred, average=\"macro\"),\n",
    "        \"F1-Score Class:\", f1_score(y_true, y_pred, average=None),\n",
    "        sep=\"\\n\"\n",
    "    )"
   ]
  },
  {
   "cell_type": "code",
   "execution_count": null,
   "id": "84082c81",
   "metadata": {},
   "outputs": [],
   "source": []
  },
  {
   "cell_type": "code",
   "execution_count": null,
   "id": "5f9f8e37",
   "metadata": {},
   "outputs": [],
   "source": []
  }
 ],
 "metadata": {
  "kernelspec": {
   "display_name": "Python [conda env:stance_tf2.2]",
   "language": "python",
   "name": "conda-env-stance_tf2.2-py"
  },
  "language_info": {
   "codemirror_mode": {
    "name": "ipython",
    "version": 3
   },
   "file_extension": ".py",
   "mimetype": "text/x-python",
   "name": "python",
   "nbconvert_exporter": "python",
   "pygments_lexer": "ipython3",
   "version": "3.7.10"
  },
  "toc": {
   "base_numbering": 1,
   "nav_menu": {},
   "number_sections": true,
   "sideBar": true,
   "skip_h1_title": false,
   "title_cell": "Table of Contents",
   "title_sidebar": "Contents",
   "toc_cell": false,
   "toc_position": {},
   "toc_section_display": true,
   "toc_window_display": false
  }
 },
 "nbformat": 4,
 "nbformat_minor": 5
}
