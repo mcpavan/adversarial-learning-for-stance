{
 "cells": [
  {
   "cell_type": "markdown",
   "id": "bad2bbe0",
   "metadata": {},
   "source": [
    "# Imports"
   ]
  },
  {
   "cell_type": "code",
   "execution_count": 1,
   "id": "d5fac6aa",
   "metadata": {
    "ExecuteTime": {
     "end_time": "2022-04-19T02:54:13.372410Z",
     "start_time": "2022-04-19T02:54:12.356048Z"
    }
   },
   "outputs": [],
   "source": [
    "import pandas as pd\n",
    "from glob import glob\n",
    "from tqdm import tqdm_notebook\n",
    "from sklearn.model_selection import train_test_split\n",
    "import os\n",
    "import re"
   ]
  },
  {
   "cell_type": "code",
   "execution_count": 2,
   "id": "9ece0493",
   "metadata": {
    "ExecuteTime": {
     "end_time": "2022-04-19T02:54:13.387990Z",
     "start_time": "2022-04-19T02:54:13.373471Z"
    }
   },
   "outputs": [],
   "source": [
    "cols = [\n",
    "    'Text',\n",
    "    'Target',\n",
    "    'Polarity',\n",
    "#     'opinion_to\"wards',\n",
    "#     'sentiment',\n",
    "#     'text',\n",
    "#     'target_in_tweet',\n",
    "#     'seen?'\"\n",
    "]"
   ]
  },
  {
   "cell_type": "code",
   "execution_count": 3,
   "id": "b56f11ec",
   "metadata": {
    "ExecuteTime": {
     "end_time": "2022-04-19T02:54:13.403390Z",
     "start_time": "2022-04-19T02:54:13.388988Z"
    }
   },
   "outputs": [],
   "source": [
    "save_path = \"./src/data/UStanceBR/\"\n",
    "os.makedirs(save_path, exist_ok=True)"
   ]
  },
  {
   "cell_type": "markdown",
   "id": "5df137e5",
   "metadata": {},
   "source": [
    "# Formatting original datasets"
   ]
  },
  {
   "cell_type": "code",
   "execution_count": 4,
   "id": "56bede2c",
   "metadata": {
    "ExecuteTime": {
     "end_time": "2022-04-19T02:54:15.206025Z",
     "start_time": "2022-04-19T02:54:13.405385Z"
    }
   },
   "outputs": [
    {
     "name": "stderr",
     "output_type": "stream",
     "text": [
      "D:\\Anaconda3\\envs\\stance_tf2.2\\lib\\site-packages\\ipykernel_launcher.py:5: TqdmDeprecationWarning: This function will be removed in tqdm==5.0.0\n",
      "Please use `tqdm.notebook.tqdm` instead of `tqdm.tqdm_notebook`\n",
      "  \"\"\"\n"
     ]
    },
    {
     "data": {
      "application/vnd.jupyter.widget-view+json": {
       "model_id": "97d343d4b5cb4aa1a5d0bdd46e95f23f",
       "version_major": 2,
       "version_minor": 0
      },
      "text/plain": [
       "  0%|          | 0/12 [00:00<?, ?it/s]"
      ]
     },
     "metadata": {},
     "output_type": "display_data"
    }
   ],
   "source": [
    "pol2label = {\n",
    "    \"against\": 0,\n",
    "    \"for\": 1\n",
    "}\n",
    "for path in tqdm_notebook(glob(\"../../data/UStanceBR/v2/*.csv\")):\n",
    "    name = path.replace(\"/\", \"\\\\\").split(\"\\\\\")[-1]\n",
    "    df = pd.read_csv(path, sep=\";\")\n",
    "    \n",
    "    df[\"Filler\"] = 0\n",
    "    \n",
    "    df = df[cols]\n",
    "#     df.columns = vast_cols\n",
    "    \n",
    "    if name.startswith(\"r2_bo\"):\n",
    "        df[\"topic_str\"] = \"bolsonaro\"\n",
    "    elif name.startswith(\"r2_lu\"):\n",
    "        df[\"topic_str\"] = \"lula\"\n",
    "    elif name.startswith(\"r2_cl\"):\n",
    "        df[\"topic_str\"] = \"cloroquina\"\n",
    "    elif name.startswith(\"r2_co\"):\n",
    "        df[\"topic_str\"] = \"coronavac\"\n",
    "    elif name.startswith(\"r2_gl\"):\n",
    "        df[\"topic_str\"] = \"globo\"\n",
    "    elif name.startswith(\"r2_ig\"):\n",
    "        df[\"topic_str\"] = \"igreja\"\n",
    "    \n",
    "#     df[\"ori_topic\"] = df[\"topic_str\"]\n",
    "    df[\"topic\"] = df[\"topic_str\"].apply(lambda x: f'[\"{x}\"]')\n",
    "    \n",
    "    def tokenize_sentence(text):\n",
    "        text = re.sub(r'[^\\w\\s]', '', text.lower())\n",
    "        return text.split()\n",
    "            \n",
    "    df[\"text_token\"] = df[\"Text\"].apply(lambda x: '[[\"' + '\", \"'.join(tokenize_sentence(x)) + '\"]]')\n",
    "    df[\"label\"] = df[\"Polarity\"].apply(lambda x: pol2label[x])\n",
    "    df[\"seen?\"] = 1\n",
    "    \n",
    "    df = df[[\"Text\", \"topic\", \"label\", \"text_token\", \"seen?\"]]\n",
    "    df.columns = ['tweet', 'topic', 'label', 'text', \"seen?\"]\n",
    "\n",
    "    if \"train\" in name:\n",
    "        df_train, df_valid = train_test_split(\n",
    "            df,\n",
    "            test_size = 0.2,\n",
    "            stratify = df[\"label\"],\n",
    "            random_state = 42,\n",
    "            shuffle = True\n",
    "        )\n",
    "        \n",
    "        df_train.to_csv(f\"{save_path}/{name}\", index=False)\n",
    "        df_valid.to_csv(f\"{save_path}/{name.replace('train', 'valid')}\", index=False)\n",
    "    else:\n",
    "        df.to_csv(f\"{save_path}/{name}\", index=False)"
   ]
  },
  {
   "cell_type": "markdown",
   "id": "88c883d6",
   "metadata": {},
   "source": [
    "## Train"
   ]
  },
  {
   "cell_type": "code",
   "execution_count": 5,
   "id": "19167a76",
   "metadata": {
    "ExecuteTime": {
     "end_time": "2022-04-19T02:54:17.391689Z",
     "start_time": "2022-04-19T02:54:15.208018Z"
    }
   },
   "outputs": [
    {
     "name": "stderr",
     "output_type": "stream",
     "text": [
      "D:\\Anaconda3\\envs\\stance_tf2.2\\lib\\site-packages\\ipykernel_launcher.py:10: TqdmDeprecationWarning: This function will be removed in tqdm==5.0.0\n",
      "Please use `tqdm.notebook.tqdm` instead of `tqdm.tqdm_notebook`\n",
      "  # Remove the CWD from sys.path while we load stuff.\n"
     ]
    },
    {
     "data": {
      "application/vnd.jupyter.widget-view+json": {
       "model_id": "b8410a140e434370bf83c67b07d23e3b",
       "version_major": 2,
       "version_minor": 0
      },
      "text/plain": [
       "  0%|          | 0/6 [00:00<?, ?it/s]"
      ]
     },
     "metadata": {},
     "output_type": "display_data"
    }
   ],
   "source": [
    "train_data_dict = {\n",
    "    \"bo\": pd.read_csv(f\"{save_path}/r2_bo_train_statements.csv\"),\n",
    "    \"lu\": pd.read_csv(f\"{save_path}/r2_lu_train_statements.csv\"),\n",
    "    \"co\": pd.read_csv(f\"{save_path}/r2_co_train_statements.csv\"),\n",
    "    \"cl\": pd.read_csv(f\"{save_path}/r2_cl_train_statements.csv\"),\n",
    "    \"gl\": pd.read_csv(f\"{save_path}/r2_gl_train_statements.csv\"),\n",
    "    \"ig\": pd.read_csv(f\"{save_path}/r2_ig_train_statements.csv\"),\n",
    "}\n",
    "\n",
    "for topic in tqdm_notebook(train_data_dict.keys()):\n",
    "    topic_data = train_data_dict[topic]\n",
    "    other_data = pd.concat([data_ for topic_, data_ in train_data_dict.items() if topic_ != topic])\n",
    "    \n",
    "    topic_data[\"label\"] = 2\n",
    "    topic_data[\"seen?\"] = 0\n",
    "    \n",
    "    train_data = other_data.append(topic_data)\n",
    "    train_data.to_csv(f\"{save_path}/final_{topic}_train.csv\", index=False)"
   ]
  },
  {
   "cell_type": "markdown",
   "id": "19bdfeee",
   "metadata": {
    "ExecuteTime": {
     "end_time": "2022-04-19T02:48:14.444260Z",
     "start_time": "2022-04-19T02:48:14.427307Z"
    }
   },
   "source": [
    "## Validation"
   ]
  },
  {
   "cell_type": "code",
   "execution_count": 6,
   "id": "01140fad",
   "metadata": {
    "ExecuteTime": {
     "end_time": "2022-04-19T02:54:18.985058Z",
     "start_time": "2022-04-19T02:54:17.393335Z"
    }
   },
   "outputs": [
    {
     "name": "stderr",
     "output_type": "stream",
     "text": [
      "D:\\Anaconda3\\envs\\stance_tf2.2\\lib\\site-packages\\ipykernel_launcher.py:10: TqdmDeprecationWarning: This function will be removed in tqdm==5.0.0\n",
      "Please use `tqdm.notebook.tqdm` instead of `tqdm.tqdm_notebook`\n",
      "  # Remove the CWD from sys.path while we load stuff.\n"
     ]
    },
    {
     "data": {
      "application/vnd.jupyter.widget-view+json": {
       "model_id": "ce07df23c2754e6b85774fa96e93150f",
       "version_major": 2,
       "version_minor": 0
      },
      "text/plain": [
       "  0%|          | 0/6 [00:00<?, ?it/s]"
      ]
     },
     "metadata": {},
     "output_type": "display_data"
    }
   ],
   "source": [
    "valid_data_dict = {\n",
    "    \"bo\": pd.read_csv(f\"{save_path}/r2_bo_valid_statements.csv\"),\n",
    "    \"lu\": pd.read_csv(f\"{save_path}/r2_lu_valid_statements.csv\"),\n",
    "    \"co\": pd.read_csv(f\"{save_path}/r2_co_valid_statements.csv\"),\n",
    "    \"cl\": pd.read_csv(f\"{save_path}/r2_cl_valid_statements.csv\"),\n",
    "    \"gl\": pd.read_csv(f\"{save_path}/r2_gl_valid_statements.csv\"),\n",
    "    \"ig\": pd.read_csv(f\"{save_path}/r2_ig_valid_statements.csv\"),\n",
    "}\n",
    "\n",
    "for topic in tqdm_notebook(train_data_dict.keys()):\n",
    "    other_data = pd.concat([data_ for topic_, data_ in train_data_dict.items() if topic_ != topic])    \n",
    "    other_data.to_csv(f\"{save_path}/final_{topic}_valid.csv\", index=False)"
   ]
  },
  {
   "cell_type": "markdown",
   "id": "c9dc36d6",
   "metadata": {},
   "source": [
    "## Test"
   ]
  },
  {
   "cell_type": "code",
   "execution_count": 7,
   "id": "00f9aff8",
   "metadata": {
    "ExecuteTime": {
     "end_time": "2022-04-19T02:54:19.400903Z",
     "start_time": "2022-04-19T02:54:18.991044Z"
    }
   },
   "outputs": [
    {
     "name": "stderr",
     "output_type": "stream",
     "text": [
      "D:\\Anaconda3\\envs\\stance_tf2.2\\lib\\site-packages\\ipykernel_launcher.py:10: TqdmDeprecationWarning: This function will be removed in tqdm==5.0.0\n",
      "Please use `tqdm.notebook.tqdm` instead of `tqdm.tqdm_notebook`\n",
      "  # Remove the CWD from sys.path while we load stuff.\n"
     ]
    },
    {
     "data": {
      "application/vnd.jupyter.widget-view+json": {
       "model_id": "18a9973ba20a4e14a7154e027a11fe58",
       "version_major": 2,
       "version_minor": 0
      },
      "text/plain": [
       "  0%|          | 0/6 [00:00<?, ?it/s]"
      ]
     },
     "metadata": {},
     "output_type": "display_data"
    }
   ],
   "source": [
    "test_data_dict = {\n",
    "    \"bo\": pd.read_csv(f\"{save_path}/r2_bo_valid_statements.csv\"),\n",
    "    \"lu\": pd.read_csv(f\"{save_path}/r2_lu_valid_statements.csv\"),\n",
    "    \"co\": pd.read_csv(f\"{save_path}/r2_co_valid_statements.csv\"),\n",
    "    \"cl\": pd.read_csv(f\"{save_path}/r2_cl_valid_statements.csv\"),\n",
    "    \"gl\": pd.read_csv(f\"{save_path}/r2_gl_valid_statements.csv\"),\n",
    "    \"ig\": pd.read_csv(f\"{save_path}/r2_ig_valid_statements.csv\"),\n",
    "}\n",
    "\n",
    "for topic in tqdm_notebook(train_data_dict.keys()):\n",
    "    topic_data = train_data_dict[topic]\n",
    "    topic_data.to_csv(f\"{save_path}/final_{topic}_test.csv\", index=False)"
   ]
  },
  {
   "cell_type": "code",
   "execution_count": 6,
   "id": "30b0be84",
   "metadata": {
    "ExecuteTime": {
     "end_time": "2022-04-19T02:42:18.976659Z",
     "start_time": "2022-04-19T02:42:18.963694Z"
    }
   },
   "outputs": [],
   "source": [
    "# valid_data_dict = {\n",
    "#     \"bo\": pd.read_csv(f\"{save_path}/r2_bo_valid_statements.csv\"),\n",
    "#     \"lu\": pd.read_csv(f\"{save_path}/r2_lu_valid_statements.csv\"),\n",
    "#     \"co\": pd.read_csv(f\"{save_path}/r2_co_valid_statements.csv\"),\n",
    "#     \"cl\": pd.read_csv(f\"{save_path}/r2_cl_valid_statements.csv\"),\n",
    "#     \"gl\": pd.read_csv(f\"{save_path}/r2_gl_valid_statements.csv\"),\n",
    "#     \"ig\": pd.read_csv(f\"{save_path}/r2_ig_valid_statements.csv\"),\n",
    "# }\n",
    "\n",
    "# for file in tqdm_notebook(glob(f\"{save_path}/*train*.csv\")):\n",
    "#     topic = file.split(\"\\\\\")[-1].split(\"_\")[1]\n",
    "\n",
    "#     train_data = pd.read_csv(file)\n",
    "#     valid_data = pd.concat([data_ for topic_, data_ in valid_data_dict.items() if topic_ != topic])\n",
    "# #     valid_data = pd.read_csv(file.replace(\"train\", \"valid\").replace(topic, topic_pair_dict[topic]))\n",
    "    \n",
    "#     valid_data[\"label\"] = 2\n",
    "#     valid_data[\"seen?\"] = 0\n",
    "    \n",
    "#     train_data = train_data.append(valid_data)\n",
    "#     train_data.to_csv(file, index=False)"
   ]
  },
  {
   "cell_type": "code",
   "execution_count": 7,
   "id": "381739b6",
   "metadata": {
    "ExecuteTime": {
     "end_time": "2022-04-19T02:42:20.409970Z",
     "start_time": "2022-04-19T02:42:20.393016Z"
    }
   },
   "outputs": [
    {
     "data": {
      "text/plain": [
       "[\"bolsonaro\"]     5648\n",
       "[\"lula\"]          4992\n",
       "[\"cloroquina\"]    4796\n",
       "[\"coronavac\"]     4783\n",
       "[\"igreja\"]        4281\n",
       "[\"globo\"]         3607\n",
       "Name: topic, dtype: int64"
      ]
     },
     "execution_count": 7,
     "metadata": {},
     "output_type": "execute_result"
    }
   ],
   "source": [
    "train_data.topic.value_counts()"
   ]
  },
  {
   "cell_type": "code",
   "execution_count": 9,
   "id": "605a3234",
   "metadata": {
    "ExecuteTime": {
     "end_time": "2022-04-19T02:42:26.630732Z",
     "start_time": "2022-04-19T02:42:26.585314Z"
    }
   },
   "outputs": [
    {
     "data": {
      "text/plain": [
       "[\"climate\", \"change\", \"is\", \"a\", \"real\", \"concern\"]    1899\n",
       "[\"hillary\", \"clinton\"]                                  837\n",
       "[\"feminist\", \"movement\"]                                807\n",
       "[\"legalization\", \"of\", \"abortion\"]                      794\n",
       "[\"atheism\"]                                             624\n",
       "[\"donald\", \"trump\"]                                     601\n",
       "Name: topic, dtype: int64"
      ]
     },
     "execution_count": 9,
     "metadata": {},
     "output_type": "execute_result"
    }
   ],
   "source": [
    "pd.read_csv(\"./src/data/twitter_data_naacl/twitter_testCC_seenval/train.csv\").topic.value_counts()"
   ]
  },
  {
   "cell_type": "code",
   "execution_count": null,
   "id": "0e0bb1b9",
   "metadata": {},
   "outputs": [],
   "source": []
  }
 ],
 "metadata": {
  "kernelspec": {
   "display_name": "Python [conda env:stance_tf2.2]",
   "language": "python",
   "name": "conda-env-stance_tf2.2-py"
  },
  "language_info": {
   "codemirror_mode": {
    "name": "ipython",
    "version": 3
   },
   "file_extension": ".py",
   "mimetype": "text/x-python",
   "name": "python",
   "nbconvert_exporter": "python",
   "pygments_lexer": "ipython3",
   "version": "3.7.10"
  },
  "toc": {
   "base_numbering": 1,
   "nav_menu": {},
   "number_sections": true,
   "sideBar": true,
   "skip_h1_title": false,
   "title_cell": "Table of Contents",
   "title_sidebar": "Contents",
   "toc_cell": false,
   "toc_position": {
    "height": "calc(100% - 180px)",
    "left": "10px",
    "top": "150px",
    "width": "429.482px"
   },
   "toc_section_display": true,
   "toc_window_display": true
  }
 },
 "nbformat": 4,
 "nbformat_minor": 5
}
